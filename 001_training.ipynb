{
 "cells": [
  {
   "cell_type": "markdown",
   "metadata": {},
   "source": [
    "# Regression analysis and training"
   ]
  },
  {
   "cell_type": "code",
   "execution_count": 1,
   "metadata": {},
   "outputs": [
    {
     "name": "stdout",
     "output_type": "stream",
     "text": [
      "Executables being used: /opt/elastix-5.1.0-linux/bin/elastix /opt/elastix-5.1.0-linux/bin/transformix\n"
     ]
    },
    {
     "data": {
      "text/html": [
       "<style>\n",
       "        .bk-notebook-logo {\n",
       "            display: block;\n",
       "            width: 20px;\n",
       "            height: 20px;\n",
       "            background-image: url(data:image/png;base64,iVBORw0KGgoAAAANSUhEUgAAABQAAAAUCAYAAACNiR0NAAAABHNCSVQICAgIfAhkiAAAAAlwSFlzAAALEgAACxIB0t1+/AAAABx0RVh0U29mdHdhcmUAQWRvYmUgRmlyZXdvcmtzIENTNui8sowAAAOkSURBVDiNjZRtaJVlGMd/1/08zzln5zjP1LWcU9N0NkN8m2CYjpgQYQXqSs0I84OLIC0hkEKoPtiH3gmKoiJDU7QpLgoLjLIQCpEsNJ1vqUOdO7ppbuec5+V+rj4ctwzd8IIbbi6u+8f1539dt3A78eXC7QizUF7gyV1fD1Yqg4JWz84yffhm0qkFqBogB9rM8tZdtwVsPUhWhGcFJngGeWrPzHm5oaMmkfEg1usvLFyc8jLRqDOMru7AyC8saQr7GG7f5fvDeH7Ej8CM66nIF+8yngt6HWaKh7k49Soy9nXurCi1o3qUbS3zWfrYeQDTB/Qj6kX6Ybhw4B+bOYoLKCC9H3Nu/leUTZ1JdRWkkn2ldcCamzrcf47KKXdAJllSlxAOkRgyHsGC/zRday5Qld9DyoM4/q/rUoy/CXh3jzOu3bHUVZeU+DEn8FInkPBFlu3+nW3Nw0mk6vCDiWg8CeJaxEwuHS3+z5RgY+YBR6V1Z1nxSOfoaPa4LASWxxdNp+VWTk7+4vzaou8v8PN+xo+KY2xsw6une2frhw05CTYOmQvsEhjhWjn0bmXPjpE1+kplmmkP3suftwTubK9Vq22qKmrBhpY4jvd5afdRA3wGjFAgcnTK2s4hY0/GPNIb0nErGMCRxWOOX64Z8RAC4oCXdklmEvcL8o0BfkNK4lUg9HTl+oPlQxdNo3Mg4Nv175e/1LDGzZen30MEjRUtmXSfiTVu1kK8W4txyV6BMKlbgk3lMwYCiusNy9fVfvvwMxv8Ynl6vxoByANLTWplvuj/nF9m2+PDtt1eiHPBr1oIfhCChQMBw6Aw0UulqTKZdfVvfG7VcfIqLG9bcldL/+pdWTLxLUy8Qq38heUIjh4XlzZxzQm19lLFlr8vdQ97rjZVOLf8nclzckbcD4wxXMidpX30sFd37Fv/GtwwhzhxGVAprjbg0gCAEeIgwCZyTV2Z1REEW8O4py0wsjeloKoMr6iCY6dP92H6Vw/oTyICIthibxjm/DfN9lVz8IqtqKYLUXfoKVMVQVVJOElGjrnnUt9T9wbgp8AyYKaGlqingHZU/uG2NTZSVqwHQTWkx9hxjkpWDaCg6Ckj5qebgBVbT3V3NNXMSiWSDdGV3hrtzla7J+duwPOToIg42ChPQOQjspnSlp1V+Gjdged7+8UN5CRAV7a5EdFNwCjEaBR27b3W890TE7g24NAP/mMDXRWrGoFPQI9ls/MWO2dWFAar/xcOIImbbpA3zgAAAABJRU5ErkJggg==);\n",
       "        }\n",
       "    </style>\n",
       "    <div>\n",
       "        <a href=\"https://bokeh.org\" target=\"_blank\" class=\"bk-notebook-logo\"></a>\n",
       "        <span id=\"e7f17315-3eac-4a1d-9d56-9523784f50d9\">Loading BokehJS ...</span>\n",
       "    </div>\n"
      ]
     },
     "metadata": {},
     "output_type": "display_data"
    },
    {
     "data": {
      "application/javascript": [
       "(function(root) {\n",
       "  function now() {\n",
       "    return new Date();\n",
       "  }\n",
       "\n",
       "  const force = true;\n",
       "\n",
       "  if (typeof root._bokeh_onload_callbacks === \"undefined\" || force === true) {\n",
       "    root._bokeh_onload_callbacks = [];\n",
       "    root._bokeh_is_loading = undefined;\n",
       "  }\n",
       "\n",
       "const JS_MIME_TYPE = 'application/javascript';\n",
       "  const HTML_MIME_TYPE = 'text/html';\n",
       "  const EXEC_MIME_TYPE = 'application/vnd.bokehjs_exec.v0+json';\n",
       "  const CLASS_NAME = 'output_bokeh rendered_html';\n",
       "\n",
       "  /**\n",
       "   * Render data to the DOM node\n",
       "   */\n",
       "  function render(props, node) {\n",
       "    const script = document.createElement(\"script\");\n",
       "    node.appendChild(script);\n",
       "  }\n",
       "\n",
       "  /**\n",
       "   * Handle when an output is cleared or removed\n",
       "   */\n",
       "  function handleClearOutput(event, handle) {\n",
       "    function drop(id) {\n",
       "      const view = Bokeh.index.get_by_id(id)\n",
       "      if (view != null) {\n",
       "        view.model.document.clear()\n",
       "        Bokeh.index.delete(view)\n",
       "      }\n",
       "    }\n",
       "\n",
       "    const cell = handle.cell;\n",
       "\n",
       "    const id = cell.output_area._bokeh_element_id;\n",
       "    const server_id = cell.output_area._bokeh_server_id;\n",
       "\n",
       "    // Clean up Bokeh references\n",
       "    if (id != null) {\n",
       "      drop(id)\n",
       "    }\n",
       "\n",
       "    if (server_id !== undefined) {\n",
       "      // Clean up Bokeh references\n",
       "      const cmd_clean = \"from bokeh.io.state import curstate; print(curstate().uuid_to_server['\" + server_id + \"'].get_sessions()[0].document.roots[0]._id)\";\n",
       "      cell.notebook.kernel.execute(cmd_clean, {\n",
       "        iopub: {\n",
       "          output: function(msg) {\n",
       "            const id = msg.content.text.trim()\n",
       "            drop(id)\n",
       "          }\n",
       "        }\n",
       "      });\n",
       "      // Destroy server and session\n",
       "      const cmd_destroy = \"import bokeh.io.notebook as ion; ion.destroy_server('\" + server_id + \"')\";\n",
       "      cell.notebook.kernel.execute(cmd_destroy);\n",
       "    }\n",
       "  }\n",
       "\n",
       "  /**\n",
       "   * Handle when a new output is added\n",
       "   */\n",
       "  function handleAddOutput(event, handle) {\n",
       "    const output_area = handle.output_area;\n",
       "    const output = handle.output;\n",
       "\n",
       "    // limit handleAddOutput to display_data with EXEC_MIME_TYPE content only\n",
       "    if ((output.output_type != \"display_data\") || (!Object.prototype.hasOwnProperty.call(output.data, EXEC_MIME_TYPE))) {\n",
       "      return\n",
       "    }\n",
       "\n",
       "    const toinsert = output_area.element.find(\".\" + CLASS_NAME.split(' ')[0]);\n",
       "\n",
       "    if (output.metadata[EXEC_MIME_TYPE][\"id\"] !== undefined) {\n",
       "      toinsert[toinsert.length - 1].firstChild.textContent = output.data[JS_MIME_TYPE];\n",
       "      // store reference to embed id on output_area\n",
       "      output_area._bokeh_element_id = output.metadata[EXEC_MIME_TYPE][\"id\"];\n",
       "    }\n",
       "    if (output.metadata[EXEC_MIME_TYPE][\"server_id\"] !== undefined) {\n",
       "      const bk_div = document.createElement(\"div\");\n",
       "      bk_div.innerHTML = output.data[HTML_MIME_TYPE];\n",
       "      const script_attrs = bk_div.children[0].attributes;\n",
       "      for (let i = 0; i < script_attrs.length; i++) {\n",
       "        toinsert[toinsert.length - 1].firstChild.setAttribute(script_attrs[i].name, script_attrs[i].value);\n",
       "        toinsert[toinsert.length - 1].firstChild.textContent = bk_div.children[0].textContent\n",
       "      }\n",
       "      // store reference to server id on output_area\n",
       "      output_area._bokeh_server_id = output.metadata[EXEC_MIME_TYPE][\"server_id\"];\n",
       "    }\n",
       "  }\n",
       "\n",
       "  function register_renderer(events, OutputArea) {\n",
       "\n",
       "    function append_mime(data, metadata, element) {\n",
       "      // create a DOM node to render to\n",
       "      const toinsert = this.create_output_subarea(\n",
       "        metadata,\n",
       "        CLASS_NAME,\n",
       "        EXEC_MIME_TYPE\n",
       "      );\n",
       "      this.keyboard_manager.register_events(toinsert);\n",
       "      // Render to node\n",
       "      const props = {data: data, metadata: metadata[EXEC_MIME_TYPE]};\n",
       "      render(props, toinsert[toinsert.length - 1]);\n",
       "      element.append(toinsert);\n",
       "      return toinsert\n",
       "    }\n",
       "\n",
       "    /* Handle when an output is cleared or removed */\n",
       "    events.on('clear_output.CodeCell', handleClearOutput);\n",
       "    events.on('delete.Cell', handleClearOutput);\n",
       "\n",
       "    /* Handle when a new output is added */\n",
       "    events.on('output_added.OutputArea', handleAddOutput);\n",
       "\n",
       "    /**\n",
       "     * Register the mime type and append_mime function with output_area\n",
       "     */\n",
       "    OutputArea.prototype.register_mime_type(EXEC_MIME_TYPE, append_mime, {\n",
       "      /* Is output safe? */\n",
       "      safe: true,\n",
       "      /* Index of renderer in `output_area.display_order` */\n",
       "      index: 0\n",
       "    });\n",
       "  }\n",
       "\n",
       "  // register the mime type if in Jupyter Notebook environment and previously unregistered\n",
       "  if (root.Jupyter !== undefined) {\n",
       "    const events = require('base/js/events');\n",
       "    const OutputArea = require('notebook/js/outputarea').OutputArea;\n",
       "\n",
       "    if (OutputArea.prototype.mime_types().indexOf(EXEC_MIME_TYPE) == -1) {\n",
       "      register_renderer(events, OutputArea);\n",
       "    }\n",
       "  }\n",
       "  if (typeof (root._bokeh_timeout) === \"undefined\" || force === true) {\n",
       "    root._bokeh_timeout = Date.now() + 5000;\n",
       "    root._bokeh_failed_load = false;\n",
       "  }\n",
       "\n",
       "  const NB_LOAD_WARNING = {'data': {'text/html':\n",
       "     \"<div style='background-color: #fdd'>\\n\"+\n",
       "     \"<p>\\n\"+\n",
       "     \"BokehJS does not appear to have successfully loaded. If loading BokehJS from CDN, this \\n\"+\n",
       "     \"may be due to a slow or bad network connection. Possible fixes:\\n\"+\n",
       "     \"</p>\\n\"+\n",
       "     \"<ul>\\n\"+\n",
       "     \"<li>re-rerun `output_notebook()` to attempt to load from CDN again, or</li>\\n\"+\n",
       "     \"<li>use INLINE resources instead, as so:</li>\\n\"+\n",
       "     \"</ul>\\n\"+\n",
       "     \"<code>\\n\"+\n",
       "     \"from bokeh.resources import INLINE\\n\"+\n",
       "     \"output_notebook(resources=INLINE)\\n\"+\n",
       "     \"</code>\\n\"+\n",
       "     \"</div>\"}};\n",
       "\n",
       "  function display_loaded() {\n",
       "    const el = document.getElementById(\"e7f17315-3eac-4a1d-9d56-9523784f50d9\");\n",
       "    if (el != null) {\n",
       "      el.textContent = \"BokehJS is loading...\";\n",
       "    }\n",
       "    if (root.Bokeh !== undefined) {\n",
       "      if (el != null) {\n",
       "        el.textContent = \"BokehJS \" + root.Bokeh.version + \" successfully loaded.\";\n",
       "      }\n",
       "    } else if (Date.now() < root._bokeh_timeout) {\n",
       "      setTimeout(display_loaded, 100)\n",
       "    }\n",
       "  }\n",
       "\n",
       "  function run_callbacks() {\n",
       "    try {\n",
       "      root._bokeh_onload_callbacks.forEach(function(callback) {\n",
       "        if (callback != null)\n",
       "          callback();\n",
       "      });\n",
       "    } finally {\n",
       "      delete root._bokeh_onload_callbacks\n",
       "    }\n",
       "    console.debug(\"Bokeh: all callbacks have finished\");\n",
       "  }\n",
       "\n",
       "  function load_libs(css_urls, js_urls, callback) {\n",
       "    if (css_urls == null) css_urls = [];\n",
       "    if (js_urls == null) js_urls = [];\n",
       "\n",
       "    root._bokeh_onload_callbacks.push(callback);\n",
       "    if (root._bokeh_is_loading > 0) {\n",
       "      console.debug(\"Bokeh: BokehJS is being loaded, scheduling callback at\", now());\n",
       "      return null;\n",
       "    }\n",
       "    if (js_urls == null || js_urls.length === 0) {\n",
       "      run_callbacks();\n",
       "      return null;\n",
       "    }\n",
       "    console.debug(\"Bokeh: BokehJS not loaded, scheduling load and callback at\", now());\n",
       "    root._bokeh_is_loading = css_urls.length + js_urls.length;\n",
       "\n",
       "    function on_load() {\n",
       "      root._bokeh_is_loading--;\n",
       "      if (root._bokeh_is_loading === 0) {\n",
       "        console.debug(\"Bokeh: all BokehJS libraries/stylesheets loaded\");\n",
       "        run_callbacks()\n",
       "      }\n",
       "    }\n",
       "\n",
       "    function on_error(url) {\n",
       "      console.error(\"failed to load \" + url);\n",
       "    }\n",
       "\n",
       "    for (let i = 0; i < css_urls.length; i++) {\n",
       "      const url = css_urls[i];\n",
       "      const element = document.createElement(\"link\");\n",
       "      element.onload = on_load;\n",
       "      element.onerror = on_error.bind(null, url);\n",
       "      element.rel = \"stylesheet\";\n",
       "      element.type = \"text/css\";\n",
       "      element.href = url;\n",
       "      console.debug(\"Bokeh: injecting link tag for BokehJS stylesheet: \", url);\n",
       "      document.body.appendChild(element);\n",
       "    }\n",
       "\n",
       "    for (let i = 0; i < js_urls.length; i++) {\n",
       "      const url = js_urls[i];\n",
       "      const element = document.createElement('script');\n",
       "      element.onload = on_load;\n",
       "      element.onerror = on_error.bind(null, url);\n",
       "      element.async = false;\n",
       "      element.src = url;\n",
       "      console.debug(\"Bokeh: injecting script tag for BokehJS library: \", url);\n",
       "      document.head.appendChild(element);\n",
       "    }\n",
       "  };\n",
       "\n",
       "  function inject_raw_css(css) {\n",
       "    const element = document.createElement(\"style\");\n",
       "    element.appendChild(document.createTextNode(css));\n",
       "    document.body.appendChild(element);\n",
       "  }\n",
       "\n",
       "  const js_urls = [\"https://cdn.bokeh.org/bokeh/release/bokeh-3.3.0.min.js\", \"https://cdn.bokeh.org/bokeh/release/bokeh-gl-3.3.0.min.js\", \"https://cdn.bokeh.org/bokeh/release/bokeh-widgets-3.3.0.min.js\", \"https://cdn.bokeh.org/bokeh/release/bokeh-tables-3.3.0.min.js\", \"https://cdn.bokeh.org/bokeh/release/bokeh-mathjax-3.3.0.min.js\"];\n",
       "  const css_urls = [];\n",
       "\n",
       "  const inline_js = [    function(Bokeh) {\n",
       "      Bokeh.set_log_level(\"info\");\n",
       "    },\n",
       "function(Bokeh) {\n",
       "    }\n",
       "  ];\n",
       "\n",
       "  function run_inline_js() {\n",
       "    if (root.Bokeh !== undefined || force === true) {\n",
       "          for (let i = 0; i < inline_js.length; i++) {\n",
       "      inline_js[i].call(root, root.Bokeh);\n",
       "    }\n",
       "if (force === true) {\n",
       "        display_loaded();\n",
       "      }} else if (Date.now() < root._bokeh_timeout) {\n",
       "      setTimeout(run_inline_js, 100);\n",
       "    } else if (!root._bokeh_failed_load) {\n",
       "      console.log(\"Bokeh: BokehJS failed to load within specified timeout.\");\n",
       "      root._bokeh_failed_load = true;\n",
       "    } else if (force !== true) {\n",
       "      const cell = $(document.getElementById(\"e7f17315-3eac-4a1d-9d56-9523784f50d9\")).parents('.cell').data().cell;\n",
       "      cell.output_area.append_execute_result(NB_LOAD_WARNING)\n",
       "    }\n",
       "  }\n",
       "\n",
       "  if (root._bokeh_is_loading === 0) {\n",
       "    console.debug(\"Bokeh: BokehJS loaded, going straight to plotting\");\n",
       "    run_inline_js();\n",
       "  } else {\n",
       "    load_libs(css_urls, js_urls, function() {\n",
       "      console.debug(\"Bokeh: BokehJS plotting callback run at\", now());\n",
       "      run_inline_js();\n",
       "    });\n",
       "  }\n",
       "}(window));"
      ],
      "application/vnd.bokehjs_load.v0+json": "(function(root) {\n  function now() {\n    return new Date();\n  }\n\n  const force = true;\n\n  if (typeof root._bokeh_onload_callbacks === \"undefined\" || force === true) {\n    root._bokeh_onload_callbacks = [];\n    root._bokeh_is_loading = undefined;\n  }\n\n\n  if (typeof (root._bokeh_timeout) === \"undefined\" || force === true) {\n    root._bokeh_timeout = Date.now() + 5000;\n    root._bokeh_failed_load = false;\n  }\n\n  const NB_LOAD_WARNING = {'data': {'text/html':\n     \"<div style='background-color: #fdd'>\\n\"+\n     \"<p>\\n\"+\n     \"BokehJS does not appear to have successfully loaded. If loading BokehJS from CDN, this \\n\"+\n     \"may be due to a slow or bad network connection. Possible fixes:\\n\"+\n     \"</p>\\n\"+\n     \"<ul>\\n\"+\n     \"<li>re-rerun `output_notebook()` to attempt to load from CDN again, or</li>\\n\"+\n     \"<li>use INLINE resources instead, as so:</li>\\n\"+\n     \"</ul>\\n\"+\n     \"<code>\\n\"+\n     \"from bokeh.resources import INLINE\\n\"+\n     \"output_notebook(resources=INLINE)\\n\"+\n     \"</code>\\n\"+\n     \"</div>\"}};\n\n  function display_loaded() {\n    const el = document.getElementById(\"e7f17315-3eac-4a1d-9d56-9523784f50d9\");\n    if (el != null) {\n      el.textContent = \"BokehJS is loading...\";\n    }\n    if (root.Bokeh !== undefined) {\n      if (el != null) {\n        el.textContent = \"BokehJS \" + root.Bokeh.version + \" successfully loaded.\";\n      }\n    } else if (Date.now() < root._bokeh_timeout) {\n      setTimeout(display_loaded, 100)\n    }\n  }\n\n  function run_callbacks() {\n    try {\n      root._bokeh_onload_callbacks.forEach(function(callback) {\n        if (callback != null)\n          callback();\n      });\n    } finally {\n      delete root._bokeh_onload_callbacks\n    }\n    console.debug(\"Bokeh: all callbacks have finished\");\n  }\n\n  function load_libs(css_urls, js_urls, callback) {\n    if (css_urls == null) css_urls = [];\n    if (js_urls == null) js_urls = [];\n\n    root._bokeh_onload_callbacks.push(callback);\n    if (root._bokeh_is_loading > 0) {\n      console.debug(\"Bokeh: BokehJS is being loaded, scheduling callback at\", now());\n      return null;\n    }\n    if (js_urls == null || js_urls.length === 0) {\n      run_callbacks();\n      return null;\n    }\n    console.debug(\"Bokeh: BokehJS not loaded, scheduling load and callback at\", now());\n    root._bokeh_is_loading = css_urls.length + js_urls.length;\n\n    function on_load() {\n      root._bokeh_is_loading--;\n      if (root._bokeh_is_loading === 0) {\n        console.debug(\"Bokeh: all BokehJS libraries/stylesheets loaded\");\n        run_callbacks()\n      }\n    }\n\n    function on_error(url) {\n      console.error(\"failed to load \" + url);\n    }\n\n    for (let i = 0; i < css_urls.length; i++) {\n      const url = css_urls[i];\n      const element = document.createElement(\"link\");\n      element.onload = on_load;\n      element.onerror = on_error.bind(null, url);\n      element.rel = \"stylesheet\";\n      element.type = \"text/css\";\n      element.href = url;\n      console.debug(\"Bokeh: injecting link tag for BokehJS stylesheet: \", url);\n      document.body.appendChild(element);\n    }\n\n    for (let i = 0; i < js_urls.length; i++) {\n      const url = js_urls[i];\n      const element = document.createElement('script');\n      element.onload = on_load;\n      element.onerror = on_error.bind(null, url);\n      element.async = false;\n      element.src = url;\n      console.debug(\"Bokeh: injecting script tag for BokehJS library: \", url);\n      document.head.appendChild(element);\n    }\n  };\n\n  function inject_raw_css(css) {\n    const element = document.createElement(\"style\");\n    element.appendChild(document.createTextNode(css));\n    document.body.appendChild(element);\n  }\n\n  const js_urls = [\"https://cdn.bokeh.org/bokeh/release/bokeh-3.3.0.min.js\", \"https://cdn.bokeh.org/bokeh/release/bokeh-gl-3.3.0.min.js\", \"https://cdn.bokeh.org/bokeh/release/bokeh-widgets-3.3.0.min.js\", \"https://cdn.bokeh.org/bokeh/release/bokeh-tables-3.3.0.min.js\", \"https://cdn.bokeh.org/bokeh/release/bokeh-mathjax-3.3.0.min.js\"];\n  const css_urls = [];\n\n  const inline_js = [    function(Bokeh) {\n      Bokeh.set_log_level(\"info\");\n    },\nfunction(Bokeh) {\n    }\n  ];\n\n  function run_inline_js() {\n    if (root.Bokeh !== undefined || force === true) {\n          for (let i = 0; i < inline_js.length; i++) {\n      inline_js[i].call(root, root.Bokeh);\n    }\nif (force === true) {\n        display_loaded();\n      }} else if (Date.now() < root._bokeh_timeout) {\n      setTimeout(run_inline_js, 100);\n    } else if (!root._bokeh_failed_load) {\n      console.log(\"Bokeh: BokehJS failed to load within specified timeout.\");\n      root._bokeh_failed_load = true;\n    } else if (force !== true) {\n      const cell = $(document.getElementById(\"e7f17315-3eac-4a1d-9d56-9523784f50d9\")).parents('.cell').data().cell;\n      cell.output_area.append_execute_result(NB_LOAD_WARNING)\n    }\n  }\n\n  if (root._bokeh_is_loading === 0) {\n    console.debug(\"Bokeh: BokehJS loaded, going straight to plotting\");\n    run_inline_js();\n  } else {\n    load_libs(css_urls, js_urls, function() {\n      console.debug(\"Bokeh: BokehJS plotting callback run at\", now());\n      run_inline_js();\n    });\n  }\n}(window));"
     },
     "metadata": {},
     "output_type": "display_data"
    }
   ],
   "source": [
    "import glob\n",
    "import os\n",
    "import os.path\n",
    "import numpy as np\n",
    "import pandas as pd\n",
    "import pickle\n",
    "import matplotlib.pyplot as plt\n",
    "import logging\n",
    "from sklearn.preprocessing import StandardScaler\n",
    "from bokeh.io import output_notebook, show\n",
    "from bokeh.plotting import figure\n",
    "from bokeh.models.annotations import Title\n",
    "from maweight import model_selection\n",
    "from config import elastix_params\n",
    "import pickle\n",
    "output_notebook()\n",
    "\n",
    "from config import thigh_features_path, breast_features_path, xls_path, path_prefix_results\n",
    "\n",
    "import warnings\n",
    "warnings.filterwarnings('ignore')\n",
    "\n",
    "# setting the logging format\n",
    "FORMAT = '%(asctime)-15s %(clientip)s %(user)-8s %(message)s'\n",
    "logging.basicConfig(format=FORMAT, level=logging.INFO)"
   ]
  },
  {
   "cell_type": "markdown",
   "metadata": {},
   "source": [
    "## Constructing the training dataframe"
   ]
  },
  {
   "cell_type": "code",
   "execution_count": 2,
   "metadata": {},
   "outputs": [],
   "source": [
    "# Reading the extracted features\n",
    "thigh_features= pd.read_csv(thigh_features_path)\n",
    "breast_features= pd.read_csv(breast_features_path)\n",
    "\n",
    "# Determining the ids and positions\n",
    "thigh_features['id']= thigh_features['filename'].apply(lambda x: x.split(os.sep)[-1]).apply(lambda x: x[:-7] if x.endswith(\".nii.gz\") else x[:-4]) \n",
    "breast_features['id']= breast_features['filename'].apply(lambda x: x.split(os.sep)[-1]).apply(lambda x: x[:-7] if x.endswith(\".nii.gz\") else x[:-4])\n",
    "\n",
    "# Reading the XLS data\n",
    "xls_data= pd.read_excel(xls_path, engine='openpyxl')\n",
    "\n",
    "# Extracting the ground truth data\n",
    "target= pd.DataFrame(data= {'ct_num': xls_data[u'CT_num'].astype(str).str.zfill(3),\n",
    "                               'pos': xls_data[u'position'].astype(str),\n",
    "                               'thigh': xls_data[u'thigh'].astype(float),\n",
    "                               'breast': xls_data[u'breast'].astype(float)})\n",
    "\n",
    "target['id']= target['ct_num'] + target['pos']\n",
    "target= target.sort_values('id')\n",
    "target= target.reset_index()\n",
    "\n",
    "# Merging the thigh features with the ground truth data\n",
    "thigh_target= target[['id', 'thigh', 'pos']]\n",
    "breast_target= target[['id', 'breast', 'pos']]\n",
    "\n",
    "thigh_data= pd.merge(thigh_features, thigh_target, how='inner', on='id').dropna()\n",
    "breast_data= pd.merge(breast_features, breast_target, how='inner', on='id').dropna()"
   ]
  },
  {
   "cell_type": "code",
   "execution_count": 3,
   "metadata": {
    "pycharm": {
     "name": "#%%\n"
    }
   },
   "outputs": [],
   "source": [
    "thigh_target= thigh_data['thigh']\n",
    "thigh_features= thigh_data.drop(['filename', 'id', 'thigh'], axis='columns')\n",
    "breast_target= breast_data['breast']\n",
    "breast_features= breast_data.drop(['filename', 'id', 'breast'], axis='columns')\n",
    "\n",
    "# encoding the positions\n",
    "thigh_features['pos']= thigh_features['pos'].apply(lambda x: {'a': 0, 'k': 1, 'f': 2}[x])\n",
    "breast_features['pos']= breast_features['pos'].apply(lambda x: {'a': 0, 'k': 1, 'f': 2}[x])"
   ]
  },
  {
   "cell_type": "markdown",
   "metadata": {},
   "source": [
    "## Model selection with feature selection"
   ]
  },
  {
   "cell_type": "code",
   "execution_count": 4,
   "metadata": {},
   "outputs": [],
   "source": [
    "masks= np.unique([c.split('-')[1] for c in thigh_features.columns if ('mean_mask' not in c and len(c) > 10) and len(c.split('-')[1]) == 4])"
   ]
  },
  {
   "cell_type": "code",
   "execution_count": 5,
   "metadata": {},
   "outputs": [
    {
     "data": {
      "text/plain": [
       "array(['074k', '075a', '075k', '077k', '079k', '080k', '082k', '083a',\n",
       "       '083k', '084a', '087f', '088f', '088k', '090a', '091f', '092k'],\n",
       "      dtype='<U4')"
      ]
     },
     "execution_count": 5,
     "metadata": {},
     "output_type": "execute_result"
    }
   ],
   "source": [
    "masks"
   ]
  },
  {
   "cell_type": "code",
   "execution_count": 6,
   "metadata": {},
   "outputs": [],
   "source": [
    "results= []\n",
    "results_no_fs= []\n",
    "\n",
    "thigh_target.to_csv(\"/datac3/scripts/github/chicken_ct_weights_test2/chicken_ct_weights/data/tigh_target.csv\", index=False)"
   ]
  },
  {
   "cell_type": "markdown",
   "metadata": {},
   "source": [
    "### thigh using all features"
   ]
  },
  {
   "cell_type": "code",
   "execution_count": 7,
   "metadata": {},
   "outputs": [
    {
     "name": "stdout",
     "output_type": "stream",
     "text": [
      "Objective KNNR_Objective:\n"
     ]
    },
    {
     "name": "stderr",
     "output_type": "stream",
     "text": [
      " 27%|██████████████████████████████████████████████████████████████████████████▋                                                                                                                                                                                                       | 2180/8000 [05:15<14:01,  6.92it/s]\n"
     ]
    },
    {
     "name": "stdout",
     "output_type": "stream",
     "text": [
      "iterations: 2180\n",
      "Number of used features: 40\n",
      "Used features: ['hist-7-074k-thigh.nii.gz-0.500000', 'mean-075k-thigh.nii.gz-0.500000', 'std-075k-thigh.nii.gz-0.500000', 'num-077k-thigh.nii.gz-0.500000', 'std-077k-thigh.nii.gz-0.500000', 'hist-0-077k-thigh.nii.gz-0.500000', 'hist-1-077k-thigh.nii.gz-0.500000', 'hist-15-077k-thigh.nii.gz-0.500000', 'hist-1-079k-thigh.nii.gz-0.500000', 'num-080k-thigh.nii.gz-0.500000', 'mean-080k-thigh.nii.gz-0.500000', 'hist-1-080k-thigh.nii.gz-0.500000', 'hist-3-080k-thigh.nii.gz-0.500000', 'hist-15-080k-thigh.nii.gz-0.500000', 'sum-082k-thigh.nii.gz-0.500000', 'mean-082k-thigh.nii.gz-0.500000', 'kurt-083a-thigh.nii.gz-0.500000', 'hist-1-083a-thigh.nii.gz-0.500000', 'hist-6-083a-thigh.nii.gz-0.500000', 'sum-083k-thigh.nii.gz-0.500000', 'kurt-083k-thigh.nii.gz-0.500000', 'hist-3-083k-thigh.nii.gz-0.500000', 'hist-5-083k-thigh.nii.gz-0.500000', 'hist-9-083k-thigh.nii.gz-0.500000', 'hist-13-083k-thigh.nii.gz-0.500000', 'hist-14-083k-thigh.nii.gz-0.500000', 'num-087f-thigh.nii.gz-0.500000', 'hist-0-087f-thigh.nii.gz-0.500000', 'hist-5-088f-thigh.nii.gz-0.500000', 'num-088k-thigh.nii.gz-0.500000', 'std-088k-thigh.nii.gz-0.500000', 'hist-1-088k-thigh.nii.gz-0.500000', 'hist-3-088k-thigh.nii.gz-0.500000', 'hist-18-088k-thigh.nii.gz-0.500000', 'num-090a-thigh.nii.gz-0.500000', 'kurt-090a-thigh.nii.gz-0.500000', 'std-091f-thigh.nii.gz-0.500000', 'hist-0-091f-thigh.nii.gz-0.500000', 'mean-092k-thigh.nii.gz-0.500000', 'num-0.500000-mean_mask'] \n",
      "Score: -0.6300710424901919\n"
     ]
    },
    {
     "name": "stderr",
     "output_type": "stream",
     "text": [
      "200it [00:00, 683.05it/s]\n"
     ]
    },
    {
     "name": "stdout",
     "output_type": "stream",
     "text": [
      "1\n",
      "1 0.6547964948403343\n",
      "Objective LinearRegression_Objective:\n"
     ]
    },
    {
     "name": "stderr",
     "output_type": "stream",
     "text": [
      " 13%|████████████████████████████████████                                                                                                                                                                                                                                              | 1054/8000 [01:55<12:38,  9.16it/s]\n"
     ]
    },
    {
     "name": "stdout",
     "output_type": "stream",
     "text": [
      "iterations: 1054\n",
      "Number of used features: 12\n",
      "Used features: ['num-074k-thigh.nii.gz-0.500000', 'hist-3-075k-thigh.nii.gz-0.500000', 'hist-13-077k-thigh.nii.gz-0.500000', 'hist-0-080k-thigh.nii.gz-0.500000', 'hist-3-082k-thigh.nii.gz-0.500000', 'std-083a-thigh.nii.gz-0.500000', 'hist-1-083a-thigh.nii.gz-0.500000', 'hist-17-083a-thigh.nii.gz-0.500000', 'kurt-083k-thigh.nii.gz-0.500000', 'num-084a-thigh.nii.gz-0.500000', 'hist-3-090a-thigh.nii.gz-0.500000', 'num-0.500000-mean_mask'] \n",
      "Score: -0.7399378545995465\n"
     ]
    },
    {
     "name": "stderr",
     "output_type": "stream",
     "text": [
      "200it [00:00, 781.21it/s]\n"
     ]
    },
    {
     "name": "stdout",
     "output_type": "stream",
     "text": [
      "1\n",
      "1 0.7551611104487128\n",
      "Objective LassoRegression_Objective:\n"
     ]
    },
    {
     "name": "stderr",
     "output_type": "stream",
     "text": [
      " 77%|██████████████████████████████████████████████████████████████████████████████████████████████████████████████████████████████████████████████████████████████████████████████████████████████████████████████████▏                                                               | 6137/8000 [22:46<06:54,  4.49it/s]\n"
     ]
    },
    {
     "name": "stdout",
     "output_type": "stream",
     "text": [
      "iterations: 6137\n",
      "Number of used features: 36\n",
      "Used features: ['num-074k-thigh.nii.gz-0.500000', 'kurt-074k-thigh.nii.gz-0.500000', 'num-075a-thigh.nii.gz-0.500000', 'hist-0-075a-thigh.nii.gz-0.500000', 'mean-075k-thigh.nii.gz-0.500000', 'hist-3-075k-thigh.nii.gz-0.500000', 'mean-077k-thigh.nii.gz-0.500000', 'num-080k-thigh.nii.gz-0.500000', 'kurt-080k-thigh.nii.gz-0.500000', 'hist-0-080k-thigh.nii.gz-0.500000', 'hist-3-082k-thigh.nii.gz-0.500000', 'hist-14-083a-thigh.nii.gz-0.500000', 'kurt-083k-thigh.nii.gz-0.500000', 'hist-11-083k-thigh.nii.gz-0.500000', 'hist-16-083k-thigh.nii.gz-0.500000', 'hist-17-083k-thigh.nii.gz-0.500000', 'num-084a-thigh.nii.gz-0.500000', 'mean-084a-thigh.nii.gz-0.500000', 'skew-084a-thigh.nii.gz-0.500000', 'std-087f-thigh.nii.gz-0.500000', 'hist-3-087f-thigh.nii.gz-0.500000', 'hist-11-087f-thigh.nii.gz-0.500000', 'hist-19-087f-thigh.nii.gz-0.500000', 'skew-088k-thigh.nii.gz-0.500000', 'kurt-088k-thigh.nii.gz-0.500000', 'std-090a-thigh.nii.gz-0.500000', 'hist-16-090a-thigh.nii.gz-0.500000', 'mean-091f-thigh.nii.gz-0.500000', 'hist-15-091f-thigh.nii.gz-0.500000', 'hist-16-091f-thigh.nii.gz-0.500000', 'hist-18-091f-thigh.nii.gz-0.500000', 'hist-0-092k-thigh.nii.gz-0.500000', 'hist-16-092k-thigh.nii.gz-0.500000', 'hist-18-092k-thigh.nii.gz-0.500000', 'kurt-0.500000-mean_mask', 'pos'] \n",
      "Score: -0.9603386754726568\n"
     ]
    },
    {
     "name": "stderr",
     "output_type": "stream",
     "text": [
      "200it [00:00, 271.37it/s]\n"
     ]
    },
    {
     "name": "stdout",
     "output_type": "stream",
     "text": [
      "1\n",
      "1 0.975610708040853\n",
      "Objective RidgeRegression_Objective:\n"
     ]
    },
    {
     "name": "stderr",
     "output_type": "stream",
     "text": [
      " 24%|██████████████████████████████████████████████████████████████████▉                                                                                                                                                                                                               | 1956/8000 [05:25<16:47,  6.00it/s]\n"
     ]
    },
    {
     "name": "stdout",
     "output_type": "stream",
     "text": [
      "iterations: 1956\n",
      "Number of used features: 45\n",
      "Used features: ['num-074k-thigh.nii.gz-0.500000', 'hist-3-074k-thigh.nii.gz-0.500000', 'hist-6-074k-thigh.nii.gz-0.500000', 'num-075a-thigh.nii.gz-0.500000', 'hist-1-075a-thigh.nii.gz-0.500000', 'hist-5-075a-thigh.nii.gz-0.500000', 'hist-6-075a-thigh.nii.gz-0.500000', 'std-075k-thigh.nii.gz-0.500000', 'hist-18-075k-thigh.nii.gz-0.500000', 'hist-19-075k-thigh.nii.gz-0.500000', 'hist-1-077k-thigh.nii.gz-0.500000', 'hist-6-077k-thigh.nii.gz-0.500000', 'hist-13-077k-thigh.nii.gz-0.500000', 'hist-15-077k-thigh.nii.gz-0.500000', 'hist-19-077k-thigh.nii.gz-0.500000', 'kurt-079k-thigh.nii.gz-0.500000', 'num-080k-thigh.nii.gz-0.500000', 'hist-11-080k-thigh.nii.gz-0.500000', 'hist-13-080k-thigh.nii.gz-0.500000', 'hist-14-080k-thigh.nii.gz-0.500000', 'hist-19-080k-thigh.nii.gz-0.500000', 'hist-0-082k-thigh.nii.gz-0.500000', 'hist-1-082k-thigh.nii.gz-0.500000', 'hist-12-082k-thigh.nii.gz-0.500000', 'hist-1-083a-thigh.nii.gz-0.500000', 'hist-8-083a-thigh.nii.gz-0.500000', 'hist-15-083a-thigh.nii.gz-0.500000', 'kurt-083k-thigh.nii.gz-0.500000', 'num-084a-thigh.nii.gz-0.500000', 'hist-12-084a-thigh.nii.gz-0.500000', 'hist-18-084a-thigh.nii.gz-0.500000', 'hist-12-087f-thigh.nii.gz-0.500000', 'hist-6-088f-thigh.nii.gz-0.500000', 'hist-11-088f-thigh.nii.gz-0.500000', 'hist-12-088k-thigh.nii.gz-0.500000', 'hist-14-088k-thigh.nii.gz-0.500000', 'hist-19-088k-thigh.nii.gz-0.500000', 'hist-1-090a-thigh.nii.gz-0.500000', 'num-091f-thigh.nii.gz-0.500000', 'hist-3-091f-thigh.nii.gz-0.500000', 'hist-10-091f-thigh.nii.gz-0.500000', 'hist-11-091f-thigh.nii.gz-0.500000', 'hist-3-092k-thigh.nii.gz-0.500000', 'std-0.500000-mean_mask', 'hist-6-0.500000-mean_mask'] \n",
      "Score: -0.9466336729504087\n"
     ]
    },
    {
     "name": "stderr",
     "output_type": "stream",
     "text": [
      "200it [00:00, 528.66it/s]\n"
     ]
    },
    {
     "name": "stdout",
     "output_type": "stream",
     "text": [
      "1\n",
      "1 0.9647355880469479\n",
      "Objective PLSRegression_Objective:\n"
     ]
    },
    {
     "name": "stderr",
     "output_type": "stream",
     "text": [
      "100%|██████████████████████████████████████████████████████████████████████████████████████████████████████████████████████████████████████████████████████████████████████████████████████████████████████████████████████████████████████████████████████████████████████████████████| 8000/8000 [25:53<00:00,  5.15it/s]\n"
     ]
    },
    {
     "name": "stdout",
     "output_type": "stream",
     "text": [
      "iterations: 7999\n",
      "Number of used features: 48\n",
      "Used features: ['num-074k-thigh.nii.gz-0.500000', 'hist-18-074k-thigh.nii.gz-0.500000', 'num-075a-thigh.nii.gz-0.500000', 'hist-4-075a-thigh.nii.gz-0.500000', 'hist-13-075a-thigh.nii.gz-0.500000', 'hist-15-075a-thigh.nii.gz-0.500000', 'hist-18-075a-thigh.nii.gz-0.500000', 'hist-1-075k-thigh.nii.gz-0.500000', 'hist-11-075k-thigh.nii.gz-0.500000', 'hist-15-077k-thigh.nii.gz-0.500000', 'hist-4-079k-thigh.nii.gz-0.500000', 'hist-13-079k-thigh.nii.gz-0.500000', 'num-080k-thigh.nii.gz-0.500000', 'hist-11-080k-thigh.nii.gz-0.500000', 'hist-13-080k-thigh.nii.gz-0.500000', 'hist-14-080k-thigh.nii.gz-0.500000', 'hist-15-080k-thigh.nii.gz-0.500000', 'hist-19-080k-thigh.nii.gz-0.500000', 'hist-0-082k-thigh.nii.gz-0.500000', 'hist-15-082k-thigh.nii.gz-0.500000', 'hist-16-082k-thigh.nii.gz-0.500000', 'hist-19-082k-thigh.nii.gz-0.500000', 'kurt-083a-thigh.nii.gz-0.500000', 'hist-4-083a-thigh.nii.gz-0.500000', 'hist-15-083a-thigh.nii.gz-0.500000', 'hist-16-083a-thigh.nii.gz-0.500000', 'hist-18-083a-thigh.nii.gz-0.500000', 'hist-10-083k-thigh.nii.gz-0.500000', 'hist-11-083k-thigh.nii.gz-0.500000', 'hist-12-083k-thigh.nii.gz-0.500000', 'hist-14-083k-thigh.nii.gz-0.500000', 'hist-0-084a-thigh.nii.gz-0.500000', 'hist-4-084a-thigh.nii.gz-0.500000', 'hist-0-087f-thigh.nii.gz-0.500000', 'hist-13-087f-thigh.nii.gz-0.500000', 'hist-14-087f-thigh.nii.gz-0.500000', 'hist-19-087f-thigh.nii.gz-0.500000', 'std-088f-thigh.nii.gz-0.500000', 'kurt-088f-thigh.nii.gz-0.500000', 'hist-0-088f-thigh.nii.gz-0.500000', 'hist-0-088k-thigh.nii.gz-0.500000', 'num-090a-thigh.nii.gz-0.500000', 'hist-16-090a-thigh.nii.gz-0.500000', 'mean-091f-thigh.nii.gz-0.500000', 'hist-0-091f-thigh.nii.gz-0.500000', 'hist-16-091f-thigh.nii.gz-0.500000', 'hist-18-091f-thigh.nii.gz-0.500000', 'hist-11-092k-thigh.nii.gz-0.500000'] \n",
      "Score: -0.8853201723450462\n"
     ]
    },
    {
     "name": "stderr",
     "output_type": "stream",
     "text": [
      "200it [00:00, 507.38it/s]"
     ]
    },
    {
     "name": "stdout",
     "output_type": "stream",
     "text": [
      "1\n",
      "1 0.9004386427057365\n"
     ]
    },
    {
     "name": "stderr",
     "output_type": "stream",
     "text": [
      "\n"
     ]
    }
   ],
   "source": [
    "results.append(model_selection(thigh_features, thigh_target, dataset='thigh', type='all'))"
   ]
  },
  {
   "cell_type": "markdown",
   "metadata": {},
   "source": [
    "### thigh using the mean mask features"
   ]
  },
  {
   "cell_type": "code",
   "execution_count": 8,
   "metadata": {},
   "outputs": [
    {
     "name": "stdout",
     "output_type": "stream",
     "text": [
      "Objective KNNR_Objective:\n"
     ]
    },
    {
     "name": "stderr",
     "output_type": "stream",
     "text": [
      " 16%|████████████████████████████████████████████                                                                                                                                                                                                                                      | 1287/8000 [02:02<10:38, 10.51it/s]\n"
     ]
    },
    {
     "name": "stdout",
     "output_type": "stream",
     "text": [
      "iterations: 1287\n",
      "Number of used features: 3\n",
      "Used features: ['hist-1-0.500000-mean_mask', 'hist-2-0.500000-mean_mask', 'hist-5-0.500000-mean_mask'] \n",
      "Score: -0.6085143417150146\n"
     ]
    },
    {
     "name": "stderr",
     "output_type": "stream",
     "text": [
      "200it [00:00, 736.62it/s]\n"
     ]
    },
    {
     "name": "stdout",
     "output_type": "stream",
     "text": [
      "1\n",
      "1 0.6100212718431253\n",
      "Objective LinearRegression_Objective:\n"
     ]
    },
    {
     "name": "stderr",
     "output_type": "stream",
     "text": [
      "  7%|██████████████████▎                                                                                                                                                                                                                                                                | 532/8000 [00:08<02:04, 59.79it/s]\n"
     ]
    },
    {
     "name": "stdout",
     "output_type": "stream",
     "text": [
      "iterations: 532\n",
      "Number of used features: 4\n",
      "Used features: ['hist-4-0.500000-mean_mask', 'hist-6-0.500000-mean_mask', 'hist-12-0.500000-mean_mask', 'hist-17-0.500000-mean_mask'] \n",
      "Score: -0.5875410850941607\n"
     ]
    },
    {
     "name": "stderr",
     "output_type": "stream",
     "text": [
      "200it [00:00, 814.34it/s]\n"
     ]
    },
    {
     "name": "stdout",
     "output_type": "stream",
     "text": [
      "1\n",
      "1 0.5954952320688665\n",
      "Objective LassoRegression_Objective:\n"
     ]
    },
    {
     "name": "stderr",
     "output_type": "stream",
     "text": [
      " 10%|███████████████████████████                                                                                                                                                                                                                                                        | 786/8000 [01:14<11:22, 10.58it/s]\n"
     ]
    },
    {
     "name": "stdout",
     "output_type": "stream",
     "text": [
      "iterations: 786\n",
      "Number of used features: 5\n",
      "Used features: ['num-0.500000-mean_mask', 'kurt-0.500000-mean_mask', 'hist-5-0.500000-mean_mask', 'hist-14-0.500000-mean_mask', 'hist-17-0.500000-mean_mask'] \n",
      "Score: -0.602356472349451\n"
     ]
    },
    {
     "name": "stderr",
     "output_type": "stream",
     "text": [
      "200it [00:00, 551.29it/s]\n"
     ]
    },
    {
     "name": "stdout",
     "output_type": "stream",
     "text": [
      "1\n",
      "1 0.6191851623289117\n",
      "Objective RidgeRegression_Objective:\n"
     ]
    },
    {
     "name": "stderr",
     "output_type": "stream",
     "text": [
      " 11%|█████████████████████████████▏                                                                                                                                                                                                                                                     | 849/8000 [00:59<08:21, 14.25it/s]\n"
     ]
    },
    {
     "name": "stdout",
     "output_type": "stream",
     "text": [
      "iterations: 849\n",
      "Number of used features: 4\n",
      "Used features: ['hist-3-0.500000-mean_mask', 'hist-5-0.500000-mean_mask', 'hist-14-0.500000-mean_mask', 'hist-17-0.500000-mean_mask'] \n",
      "Score: -0.6081338988353899\n"
     ]
    },
    {
     "name": "stderr",
     "output_type": "stream",
     "text": [
      "200it [00:00, 583.96it/s]\n"
     ]
    },
    {
     "name": "stdout",
     "output_type": "stream",
     "text": [
      "1\n",
      "1 0.6181103675282424\n",
      "Objective PLSRegression_Objective:\n"
     ]
    },
    {
     "name": "stderr",
     "output_type": "stream",
     "text": [
      "  7%|██████████████████▎                                                                                                                                                                                                                                                                | 532/8000 [00:19<04:34, 27.24it/s]\n"
     ]
    },
    {
     "name": "stdout",
     "output_type": "stream",
     "text": [
      "iterations: 532\n",
      "Number of used features: 4\n",
      "Used features: ['hist-4-0.500000-mean_mask', 'hist-6-0.500000-mean_mask', 'hist-12-0.500000-mean_mask', 'hist-17-0.500000-mean_mask'] \n",
      "Score: -0.5875410850941607\n"
     ]
    },
    {
     "name": "stderr",
     "output_type": "stream",
     "text": [
      "200it [00:00, 604.80it/s]"
     ]
    },
    {
     "name": "stdout",
     "output_type": "stream",
     "text": [
      "1\n",
      "1 0.5954952320688666\n"
     ]
    },
    {
     "name": "stderr",
     "output_type": "stream",
     "text": [
      "\n"
     ]
    }
   ],
   "source": [
    "results.append(model_selection(thigh_features[[c for c in thigh_features.columns if 'mean_mask' in c or c == 'type']], thigh_target, dataset='thigh', type='mean_mask'))"
   ]
  },
  {
   "cell_type": "markdown",
   "metadata": {},
   "source": [
    "### thigh using the features of the individual masks"
   ]
  },
  {
   "cell_type": "code",
   "execution_count": 9,
   "metadata": {},
   "outputs": [
    {
     "name": "stdout",
     "output_type": "stream",
     "text": [
      "Objective KNNR_Objective:\n"
     ]
    },
    {
     "name": "stderr",
     "output_type": "stream",
     "text": [
      " 13%|██████████████████████████████████▍                                                                                                                                                                                                                                               | 1005/8000 [01:47<12:28,  9.35it/s]\n"
     ]
    },
    {
     "name": "stdout",
     "output_type": "stream",
     "text": [
      "iterations: 1005\n",
      "Number of used features: 5\n",
      "Used features: ['num-074k-thigh.nii.gz-0.500000', 'std-074k-thigh.nii.gz-0.500000', 'kurt-074k-thigh.nii.gz-0.500000', 'hist-0-074k-thigh.nii.gz-0.500000', 'hist-5-074k-thigh.nii.gz-0.500000'] \n",
      "Score: -0.6090790340932697\n"
     ]
    },
    {
     "name": "stderr",
     "output_type": "stream",
     "text": [
      "200it [00:00, 734.07it/s]\n"
     ]
    },
    {
     "name": "stdout",
     "output_type": "stream",
     "text": [
      "1\n",
      "1 0.6210841450295906\n",
      "Objective LinearRegression_Objective:\n"
     ]
    },
    {
     "name": "stderr",
     "output_type": "stream",
     "text": [
      "  6%|█████████████████▏                                                                                                                                                                                                                                                                 | 501/8000 [00:06<01:38, 76.29it/s]\n"
     ]
    },
    {
     "name": "stdout",
     "output_type": "stream",
     "text": [
      "iterations: 501\n",
      "Number of used features: 2\n",
      "Used features: ['hist-4-074k-thigh.nii.gz-0.500000', 'hist-6-074k-thigh.nii.gz-0.500000'] \n",
      "Score: -0.5718955783480649\n"
     ]
    },
    {
     "name": "stderr",
     "output_type": "stream",
     "text": [
      "200it [00:00, 808.46it/s]\n"
     ]
    },
    {
     "name": "stdout",
     "output_type": "stream",
     "text": [
      "1\n",
      "1 0.5775825078378349\n",
      "Objective LassoRegression_Objective:\n"
     ]
    },
    {
     "name": "stderr",
     "output_type": "stream",
     "text": [
      " 13%|████████████████████████████████████                                                                                                                                                                                                                                              | 1053/8000 [01:16<08:26, 13.72it/s]\n"
     ]
    },
    {
     "name": "stdout",
     "output_type": "stream",
     "text": [
      "iterations: 1053\n",
      "Number of used features: 3\n",
      "Used features: ['hist-0-074k-thigh.nii.gz-0.500000', 'hist-2-074k-thigh.nii.gz-0.500000', 'hist-5-074k-thigh.nii.gz-0.500000'] \n",
      "Score: -0.575474312693727\n"
     ]
    },
    {
     "name": "stderr",
     "output_type": "stream",
     "text": [
      "200it [00:00, 548.61it/s]\n"
     ]
    },
    {
     "name": "stdout",
     "output_type": "stream",
     "text": [
      "1\n",
      "1 0.5798444929911324\n",
      "Objective RidgeRegression_Objective:\n"
     ]
    },
    {
     "name": "stderr",
     "output_type": "stream",
     "text": [
      " 10%|███████████████████████████▎                                                                                                                                                                                                                                                       | 794/8000 [01:01<09:18, 12.89it/s]\n"
     ]
    },
    {
     "name": "stdout",
     "output_type": "stream",
     "text": [
      "iterations: 794\n",
      "Number of used features: 2\n",
      "Used features: ['hist-3-074k-thigh.nii.gz-0.500000', 'hist-5-074k-thigh.nii.gz-0.500000'] \n",
      "Score: -0.585326527203756\n"
     ]
    },
    {
     "name": "stderr",
     "output_type": "stream",
     "text": [
      "200it [00:00, 604.46it/s]\n"
     ]
    },
    {
     "name": "stdout",
     "output_type": "stream",
     "text": [
      "1\n",
      "1 0.5928080445250505\n",
      "Objective PLSRegression_Objective:\n"
     ]
    },
    {
     "name": "stderr",
     "output_type": "stream",
     "text": [
      "  9%|███████████████████████▋                                                                                                                                                                                                                                                           | 689/8000 [00:29<05:15, 23.16it/s]\n"
     ]
    },
    {
     "name": "stdout",
     "output_type": "stream",
     "text": [
      "iterations: 689\n",
      "Number of used features: 3\n",
      "Used features: ['hist-3-074k-thigh.nii.gz-0.500000', 'hist-5-074k-thigh.nii.gz-0.500000', 'hist-6-074k-thigh.nii.gz-0.500000'] \n",
      "Score: -0.5960895175210394\n"
     ]
    },
    {
     "name": "stderr",
     "output_type": "stream",
     "text": [
      "200it [00:00, 687.18it/s]\n"
     ]
    },
    {
     "name": "stdout",
     "output_type": "stream",
     "text": [
      "1\n",
      "1 0.6047226308249432\n",
      "Objective KNNR_Objective:\n"
     ]
    },
    {
     "name": "stderr",
     "output_type": "stream",
     "text": [
      "  9%|█████████████████████████▉                                                                                                                                                                                                                                                         | 754/8000 [01:18<12:35,  9.59it/s]\n"
     ]
    },
    {
     "name": "stdout",
     "output_type": "stream",
     "text": [
      "iterations: 754\n",
      "Number of used features: 5\n",
      "Used features: ['num-075a-thigh.nii.gz-0.500000', 'hist-0-075a-thigh.nii.gz-0.500000', 'hist-2-075a-thigh.nii.gz-0.500000', 'hist-3-075a-thigh.nii.gz-0.500000', 'hist-5-075a-thigh.nii.gz-0.500000'] \n",
      "Score: -0.617810602297959\n"
     ]
    },
    {
     "name": "stderr",
     "output_type": "stream",
     "text": [
      "200it [00:00, 701.31it/s]\n"
     ]
    },
    {
     "name": "stdout",
     "output_type": "stream",
     "text": [
      "1\n",
      "1 0.6593901288562272\n",
      "Objective LinearRegression_Objective:\n"
     ]
    },
    {
     "name": "stderr",
     "output_type": "stream",
     "text": [
      "  7%|███████████████████▉                                                                                                                                                                                                                                                               | 581/8000 [00:12<02:34, 48.10it/s]\n"
     ]
    },
    {
     "name": "stdout",
     "output_type": "stream",
     "text": [
      "iterations: 581\n",
      "Number of used features: 5\n",
      "Used features: ['mean-075a-thigh.nii.gz-0.500000', 'skew-075a-thigh.nii.gz-0.500000', 'hist-4-075a-thigh.nii.gz-0.500000', 'hist-6-075a-thigh.nii.gz-0.500000', 'hist-16-075a-thigh.nii.gz-0.500000'] \n",
      "Score: -0.5752886833843435\n"
     ]
    },
    {
     "name": "stderr",
     "output_type": "stream",
     "text": [
      "200it [00:00, 785.74it/s]\n"
     ]
    },
    {
     "name": "stdout",
     "output_type": "stream",
     "text": [
      "1\n",
      "1 0.589324834570159\n",
      "Objective LassoRegression_Objective:\n"
     ]
    },
    {
     "name": "stderr",
     "output_type": "stream",
     "text": [
      " 12%|█████████████████████████████████▉                                                                                                                                                                                                                                                 | 989/8000 [01:07<08:00, 14.60it/s]\n"
     ]
    },
    {
     "name": "stdout",
     "output_type": "stream",
     "text": [
      "iterations: 989\n",
      "Number of used features: 3\n",
      "Used features: ['mean-075a-thigh.nii.gz-0.500000', 'hist-3-075a-thigh.nii.gz-0.500000', 'hist-5-075a-thigh.nii.gz-0.500000'] \n",
      "Score: -0.582588405827694\n"
     ]
    },
    {
     "name": "stderr",
     "output_type": "stream",
     "text": [
      "200it [00:00, 543.58it/s]\n"
     ]
    },
    {
     "name": "stdout",
     "output_type": "stream",
     "text": [
      "1\n",
      "1 0.5899256706179369\n",
      "Objective RidgeRegression_Objective:\n"
     ]
    },
    {
     "name": "stderr",
     "output_type": "stream",
     "text": [
      "  9%|████████████████████████▋                                                                                                                                                                                                                                                          | 717/8000 [00:55<09:22, 12.95it/s]\n"
     ]
    },
    {
     "name": "stdout",
     "output_type": "stream",
     "text": [
      "iterations: 717\n",
      "Number of used features: 6\n",
      "Used features: ['mean-075a-thigh.nii.gz-0.500000', 'skew-075a-thigh.nii.gz-0.500000', 'kurt-075a-thigh.nii.gz-0.500000', 'hist-4-075a-thigh.nii.gz-0.500000', 'hist-6-075a-thigh.nii.gz-0.500000', 'hist-17-075a-thigh.nii.gz-0.500000'] \n",
      "Score: -0.5824978225652752\n"
     ]
    },
    {
     "name": "stderr",
     "output_type": "stream",
     "text": [
      "200it [00:00, 580.29it/s]\n"
     ]
    },
    {
     "name": "stdout",
     "output_type": "stream",
     "text": [
      "1\n",
      "1 0.596395115763806\n",
      "Objective PLSRegression_Objective:\n"
     ]
    },
    {
     "name": "stderr",
     "output_type": "stream",
     "text": [
      "  8%|██████████████████████▏                                                                                                                                                                                                                                                            | 647/8000 [00:28<05:22, 22.78it/s]\n"
     ]
    },
    {
     "name": "stdout",
     "output_type": "stream",
     "text": [
      "iterations: 647\n",
      "Number of used features: 5\n",
      "Used features: ['mean-075a-thigh.nii.gz-0.500000', 'skew-075a-thigh.nii.gz-0.500000', 'kurt-075a-thigh.nii.gz-0.500000', 'hist-4-075a-thigh.nii.gz-0.500000', 'hist-6-075a-thigh.nii.gz-0.500000'] \n",
      "Score: -0.5798473879467942\n"
     ]
    },
    {
     "name": "stderr",
     "output_type": "stream",
     "text": [
      "200it [00:00, 588.64it/s]\n"
     ]
    },
    {
     "name": "stdout",
     "output_type": "stream",
     "text": [
      "1\n",
      "1 0.5883320507851005\n",
      "Objective KNNR_Objective:\n"
     ]
    },
    {
     "name": "stderr",
     "output_type": "stream",
     "text": [
      " 15%|████████████████████████████████████████▊                                                                                                                                                                                                                                         | 1191/8000 [02:09<12:20,  9.20it/s]\n"
     ]
    },
    {
     "name": "stdout",
     "output_type": "stream",
     "text": [
      "iterations: 1191\n",
      "Number of used features: 5\n",
      "Used features: ['sum-075k-thigh.nii.gz-0.500000', 'hist-1-075k-thigh.nii.gz-0.500000', 'hist-2-075k-thigh.nii.gz-0.500000', 'hist-4-075k-thigh.nii.gz-0.500000', 'hist-5-075k-thigh.nii.gz-0.500000'] \n",
      "Score: -0.5934965416740269\n"
     ]
    },
    {
     "name": "stderr",
     "output_type": "stream",
     "text": [
      "200it [00:00, 718.65it/s]\n"
     ]
    },
    {
     "name": "stdout",
     "output_type": "stream",
     "text": [
      "1\n",
      "1 0.5969013738442832\n",
      "Objective LinearRegression_Objective:\n"
     ]
    },
    {
     "name": "stderr",
     "output_type": "stream",
     "text": [
      "  6%|█████████████████▏                                                                                                                                                                                                                                                                 | 501/8000 [00:06<01:38, 76.39it/s]\n"
     ]
    },
    {
     "name": "stdout",
     "output_type": "stream",
     "text": [
      "iterations: 501\n",
      "Number of used features: 2\n",
      "Used features: ['hist-4-075k-thigh.nii.gz-0.500000', 'hist-6-075k-thigh.nii.gz-0.500000'] \n",
      "Score: -0.5835339043715047\n"
     ]
    },
    {
     "name": "stderr",
     "output_type": "stream",
     "text": [
      "200it [00:00, 814.05it/s]\n"
     ]
    },
    {
     "name": "stdout",
     "output_type": "stream",
     "text": [
      "1\n",
      "1 0.5900447200034625\n",
      "Objective LassoRegression_Objective:\n"
     ]
    },
    {
     "name": "stderr",
     "output_type": "stream",
     "text": [
      "  8%|█████████████████████▏                                                                                                                                                                                                                                                             | 615/8000 [00:47<09:36, 12.82it/s]\n"
     ]
    },
    {
     "name": "stdout",
     "output_type": "stream",
     "text": [
      "iterations: 615\n",
      "Number of used features: 2\n",
      "Used features: ['hist-4-075k-thigh.nii.gz-0.500000', 'hist-6-075k-thigh.nii.gz-0.500000'] \n",
      "Score: -0.5832208526223388\n"
     ]
    },
    {
     "name": "stderr",
     "output_type": "stream",
     "text": [
      "200it [00:00, 558.45it/s]\n"
     ]
    },
    {
     "name": "stdout",
     "output_type": "stream",
     "text": [
      "1\n",
      "1 0.5897088546024657\n",
      "Objective RidgeRegression_Objective:\n"
     ]
    },
    {
     "name": "stderr",
     "output_type": "stream",
     "text": [
      "  6%|█████████████████▎                                                                                                                                                                                                                                                                 | 503/8000 [00:28<07:05, 17.63it/s]\n"
     ]
    },
    {
     "name": "stdout",
     "output_type": "stream",
     "text": [
      "iterations: 503\n",
      "Number of used features: 2\n",
      "Used features: ['hist-4-075k-thigh.nii.gz-0.500000', 'hist-6-075k-thigh.nii.gz-0.500000'] \n",
      "Score: -0.5836536694105786\n"
     ]
    },
    {
     "name": "stderr",
     "output_type": "stream",
     "text": [
      "200it [00:00, 600.45it/s]\n"
     ]
    },
    {
     "name": "stdout",
     "output_type": "stream",
     "text": [
      "1\n",
      "1 0.5900645347322885\n",
      "Objective PLSRegression_Objective:\n"
     ]
    },
    {
     "name": "stderr",
     "output_type": "stream",
     "text": [
      "  8%|██████████████████████▎                                                                                                                                                                                                                                                            | 648/8000 [00:26<04:58, 24.66it/s]\n"
     ]
    },
    {
     "name": "stdout",
     "output_type": "stream",
     "text": [
      "iterations: 648\n",
      "Number of used features: 3\n",
      "Used features: ['hist-3-075k-thigh.nii.gz-0.500000', 'hist-4-075k-thigh.nii.gz-0.500000', 'hist-6-075k-thigh.nii.gz-0.500000'] \n",
      "Score: -0.5874227368957826\n"
     ]
    },
    {
     "name": "stderr",
     "output_type": "stream",
     "text": [
      "200it [00:00, 682.72it/s]\n"
     ]
    },
    {
     "name": "stdout",
     "output_type": "stream",
     "text": [
      "1\n",
      "1 0.5947127033706966\n",
      "Objective KNNR_Objective:\n"
     ]
    },
    {
     "name": "stderr",
     "output_type": "stream",
     "text": [
      " 14%|███████████████████████████████████████▎                                                                                                                                                                                                                                          | 1147/8000 [01:58<11:50,  9.65it/s]\n"
     ]
    },
    {
     "name": "stdout",
     "output_type": "stream",
     "text": [
      "iterations: 1147\n",
      "Number of used features: 4\n",
      "Used features: ['hist-0-077k-thigh.nii.gz-0.500000', 'hist-2-077k-thigh.nii.gz-0.500000', 'hist-3-077k-thigh.nii.gz-0.500000', 'hist-5-077k-thigh.nii.gz-0.500000'] \n",
      "Score: -0.612057698602583\n"
     ]
    },
    {
     "name": "stderr",
     "output_type": "stream",
     "text": [
      "200it [00:00, 733.03it/s]\n"
     ]
    },
    {
     "name": "stdout",
     "output_type": "stream",
     "text": [
      "1\n",
      "1 0.6532038885584348\n",
      "Objective LinearRegression_Objective:\n"
     ]
    },
    {
     "name": "stderr",
     "output_type": "stream",
     "text": [
      "  6%|█████████████████▏                                                                                                                                                                                                                                                                 | 501/8000 [00:06<01:35, 78.31it/s]\n"
     ]
    },
    {
     "name": "stdout",
     "output_type": "stream",
     "text": [
      "iterations: 501\n",
      "Number of used features: 2\n",
      "Used features: ['hist-4-077k-thigh.nii.gz-0.500000', 'hist-6-077k-thigh.nii.gz-0.500000'] \n",
      "Score: -0.5685925818085379\n"
     ]
    },
    {
     "name": "stderr",
     "output_type": "stream",
     "text": [
      "200it [00:00, 833.35it/s]\n"
     ]
    },
    {
     "name": "stdout",
     "output_type": "stream",
     "text": [
      "1\n",
      "1 0.5760466765496677\n",
      "Objective LassoRegression_Objective:\n"
     ]
    },
    {
     "name": "stderr",
     "output_type": "stream",
     "text": [
      "  8%|███████████████████████                                                                                                                                                                                                                                                            | 670/8000 [00:54<09:55, 12.30it/s]\n"
     ]
    },
    {
     "name": "stdout",
     "output_type": "stream",
     "text": [
      "iterations: 670\n",
      "Number of used features: 2\n",
      "Used features: ['hist-3-077k-thigh.nii.gz-0.500000', 'hist-5-077k-thigh.nii.gz-0.500000'] \n",
      "Score: -0.5795090520454453\n"
     ]
    },
    {
     "name": "stderr",
     "output_type": "stream",
     "text": [
      "200it [00:00, 555.79it/s]\n"
     ]
    },
    {
     "name": "stdout",
     "output_type": "stream",
     "text": [
      "1\n",
      "1 0.5875468527324996\n",
      "Objective RidgeRegression_Objective:\n"
     ]
    },
    {
     "name": "stderr",
     "output_type": "stream",
     "text": [
      "  6%|█████████████████▎                                                                                                                                                                                                                                                                 | 503/8000 [00:28<06:58, 17.93it/s]\n"
     ]
    },
    {
     "name": "stdout",
     "output_type": "stream",
     "text": [
      "iterations: 503\n",
      "Number of used features: 2\n",
      "Used features: ['hist-4-077k-thigh.nii.gz-0.500000', 'hist-6-077k-thigh.nii.gz-0.500000'] \n",
      "Score: -0.5686769260560025\n"
     ]
    },
    {
     "name": "stderr",
     "output_type": "stream",
     "text": [
      "200it [00:00, 614.41it/s]\n"
     ]
    },
    {
     "name": "stdout",
     "output_type": "stream",
     "text": [
      "1\n",
      "1 0.5760513399240275\n",
      "Objective PLSRegression_Objective:\n"
     ]
    },
    {
     "name": "stderr",
     "output_type": "stream",
     "text": [
      "  8%|██████████████████████▎                                                                                                                                                                                                                                                            | 648/8000 [00:24<04:43, 25.97it/s]\n"
     ]
    },
    {
     "name": "stdout",
     "output_type": "stream",
     "text": [
      "iterations: 648\n",
      "Number of used features: 3\n",
      "Used features: ['hist-3-077k-thigh.nii.gz-0.500000', 'hist-4-077k-thigh.nii.gz-0.500000', 'hist-6-077k-thigh.nii.gz-0.500000'] \n",
      "Score: -0.5756849429256737\n"
     ]
    },
    {
     "name": "stderr",
     "output_type": "stream",
     "text": [
      "200it [00:00, 685.38it/s]\n"
     ]
    },
    {
     "name": "stdout",
     "output_type": "stream",
     "text": [
      "1\n",
      "1 0.5832743872597786\n",
      "Objective KNNR_Objective:\n"
     ]
    },
    {
     "name": "stderr",
     "output_type": "stream",
     "text": [
      " 10%|████████████████████████████▍                                                                                                                                                                                                                                                      | 826/8000 [01:29<12:57,  9.23it/s]\n"
     ]
    },
    {
     "name": "stdout",
     "output_type": "stream",
     "text": [
      "iterations: 826\n",
      "Number of used features: 6\n",
      "Used features: ['num-079k-thigh.nii.gz-0.500000', 'hist-0-079k-thigh.nii.gz-0.500000', 'hist-1-079k-thigh.nii.gz-0.500000', 'hist-2-079k-thigh.nii.gz-0.500000', 'hist-3-079k-thigh.nii.gz-0.500000', 'hist-5-079k-thigh.nii.gz-0.500000'] \n",
      "Score: -0.5636560333318288\n"
     ]
    },
    {
     "name": "stderr",
     "output_type": "stream",
     "text": [
      "200it [00:00, 713.04it/s]\n"
     ]
    },
    {
     "name": "stdout",
     "output_type": "stream",
     "text": [
      "1\n",
      "1 0.5989525070855768\n",
      "Objective LinearRegression_Objective:\n"
     ]
    },
    {
     "name": "stderr",
     "output_type": "stream",
     "text": [
      "  6%|█████████████████▏                                                                                                                                                                                                                                                                 | 501/8000 [00:06<01:38, 75.89it/s]\n"
     ]
    },
    {
     "name": "stdout",
     "output_type": "stream",
     "text": [
      "iterations: 501\n",
      "Number of used features: 2\n",
      "Used features: ['hist-4-079k-thigh.nii.gz-0.500000', 'hist-6-079k-thigh.nii.gz-0.500000'] \n",
      "Score: -0.5110463196197558\n"
     ]
    },
    {
     "name": "stderr",
     "output_type": "stream",
     "text": [
      "200it [00:00, 807.29it/s]\n"
     ]
    },
    {
     "name": "stdout",
     "output_type": "stream",
     "text": [
      "1\n",
      "1 0.5170321851553208\n",
      "Objective LassoRegression_Objective:\n"
     ]
    },
    {
     "name": "stderr",
     "output_type": "stream",
     "text": [
      "  8%|█████████████████████▍                                                                                                                                                                                                                                                             | 623/8000 [00:50<10:01, 12.27it/s]\n"
     ]
    },
    {
     "name": "stdout",
     "output_type": "stream",
     "text": [
      "iterations: 623\n",
      "Number of used features: 5\n",
      "Used features: ['mean-079k-thigh.nii.gz-0.500000', 'std-079k-thigh.nii.gz-0.500000', 'hist-2-079k-thigh.nii.gz-0.500000', 'hist-5-079k-thigh.nii.gz-0.500000', 'hist-14-079k-thigh.nii.gz-0.500000'] \n",
      "Score: -0.5682599282846317\n"
     ]
    },
    {
     "name": "stderr",
     "output_type": "stream",
     "text": [
      "200it [00:00, 540.54it/s]\n"
     ]
    },
    {
     "name": "stdout",
     "output_type": "stream",
     "text": [
      "1\n",
      "1 0.5845914618519321\n",
      "Objective RidgeRegression_Objective:\n"
     ]
    },
    {
     "name": "stderr",
     "output_type": "stream",
     "text": [
      "  8%|█████████████████████▏                                                                                                                                                                                                                                                             | 616/8000 [00:42<08:30, 14.46it/s]\n"
     ]
    },
    {
     "name": "stdout",
     "output_type": "stream",
     "text": [
      "iterations: 616\n",
      "Number of used features: 2\n",
      "Used features: ['hist-3-079k-thigh.nii.gz-0.500000', 'hist-5-079k-thigh.nii.gz-0.500000'] \n",
      "Score: -0.5367765176233354\n"
     ]
    },
    {
     "name": "stderr",
     "output_type": "stream",
     "text": [
      "200it [00:00, 602.77it/s]\n"
     ]
    },
    {
     "name": "stdout",
     "output_type": "stream",
     "text": [
      "1\n",
      "1 0.5437358181582281\n",
      "Objective PLSRegression_Objective:\n"
     ]
    },
    {
     "name": "stderr",
     "output_type": "stream",
     "text": [
      "  7%|███████████████████▍                                                                                                                                                                                                                                                               | 564/8000 [00:22<05:01, 24.66it/s]\n"
     ]
    },
    {
     "name": "stdout",
     "output_type": "stream",
     "text": [
      "iterations: 564\n",
      "Number of used features: 5\n",
      "Used features: ['hist-2-079k-thigh.nii.gz-0.500000', 'hist-4-079k-thigh.nii.gz-0.500000', 'hist-5-079k-thigh.nii.gz-0.500000', 'hist-6-079k-thigh.nii.gz-0.500000', 'hist-12-079k-thigh.nii.gz-0.500000'] \n",
      "Score: -0.5212698174580798\n"
     ]
    },
    {
     "name": "stderr",
     "output_type": "stream",
     "text": [
      "200it [00:00, 678.35it/s]\n"
     ]
    },
    {
     "name": "stdout",
     "output_type": "stream",
     "text": [
      "1\n",
      "1 0.5320127031423995\n",
      "Objective KNNR_Objective:\n"
     ]
    },
    {
     "name": "stderr",
     "output_type": "stream",
     "text": [
      "  7%|███████████████████▌                                                                                                                                                                                                                                                               | 568/8000 [00:56<12:18, 10.06it/s]\n"
     ]
    },
    {
     "name": "stdout",
     "output_type": "stream",
     "text": [
      "iterations: 568\n",
      "Number of used features: 5\n",
      "Used features: ['num-080k-thigh.nii.gz-0.500000', 'hist-0-080k-thigh.nii.gz-0.500000', 'hist-1-080k-thigh.nii.gz-0.500000', 'hist-2-080k-thigh.nii.gz-0.500000', 'hist-5-080k-thigh.nii.gz-0.500000'] \n",
      "Score: -0.5611521929611005\n"
     ]
    },
    {
     "name": "stderr",
     "output_type": "stream",
     "text": [
      "200it [00:00, 721.38it/s]\n"
     ]
    },
    {
     "name": "stdout",
     "output_type": "stream",
     "text": [
      "1\n",
      "1 0.5739540827675238\n",
      "Objective LinearRegression_Objective:\n"
     ]
    },
    {
     "name": "stderr",
     "output_type": "stream",
     "text": [
      "  8%|████████████████████▋                                                                                                                                                                                                                                                              | 603/8000 [00:15<03:08, 39.34it/s]\n"
     ]
    },
    {
     "name": "stdout",
     "output_type": "stream",
     "text": [
      "iterations: 603\n",
      "Number of used features: 6\n",
      "Used features: ['skew-080k-thigh.nii.gz-0.500000', 'kurt-080k-thigh.nii.gz-0.500000', 'hist-0-080k-thigh.nii.gz-0.500000', 'hist-1-080k-thigh.nii.gz-0.500000', 'hist-4-080k-thigh.nii.gz-0.500000', 'hist-6-080k-thigh.nii.gz-0.500000'] \n",
      "Score: -0.5678512585561397\n"
     ]
    },
    {
     "name": "stderr",
     "output_type": "stream",
     "text": [
      "200it [00:00, 815.33it/s]\n"
     ]
    },
    {
     "name": "stdout",
     "output_type": "stream",
     "text": [
      "1\n",
      "1 0.5678997638663622\n",
      "Objective LassoRegression_Objective:\n"
     ]
    },
    {
     "name": "stderr",
     "output_type": "stream",
     "text": [
      "  7%|███████████████████▊                                                                                                                                                                                                                                                               | 575/8000 [00:42<09:07, 13.56it/s]\n"
     ]
    },
    {
     "name": "stdout",
     "output_type": "stream",
     "text": [
      "iterations: 575\n",
      "Number of used features: 3\n",
      "Used features: ['hist-0-080k-thigh.nii.gz-0.500000', 'hist-2-080k-thigh.nii.gz-0.500000', 'hist-5-080k-thigh.nii.gz-0.500000'] \n",
      "Score: -0.5529244231687653\n"
     ]
    },
    {
     "name": "stderr",
     "output_type": "stream",
     "text": [
      "200it [00:00, 548.76it/s]\n"
     ]
    },
    {
     "name": "stdout",
     "output_type": "stream",
     "text": [
      "1\n",
      "1 0.5579115320055533\n",
      "Objective RidgeRegression_Objective:\n"
     ]
    },
    {
     "name": "stderr",
     "output_type": "stream",
     "text": [
      "  9%|█████████████████████████▏                                                                                                                                                                                                                                                         | 731/8000 [01:01<10:15, 11.82it/s]\n"
     ]
    },
    {
     "name": "stdout",
     "output_type": "stream",
     "text": [
      "iterations: 731\n",
      "Number of used features: 10\n",
      "Used features: ['skew-080k-thigh.nii.gz-0.500000', 'hist-0-080k-thigh.nii.gz-0.500000', 'hist-2-080k-thigh.nii.gz-0.500000', 'hist-4-080k-thigh.nii.gz-0.500000', 'hist-6-080k-thigh.nii.gz-0.500000', 'hist-11-080k-thigh.nii.gz-0.500000', 'hist-12-080k-thigh.nii.gz-0.500000', 'hist-13-080k-thigh.nii.gz-0.500000', 'hist-15-080k-thigh.nii.gz-0.500000', 'hist-19-080k-thigh.nii.gz-0.500000'] \n",
      "Score: -0.6094272929253686\n"
     ]
    },
    {
     "name": "stderr",
     "output_type": "stream",
     "text": [
      "200it [00:00, 594.59it/s]\n"
     ]
    },
    {
     "name": "stdout",
     "output_type": "stream",
     "text": [
      "1\n",
      "1 0.631544397439596\n",
      "Objective PLSRegression_Objective:\n"
     ]
    },
    {
     "name": "stderr",
     "output_type": "stream",
     "text": [
      "  8%|████████████████████▋                                                                                                                                                                                                                                                              | 603/8000 [00:30<06:08, 20.07it/s]\n"
     ]
    },
    {
     "name": "stdout",
     "output_type": "stream",
     "text": [
      "iterations: 603\n",
      "Number of used features: 6\n",
      "Used features: ['skew-080k-thigh.nii.gz-0.500000', 'kurt-080k-thigh.nii.gz-0.500000', 'hist-0-080k-thigh.nii.gz-0.500000', 'hist-1-080k-thigh.nii.gz-0.500000', 'hist-4-080k-thigh.nii.gz-0.500000', 'hist-6-080k-thigh.nii.gz-0.500000'] \n",
      "Score: -0.5646356076471158\n"
     ]
    },
    {
     "name": "stderr",
     "output_type": "stream",
     "text": [
      "200it [00:00, 595.81it/s]\n"
     ]
    },
    {
     "name": "stdout",
     "output_type": "stream",
     "text": [
      "1\n",
      "1 0.563961603186079\n",
      "Objective KNNR_Objective:\n"
     ]
    },
    {
     "name": "stderr",
     "output_type": "stream",
     "text": [
      " 13%|██████████████████████████████████▊                                                                                                                                                                                                                                               | 1016/8000 [01:46<12:11,  9.54it/s]\n"
     ]
    },
    {
     "name": "stdout",
     "output_type": "stream",
     "text": [
      "iterations: 1016\n",
      "Number of used features: 6\n",
      "Used features: ['num-082k-thigh.nii.gz-0.500000', 'sum-082k-thigh.nii.gz-0.500000', 'hist-1-082k-thigh.nii.gz-0.500000', 'hist-5-082k-thigh.nii.gz-0.500000', 'hist-15-082k-thigh.nii.gz-0.500000', 'hist-17-082k-thigh.nii.gz-0.500000'] \n",
      "Score: -0.5472208864623043\n"
     ]
    },
    {
     "name": "stderr",
     "output_type": "stream",
     "text": [
      "200it [00:00, 739.84it/s]\n"
     ]
    },
    {
     "name": "stdout",
     "output_type": "stream",
     "text": [
      "1\n",
      "1 0.6099547035827306\n",
      "Objective LinearRegression_Objective:\n"
     ]
    },
    {
     "name": "stderr",
     "output_type": "stream",
     "text": [
      "  6%|█████████████████▏                                                                                                                                                                                                                                                                 | 501/8000 [00:06<01:35, 78.24it/s]\n"
     ]
    },
    {
     "name": "stdout",
     "output_type": "stream",
     "text": [
      "iterations: 501\n",
      "Number of used features: 2\n",
      "Used features: ['hist-4-082k-thigh.nii.gz-0.500000', 'hist-6-082k-thigh.nii.gz-0.500000'] \n",
      "Score: -0.5354867438011841\n"
     ]
    },
    {
     "name": "stderr",
     "output_type": "stream",
     "text": [
      "200it [00:00, 835.52it/s]\n"
     ]
    },
    {
     "name": "stdout",
     "output_type": "stream",
     "text": [
      "1\n",
      "1 0.5420599264985148\n",
      "Objective LassoRegression_Objective:\n"
     ]
    },
    {
     "name": "stderr",
     "output_type": "stream",
     "text": [
      "  9%|█████████████████████████▍                                                                                                                                                                                                                                                         | 740/8000 [01:08<11:13, 10.77it/s]\n"
     ]
    },
    {
     "name": "stdout",
     "output_type": "stream",
     "text": [
      "iterations: 740\n",
      "Number of used features: 2\n",
      "Used features: ['hist-3-082k-thigh.nii.gz-0.500000', 'hist-5-082k-thigh.nii.gz-0.500000'] \n",
      "Score: -0.5426052493058013\n"
     ]
    },
    {
     "name": "stderr",
     "output_type": "stream",
     "text": [
      "200it [00:00, 530.66it/s]\n"
     ]
    },
    {
     "name": "stdout",
     "output_type": "stream",
     "text": [
      "1\n",
      "1 0.5501734402611395\n",
      "Objective RidgeRegression_Objective:\n"
     ]
    },
    {
     "name": "stderr",
     "output_type": "stream",
     "text": [
      "  6%|█████████████████▎                                                                                                                                                                                                                                                                 | 503/8000 [00:29<07:21, 16.97it/s]\n"
     ]
    },
    {
     "name": "stdout",
     "output_type": "stream",
     "text": [
      "iterations: 503\n",
      "Number of used features: 2\n",
      "Used features: ['hist-4-082k-thigh.nii.gz-0.500000', 'hist-6-082k-thigh.nii.gz-0.500000'] \n",
      "Score: -0.5356124077980948\n"
     ]
    },
    {
     "name": "stderr",
     "output_type": "stream",
     "text": [
      "200it [00:00, 582.78it/s]\n"
     ]
    },
    {
     "name": "stdout",
     "output_type": "stream",
     "text": [
      "1\n",
      "1 0.5421300339429831\n",
      "Objective PLSRegression_Objective:\n"
     ]
    },
    {
     "name": "stderr",
     "output_type": "stream",
     "text": [
      "  8%|██████████████████████▎                                                                                                                                                                                                                                                            | 648/8000 [00:25<04:52, 25.14it/s]\n"
     ]
    },
    {
     "name": "stdout",
     "output_type": "stream",
     "text": [
      "iterations: 648\n",
      "Number of used features: 3\n",
      "Used features: ['hist-3-082k-thigh.nii.gz-0.500000', 'hist-4-082k-thigh.nii.gz-0.500000', 'hist-6-082k-thigh.nii.gz-0.500000'] \n",
      "Score: -0.5491622343584165\n"
     ]
    },
    {
     "name": "stderr",
     "output_type": "stream",
     "text": [
      "200it [00:00, 670.98it/s]\n"
     ]
    },
    {
     "name": "stdout",
     "output_type": "stream",
     "text": [
      "1\n",
      "1 0.55665051165942\n",
      "Objective KNNR_Objective:\n"
     ]
    },
    {
     "name": "stderr",
     "output_type": "stream",
     "text": [
      "  9%|██████████████████████████                                                                                                                                                                                                                                                         | 758/8000 [01:25<13:35,  8.88it/s]\n"
     ]
    },
    {
     "name": "stdout",
     "output_type": "stream",
     "text": [
      "iterations: 758\n",
      "Number of used features: 7\n",
      "Used features: ['sum-083a-thigh.nii.gz-0.500000', 'mean-083a-thigh.nii.gz-0.500000', 'skew-083a-thigh.nii.gz-0.500000', 'kurt-083a-thigh.nii.gz-0.500000', 'hist-3-083a-thigh.nii.gz-0.500000', 'hist-4-083a-thigh.nii.gz-0.500000', 'hist-7-083a-thigh.nii.gz-0.500000'] \n",
      "Score: -0.34556495656483144\n"
     ]
    },
    {
     "name": "stderr",
     "output_type": "stream",
     "text": [
      "200it [00:00, 728.81it/s]\n"
     ]
    },
    {
     "name": "stdout",
     "output_type": "stream",
     "text": [
      "1\n",
      "1 0.35031220234492366\n",
      "Objective LinearRegression_Objective:\n"
     ]
    },
    {
     "name": "stderr",
     "output_type": "stream",
     "text": [
      "  6%|█████████████████▌                                                                                                                                                                                                                                                                 | 511/8000 [00:07<01:45, 71.14it/s]\n"
     ]
    },
    {
     "name": "stdout",
     "output_type": "stream",
     "text": [
      "iterations: 511\n",
      "Number of used features: 2\n",
      "Used features: ['hist-4-083a-thigh.nii.gz-0.500000', 'hist-7-083a-thigh.nii.gz-0.500000'] \n",
      "Score: -0.1465037103079313\n"
     ]
    },
    {
     "name": "stderr",
     "output_type": "stream",
     "text": [
      "200it [00:00, 801.99it/s]\n"
     ]
    },
    {
     "name": "stdout",
     "output_type": "stream",
     "text": [
      "1\n",
      "1 0.15732834762913606\n",
      "Objective LassoRegression_Objective:\n"
     ]
    },
    {
     "name": "stderr",
     "output_type": "stream",
     "text": [
      "  9%|█████████████████████████▊                                                                                                                                                                                                                                                         | 751/8000 [01:06<10:41, 11.31it/s]\n"
     ]
    },
    {
     "name": "stdout",
     "output_type": "stream",
     "text": [
      "iterations: 751\n",
      "Number of used features: 6\n",
      "Used features: ['mean-083a-thigh.nii.gz-0.500000', 'skew-083a-thigh.nii.gz-0.500000', 'kurt-083a-thigh.nii.gz-0.500000', 'hist-4-083a-thigh.nii.gz-0.500000', 'hist-7-083a-thigh.nii.gz-0.500000', 'hist-9-083a-thigh.nii.gz-0.500000'] \n",
      "Score: -0.24624561472951\n"
     ]
    },
    {
     "name": "stderr",
     "output_type": "stream",
     "text": [
      "200it [00:00, 494.28it/s]\n"
     ]
    },
    {
     "name": "stdout",
     "output_type": "stream",
     "text": [
      "1\n",
      "1 0.2737496334694851\n",
      "Objective RidgeRegression_Objective:\n"
     ]
    },
    {
     "name": "stderr",
     "output_type": "stream",
     "text": [
      "  8%|██████████████████████▊                                                                                                                                                                                                                                                            | 663/8000 [00:48<09:00, 13.57it/s]\n"
     ]
    },
    {
     "name": "stdout",
     "output_type": "stream",
     "text": [
      "iterations: 663\n",
      "Number of used features: 5\n",
      "Used features: ['mean-083a-thigh.nii.gz-0.500000', 'skew-083a-thigh.nii.gz-0.500000', 'kurt-083a-thigh.nii.gz-0.500000', 'hist-5-083a-thigh.nii.gz-0.500000', 'hist-16-083a-thigh.nii.gz-0.500000'] \n",
      "Score: -0.2654679991654382\n"
     ]
    },
    {
     "name": "stderr",
     "output_type": "stream",
     "text": [
      "200it [00:00, 598.34it/s]\n"
     ]
    },
    {
     "name": "stdout",
     "output_type": "stream",
     "text": [
      "1\n",
      "1 0.28373321664318707\n",
      "Objective PLSRegression_Objective:\n"
     ]
    },
    {
     "name": "stderr",
     "output_type": "stream",
     "text": [
      "  8%|████████████████████▋                                                                                                                                                                                                                                                              | 601/8000 [00:29<05:58, 20.66it/s]\n"
     ]
    },
    {
     "name": "stdout",
     "output_type": "stream",
     "text": [
      "iterations: 601\n",
      "Number of used features: 3\n",
      "Used features: ['mean-083a-thigh.nii.gz-0.500000', 'std-083a-thigh.nii.gz-0.500000', 'hist-15-083a-thigh.nii.gz-0.500000'] \n",
      "Score: -0.2711616872470405\n"
     ]
    },
    {
     "name": "stderr",
     "output_type": "stream",
     "text": [
      "200it [00:00, 656.26it/s]\n"
     ]
    },
    {
     "name": "stdout",
     "output_type": "stream",
     "text": [
      "1\n",
      "1 0.2817156437571817\n",
      "Objective KNNR_Objective:\n"
     ]
    },
    {
     "name": "stderr",
     "output_type": "stream",
     "text": [
      "  9%|█████████████████████████                                                                                                                                                                                                                                                          | 730/8000 [01:15<12:35,  9.62it/s]\n"
     ]
    },
    {
     "name": "stdout",
     "output_type": "stream",
     "text": [
      "iterations: 730\n",
      "Number of used features: 7\n",
      "Used features: ['num-083k-thigh.nii.gz-0.500000', 'std-083k-thigh.nii.gz-0.500000', 'hist-5-083k-thigh.nii.gz-0.500000', 'hist-13-083k-thigh.nii.gz-0.500000', 'hist-14-083k-thigh.nii.gz-0.500000', 'hist-15-083k-thigh.nii.gz-0.500000', 'hist-17-083k-thigh.nii.gz-0.500000'] \n",
      "Score: -0.6672687629315712\n"
     ]
    },
    {
     "name": "stderr",
     "output_type": "stream",
     "text": [
      "200it [00:00, 732.94it/s]\n"
     ]
    },
    {
     "name": "stdout",
     "output_type": "stream",
     "text": [
      "1\n",
      "1 0.6962158111236495\n",
      "Objective LinearRegression_Objective:\n"
     ]
    },
    {
     "name": "stderr",
     "output_type": "stream",
     "text": [
      "  7%|█████████████████▉                                                                                                                                                                                                                                                                 | 523/8000 [00:08<02:00, 62.28it/s]\n"
     ]
    },
    {
     "name": "stdout",
     "output_type": "stream",
     "text": [
      "iterations: 523\n",
      "Number of used features: 3\n",
      "Used features: ['kurt-083k-thigh.nii.gz-0.500000', 'hist-4-083k-thigh.nii.gz-0.500000', 'hist-6-083k-thigh.nii.gz-0.500000'] \n",
      "Score: -0.5813865198967585\n"
     ]
    },
    {
     "name": "stderr",
     "output_type": "stream",
     "text": [
      "200it [00:00, 806.11it/s]\n"
     ]
    },
    {
     "name": "stdout",
     "output_type": "stream",
     "text": [
      "1\n",
      "1 0.5834372603854527\n",
      "Objective LassoRegression_Objective:\n"
     ]
    },
    {
     "name": "stderr",
     "output_type": "stream",
     "text": [
      "  8%|███████████████████████▎                                                                                                                                                                                                                                                           | 679/8000 [00:56<10:06, 12.07it/s]\n"
     ]
    },
    {
     "name": "stdout",
     "output_type": "stream",
     "text": [
      "iterations: 679\n",
      "Number of used features: 8\n",
      "Used features: ['num-083k-thigh.nii.gz-0.500000', 'kurt-083k-thigh.nii.gz-0.500000', 'hist-0-083k-thigh.nii.gz-0.500000', 'hist-9-083k-thigh.nii.gz-0.500000', 'hist-10-083k-thigh.nii.gz-0.500000', 'hist-14-083k-thigh.nii.gz-0.500000', 'hist-15-083k-thigh.nii.gz-0.500000', 'hist-19-083k-thigh.nii.gz-0.500000'] \n",
      "Score: -0.6431644105318801\n"
     ]
    },
    {
     "name": "stderr",
     "output_type": "stream",
     "text": [
      "200it [00:00, 544.48it/s]\n"
     ]
    },
    {
     "name": "stdout",
     "output_type": "stream",
     "text": [
      "1\n",
      "1 0.6624921518808096\n",
      "Objective RidgeRegression_Objective:\n"
     ]
    },
    {
     "name": "stderr",
     "output_type": "stream",
     "text": [
      " 13%|██████████████████████████████████▌                                                                                                                                                                                                                                               | 1008/8000 [01:24<09:48, 11.89it/s]\n"
     ]
    },
    {
     "name": "stdout",
     "output_type": "stream",
     "text": [
      "iterations: 1008\n",
      "Number of used features: 8\n",
      "Used features: ['num-083k-thigh.nii.gz-0.500000', 'mean-083k-thigh.nii.gz-0.500000', 'hist-0-083k-thigh.nii.gz-0.500000', 'hist-9-083k-thigh.nii.gz-0.500000', 'hist-10-083k-thigh.nii.gz-0.500000', 'hist-14-083k-thigh.nii.gz-0.500000', 'hist-15-083k-thigh.nii.gz-0.500000', 'hist-19-083k-thigh.nii.gz-0.500000'] \n",
      "Score: -0.6351345562382004\n"
     ]
    },
    {
     "name": "stderr",
     "output_type": "stream",
     "text": [
      "200it [00:00, 583.29it/s]\n"
     ]
    },
    {
     "name": "stdout",
     "output_type": "stream",
     "text": [
      "1\n",
      "1 0.656158834528846\n",
      "Objective PLSRegression_Objective:\n"
     ]
    },
    {
     "name": "stderr",
     "output_type": "stream",
     "text": [
      "  7%|██████████████████▏                                                                                                                                                                                                                                                                | 529/8000 [00:19<04:37, 26.93it/s]\n"
     ]
    },
    {
     "name": "stdout",
     "output_type": "stream",
     "text": [
      "iterations: 529\n",
      "Number of used features: 4\n",
      "Used features: ['kurt-083k-thigh.nii.gz-0.500000', 'hist-4-083k-thigh.nii.gz-0.500000', 'hist-6-083k-thigh.nii.gz-0.500000', 'hist-10-083k-thigh.nii.gz-0.500000'] \n",
      "Score: -0.5831173637951258\n"
     ]
    },
    {
     "name": "stderr",
     "output_type": "stream",
     "text": [
      "200it [00:00, 665.73it/s]\n"
     ]
    },
    {
     "name": "stdout",
     "output_type": "stream",
     "text": [
      "1\n",
      "1 0.5830007636223666\n",
      "Objective KNNR_Objective:\n"
     ]
    },
    {
     "name": "stderr",
     "output_type": "stream",
     "text": [
      "  7%|████████████████████▍                                                                                                                                                                                                                                                              | 593/8000 [01:01<12:53,  9.57it/s]\n"
     ]
    },
    {
     "name": "stdout",
     "output_type": "stream",
     "text": [
      "iterations: 593\n",
      "Number of used features: 8\n",
      "Used features: ['num-084a-thigh.nii.gz-0.500000', 'sum-084a-thigh.nii.gz-0.500000', 'hist-5-084a-thigh.nii.gz-0.500000', 'hist-14-084a-thigh.nii.gz-0.500000', 'hist-15-084a-thigh.nii.gz-0.500000', 'hist-17-084a-thigh.nii.gz-0.500000', 'hist-18-084a-thigh.nii.gz-0.500000', 'hist-19-084a-thigh.nii.gz-0.500000'] \n",
      "Score: -0.5950077341675188\n"
     ]
    },
    {
     "name": "stderr",
     "output_type": "stream",
     "text": [
      "200it [00:00, 730.63it/s]\n"
     ]
    },
    {
     "name": "stdout",
     "output_type": "stream",
     "text": [
      "1\n",
      "1 0.612455227371183\n",
      "Objective LinearRegression_Objective:\n"
     ]
    },
    {
     "name": "stderr",
     "output_type": "stream",
     "text": [
      "  7%|███████████████████                                                                                                                                                                                                                                                                | 554/8000 [00:11<02:35, 47.87it/s]\n"
     ]
    },
    {
     "name": "stdout",
     "output_type": "stream",
     "text": [
      "iterations: 554\n",
      "Number of used features: 4\n",
      "Used features: ['sum-084a-thigh.nii.gz-0.500000', 'skew-084a-thigh.nii.gz-0.500000', 'hist-4-084a-thigh.nii.gz-0.500000', 'hist-6-084a-thigh.nii.gz-0.500000'] \n",
      "Score: -0.5404897968583431\n"
     ]
    },
    {
     "name": "stderr",
     "output_type": "stream",
     "text": [
      "200it [00:00, 795.30it/s]\n"
     ]
    },
    {
     "name": "stdout",
     "output_type": "stream",
     "text": [
      "1\n",
      "1 0.545796867125696\n",
      "Objective LassoRegression_Objective:\n"
     ]
    },
    {
     "name": "stderr",
     "output_type": "stream",
     "text": [
      "  7%|██████████████████▉                                                                                                                                                                                                                                                                | 551/8000 [00:40<09:12, 13.48it/s]\n"
     ]
    },
    {
     "name": "stdout",
     "output_type": "stream",
     "text": [
      "iterations: 551\n",
      "Number of used features: 5\n",
      "Used features: ['sum-084a-thigh.nii.gz-0.500000', 'std-084a-thigh.nii.gz-0.500000', 'hist-2-084a-thigh.nii.gz-0.500000', 'hist-5-084a-thigh.nii.gz-0.500000', 'hist-12-084a-thigh.nii.gz-0.500000'] \n",
      "Score: -0.5875298298544873\n"
     ]
    },
    {
     "name": "stderr",
     "output_type": "stream",
     "text": [
      "200it [00:00, 535.89it/s]\n"
     ]
    },
    {
     "name": "stdout",
     "output_type": "stream",
     "text": [
      "1\n",
      "1 0.598380058595575\n",
      "Objective RidgeRegression_Objective:\n"
     ]
    },
    {
     "name": "stderr",
     "output_type": "stream",
     "text": [
      "  7%|██████████████████▎                                                                                                                                                                                                                                                                | 531/8000 [00:33<07:56, 15.66it/s]\n"
     ]
    },
    {
     "name": "stdout",
     "output_type": "stream",
     "text": [
      "iterations: 531\n",
      "Number of used features: 4\n",
      "Used features: ['sum-084a-thigh.nii.gz-0.500000', 'std-084a-thigh.nii.gz-0.500000', 'hist-4-084a-thigh.nii.gz-0.500000', 'hist-6-084a-thigh.nii.gz-0.500000'] \n",
      "Score: -0.549676915960507\n"
     ]
    },
    {
     "name": "stderr",
     "output_type": "stream",
     "text": [
      "200it [00:00, 602.24it/s]\n"
     ]
    },
    {
     "name": "stdout",
     "output_type": "stream",
     "text": [
      "1\n",
      "1 0.5579389527263965\n",
      "Objective PLSRegression_Objective:\n"
     ]
    },
    {
     "name": "stderr",
     "output_type": "stream",
     "text": [
      "  7%|███████████████████▍                                                                                                                                                                                                                                                               | 564/8000 [00:24<05:23, 22.96it/s]\n"
     ]
    },
    {
     "name": "stdout",
     "output_type": "stream",
     "text": [
      "iterations: 564\n",
      "Number of used features: 7\n",
      "Used features: ['sum-084a-thigh.nii.gz-0.500000', 'std-084a-thigh.nii.gz-0.500000', 'skew-084a-thigh.nii.gz-0.500000', 'hist-3-084a-thigh.nii.gz-0.500000', 'hist-4-084a-thigh.nii.gz-0.500000', 'hist-6-084a-thigh.nii.gz-0.500000', 'hist-12-084a-thigh.nii.gz-0.500000'] \n",
      "Score: -0.5675552018794292\n"
     ]
    },
    {
     "name": "stderr",
     "output_type": "stream",
     "text": [
      "200it [00:00, 641.65it/s]\n"
     ]
    },
    {
     "name": "stdout",
     "output_type": "stream",
     "text": [
      "1\n",
      "1 0.5810133742880512\n",
      "Objective KNNR_Objective:\n"
     ]
    },
    {
     "name": "stderr",
     "output_type": "stream",
     "text": [
      "  9%|████████████████████████▊                                                                                                                                                                                                                                                          | 721/8000 [01:16<12:54,  9.40it/s]\n"
     ]
    },
    {
     "name": "stdout",
     "output_type": "stream",
     "text": [
      "iterations: 721\n",
      "Number of used features: 3\n",
      "Used features: ['hist-1-087f-thigh.nii.gz-0.500000', 'hist-2-087f-thigh.nii.gz-0.500000', 'hist-5-087f-thigh.nii.gz-0.500000'] \n",
      "Score: -0.5100186411740737\n"
     ]
    },
    {
     "name": "stderr",
     "output_type": "stream",
     "text": [
      "200it [00:00, 715.30it/s]\n"
     ]
    },
    {
     "name": "stdout",
     "output_type": "stream",
     "text": [
      "1\n",
      "1 0.5229880188655399\n",
      "Objective LinearRegression_Objective:\n"
     ]
    },
    {
     "name": "stderr",
     "output_type": "stream",
     "text": [
      "  7%|██████████████████▋                                                                                                                                                                                                                                                                | 542/8000 [00:10<02:18, 54.03it/s]\n"
     ]
    },
    {
     "name": "stdout",
     "output_type": "stream",
     "text": [
      "iterations: 542\n",
      "Number of used features: 4\n",
      "Used features: ['hist-0-087f-thigh.nii.gz-0.500000', 'hist-1-087f-thigh.nii.gz-0.500000', 'hist-4-087f-thigh.nii.gz-0.500000', 'hist-6-087f-thigh.nii.gz-0.500000'] \n",
      "Score: -0.5361304619575744\n"
     ]
    },
    {
     "name": "stderr",
     "output_type": "stream",
     "text": [
      "200it [00:00, 799.59it/s]\n"
     ]
    },
    {
     "name": "stdout",
     "output_type": "stream",
     "text": [
      "1\n",
      "1 0.5416851879594948\n",
      "Objective LassoRegression_Objective:\n"
     ]
    },
    {
     "name": "stderr",
     "output_type": "stream",
     "text": [
      "  8%|█████████████████████▊                                                                                                                                                                                                                                                             | 633/8000 [00:50<09:49, 12.50it/s]\n"
     ]
    },
    {
     "name": "stdout",
     "output_type": "stream",
     "text": [
      "iterations: 633\n",
      "Number of used features: 4\n",
      "Used features: ['num-087f-thigh.nii.gz-0.500000', 'hist-5-087f-thigh.nii.gz-0.500000', 'hist-14-087f-thigh.nii.gz-0.500000', 'hist-16-087f-thigh.nii.gz-0.500000'] \n",
      "Score: -0.5595245963069302\n"
     ]
    },
    {
     "name": "stderr",
     "output_type": "stream",
     "text": [
      "200it [00:00, 552.62it/s]\n"
     ]
    },
    {
     "name": "stdout",
     "output_type": "stream",
     "text": [
      "1\n",
      "1 0.565564519418557\n",
      "Objective RidgeRegression_Objective:\n"
     ]
    },
    {
     "name": "stderr",
     "output_type": "stream",
     "text": [
      "  7%|██████████████████▋                                                                                                                                                                                                                                                                | 542/8000 [00:33<07:46, 16.00it/s]\n"
     ]
    },
    {
     "name": "stdout",
     "output_type": "stream",
     "text": [
      "iterations: 542\n",
      "Number of used features: 4\n",
      "Used features: ['hist-0-087f-thigh.nii.gz-0.500000', 'hist-1-087f-thigh.nii.gz-0.500000', 'hist-4-087f-thigh.nii.gz-0.500000', 'hist-6-087f-thigh.nii.gz-0.500000'] \n",
      "Score: -0.53837505887509\n"
     ]
    },
    {
     "name": "stderr",
     "output_type": "stream",
     "text": [
      "200it [00:00, 608.30it/s]\n"
     ]
    },
    {
     "name": "stdout",
     "output_type": "stream",
     "text": [
      "1\n",
      "1 0.5450458801188811\n",
      "Objective PLSRegression_Objective:\n"
     ]
    },
    {
     "name": "stderr",
     "output_type": "stream",
     "text": [
      "  9%|████████████████████████▍                                                                                                                                                                                                                                                          | 711/8000 [00:35<06:07, 19.84it/s]\n"
     ]
    },
    {
     "name": "stdout",
     "output_type": "stream",
     "text": [
      "iterations: 711\n",
      "Number of used features: 3\n",
      "Used features: ['hist-3-087f-thigh.nii.gz-0.500000', 'hist-4-087f-thigh.nii.gz-0.500000', 'hist-6-087f-thigh.nii.gz-0.500000'] \n",
      "Score: -0.5551726116521921\n"
     ]
    },
    {
     "name": "stderr",
     "output_type": "stream",
     "text": [
      "200it [00:00, 688.34it/s]\n"
     ]
    },
    {
     "name": "stdout",
     "output_type": "stream",
     "text": [
      "1\n",
      "1 0.5636654070879306\n",
      "Objective KNNR_Objective:\n"
     ]
    },
    {
     "name": "stderr",
     "output_type": "stream",
     "text": [
      " 11%|█████████████████████████████▊                                                                                                                                                                                                                                                     | 869/8000 [01:34<12:59,  9.15it/s]\n"
     ]
    },
    {
     "name": "stdout",
     "output_type": "stream",
     "text": [
      "iterations: 869\n",
      "Number of used features: 5\n",
      "Used features: ['sum-088f-thigh.nii.gz-0.500000', 'hist-0-088f-thigh.nii.gz-0.500000', 'hist-1-088f-thigh.nii.gz-0.500000', 'hist-2-088f-thigh.nii.gz-0.500000', 'hist-5-088f-thigh.nii.gz-0.500000'] \n",
      "Score: -0.5853433000078917\n"
     ]
    },
    {
     "name": "stderr",
     "output_type": "stream",
     "text": [
      "200it [00:00, 723.95it/s]\n"
     ]
    },
    {
     "name": "stdout",
     "output_type": "stream",
     "text": [
      "1\n",
      "1 0.5897545479310582\n",
      "Objective LinearRegression_Objective:\n"
     ]
    },
    {
     "name": "stderr",
     "output_type": "stream",
     "text": [
      "  7%|███████████████████▏                                                                                                                                                                                                                                                               | 557/8000 [00:10<02:14, 55.18it/s]\n"
     ]
    },
    {
     "name": "stdout",
     "output_type": "stream",
     "text": [
      "iterations: 557\n",
      "Number of used features: 3\n",
      "Used features: ['hist-3-088f-thigh.nii.gz-0.500000', 'hist-4-088f-thigh.nii.gz-0.500000', 'hist-6-088f-thigh.nii.gz-0.500000'] \n",
      "Score: -0.5458036305770927\n"
     ]
    },
    {
     "name": "stderr",
     "output_type": "stream",
     "text": [
      "200it [00:00, 818.78it/s]\n"
     ]
    },
    {
     "name": "stdout",
     "output_type": "stream",
     "text": [
      "1\n",
      "1 0.5506185028666771\n",
      "Objective LassoRegression_Objective:\n"
     ]
    },
    {
     "name": "stderr",
     "output_type": "stream",
     "text": [
      "  8%|████████████████████▉                                                                                                                                                                                                                                                              | 608/8000 [00:47<09:33, 12.90it/s]\n"
     ]
    },
    {
     "name": "stdout",
     "output_type": "stream",
     "text": [
      "iterations: 608\n",
      "Number of used features: 5\n",
      "Used features: ['num-088f-thigh.nii.gz-0.500000', 'sum-088f-thigh.nii.gz-0.500000', 'std-088f-thigh.nii.gz-0.500000', 'hist-0-088f-thigh.nii.gz-0.500000', 'hist-12-088f-thigh.nii.gz-0.500000'] \n",
      "Score: -0.5758217400326056\n"
     ]
    },
    {
     "name": "stderr",
     "output_type": "stream",
     "text": [
      "200it [00:00, 548.47it/s]\n"
     ]
    },
    {
     "name": "stdout",
     "output_type": "stream",
     "text": [
      "1\n",
      "1 0.5884523949959244\n",
      "Objective RidgeRegression_Objective:\n"
     ]
    },
    {
     "name": "stderr",
     "output_type": "stream",
     "text": [
      " 10%|████████████████████████████▋                                                                                                                                                                                                                                                      | 835/8000 [01:01<08:45, 13.63it/s]\n"
     ]
    },
    {
     "name": "stdout",
     "output_type": "stream",
     "text": [
      "iterations: 835\n",
      "Number of used features: 3\n",
      "Used features: ['hist-3-088f-thigh.nii.gz-0.500000', 'hist-5-088f-thigh.nii.gz-0.500000', 'hist-6-088f-thigh.nii.gz-0.500000'] \n",
      "Score: -0.559865606992239\n"
     ]
    },
    {
     "name": "stderr",
     "output_type": "stream",
     "text": [
      "200it [00:00, 605.97it/s]\n"
     ]
    },
    {
     "name": "stdout",
     "output_type": "stream",
     "text": [
      "1\n",
      "1 0.5669343106743585\n",
      "Objective PLSRegression_Objective:\n"
     ]
    },
    {
     "name": "stderr",
     "output_type": "stream",
     "text": [
      " 10%|██████████████████████████▊                                                                                                                                                                                                                                                        | 779/8000 [00:43<06:46, 17.76it/s]\n"
     ]
    },
    {
     "name": "stdout",
     "output_type": "stream",
     "text": [
      "iterations: 779\n",
      "Number of used features: 7\n",
      "Used features: ['skew-088f-thigh.nii.gz-0.500000', 'hist-3-088f-thigh.nii.gz-0.500000', 'hist-4-088f-thigh.nii.gz-0.500000', 'hist-6-088f-thigh.nii.gz-0.500000', 'hist-10-088f-thigh.nii.gz-0.500000', 'hist-12-088f-thigh.nii.gz-0.500000', 'hist-13-088f-thigh.nii.gz-0.500000'] \n",
      "Score: -0.5862151977050312\n"
     ]
    },
    {
     "name": "stderr",
     "output_type": "stream",
     "text": [
      "200it [00:00, 622.70it/s]\n"
     ]
    },
    {
     "name": "stdout",
     "output_type": "stream",
     "text": [
      "1\n",
      "1 0.5869208588205677\n",
      "Objective KNNR_Objective:\n"
     ]
    },
    {
     "name": "stderr",
     "output_type": "stream",
     "text": [
      "  8%|████████████████████▋                                                                                                                                                                                                                                                              | 602/8000 [01:02<12:48,  9.63it/s]\n"
     ]
    },
    {
     "name": "stdout",
     "output_type": "stream",
     "text": [
      "iterations: 602\n",
      "Number of used features: 8\n",
      "Used features: ['num-088k-thigh.nii.gz-0.500000', 'kurt-088k-thigh.nii.gz-0.500000', 'hist-1-088k-thigh.nii.gz-0.500000', 'hist-2-088k-thigh.nii.gz-0.500000', 'hist-5-088k-thigh.nii.gz-0.500000', 'hist-14-088k-thigh.nii.gz-0.500000', 'hist-15-088k-thigh.nii.gz-0.500000', 'hist-18-088k-thigh.nii.gz-0.500000'] \n",
      "Score: -0.5388814240100279\n"
     ]
    },
    {
     "name": "stderr",
     "output_type": "stream",
     "text": [
      "200it [00:00, 718.10it/s]\n"
     ]
    },
    {
     "name": "stdout",
     "output_type": "stream",
     "text": [
      "1\n",
      "1 0.5641255285171904\n",
      "Objective LinearRegression_Objective:\n"
     ]
    },
    {
     "name": "stderr",
     "output_type": "stream",
     "text": [
      "  6%|█████████████████▉                                                                                                                                                                                                                                                                 | 520/8000 [00:07<01:54, 65.61it/s]\n"
     ]
    },
    {
     "name": "stdout",
     "output_type": "stream",
     "text": [
      "iterations: 520\n",
      "Number of used features: 3\n",
      "Used features: ['hist-2-088k-thigh.nii.gz-0.500000', 'hist-4-088k-thigh.nii.gz-0.500000', 'hist-6-088k-thigh.nii.gz-0.500000'] \n",
      "Score: -0.5329268092649877\n"
     ]
    },
    {
     "name": "stderr",
     "output_type": "stream",
     "text": [
      "200it [00:00, 820.83it/s]\n"
     ]
    },
    {
     "name": "stdout",
     "output_type": "stream",
     "text": [
      "1\n",
      "1 0.5374376842224129\n",
      "Objective LassoRegression_Objective:\n"
     ]
    },
    {
     "name": "stderr",
     "output_type": "stream",
     "text": [
      "  7%|████████████████████▏                                                                                                                                                                                                                                                              | 587/8000 [00:43<09:15, 13.34it/s]\n"
     ]
    },
    {
     "name": "stdout",
     "output_type": "stream",
     "text": [
      "iterations: 587\n",
      "Number of used features: 3\n",
      "Used features: ['hist-0-088k-thigh.nii.gz-0.500000', 'hist-2-088k-thigh.nii.gz-0.500000', 'hist-5-088k-thigh.nii.gz-0.500000'] \n",
      "Score: -0.5439930049391899\n"
     ]
    },
    {
     "name": "stderr",
     "output_type": "stream",
     "text": [
      "200it [00:00, 560.98it/s]\n"
     ]
    },
    {
     "name": "stdout",
     "output_type": "stream",
     "text": [
      "1\n",
      "1 0.5513167234690964\n",
      "Objective RidgeRegression_Objective:\n"
     ]
    },
    {
     "name": "stderr",
     "output_type": "stream",
     "text": [
      "  8%|███████████████████████                                                                                                                                                                                                                                                            | 670/8000 [00:48<08:54, 13.72it/s]\n"
     ]
    },
    {
     "name": "stdout",
     "output_type": "stream",
     "text": [
      "iterations: 670\n",
      "Number of used features: 5\n",
      "Used features: ['num-088k-thigh.nii.gz-0.500000', 'skew-088k-thigh.nii.gz-0.500000', 'hist-2-088k-thigh.nii.gz-0.500000', 'hist-4-088k-thigh.nii.gz-0.500000', 'hist-6-088k-thigh.nii.gz-0.500000'] \n",
      "Score: -0.5493196523905388\n"
     ]
    },
    {
     "name": "stderr",
     "output_type": "stream",
     "text": [
      "200it [00:00, 587.46it/s]\n"
     ]
    },
    {
     "name": "stdout",
     "output_type": "stream",
     "text": [
      "1\n",
      "1 0.5577574117853099\n",
      "Objective PLSRegression_Objective:\n"
     ]
    },
    {
     "name": "stderr",
     "output_type": "stream",
     "text": [
      "  6%|█████████████████▉                                                                                                                                                                                                                                                                 | 520/8000 [00:18<04:20, 28.74it/s]\n"
     ]
    },
    {
     "name": "stdout",
     "output_type": "stream",
     "text": [
      "iterations: 520\n",
      "Number of used features: 3\n",
      "Used features: ['hist-2-088k-thigh.nii.gz-0.500000', 'hist-4-088k-thigh.nii.gz-0.500000', 'hist-6-088k-thigh.nii.gz-0.500000'] \n",
      "Score: -0.5441345353229983\n"
     ]
    },
    {
     "name": "stderr",
     "output_type": "stream",
     "text": [
      "200it [00:00, 677.80it/s]\n"
     ]
    },
    {
     "name": "stdout",
     "output_type": "stream",
     "text": [
      "1\n",
      "1 0.552228254452408\n",
      "Objective KNNR_Objective:\n"
     ]
    },
    {
     "name": "stderr",
     "output_type": "stream",
     "text": [
      " 10%|████████████████████████████▍                                                                                                                                                                                                                                                      | 829/8000 [01:33<13:24,  8.91it/s]\n"
     ]
    },
    {
     "name": "stdout",
     "output_type": "stream",
     "text": [
      "iterations: 829\n",
      "Number of used features: 4\n",
      "Used features: ['num-090a-thigh.nii.gz-0.500000', 'sum-090a-thigh.nii.gz-0.500000', 'hist-5-090a-thigh.nii.gz-0.500000', 'hist-12-090a-thigh.nii.gz-0.500000'] \n",
      "Score: -0.5893139610158746\n"
     ]
    },
    {
     "name": "stderr",
     "output_type": "stream",
     "text": [
      "200it [00:00, 682.89it/s]\n"
     ]
    },
    {
     "name": "stdout",
     "output_type": "stream",
     "text": [
      "1\n",
      "1 0.5908124816420093\n",
      "Objective LinearRegression_Objective:\n"
     ]
    },
    {
     "name": "stderr",
     "output_type": "stream",
     "text": [
      "  7%|███████████████████▏                                                                                                                                                                                                                                                               | 558/8000 [00:13<02:54, 42.57it/s]\n"
     ]
    },
    {
     "name": "stdout",
     "output_type": "stream",
     "text": [
      "iterations: 558\n",
      "Number of used features: 6\n",
      "Used features: ['hist-4-090a-thigh.nii.gz-0.500000', 'hist-6-090a-thigh.nii.gz-0.500000', 'hist-11-090a-thigh.nii.gz-0.500000', 'hist-12-090a-thigh.nii.gz-0.500000', 'hist-13-090a-thigh.nii.gz-0.500000', 'hist-17-090a-thigh.nii.gz-0.500000'] \n",
      "Score: -0.6466685985182138\n"
     ]
    },
    {
     "name": "stderr",
     "output_type": "stream",
     "text": [
      "200it [00:00, 779.33it/s]\n"
     ]
    },
    {
     "name": "stdout",
     "output_type": "stream",
     "text": [
      "1\n",
      "1 0.6525949940391875\n",
      "Objective LassoRegression_Objective:\n"
     ]
    },
    {
     "name": "stderr",
     "output_type": "stream",
     "text": [
      "  7%|███████████████████▎                                                                                                                                                                                                                                                               | 561/8000 [00:43<09:34, 12.96it/s]\n"
     ]
    },
    {
     "name": "stdout",
     "output_type": "stream",
     "text": [
      "iterations: 561\n",
      "Number of used features: 7\n",
      "Used features: ['num-090a-thigh.nii.gz-0.500000', 'hist-0-090a-thigh.nii.gz-0.500000', 'hist-4-090a-thigh.nii.gz-0.500000', 'hist-6-090a-thigh.nii.gz-0.500000', 'hist-11-090a-thigh.nii.gz-0.500000', 'hist-12-090a-thigh.nii.gz-0.500000', 'hist-13-090a-thigh.nii.gz-0.500000'] \n",
      "Score: -0.6313272526325509\n"
     ]
    },
    {
     "name": "stderr",
     "output_type": "stream",
     "text": [
      "200it [00:00, 520.13it/s]\n"
     ]
    },
    {
     "name": "stdout",
     "output_type": "stream",
     "text": [
      "1\n",
      "1 0.6413743473846526\n",
      "Objective RidgeRegression_Objective:\n"
     ]
    },
    {
     "name": "stderr",
     "output_type": "stream",
     "text": [
      "  7%|███████████████████▌                                                                                                                                                                                                                                                               | 568/8000 [00:39<08:38, 14.35it/s]\n"
     ]
    },
    {
     "name": "stdout",
     "output_type": "stream",
     "text": [
      "iterations: 568\n",
      "Number of used features: 6\n",
      "Used features: ['num-090a-thigh.nii.gz-0.500000', 'hist-0-090a-thigh.nii.gz-0.500000', 'hist-5-090a-thigh.nii.gz-0.500000', 'hist-11-090a-thigh.nii.gz-0.500000', 'hist-12-090a-thigh.nii.gz-0.500000', 'hist-13-090a-thigh.nii.gz-0.500000'] \n",
      "Score: -0.6406408185930862\n"
     ]
    },
    {
     "name": "stderr",
     "output_type": "stream",
     "text": [
      "200it [00:00, 573.71it/s]\n"
     ]
    },
    {
     "name": "stdout",
     "output_type": "stream",
     "text": [
      "1\n",
      "1 0.6469106170659746\n",
      "Objective PLSRegression_Objective:\n"
     ]
    },
    {
     "name": "stderr",
     "output_type": "stream",
     "text": [
      "  7%|███████████████████▋                                                                                                                                                                                                                                                               | 573/8000 [00:26<05:44, 21.56it/s]\n"
     ]
    },
    {
     "name": "stdout",
     "output_type": "stream",
     "text": [
      "iterations: 573\n",
      "Number of used features: 6\n",
      "Used features: ['num-090a-thigh.nii.gz-0.500000', 'hist-4-090a-thigh.nii.gz-0.500000', 'hist-6-090a-thigh.nii.gz-0.500000', 'hist-10-090a-thigh.nii.gz-0.500000', 'hist-12-090a-thigh.nii.gz-0.500000', 'hist-13-090a-thigh.nii.gz-0.500000'] \n",
      "Score: -0.6315415475050038\n"
     ]
    },
    {
     "name": "stderr",
     "output_type": "stream",
     "text": [
      "200it [00:00, 633.65it/s]\n"
     ]
    },
    {
     "name": "stdout",
     "output_type": "stream",
     "text": [
      "1\n",
      "1 0.6342670401830348\n",
      "Objective KNNR_Objective:\n"
     ]
    },
    {
     "name": "stderr",
     "output_type": "stream",
     "text": [
      " 24%|██████████████████████████████████████████████████████████████████▊                                                                                                                                                                                                               | 1952/8000 [03:34<11:04,  9.10it/s]\n"
     ]
    },
    {
     "name": "stdout",
     "output_type": "stream",
     "text": [
      "iterations: 1952\n",
      "Number of used features: 10\n",
      "Used features: ['num-091f-thigh.nii.gz-0.500000', 'sum-091f-thigh.nii.gz-0.500000', 'std-091f-thigh.nii.gz-0.500000', 'hist-1-091f-thigh.nii.gz-0.500000', 'hist-2-091f-thigh.nii.gz-0.500000', 'hist-5-091f-thigh.nii.gz-0.500000', 'hist-14-091f-thigh.nii.gz-0.500000', 'hist-15-091f-thigh.nii.gz-0.500000', 'hist-17-091f-thigh.nii.gz-0.500000', 'hist-19-091f-thigh.nii.gz-0.500000'] \n",
      "Score: -0.610538313362883\n"
     ]
    },
    {
     "name": "stderr",
     "output_type": "stream",
     "text": [
      "200it [00:00, 667.61it/s]\n"
     ]
    },
    {
     "name": "stdout",
     "output_type": "stream",
     "text": [
      "1\n",
      "1 0.6313530241340553\n",
      "Objective LinearRegression_Objective:\n"
     ]
    },
    {
     "name": "stderr",
     "output_type": "stream",
     "text": [
      "  7%|███████████████████▋                                                                                                                                                                                                                                                               | 571/8000 [00:13<02:49, 43.71it/s]\n"
     ]
    },
    {
     "name": "stdout",
     "output_type": "stream",
     "text": [
      "iterations: 571\n",
      "Number of used features: 4\n",
      "Used features: ['hist-4-091f-thigh.nii.gz-0.500000', 'hist-6-091f-thigh.nii.gz-0.500000', 'hist-12-091f-thigh.nii.gz-0.500000', 'hist-19-091f-thigh.nii.gz-0.500000'] \n",
      "Score: -0.6157096036434309\n"
     ]
    },
    {
     "name": "stderr",
     "output_type": "stream",
     "text": [
      "200it [00:00, 776.95it/s]\n"
     ]
    },
    {
     "name": "stdout",
     "output_type": "stream",
     "text": [
      "1\n",
      "1 0.6244826601873268\n",
      "Objective LassoRegression_Objective:\n"
     ]
    },
    {
     "name": "stderr",
     "output_type": "stream",
     "text": [
      "  9%|███████████████████████▌                                                                                                                                                                                                                                                           | 684/8000 [01:00<10:45, 11.33it/s]\n"
     ]
    },
    {
     "name": "stdout",
     "output_type": "stream",
     "text": [
      "iterations: 684\n",
      "Number of used features: 6\n",
      "Used features: ['num-091f-thigh.nii.gz-0.500000', 'sum-091f-thigh.nii.gz-0.500000', 'hist-5-091f-thigh.nii.gz-0.500000', 'hist-12-091f-thigh.nii.gz-0.500000', 'hist-16-091f-thigh.nii.gz-0.500000', 'hist-18-091f-thigh.nii.gz-0.500000'] \n",
      "Score: -0.6468783609664854\n"
     ]
    },
    {
     "name": "stderr",
     "output_type": "stream",
     "text": [
      "200it [00:00, 521.78it/s]\n"
     ]
    },
    {
     "name": "stdout",
     "output_type": "stream",
     "text": [
      "1\n",
      "1 0.6540742336845554\n",
      "Objective RidgeRegression_Objective:\n"
     ]
    },
    {
     "name": "stderr",
     "output_type": "stream",
     "text": [
      "  8%|██████████████████████▌                                                                                                                                                                                                                                                            | 656/8000 [00:52<09:46, 12.52it/s]\n"
     ]
    },
    {
     "name": "stdout",
     "output_type": "stream",
     "text": [
      "iterations: 656\n",
      "Number of used features: 6\n",
      "Used features: ['num-091f-thigh.nii.gz-0.500000', 'sum-091f-thigh.nii.gz-0.500000', 'hist-5-091f-thigh.nii.gz-0.500000', 'hist-12-091f-thigh.nii.gz-0.500000', 'hist-16-091f-thigh.nii.gz-0.500000', 'hist-18-091f-thigh.nii.gz-0.500000'] \n",
      "Score: -0.647658043884985\n"
     ]
    },
    {
     "name": "stderr",
     "output_type": "stream",
     "text": [
      "200it [00:00, 583.23it/s]\n"
     ]
    },
    {
     "name": "stdout",
     "output_type": "stream",
     "text": [
      "1\n",
      "1 0.6559855679807265\n",
      "Objective PLSRegression_Objective:\n"
     ]
    },
    {
     "name": "stderr",
     "output_type": "stream",
     "text": [
      "  8%|██████████████████████▌                                                                                                                                                                                                                                                            | 655/8000 [00:30<05:44, 21.32it/s]\n"
     ]
    },
    {
     "name": "stdout",
     "output_type": "stream",
     "text": [
      "iterations: 655\n",
      "Number of used features: 6\n",
      "Used features: ['hist-4-091f-thigh.nii.gz-0.500000', 'hist-6-091f-thigh.nii.gz-0.500000', 'hist-12-091f-thigh.nii.gz-0.500000', 'hist-16-091f-thigh.nii.gz-0.500000', 'hist-18-091f-thigh.nii.gz-0.500000', 'hist-19-091f-thigh.nii.gz-0.500000'] \n",
      "Score: -0.6351229251446309\n"
     ]
    },
    {
     "name": "stderr",
     "output_type": "stream",
     "text": [
      "200it [00:00, 607.41it/s]\n"
     ]
    },
    {
     "name": "stdout",
     "output_type": "stream",
     "text": [
      "1\n",
      "1 0.6423280539315749\n",
      "Objective KNNR_Objective:\n"
     ]
    },
    {
     "name": "stderr",
     "output_type": "stream",
     "text": [
      "  7%|███████████████████▌                                                                                                                                                                                                                                                               | 568/8000 [00:57<12:36,  9.82it/s]\n"
     ]
    },
    {
     "name": "stdout",
     "output_type": "stream",
     "text": [
      "iterations: 568\n",
      "Number of used features: 6\n",
      "Used features: ['num-092k-thigh.nii.gz-0.500000', 'hist-0-092k-thigh.nii.gz-0.500000', 'hist-2-092k-thigh.nii.gz-0.500000', 'hist-5-092k-thigh.nii.gz-0.500000', 'hist-12-092k-thigh.nii.gz-0.500000', 'hist-19-092k-thigh.nii.gz-0.500000'] \n",
      "Score: -0.5806376546248291\n"
     ]
    },
    {
     "name": "stderr",
     "output_type": "stream",
     "text": [
      "200it [00:00, 696.47it/s]\n"
     ]
    },
    {
     "name": "stdout",
     "output_type": "stream",
     "text": [
      "1\n",
      "1 0.6016289490397453\n",
      "Objective LinearRegression_Objective:\n"
     ]
    },
    {
     "name": "stderr",
     "output_type": "stream",
     "text": [
      "  7%|███████████████████▌                                                                                                                                                                                                                                                               | 570/8000 [00:14<03:12, 38.63it/s]\n"
     ]
    },
    {
     "name": "stdout",
     "output_type": "stream",
     "text": [
      "iterations: 570\n",
      "Number of used features: 4\n",
      "Used features: ['num-092k-thigh.nii.gz-0.500000', 'mean-092k-thigh.nii.gz-0.500000', 'kurt-092k-thigh.nii.gz-0.500000', 'hist-0-092k-thigh.nii.gz-0.500000'] \n",
      "Score: -0.5867459674023078\n"
     ]
    },
    {
     "name": "stderr",
     "output_type": "stream",
     "text": [
      "200it [00:00, 781.85it/s]\n"
     ]
    },
    {
     "name": "stdout",
     "output_type": "stream",
     "text": [
      "1\n",
      "1 0.5977946788876611\n",
      "Objective LassoRegression_Objective:\n"
     ]
    },
    {
     "name": "stderr",
     "output_type": "stream",
     "text": [
      " 15%|████████████████████████████████████████▎                                                                                                                                                                                                                                         | 1176/8000 [01:15<07:17, 15.60it/s]\n"
     ]
    },
    {
     "name": "stdout",
     "output_type": "stream",
     "text": [
      "iterations: 1176\n",
      "Number of used features: 3\n",
      "Used features: ['sum-092k-thigh.nii.gz-0.500000', 'hist-3-092k-thigh.nii.gz-0.500000', 'hist-5-092k-thigh.nii.gz-0.500000'] \n",
      "Score: -0.5864768102727879\n"
     ]
    },
    {
     "name": "stderr",
     "output_type": "stream",
     "text": [
      "200it [00:00, 553.73it/s]\n"
     ]
    },
    {
     "name": "stdout",
     "output_type": "stream",
     "text": [
      "1\n",
      "1 0.5945619226895906\n",
      "Objective RidgeRegression_Objective:\n"
     ]
    },
    {
     "name": "stderr",
     "output_type": "stream",
     "text": [
      "  7%|███████████████████▎                                                                                                                                                                                                                                                               | 561/8000 [00:37<08:11, 15.14it/s]\n"
     ]
    },
    {
     "name": "stdout",
     "output_type": "stream",
     "text": [
      "iterations: 561\n",
      "Number of used features: 4\n",
      "Used features: ['num-092k-thigh.nii.gz-0.500000', 'sum-092k-thigh.nii.gz-0.500000', 'kurt-092k-thigh.nii.gz-0.500000', 'hist-5-092k-thigh.nii.gz-0.500000'] \n",
      "Score: -0.5827852349626772\n"
     ]
    },
    {
     "name": "stderr",
     "output_type": "stream",
     "text": [
      "200it [00:00, 607.50it/s]\n"
     ]
    },
    {
     "name": "stdout",
     "output_type": "stream",
     "text": [
      "1\n",
      "1 0.589730856803278\n",
      "Objective PLSRegression_Objective:\n"
     ]
    },
    {
     "name": "stderr",
     "output_type": "stream",
     "text": [
      " 10%|██████████████████████████▊                                                                                                                                                                                                                                                        | 779/8000 [00:43<06:41, 17.97it/s]\n"
     ]
    },
    {
     "name": "stdout",
     "output_type": "stream",
     "text": [
      "iterations: 779\n",
      "Number of used features: 7\n",
      "Used features: ['num-092k-thigh.nii.gz-0.500000', 'sum-092k-thigh.nii.gz-0.500000', 'kurt-092k-thigh.nii.gz-0.500000', 'hist-3-092k-thigh.nii.gz-0.500000', 'hist-4-092k-thigh.nii.gz-0.500000', 'hist-5-092k-thigh.nii.gz-0.500000', 'hist-6-092k-thigh.nii.gz-0.500000'] \n",
      "Score: -0.5876183644228192\n"
     ]
    },
    {
     "name": "stderr",
     "output_type": "stream",
     "text": [
      "200it [00:00, 686.99it/s]"
     ]
    },
    {
     "name": "stdout",
     "output_type": "stream",
     "text": [
      "1\n",
      "1 0.5979262055364727\n"
     ]
    },
    {
     "name": "stderr",
     "output_type": "stream",
     "text": [
      "\n"
     ]
    }
   ],
   "source": [
    "for m in masks:\n",
    "    results.append(model_selection(thigh_features[[c for c in thigh_features.columns if m in c or c == 'type']], thigh_target, dataset='thigh', type=m))"
   ]
  },
  {
   "cell_type": "markdown",
   "metadata": {},
   "source": [
    "### breast using all features"
   ]
  },
  {
   "cell_type": "code",
   "execution_count": 10,
   "metadata": {},
   "outputs": [
    {
     "name": "stdout",
     "output_type": "stream",
     "text": [
      "Objective KNNR_Objective:\n"
     ]
    },
    {
     "name": "stderr",
     "output_type": "stream",
     "text": [
      " 15%|████████████████████████████████████████                                                                                                                                                                                                                                          | 1168/8000 [02:44<16:00,  7.11it/s]\n"
     ]
    },
    {
     "name": "stdout",
     "output_type": "stream",
     "text": [
      "iterations: 1168\n",
      "Number of used features: 23\n",
      "Used features: ['hist-15-074k-breast.nii.gz-0.500000', 'kurt-077k-breast.nii.gz-0.500000', 'hist-1-077k-breast.nii.gz-0.500000', 'hist-14-079k-breast.nii.gz-0.500000', 'num-080k-breast.nii.gz-0.500000', 'sum-080k-breast.nii.gz-0.500000', 'hist-6-080k-breast.nii.gz-0.500000', 'hist-11-080k-breast.nii.gz-0.500000', 'num-082k-breast.nii.gz-0.500000', 'hist-1-083a-breast.nii.gz-0.500000', 'hist-6-083k-breast.nii.gz-0.500000', 'sum-088f-breast.nii.gz-0.500000', 'hist-18-088f-breast.nii.gz-0.500000', 'num-088k-breast.nii.gz-0.500000', 'sum-088k-breast.nii.gz-0.500000', 'std-088k-breast.nii.gz-0.500000', 'std-090a-breast.nii.gz-0.500000', 'hist-6-090a-breast.nii.gz-0.500000', 'num-091f-breast.nii.gz-0.500000', 'hist-13-091f-breast.nii.gz-0.500000', 'num-0.500000-mean_mask', 'sum-0.500000-mean_mask', 'hist-17-0.500000-mean_mask'] \n",
      "Score: -0.8525601507055522\n"
     ]
    },
    {
     "name": "stderr",
     "output_type": "stream",
     "text": [
      "200it [00:00, 708.12it/s]\n"
     ]
    },
    {
     "name": "stdout",
     "output_type": "stream",
     "text": [
      "1\n",
      "1 0.856548518254646\n",
      "Objective LinearRegression_Objective:\n"
     ]
    },
    {
     "name": "stderr",
     "output_type": "stream",
     "text": [
      " 31%|██████████████████████████████████████████████████████████████████████████████████████▏                                                                                                                                                                                           | 2517/8000 [04:49<10:30,  8.70it/s]\n"
     ]
    },
    {
     "name": "stdout",
     "output_type": "stream",
     "text": [
      "iterations: 2517\n",
      "Number of used features: 21\n",
      "Used features: ['skew-074k-breast.nii.gz-0.500000', 'hist-2-074k-breast.nii.gz-0.500000', 'std-077k-breast.nii.gz-0.500000', 'kurt-077k-breast.nii.gz-0.500000', 'mean-080k-breast.nii.gz-0.500000', 'hist-4-082k-breast.nii.gz-0.500000', 'hist-10-083a-breast.nii.gz-0.500000', 'kurt-083k-breast.nii.gz-0.500000', 'hist-18-083k-breast.nii.gz-0.500000', 'num-084a-breast.nii.gz-0.500000', 'hist-19-084a-breast.nii.gz-0.500000', 'num-088f-breast.nii.gz-0.500000', 'hist-2-088f-breast.nii.gz-0.500000', 'hist-7-088f-breast.nii.gz-0.500000', 'hist-15-088f-breast.nii.gz-0.500000', 'hist-1-088k-breast.nii.gz-0.500000', 'std-090a-breast.nii.gz-0.500000', 'kurt-090a-breast.nii.gz-0.500000', 'hist-13-092k-breast.nii.gz-0.500000', 'num-0.500000-mean_mask', 'hist-2-0.500000-mean_mask'] \n",
      "Score: -0.9509672144171991\n"
     ]
    },
    {
     "name": "stderr",
     "output_type": "stream",
     "text": [
      "200it [00:00, 753.72it/s]\n"
     ]
    },
    {
     "name": "stdout",
     "output_type": "stream",
     "text": [
      "1\n",
      "1 0.9578259292017982\n",
      "Objective LassoRegression_Objective:\n"
     ]
    },
    {
     "name": "stderr",
     "output_type": "stream",
     "text": [
      " 89%|███████████████████████████████████████████████████████████████████████████████████████████████████████████████████████████████████████████████████████████████████████████████████████████████████████████████████████████████████████████████████▌                              | 7112/8000 [26:35<03:19,  4.46it/s]\n"
     ]
    },
    {
     "name": "stdout",
     "output_type": "stream",
     "text": [
      "iterations: 7112\n",
      "Number of used features: 35\n",
      "Used features: ['kurt-074k-breast.nii.gz-0.500000', 'hist-15-074k-breast.nii.gz-0.500000', 'std-075a-breast.nii.gz-0.500000', 'hist-12-075a-breast.nii.gz-0.500000', 'hist-19-075a-breast.nii.gz-0.500000', 'kurt-075k-breast.nii.gz-0.500000', 'hist-4-075k-breast.nii.gz-0.500000', 'kurt-079k-breast.nii.gz-0.500000', 'hist-13-079k-breast.nii.gz-0.500000', 'hist-14-079k-breast.nii.gz-0.500000', 'std-080k-breast.nii.gz-0.500000', 'hist-11-080k-breast.nii.gz-0.500000', 'hist-12-083a-breast.nii.gz-0.500000', 'hist-15-083a-breast.nii.gz-0.500000', 'hist-13-083k-breast.nii.gz-0.500000', 'hist-19-083k-breast.nii.gz-0.500000', 'num-084a-breast.nii.gz-0.500000', 'skew-084a-breast.nii.gz-0.500000', 'hist-0-084a-breast.nii.gz-0.500000', 'num-087f-breast.nii.gz-0.500000', 'mean-087f-breast.nii.gz-0.500000', 'mean-088f-breast.nii.gz-0.500000', 'hist-0-088f-breast.nii.gz-0.500000', 'hist-4-088f-breast.nii.gz-0.500000', 'std-088k-breast.nii.gz-0.500000', 'kurt-088k-breast.nii.gz-0.500000', 'hist-16-088k-breast.nii.gz-0.500000', 'kurt-090a-breast.nii.gz-0.500000', 'num-091f-breast.nii.gz-0.500000', 'hist-17-091f-breast.nii.gz-0.500000', 'std-092k-breast.nii.gz-0.500000', 'hist-11-092k-breast.nii.gz-0.500000', 'kurt-0.500000-mean_mask', 'hist-17-0.500000-mean_mask', 'hist-18-0.500000-mean_mask'] \n",
      "Score: -0.9893902124664037\n"
     ]
    },
    {
     "name": "stderr",
     "output_type": "stream",
     "text": [
      "200it [00:00, 258.26it/s]\n"
     ]
    },
    {
     "name": "stdout",
     "output_type": "stream",
     "text": [
      "1\n",
      "1 0.9929180894798326\n",
      "Objective RidgeRegression_Objective:\n"
     ]
    },
    {
     "name": "stderr",
     "output_type": "stream",
     "text": [
      " 56%|██████████████████████████████████████████████████████████████████████████████████████████████████████████████████████████████████████████████████████████▍                                                                                                                       | 4508/8000 [12:47<09:54,  5.87it/s]\n"
     ]
    },
    {
     "name": "stdout",
     "output_type": "stream",
     "text": [
      "iterations: 4508\n",
      "Number of used features: 43\n",
      "Used features: ['kurt-074k-breast.nii.gz-0.500000', 'hist-1-075a-breast.nii.gz-0.500000', 'num-075k-breast.nii.gz-0.500000', 'hist-4-075k-breast.nii.gz-0.500000', 'num-077k-breast.nii.gz-0.500000', 'hist-6-077k-breast.nii.gz-0.500000', 'hist-13-077k-breast.nii.gz-0.500000', 'hist-19-077k-breast.nii.gz-0.500000', 'kurt-079k-breast.nii.gz-0.500000', 'hist-7-079k-breast.nii.gz-0.500000', 'hist-17-079k-breast.nii.gz-0.500000', 'hist-7-080k-breast.nii.gz-0.500000', 'hist-12-080k-breast.nii.gz-0.500000', 'hist-13-080k-breast.nii.gz-0.500000', 'hist-4-082k-breast.nii.gz-0.500000', 'hist-10-082k-breast.nii.gz-0.500000', 'hist-6-083a-breast.nii.gz-0.500000', 'hist-15-083a-breast.nii.gz-0.500000', 'num-083k-breast.nii.gz-0.500000', 'hist-7-083k-breast.nii.gz-0.500000', 'hist-9-083k-breast.nii.gz-0.500000', 'num-084a-breast.nii.gz-0.500000', 'skew-084a-breast.nii.gz-0.500000', 'hist-0-084a-breast.nii.gz-0.500000', 'num-087f-breast.nii.gz-0.500000', 'sum-087f-breast.nii.gz-0.500000', 'hist-2-087f-breast.nii.gz-0.500000', 'hist-7-087f-breast.nii.gz-0.500000', 'hist-14-087f-breast.nii.gz-0.500000', 'mean-088f-breast.nii.gz-0.500000', 'hist-7-088f-breast.nii.gz-0.500000', 'hist-11-088f-breast.nii.gz-0.500000', 'std-088k-breast.nii.gz-0.500000', 'hist-3-088k-breast.nii.gz-0.500000', 'hist-4-088k-breast.nii.gz-0.500000', 'hist-13-088k-breast.nii.gz-0.500000', 'std-092k-breast.nii.gz-0.500000', 'hist-2-092k-breast.nii.gz-0.500000', 'hist-4-092k-breast.nii.gz-0.500000', 'hist-7-092k-breast.nii.gz-0.500000', 'hist-9-092k-breast.nii.gz-0.500000', 'skew-0.500000-mean_mask', 'kurt-0.500000-mean_mask'] \n",
      "Score: -0.9931548847509836\n"
     ]
    },
    {
     "name": "stderr",
     "output_type": "stream",
     "text": [
      "200it [00:00, 564.13it/s]\n"
     ]
    },
    {
     "name": "stdout",
     "output_type": "stream",
     "text": [
      "1\n",
      "1 0.9951324892410475\n",
      "Objective PLSRegression_Objective:\n"
     ]
    },
    {
     "name": "stderr",
     "output_type": "stream",
     "text": [
      " 46%|███████████████████████████████████████████████████████████████████████████████████████████████████████████████████████████████▍                                                                                                                                                  | 3719/8000 [12:16<14:08,  5.05it/s]\n"
     ]
    },
    {
     "name": "stdout",
     "output_type": "stream",
     "text": [
      "iterations: 3719\n",
      "Number of used features: 27\n",
      "Used features: ['sum-075a-breast.nii.gz-0.500000', 'hist-3-075a-breast.nii.gz-0.500000', 'hist-4-075k-breast.nii.gz-0.500000', 'hist-4-077k-breast.nii.gz-0.500000', 'hist-14-079k-breast.nii.gz-0.500000', 'mean-083a-breast.nii.gz-0.500000', 'hist-1-083a-breast.nii.gz-0.500000', 'hist-3-083k-breast.nii.gz-0.500000', 'num-084a-breast.nii.gz-0.500000', 'skew-084a-breast.nii.gz-0.500000', 'hist-19-084a-breast.nii.gz-0.500000', 'hist-1-087f-breast.nii.gz-0.500000', 'hist-2-087f-breast.nii.gz-0.500000', 'mean-088f-breast.nii.gz-0.500000', 'hist-0-088f-breast.nii.gz-0.500000', 'hist-3-088f-breast.nii.gz-0.500000', 'mean-088k-breast.nii.gz-0.500000', 'hist-4-088k-breast.nii.gz-0.500000', 'std-090a-breast.nii.gz-0.500000', 'kurt-090a-breast.nii.gz-0.500000', 'hist-2-090a-breast.nii.gz-0.500000', 'mean-091f-breast.nii.gz-0.500000', 'std-091f-breast.nii.gz-0.500000', 'std-092k-breast.nii.gz-0.500000', 'hist-11-092k-breast.nii.gz-0.500000', 'num-0.500000-mean_mask', 'hist-1-0.500000-mean_mask'] \n",
      "Score: -0.9554700809822054\n"
     ]
    },
    {
     "name": "stderr",
     "output_type": "stream",
     "text": [
      "200it [00:00, 487.05it/s]"
     ]
    },
    {
     "name": "stdout",
     "output_type": "stream",
     "text": [
      "1\n",
      "1 0.9589731017917894\n"
     ]
    },
    {
     "name": "stderr",
     "output_type": "stream",
     "text": [
      "\n"
     ]
    }
   ],
   "source": [
    "results.append(model_selection(breast_features, breast_target, dataset='breast', type='all'))"
   ]
  },
  {
   "cell_type": "markdown",
   "metadata": {},
   "source": [
    "### breast using the mean mask features"
   ]
  },
  {
   "cell_type": "code",
   "execution_count": 11,
   "metadata": {},
   "outputs": [
    {
     "name": "stdout",
     "output_type": "stream",
     "text": [
      "Objective KNNR_Objective:\n"
     ]
    },
    {
     "name": "stderr",
     "output_type": "stream",
     "text": [
      "  9%|█████████████████████████                                                                                                                                                                                                                                                          | 730/8000 [01:15<12:36,  9.61it/s]\n"
     ]
    },
    {
     "name": "stdout",
     "output_type": "stream",
     "text": [
      "iterations: 730\n",
      "Number of used features: 4\n",
      "Used features: ['num-0.500000-mean_mask', 'sum-0.500000-mean_mask', 'hist-0-0.500000-mean_mask', 'hist-17-0.500000-mean_mask'] \n",
      "Score: -0.8507829977737915\n"
     ]
    },
    {
     "name": "stderr",
     "output_type": "stream",
     "text": [
      "200it [00:00, 698.44it/s]\n"
     ]
    },
    {
     "name": "stdout",
     "output_type": "stream",
     "text": [
      "1\n",
      "1 0.8553703915485695\n",
      "Objective LinearRegression_Objective:\n"
     ]
    },
    {
     "name": "stderr",
     "output_type": "stream",
     "text": [
      "  7%|████████████████████                                                                                                                                                                                                                                                               | 582/8000 [00:15<03:20, 37.03it/s]\n"
     ]
    },
    {
     "name": "stdout",
     "output_type": "stream",
     "text": [
      "iterations: 582\n",
      "Number of used features: 6\n",
      "Used features: ['num-0.500000-mean_mask', 'kurt-0.500000-mean_mask', 'hist-1-0.500000-mean_mask', 'hist-6-0.500000-mean_mask', 'hist-14-0.500000-mean_mask', 'hist-19-0.500000-mean_mask'] \n",
      "Score: -0.9039569411098909\n"
     ]
    },
    {
     "name": "stderr",
     "output_type": "stream",
     "text": [
      "200it [00:00, 766.80it/s]\n"
     ]
    },
    {
     "name": "stdout",
     "output_type": "stream",
     "text": [
      "1\n",
      "1 0.9078316557237138\n",
      "Objective LassoRegression_Objective:\n"
     ]
    },
    {
     "name": "stderr",
     "output_type": "stream",
     "text": [
      "  8%|█████████████████████▏                                                                                                                                                                                                                                                             | 616/8000 [00:52<10:24, 11.82it/s]\n"
     ]
    },
    {
     "name": "stdout",
     "output_type": "stream",
     "text": [
      "iterations: 616\n",
      "Number of used features: 7\n",
      "Used features: ['num-0.500000-mean_mask', 'sum-0.500000-mean_mask', 'kurt-0.500000-mean_mask', 'hist-1-0.500000-mean_mask', 'hist-9-0.500000-mean_mask', 'hist-11-0.500000-mean_mask', 'hist-19-0.500000-mean_mask'] \n",
      "Score: -0.9095845393015165\n"
     ]
    },
    {
     "name": "stderr",
     "output_type": "stream",
     "text": [
      "200it [00:00, 516.31it/s]\n"
     ]
    },
    {
     "name": "stdout",
     "output_type": "stream",
     "text": [
      "1\n",
      "1 0.9114887413050343\n",
      "Objective RidgeRegression_Objective:\n"
     ]
    },
    {
     "name": "stderr",
     "output_type": "stream",
     "text": [
      "  8%|██████████████████████▉                                                                                                                                                                                                                                                            | 669/8000 [00:52<09:33, 12.79it/s]\n"
     ]
    },
    {
     "name": "stdout",
     "output_type": "stream",
     "text": [
      "iterations: 669\n",
      "Number of used features: 8\n",
      "Used features: ['num-0.500000-mean_mask', 'kurt-0.500000-mean_mask', 'hist-1-0.500000-mean_mask', 'hist-5-0.500000-mean_mask', 'hist-6-0.500000-mean_mask', 'hist-7-0.500000-mean_mask', 'hist-11-0.500000-mean_mask', 'hist-19-0.500000-mean_mask'] \n",
      "Score: -0.9119865852985796\n"
     ]
    },
    {
     "name": "stderr",
     "output_type": "stream",
     "text": [
      "200it [00:00, 570.68it/s]\n"
     ]
    },
    {
     "name": "stdout",
     "output_type": "stream",
     "text": [
      "1\n",
      "1 0.9142884555019826\n",
      "Objective PLSRegression_Objective:\n"
     ]
    },
    {
     "name": "stderr",
     "output_type": "stream",
     "text": [
      "  9%|█████████████████████████                                                                                                                                                                                                                                                          | 730/8000 [00:46<07:38, 15.86it/s]\n"
     ]
    },
    {
     "name": "stdout",
     "output_type": "stream",
     "text": [
      "iterations: 730\n",
      "Number of used features: 10\n",
      "Used features: ['num-0.500000-mean_mask', 'sum-0.500000-mean_mask', 'kurt-0.500000-mean_mask', 'hist-4-0.500000-mean_mask', 'hist-5-0.500000-mean_mask', 'hist-6-0.500000-mean_mask', 'hist-7-0.500000-mean_mask', 'hist-8-0.500000-mean_mask', 'hist-9-0.500000-mean_mask', 'hist-19-0.500000-mean_mask'] \n",
      "Score: -0.9048973696020423\n"
     ]
    },
    {
     "name": "stderr",
     "output_type": "stream",
     "text": [
      "200it [00:00, 636.57it/s]"
     ]
    },
    {
     "name": "stdout",
     "output_type": "stream",
     "text": [
      "1\n",
      "1 0.9061627691585916\n"
     ]
    },
    {
     "name": "stderr",
     "output_type": "stream",
     "text": [
      "\n"
     ]
    }
   ],
   "source": [
    "results.append(model_selection(breast_features[[c for c in breast_features.columns if 'mean_mask' in c or c == 'type']], breast_target, dataset='breast', type='mean_mask'))"
   ]
  },
  {
   "cell_type": "markdown",
   "metadata": {},
   "source": [
    "### breast using the features of the individual masks"
   ]
  },
  {
   "cell_type": "code",
   "execution_count": 12,
   "metadata": {},
   "outputs": [
    {
     "name": "stdout",
     "output_type": "stream",
     "text": [
      "Objective KNNR_Objective:\n"
     ]
    },
    {
     "name": "stderr",
     "output_type": "stream",
     "text": [
      " 14%|██████████████████████████████████████                                                                                                                                                                                                                                            | 1110/8000 [02:07<13:09,  8.73it/s]\n"
     ]
    },
    {
     "name": "stdout",
     "output_type": "stream",
     "text": [
      "iterations: 1110\n",
      "Number of used features: 4\n",
      "Used features: ['num-074k-breast.nii.gz-0.500000', 'sum-074k-breast.nii.gz-0.500000', 'hist-6-074k-breast.nii.gz-0.500000', 'hist-12-074k-breast.nii.gz-0.500000'] \n",
      "Score: -0.8447759146663291\n"
     ]
    },
    {
     "name": "stderr",
     "output_type": "stream",
     "text": [
      "200it [00:00, 692.31it/s]\n"
     ]
    },
    {
     "name": "stdout",
     "output_type": "stream",
     "text": [
      "1\n",
      "1 0.8496190342126176\n",
      "Objective LinearRegression_Objective:\n"
     ]
    },
    {
     "name": "stderr",
     "output_type": "stream",
     "text": [
      "  8%|█████████████████████▌                                                                                                                                                                                                                                                             | 628/8000 [00:21<04:12, 29.18it/s]\n"
     ]
    },
    {
     "name": "stdout",
     "output_type": "stream",
     "text": [
      "iterations: 628\n",
      "Number of used features: 5\n",
      "Used features: ['hist-2-074k-breast.nii.gz-0.500000', 'hist-4-074k-breast.nii.gz-0.500000', 'hist-6-074k-breast.nii.gz-0.500000', 'hist-8-074k-breast.nii.gz-0.500000', 'hist-9-074k-breast.nii.gz-0.500000'] \n",
      "Score: -0.8863694726157297\n"
     ]
    },
    {
     "name": "stderr",
     "output_type": "stream",
     "text": [
      "200it [00:00, 760.43it/s]\n"
     ]
    },
    {
     "name": "stdout",
     "output_type": "stream",
     "text": [
      "1\n",
      "1 0.8858601110347304\n",
      "Objective LassoRegression_Objective:\n"
     ]
    },
    {
     "name": "stderr",
     "output_type": "stream",
     "text": [
      " 12%|█████████████████████████████████▉                                                                                                                                                                                                                                                 | 986/8000 [01:09<08:14, 14.19it/s]\n"
     ]
    },
    {
     "name": "stdout",
     "output_type": "stream",
     "text": [
      "iterations: 986\n",
      "Number of used features: 5\n",
      "Used features: ['skew-074k-breast.nii.gz-0.500000', 'hist-1-074k-breast.nii.gz-0.500000', 'hist-4-074k-breast.nii.gz-0.500000', 'hist-6-074k-breast.nii.gz-0.500000', 'hist-8-074k-breast.nii.gz-0.500000'] \n",
      "Score: -0.8778781835292206\n"
     ]
    },
    {
     "name": "stderr",
     "output_type": "stream",
     "text": [
      "200it [00:00, 548.16it/s]\n"
     ]
    },
    {
     "name": "stdout",
     "output_type": "stream",
     "text": [
      "1\n",
      "1 0.8789919928138932\n",
      "Objective RidgeRegression_Objective:\n"
     ]
    },
    {
     "name": "stderr",
     "output_type": "stream",
     "text": [
      " 17%|███████████████████████████████████████████████▌                                                                                                                                                                                                                                  | 1390/8000 [01:43<08:11, 13.46it/s]\n"
     ]
    },
    {
     "name": "stdout",
     "output_type": "stream",
     "text": [
      "iterations: 1390\n",
      "Number of used features: 6\n",
      "Used features: ['hist-2-074k-breast.nii.gz-0.500000', 'hist-4-074k-breast.nii.gz-0.500000', 'hist-5-074k-breast.nii.gz-0.500000', 'hist-6-074k-breast.nii.gz-0.500000', 'hist-7-074k-breast.nii.gz-0.500000', 'hist-8-074k-breast.nii.gz-0.500000'] \n",
      "Score: -0.8944521352927866\n"
     ]
    },
    {
     "name": "stderr",
     "output_type": "stream",
     "text": [
      "200it [00:00, 606.07it/s]\n"
     ]
    },
    {
     "name": "stdout",
     "output_type": "stream",
     "text": [
      "1\n",
      "1 0.8942908753603201\n",
      "Objective PLSRegression_Objective:\n"
     ]
    },
    {
     "name": "stderr",
     "output_type": "stream",
     "text": [
      "  9%|███████████████████████▊                                                                                                                                                                                                                                                           | 694/8000 [00:41<07:21, 16.55it/s]\n"
     ]
    },
    {
     "name": "stdout",
     "output_type": "stream",
     "text": [
      "iterations: 694\n",
      "Number of used features: 12\n",
      "Used features: ['num-074k-breast.nii.gz-0.500000', 'sum-074k-breast.nii.gz-0.500000', 'hist-1-074k-breast.nii.gz-0.500000', 'hist-4-074k-breast.nii.gz-0.500000', 'hist-5-074k-breast.nii.gz-0.500000', 'hist-6-074k-breast.nii.gz-0.500000', 'hist-7-074k-breast.nii.gz-0.500000', 'hist-8-074k-breast.nii.gz-0.500000', 'hist-12-074k-breast.nii.gz-0.500000', 'hist-15-074k-breast.nii.gz-0.500000', 'hist-18-074k-breast.nii.gz-0.500000', 'hist-19-074k-breast.nii.gz-0.500000'] \n",
      "Score: -0.8794134324263133\n"
     ]
    },
    {
     "name": "stderr",
     "output_type": "stream",
     "text": [
      "200it [00:00, 606.18it/s]\n"
     ]
    },
    {
     "name": "stdout",
     "output_type": "stream",
     "text": [
      "1\n",
      "1 0.8815611436250019\n",
      "Objective KNNR_Objective:\n"
     ]
    },
    {
     "name": "stderr",
     "output_type": "stream",
     "text": [
      " 10%|████████████████████████████                                                                                                                                                                                                                                                       | 817/8000 [01:29<13:11,  9.08it/s]\n"
     ]
    },
    {
     "name": "stdout",
     "output_type": "stream",
     "text": [
      "iterations: 817\n",
      "Number of used features: 5\n",
      "Used features: ['num-075a-breast.nii.gz-0.500000', 'sum-075a-breast.nii.gz-0.500000', 'mean-075a-breast.nii.gz-0.500000', 'hist-3-075a-breast.nii.gz-0.500000', 'hist-6-075a-breast.nii.gz-0.500000'] \n",
      "Score: -0.8264078867961644\n"
     ]
    },
    {
     "name": "stderr",
     "output_type": "stream",
     "text": [
      "200it [00:00, 704.65it/s]\n"
     ]
    },
    {
     "name": "stdout",
     "output_type": "stream",
     "text": [
      "1\n",
      "1 0.8311310217076603\n",
      "Objective LinearRegression_Objective:\n"
     ]
    },
    {
     "name": "stderr",
     "output_type": "stream",
     "text": [
      "  7%|███████████████████▊                                                                                                                                                                                                                                                               | 578/8000 [00:14<03:12, 38.56it/s]\n"
     ]
    },
    {
     "name": "stdout",
     "output_type": "stream",
     "text": [
      "iterations: 578\n",
      "Number of used features: 5\n",
      "Used features: ['hist-1-075a-breast.nii.gz-0.500000', 'hist-5-075a-breast.nii.gz-0.500000', 'hist-6-075a-breast.nii.gz-0.500000', 'hist-7-075a-breast.nii.gz-0.500000', 'hist-8-075a-breast.nii.gz-0.500000'] \n",
      "Score: -0.8775022427619951\n"
     ]
    },
    {
     "name": "stderr",
     "output_type": "stream",
     "text": [
      "200it [00:00, 789.26it/s]\n"
     ]
    },
    {
     "name": "stdout",
     "output_type": "stream",
     "text": [
      "1\n",
      "1 0.8778979024528797\n",
      "Objective LassoRegression_Objective:\n"
     ]
    },
    {
     "name": "stderr",
     "output_type": "stream",
     "text": [
      "  9%|████████████████████████▋                                                                                                                                                                                                                                                          | 717/8000 [01:00<10:10, 11.92it/s]\n"
     ]
    },
    {
     "name": "stdout",
     "output_type": "stream",
     "text": [
      "iterations: 717\n",
      "Number of used features: 5\n",
      "Used features: ['hist-1-075a-breast.nii.gz-0.500000', 'hist-4-075a-breast.nii.gz-0.500000', 'hist-6-075a-breast.nii.gz-0.500000', 'hist-8-075a-breast.nii.gz-0.500000', 'hist-18-075a-breast.nii.gz-0.500000'] \n",
      "Score: -0.8683448414316178\n"
     ]
    },
    {
     "name": "stderr",
     "output_type": "stream",
     "text": [
      "200it [00:00, 545.09it/s]\n"
     ]
    },
    {
     "name": "stdout",
     "output_type": "stream",
     "text": [
      "1\n",
      "1 0.8711475283911795\n",
      "Objective RidgeRegression_Objective:\n"
     ]
    },
    {
     "name": "stderr",
     "output_type": "stream",
     "text": [
      "  8%|███████████████████████▏                                                                                                                                                                                                                                                           | 675/8000 [00:46<08:24, 14.51it/s]\n"
     ]
    },
    {
     "name": "stdout",
     "output_type": "stream",
     "text": [
      "iterations: 675\n",
      "Number of used features: 5\n",
      "Used features: ['num-075a-breast.nii.gz-0.500000', 'skew-075a-breast.nii.gz-0.500000', 'kurt-075a-breast.nii.gz-0.500000', 'hist-1-075a-breast.nii.gz-0.500000', 'hist-6-075a-breast.nii.gz-0.500000'] \n",
      "Score: -0.8486225736756773\n"
     ]
    },
    {
     "name": "stderr",
     "output_type": "stream",
     "text": [
      "200it [00:00, 604.35it/s]\n"
     ]
    },
    {
     "name": "stdout",
     "output_type": "stream",
     "text": [
      "1\n",
      "1 0.8499414572774172\n",
      "Objective PLSRegression_Objective:\n"
     ]
    },
    {
     "name": "stderr",
     "output_type": "stream",
     "text": [
      " 11%|██████████████████████████████▊                                                                                                                                                                                                                                                    | 895/8000 [00:52<06:55, 17.09it/s]\n"
     ]
    },
    {
     "name": "stdout",
     "output_type": "stream",
     "text": [
      "iterations: 895\n",
      "Number of used features: 5\n",
      "Used features: ['hist-1-075a-breast.nii.gz-0.500000', 'hist-5-075a-breast.nii.gz-0.500000', 'hist-6-075a-breast.nii.gz-0.500000', 'hist-7-075a-breast.nii.gz-0.500000', 'hist-9-075a-breast.nii.gz-0.500000'] \n",
      "Score: -0.8812805427137371\n"
     ]
    },
    {
     "name": "stderr",
     "output_type": "stream",
     "text": [
      "200it [00:00, 600.46it/s]\n"
     ]
    },
    {
     "name": "stdout",
     "output_type": "stream",
     "text": [
      "1\n",
      "1 0.8820507478602045\n",
      "Objective KNNR_Objective:\n"
     ]
    },
    {
     "name": "stderr",
     "output_type": "stream",
     "text": [
      " 24%|█████████████████████████████████████████████████████████████████                                                                                                                                                                                                                 | 1898/8000 [03:16<10:31,  9.66it/s]\n"
     ]
    },
    {
     "name": "stdout",
     "output_type": "stream",
     "text": [
      "iterations: 1898\n",
      "Number of used features: 3\n",
      "Used features: ['num-075k-breast.nii.gz-0.500000', 'skew-075k-breast.nii.gz-0.500000', 'kurt-075k-breast.nii.gz-0.500000'] \n",
      "Score: -0.8130460496447152\n"
     ]
    },
    {
     "name": "stderr",
     "output_type": "stream",
     "text": [
      "200it [00:00, 714.53it/s]\n"
     ]
    },
    {
     "name": "stdout",
     "output_type": "stream",
     "text": [
      "1\n",
      "1 0.8140999456019442\n",
      "Objective LinearRegression_Objective:\n"
     ]
    },
    {
     "name": "stderr",
     "output_type": "stream",
     "text": [
      " 10%|███████████████████████████▍                                                                                                                                                                                                                                                       | 799/8000 [00:30<04:34, 26.27it/s]\n"
     ]
    },
    {
     "name": "stdout",
     "output_type": "stream",
     "text": [
      "iterations: 799\n",
      "Number of used features: 6\n",
      "Used features: ['num-075k-breast.nii.gz-0.500000', 'hist-0-075k-breast.nii.gz-0.500000', 'hist-1-075k-breast.nii.gz-0.500000', 'hist-2-075k-breast.nii.gz-0.500000', 'hist-5-075k-breast.nii.gz-0.500000', 'hist-7-075k-breast.nii.gz-0.500000'] \n",
      "Score: -0.9170600156255112\n"
     ]
    },
    {
     "name": "stderr",
     "output_type": "stream",
     "text": [
      "200it [00:00, 802.53it/s]\n"
     ]
    },
    {
     "name": "stdout",
     "output_type": "stream",
     "text": [
      "1\n",
      "1 0.9184405493666333\n",
      "Objective LassoRegression_Objective:\n"
     ]
    },
    {
     "name": "stderr",
     "output_type": "stream",
     "text": [
      " 18%|█████████████████████████████████████████████████▍                                                                                                                                                                                                                                | 1442/8000 [01:49<08:17, 13.17it/s]\n"
     ]
    },
    {
     "name": "stdout",
     "output_type": "stream",
     "text": [
      "iterations: 1442\n",
      "Number of used features: 6\n",
      "Used features: ['hist-0-075k-breast.nii.gz-0.500000', 'hist-1-075k-breast.nii.gz-0.500000', 'hist-2-075k-breast.nii.gz-0.500000', 'hist-5-075k-breast.nii.gz-0.500000', 'hist-7-075k-breast.nii.gz-0.500000', 'hist-10-075k-breast.nii.gz-0.500000'] \n",
      "Score: -0.917957170313655\n"
     ]
    },
    {
     "name": "stderr",
     "output_type": "stream",
     "text": [
      "200it [00:00, 498.43it/s]\n"
     ]
    },
    {
     "name": "stdout",
     "output_type": "stream",
     "text": [
      "1\n",
      "1 0.9186236671039395\n",
      "Objective RidgeRegression_Objective:\n"
     ]
    },
    {
     "name": "stderr",
     "output_type": "stream",
     "text": [
      " 10%|██████████████████████████▉                                                                                                                                                                                                                                                        | 783/8000 [00:59<09:11, 13.08it/s]\n"
     ]
    },
    {
     "name": "stdout",
     "output_type": "stream",
     "text": [
      "iterations: 783\n",
      "Number of used features: 10\n",
      "Used features: ['num-075k-breast.nii.gz-0.500000', 'mean-075k-breast.nii.gz-0.500000', 'std-075k-breast.nii.gz-0.500000', 'skew-075k-breast.nii.gz-0.500000', 'hist-0-075k-breast.nii.gz-0.500000', 'hist-1-075k-breast.nii.gz-0.500000', 'hist-4-075k-breast.nii.gz-0.500000', 'hist-9-075k-breast.nii.gz-0.500000', 'hist-15-075k-breast.nii.gz-0.500000', 'hist-19-075k-breast.nii.gz-0.500000'] \n",
      "Score: -0.9075656204515596\n"
     ]
    },
    {
     "name": "stderr",
     "output_type": "stream",
     "text": [
      "200it [00:00, 595.42it/s]\n"
     ]
    },
    {
     "name": "stdout",
     "output_type": "stream",
     "text": [
      "1\n",
      "1 0.9135982612510656\n",
      "Objective PLSRegression_Objective:\n"
     ]
    },
    {
     "name": "stderr",
     "output_type": "stream",
     "text": [
      "  9%|█████████████████████████▏                                                                                                                                                                                                                                                         | 733/8000 [00:44<07:24, 16.36it/s]\n"
     ]
    },
    {
     "name": "stdout",
     "output_type": "stream",
     "text": [
      "iterations: 733\n",
      "Number of used features: 7\n",
      "Used features: ['num-075k-breast.nii.gz-0.500000', 'skew-075k-breast.nii.gz-0.500000', 'hist-1-075k-breast.nii.gz-0.500000', 'hist-2-075k-breast.nii.gz-0.500000', 'hist-4-075k-breast.nii.gz-0.500000', 'hist-8-075k-breast.nii.gz-0.500000', 'hist-9-075k-breast.nii.gz-0.500000'] \n",
      "Score: -0.905359701534738\n"
     ]
    },
    {
     "name": "stderr",
     "output_type": "stream",
     "text": [
      "200it [00:00, 598.64it/s]\n"
     ]
    },
    {
     "name": "stdout",
     "output_type": "stream",
     "text": [
      "1\n",
      "1 0.9070467427648337\n",
      "Objective KNNR_Objective:\n"
     ]
    },
    {
     "name": "stderr",
     "output_type": "stream",
     "text": [
      " 10%|███████████████████████████▊                                                                                                                                                                                                                                                       | 808/8000 [01:23<12:25,  9.64it/s]\n"
     ]
    },
    {
     "name": "stdout",
     "output_type": "stream",
     "text": [
      "iterations: 808\n",
      "Number of used features: 3\n",
      "Used features: ['num-077k-breast.nii.gz-0.500000', 'kurt-077k-breast.nii.gz-0.500000', 'hist-1-077k-breast.nii.gz-0.500000'] \n",
      "Score: -0.7413826961007562\n"
     ]
    },
    {
     "name": "stderr",
     "output_type": "stream",
     "text": [
      "200it [00:00, 682.07it/s]\n"
     ]
    },
    {
     "name": "stdout",
     "output_type": "stream",
     "text": [
      "1\n",
      "1 0.7609498371042316\n",
      "Objective LinearRegression_Objective:\n"
     ]
    },
    {
     "name": "stderr",
     "output_type": "stream",
     "text": [
      "  7%|███████████████████▊                                                                                                                                                                                                                                                               | 576/8000 [00:14<03:04, 40.24it/s]\n"
     ]
    },
    {
     "name": "stdout",
     "output_type": "stream",
     "text": [
      "iterations: 576\n",
      "Number of used features: 7\n",
      "Used features: ['num-077k-breast.nii.gz-0.500000', 'sum-077k-breast.nii.gz-0.500000', 'std-077k-breast.nii.gz-0.500000', 'skew-077k-breast.nii.gz-0.500000', 'hist-0-077k-breast.nii.gz-0.500000', 'hist-1-077k-breast.nii.gz-0.500000', 'hist-4-077k-breast.nii.gz-0.500000'] \n",
      "Score: -0.8791564168067518\n"
     ]
    },
    {
     "name": "stderr",
     "output_type": "stream",
     "text": [
      "200it [00:00, 800.39it/s]\n"
     ]
    },
    {
     "name": "stdout",
     "output_type": "stream",
     "text": [
      "1\n",
      "1 0.8829962172475865\n",
      "Objective LassoRegression_Objective:\n"
     ]
    },
    {
     "name": "stderr",
     "output_type": "stream",
     "text": [
      "  7%|███████████████████▊                                                                                                                                                                                                                                                               | 578/8000 [00:46<09:53, 12.50it/s]\n"
     ]
    },
    {
     "name": "stdout",
     "output_type": "stream",
     "text": [
      "iterations: 578\n",
      "Number of used features: 10\n",
      "Used features: ['num-077k-breast.nii.gz-0.500000', 'sum-077k-breast.nii.gz-0.500000', 'kurt-077k-breast.nii.gz-0.500000', 'hist-0-077k-breast.nii.gz-0.500000', 'hist-1-077k-breast.nii.gz-0.500000', 'hist-4-077k-breast.nii.gz-0.500000', 'hist-12-077k-breast.nii.gz-0.500000', 'hist-17-077k-breast.nii.gz-0.500000', 'hist-18-077k-breast.nii.gz-0.500000', 'hist-19-077k-breast.nii.gz-0.500000'] \n",
      "Score: -0.8768685828731334\n"
     ]
    },
    {
     "name": "stderr",
     "output_type": "stream",
     "text": [
      "200it [00:00, 450.01it/s]\n"
     ]
    },
    {
     "name": "stdout",
     "output_type": "stream",
     "text": [
      "1\n",
      "1 0.8802007635727838\n",
      "Objective RidgeRegression_Objective:\n"
     ]
    },
    {
     "name": "stderr",
     "output_type": "stream",
     "text": [
      "  8%|█████████████████████▍                                                                                                                                                                                                                                                             | 624/8000 [00:45<09:02, 13.61it/s]\n"
     ]
    },
    {
     "name": "stdout",
     "output_type": "stream",
     "text": [
      "iterations: 624\n",
      "Number of used features: 10\n",
      "Used features: ['num-077k-breast.nii.gz-0.500000', 'mean-077k-breast.nii.gz-0.500000', 'std-077k-breast.nii.gz-0.500000', 'skew-077k-breast.nii.gz-0.500000', 'hist-0-077k-breast.nii.gz-0.500000', 'hist-1-077k-breast.nii.gz-0.500000', 'hist-4-077k-breast.nii.gz-0.500000', 'hist-10-077k-breast.nii.gz-0.500000', 'hist-11-077k-breast.nii.gz-0.500000', 'hist-17-077k-breast.nii.gz-0.500000'] \n",
      "Score: -0.9078989695765326\n"
     ]
    },
    {
     "name": "stderr",
     "output_type": "stream",
     "text": [
      "200it [00:00, 590.01it/s]\n"
     ]
    },
    {
     "name": "stdout",
     "output_type": "stream",
     "text": [
      "1\n",
      "1 0.9110904481790931\n",
      "Objective PLSRegression_Objective:\n"
     ]
    },
    {
     "name": "stderr",
     "output_type": "stream",
     "text": [
      " 10%|████████████████████████████▍                                                                                                                                                                                                                                                      | 828/8000 [00:58<08:22, 14.27it/s]\n"
     ]
    },
    {
     "name": "stdout",
     "output_type": "stream",
     "text": [
      "iterations: 828\n",
      "Number of used features: 8\n",
      "Used features: ['hist-2-077k-breast.nii.gz-0.500000', 'hist-4-077k-breast.nii.gz-0.500000', 'hist-5-077k-breast.nii.gz-0.500000', 'hist-6-077k-breast.nii.gz-0.500000', 'hist-7-077k-breast.nii.gz-0.500000', 'hist-8-077k-breast.nii.gz-0.500000', 'hist-11-077k-breast.nii.gz-0.500000', 'hist-19-077k-breast.nii.gz-0.500000'] \n",
      "Score: -0.9024872115063053\n"
     ]
    },
    {
     "name": "stderr",
     "output_type": "stream",
     "text": [
      "200it [00:00, 593.97it/s]\n"
     ]
    },
    {
     "name": "stdout",
     "output_type": "stream",
     "text": [
      "1\n",
      "1 0.901660932124101\n",
      "Objective KNNR_Objective:\n"
     ]
    },
    {
     "name": "stderr",
     "output_type": "stream",
     "text": [
      " 12%|███████████████████████████████▊                                                                                                                                                                                                                                                   | 925/8000 [01:43<13:12,  8.93it/s]\n"
     ]
    },
    {
     "name": "stdout",
     "output_type": "stream",
     "text": [
      "iterations: 925\n",
      "Number of used features: 4\n",
      "Used features: ['num-079k-breast.nii.gz-0.500000', 'sum-079k-breast.nii.gz-0.500000', 'hist-6-079k-breast.nii.gz-0.500000', 'hist-19-079k-breast.nii.gz-0.500000'] \n",
      "Score: -0.8224641181197454\n"
     ]
    },
    {
     "name": "stderr",
     "output_type": "stream",
     "text": [
      "200it [00:00, 726.81it/s]\n"
     ]
    },
    {
     "name": "stdout",
     "output_type": "stream",
     "text": [
      "1\n",
      "1 0.8267472405775915\n",
      "Objective LinearRegression_Objective:\n"
     ]
    },
    {
     "name": "stderr",
     "output_type": "stream",
     "text": [
      "  8%|█████████████████████▋                                                                                                                                                                                                                                                             | 631/8000 [00:19<03:46, 32.48it/s]\n"
     ]
    },
    {
     "name": "stdout",
     "output_type": "stream",
     "text": [
      "iterations: 631\n",
      "Number of used features: 7\n",
      "Used features: ['std-079k-breast.nii.gz-0.500000', 'kurt-079k-breast.nii.gz-0.500000', 'hist-5-079k-breast.nii.gz-0.500000', 'hist-6-079k-breast.nii.gz-0.500000', 'hist-7-079k-breast.nii.gz-0.500000', 'hist-11-079k-breast.nii.gz-0.500000', 'hist-19-079k-breast.nii.gz-0.500000'] \n",
      "Score: -0.9079388275041848\n"
     ]
    },
    {
     "name": "stderr",
     "output_type": "stream",
     "text": [
      "200it [00:00, 795.54it/s]\n"
     ]
    },
    {
     "name": "stdout",
     "output_type": "stream",
     "text": [
      "1\n",
      "1 0.9100078561849582\n",
      "Objective LassoRegression_Objective:\n"
     ]
    },
    {
     "name": "stderr",
     "output_type": "stream",
     "text": [
      "  9%|███████████████████████▌                                                                                                                                                                                                                                                           | 686/8000 [01:00<10:47, 11.30it/s]\n"
     ]
    },
    {
     "name": "stdout",
     "output_type": "stream",
     "text": [
      "iterations: 686\n",
      "Number of used features: 6\n",
      "Used features: ['num-079k-breast.nii.gz-0.500000', 'skew-079k-breast.nii.gz-0.500000', 'hist-1-079k-breast.nii.gz-0.500000', 'hist-13-079k-breast.nii.gz-0.500000', 'hist-15-079k-breast.nii.gz-0.500000', 'hist-16-079k-breast.nii.gz-0.500000'] \n",
      "Score: -0.8946777059800277\n"
     ]
    },
    {
     "name": "stderr",
     "output_type": "stream",
     "text": [
      "200it [00:00, 515.63it/s]\n"
     ]
    },
    {
     "name": "stdout",
     "output_type": "stream",
     "text": [
      "1\n",
      "1 0.8960769638746287\n",
      "Objective RidgeRegression_Objective:\n"
     ]
    },
    {
     "name": "stderr",
     "output_type": "stream",
     "text": [
      "  9%|███████████████████████▌                                                                                                                                                                                                                                                           | 686/8000 [00:57<10:07, 12.03it/s]\n"
     ]
    },
    {
     "name": "stdout",
     "output_type": "stream",
     "text": [
      "iterations: 686\n",
      "Number of used features: 8\n",
      "Used features: ['std-079k-breast.nii.gz-0.500000', 'hist-1-079k-breast.nii.gz-0.500000', 'hist-5-079k-breast.nii.gz-0.500000', 'hist-6-079k-breast.nii.gz-0.500000', 'hist-7-079k-breast.nii.gz-0.500000', 'hist-8-079k-breast.nii.gz-0.500000', 'hist-15-079k-breast.nii.gz-0.500000', 'hist-19-079k-breast.nii.gz-0.500000'] \n",
      "Score: -0.9062774626592663\n"
     ]
    },
    {
     "name": "stderr",
     "output_type": "stream",
     "text": [
      "200it [00:00, 591.66it/s]\n"
     ]
    },
    {
     "name": "stdout",
     "output_type": "stream",
     "text": [
      "1\n",
      "1 0.9058702522887233\n",
      "Objective PLSRegression_Objective:\n"
     ]
    },
    {
     "name": "stderr",
     "output_type": "stream",
     "text": [
      " 10%|██████████████████████████▋                                                                                                                                                                                                                                                        | 778/8000 [00:51<08:00, 15.04it/s]\n"
     ]
    },
    {
     "name": "stdout",
     "output_type": "stream",
     "text": [
      "iterations: 778\n",
      "Number of used features: 9\n",
      "Used features: ['num-079k-breast.nii.gz-0.500000', 'mean-079k-breast.nii.gz-0.500000', 'std-079k-breast.nii.gz-0.500000', 'kurt-079k-breast.nii.gz-0.500000', 'hist-1-079k-breast.nii.gz-0.500000', 'hist-4-079k-breast.nii.gz-0.500000', 'hist-6-079k-breast.nii.gz-0.500000', 'hist-8-079k-breast.nii.gz-0.500000', 'hist-19-079k-breast.nii.gz-0.500000'] \n",
      "Score: -0.900725528700596\n"
     ]
    },
    {
     "name": "stderr",
     "output_type": "stream",
     "text": [
      "200it [00:00, 556.65it/s]\n"
     ]
    },
    {
     "name": "stdout",
     "output_type": "stream",
     "text": [
      "1\n",
      "1 0.9016960772396448\n",
      "Objective KNNR_Objective:\n"
     ]
    },
    {
     "name": "stderr",
     "output_type": "stream",
     "text": [
      "  8%|███████████████████████▏                                                                                                                                                                                                                                                           | 676/8000 [01:12<13:08,  9.29it/s]\n"
     ]
    },
    {
     "name": "stdout",
     "output_type": "stream",
     "text": [
      "iterations: 676\n",
      "Number of used features: 9\n",
      "Used features: ['num-080k-breast.nii.gz-0.500000', 'sum-080k-breast.nii.gz-0.500000', 'skew-080k-breast.nii.gz-0.500000', 'hist-1-080k-breast.nii.gz-0.500000', 'hist-3-080k-breast.nii.gz-0.500000', 'hist-4-080k-breast.nii.gz-0.500000', 'hist-6-080k-breast.nii.gz-0.500000', 'hist-12-080k-breast.nii.gz-0.500000', 'hist-17-080k-breast.nii.gz-0.500000'] \n",
      "Score: -0.8263780861035671\n"
     ]
    },
    {
     "name": "stderr",
     "output_type": "stream",
     "text": [
      "200it [00:00, 718.55it/s]\n"
     ]
    },
    {
     "name": "stdout",
     "output_type": "stream",
     "text": [
      "1\n",
      "1 0.8350351028816481\n",
      "Objective LinearRegression_Objective:\n"
     ]
    },
    {
     "name": "stderr",
     "output_type": "stream",
     "text": [
      "  7%|██████████████████▉                                                                                                                                                                                                                                                                | 551/8000 [00:12<02:50, 43.74it/s]\n"
     ]
    },
    {
     "name": "stdout",
     "output_type": "stream",
     "text": [
      "iterations: 551\n",
      "Number of used features: 7\n",
      "Used features: ['num-080k-breast.nii.gz-0.500000', 'sum-080k-breast.nii.gz-0.500000', 'std-080k-breast.nii.gz-0.500000', 'kurt-080k-breast.nii.gz-0.500000', 'hist-1-080k-breast.nii.gz-0.500000', 'hist-8-080k-breast.nii.gz-0.500000', 'hist-19-080k-breast.nii.gz-0.500000'] \n",
      "Score: -0.8945477307628915\n"
     ]
    },
    {
     "name": "stderr",
     "output_type": "stream",
     "text": [
      "200it [00:00, 792.56it/s]\n"
     ]
    },
    {
     "name": "stdout",
     "output_type": "stream",
     "text": [
      "1\n",
      "1 0.8941595782365876\n",
      "Objective LassoRegression_Objective:\n"
     ]
    },
    {
     "name": "stderr",
     "output_type": "stream",
     "text": [
      "  9%|███████████████████████▌                                                                                                                                                                                                                                                           | 686/8000 [01:00<10:46, 11.31it/s]\n"
     ]
    },
    {
     "name": "stdout",
     "output_type": "stream",
     "text": [
      "iterations: 686\n",
      "Number of used features: 6\n",
      "Used features: ['num-080k-breast.nii.gz-0.500000', 'sum-080k-breast.nii.gz-0.500000', 'std-080k-breast.nii.gz-0.500000', 'hist-1-080k-breast.nii.gz-0.500000', 'hist-5-080k-breast.nii.gz-0.500000', 'hist-18-080k-breast.nii.gz-0.500000'] \n",
      "Score: -0.8939784674153594\n"
     ]
    },
    {
     "name": "stderr",
     "output_type": "stream",
     "text": [
      "200it [00:00, 524.05it/s]\n"
     ]
    },
    {
     "name": "stdout",
     "output_type": "stream",
     "text": [
      "1\n",
      "1 0.8935853870683352\n",
      "Objective RidgeRegression_Objective:\n"
     ]
    },
    {
     "name": "stderr",
     "output_type": "stream",
     "text": [
      "  7%|██████████████████▊                                                                                                                                                                                                                                                                | 547/8000 [00:36<08:19, 14.92it/s]\n"
     ]
    },
    {
     "name": "stdout",
     "output_type": "stream",
     "text": [
      "iterations: 547\n",
      "Number of used features: 7\n",
      "Used features: ['num-080k-breast.nii.gz-0.500000', 'sum-080k-breast.nii.gz-0.500000', 'std-080k-breast.nii.gz-0.500000', 'kurt-080k-breast.nii.gz-0.500000', 'hist-1-080k-breast.nii.gz-0.500000', 'hist-8-080k-breast.nii.gz-0.500000', 'hist-19-080k-breast.nii.gz-0.500000'] \n",
      "Score: -0.896571820412307\n"
     ]
    },
    {
     "name": "stderr",
     "output_type": "stream",
     "text": [
      "200it [00:00, 571.13it/s]\n"
     ]
    },
    {
     "name": "stdout",
     "output_type": "stream",
     "text": [
      "1\n",
      "1 0.895826861849654\n",
      "Objective PLSRegression_Objective:\n"
     ]
    },
    {
     "name": "stderr",
     "output_type": "stream",
     "text": [
      "  8%|██████████████████████▉                                                                                                                                                                                                                                                            | 667/8000 [00:39<07:10, 17.02it/s]\n"
     ]
    },
    {
     "name": "stdout",
     "output_type": "stream",
     "text": [
      "iterations: 667\n",
      "Number of used features: 7\n",
      "Used features: ['num-080k-breast.nii.gz-0.500000', 'sum-080k-breast.nii.gz-0.500000', 'std-080k-breast.nii.gz-0.500000', 'kurt-080k-breast.nii.gz-0.500000', 'hist-1-080k-breast.nii.gz-0.500000', 'hist-5-080k-breast.nii.gz-0.500000', 'hist-19-080k-breast.nii.gz-0.500000'] \n",
      "Score: -0.8981348396906673\n"
     ]
    },
    {
     "name": "stderr",
     "output_type": "stream",
     "text": [
      "200it [00:00, 582.75it/s]\n"
     ]
    },
    {
     "name": "stdout",
     "output_type": "stream",
     "text": [
      "1\n",
      "1 0.8957988097743972\n",
      "Objective KNNR_Objective:\n"
     ]
    },
    {
     "name": "stderr",
     "output_type": "stream",
     "text": [
      "  9%|████████████████████████▊                                                                                                                                                                                                                                                          | 721/8000 [01:19<13:27,  9.02it/s]\n"
     ]
    },
    {
     "name": "stdout",
     "output_type": "stream",
     "text": [
      "iterations: 721\n",
      "Number of used features: 4\n",
      "Used features: ['num-082k-breast.nii.gz-0.500000', 'sum-082k-breast.nii.gz-0.500000', 'hist-2-082k-breast.nii.gz-0.500000', 'hist-6-082k-breast.nii.gz-0.500000'] \n",
      "Score: -0.848132730892306\n"
     ]
    },
    {
     "name": "stderr",
     "output_type": "stream",
     "text": [
      "200it [00:00, 718.18it/s]\n"
     ]
    },
    {
     "name": "stdout",
     "output_type": "stream",
     "text": [
      "1\n",
      "1 0.8455811404078142\n",
      "Objective LinearRegression_Objective:\n"
     ]
    },
    {
     "name": "stderr",
     "output_type": "stream",
     "text": [
      "  8%|█████████████████████▎                                                                                                                                                                                                                                                             | 621/8000 [00:19<03:55, 31.31it/s]\n"
     ]
    },
    {
     "name": "stdout",
     "output_type": "stream",
     "text": [
      "iterations: 621\n",
      "Number of used features: 7\n",
      "Used features: ['hist-1-082k-breast.nii.gz-0.500000', 'hist-5-082k-breast.nii.gz-0.500000', 'hist-6-082k-breast.nii.gz-0.500000', 'hist-7-082k-breast.nii.gz-0.500000', 'hist-11-082k-breast.nii.gz-0.500000', 'hist-16-082k-breast.nii.gz-0.500000', 'hist-19-082k-breast.nii.gz-0.500000'] \n",
      "Score: -0.9108909555570395\n"
     ]
    },
    {
     "name": "stderr",
     "output_type": "stream",
     "text": [
      "200it [00:00, 793.59it/s]\n"
     ]
    },
    {
     "name": "stdout",
     "output_type": "stream",
     "text": [
      "1\n",
      "1 0.910402808118016\n",
      "Objective LassoRegression_Objective:\n"
     ]
    },
    {
     "name": "stderr",
     "output_type": "stream",
     "text": [
      "  8%|██████████████████████▊                                                                                                                                                                                                                                                            | 664/8000 [00:59<10:54, 11.21it/s]\n"
     ]
    },
    {
     "name": "stdout",
     "output_type": "stream",
     "text": [
      "iterations: 664\n",
      "Number of used features: 9\n",
      "Used features: ['hist-2-082k-breast.nii.gz-0.500000', 'hist-4-082k-breast.nii.gz-0.500000', 'hist-5-082k-breast.nii.gz-0.500000', 'hist-6-082k-breast.nii.gz-0.500000', 'hist-7-082k-breast.nii.gz-0.500000', 'hist-8-082k-breast.nii.gz-0.500000', 'hist-15-082k-breast.nii.gz-0.500000', 'hist-17-082k-breast.nii.gz-0.500000', 'hist-19-082k-breast.nii.gz-0.500000'] \n",
      "Score: -0.9078322684039584\n"
     ]
    },
    {
     "name": "stderr",
     "output_type": "stream",
     "text": [
      "200it [00:00, 497.38it/s]\n"
     ]
    },
    {
     "name": "stdout",
     "output_type": "stream",
     "text": [
      "1\n",
      "1 0.9083137235157698\n",
      "Objective RidgeRegression_Objective:\n"
     ]
    },
    {
     "name": "stderr",
     "output_type": "stream",
     "text": [
      "  9%|████████████████████████▏                                                                                                                                                                                                                                                          | 703/8000 [00:59<10:22, 11.72it/s]\n"
     ]
    },
    {
     "name": "stdout",
     "output_type": "stream",
     "text": [
      "iterations: 703\n",
      "Number of used features: 9\n",
      "Used features: ['hist-2-082k-breast.nii.gz-0.500000', 'hist-4-082k-breast.nii.gz-0.500000', 'hist-5-082k-breast.nii.gz-0.500000', 'hist-6-082k-breast.nii.gz-0.500000', 'hist-7-082k-breast.nii.gz-0.500000', 'hist-8-082k-breast.nii.gz-0.500000', 'hist-11-082k-breast.nii.gz-0.500000', 'hist-15-082k-breast.nii.gz-0.500000', 'hist-19-082k-breast.nii.gz-0.500000'] \n",
      "Score: -0.9108709095698867\n"
     ]
    },
    {
     "name": "stderr",
     "output_type": "stream",
     "text": [
      "200it [00:00, 562.15it/s]\n"
     ]
    },
    {
     "name": "stdout",
     "output_type": "stream",
     "text": [
      "1\n",
      "1 0.910701399925685\n",
      "Objective PLSRegression_Objective:\n"
     ]
    },
    {
     "name": "stderr",
     "output_type": "stream",
     "text": [
      " 11%|█████████████████████████████                                                                                                                                                                                                                                                      | 844/8000 [00:51<07:16, 16.41it/s]\n"
     ]
    },
    {
     "name": "stdout",
     "output_type": "stream",
     "text": [
      "iterations: 844\n",
      "Number of used features: 6\n",
      "Used features: ['hist-1-082k-breast.nii.gz-0.500000', 'hist-5-082k-breast.nii.gz-0.500000', 'hist-6-082k-breast.nii.gz-0.500000', 'hist-7-082k-breast.nii.gz-0.500000', 'hist-11-082k-breast.nii.gz-0.500000', 'hist-19-082k-breast.nii.gz-0.500000'] \n",
      "Score: -0.9111930671120457\n"
     ]
    },
    {
     "name": "stderr",
     "output_type": "stream",
     "text": [
      "200it [00:00, 580.16it/s]\n"
     ]
    },
    {
     "name": "stdout",
     "output_type": "stream",
     "text": [
      "1\n",
      "1 0.9102785592543148\n",
      "Objective KNNR_Objective:\n"
     ]
    },
    {
     "name": "stderr",
     "output_type": "stream",
     "text": [
      "  7%|██████████████████▎                                                                                                                                                                                                                                                                | 534/8000 [00:54<12:40,  9.81it/s]\n"
     ]
    },
    {
     "name": "stdout",
     "output_type": "stream",
     "text": [
      "iterations: 534\n",
      "Number of used features: 4\n",
      "Used features: ['num-083a-breast.nii.gz-0.500000', 'std-083a-breast.nii.gz-0.500000', 'skew-083a-breast.nii.gz-0.500000', 'hist-6-083a-breast.nii.gz-0.500000'] \n",
      "Score: -0.6696839692698466\n"
     ]
    },
    {
     "name": "stderr",
     "output_type": "stream",
     "text": [
      "200it [00:00, 704.87it/s]\n"
     ]
    },
    {
     "name": "stdout",
     "output_type": "stream",
     "text": [
      "1\n",
      "1 0.6768713001654398\n",
      "Objective LinearRegression_Objective:\n"
     ]
    },
    {
     "name": "stderr",
     "output_type": "stream",
     "text": [
      "  7%|██████████████████▋                                                                                                                                                                                                                                                                | 545/8000 [00:12<02:48, 44.31it/s]\n"
     ]
    },
    {
     "name": "stdout",
     "output_type": "stream",
     "text": [
      "iterations: 545\n",
      "Number of used features: 8\n",
      "Used features: ['std-083a-breast.nii.gz-0.500000', 'kurt-083a-breast.nii.gz-0.500000', 'hist-2-083a-breast.nii.gz-0.500000', 'hist-6-083a-breast.nii.gz-0.500000', 'hist-8-083a-breast.nii.gz-0.500000', 'hist-13-083a-breast.nii.gz-0.500000', 'hist-15-083a-breast.nii.gz-0.500000', 'hist-17-083a-breast.nii.gz-0.500000'] \n",
      "Score: -0.7999280783881226\n"
     ]
    },
    {
     "name": "stderr",
     "output_type": "stream",
     "text": [
      "200it [00:00, 761.76it/s]\n"
     ]
    },
    {
     "name": "stdout",
     "output_type": "stream",
     "text": [
      "1\n",
      "1 0.8044283905739271\n",
      "Objective LassoRegression_Objective:\n"
     ]
    },
    {
     "name": "stderr",
     "output_type": "stream",
     "text": [
      "  9%|█████████████████████████▌                                                                                                                                                                                                                                                         | 742/8000 [01:11<11:41, 10.34it/s]\n"
     ]
    },
    {
     "name": "stdout",
     "output_type": "stream",
     "text": [
      "iterations: 742\n",
      "Number of used features: 8\n",
      "Used features: ['mean-083a-breast.nii.gz-0.500000', 'kurt-083a-breast.nii.gz-0.500000', 'hist-2-083a-breast.nii.gz-0.500000', 'hist-6-083a-breast.nii.gz-0.500000', 'hist-8-083a-breast.nii.gz-0.500000', 'hist-13-083a-breast.nii.gz-0.500000', 'hist-15-083a-breast.nii.gz-0.500000', 'hist-17-083a-breast.nii.gz-0.500000'] \n",
      "Score: -0.8029957008249173\n"
     ]
    },
    {
     "name": "stderr",
     "output_type": "stream",
     "text": [
      "200it [00:00, 521.64it/s]\n"
     ]
    },
    {
     "name": "stdout",
     "output_type": "stream",
     "text": [
      "1\n",
      "1 0.8074323620380967\n",
      "Objective RidgeRegression_Objective:\n"
     ]
    },
    {
     "name": "stderr",
     "output_type": "stream",
     "text": [
      "  8%|██████████████████████▌                                                                                                                                                                                                                                                            | 657/8000 [00:52<09:44, 12.56it/s]\n"
     ]
    },
    {
     "name": "stdout",
     "output_type": "stream",
     "text": [
      "iterations: 657\n",
      "Number of used features: 10\n",
      "Used features: ['num-083a-breast.nii.gz-0.500000', 'skew-083a-breast.nii.gz-0.500000', 'hist-1-083a-breast.nii.gz-0.500000', 'hist-2-083a-breast.nii.gz-0.500000', 'hist-6-083a-breast.nii.gz-0.500000', 'hist-7-083a-breast.nii.gz-0.500000', 'hist-12-083a-breast.nii.gz-0.500000', 'hist-13-083a-breast.nii.gz-0.500000', 'hist-15-083a-breast.nii.gz-0.500000', 'hist-17-083a-breast.nii.gz-0.500000'] \n",
      "Score: -0.8046442309068214\n"
     ]
    },
    {
     "name": "stderr",
     "output_type": "stream",
     "text": [
      "200it [00:00, 590.48it/s]\n"
     ]
    },
    {
     "name": "stdout",
     "output_type": "stream",
     "text": [
      "1\n",
      "1 0.8050099015298839\n",
      "Objective PLSRegression_Objective:\n"
     ]
    },
    {
     "name": "stderr",
     "output_type": "stream",
     "text": [
      "  8%|██████████████████████▎                                                                                                                                                                                                                                                            | 649/8000 [00:37<07:04, 17.33it/s]\n"
     ]
    },
    {
     "name": "stdout",
     "output_type": "stream",
     "text": [
      "iterations: 649\n",
      "Number of used features: 8\n",
      "Used features: ['sum-083a-breast.nii.gz-0.500000', 'std-083a-breast.nii.gz-0.500000', 'skew-083a-breast.nii.gz-0.500000', 'hist-0-083a-breast.nii.gz-0.500000', 'hist-2-083a-breast.nii.gz-0.500000', 'hist-6-083a-breast.nii.gz-0.500000', 'hist-8-083a-breast.nii.gz-0.500000', 'hist-13-083a-breast.nii.gz-0.500000'] \n",
      "Score: -0.7926757050491764\n"
     ]
    },
    {
     "name": "stderr",
     "output_type": "stream",
     "text": [
      "200it [00:00, 589.24it/s]\n"
     ]
    },
    {
     "name": "stdout",
     "output_type": "stream",
     "text": [
      "1\n",
      "1 0.7980816370834851\n",
      "Objective KNNR_Objective:\n"
     ]
    },
    {
     "name": "stderr",
     "output_type": "stream",
     "text": [
      " 12%|██████████████████████████████████                                                                                                                                                                                                                                                 | 991/8000 [01:51<13:10,  8.86it/s]\n"
     ]
    },
    {
     "name": "stdout",
     "output_type": "stream",
     "text": [
      "iterations: 991\n",
      "Number of used features: 4\n",
      "Used features: ['num-083k-breast.nii.gz-0.500000', 'sum-083k-breast.nii.gz-0.500000', 'hist-6-083k-breast.nii.gz-0.500000', 'hist-8-083k-breast.nii.gz-0.500000'] \n",
      "Score: -0.813483662393385\n"
     ]
    },
    {
     "name": "stderr",
     "output_type": "stream",
     "text": [
      "200it [00:00, 736.40it/s]\n"
     ]
    },
    {
     "name": "stdout",
     "output_type": "stream",
     "text": [
      "1\n",
      "1 0.821580601583497\n",
      "Objective LinearRegression_Objective:\n"
     ]
    },
    {
     "name": "stderr",
     "output_type": "stream",
     "text": [
      "  7%|███████████████████▏                                                                                                                                                                                                                                                               | 558/8000 [00:12<02:44, 45.24it/s]\n"
     ]
    },
    {
     "name": "stdout",
     "output_type": "stream",
     "text": [
      "iterations: 558\n",
      "Number of used features: 6\n",
      "Used features: ['std-083k-breast.nii.gz-0.500000', 'kurt-083k-breast.nii.gz-0.500000', 'hist-2-083k-breast.nii.gz-0.500000', 'hist-4-083k-breast.nii.gz-0.500000', 'hist-6-083k-breast.nii.gz-0.500000', 'hist-8-083k-breast.nii.gz-0.500000'] \n",
      "Score: -0.8876609864994496\n"
     ]
    },
    {
     "name": "stderr",
     "output_type": "stream",
     "text": [
      "200it [00:00, 794.68it/s]\n"
     ]
    },
    {
     "name": "stdout",
     "output_type": "stream",
     "text": [
      "1\n",
      "1 0.8874020273057522\n",
      "Objective LassoRegression_Objective:\n"
     ]
    },
    {
     "name": "stderr",
     "output_type": "stream",
     "text": [
      " 13%|███████████████████████████████████▋                                                                                                                                                                                                                                              | 1043/8000 [01:48<12:05,  9.59it/s]\n"
     ]
    },
    {
     "name": "stdout",
     "output_type": "stream",
     "text": [
      "iterations: 1043\n",
      "Number of used features: 9\n",
      "Used features: ['num-083k-breast.nii.gz-0.500000', 'mean-083k-breast.nii.gz-0.500000', 'std-083k-breast.nii.gz-0.500000', 'hist-2-083k-breast.nii.gz-0.500000', 'hist-4-083k-breast.nii.gz-0.500000', 'hist-9-083k-breast.nii.gz-0.500000', 'hist-12-083k-breast.nii.gz-0.500000', 'hist-18-083k-breast.nii.gz-0.500000', 'hist-19-083k-breast.nii.gz-0.500000'] \n",
      "Score: -0.9058496158706815\n"
     ]
    },
    {
     "name": "stderr",
     "output_type": "stream",
     "text": [
      "200it [00:00, 457.43it/s]\n"
     ]
    },
    {
     "name": "stdout",
     "output_type": "stream",
     "text": [
      "1\n",
      "1 0.9071166202158\n",
      "Objective RidgeRegression_Objective:\n"
     ]
    },
    {
     "name": "stderr",
     "output_type": "stream",
     "text": [
      "  9%|█████████████████████████▎                                                                                                                                                                                                                                                         | 737/8000 [01:03<10:27, 11.58it/s]\n"
     ]
    },
    {
     "name": "stdout",
     "output_type": "stream",
     "text": [
      "iterations: 737\n",
      "Number of used features: 6\n",
      "Used features: ['num-083k-breast.nii.gz-0.500000', 'mean-083k-breast.nii.gz-0.500000', 'std-083k-breast.nii.gz-0.500000', 'hist-1-083k-breast.nii.gz-0.500000', 'hist-5-083k-breast.nii.gz-0.500000', 'hist-19-083k-breast.nii.gz-0.500000'] \n",
      "Score: -0.9030277039940564\n"
     ]
    },
    {
     "name": "stderr",
     "output_type": "stream",
     "text": [
      "200it [00:00, 574.73it/s]\n"
     ]
    },
    {
     "name": "stdout",
     "output_type": "stream",
     "text": [
      "1\n",
      "1 0.903277608309986\n",
      "Objective PLSRegression_Objective:\n"
     ]
    },
    {
     "name": "stderr",
     "output_type": "stream",
     "text": [
      "  8%|█████████████████████▎                                                                                                                                                                                                                                                             | 621/8000 [00:34<06:50, 17.98it/s]\n"
     ]
    },
    {
     "name": "stdout",
     "output_type": "stream",
     "text": [
      "iterations: 621\n",
      "Number of used features: 8\n",
      "Used features: ['num-083k-breast.nii.gz-0.500000', 'sum-083k-breast.nii.gz-0.500000', 'mean-083k-breast.nii.gz-0.500000', 'std-083k-breast.nii.gz-0.500000', 'hist-2-083k-breast.nii.gz-0.500000', 'hist-4-083k-breast.nii.gz-0.500000', 'hist-8-083k-breast.nii.gz-0.500000', 'hist-15-083k-breast.nii.gz-0.500000'] \n",
      "Score: -0.9001056113330663\n"
     ]
    },
    {
     "name": "stderr",
     "output_type": "stream",
     "text": [
      "200it [00:00, 569.17it/s]\n"
     ]
    },
    {
     "name": "stdout",
     "output_type": "stream",
     "text": [
      "1\n",
      "1 0.8988908097503471\n",
      "Objective KNNR_Objective:\n"
     ]
    },
    {
     "name": "stderr",
     "output_type": "stream",
     "text": [
      "  7%|███████████████████▍                                                                                                                                                                                                                                                               | 565/8000 [00:55<12:06, 10.24it/s]\n"
     ]
    },
    {
     "name": "stdout",
     "output_type": "stream",
     "text": [
      "iterations: 565\n",
      "Number of used features: 3\n",
      "Used features: ['num-084a-breast.nii.gz-0.500000', 'kurt-084a-breast.nii.gz-0.500000', 'hist-12-084a-breast.nii.gz-0.500000'] \n",
      "Score: -0.7389498606120485\n"
     ]
    },
    {
     "name": "stderr",
     "output_type": "stream",
     "text": [
      "200it [00:00, 728.17it/s]\n"
     ]
    },
    {
     "name": "stdout",
     "output_type": "stream",
     "text": [
      "1\n",
      "1 0.7428648527969386\n",
      "Objective LinearRegression_Objective:\n"
     ]
    },
    {
     "name": "stderr",
     "output_type": "stream",
     "text": [
      "  7%|████████████████████▎                                                                                                                                                                                                                                                              | 590/8000 [00:17<03:34, 34.50it/s]\n"
     ]
    },
    {
     "name": "stdout",
     "output_type": "stream",
     "text": [
      "iterations: 590\n",
      "Number of used features: 5\n",
      "Used features: ['hist-3-084a-breast.nii.gz-0.500000', 'hist-4-084a-breast.nii.gz-0.500000', 'hist-6-084a-breast.nii.gz-0.500000', 'hist-7-084a-breast.nii.gz-0.500000', 'hist-8-084a-breast.nii.gz-0.500000'] \n",
      "Score: -0.8861828973819703\n"
     ]
    },
    {
     "name": "stderr",
     "output_type": "stream",
     "text": [
      "200it [00:00, 798.30it/s]\n"
     ]
    },
    {
     "name": "stdout",
     "output_type": "stream",
     "text": [
      "1\n",
      "1 0.8846551037119719\n",
      "Objective LassoRegression_Objective:\n"
     ]
    },
    {
     "name": "stderr",
     "output_type": "stream",
     "text": [
      "  9%|████████████████████████▉                                                                                                                                                                                                                                                          | 724/8000 [01:10<11:46, 10.30it/s]\n"
     ]
    },
    {
     "name": "stdout",
     "output_type": "stream",
     "text": [
      "iterations: 724\n",
      "Number of used features: 6\n",
      "Used features: ['std-084a-breast.nii.gz-0.500000', 'hist-1-084a-breast.nii.gz-0.500000', 'hist-5-084a-breast.nii.gz-0.500000', 'hist-7-084a-breast.nii.gz-0.500000', 'hist-9-084a-breast.nii.gz-0.500000', 'hist-18-084a-breast.nii.gz-0.500000'] \n",
      "Score: -0.9010567734337386\n"
     ]
    },
    {
     "name": "stderr",
     "output_type": "stream",
     "text": [
      "200it [00:00, 524.48it/s]\n"
     ]
    },
    {
     "name": "stdout",
     "output_type": "stream",
     "text": [
      "1\n",
      "1 0.9031309218627734\n",
      "Objective RidgeRegression_Objective:\n"
     ]
    },
    {
     "name": "stderr",
     "output_type": "stream",
     "text": [
      "  8%|████████████████████▉                                                                                                                                                                                                                                                              | 610/8000 [00:45<09:08, 13.49it/s]\n"
     ]
    },
    {
     "name": "stdout",
     "output_type": "stream",
     "text": [
      "iterations: 610\n",
      "Number of used features: 6\n",
      "Used features: ['std-084a-breast.nii.gz-0.500000', 'hist-1-084a-breast.nii.gz-0.500000', 'hist-5-084a-breast.nii.gz-0.500000', 'hist-7-084a-breast.nii.gz-0.500000', 'hist-9-084a-breast.nii.gz-0.500000', 'hist-18-084a-breast.nii.gz-0.500000'] \n",
      "Score: -0.9007930273474969\n"
     ]
    },
    {
     "name": "stderr",
     "output_type": "stream",
     "text": [
      "200it [00:00, 589.50it/s]\n"
     ]
    },
    {
     "name": "stdout",
     "output_type": "stream",
     "text": [
      "1\n",
      "1 0.9028342851993896\n",
      "Objective PLSRegression_Objective:\n"
     ]
    },
    {
     "name": "stderr",
     "output_type": "stream",
     "text": [
      " 10%|███████████████████████████▉                                                                                                                                                                                                                                                       | 811/8000 [00:56<08:19, 14.39it/s]\n"
     ]
    },
    {
     "name": "stdout",
     "output_type": "stream",
     "text": [
      "iterations: 811\n",
      "Number of used features: 6\n",
      "Used features: ['hist-2-084a-breast.nii.gz-0.500000', 'hist-4-084a-breast.nii.gz-0.500000', 'hist-5-084a-breast.nii.gz-0.500000', 'hist-6-084a-breast.nii.gz-0.500000', 'hist-7-084a-breast.nii.gz-0.500000', 'hist-9-084a-breast.nii.gz-0.500000'] \n",
      "Score: -0.8942151351085807\n"
     ]
    },
    {
     "name": "stderr",
     "output_type": "stream",
     "text": [
      "200it [00:00, 599.29it/s]\n"
     ]
    },
    {
     "name": "stdout",
     "output_type": "stream",
     "text": [
      "1\n",
      "1 0.8939593151292126\n",
      "Objective KNNR_Objective:\n"
     ]
    },
    {
     "name": "stderr",
     "output_type": "stream",
     "text": [
      "  9%|████████████████████████▊                                                                                                                                                                                                                                                          | 723/8000 [01:15<12:42,  9.54it/s]\n"
     ]
    },
    {
     "name": "stdout",
     "output_type": "stream",
     "text": [
      "iterations: 723\n",
      "Number of used features: 8\n",
      "Used features: ['num-087f-breast.nii.gz-0.500000', 'sum-087f-breast.nii.gz-0.500000', 'hist-5-087f-breast.nii.gz-0.500000', 'hist-6-087f-breast.nii.gz-0.500000', 'hist-7-087f-breast.nii.gz-0.500000', 'hist-10-087f-breast.nii.gz-0.500000', 'hist-12-087f-breast.nii.gz-0.500000', 'hist-17-087f-breast.nii.gz-0.500000'] \n",
      "Score: -0.8420178895064666\n"
     ]
    },
    {
     "name": "stderr",
     "output_type": "stream",
     "text": [
      "200it [00:00, 733.27it/s]\n"
     ]
    },
    {
     "name": "stdout",
     "output_type": "stream",
     "text": [
      "1\n",
      "1 0.849599058370276\n",
      "Objective LinearRegression_Objective:\n"
     ]
    },
    {
     "name": "stderr",
     "output_type": "stream",
     "text": [
      "  8%|██████████████████████▍                                                                                                                                                                                                                                                            | 653/8000 [00:21<04:07, 29.69it/s]\n"
     ]
    },
    {
     "name": "stdout",
     "output_type": "stream",
     "text": [
      "iterations: 653\n",
      "Number of used features: 5\n",
      "Used features: ['num-087f-breast.nii.gz-0.500000', 'skew-087f-breast.nii.gz-0.500000', 'hist-1-087f-breast.nii.gz-0.500000', 'hist-5-087f-breast.nii.gz-0.500000', 'hist-7-087f-breast.nii.gz-0.500000'] \n",
      "Score: -0.9091052338538104\n"
     ]
    },
    {
     "name": "stderr",
     "output_type": "stream",
     "text": [
      "200it [00:00, 810.22it/s]\n"
     ]
    },
    {
     "name": "stdout",
     "output_type": "stream",
     "text": [
      "1\n",
      "1 0.9089630805945836\n",
      "Objective LassoRegression_Objective:\n"
     ]
    },
    {
     "name": "stderr",
     "output_type": "stream",
     "text": [
      "  9%|███████████████████████▌                                                                                                                                                                                                                                                           | 686/8000 [00:56<10:01, 12.16it/s]\n"
     ]
    },
    {
     "name": "stdout",
     "output_type": "stream",
     "text": [
      "iterations: 686\n",
      "Number of used features: 3\n",
      "Used features: ['num-087f-breast.nii.gz-0.500000', 'skew-087f-breast.nii.gz-0.500000', 'hist-0-087f-breast.nii.gz-0.500000'] \n",
      "Score: -0.8987779287562595\n"
     ]
    },
    {
     "name": "stderr",
     "output_type": "stream",
     "text": [
      "200it [00:00, 545.29it/s]\n"
     ]
    },
    {
     "name": "stdout",
     "output_type": "stream",
     "text": [
      "1\n",
      "1 0.9000272784494371\n",
      "Objective RidgeRegression_Objective:\n"
     ]
    },
    {
     "name": "stderr",
     "output_type": "stream",
     "text": [
      " 10%|██████████████████████████▏                                                                                                                                                                                                                                                        | 760/8000 [01:01<09:42, 12.44it/s]\n"
     ]
    },
    {
     "name": "stdout",
     "output_type": "stream",
     "text": [
      "iterations: 760\n",
      "Number of used features: 3\n",
      "Used features: ['num-087f-breast.nii.gz-0.500000', 'skew-087f-breast.nii.gz-0.500000', 'hist-0-087f-breast.nii.gz-0.500000'] \n",
      "Score: -0.8985721331627059\n"
     ]
    },
    {
     "name": "stderr",
     "output_type": "stream",
     "text": [
      "200it [00:00, 594.65it/s]\n"
     ]
    },
    {
     "name": "stdout",
     "output_type": "stream",
     "text": [
      "1\n",
      "1 0.8986877226685238\n",
      "Objective PLSRegression_Objective:\n"
     ]
    },
    {
     "name": "stderr",
     "output_type": "stream",
     "text": [
      " 10%|██████████████████████████▊                                                                                                                                                                                                                                                        | 779/8000 [00:44<06:54, 17.43it/s]\n"
     ]
    },
    {
     "name": "stdout",
     "output_type": "stream",
     "text": [
      "iterations: 779\n",
      "Number of used features: 5\n",
      "Used features: ['num-087f-breast.nii.gz-0.500000', 'mean-087f-breast.nii.gz-0.500000', 'skew-087f-breast.nii.gz-0.500000', 'hist-1-087f-breast.nii.gz-0.500000', 'hist-9-087f-breast.nii.gz-0.500000'] \n",
      "Score: -0.9090221545792111\n"
     ]
    },
    {
     "name": "stderr",
     "output_type": "stream",
     "text": [
      "200it [00:00, 616.73it/s]\n"
     ]
    },
    {
     "name": "stdout",
     "output_type": "stream",
     "text": [
      "1\n",
      "1 0.9084940434540715\n",
      "Objective KNNR_Objective:\n"
     ]
    },
    {
     "name": "stderr",
     "output_type": "stream",
     "text": [
      " 14%|██████████████████████████████████████                                                                                                                                                                                                                                            | 1110/8000 [02:04<12:52,  8.92it/s]\n"
     ]
    },
    {
     "name": "stdout",
     "output_type": "stream",
     "text": [
      "iterations: 1110\n",
      "Number of used features: 6\n",
      "Used features: ['num-088f-breast.nii.gz-0.500000', 'sum-088f-breast.nii.gz-0.500000', 'std-088f-breast.nii.gz-0.500000', 'hist-3-088f-breast.nii.gz-0.500000', 'hist-6-088f-breast.nii.gz-0.500000', 'hist-9-088f-breast.nii.gz-0.500000'] \n",
      "Score: -0.8172455034551656\n"
     ]
    },
    {
     "name": "stderr",
     "output_type": "stream",
     "text": [
      "200it [00:00, 727.70it/s]\n"
     ]
    },
    {
     "name": "stdout",
     "output_type": "stream",
     "text": [
      "1\n",
      "1 0.8189958579836154\n",
      "Objective LinearRegression_Objective:\n"
     ]
    },
    {
     "name": "stderr",
     "output_type": "stream",
     "text": [
      "  7%|██████████████████                                                                                                                                                                                                                                                                 | 527/8000 [00:09<02:13, 56.00it/s]\n"
     ]
    },
    {
     "name": "stdout",
     "output_type": "stream",
     "text": [
      "iterations: 527\n",
      "Number of used features: 4\n",
      "Used features: ['num-088f-breast.nii.gz-0.500000', 'hist-0-088f-breast.nii.gz-0.500000', 'hist-4-088f-breast.nii.gz-0.500000', 'hist-19-088f-breast.nii.gz-0.500000'] \n",
      "Score: -0.9016865984873648\n"
     ]
    },
    {
     "name": "stderr",
     "output_type": "stream",
     "text": [
      "200it [00:00, 794.45it/s]\n"
     ]
    },
    {
     "name": "stdout",
     "output_type": "stream",
     "text": [
      "1\n",
      "1 0.903814925870287\n",
      "Objective LassoRegression_Objective:\n"
     ]
    },
    {
     "name": "stderr",
     "output_type": "stream",
     "text": [
      "  7%|██████████████████▎                                                                                                                                                                                                                                                                | 534/8000 [00:38<09:04, 13.71it/s]\n"
     ]
    },
    {
     "name": "stdout",
     "output_type": "stream",
     "text": [
      "iterations: 534\n",
      "Number of used features: 4\n",
      "Used features: ['num-088f-breast.nii.gz-0.500000', 'skew-088f-breast.nii.gz-0.500000', 'hist-0-088f-breast.nii.gz-0.500000', 'hist-12-088f-breast.nii.gz-0.500000'] \n",
      "Score: -0.895713126919914\n"
     ]
    },
    {
     "name": "stderr",
     "output_type": "stream",
     "text": [
      "200it [00:00, 525.51it/s]\n"
     ]
    },
    {
     "name": "stdout",
     "output_type": "stream",
     "text": [
      "1\n",
      "1 0.8985856842344797\n",
      "Objective RidgeRegression_Objective:\n"
     ]
    },
    {
     "name": "stderr",
     "output_type": "stream",
     "text": [
      " 10%|██████████████████████████▋                                                                                                                                                                                                                                                        | 775/8000 [01:08<10:40, 11.28it/s]\n"
     ]
    },
    {
     "name": "stdout",
     "output_type": "stream",
     "text": [
      "iterations: 775\n",
      "Number of used features: 6\n",
      "Used features: ['num-088f-breast.nii.gz-0.500000', 'hist-1-088f-breast.nii.gz-0.500000', 'hist-5-088f-breast.nii.gz-0.500000', 'hist-7-088f-breast.nii.gz-0.500000', 'hist-9-088f-breast.nii.gz-0.500000', 'hist-13-088f-breast.nii.gz-0.500000'] \n",
      "Score: -0.911105519381216\n"
     ]
    },
    {
     "name": "stderr",
     "output_type": "stream",
     "text": [
      "200it [00:00, 574.22it/s]\n"
     ]
    },
    {
     "name": "stdout",
     "output_type": "stream",
     "text": [
      "1\n",
      "1 0.9107723298120385\n",
      "Objective PLSRegression_Objective:\n"
     ]
    },
    {
     "name": "stderr",
     "output_type": "stream",
     "text": [
      "  8%|█████████████████████▉                                                                                                                                                                                                                                                             | 638/8000 [00:37<07:09, 17.15it/s]\n"
     ]
    },
    {
     "name": "stdout",
     "output_type": "stream",
     "text": [
      "iterations: 638\n",
      "Number of used features: 7\n",
      "Used features: ['num-088f-breast.nii.gz-0.500000', 'hist-1-088f-breast.nii.gz-0.500000', 'hist-4-088f-breast.nii.gz-0.500000', 'hist-6-088f-breast.nii.gz-0.500000', 'hist-8-088f-breast.nii.gz-0.500000', 'hist-10-088f-breast.nii.gz-0.500000', 'hist-19-088f-breast.nii.gz-0.500000'] \n",
      "Score: -0.9109035817741006\n"
     ]
    },
    {
     "name": "stderr",
     "output_type": "stream",
     "text": [
      "200it [00:00, 558.86it/s]\n"
     ]
    },
    {
     "name": "stdout",
     "output_type": "stream",
     "text": [
      "1\n",
      "1 0.9116946809142745\n",
      "Objective KNNR_Objective:\n"
     ]
    },
    {
     "name": "stderr",
     "output_type": "stream",
     "text": [
      " 19%|███████████████████████████████████████████████████▏                                                                                                                                                                                                                              | 1493/8000 [02:49<12:16,  8.83it/s]\n"
     ]
    },
    {
     "name": "stdout",
     "output_type": "stream",
     "text": [
      "iterations: 1493\n",
      "Number of used features: 7\n",
      "Used features: ['num-088k-breast.nii.gz-0.500000', 'sum-088k-breast.nii.gz-0.500000', 'hist-6-088k-breast.nii.gz-0.500000', 'hist-8-088k-breast.nii.gz-0.500000', 'hist-9-088k-breast.nii.gz-0.500000', 'hist-10-088k-breast.nii.gz-0.500000', 'hist-15-088k-breast.nii.gz-0.500000'] \n",
      "Score: -0.8347202808684215\n"
     ]
    },
    {
     "name": "stderr",
     "output_type": "stream",
     "text": [
      "200it [00:00, 699.26it/s]\n"
     ]
    },
    {
     "name": "stdout",
     "output_type": "stream",
     "text": [
      "1\n",
      "1 0.8385278719198437\n",
      "Objective LinearRegression_Objective:\n"
     ]
    },
    {
     "name": "stderr",
     "output_type": "stream",
     "text": [
      "  7%|██████████████████                                                                                                                                                                                                                                                                 | 527/8000 [00:09<02:17, 54.24it/s]\n"
     ]
    },
    {
     "name": "stdout",
     "output_type": "stream",
     "text": [
      "iterations: 527\n",
      "Number of used features: 4\n",
      "Used features: ['num-088k-breast.nii.gz-0.500000', 'kurt-088k-breast.nii.gz-0.500000', 'hist-0-088k-breast.nii.gz-0.500000', 'hist-19-088k-breast.nii.gz-0.500000'] \n",
      "Score: -0.8900374958895578\n"
     ]
    },
    {
     "name": "stderr",
     "output_type": "stream",
     "text": [
      "200it [00:00, 736.82it/s]\n"
     ]
    },
    {
     "name": "stdout",
     "output_type": "stream",
     "text": [
      "1\n",
      "1 0.8942596070845692\n",
      "Objective LassoRegression_Objective:\n"
     ]
    },
    {
     "name": "stderr",
     "output_type": "stream",
     "text": [
      "  7%|██████████████████                                                                                                                                                                                                                                                                 | 527/8000 [00:37<08:57, 13.91it/s]\n"
     ]
    },
    {
     "name": "stdout",
     "output_type": "stream",
     "text": [
      "iterations: 527\n",
      "Number of used features: 4\n",
      "Used features: ['num-088k-breast.nii.gz-0.500000', 'kurt-088k-breast.nii.gz-0.500000', 'hist-0-088k-breast.nii.gz-0.500000', 'hist-17-088k-breast.nii.gz-0.500000'] \n",
      "Score: -0.8938129903019315\n"
     ]
    },
    {
     "name": "stderr",
     "output_type": "stream",
     "text": [
      "200it [00:00, 515.46it/s]\n"
     ]
    },
    {
     "name": "stdout",
     "output_type": "stream",
     "text": [
      "1\n",
      "1 0.8962657746790728\n",
      "Objective RidgeRegression_Objective:\n"
     ]
    },
    {
     "name": "stderr",
     "output_type": "stream",
     "text": [
      "  7%|██████████████████                                                                                                                                                                                                                                                                 | 527/8000 [00:34<08:15, 15.07it/s]\n"
     ]
    },
    {
     "name": "stdout",
     "output_type": "stream",
     "text": [
      "iterations: 527\n",
      "Number of used features: 4\n",
      "Used features: ['num-088k-breast.nii.gz-0.500000', 'kurt-088k-breast.nii.gz-0.500000', 'hist-0-088k-breast.nii.gz-0.500000', 'hist-17-088k-breast.nii.gz-0.500000'] \n",
      "Score: -0.8938373253570323\n"
     ]
    },
    {
     "name": "stderr",
     "output_type": "stream",
     "text": [
      "200it [00:00, 570.90it/s]\n"
     ]
    },
    {
     "name": "stdout",
     "output_type": "stream",
     "text": [
      "1\n",
      "1 0.8962727620176256\n",
      "Objective PLSRegression_Objective:\n"
     ]
    },
    {
     "name": "stderr",
     "output_type": "stream",
     "text": [
      "  8%|████████████████████▊                                                                                                                                                                                                                                                              | 606/8000 [00:30<06:11, 19.92it/s]\n"
     ]
    },
    {
     "name": "stdout",
     "output_type": "stream",
     "text": [
      "iterations: 606\n",
      "Number of used features: 8\n",
      "Used features: ['num-088k-breast.nii.gz-0.500000', 'std-088k-breast.nii.gz-0.500000', 'skew-088k-breast.nii.gz-0.500000', 'kurt-088k-breast.nii.gz-0.500000', 'hist-0-088k-breast.nii.gz-0.500000', 'hist-1-088k-breast.nii.gz-0.500000', 'hist-17-088k-breast.nii.gz-0.500000', 'hist-18-088k-breast.nii.gz-0.500000'] \n",
      "Score: -0.895426530791136\n"
     ]
    },
    {
     "name": "stderr",
     "output_type": "stream",
     "text": [
      "200it [00:00, 594.66it/s]\n"
     ]
    },
    {
     "name": "stdout",
     "output_type": "stream",
     "text": [
      "1\n",
      "1 0.8976630118846111\n",
      "Objective KNNR_Objective:\n"
     ]
    },
    {
     "name": "stderr",
     "output_type": "stream",
     "text": [
      " 16%|███████████████████████████████████████████▎                                                                                                                                                                                                                                      | 1266/8000 [02:25<12:51,  8.73it/s]\n"
     ]
    },
    {
     "name": "stdout",
     "output_type": "stream",
     "text": [
      "iterations: 1266\n",
      "Number of used features: 4\n",
      "Used features: ['num-090a-breast.nii.gz-0.500000', 'sum-090a-breast.nii.gz-0.500000', 'kurt-090a-breast.nii.gz-0.500000', 'hist-6-090a-breast.nii.gz-0.500000'] \n",
      "Score: -0.8149817606945509\n"
     ]
    },
    {
     "name": "stderr",
     "output_type": "stream",
     "text": [
      "200it [00:00, 733.65it/s]\n"
     ]
    },
    {
     "name": "stdout",
     "output_type": "stream",
     "text": [
      "1\n",
      "1 0.817200889572275\n",
      "Objective LinearRegression_Objective:\n"
     ]
    },
    {
     "name": "stderr",
     "output_type": "stream",
     "text": [
      "  7%|███████████████████▊                                                                                                                                                                                                                                                               | 576/8000 [00:14<03:11, 38.83it/s]\n"
     ]
    },
    {
     "name": "stdout",
     "output_type": "stream",
     "text": [
      "iterations: 576\n",
      "Number of used features: 5\n",
      "Used features: ['kurt-090a-breast.nii.gz-0.500000', 'hist-5-090a-breast.nii.gz-0.500000', 'hist-6-090a-breast.nii.gz-0.500000', 'hist-7-090a-breast.nii.gz-0.500000', 'hist-8-090a-breast.nii.gz-0.500000'] \n",
      "Score: -0.8993450468155305\n"
     ]
    },
    {
     "name": "stderr",
     "output_type": "stream",
     "text": [
      "200it [00:00, 799.24it/s]\n"
     ]
    },
    {
     "name": "stdout",
     "output_type": "stream",
     "text": [
      "1\n",
      "1 0.9002860995587315\n",
      "Objective LassoRegression_Objective:\n"
     ]
    },
    {
     "name": "stderr",
     "output_type": "stream",
     "text": [
      "  9%|█████████████████████████▊                                                                                                                                                                                                                                                         | 751/8000 [01:10<11:16, 10.72it/s]\n"
     ]
    },
    {
     "name": "stdout",
     "output_type": "stream",
     "text": [
      "iterations: 751\n",
      "Number of used features: 8\n",
      "Used features: ['sum-090a-breast.nii.gz-0.500000', 'std-090a-breast.nii.gz-0.500000', 'kurt-090a-breast.nii.gz-0.500000', 'hist-5-090a-breast.nii.gz-0.500000', 'hist-6-090a-breast.nii.gz-0.500000', 'hist-7-090a-breast.nii.gz-0.500000', 'hist-11-090a-breast.nii.gz-0.500000', 'hist-15-090a-breast.nii.gz-0.500000'] \n",
      "Score: -0.9026534650808025\n"
     ]
    },
    {
     "name": "stderr",
     "output_type": "stream",
     "text": [
      "200it [00:00, 531.60it/s]\n"
     ]
    },
    {
     "name": "stdout",
     "output_type": "stream",
     "text": [
      "1\n",
      "1 0.9048885850883851\n",
      "Objective RidgeRegression_Objective:\n"
     ]
    },
    {
     "name": "stderr",
     "output_type": "stream",
     "text": [
      "  8%|████████████████████▉                                                                                                                                                                                                                                                              | 610/8000 [00:44<09:00, 13.67it/s]\n"
     ]
    },
    {
     "name": "stdout",
     "output_type": "stream",
     "text": [
      "iterations: 610\n",
      "Number of used features: 5\n",
      "Used features: ['kurt-090a-breast.nii.gz-0.500000', 'hist-5-090a-breast.nii.gz-0.500000', 'hist-6-090a-breast.nii.gz-0.500000', 'hist-7-090a-breast.nii.gz-0.500000', 'hist-8-090a-breast.nii.gz-0.500000'] \n",
      "Score: -0.899870836855873\n"
     ]
    },
    {
     "name": "stderr",
     "output_type": "stream",
     "text": [
      "200it [00:00, 596.69it/s]\n"
     ]
    },
    {
     "name": "stdout",
     "output_type": "stream",
     "text": [
      "1\n",
      "1 0.9007708037836527\n",
      "Objective PLSRegression_Objective:\n"
     ]
    },
    {
     "name": "stderr",
     "output_type": "stream",
     "text": [
      "  8%|████████████████████▊                                                                                                                                                                                                                                                              | 606/8000 [00:29<06:05, 20.25it/s]\n"
     ]
    },
    {
     "name": "stdout",
     "output_type": "stream",
     "text": [
      "iterations: 606\n",
      "Number of used features: 10\n",
      "Used features: ['num-090a-breast.nii.gz-0.500000', 'sum-090a-breast.nii.gz-0.500000', 'std-090a-breast.nii.gz-0.500000', 'skew-090a-breast.nii.gz-0.500000', 'kurt-090a-breast.nii.gz-0.500000', 'hist-1-090a-breast.nii.gz-0.500000', 'hist-5-090a-breast.nii.gz-0.500000', 'hist-6-090a-breast.nii.gz-0.500000', 'hist-8-090a-breast.nii.gz-0.500000', 'hist-19-090a-breast.nii.gz-0.500000'] \n",
      "Score: -0.8862305963154132\n"
     ]
    },
    {
     "name": "stderr",
     "output_type": "stream",
     "text": [
      "200it [00:00, 586.17it/s]\n"
     ]
    },
    {
     "name": "stdout",
     "output_type": "stream",
     "text": [
      "1\n",
      "1 0.8884776368559776\n",
      "Objective KNNR_Objective:\n"
     ]
    },
    {
     "name": "stderr",
     "output_type": "stream",
     "text": [
      " 13%|████████████████████████████████████▍                                                                                                                                                                                                                                             | 1064/8000 [01:56<12:37,  9.16it/s]\n"
     ]
    },
    {
     "name": "stdout",
     "output_type": "stream",
     "text": [
      "iterations: 1064\n",
      "Number of used features: 4\n",
      "Used features: ['num-091f-breast.nii.gz-0.500000', 'sum-091f-breast.nii.gz-0.500000', 'hist-6-091f-breast.nii.gz-0.500000', 'hist-16-091f-breast.nii.gz-0.500000'] \n",
      "Score: -0.8116576426507941\n"
     ]
    },
    {
     "name": "stderr",
     "output_type": "stream",
     "text": [
      "200it [00:00, 732.14it/s]\n"
     ]
    },
    {
     "name": "stdout",
     "output_type": "stream",
     "text": [
      "1\n",
      "1 0.8152180498686571\n",
      "Objective LinearRegression_Objective:\n"
     ]
    },
    {
     "name": "stderr",
     "output_type": "stream",
     "text": [
      "  8%|████████████████████▉                                                                                                                                                                                                                                                              | 610/8000 [00:18<03:49, 32.23it/s]\n"
     ]
    },
    {
     "name": "stdout",
     "output_type": "stream",
     "text": [
      "iterations: 610\n",
      "Number of used features: 7\n",
      "Used features: ['sum-091f-breast.nii.gz-0.500000', 'std-091f-breast.nii.gz-0.500000', 'skew-091f-breast.nii.gz-0.500000', 'kurt-091f-breast.nii.gz-0.500000', 'hist-2-091f-breast.nii.gz-0.500000', 'hist-5-091f-breast.nii.gz-0.500000', 'hist-7-091f-breast.nii.gz-0.500000'] \n",
      "Score: -0.9103093552072804\n"
     ]
    },
    {
     "name": "stderr",
     "output_type": "stream",
     "text": [
      "200it [00:00, 792.42it/s]\n"
     ]
    },
    {
     "name": "stdout",
     "output_type": "stream",
     "text": [
      "1\n",
      "1 0.9073475535194878\n",
      "Objective LassoRegression_Objective:\n"
     ]
    },
    {
     "name": "stderr",
     "output_type": "stream",
     "text": [
      "  7%|███████████████████▌                                                                                                                                                                                                                                                               | 569/8000 [00:45<09:47, 12.64it/s]\n"
     ]
    },
    {
     "name": "stdout",
     "output_type": "stream",
     "text": [
      "iterations: 569\n",
      "Number of used features: 10\n",
      "Used features: ['num-091f-breast.nii.gz-0.500000', 'sum-091f-breast.nii.gz-0.500000', 'std-091f-breast.nii.gz-0.500000', 'skew-091f-breast.nii.gz-0.500000', 'kurt-091f-breast.nii.gz-0.500000', 'hist-2-091f-breast.nii.gz-0.500000', 'hist-4-091f-breast.nii.gz-0.500000', 'hist-6-091f-breast.nii.gz-0.500000', 'hist-14-091f-breast.nii.gz-0.500000', 'hist-17-091f-breast.nii.gz-0.500000'] \n",
      "Score: -0.9048642722799\n"
     ]
    },
    {
     "name": "stderr",
     "output_type": "stream",
     "text": [
      "200it [00:00, 487.78it/s]\n"
     ]
    },
    {
     "name": "stdout",
     "output_type": "stream",
     "text": [
      "1\n",
      "1 0.9052442554482425\n",
      "Objective RidgeRegression_Objective:\n"
     ]
    },
    {
     "name": "stderr",
     "output_type": "stream",
     "text": [
      " 13%|███████████████████████████████████▌                                                                                                                                                                                                                                              | 1038/8000 [01:16<08:35, 13.51it/s]\n"
     ]
    },
    {
     "name": "stdout",
     "output_type": "stream",
     "text": [
      "iterations: 1038\n",
      "Number of used features: 10\n",
      "Used features: ['num-091f-breast.nii.gz-0.500000', 'sum-091f-breast.nii.gz-0.500000', 'std-091f-breast.nii.gz-0.500000', 'kurt-091f-breast.nii.gz-0.500000', 'hist-1-091f-breast.nii.gz-0.500000', 'hist-3-091f-breast.nii.gz-0.500000', 'hist-5-091f-breast.nii.gz-0.500000', 'hist-10-091f-breast.nii.gz-0.500000', 'hist-11-091f-breast.nii.gz-0.500000', 'hist-17-091f-breast.nii.gz-0.500000'] \n",
      "Score: -0.8980747260572719\n"
     ]
    },
    {
     "name": "stderr",
     "output_type": "stream",
     "text": [
      "200it [00:00, 588.20it/s]\n"
     ]
    },
    {
     "name": "stdout",
     "output_type": "stream",
     "text": [
      "1\n",
      "1 0.8982522376263459\n",
      "Objective PLSRegression_Objective:\n"
     ]
    },
    {
     "name": "stderr",
     "output_type": "stream",
     "text": [
      "  9%|████████████████████████▊                                                                                                                                                                                                                                                          | 723/8000 [00:42<07:07, 17.04it/s]\n"
     ]
    },
    {
     "name": "stdout",
     "output_type": "stream",
     "text": [
      "iterations: 723\n",
      "Number of used features: 7\n",
      "Used features: ['num-091f-breast.nii.gz-0.500000', 'sum-091f-breast.nii.gz-0.500000', 'std-091f-breast.nii.gz-0.500000', 'kurt-091f-breast.nii.gz-0.500000', 'hist-2-091f-breast.nii.gz-0.500000', 'hist-5-091f-breast.nii.gz-0.500000', 'hist-7-091f-breast.nii.gz-0.500000'] \n",
      "Score: -0.9071720262413064\n"
     ]
    },
    {
     "name": "stderr",
     "output_type": "stream",
     "text": [
      "200it [00:00, 586.16it/s]\n"
     ]
    },
    {
     "name": "stdout",
     "output_type": "stream",
     "text": [
      "1\n",
      "1 0.904829991985217\n",
      "Objective KNNR_Objective:\n"
     ]
    },
    {
     "name": "stderr",
     "output_type": "stream",
     "text": [
      "  8%|██████████████████████▌                                                                                                                                                                                                                                                            | 656/8000 [01:05<12:18,  9.94it/s]\n"
     ]
    },
    {
     "name": "stdout",
     "output_type": "stream",
     "text": [
      "iterations: 656\n",
      "Number of used features: 2\n",
      "Used features: ['num-092k-breast.nii.gz-0.500000', 'sum-092k-breast.nii.gz-0.500000'] \n",
      "Score: -0.833447484290588\n"
     ]
    },
    {
     "name": "stderr",
     "output_type": "stream",
     "text": [
      "200it [00:00, 723.99it/s]\n"
     ]
    },
    {
     "name": "stdout",
     "output_type": "stream",
     "text": [
      "1\n",
      "1 0.8355695923238314\n",
      "Objective LinearRegression_Objective:\n"
     ]
    },
    {
     "name": "stderr",
     "output_type": "stream",
     "text": [
      "  9%|█████████████████████████▏                                                                                                                                                                                                                                                         | 733/8000 [00:28<04:46, 25.38it/s]\n"
     ]
    },
    {
     "name": "stdout",
     "output_type": "stream",
     "text": [
      "iterations: 733\n",
      "Number of used features: 6\n",
      "Used features: ['sum-092k-breast.nii.gz-0.500000', 'std-092k-breast.nii.gz-0.500000', 'hist-5-092k-breast.nii.gz-0.500000', 'hist-7-092k-breast.nii.gz-0.500000', 'hist-10-092k-breast.nii.gz-0.500000', 'hist-19-092k-breast.nii.gz-0.500000'] \n",
      "Score: -0.8978363684651783\n"
     ]
    },
    {
     "name": "stderr",
     "output_type": "stream",
     "text": [
      "200it [00:00, 795.51it/s]\n"
     ]
    },
    {
     "name": "stdout",
     "output_type": "stream",
     "text": [
      "1\n",
      "1 0.8976456613313069\n",
      "Objective LassoRegression_Objective:\n"
     ]
    },
    {
     "name": "stderr",
     "output_type": "stream",
     "text": [
      " 12%|████████████████████████████████▊                                                                                                                                                                                                                                                  | 953/8000 [01:32<11:26, 10.26it/s]\n"
     ]
    },
    {
     "name": "stdout",
     "output_type": "stream",
     "text": [
      "iterations: 953\n",
      "Number of used features: 8\n",
      "Used features: ['mean-092k-breast.nii.gz-0.500000', 'std-092k-breast.nii.gz-0.500000', 'skew-092k-breast.nii.gz-0.500000', 'kurt-092k-breast.nii.gz-0.500000', 'hist-5-092k-breast.nii.gz-0.500000', 'hist-7-092k-breast.nii.gz-0.500000', 'hist-10-092k-breast.nii.gz-0.500000', 'hist-15-092k-breast.nii.gz-0.500000'] \n",
      "Score: -0.9052602183998195\n"
     ]
    },
    {
     "name": "stderr",
     "output_type": "stream",
     "text": [
      "200it [00:00, 524.94it/s]\n"
     ]
    },
    {
     "name": "stdout",
     "output_type": "stream",
     "text": [
      "1\n",
      "1 0.9053239657158144\n",
      "Objective RidgeRegression_Objective:\n"
     ]
    },
    {
     "name": "stderr",
     "output_type": "stream",
     "text": [
      " 12%|████████████████████████████████▊                                                                                                                                                                                                                                                  | 953/8000 [01:23<10:17, 11.42it/s]\n"
     ]
    },
    {
     "name": "stdout",
     "output_type": "stream",
     "text": [
      "iterations: 953\n",
      "Number of used features: 8\n",
      "Used features: ['mean-092k-breast.nii.gz-0.500000', 'std-092k-breast.nii.gz-0.500000', 'skew-092k-breast.nii.gz-0.500000', 'kurt-092k-breast.nii.gz-0.500000', 'hist-5-092k-breast.nii.gz-0.500000', 'hist-7-092k-breast.nii.gz-0.500000', 'hist-10-092k-breast.nii.gz-0.500000', 'hist-15-092k-breast.nii.gz-0.500000'] \n",
      "Score: -0.9063473476963263\n"
     ]
    },
    {
     "name": "stderr",
     "output_type": "stream",
     "text": [
      "200it [00:00, 566.97it/s]\n"
     ]
    },
    {
     "name": "stdout",
     "output_type": "stream",
     "text": [
      "1\n",
      "1 0.9060188594904754\n",
      "Objective PLSRegression_Objective:\n"
     ]
    },
    {
     "name": "stderr",
     "output_type": "stream",
     "text": [
      "  8%|███████████████████████▎                                                                                                                                                                                                                                                           | 679/8000 [00:32<05:49, 20.97it/s]\n"
     ]
    },
    {
     "name": "stdout",
     "output_type": "stream",
     "text": [
      "iterations: 679\n",
      "Number of used features: 6\n",
      "Used features: ['num-092k-breast.nii.gz-0.500000', 'hist-4-092k-breast.nii.gz-0.500000', 'hist-5-092k-breast.nii.gz-0.500000', 'hist-6-092k-breast.nii.gz-0.500000', 'hist-7-092k-breast.nii.gz-0.500000', 'hist-8-092k-breast.nii.gz-0.500000'] \n",
      "Score: -0.8977752380851067\n"
     ]
    },
    {
     "name": "stderr",
     "output_type": "stream",
     "text": [
      "200it [00:00, 612.61it/s]"
     ]
    },
    {
     "name": "stdout",
     "output_type": "stream",
     "text": [
      "1\n",
      "1 0.898710980144736\n"
     ]
    },
    {
     "name": "stderr",
     "output_type": "stream",
     "text": [
      "\n"
     ]
    }
   ],
   "source": [
    "for m in masks:\n",
    "    results.append(model_selection(breast_features[[c for c in breast_features.columns if m in c or c == 'type']], breast_target, dataset='breast', type=m))"
   ]
  },
  {
   "cell_type": "markdown",
   "metadata": {},
   "source": [
    "### Saving the results"
   ]
  },
  {
   "cell_type": "code",
   "execution_count": 13,
   "metadata": {},
   "outputs": [],
   "source": [
    "results= pd.concat(results)\n",
    "results.to_csv(os.path.join(path_prefix_results,'results.csv'), index=False)\n",
    "pickle.dump(results, open(os.path.join(path_prefix_results,'results.pickle'), 'wb'))"
   ]
  },
  {
   "cell_type": "markdown",
   "metadata": {},
   "source": [
    "## Without feature selection"
   ]
  },
  {
   "cell_type": "markdown",
   "metadata": {},
   "source": [
    "### thigh with all features"
   ]
  },
  {
   "cell_type": "code",
   "execution_count": 14,
   "metadata": {},
   "outputs": [
    {
     "name": "stdout",
     "output_type": "stream",
     "text": [
      "Objective KNNR_Objective:\n"
     ]
    },
    {
     "name": "stderr",
     "output_type": "stream",
     "text": [
      "  7%|██████████████████▍                                                                                                                                                                                                                                                                | 538/8000 [00:42<09:55, 12.52it/s]\n"
     ]
    },
    {
     "name": "stdout",
     "output_type": "stream",
     "text": [
      "iterations: 538\n",
      "Number of used features: 443\n",
      "Used features: ['num-074k-thigh.nii.gz-0.500000', 'sum-074k-thigh.nii.gz-0.500000', 'mean-074k-thigh.nii.gz-0.500000', 'std-074k-thigh.nii.gz-0.500000', 'skew-074k-thigh.nii.gz-0.500000', 'kurt-074k-thigh.nii.gz-0.500000', 'hist-0-074k-thigh.nii.gz-0.500000', 'hist-1-074k-thigh.nii.gz-0.500000', 'hist-2-074k-thigh.nii.gz-0.500000', 'hist-3-074k-thigh.nii.gz-0.500000', 'hist-4-074k-thigh.nii.gz-0.500000', 'hist-5-074k-thigh.nii.gz-0.500000', 'hist-6-074k-thigh.nii.gz-0.500000', 'hist-7-074k-thigh.nii.gz-0.500000', 'hist-8-074k-thigh.nii.gz-0.500000', 'hist-9-074k-thigh.nii.gz-0.500000', 'hist-10-074k-thigh.nii.gz-0.500000', 'hist-11-074k-thigh.nii.gz-0.500000', 'hist-12-074k-thigh.nii.gz-0.500000', 'hist-13-074k-thigh.nii.gz-0.500000', 'hist-14-074k-thigh.nii.gz-0.500000', 'hist-15-074k-thigh.nii.gz-0.500000', 'hist-16-074k-thigh.nii.gz-0.500000', 'hist-17-074k-thigh.nii.gz-0.500000', 'hist-18-074k-thigh.nii.gz-0.500000', 'hist-19-074k-thigh.nii.gz-0.500000', 'num-075a-thigh.nii.gz-0.500000', 'sum-075a-thigh.nii.gz-0.500000', 'mean-075a-thigh.nii.gz-0.500000', 'std-075a-thigh.nii.gz-0.500000', 'skew-075a-thigh.nii.gz-0.500000', 'kurt-075a-thigh.nii.gz-0.500000', 'hist-0-075a-thigh.nii.gz-0.500000', 'hist-1-075a-thigh.nii.gz-0.500000', 'hist-2-075a-thigh.nii.gz-0.500000', 'hist-3-075a-thigh.nii.gz-0.500000', 'hist-4-075a-thigh.nii.gz-0.500000', 'hist-5-075a-thigh.nii.gz-0.500000', 'hist-6-075a-thigh.nii.gz-0.500000', 'hist-7-075a-thigh.nii.gz-0.500000', 'hist-8-075a-thigh.nii.gz-0.500000', 'hist-9-075a-thigh.nii.gz-0.500000', 'hist-10-075a-thigh.nii.gz-0.500000', 'hist-11-075a-thigh.nii.gz-0.500000', 'hist-12-075a-thigh.nii.gz-0.500000', 'hist-13-075a-thigh.nii.gz-0.500000', 'hist-14-075a-thigh.nii.gz-0.500000', 'hist-15-075a-thigh.nii.gz-0.500000', 'hist-16-075a-thigh.nii.gz-0.500000', 'hist-17-075a-thigh.nii.gz-0.500000', 'hist-18-075a-thigh.nii.gz-0.500000', 'hist-19-075a-thigh.nii.gz-0.500000', 'num-075k-thigh.nii.gz-0.500000', 'sum-075k-thigh.nii.gz-0.500000', 'mean-075k-thigh.nii.gz-0.500000', 'std-075k-thigh.nii.gz-0.500000', 'skew-075k-thigh.nii.gz-0.500000', 'kurt-075k-thigh.nii.gz-0.500000', 'hist-0-075k-thigh.nii.gz-0.500000', 'hist-1-075k-thigh.nii.gz-0.500000', 'hist-2-075k-thigh.nii.gz-0.500000', 'hist-3-075k-thigh.nii.gz-0.500000', 'hist-4-075k-thigh.nii.gz-0.500000', 'hist-5-075k-thigh.nii.gz-0.500000', 'hist-6-075k-thigh.nii.gz-0.500000', 'hist-7-075k-thigh.nii.gz-0.500000', 'hist-8-075k-thigh.nii.gz-0.500000', 'hist-9-075k-thigh.nii.gz-0.500000', 'hist-10-075k-thigh.nii.gz-0.500000', 'hist-11-075k-thigh.nii.gz-0.500000', 'hist-12-075k-thigh.nii.gz-0.500000', 'hist-13-075k-thigh.nii.gz-0.500000', 'hist-14-075k-thigh.nii.gz-0.500000', 'hist-15-075k-thigh.nii.gz-0.500000', 'hist-16-075k-thigh.nii.gz-0.500000', 'hist-17-075k-thigh.nii.gz-0.500000', 'hist-18-075k-thigh.nii.gz-0.500000', 'hist-19-075k-thigh.nii.gz-0.500000', 'num-077k-thigh.nii.gz-0.500000', 'sum-077k-thigh.nii.gz-0.500000', 'mean-077k-thigh.nii.gz-0.500000', 'std-077k-thigh.nii.gz-0.500000', 'skew-077k-thigh.nii.gz-0.500000', 'kurt-077k-thigh.nii.gz-0.500000', 'hist-0-077k-thigh.nii.gz-0.500000', 'hist-1-077k-thigh.nii.gz-0.500000', 'hist-2-077k-thigh.nii.gz-0.500000', 'hist-3-077k-thigh.nii.gz-0.500000', 'hist-4-077k-thigh.nii.gz-0.500000', 'hist-5-077k-thigh.nii.gz-0.500000', 'hist-6-077k-thigh.nii.gz-0.500000', 'hist-7-077k-thigh.nii.gz-0.500000', 'hist-8-077k-thigh.nii.gz-0.500000', 'hist-9-077k-thigh.nii.gz-0.500000', 'hist-10-077k-thigh.nii.gz-0.500000', 'hist-11-077k-thigh.nii.gz-0.500000', 'hist-12-077k-thigh.nii.gz-0.500000', 'hist-13-077k-thigh.nii.gz-0.500000', 'hist-14-077k-thigh.nii.gz-0.500000', 'hist-15-077k-thigh.nii.gz-0.500000', 'hist-16-077k-thigh.nii.gz-0.500000', 'hist-17-077k-thigh.nii.gz-0.500000', 'hist-18-077k-thigh.nii.gz-0.500000', 'hist-19-077k-thigh.nii.gz-0.500000', 'num-079k-thigh.nii.gz-0.500000', 'sum-079k-thigh.nii.gz-0.500000', 'mean-079k-thigh.nii.gz-0.500000', 'std-079k-thigh.nii.gz-0.500000', 'skew-079k-thigh.nii.gz-0.500000', 'kurt-079k-thigh.nii.gz-0.500000', 'hist-0-079k-thigh.nii.gz-0.500000', 'hist-1-079k-thigh.nii.gz-0.500000', 'hist-2-079k-thigh.nii.gz-0.500000', 'hist-3-079k-thigh.nii.gz-0.500000', 'hist-4-079k-thigh.nii.gz-0.500000', 'hist-5-079k-thigh.nii.gz-0.500000', 'hist-6-079k-thigh.nii.gz-0.500000', 'hist-7-079k-thigh.nii.gz-0.500000', 'hist-8-079k-thigh.nii.gz-0.500000', 'hist-9-079k-thigh.nii.gz-0.500000', 'hist-10-079k-thigh.nii.gz-0.500000', 'hist-11-079k-thigh.nii.gz-0.500000', 'hist-12-079k-thigh.nii.gz-0.500000', 'hist-13-079k-thigh.nii.gz-0.500000', 'hist-14-079k-thigh.nii.gz-0.500000', 'hist-15-079k-thigh.nii.gz-0.500000', 'hist-16-079k-thigh.nii.gz-0.500000', 'hist-17-079k-thigh.nii.gz-0.500000', 'hist-18-079k-thigh.nii.gz-0.500000', 'hist-19-079k-thigh.nii.gz-0.500000', 'num-080k-thigh.nii.gz-0.500000', 'sum-080k-thigh.nii.gz-0.500000', 'mean-080k-thigh.nii.gz-0.500000', 'std-080k-thigh.nii.gz-0.500000', 'skew-080k-thigh.nii.gz-0.500000', 'kurt-080k-thigh.nii.gz-0.500000', 'hist-0-080k-thigh.nii.gz-0.500000', 'hist-1-080k-thigh.nii.gz-0.500000', 'hist-2-080k-thigh.nii.gz-0.500000', 'hist-3-080k-thigh.nii.gz-0.500000', 'hist-4-080k-thigh.nii.gz-0.500000', 'hist-5-080k-thigh.nii.gz-0.500000', 'hist-6-080k-thigh.nii.gz-0.500000', 'hist-7-080k-thigh.nii.gz-0.500000', 'hist-8-080k-thigh.nii.gz-0.500000', 'hist-9-080k-thigh.nii.gz-0.500000', 'hist-10-080k-thigh.nii.gz-0.500000', 'hist-11-080k-thigh.nii.gz-0.500000', 'hist-12-080k-thigh.nii.gz-0.500000', 'hist-13-080k-thigh.nii.gz-0.500000', 'hist-14-080k-thigh.nii.gz-0.500000', 'hist-15-080k-thigh.nii.gz-0.500000', 'hist-16-080k-thigh.nii.gz-0.500000', 'hist-17-080k-thigh.nii.gz-0.500000', 'hist-18-080k-thigh.nii.gz-0.500000', 'hist-19-080k-thigh.nii.gz-0.500000', 'num-082k-thigh.nii.gz-0.500000', 'sum-082k-thigh.nii.gz-0.500000', 'mean-082k-thigh.nii.gz-0.500000', 'std-082k-thigh.nii.gz-0.500000', 'skew-082k-thigh.nii.gz-0.500000', 'kurt-082k-thigh.nii.gz-0.500000', 'hist-0-082k-thigh.nii.gz-0.500000', 'hist-1-082k-thigh.nii.gz-0.500000', 'hist-2-082k-thigh.nii.gz-0.500000', 'hist-3-082k-thigh.nii.gz-0.500000', 'hist-4-082k-thigh.nii.gz-0.500000', 'hist-5-082k-thigh.nii.gz-0.500000', 'hist-6-082k-thigh.nii.gz-0.500000', 'hist-7-082k-thigh.nii.gz-0.500000', 'hist-8-082k-thigh.nii.gz-0.500000', 'hist-9-082k-thigh.nii.gz-0.500000', 'hist-10-082k-thigh.nii.gz-0.500000', 'hist-11-082k-thigh.nii.gz-0.500000', 'hist-12-082k-thigh.nii.gz-0.500000', 'hist-13-082k-thigh.nii.gz-0.500000', 'hist-14-082k-thigh.nii.gz-0.500000', 'hist-15-082k-thigh.nii.gz-0.500000', 'hist-16-082k-thigh.nii.gz-0.500000', 'hist-17-082k-thigh.nii.gz-0.500000', 'hist-18-082k-thigh.nii.gz-0.500000', 'hist-19-082k-thigh.nii.gz-0.500000', 'num-083a-thigh.nii.gz-0.500000', 'sum-083a-thigh.nii.gz-0.500000', 'mean-083a-thigh.nii.gz-0.500000', 'std-083a-thigh.nii.gz-0.500000', 'skew-083a-thigh.nii.gz-0.500000', 'kurt-083a-thigh.nii.gz-0.500000', 'hist-0-083a-thigh.nii.gz-0.500000', 'hist-1-083a-thigh.nii.gz-0.500000', 'hist-2-083a-thigh.nii.gz-0.500000', 'hist-3-083a-thigh.nii.gz-0.500000', 'hist-4-083a-thigh.nii.gz-0.500000', 'hist-5-083a-thigh.nii.gz-0.500000', 'hist-6-083a-thigh.nii.gz-0.500000', 'hist-7-083a-thigh.nii.gz-0.500000', 'hist-8-083a-thigh.nii.gz-0.500000', 'hist-9-083a-thigh.nii.gz-0.500000', 'hist-10-083a-thigh.nii.gz-0.500000', 'hist-11-083a-thigh.nii.gz-0.500000', 'hist-12-083a-thigh.nii.gz-0.500000', 'hist-13-083a-thigh.nii.gz-0.500000', 'hist-14-083a-thigh.nii.gz-0.500000', 'hist-15-083a-thigh.nii.gz-0.500000', 'hist-16-083a-thigh.nii.gz-0.500000', 'hist-17-083a-thigh.nii.gz-0.500000', 'hist-18-083a-thigh.nii.gz-0.500000', 'hist-19-083a-thigh.nii.gz-0.500000', 'num-083k-thigh.nii.gz-0.500000', 'sum-083k-thigh.nii.gz-0.500000', 'mean-083k-thigh.nii.gz-0.500000', 'std-083k-thigh.nii.gz-0.500000', 'skew-083k-thigh.nii.gz-0.500000', 'kurt-083k-thigh.nii.gz-0.500000', 'hist-0-083k-thigh.nii.gz-0.500000', 'hist-1-083k-thigh.nii.gz-0.500000', 'hist-2-083k-thigh.nii.gz-0.500000', 'hist-3-083k-thigh.nii.gz-0.500000', 'hist-4-083k-thigh.nii.gz-0.500000', 'hist-5-083k-thigh.nii.gz-0.500000', 'hist-6-083k-thigh.nii.gz-0.500000', 'hist-7-083k-thigh.nii.gz-0.500000', 'hist-8-083k-thigh.nii.gz-0.500000', 'hist-9-083k-thigh.nii.gz-0.500000', 'hist-10-083k-thigh.nii.gz-0.500000', 'hist-11-083k-thigh.nii.gz-0.500000', 'hist-12-083k-thigh.nii.gz-0.500000', 'hist-13-083k-thigh.nii.gz-0.500000', 'hist-14-083k-thigh.nii.gz-0.500000', 'hist-15-083k-thigh.nii.gz-0.500000', 'hist-16-083k-thigh.nii.gz-0.500000', 'hist-17-083k-thigh.nii.gz-0.500000', 'hist-18-083k-thigh.nii.gz-0.500000', 'hist-19-083k-thigh.nii.gz-0.500000', 'num-084a-thigh.nii.gz-0.500000', 'sum-084a-thigh.nii.gz-0.500000', 'mean-084a-thigh.nii.gz-0.500000', 'std-084a-thigh.nii.gz-0.500000', 'skew-084a-thigh.nii.gz-0.500000', 'kurt-084a-thigh.nii.gz-0.500000', 'hist-0-084a-thigh.nii.gz-0.500000', 'hist-1-084a-thigh.nii.gz-0.500000', 'hist-2-084a-thigh.nii.gz-0.500000', 'hist-3-084a-thigh.nii.gz-0.500000', 'hist-4-084a-thigh.nii.gz-0.500000', 'hist-5-084a-thigh.nii.gz-0.500000', 'hist-6-084a-thigh.nii.gz-0.500000', 'hist-7-084a-thigh.nii.gz-0.500000', 'hist-8-084a-thigh.nii.gz-0.500000', 'hist-9-084a-thigh.nii.gz-0.500000', 'hist-10-084a-thigh.nii.gz-0.500000', 'hist-11-084a-thigh.nii.gz-0.500000', 'hist-12-084a-thigh.nii.gz-0.500000', 'hist-13-084a-thigh.nii.gz-0.500000', 'hist-14-084a-thigh.nii.gz-0.500000', 'hist-15-084a-thigh.nii.gz-0.500000', 'hist-16-084a-thigh.nii.gz-0.500000', 'hist-17-084a-thigh.nii.gz-0.500000', 'hist-18-084a-thigh.nii.gz-0.500000', 'hist-19-084a-thigh.nii.gz-0.500000', 'num-087f-thigh.nii.gz-0.500000', 'sum-087f-thigh.nii.gz-0.500000', 'mean-087f-thigh.nii.gz-0.500000', 'std-087f-thigh.nii.gz-0.500000', 'skew-087f-thigh.nii.gz-0.500000', 'kurt-087f-thigh.nii.gz-0.500000', 'hist-0-087f-thigh.nii.gz-0.500000', 'hist-1-087f-thigh.nii.gz-0.500000', 'hist-2-087f-thigh.nii.gz-0.500000', 'hist-3-087f-thigh.nii.gz-0.500000', 'hist-4-087f-thigh.nii.gz-0.500000', 'hist-5-087f-thigh.nii.gz-0.500000', 'hist-6-087f-thigh.nii.gz-0.500000', 'hist-7-087f-thigh.nii.gz-0.500000', 'hist-8-087f-thigh.nii.gz-0.500000', 'hist-9-087f-thigh.nii.gz-0.500000', 'hist-10-087f-thigh.nii.gz-0.500000', 'hist-11-087f-thigh.nii.gz-0.500000', 'hist-12-087f-thigh.nii.gz-0.500000', 'hist-13-087f-thigh.nii.gz-0.500000', 'hist-14-087f-thigh.nii.gz-0.500000', 'hist-15-087f-thigh.nii.gz-0.500000', 'hist-16-087f-thigh.nii.gz-0.500000', 'hist-17-087f-thigh.nii.gz-0.500000', 'hist-18-087f-thigh.nii.gz-0.500000', 'hist-19-087f-thigh.nii.gz-0.500000', 'num-088f-thigh.nii.gz-0.500000', 'sum-088f-thigh.nii.gz-0.500000', 'mean-088f-thigh.nii.gz-0.500000', 'std-088f-thigh.nii.gz-0.500000', 'skew-088f-thigh.nii.gz-0.500000', 'kurt-088f-thigh.nii.gz-0.500000', 'hist-0-088f-thigh.nii.gz-0.500000', 'hist-1-088f-thigh.nii.gz-0.500000', 'hist-2-088f-thigh.nii.gz-0.500000', 'hist-3-088f-thigh.nii.gz-0.500000', 'hist-4-088f-thigh.nii.gz-0.500000', 'hist-5-088f-thigh.nii.gz-0.500000', 'hist-6-088f-thigh.nii.gz-0.500000', 'hist-7-088f-thigh.nii.gz-0.500000', 'hist-8-088f-thigh.nii.gz-0.500000', 'hist-9-088f-thigh.nii.gz-0.500000', 'hist-10-088f-thigh.nii.gz-0.500000', 'hist-11-088f-thigh.nii.gz-0.500000', 'hist-12-088f-thigh.nii.gz-0.500000', 'hist-13-088f-thigh.nii.gz-0.500000', 'hist-14-088f-thigh.nii.gz-0.500000', 'hist-15-088f-thigh.nii.gz-0.500000', 'hist-16-088f-thigh.nii.gz-0.500000', 'hist-17-088f-thigh.nii.gz-0.500000', 'hist-18-088f-thigh.nii.gz-0.500000', 'hist-19-088f-thigh.nii.gz-0.500000', 'num-088k-thigh.nii.gz-0.500000', 'sum-088k-thigh.nii.gz-0.500000', 'mean-088k-thigh.nii.gz-0.500000', 'std-088k-thigh.nii.gz-0.500000', 'skew-088k-thigh.nii.gz-0.500000', 'kurt-088k-thigh.nii.gz-0.500000', 'hist-0-088k-thigh.nii.gz-0.500000', 'hist-1-088k-thigh.nii.gz-0.500000', 'hist-2-088k-thigh.nii.gz-0.500000', 'hist-3-088k-thigh.nii.gz-0.500000', 'hist-4-088k-thigh.nii.gz-0.500000', 'hist-5-088k-thigh.nii.gz-0.500000', 'hist-6-088k-thigh.nii.gz-0.500000', 'hist-7-088k-thigh.nii.gz-0.500000', 'hist-8-088k-thigh.nii.gz-0.500000', 'hist-9-088k-thigh.nii.gz-0.500000', 'hist-10-088k-thigh.nii.gz-0.500000', 'hist-11-088k-thigh.nii.gz-0.500000', 'hist-12-088k-thigh.nii.gz-0.500000', 'hist-13-088k-thigh.nii.gz-0.500000', 'hist-14-088k-thigh.nii.gz-0.500000', 'hist-15-088k-thigh.nii.gz-0.500000', 'hist-16-088k-thigh.nii.gz-0.500000', 'hist-17-088k-thigh.nii.gz-0.500000', 'hist-18-088k-thigh.nii.gz-0.500000', 'hist-19-088k-thigh.nii.gz-0.500000', 'num-090a-thigh.nii.gz-0.500000', 'sum-090a-thigh.nii.gz-0.500000', 'mean-090a-thigh.nii.gz-0.500000', 'std-090a-thigh.nii.gz-0.500000', 'skew-090a-thigh.nii.gz-0.500000', 'kurt-090a-thigh.nii.gz-0.500000', 'hist-0-090a-thigh.nii.gz-0.500000', 'hist-1-090a-thigh.nii.gz-0.500000', 'hist-2-090a-thigh.nii.gz-0.500000', 'hist-3-090a-thigh.nii.gz-0.500000', 'hist-4-090a-thigh.nii.gz-0.500000', 'hist-5-090a-thigh.nii.gz-0.500000', 'hist-6-090a-thigh.nii.gz-0.500000', 'hist-7-090a-thigh.nii.gz-0.500000', 'hist-8-090a-thigh.nii.gz-0.500000', 'hist-9-090a-thigh.nii.gz-0.500000', 'hist-10-090a-thigh.nii.gz-0.500000', 'hist-11-090a-thigh.nii.gz-0.500000', 'hist-12-090a-thigh.nii.gz-0.500000', 'hist-13-090a-thigh.nii.gz-0.500000', 'hist-14-090a-thigh.nii.gz-0.500000', 'hist-15-090a-thigh.nii.gz-0.500000', 'hist-16-090a-thigh.nii.gz-0.500000', 'hist-17-090a-thigh.nii.gz-0.500000', 'hist-18-090a-thigh.nii.gz-0.500000', 'hist-19-090a-thigh.nii.gz-0.500000', 'num-091f-thigh.nii.gz-0.500000', 'sum-091f-thigh.nii.gz-0.500000', 'mean-091f-thigh.nii.gz-0.500000', 'std-091f-thigh.nii.gz-0.500000', 'skew-091f-thigh.nii.gz-0.500000', 'kurt-091f-thigh.nii.gz-0.500000', 'hist-0-091f-thigh.nii.gz-0.500000', 'hist-1-091f-thigh.nii.gz-0.500000', 'hist-2-091f-thigh.nii.gz-0.500000', 'hist-3-091f-thigh.nii.gz-0.500000', 'hist-4-091f-thigh.nii.gz-0.500000', 'hist-5-091f-thigh.nii.gz-0.500000', 'hist-6-091f-thigh.nii.gz-0.500000', 'hist-7-091f-thigh.nii.gz-0.500000', 'hist-8-091f-thigh.nii.gz-0.500000', 'hist-9-091f-thigh.nii.gz-0.500000', 'hist-10-091f-thigh.nii.gz-0.500000', 'hist-11-091f-thigh.nii.gz-0.500000', 'hist-12-091f-thigh.nii.gz-0.500000', 'hist-13-091f-thigh.nii.gz-0.500000', 'hist-14-091f-thigh.nii.gz-0.500000', 'hist-15-091f-thigh.nii.gz-0.500000', 'hist-16-091f-thigh.nii.gz-0.500000', 'hist-17-091f-thigh.nii.gz-0.500000', 'hist-18-091f-thigh.nii.gz-0.500000', 'hist-19-091f-thigh.nii.gz-0.500000', 'num-092k-thigh.nii.gz-0.500000', 'sum-092k-thigh.nii.gz-0.500000', 'mean-092k-thigh.nii.gz-0.500000', 'std-092k-thigh.nii.gz-0.500000', 'skew-092k-thigh.nii.gz-0.500000', 'kurt-092k-thigh.nii.gz-0.500000', 'hist-0-092k-thigh.nii.gz-0.500000', 'hist-1-092k-thigh.nii.gz-0.500000', 'hist-2-092k-thigh.nii.gz-0.500000', 'hist-3-092k-thigh.nii.gz-0.500000', 'hist-4-092k-thigh.nii.gz-0.500000', 'hist-5-092k-thigh.nii.gz-0.500000', 'hist-6-092k-thigh.nii.gz-0.500000', 'hist-7-092k-thigh.nii.gz-0.500000', 'hist-8-092k-thigh.nii.gz-0.500000', 'hist-9-092k-thigh.nii.gz-0.500000', 'hist-10-092k-thigh.nii.gz-0.500000', 'hist-11-092k-thigh.nii.gz-0.500000', 'hist-12-092k-thigh.nii.gz-0.500000', 'hist-13-092k-thigh.nii.gz-0.500000', 'hist-14-092k-thigh.nii.gz-0.500000', 'hist-15-092k-thigh.nii.gz-0.500000', 'hist-16-092k-thigh.nii.gz-0.500000', 'hist-17-092k-thigh.nii.gz-0.500000', 'hist-18-092k-thigh.nii.gz-0.500000', 'hist-19-092k-thigh.nii.gz-0.500000', 'num-0.500000-mean_mask', 'sum-0.500000-mean_mask', 'mean-0.500000-mean_mask', 'std-0.500000-mean_mask', 'skew-0.500000-mean_mask', 'kurt-0.500000-mean_mask', 'hist-0-0.500000-mean_mask', 'hist-1-0.500000-mean_mask', 'hist-2-0.500000-mean_mask', 'hist-3-0.500000-mean_mask', 'hist-4-0.500000-mean_mask', 'hist-5-0.500000-mean_mask', 'hist-6-0.500000-mean_mask', 'hist-7-0.500000-mean_mask', 'hist-8-0.500000-mean_mask', 'hist-9-0.500000-mean_mask', 'hist-10-0.500000-mean_mask', 'hist-11-0.500000-mean_mask', 'hist-12-0.500000-mean_mask', 'hist-13-0.500000-mean_mask', 'hist-14-0.500000-mean_mask', 'hist-15-0.500000-mean_mask', 'hist-16-0.500000-mean_mask', 'hist-17-0.500000-mean_mask', 'hist-18-0.500000-mean_mask', 'hist-19-0.500000-mean_mask', 'pos'] \n",
      "Score: -0.3757748555451603\n"
     ]
    },
    {
     "name": "stderr",
     "output_type": "stream",
     "text": [
      "200it [00:00, 585.33it/s]\n"
     ]
    },
    {
     "name": "stdout",
     "output_type": "stream",
     "text": [
      "1\n",
      "1 0.3993651128746345\n",
      "Objective LinearRegression_Objective:\n"
     ]
    },
    {
     "name": "stderr",
     "output_type": "stream",
     "text": [
      "  6%|█████████████████                                                                                                                                                                                                                                                                 | 499/8000 [00:00<00:08, 878.82it/s]\n"
     ]
    },
    {
     "name": "stdout",
     "output_type": "stream",
     "text": [
      "iterations: 499\n",
      "Number of used features: 443\n",
      "Used features: ['num-074k-thigh.nii.gz-0.500000', 'sum-074k-thigh.nii.gz-0.500000', 'mean-074k-thigh.nii.gz-0.500000', 'std-074k-thigh.nii.gz-0.500000', 'skew-074k-thigh.nii.gz-0.500000', 'kurt-074k-thigh.nii.gz-0.500000', 'hist-0-074k-thigh.nii.gz-0.500000', 'hist-1-074k-thigh.nii.gz-0.500000', 'hist-2-074k-thigh.nii.gz-0.500000', 'hist-3-074k-thigh.nii.gz-0.500000', 'hist-4-074k-thigh.nii.gz-0.500000', 'hist-5-074k-thigh.nii.gz-0.500000', 'hist-6-074k-thigh.nii.gz-0.500000', 'hist-7-074k-thigh.nii.gz-0.500000', 'hist-8-074k-thigh.nii.gz-0.500000', 'hist-9-074k-thigh.nii.gz-0.500000', 'hist-10-074k-thigh.nii.gz-0.500000', 'hist-11-074k-thigh.nii.gz-0.500000', 'hist-12-074k-thigh.nii.gz-0.500000', 'hist-13-074k-thigh.nii.gz-0.500000', 'hist-14-074k-thigh.nii.gz-0.500000', 'hist-15-074k-thigh.nii.gz-0.500000', 'hist-16-074k-thigh.nii.gz-0.500000', 'hist-17-074k-thigh.nii.gz-0.500000', 'hist-18-074k-thigh.nii.gz-0.500000', 'hist-19-074k-thigh.nii.gz-0.500000', 'num-075a-thigh.nii.gz-0.500000', 'sum-075a-thigh.nii.gz-0.500000', 'mean-075a-thigh.nii.gz-0.500000', 'std-075a-thigh.nii.gz-0.500000', 'skew-075a-thigh.nii.gz-0.500000', 'kurt-075a-thigh.nii.gz-0.500000', 'hist-0-075a-thigh.nii.gz-0.500000', 'hist-1-075a-thigh.nii.gz-0.500000', 'hist-2-075a-thigh.nii.gz-0.500000', 'hist-3-075a-thigh.nii.gz-0.500000', 'hist-4-075a-thigh.nii.gz-0.500000', 'hist-5-075a-thigh.nii.gz-0.500000', 'hist-6-075a-thigh.nii.gz-0.500000', 'hist-7-075a-thigh.nii.gz-0.500000', 'hist-8-075a-thigh.nii.gz-0.500000', 'hist-9-075a-thigh.nii.gz-0.500000', 'hist-10-075a-thigh.nii.gz-0.500000', 'hist-11-075a-thigh.nii.gz-0.500000', 'hist-12-075a-thigh.nii.gz-0.500000', 'hist-13-075a-thigh.nii.gz-0.500000', 'hist-14-075a-thigh.nii.gz-0.500000', 'hist-15-075a-thigh.nii.gz-0.500000', 'hist-16-075a-thigh.nii.gz-0.500000', 'hist-17-075a-thigh.nii.gz-0.500000', 'hist-18-075a-thigh.nii.gz-0.500000', 'hist-19-075a-thigh.nii.gz-0.500000', 'num-075k-thigh.nii.gz-0.500000', 'sum-075k-thigh.nii.gz-0.500000', 'mean-075k-thigh.nii.gz-0.500000', 'std-075k-thigh.nii.gz-0.500000', 'skew-075k-thigh.nii.gz-0.500000', 'kurt-075k-thigh.nii.gz-0.500000', 'hist-0-075k-thigh.nii.gz-0.500000', 'hist-1-075k-thigh.nii.gz-0.500000', 'hist-2-075k-thigh.nii.gz-0.500000', 'hist-3-075k-thigh.nii.gz-0.500000', 'hist-4-075k-thigh.nii.gz-0.500000', 'hist-5-075k-thigh.nii.gz-0.500000', 'hist-6-075k-thigh.nii.gz-0.500000', 'hist-7-075k-thigh.nii.gz-0.500000', 'hist-8-075k-thigh.nii.gz-0.500000', 'hist-9-075k-thigh.nii.gz-0.500000', 'hist-10-075k-thigh.nii.gz-0.500000', 'hist-11-075k-thigh.nii.gz-0.500000', 'hist-12-075k-thigh.nii.gz-0.500000', 'hist-13-075k-thigh.nii.gz-0.500000', 'hist-14-075k-thigh.nii.gz-0.500000', 'hist-15-075k-thigh.nii.gz-0.500000', 'hist-16-075k-thigh.nii.gz-0.500000', 'hist-17-075k-thigh.nii.gz-0.500000', 'hist-18-075k-thigh.nii.gz-0.500000', 'hist-19-075k-thigh.nii.gz-0.500000', 'num-077k-thigh.nii.gz-0.500000', 'sum-077k-thigh.nii.gz-0.500000', 'mean-077k-thigh.nii.gz-0.500000', 'std-077k-thigh.nii.gz-0.500000', 'skew-077k-thigh.nii.gz-0.500000', 'kurt-077k-thigh.nii.gz-0.500000', 'hist-0-077k-thigh.nii.gz-0.500000', 'hist-1-077k-thigh.nii.gz-0.500000', 'hist-2-077k-thigh.nii.gz-0.500000', 'hist-3-077k-thigh.nii.gz-0.500000', 'hist-4-077k-thigh.nii.gz-0.500000', 'hist-5-077k-thigh.nii.gz-0.500000', 'hist-6-077k-thigh.nii.gz-0.500000', 'hist-7-077k-thigh.nii.gz-0.500000', 'hist-8-077k-thigh.nii.gz-0.500000', 'hist-9-077k-thigh.nii.gz-0.500000', 'hist-10-077k-thigh.nii.gz-0.500000', 'hist-11-077k-thigh.nii.gz-0.500000', 'hist-12-077k-thigh.nii.gz-0.500000', 'hist-13-077k-thigh.nii.gz-0.500000', 'hist-14-077k-thigh.nii.gz-0.500000', 'hist-15-077k-thigh.nii.gz-0.500000', 'hist-16-077k-thigh.nii.gz-0.500000', 'hist-17-077k-thigh.nii.gz-0.500000', 'hist-18-077k-thigh.nii.gz-0.500000', 'hist-19-077k-thigh.nii.gz-0.500000', 'num-079k-thigh.nii.gz-0.500000', 'sum-079k-thigh.nii.gz-0.500000', 'mean-079k-thigh.nii.gz-0.500000', 'std-079k-thigh.nii.gz-0.500000', 'skew-079k-thigh.nii.gz-0.500000', 'kurt-079k-thigh.nii.gz-0.500000', 'hist-0-079k-thigh.nii.gz-0.500000', 'hist-1-079k-thigh.nii.gz-0.500000', 'hist-2-079k-thigh.nii.gz-0.500000', 'hist-3-079k-thigh.nii.gz-0.500000', 'hist-4-079k-thigh.nii.gz-0.500000', 'hist-5-079k-thigh.nii.gz-0.500000', 'hist-6-079k-thigh.nii.gz-0.500000', 'hist-7-079k-thigh.nii.gz-0.500000', 'hist-8-079k-thigh.nii.gz-0.500000', 'hist-9-079k-thigh.nii.gz-0.500000', 'hist-10-079k-thigh.nii.gz-0.500000', 'hist-11-079k-thigh.nii.gz-0.500000', 'hist-12-079k-thigh.nii.gz-0.500000', 'hist-13-079k-thigh.nii.gz-0.500000', 'hist-14-079k-thigh.nii.gz-0.500000', 'hist-15-079k-thigh.nii.gz-0.500000', 'hist-16-079k-thigh.nii.gz-0.500000', 'hist-17-079k-thigh.nii.gz-0.500000', 'hist-18-079k-thigh.nii.gz-0.500000', 'hist-19-079k-thigh.nii.gz-0.500000', 'num-080k-thigh.nii.gz-0.500000', 'sum-080k-thigh.nii.gz-0.500000', 'mean-080k-thigh.nii.gz-0.500000', 'std-080k-thigh.nii.gz-0.500000', 'skew-080k-thigh.nii.gz-0.500000', 'kurt-080k-thigh.nii.gz-0.500000', 'hist-0-080k-thigh.nii.gz-0.500000', 'hist-1-080k-thigh.nii.gz-0.500000', 'hist-2-080k-thigh.nii.gz-0.500000', 'hist-3-080k-thigh.nii.gz-0.500000', 'hist-4-080k-thigh.nii.gz-0.500000', 'hist-5-080k-thigh.nii.gz-0.500000', 'hist-6-080k-thigh.nii.gz-0.500000', 'hist-7-080k-thigh.nii.gz-0.500000', 'hist-8-080k-thigh.nii.gz-0.500000', 'hist-9-080k-thigh.nii.gz-0.500000', 'hist-10-080k-thigh.nii.gz-0.500000', 'hist-11-080k-thigh.nii.gz-0.500000', 'hist-12-080k-thigh.nii.gz-0.500000', 'hist-13-080k-thigh.nii.gz-0.500000', 'hist-14-080k-thigh.nii.gz-0.500000', 'hist-15-080k-thigh.nii.gz-0.500000', 'hist-16-080k-thigh.nii.gz-0.500000', 'hist-17-080k-thigh.nii.gz-0.500000', 'hist-18-080k-thigh.nii.gz-0.500000', 'hist-19-080k-thigh.nii.gz-0.500000', 'num-082k-thigh.nii.gz-0.500000', 'sum-082k-thigh.nii.gz-0.500000', 'mean-082k-thigh.nii.gz-0.500000', 'std-082k-thigh.nii.gz-0.500000', 'skew-082k-thigh.nii.gz-0.500000', 'kurt-082k-thigh.nii.gz-0.500000', 'hist-0-082k-thigh.nii.gz-0.500000', 'hist-1-082k-thigh.nii.gz-0.500000', 'hist-2-082k-thigh.nii.gz-0.500000', 'hist-3-082k-thigh.nii.gz-0.500000', 'hist-4-082k-thigh.nii.gz-0.500000', 'hist-5-082k-thigh.nii.gz-0.500000', 'hist-6-082k-thigh.nii.gz-0.500000', 'hist-7-082k-thigh.nii.gz-0.500000', 'hist-8-082k-thigh.nii.gz-0.500000', 'hist-9-082k-thigh.nii.gz-0.500000', 'hist-10-082k-thigh.nii.gz-0.500000', 'hist-11-082k-thigh.nii.gz-0.500000', 'hist-12-082k-thigh.nii.gz-0.500000', 'hist-13-082k-thigh.nii.gz-0.500000', 'hist-14-082k-thigh.nii.gz-0.500000', 'hist-15-082k-thigh.nii.gz-0.500000', 'hist-16-082k-thigh.nii.gz-0.500000', 'hist-17-082k-thigh.nii.gz-0.500000', 'hist-18-082k-thigh.nii.gz-0.500000', 'hist-19-082k-thigh.nii.gz-0.500000', 'num-083a-thigh.nii.gz-0.500000', 'sum-083a-thigh.nii.gz-0.500000', 'mean-083a-thigh.nii.gz-0.500000', 'std-083a-thigh.nii.gz-0.500000', 'skew-083a-thigh.nii.gz-0.500000', 'kurt-083a-thigh.nii.gz-0.500000', 'hist-0-083a-thigh.nii.gz-0.500000', 'hist-1-083a-thigh.nii.gz-0.500000', 'hist-2-083a-thigh.nii.gz-0.500000', 'hist-3-083a-thigh.nii.gz-0.500000', 'hist-4-083a-thigh.nii.gz-0.500000', 'hist-5-083a-thigh.nii.gz-0.500000', 'hist-6-083a-thigh.nii.gz-0.500000', 'hist-7-083a-thigh.nii.gz-0.500000', 'hist-8-083a-thigh.nii.gz-0.500000', 'hist-9-083a-thigh.nii.gz-0.500000', 'hist-10-083a-thigh.nii.gz-0.500000', 'hist-11-083a-thigh.nii.gz-0.500000', 'hist-12-083a-thigh.nii.gz-0.500000', 'hist-13-083a-thigh.nii.gz-0.500000', 'hist-14-083a-thigh.nii.gz-0.500000', 'hist-15-083a-thigh.nii.gz-0.500000', 'hist-16-083a-thigh.nii.gz-0.500000', 'hist-17-083a-thigh.nii.gz-0.500000', 'hist-18-083a-thigh.nii.gz-0.500000', 'hist-19-083a-thigh.nii.gz-0.500000', 'num-083k-thigh.nii.gz-0.500000', 'sum-083k-thigh.nii.gz-0.500000', 'mean-083k-thigh.nii.gz-0.500000', 'std-083k-thigh.nii.gz-0.500000', 'skew-083k-thigh.nii.gz-0.500000', 'kurt-083k-thigh.nii.gz-0.500000', 'hist-0-083k-thigh.nii.gz-0.500000', 'hist-1-083k-thigh.nii.gz-0.500000', 'hist-2-083k-thigh.nii.gz-0.500000', 'hist-3-083k-thigh.nii.gz-0.500000', 'hist-4-083k-thigh.nii.gz-0.500000', 'hist-5-083k-thigh.nii.gz-0.500000', 'hist-6-083k-thigh.nii.gz-0.500000', 'hist-7-083k-thigh.nii.gz-0.500000', 'hist-8-083k-thigh.nii.gz-0.500000', 'hist-9-083k-thigh.nii.gz-0.500000', 'hist-10-083k-thigh.nii.gz-0.500000', 'hist-11-083k-thigh.nii.gz-0.500000', 'hist-12-083k-thigh.nii.gz-0.500000', 'hist-13-083k-thigh.nii.gz-0.500000', 'hist-14-083k-thigh.nii.gz-0.500000', 'hist-15-083k-thigh.nii.gz-0.500000', 'hist-16-083k-thigh.nii.gz-0.500000', 'hist-17-083k-thigh.nii.gz-0.500000', 'hist-18-083k-thigh.nii.gz-0.500000', 'hist-19-083k-thigh.nii.gz-0.500000', 'num-084a-thigh.nii.gz-0.500000', 'sum-084a-thigh.nii.gz-0.500000', 'mean-084a-thigh.nii.gz-0.500000', 'std-084a-thigh.nii.gz-0.500000', 'skew-084a-thigh.nii.gz-0.500000', 'kurt-084a-thigh.nii.gz-0.500000', 'hist-0-084a-thigh.nii.gz-0.500000', 'hist-1-084a-thigh.nii.gz-0.500000', 'hist-2-084a-thigh.nii.gz-0.500000', 'hist-3-084a-thigh.nii.gz-0.500000', 'hist-4-084a-thigh.nii.gz-0.500000', 'hist-5-084a-thigh.nii.gz-0.500000', 'hist-6-084a-thigh.nii.gz-0.500000', 'hist-7-084a-thigh.nii.gz-0.500000', 'hist-8-084a-thigh.nii.gz-0.500000', 'hist-9-084a-thigh.nii.gz-0.500000', 'hist-10-084a-thigh.nii.gz-0.500000', 'hist-11-084a-thigh.nii.gz-0.500000', 'hist-12-084a-thigh.nii.gz-0.500000', 'hist-13-084a-thigh.nii.gz-0.500000', 'hist-14-084a-thigh.nii.gz-0.500000', 'hist-15-084a-thigh.nii.gz-0.500000', 'hist-16-084a-thigh.nii.gz-0.500000', 'hist-17-084a-thigh.nii.gz-0.500000', 'hist-18-084a-thigh.nii.gz-0.500000', 'hist-19-084a-thigh.nii.gz-0.500000', 'num-087f-thigh.nii.gz-0.500000', 'sum-087f-thigh.nii.gz-0.500000', 'mean-087f-thigh.nii.gz-0.500000', 'std-087f-thigh.nii.gz-0.500000', 'skew-087f-thigh.nii.gz-0.500000', 'kurt-087f-thigh.nii.gz-0.500000', 'hist-0-087f-thigh.nii.gz-0.500000', 'hist-1-087f-thigh.nii.gz-0.500000', 'hist-2-087f-thigh.nii.gz-0.500000', 'hist-3-087f-thigh.nii.gz-0.500000', 'hist-4-087f-thigh.nii.gz-0.500000', 'hist-5-087f-thigh.nii.gz-0.500000', 'hist-6-087f-thigh.nii.gz-0.500000', 'hist-7-087f-thigh.nii.gz-0.500000', 'hist-8-087f-thigh.nii.gz-0.500000', 'hist-9-087f-thigh.nii.gz-0.500000', 'hist-10-087f-thigh.nii.gz-0.500000', 'hist-11-087f-thigh.nii.gz-0.500000', 'hist-12-087f-thigh.nii.gz-0.500000', 'hist-13-087f-thigh.nii.gz-0.500000', 'hist-14-087f-thigh.nii.gz-0.500000', 'hist-15-087f-thigh.nii.gz-0.500000', 'hist-16-087f-thigh.nii.gz-0.500000', 'hist-17-087f-thigh.nii.gz-0.500000', 'hist-18-087f-thigh.nii.gz-0.500000', 'hist-19-087f-thigh.nii.gz-0.500000', 'num-088f-thigh.nii.gz-0.500000', 'sum-088f-thigh.nii.gz-0.500000', 'mean-088f-thigh.nii.gz-0.500000', 'std-088f-thigh.nii.gz-0.500000', 'skew-088f-thigh.nii.gz-0.500000', 'kurt-088f-thigh.nii.gz-0.500000', 'hist-0-088f-thigh.nii.gz-0.500000', 'hist-1-088f-thigh.nii.gz-0.500000', 'hist-2-088f-thigh.nii.gz-0.500000', 'hist-3-088f-thigh.nii.gz-0.500000', 'hist-4-088f-thigh.nii.gz-0.500000', 'hist-5-088f-thigh.nii.gz-0.500000', 'hist-6-088f-thigh.nii.gz-0.500000', 'hist-7-088f-thigh.nii.gz-0.500000', 'hist-8-088f-thigh.nii.gz-0.500000', 'hist-9-088f-thigh.nii.gz-0.500000', 'hist-10-088f-thigh.nii.gz-0.500000', 'hist-11-088f-thigh.nii.gz-0.500000', 'hist-12-088f-thigh.nii.gz-0.500000', 'hist-13-088f-thigh.nii.gz-0.500000', 'hist-14-088f-thigh.nii.gz-0.500000', 'hist-15-088f-thigh.nii.gz-0.500000', 'hist-16-088f-thigh.nii.gz-0.500000', 'hist-17-088f-thigh.nii.gz-0.500000', 'hist-18-088f-thigh.nii.gz-0.500000', 'hist-19-088f-thigh.nii.gz-0.500000', 'num-088k-thigh.nii.gz-0.500000', 'sum-088k-thigh.nii.gz-0.500000', 'mean-088k-thigh.nii.gz-0.500000', 'std-088k-thigh.nii.gz-0.500000', 'skew-088k-thigh.nii.gz-0.500000', 'kurt-088k-thigh.nii.gz-0.500000', 'hist-0-088k-thigh.nii.gz-0.500000', 'hist-1-088k-thigh.nii.gz-0.500000', 'hist-2-088k-thigh.nii.gz-0.500000', 'hist-3-088k-thigh.nii.gz-0.500000', 'hist-4-088k-thigh.nii.gz-0.500000', 'hist-5-088k-thigh.nii.gz-0.500000', 'hist-6-088k-thigh.nii.gz-0.500000', 'hist-7-088k-thigh.nii.gz-0.500000', 'hist-8-088k-thigh.nii.gz-0.500000', 'hist-9-088k-thigh.nii.gz-0.500000', 'hist-10-088k-thigh.nii.gz-0.500000', 'hist-11-088k-thigh.nii.gz-0.500000', 'hist-12-088k-thigh.nii.gz-0.500000', 'hist-13-088k-thigh.nii.gz-0.500000', 'hist-14-088k-thigh.nii.gz-0.500000', 'hist-15-088k-thigh.nii.gz-0.500000', 'hist-16-088k-thigh.nii.gz-0.500000', 'hist-17-088k-thigh.nii.gz-0.500000', 'hist-18-088k-thigh.nii.gz-0.500000', 'hist-19-088k-thigh.nii.gz-0.500000', 'num-090a-thigh.nii.gz-0.500000', 'sum-090a-thigh.nii.gz-0.500000', 'mean-090a-thigh.nii.gz-0.500000', 'std-090a-thigh.nii.gz-0.500000', 'skew-090a-thigh.nii.gz-0.500000', 'kurt-090a-thigh.nii.gz-0.500000', 'hist-0-090a-thigh.nii.gz-0.500000', 'hist-1-090a-thigh.nii.gz-0.500000', 'hist-2-090a-thigh.nii.gz-0.500000', 'hist-3-090a-thigh.nii.gz-0.500000', 'hist-4-090a-thigh.nii.gz-0.500000', 'hist-5-090a-thigh.nii.gz-0.500000', 'hist-6-090a-thigh.nii.gz-0.500000', 'hist-7-090a-thigh.nii.gz-0.500000', 'hist-8-090a-thigh.nii.gz-0.500000', 'hist-9-090a-thigh.nii.gz-0.500000', 'hist-10-090a-thigh.nii.gz-0.500000', 'hist-11-090a-thigh.nii.gz-0.500000', 'hist-12-090a-thigh.nii.gz-0.500000', 'hist-13-090a-thigh.nii.gz-0.500000', 'hist-14-090a-thigh.nii.gz-0.500000', 'hist-15-090a-thigh.nii.gz-0.500000', 'hist-16-090a-thigh.nii.gz-0.500000', 'hist-17-090a-thigh.nii.gz-0.500000', 'hist-18-090a-thigh.nii.gz-0.500000', 'hist-19-090a-thigh.nii.gz-0.500000', 'num-091f-thigh.nii.gz-0.500000', 'sum-091f-thigh.nii.gz-0.500000', 'mean-091f-thigh.nii.gz-0.500000', 'std-091f-thigh.nii.gz-0.500000', 'skew-091f-thigh.nii.gz-0.500000', 'kurt-091f-thigh.nii.gz-0.500000', 'hist-0-091f-thigh.nii.gz-0.500000', 'hist-1-091f-thigh.nii.gz-0.500000', 'hist-2-091f-thigh.nii.gz-0.500000', 'hist-3-091f-thigh.nii.gz-0.500000', 'hist-4-091f-thigh.nii.gz-0.500000', 'hist-5-091f-thigh.nii.gz-0.500000', 'hist-6-091f-thigh.nii.gz-0.500000', 'hist-7-091f-thigh.nii.gz-0.500000', 'hist-8-091f-thigh.nii.gz-0.500000', 'hist-9-091f-thigh.nii.gz-0.500000', 'hist-10-091f-thigh.nii.gz-0.500000', 'hist-11-091f-thigh.nii.gz-0.500000', 'hist-12-091f-thigh.nii.gz-0.500000', 'hist-13-091f-thigh.nii.gz-0.500000', 'hist-14-091f-thigh.nii.gz-0.500000', 'hist-15-091f-thigh.nii.gz-0.500000', 'hist-16-091f-thigh.nii.gz-0.500000', 'hist-17-091f-thigh.nii.gz-0.500000', 'hist-18-091f-thigh.nii.gz-0.500000', 'hist-19-091f-thigh.nii.gz-0.500000', 'num-092k-thigh.nii.gz-0.500000', 'sum-092k-thigh.nii.gz-0.500000', 'mean-092k-thigh.nii.gz-0.500000', 'std-092k-thigh.nii.gz-0.500000', 'skew-092k-thigh.nii.gz-0.500000', 'kurt-092k-thigh.nii.gz-0.500000', 'hist-0-092k-thigh.nii.gz-0.500000', 'hist-1-092k-thigh.nii.gz-0.500000', 'hist-2-092k-thigh.nii.gz-0.500000', 'hist-3-092k-thigh.nii.gz-0.500000', 'hist-4-092k-thigh.nii.gz-0.500000', 'hist-5-092k-thigh.nii.gz-0.500000', 'hist-6-092k-thigh.nii.gz-0.500000', 'hist-7-092k-thigh.nii.gz-0.500000', 'hist-8-092k-thigh.nii.gz-0.500000', 'hist-9-092k-thigh.nii.gz-0.500000', 'hist-10-092k-thigh.nii.gz-0.500000', 'hist-11-092k-thigh.nii.gz-0.500000', 'hist-12-092k-thigh.nii.gz-0.500000', 'hist-13-092k-thigh.nii.gz-0.500000', 'hist-14-092k-thigh.nii.gz-0.500000', 'hist-15-092k-thigh.nii.gz-0.500000', 'hist-16-092k-thigh.nii.gz-0.500000', 'hist-17-092k-thigh.nii.gz-0.500000', 'hist-18-092k-thigh.nii.gz-0.500000', 'hist-19-092k-thigh.nii.gz-0.500000', 'num-0.500000-mean_mask', 'sum-0.500000-mean_mask', 'mean-0.500000-mean_mask', 'std-0.500000-mean_mask', 'skew-0.500000-mean_mask', 'kurt-0.500000-mean_mask', 'hist-0-0.500000-mean_mask', 'hist-1-0.500000-mean_mask', 'hist-2-0.500000-mean_mask', 'hist-3-0.500000-mean_mask', 'hist-4-0.500000-mean_mask', 'hist-5-0.500000-mean_mask', 'hist-6-0.500000-mean_mask', 'hist-7-0.500000-mean_mask', 'hist-8-0.500000-mean_mask', 'hist-9-0.500000-mean_mask', 'hist-10-0.500000-mean_mask', 'hist-11-0.500000-mean_mask', 'hist-12-0.500000-mean_mask', 'hist-13-0.500000-mean_mask', 'hist-14-0.500000-mean_mask', 'hist-15-0.500000-mean_mask', 'hist-16-0.500000-mean_mask', 'hist-17-0.500000-mean_mask', 'hist-18-0.500000-mean_mask', 'hist-19-0.500000-mean_mask', 'pos'] \n",
      "Score: -0.11951024444114455\n"
     ]
    },
    {
     "name": "stderr",
     "output_type": "stream",
     "text": [
      "200it [00:01, 188.77it/s]\n"
     ]
    },
    {
     "name": "stdout",
     "output_type": "stream",
     "text": [
      "1\n",
      "1 0.1748642231883477\n",
      "Objective LassoRegression_Objective:\n"
     ]
    },
    {
     "name": "stderr",
     "output_type": "stream",
     "text": [
      "  6%|█████████████████▍                                                                                                                                                                                                                                                                 | 508/8000 [00:14<03:28, 35.99it/s]\n"
     ]
    },
    {
     "name": "stdout",
     "output_type": "stream",
     "text": [
      "iterations: 508\n",
      "Number of used features: 443\n",
      "Used features: ['num-074k-thigh.nii.gz-0.500000', 'sum-074k-thigh.nii.gz-0.500000', 'mean-074k-thigh.nii.gz-0.500000', 'std-074k-thigh.nii.gz-0.500000', 'skew-074k-thigh.nii.gz-0.500000', 'kurt-074k-thigh.nii.gz-0.500000', 'hist-0-074k-thigh.nii.gz-0.500000', 'hist-1-074k-thigh.nii.gz-0.500000', 'hist-2-074k-thigh.nii.gz-0.500000', 'hist-3-074k-thigh.nii.gz-0.500000', 'hist-4-074k-thigh.nii.gz-0.500000', 'hist-5-074k-thigh.nii.gz-0.500000', 'hist-6-074k-thigh.nii.gz-0.500000', 'hist-7-074k-thigh.nii.gz-0.500000', 'hist-8-074k-thigh.nii.gz-0.500000', 'hist-9-074k-thigh.nii.gz-0.500000', 'hist-10-074k-thigh.nii.gz-0.500000', 'hist-11-074k-thigh.nii.gz-0.500000', 'hist-12-074k-thigh.nii.gz-0.500000', 'hist-13-074k-thigh.nii.gz-0.500000', 'hist-14-074k-thigh.nii.gz-0.500000', 'hist-15-074k-thigh.nii.gz-0.500000', 'hist-16-074k-thigh.nii.gz-0.500000', 'hist-17-074k-thigh.nii.gz-0.500000', 'hist-18-074k-thigh.nii.gz-0.500000', 'hist-19-074k-thigh.nii.gz-0.500000', 'num-075a-thigh.nii.gz-0.500000', 'sum-075a-thigh.nii.gz-0.500000', 'mean-075a-thigh.nii.gz-0.500000', 'std-075a-thigh.nii.gz-0.500000', 'skew-075a-thigh.nii.gz-0.500000', 'kurt-075a-thigh.nii.gz-0.500000', 'hist-0-075a-thigh.nii.gz-0.500000', 'hist-1-075a-thigh.nii.gz-0.500000', 'hist-2-075a-thigh.nii.gz-0.500000', 'hist-3-075a-thigh.nii.gz-0.500000', 'hist-4-075a-thigh.nii.gz-0.500000', 'hist-5-075a-thigh.nii.gz-0.500000', 'hist-6-075a-thigh.nii.gz-0.500000', 'hist-7-075a-thigh.nii.gz-0.500000', 'hist-8-075a-thigh.nii.gz-0.500000', 'hist-9-075a-thigh.nii.gz-0.500000', 'hist-10-075a-thigh.nii.gz-0.500000', 'hist-11-075a-thigh.nii.gz-0.500000', 'hist-12-075a-thigh.nii.gz-0.500000', 'hist-13-075a-thigh.nii.gz-0.500000', 'hist-14-075a-thigh.nii.gz-0.500000', 'hist-15-075a-thigh.nii.gz-0.500000', 'hist-16-075a-thigh.nii.gz-0.500000', 'hist-17-075a-thigh.nii.gz-0.500000', 'hist-18-075a-thigh.nii.gz-0.500000', 'hist-19-075a-thigh.nii.gz-0.500000', 'num-075k-thigh.nii.gz-0.500000', 'sum-075k-thigh.nii.gz-0.500000', 'mean-075k-thigh.nii.gz-0.500000', 'std-075k-thigh.nii.gz-0.500000', 'skew-075k-thigh.nii.gz-0.500000', 'kurt-075k-thigh.nii.gz-0.500000', 'hist-0-075k-thigh.nii.gz-0.500000', 'hist-1-075k-thigh.nii.gz-0.500000', 'hist-2-075k-thigh.nii.gz-0.500000', 'hist-3-075k-thigh.nii.gz-0.500000', 'hist-4-075k-thigh.nii.gz-0.500000', 'hist-5-075k-thigh.nii.gz-0.500000', 'hist-6-075k-thigh.nii.gz-0.500000', 'hist-7-075k-thigh.nii.gz-0.500000', 'hist-8-075k-thigh.nii.gz-0.500000', 'hist-9-075k-thigh.nii.gz-0.500000', 'hist-10-075k-thigh.nii.gz-0.500000', 'hist-11-075k-thigh.nii.gz-0.500000', 'hist-12-075k-thigh.nii.gz-0.500000', 'hist-13-075k-thigh.nii.gz-0.500000', 'hist-14-075k-thigh.nii.gz-0.500000', 'hist-15-075k-thigh.nii.gz-0.500000', 'hist-16-075k-thigh.nii.gz-0.500000', 'hist-17-075k-thigh.nii.gz-0.500000', 'hist-18-075k-thigh.nii.gz-0.500000', 'hist-19-075k-thigh.nii.gz-0.500000', 'num-077k-thigh.nii.gz-0.500000', 'sum-077k-thigh.nii.gz-0.500000', 'mean-077k-thigh.nii.gz-0.500000', 'std-077k-thigh.nii.gz-0.500000', 'skew-077k-thigh.nii.gz-0.500000', 'kurt-077k-thigh.nii.gz-0.500000', 'hist-0-077k-thigh.nii.gz-0.500000', 'hist-1-077k-thigh.nii.gz-0.500000', 'hist-2-077k-thigh.nii.gz-0.500000', 'hist-3-077k-thigh.nii.gz-0.500000', 'hist-4-077k-thigh.nii.gz-0.500000', 'hist-5-077k-thigh.nii.gz-0.500000', 'hist-6-077k-thigh.nii.gz-0.500000', 'hist-7-077k-thigh.nii.gz-0.500000', 'hist-8-077k-thigh.nii.gz-0.500000', 'hist-9-077k-thigh.nii.gz-0.500000', 'hist-10-077k-thigh.nii.gz-0.500000', 'hist-11-077k-thigh.nii.gz-0.500000', 'hist-12-077k-thigh.nii.gz-0.500000', 'hist-13-077k-thigh.nii.gz-0.500000', 'hist-14-077k-thigh.nii.gz-0.500000', 'hist-15-077k-thigh.nii.gz-0.500000', 'hist-16-077k-thigh.nii.gz-0.500000', 'hist-17-077k-thigh.nii.gz-0.500000', 'hist-18-077k-thigh.nii.gz-0.500000', 'hist-19-077k-thigh.nii.gz-0.500000', 'num-079k-thigh.nii.gz-0.500000', 'sum-079k-thigh.nii.gz-0.500000', 'mean-079k-thigh.nii.gz-0.500000', 'std-079k-thigh.nii.gz-0.500000', 'skew-079k-thigh.nii.gz-0.500000', 'kurt-079k-thigh.nii.gz-0.500000', 'hist-0-079k-thigh.nii.gz-0.500000', 'hist-1-079k-thigh.nii.gz-0.500000', 'hist-2-079k-thigh.nii.gz-0.500000', 'hist-3-079k-thigh.nii.gz-0.500000', 'hist-4-079k-thigh.nii.gz-0.500000', 'hist-5-079k-thigh.nii.gz-0.500000', 'hist-6-079k-thigh.nii.gz-0.500000', 'hist-7-079k-thigh.nii.gz-0.500000', 'hist-8-079k-thigh.nii.gz-0.500000', 'hist-9-079k-thigh.nii.gz-0.500000', 'hist-10-079k-thigh.nii.gz-0.500000', 'hist-11-079k-thigh.nii.gz-0.500000', 'hist-12-079k-thigh.nii.gz-0.500000', 'hist-13-079k-thigh.nii.gz-0.500000', 'hist-14-079k-thigh.nii.gz-0.500000', 'hist-15-079k-thigh.nii.gz-0.500000', 'hist-16-079k-thigh.nii.gz-0.500000', 'hist-17-079k-thigh.nii.gz-0.500000', 'hist-18-079k-thigh.nii.gz-0.500000', 'hist-19-079k-thigh.nii.gz-0.500000', 'num-080k-thigh.nii.gz-0.500000', 'sum-080k-thigh.nii.gz-0.500000', 'mean-080k-thigh.nii.gz-0.500000', 'std-080k-thigh.nii.gz-0.500000', 'skew-080k-thigh.nii.gz-0.500000', 'kurt-080k-thigh.nii.gz-0.500000', 'hist-0-080k-thigh.nii.gz-0.500000', 'hist-1-080k-thigh.nii.gz-0.500000', 'hist-2-080k-thigh.nii.gz-0.500000', 'hist-3-080k-thigh.nii.gz-0.500000', 'hist-4-080k-thigh.nii.gz-0.500000', 'hist-5-080k-thigh.nii.gz-0.500000', 'hist-6-080k-thigh.nii.gz-0.500000', 'hist-7-080k-thigh.nii.gz-0.500000', 'hist-8-080k-thigh.nii.gz-0.500000', 'hist-9-080k-thigh.nii.gz-0.500000', 'hist-10-080k-thigh.nii.gz-0.500000', 'hist-11-080k-thigh.nii.gz-0.500000', 'hist-12-080k-thigh.nii.gz-0.500000', 'hist-13-080k-thigh.nii.gz-0.500000', 'hist-14-080k-thigh.nii.gz-0.500000', 'hist-15-080k-thigh.nii.gz-0.500000', 'hist-16-080k-thigh.nii.gz-0.500000', 'hist-17-080k-thigh.nii.gz-0.500000', 'hist-18-080k-thigh.nii.gz-0.500000', 'hist-19-080k-thigh.nii.gz-0.500000', 'num-082k-thigh.nii.gz-0.500000', 'sum-082k-thigh.nii.gz-0.500000', 'mean-082k-thigh.nii.gz-0.500000', 'std-082k-thigh.nii.gz-0.500000', 'skew-082k-thigh.nii.gz-0.500000', 'kurt-082k-thigh.nii.gz-0.500000', 'hist-0-082k-thigh.nii.gz-0.500000', 'hist-1-082k-thigh.nii.gz-0.500000', 'hist-2-082k-thigh.nii.gz-0.500000', 'hist-3-082k-thigh.nii.gz-0.500000', 'hist-4-082k-thigh.nii.gz-0.500000', 'hist-5-082k-thigh.nii.gz-0.500000', 'hist-6-082k-thigh.nii.gz-0.500000', 'hist-7-082k-thigh.nii.gz-0.500000', 'hist-8-082k-thigh.nii.gz-0.500000', 'hist-9-082k-thigh.nii.gz-0.500000', 'hist-10-082k-thigh.nii.gz-0.500000', 'hist-11-082k-thigh.nii.gz-0.500000', 'hist-12-082k-thigh.nii.gz-0.500000', 'hist-13-082k-thigh.nii.gz-0.500000', 'hist-14-082k-thigh.nii.gz-0.500000', 'hist-15-082k-thigh.nii.gz-0.500000', 'hist-16-082k-thigh.nii.gz-0.500000', 'hist-17-082k-thigh.nii.gz-0.500000', 'hist-18-082k-thigh.nii.gz-0.500000', 'hist-19-082k-thigh.nii.gz-0.500000', 'num-083a-thigh.nii.gz-0.500000', 'sum-083a-thigh.nii.gz-0.500000', 'mean-083a-thigh.nii.gz-0.500000', 'std-083a-thigh.nii.gz-0.500000', 'skew-083a-thigh.nii.gz-0.500000', 'kurt-083a-thigh.nii.gz-0.500000', 'hist-0-083a-thigh.nii.gz-0.500000', 'hist-1-083a-thigh.nii.gz-0.500000', 'hist-2-083a-thigh.nii.gz-0.500000', 'hist-3-083a-thigh.nii.gz-0.500000', 'hist-4-083a-thigh.nii.gz-0.500000', 'hist-5-083a-thigh.nii.gz-0.500000', 'hist-6-083a-thigh.nii.gz-0.500000', 'hist-7-083a-thigh.nii.gz-0.500000', 'hist-8-083a-thigh.nii.gz-0.500000', 'hist-9-083a-thigh.nii.gz-0.500000', 'hist-10-083a-thigh.nii.gz-0.500000', 'hist-11-083a-thigh.nii.gz-0.500000', 'hist-12-083a-thigh.nii.gz-0.500000', 'hist-13-083a-thigh.nii.gz-0.500000', 'hist-14-083a-thigh.nii.gz-0.500000', 'hist-15-083a-thigh.nii.gz-0.500000', 'hist-16-083a-thigh.nii.gz-0.500000', 'hist-17-083a-thigh.nii.gz-0.500000', 'hist-18-083a-thigh.nii.gz-0.500000', 'hist-19-083a-thigh.nii.gz-0.500000', 'num-083k-thigh.nii.gz-0.500000', 'sum-083k-thigh.nii.gz-0.500000', 'mean-083k-thigh.nii.gz-0.500000', 'std-083k-thigh.nii.gz-0.500000', 'skew-083k-thigh.nii.gz-0.500000', 'kurt-083k-thigh.nii.gz-0.500000', 'hist-0-083k-thigh.nii.gz-0.500000', 'hist-1-083k-thigh.nii.gz-0.500000', 'hist-2-083k-thigh.nii.gz-0.500000', 'hist-3-083k-thigh.nii.gz-0.500000', 'hist-4-083k-thigh.nii.gz-0.500000', 'hist-5-083k-thigh.nii.gz-0.500000', 'hist-6-083k-thigh.nii.gz-0.500000', 'hist-7-083k-thigh.nii.gz-0.500000', 'hist-8-083k-thigh.nii.gz-0.500000', 'hist-9-083k-thigh.nii.gz-0.500000', 'hist-10-083k-thigh.nii.gz-0.500000', 'hist-11-083k-thigh.nii.gz-0.500000', 'hist-12-083k-thigh.nii.gz-0.500000', 'hist-13-083k-thigh.nii.gz-0.500000', 'hist-14-083k-thigh.nii.gz-0.500000', 'hist-15-083k-thigh.nii.gz-0.500000', 'hist-16-083k-thigh.nii.gz-0.500000', 'hist-17-083k-thigh.nii.gz-0.500000', 'hist-18-083k-thigh.nii.gz-0.500000', 'hist-19-083k-thigh.nii.gz-0.500000', 'num-084a-thigh.nii.gz-0.500000', 'sum-084a-thigh.nii.gz-0.500000', 'mean-084a-thigh.nii.gz-0.500000', 'std-084a-thigh.nii.gz-0.500000', 'skew-084a-thigh.nii.gz-0.500000', 'kurt-084a-thigh.nii.gz-0.500000', 'hist-0-084a-thigh.nii.gz-0.500000', 'hist-1-084a-thigh.nii.gz-0.500000', 'hist-2-084a-thigh.nii.gz-0.500000', 'hist-3-084a-thigh.nii.gz-0.500000', 'hist-4-084a-thigh.nii.gz-0.500000', 'hist-5-084a-thigh.nii.gz-0.500000', 'hist-6-084a-thigh.nii.gz-0.500000', 'hist-7-084a-thigh.nii.gz-0.500000', 'hist-8-084a-thigh.nii.gz-0.500000', 'hist-9-084a-thigh.nii.gz-0.500000', 'hist-10-084a-thigh.nii.gz-0.500000', 'hist-11-084a-thigh.nii.gz-0.500000', 'hist-12-084a-thigh.nii.gz-0.500000', 'hist-13-084a-thigh.nii.gz-0.500000', 'hist-14-084a-thigh.nii.gz-0.500000', 'hist-15-084a-thigh.nii.gz-0.500000', 'hist-16-084a-thigh.nii.gz-0.500000', 'hist-17-084a-thigh.nii.gz-0.500000', 'hist-18-084a-thigh.nii.gz-0.500000', 'hist-19-084a-thigh.nii.gz-0.500000', 'num-087f-thigh.nii.gz-0.500000', 'sum-087f-thigh.nii.gz-0.500000', 'mean-087f-thigh.nii.gz-0.500000', 'std-087f-thigh.nii.gz-0.500000', 'skew-087f-thigh.nii.gz-0.500000', 'kurt-087f-thigh.nii.gz-0.500000', 'hist-0-087f-thigh.nii.gz-0.500000', 'hist-1-087f-thigh.nii.gz-0.500000', 'hist-2-087f-thigh.nii.gz-0.500000', 'hist-3-087f-thigh.nii.gz-0.500000', 'hist-4-087f-thigh.nii.gz-0.500000', 'hist-5-087f-thigh.nii.gz-0.500000', 'hist-6-087f-thigh.nii.gz-0.500000', 'hist-7-087f-thigh.nii.gz-0.500000', 'hist-8-087f-thigh.nii.gz-0.500000', 'hist-9-087f-thigh.nii.gz-0.500000', 'hist-10-087f-thigh.nii.gz-0.500000', 'hist-11-087f-thigh.nii.gz-0.500000', 'hist-12-087f-thigh.nii.gz-0.500000', 'hist-13-087f-thigh.nii.gz-0.500000', 'hist-14-087f-thigh.nii.gz-0.500000', 'hist-15-087f-thigh.nii.gz-0.500000', 'hist-16-087f-thigh.nii.gz-0.500000', 'hist-17-087f-thigh.nii.gz-0.500000', 'hist-18-087f-thigh.nii.gz-0.500000', 'hist-19-087f-thigh.nii.gz-0.500000', 'num-088f-thigh.nii.gz-0.500000', 'sum-088f-thigh.nii.gz-0.500000', 'mean-088f-thigh.nii.gz-0.500000', 'std-088f-thigh.nii.gz-0.500000', 'skew-088f-thigh.nii.gz-0.500000', 'kurt-088f-thigh.nii.gz-0.500000', 'hist-0-088f-thigh.nii.gz-0.500000', 'hist-1-088f-thigh.nii.gz-0.500000', 'hist-2-088f-thigh.nii.gz-0.500000', 'hist-3-088f-thigh.nii.gz-0.500000', 'hist-4-088f-thigh.nii.gz-0.500000', 'hist-5-088f-thigh.nii.gz-0.500000', 'hist-6-088f-thigh.nii.gz-0.500000', 'hist-7-088f-thigh.nii.gz-0.500000', 'hist-8-088f-thigh.nii.gz-0.500000', 'hist-9-088f-thigh.nii.gz-0.500000', 'hist-10-088f-thigh.nii.gz-0.500000', 'hist-11-088f-thigh.nii.gz-0.500000', 'hist-12-088f-thigh.nii.gz-0.500000', 'hist-13-088f-thigh.nii.gz-0.500000', 'hist-14-088f-thigh.nii.gz-0.500000', 'hist-15-088f-thigh.nii.gz-0.500000', 'hist-16-088f-thigh.nii.gz-0.500000', 'hist-17-088f-thigh.nii.gz-0.500000', 'hist-18-088f-thigh.nii.gz-0.500000', 'hist-19-088f-thigh.nii.gz-0.500000', 'num-088k-thigh.nii.gz-0.500000', 'sum-088k-thigh.nii.gz-0.500000', 'mean-088k-thigh.nii.gz-0.500000', 'std-088k-thigh.nii.gz-0.500000', 'skew-088k-thigh.nii.gz-0.500000', 'kurt-088k-thigh.nii.gz-0.500000', 'hist-0-088k-thigh.nii.gz-0.500000', 'hist-1-088k-thigh.nii.gz-0.500000', 'hist-2-088k-thigh.nii.gz-0.500000', 'hist-3-088k-thigh.nii.gz-0.500000', 'hist-4-088k-thigh.nii.gz-0.500000', 'hist-5-088k-thigh.nii.gz-0.500000', 'hist-6-088k-thigh.nii.gz-0.500000', 'hist-7-088k-thigh.nii.gz-0.500000', 'hist-8-088k-thigh.nii.gz-0.500000', 'hist-9-088k-thigh.nii.gz-0.500000', 'hist-10-088k-thigh.nii.gz-0.500000', 'hist-11-088k-thigh.nii.gz-0.500000', 'hist-12-088k-thigh.nii.gz-0.500000', 'hist-13-088k-thigh.nii.gz-0.500000', 'hist-14-088k-thigh.nii.gz-0.500000', 'hist-15-088k-thigh.nii.gz-0.500000', 'hist-16-088k-thigh.nii.gz-0.500000', 'hist-17-088k-thigh.nii.gz-0.500000', 'hist-18-088k-thigh.nii.gz-0.500000', 'hist-19-088k-thigh.nii.gz-0.500000', 'num-090a-thigh.nii.gz-0.500000', 'sum-090a-thigh.nii.gz-0.500000', 'mean-090a-thigh.nii.gz-0.500000', 'std-090a-thigh.nii.gz-0.500000', 'skew-090a-thigh.nii.gz-0.500000', 'kurt-090a-thigh.nii.gz-0.500000', 'hist-0-090a-thigh.nii.gz-0.500000', 'hist-1-090a-thigh.nii.gz-0.500000', 'hist-2-090a-thigh.nii.gz-0.500000', 'hist-3-090a-thigh.nii.gz-0.500000', 'hist-4-090a-thigh.nii.gz-0.500000', 'hist-5-090a-thigh.nii.gz-0.500000', 'hist-6-090a-thigh.nii.gz-0.500000', 'hist-7-090a-thigh.nii.gz-0.500000', 'hist-8-090a-thigh.nii.gz-0.500000', 'hist-9-090a-thigh.nii.gz-0.500000', 'hist-10-090a-thigh.nii.gz-0.500000', 'hist-11-090a-thigh.nii.gz-0.500000', 'hist-12-090a-thigh.nii.gz-0.500000', 'hist-13-090a-thigh.nii.gz-0.500000', 'hist-14-090a-thigh.nii.gz-0.500000', 'hist-15-090a-thigh.nii.gz-0.500000', 'hist-16-090a-thigh.nii.gz-0.500000', 'hist-17-090a-thigh.nii.gz-0.500000', 'hist-18-090a-thigh.nii.gz-0.500000', 'hist-19-090a-thigh.nii.gz-0.500000', 'num-091f-thigh.nii.gz-0.500000', 'sum-091f-thigh.nii.gz-0.500000', 'mean-091f-thigh.nii.gz-0.500000', 'std-091f-thigh.nii.gz-0.500000', 'skew-091f-thigh.nii.gz-0.500000', 'kurt-091f-thigh.nii.gz-0.500000', 'hist-0-091f-thigh.nii.gz-0.500000', 'hist-1-091f-thigh.nii.gz-0.500000', 'hist-2-091f-thigh.nii.gz-0.500000', 'hist-3-091f-thigh.nii.gz-0.500000', 'hist-4-091f-thigh.nii.gz-0.500000', 'hist-5-091f-thigh.nii.gz-0.500000', 'hist-6-091f-thigh.nii.gz-0.500000', 'hist-7-091f-thigh.nii.gz-0.500000', 'hist-8-091f-thigh.nii.gz-0.500000', 'hist-9-091f-thigh.nii.gz-0.500000', 'hist-10-091f-thigh.nii.gz-0.500000', 'hist-11-091f-thigh.nii.gz-0.500000', 'hist-12-091f-thigh.nii.gz-0.500000', 'hist-13-091f-thigh.nii.gz-0.500000', 'hist-14-091f-thigh.nii.gz-0.500000', 'hist-15-091f-thigh.nii.gz-0.500000', 'hist-16-091f-thigh.nii.gz-0.500000', 'hist-17-091f-thigh.nii.gz-0.500000', 'hist-18-091f-thigh.nii.gz-0.500000', 'hist-19-091f-thigh.nii.gz-0.500000', 'num-092k-thigh.nii.gz-0.500000', 'sum-092k-thigh.nii.gz-0.500000', 'mean-092k-thigh.nii.gz-0.500000', 'std-092k-thigh.nii.gz-0.500000', 'skew-092k-thigh.nii.gz-0.500000', 'kurt-092k-thigh.nii.gz-0.500000', 'hist-0-092k-thigh.nii.gz-0.500000', 'hist-1-092k-thigh.nii.gz-0.500000', 'hist-2-092k-thigh.nii.gz-0.500000', 'hist-3-092k-thigh.nii.gz-0.500000', 'hist-4-092k-thigh.nii.gz-0.500000', 'hist-5-092k-thigh.nii.gz-0.500000', 'hist-6-092k-thigh.nii.gz-0.500000', 'hist-7-092k-thigh.nii.gz-0.500000', 'hist-8-092k-thigh.nii.gz-0.500000', 'hist-9-092k-thigh.nii.gz-0.500000', 'hist-10-092k-thigh.nii.gz-0.500000', 'hist-11-092k-thigh.nii.gz-0.500000', 'hist-12-092k-thigh.nii.gz-0.500000', 'hist-13-092k-thigh.nii.gz-0.500000', 'hist-14-092k-thigh.nii.gz-0.500000', 'hist-15-092k-thigh.nii.gz-0.500000', 'hist-16-092k-thigh.nii.gz-0.500000', 'hist-17-092k-thigh.nii.gz-0.500000', 'hist-18-092k-thigh.nii.gz-0.500000', 'hist-19-092k-thigh.nii.gz-0.500000', 'num-0.500000-mean_mask', 'sum-0.500000-mean_mask', 'mean-0.500000-mean_mask', 'std-0.500000-mean_mask', 'skew-0.500000-mean_mask', 'kurt-0.500000-mean_mask', 'hist-0-0.500000-mean_mask', 'hist-1-0.500000-mean_mask', 'hist-2-0.500000-mean_mask', 'hist-3-0.500000-mean_mask', 'hist-4-0.500000-mean_mask', 'hist-5-0.500000-mean_mask', 'hist-6-0.500000-mean_mask', 'hist-7-0.500000-mean_mask', 'hist-8-0.500000-mean_mask', 'hist-9-0.500000-mean_mask', 'hist-10-0.500000-mean_mask', 'hist-11-0.500000-mean_mask', 'hist-12-0.500000-mean_mask', 'hist-13-0.500000-mean_mask', 'hist-14-0.500000-mean_mask', 'hist-15-0.500000-mean_mask', 'hist-16-0.500000-mean_mask', 'hist-17-0.500000-mean_mask', 'hist-18-0.500000-mean_mask', 'hist-19-0.500000-mean_mask', 'pos'] \n",
      "Score: -0.38914875572143826\n"
     ]
    },
    {
     "name": "stderr",
     "output_type": "stream",
     "text": [
      "200it [00:01, 108.42it/s]\n"
     ]
    },
    {
     "name": "stdout",
     "output_type": "stream",
     "text": [
      "1\n",
      "1 0.3855632262143155\n",
      "Objective RidgeRegression_Objective:\n"
     ]
    },
    {
     "name": "stderr",
     "output_type": "stream",
     "text": [
      "  6%|█████████████████                                                                                                                                                                                                                                                                 | 499/8000 [00:03<00:51, 144.71it/s]\n"
     ]
    },
    {
     "name": "stdout",
     "output_type": "stream",
     "text": [
      "iterations: 499\n",
      "Number of used features: 443\n",
      "Used features: ['num-074k-thigh.nii.gz-0.500000', 'sum-074k-thigh.nii.gz-0.500000', 'mean-074k-thigh.nii.gz-0.500000', 'std-074k-thigh.nii.gz-0.500000', 'skew-074k-thigh.nii.gz-0.500000', 'kurt-074k-thigh.nii.gz-0.500000', 'hist-0-074k-thigh.nii.gz-0.500000', 'hist-1-074k-thigh.nii.gz-0.500000', 'hist-2-074k-thigh.nii.gz-0.500000', 'hist-3-074k-thigh.nii.gz-0.500000', 'hist-4-074k-thigh.nii.gz-0.500000', 'hist-5-074k-thigh.nii.gz-0.500000', 'hist-6-074k-thigh.nii.gz-0.500000', 'hist-7-074k-thigh.nii.gz-0.500000', 'hist-8-074k-thigh.nii.gz-0.500000', 'hist-9-074k-thigh.nii.gz-0.500000', 'hist-10-074k-thigh.nii.gz-0.500000', 'hist-11-074k-thigh.nii.gz-0.500000', 'hist-12-074k-thigh.nii.gz-0.500000', 'hist-13-074k-thigh.nii.gz-0.500000', 'hist-14-074k-thigh.nii.gz-0.500000', 'hist-15-074k-thigh.nii.gz-0.500000', 'hist-16-074k-thigh.nii.gz-0.500000', 'hist-17-074k-thigh.nii.gz-0.500000', 'hist-18-074k-thigh.nii.gz-0.500000', 'hist-19-074k-thigh.nii.gz-0.500000', 'num-075a-thigh.nii.gz-0.500000', 'sum-075a-thigh.nii.gz-0.500000', 'mean-075a-thigh.nii.gz-0.500000', 'std-075a-thigh.nii.gz-0.500000', 'skew-075a-thigh.nii.gz-0.500000', 'kurt-075a-thigh.nii.gz-0.500000', 'hist-0-075a-thigh.nii.gz-0.500000', 'hist-1-075a-thigh.nii.gz-0.500000', 'hist-2-075a-thigh.nii.gz-0.500000', 'hist-3-075a-thigh.nii.gz-0.500000', 'hist-4-075a-thigh.nii.gz-0.500000', 'hist-5-075a-thigh.nii.gz-0.500000', 'hist-6-075a-thigh.nii.gz-0.500000', 'hist-7-075a-thigh.nii.gz-0.500000', 'hist-8-075a-thigh.nii.gz-0.500000', 'hist-9-075a-thigh.nii.gz-0.500000', 'hist-10-075a-thigh.nii.gz-0.500000', 'hist-11-075a-thigh.nii.gz-0.500000', 'hist-12-075a-thigh.nii.gz-0.500000', 'hist-13-075a-thigh.nii.gz-0.500000', 'hist-14-075a-thigh.nii.gz-0.500000', 'hist-15-075a-thigh.nii.gz-0.500000', 'hist-16-075a-thigh.nii.gz-0.500000', 'hist-17-075a-thigh.nii.gz-0.500000', 'hist-18-075a-thigh.nii.gz-0.500000', 'hist-19-075a-thigh.nii.gz-0.500000', 'num-075k-thigh.nii.gz-0.500000', 'sum-075k-thigh.nii.gz-0.500000', 'mean-075k-thigh.nii.gz-0.500000', 'std-075k-thigh.nii.gz-0.500000', 'skew-075k-thigh.nii.gz-0.500000', 'kurt-075k-thigh.nii.gz-0.500000', 'hist-0-075k-thigh.nii.gz-0.500000', 'hist-1-075k-thigh.nii.gz-0.500000', 'hist-2-075k-thigh.nii.gz-0.500000', 'hist-3-075k-thigh.nii.gz-0.500000', 'hist-4-075k-thigh.nii.gz-0.500000', 'hist-5-075k-thigh.nii.gz-0.500000', 'hist-6-075k-thigh.nii.gz-0.500000', 'hist-7-075k-thigh.nii.gz-0.500000', 'hist-8-075k-thigh.nii.gz-0.500000', 'hist-9-075k-thigh.nii.gz-0.500000', 'hist-10-075k-thigh.nii.gz-0.500000', 'hist-11-075k-thigh.nii.gz-0.500000', 'hist-12-075k-thigh.nii.gz-0.500000', 'hist-13-075k-thigh.nii.gz-0.500000', 'hist-14-075k-thigh.nii.gz-0.500000', 'hist-15-075k-thigh.nii.gz-0.500000', 'hist-16-075k-thigh.nii.gz-0.500000', 'hist-17-075k-thigh.nii.gz-0.500000', 'hist-18-075k-thigh.nii.gz-0.500000', 'hist-19-075k-thigh.nii.gz-0.500000', 'num-077k-thigh.nii.gz-0.500000', 'sum-077k-thigh.nii.gz-0.500000', 'mean-077k-thigh.nii.gz-0.500000', 'std-077k-thigh.nii.gz-0.500000', 'skew-077k-thigh.nii.gz-0.500000', 'kurt-077k-thigh.nii.gz-0.500000', 'hist-0-077k-thigh.nii.gz-0.500000', 'hist-1-077k-thigh.nii.gz-0.500000', 'hist-2-077k-thigh.nii.gz-0.500000', 'hist-3-077k-thigh.nii.gz-0.500000', 'hist-4-077k-thigh.nii.gz-0.500000', 'hist-5-077k-thigh.nii.gz-0.500000', 'hist-6-077k-thigh.nii.gz-0.500000', 'hist-7-077k-thigh.nii.gz-0.500000', 'hist-8-077k-thigh.nii.gz-0.500000', 'hist-9-077k-thigh.nii.gz-0.500000', 'hist-10-077k-thigh.nii.gz-0.500000', 'hist-11-077k-thigh.nii.gz-0.500000', 'hist-12-077k-thigh.nii.gz-0.500000', 'hist-13-077k-thigh.nii.gz-0.500000', 'hist-14-077k-thigh.nii.gz-0.500000', 'hist-15-077k-thigh.nii.gz-0.500000', 'hist-16-077k-thigh.nii.gz-0.500000', 'hist-17-077k-thigh.nii.gz-0.500000', 'hist-18-077k-thigh.nii.gz-0.500000', 'hist-19-077k-thigh.nii.gz-0.500000', 'num-079k-thigh.nii.gz-0.500000', 'sum-079k-thigh.nii.gz-0.500000', 'mean-079k-thigh.nii.gz-0.500000', 'std-079k-thigh.nii.gz-0.500000', 'skew-079k-thigh.nii.gz-0.500000', 'kurt-079k-thigh.nii.gz-0.500000', 'hist-0-079k-thigh.nii.gz-0.500000', 'hist-1-079k-thigh.nii.gz-0.500000', 'hist-2-079k-thigh.nii.gz-0.500000', 'hist-3-079k-thigh.nii.gz-0.500000', 'hist-4-079k-thigh.nii.gz-0.500000', 'hist-5-079k-thigh.nii.gz-0.500000', 'hist-6-079k-thigh.nii.gz-0.500000', 'hist-7-079k-thigh.nii.gz-0.500000', 'hist-8-079k-thigh.nii.gz-0.500000', 'hist-9-079k-thigh.nii.gz-0.500000', 'hist-10-079k-thigh.nii.gz-0.500000', 'hist-11-079k-thigh.nii.gz-0.500000', 'hist-12-079k-thigh.nii.gz-0.500000', 'hist-13-079k-thigh.nii.gz-0.500000', 'hist-14-079k-thigh.nii.gz-0.500000', 'hist-15-079k-thigh.nii.gz-0.500000', 'hist-16-079k-thigh.nii.gz-0.500000', 'hist-17-079k-thigh.nii.gz-0.500000', 'hist-18-079k-thigh.nii.gz-0.500000', 'hist-19-079k-thigh.nii.gz-0.500000', 'num-080k-thigh.nii.gz-0.500000', 'sum-080k-thigh.nii.gz-0.500000', 'mean-080k-thigh.nii.gz-0.500000', 'std-080k-thigh.nii.gz-0.500000', 'skew-080k-thigh.nii.gz-0.500000', 'kurt-080k-thigh.nii.gz-0.500000', 'hist-0-080k-thigh.nii.gz-0.500000', 'hist-1-080k-thigh.nii.gz-0.500000', 'hist-2-080k-thigh.nii.gz-0.500000', 'hist-3-080k-thigh.nii.gz-0.500000', 'hist-4-080k-thigh.nii.gz-0.500000', 'hist-5-080k-thigh.nii.gz-0.500000', 'hist-6-080k-thigh.nii.gz-0.500000', 'hist-7-080k-thigh.nii.gz-0.500000', 'hist-8-080k-thigh.nii.gz-0.500000', 'hist-9-080k-thigh.nii.gz-0.500000', 'hist-10-080k-thigh.nii.gz-0.500000', 'hist-11-080k-thigh.nii.gz-0.500000', 'hist-12-080k-thigh.nii.gz-0.500000', 'hist-13-080k-thigh.nii.gz-0.500000', 'hist-14-080k-thigh.nii.gz-0.500000', 'hist-15-080k-thigh.nii.gz-0.500000', 'hist-16-080k-thigh.nii.gz-0.500000', 'hist-17-080k-thigh.nii.gz-0.500000', 'hist-18-080k-thigh.nii.gz-0.500000', 'hist-19-080k-thigh.nii.gz-0.500000', 'num-082k-thigh.nii.gz-0.500000', 'sum-082k-thigh.nii.gz-0.500000', 'mean-082k-thigh.nii.gz-0.500000', 'std-082k-thigh.nii.gz-0.500000', 'skew-082k-thigh.nii.gz-0.500000', 'kurt-082k-thigh.nii.gz-0.500000', 'hist-0-082k-thigh.nii.gz-0.500000', 'hist-1-082k-thigh.nii.gz-0.500000', 'hist-2-082k-thigh.nii.gz-0.500000', 'hist-3-082k-thigh.nii.gz-0.500000', 'hist-4-082k-thigh.nii.gz-0.500000', 'hist-5-082k-thigh.nii.gz-0.500000', 'hist-6-082k-thigh.nii.gz-0.500000', 'hist-7-082k-thigh.nii.gz-0.500000', 'hist-8-082k-thigh.nii.gz-0.500000', 'hist-9-082k-thigh.nii.gz-0.500000', 'hist-10-082k-thigh.nii.gz-0.500000', 'hist-11-082k-thigh.nii.gz-0.500000', 'hist-12-082k-thigh.nii.gz-0.500000', 'hist-13-082k-thigh.nii.gz-0.500000', 'hist-14-082k-thigh.nii.gz-0.500000', 'hist-15-082k-thigh.nii.gz-0.500000', 'hist-16-082k-thigh.nii.gz-0.500000', 'hist-17-082k-thigh.nii.gz-0.500000', 'hist-18-082k-thigh.nii.gz-0.500000', 'hist-19-082k-thigh.nii.gz-0.500000', 'num-083a-thigh.nii.gz-0.500000', 'sum-083a-thigh.nii.gz-0.500000', 'mean-083a-thigh.nii.gz-0.500000', 'std-083a-thigh.nii.gz-0.500000', 'skew-083a-thigh.nii.gz-0.500000', 'kurt-083a-thigh.nii.gz-0.500000', 'hist-0-083a-thigh.nii.gz-0.500000', 'hist-1-083a-thigh.nii.gz-0.500000', 'hist-2-083a-thigh.nii.gz-0.500000', 'hist-3-083a-thigh.nii.gz-0.500000', 'hist-4-083a-thigh.nii.gz-0.500000', 'hist-5-083a-thigh.nii.gz-0.500000', 'hist-6-083a-thigh.nii.gz-0.500000', 'hist-7-083a-thigh.nii.gz-0.500000', 'hist-8-083a-thigh.nii.gz-0.500000', 'hist-9-083a-thigh.nii.gz-0.500000', 'hist-10-083a-thigh.nii.gz-0.500000', 'hist-11-083a-thigh.nii.gz-0.500000', 'hist-12-083a-thigh.nii.gz-0.500000', 'hist-13-083a-thigh.nii.gz-0.500000', 'hist-14-083a-thigh.nii.gz-0.500000', 'hist-15-083a-thigh.nii.gz-0.500000', 'hist-16-083a-thigh.nii.gz-0.500000', 'hist-17-083a-thigh.nii.gz-0.500000', 'hist-18-083a-thigh.nii.gz-0.500000', 'hist-19-083a-thigh.nii.gz-0.500000', 'num-083k-thigh.nii.gz-0.500000', 'sum-083k-thigh.nii.gz-0.500000', 'mean-083k-thigh.nii.gz-0.500000', 'std-083k-thigh.nii.gz-0.500000', 'skew-083k-thigh.nii.gz-0.500000', 'kurt-083k-thigh.nii.gz-0.500000', 'hist-0-083k-thigh.nii.gz-0.500000', 'hist-1-083k-thigh.nii.gz-0.500000', 'hist-2-083k-thigh.nii.gz-0.500000', 'hist-3-083k-thigh.nii.gz-0.500000', 'hist-4-083k-thigh.nii.gz-0.500000', 'hist-5-083k-thigh.nii.gz-0.500000', 'hist-6-083k-thigh.nii.gz-0.500000', 'hist-7-083k-thigh.nii.gz-0.500000', 'hist-8-083k-thigh.nii.gz-0.500000', 'hist-9-083k-thigh.nii.gz-0.500000', 'hist-10-083k-thigh.nii.gz-0.500000', 'hist-11-083k-thigh.nii.gz-0.500000', 'hist-12-083k-thigh.nii.gz-0.500000', 'hist-13-083k-thigh.nii.gz-0.500000', 'hist-14-083k-thigh.nii.gz-0.500000', 'hist-15-083k-thigh.nii.gz-0.500000', 'hist-16-083k-thigh.nii.gz-0.500000', 'hist-17-083k-thigh.nii.gz-0.500000', 'hist-18-083k-thigh.nii.gz-0.500000', 'hist-19-083k-thigh.nii.gz-0.500000', 'num-084a-thigh.nii.gz-0.500000', 'sum-084a-thigh.nii.gz-0.500000', 'mean-084a-thigh.nii.gz-0.500000', 'std-084a-thigh.nii.gz-0.500000', 'skew-084a-thigh.nii.gz-0.500000', 'kurt-084a-thigh.nii.gz-0.500000', 'hist-0-084a-thigh.nii.gz-0.500000', 'hist-1-084a-thigh.nii.gz-0.500000', 'hist-2-084a-thigh.nii.gz-0.500000', 'hist-3-084a-thigh.nii.gz-0.500000', 'hist-4-084a-thigh.nii.gz-0.500000', 'hist-5-084a-thigh.nii.gz-0.500000', 'hist-6-084a-thigh.nii.gz-0.500000', 'hist-7-084a-thigh.nii.gz-0.500000', 'hist-8-084a-thigh.nii.gz-0.500000', 'hist-9-084a-thigh.nii.gz-0.500000', 'hist-10-084a-thigh.nii.gz-0.500000', 'hist-11-084a-thigh.nii.gz-0.500000', 'hist-12-084a-thigh.nii.gz-0.500000', 'hist-13-084a-thigh.nii.gz-0.500000', 'hist-14-084a-thigh.nii.gz-0.500000', 'hist-15-084a-thigh.nii.gz-0.500000', 'hist-16-084a-thigh.nii.gz-0.500000', 'hist-17-084a-thigh.nii.gz-0.500000', 'hist-18-084a-thigh.nii.gz-0.500000', 'hist-19-084a-thigh.nii.gz-0.500000', 'num-087f-thigh.nii.gz-0.500000', 'sum-087f-thigh.nii.gz-0.500000', 'mean-087f-thigh.nii.gz-0.500000', 'std-087f-thigh.nii.gz-0.500000', 'skew-087f-thigh.nii.gz-0.500000', 'kurt-087f-thigh.nii.gz-0.500000', 'hist-0-087f-thigh.nii.gz-0.500000', 'hist-1-087f-thigh.nii.gz-0.500000', 'hist-2-087f-thigh.nii.gz-0.500000', 'hist-3-087f-thigh.nii.gz-0.500000', 'hist-4-087f-thigh.nii.gz-0.500000', 'hist-5-087f-thigh.nii.gz-0.500000', 'hist-6-087f-thigh.nii.gz-0.500000', 'hist-7-087f-thigh.nii.gz-0.500000', 'hist-8-087f-thigh.nii.gz-0.500000', 'hist-9-087f-thigh.nii.gz-0.500000', 'hist-10-087f-thigh.nii.gz-0.500000', 'hist-11-087f-thigh.nii.gz-0.500000', 'hist-12-087f-thigh.nii.gz-0.500000', 'hist-13-087f-thigh.nii.gz-0.500000', 'hist-14-087f-thigh.nii.gz-0.500000', 'hist-15-087f-thigh.nii.gz-0.500000', 'hist-16-087f-thigh.nii.gz-0.500000', 'hist-17-087f-thigh.nii.gz-0.500000', 'hist-18-087f-thigh.nii.gz-0.500000', 'hist-19-087f-thigh.nii.gz-0.500000', 'num-088f-thigh.nii.gz-0.500000', 'sum-088f-thigh.nii.gz-0.500000', 'mean-088f-thigh.nii.gz-0.500000', 'std-088f-thigh.nii.gz-0.500000', 'skew-088f-thigh.nii.gz-0.500000', 'kurt-088f-thigh.nii.gz-0.500000', 'hist-0-088f-thigh.nii.gz-0.500000', 'hist-1-088f-thigh.nii.gz-0.500000', 'hist-2-088f-thigh.nii.gz-0.500000', 'hist-3-088f-thigh.nii.gz-0.500000', 'hist-4-088f-thigh.nii.gz-0.500000', 'hist-5-088f-thigh.nii.gz-0.500000', 'hist-6-088f-thigh.nii.gz-0.500000', 'hist-7-088f-thigh.nii.gz-0.500000', 'hist-8-088f-thigh.nii.gz-0.500000', 'hist-9-088f-thigh.nii.gz-0.500000', 'hist-10-088f-thigh.nii.gz-0.500000', 'hist-11-088f-thigh.nii.gz-0.500000', 'hist-12-088f-thigh.nii.gz-0.500000', 'hist-13-088f-thigh.nii.gz-0.500000', 'hist-14-088f-thigh.nii.gz-0.500000', 'hist-15-088f-thigh.nii.gz-0.500000', 'hist-16-088f-thigh.nii.gz-0.500000', 'hist-17-088f-thigh.nii.gz-0.500000', 'hist-18-088f-thigh.nii.gz-0.500000', 'hist-19-088f-thigh.nii.gz-0.500000', 'num-088k-thigh.nii.gz-0.500000', 'sum-088k-thigh.nii.gz-0.500000', 'mean-088k-thigh.nii.gz-0.500000', 'std-088k-thigh.nii.gz-0.500000', 'skew-088k-thigh.nii.gz-0.500000', 'kurt-088k-thigh.nii.gz-0.500000', 'hist-0-088k-thigh.nii.gz-0.500000', 'hist-1-088k-thigh.nii.gz-0.500000', 'hist-2-088k-thigh.nii.gz-0.500000', 'hist-3-088k-thigh.nii.gz-0.500000', 'hist-4-088k-thigh.nii.gz-0.500000', 'hist-5-088k-thigh.nii.gz-0.500000', 'hist-6-088k-thigh.nii.gz-0.500000', 'hist-7-088k-thigh.nii.gz-0.500000', 'hist-8-088k-thigh.nii.gz-0.500000', 'hist-9-088k-thigh.nii.gz-0.500000', 'hist-10-088k-thigh.nii.gz-0.500000', 'hist-11-088k-thigh.nii.gz-0.500000', 'hist-12-088k-thigh.nii.gz-0.500000', 'hist-13-088k-thigh.nii.gz-0.500000', 'hist-14-088k-thigh.nii.gz-0.500000', 'hist-15-088k-thigh.nii.gz-0.500000', 'hist-16-088k-thigh.nii.gz-0.500000', 'hist-17-088k-thigh.nii.gz-0.500000', 'hist-18-088k-thigh.nii.gz-0.500000', 'hist-19-088k-thigh.nii.gz-0.500000', 'num-090a-thigh.nii.gz-0.500000', 'sum-090a-thigh.nii.gz-0.500000', 'mean-090a-thigh.nii.gz-0.500000', 'std-090a-thigh.nii.gz-0.500000', 'skew-090a-thigh.nii.gz-0.500000', 'kurt-090a-thigh.nii.gz-0.500000', 'hist-0-090a-thigh.nii.gz-0.500000', 'hist-1-090a-thigh.nii.gz-0.500000', 'hist-2-090a-thigh.nii.gz-0.500000', 'hist-3-090a-thigh.nii.gz-0.500000', 'hist-4-090a-thigh.nii.gz-0.500000', 'hist-5-090a-thigh.nii.gz-0.500000', 'hist-6-090a-thigh.nii.gz-0.500000', 'hist-7-090a-thigh.nii.gz-0.500000', 'hist-8-090a-thigh.nii.gz-0.500000', 'hist-9-090a-thigh.nii.gz-0.500000', 'hist-10-090a-thigh.nii.gz-0.500000', 'hist-11-090a-thigh.nii.gz-0.500000', 'hist-12-090a-thigh.nii.gz-0.500000', 'hist-13-090a-thigh.nii.gz-0.500000', 'hist-14-090a-thigh.nii.gz-0.500000', 'hist-15-090a-thigh.nii.gz-0.500000', 'hist-16-090a-thigh.nii.gz-0.500000', 'hist-17-090a-thigh.nii.gz-0.500000', 'hist-18-090a-thigh.nii.gz-0.500000', 'hist-19-090a-thigh.nii.gz-0.500000', 'num-091f-thigh.nii.gz-0.500000', 'sum-091f-thigh.nii.gz-0.500000', 'mean-091f-thigh.nii.gz-0.500000', 'std-091f-thigh.nii.gz-0.500000', 'skew-091f-thigh.nii.gz-0.500000', 'kurt-091f-thigh.nii.gz-0.500000', 'hist-0-091f-thigh.nii.gz-0.500000', 'hist-1-091f-thigh.nii.gz-0.500000', 'hist-2-091f-thigh.nii.gz-0.500000', 'hist-3-091f-thigh.nii.gz-0.500000', 'hist-4-091f-thigh.nii.gz-0.500000', 'hist-5-091f-thigh.nii.gz-0.500000', 'hist-6-091f-thigh.nii.gz-0.500000', 'hist-7-091f-thigh.nii.gz-0.500000', 'hist-8-091f-thigh.nii.gz-0.500000', 'hist-9-091f-thigh.nii.gz-0.500000', 'hist-10-091f-thigh.nii.gz-0.500000', 'hist-11-091f-thigh.nii.gz-0.500000', 'hist-12-091f-thigh.nii.gz-0.500000', 'hist-13-091f-thigh.nii.gz-0.500000', 'hist-14-091f-thigh.nii.gz-0.500000', 'hist-15-091f-thigh.nii.gz-0.500000', 'hist-16-091f-thigh.nii.gz-0.500000', 'hist-17-091f-thigh.nii.gz-0.500000', 'hist-18-091f-thigh.nii.gz-0.500000', 'hist-19-091f-thigh.nii.gz-0.500000', 'num-092k-thigh.nii.gz-0.500000', 'sum-092k-thigh.nii.gz-0.500000', 'mean-092k-thigh.nii.gz-0.500000', 'std-092k-thigh.nii.gz-0.500000', 'skew-092k-thigh.nii.gz-0.500000', 'kurt-092k-thigh.nii.gz-0.500000', 'hist-0-092k-thigh.nii.gz-0.500000', 'hist-1-092k-thigh.nii.gz-0.500000', 'hist-2-092k-thigh.nii.gz-0.500000', 'hist-3-092k-thigh.nii.gz-0.500000', 'hist-4-092k-thigh.nii.gz-0.500000', 'hist-5-092k-thigh.nii.gz-0.500000', 'hist-6-092k-thigh.nii.gz-0.500000', 'hist-7-092k-thigh.nii.gz-0.500000', 'hist-8-092k-thigh.nii.gz-0.500000', 'hist-9-092k-thigh.nii.gz-0.500000', 'hist-10-092k-thigh.nii.gz-0.500000', 'hist-11-092k-thigh.nii.gz-0.500000', 'hist-12-092k-thigh.nii.gz-0.500000', 'hist-13-092k-thigh.nii.gz-0.500000', 'hist-14-092k-thigh.nii.gz-0.500000', 'hist-15-092k-thigh.nii.gz-0.500000', 'hist-16-092k-thigh.nii.gz-0.500000', 'hist-17-092k-thigh.nii.gz-0.500000', 'hist-18-092k-thigh.nii.gz-0.500000', 'hist-19-092k-thigh.nii.gz-0.500000', 'num-0.500000-mean_mask', 'sum-0.500000-mean_mask', 'mean-0.500000-mean_mask', 'std-0.500000-mean_mask', 'skew-0.500000-mean_mask', 'kurt-0.500000-mean_mask', 'hist-0-0.500000-mean_mask', 'hist-1-0.500000-mean_mask', 'hist-2-0.500000-mean_mask', 'hist-3-0.500000-mean_mask', 'hist-4-0.500000-mean_mask', 'hist-5-0.500000-mean_mask', 'hist-6-0.500000-mean_mask', 'hist-7-0.500000-mean_mask', 'hist-8-0.500000-mean_mask', 'hist-9-0.500000-mean_mask', 'hist-10-0.500000-mean_mask', 'hist-11-0.500000-mean_mask', 'hist-12-0.500000-mean_mask', 'hist-13-0.500000-mean_mask', 'hist-14-0.500000-mean_mask', 'hist-15-0.500000-mean_mask', 'hist-16-0.500000-mean_mask', 'hist-17-0.500000-mean_mask', 'hist-18-0.500000-mean_mask', 'hist-19-0.500000-mean_mask', 'pos'] \n",
      "Score: -0.23806873127731432\n"
     ]
    },
    {
     "name": "stderr",
     "output_type": "stream",
     "text": [
      "200it [00:00, 225.29it/s]\n"
     ]
    },
    {
     "name": "stdout",
     "output_type": "stream",
     "text": [
      "1\n",
      "1 0.29227633085933025\n",
      "Objective PLSRegression_Objective:\n"
     ]
    },
    {
     "name": "stderr",
     "output_type": "stream",
     "text": [
      "  8%|████████████████████▋                                                                                                                                                                                                                                                              | 601/8000 [00:11<02:17, 53.92it/s]\n"
     ]
    },
    {
     "name": "stdout",
     "output_type": "stream",
     "text": [
      "iterations: 601\n",
      "Number of used features: 443\n",
      "Used features: ['num-074k-thigh.nii.gz-0.500000', 'sum-074k-thigh.nii.gz-0.500000', 'mean-074k-thigh.nii.gz-0.500000', 'std-074k-thigh.nii.gz-0.500000', 'skew-074k-thigh.nii.gz-0.500000', 'kurt-074k-thigh.nii.gz-0.500000', 'hist-0-074k-thigh.nii.gz-0.500000', 'hist-1-074k-thigh.nii.gz-0.500000', 'hist-2-074k-thigh.nii.gz-0.500000', 'hist-3-074k-thigh.nii.gz-0.500000', 'hist-4-074k-thigh.nii.gz-0.500000', 'hist-5-074k-thigh.nii.gz-0.500000', 'hist-6-074k-thigh.nii.gz-0.500000', 'hist-7-074k-thigh.nii.gz-0.500000', 'hist-8-074k-thigh.nii.gz-0.500000', 'hist-9-074k-thigh.nii.gz-0.500000', 'hist-10-074k-thigh.nii.gz-0.500000', 'hist-11-074k-thigh.nii.gz-0.500000', 'hist-12-074k-thigh.nii.gz-0.500000', 'hist-13-074k-thigh.nii.gz-0.500000', 'hist-14-074k-thigh.nii.gz-0.500000', 'hist-15-074k-thigh.nii.gz-0.500000', 'hist-16-074k-thigh.nii.gz-0.500000', 'hist-17-074k-thigh.nii.gz-0.500000', 'hist-18-074k-thigh.nii.gz-0.500000', 'hist-19-074k-thigh.nii.gz-0.500000', 'num-075a-thigh.nii.gz-0.500000', 'sum-075a-thigh.nii.gz-0.500000', 'mean-075a-thigh.nii.gz-0.500000', 'std-075a-thigh.nii.gz-0.500000', 'skew-075a-thigh.nii.gz-0.500000', 'kurt-075a-thigh.nii.gz-0.500000', 'hist-0-075a-thigh.nii.gz-0.500000', 'hist-1-075a-thigh.nii.gz-0.500000', 'hist-2-075a-thigh.nii.gz-0.500000', 'hist-3-075a-thigh.nii.gz-0.500000', 'hist-4-075a-thigh.nii.gz-0.500000', 'hist-5-075a-thigh.nii.gz-0.500000', 'hist-6-075a-thigh.nii.gz-0.500000', 'hist-7-075a-thigh.nii.gz-0.500000', 'hist-8-075a-thigh.nii.gz-0.500000', 'hist-9-075a-thigh.nii.gz-0.500000', 'hist-10-075a-thigh.nii.gz-0.500000', 'hist-11-075a-thigh.nii.gz-0.500000', 'hist-12-075a-thigh.nii.gz-0.500000', 'hist-13-075a-thigh.nii.gz-0.500000', 'hist-14-075a-thigh.nii.gz-0.500000', 'hist-15-075a-thigh.nii.gz-0.500000', 'hist-16-075a-thigh.nii.gz-0.500000', 'hist-17-075a-thigh.nii.gz-0.500000', 'hist-18-075a-thigh.nii.gz-0.500000', 'hist-19-075a-thigh.nii.gz-0.500000', 'num-075k-thigh.nii.gz-0.500000', 'sum-075k-thigh.nii.gz-0.500000', 'mean-075k-thigh.nii.gz-0.500000', 'std-075k-thigh.nii.gz-0.500000', 'skew-075k-thigh.nii.gz-0.500000', 'kurt-075k-thigh.nii.gz-0.500000', 'hist-0-075k-thigh.nii.gz-0.500000', 'hist-1-075k-thigh.nii.gz-0.500000', 'hist-2-075k-thigh.nii.gz-0.500000', 'hist-3-075k-thigh.nii.gz-0.500000', 'hist-4-075k-thigh.nii.gz-0.500000', 'hist-5-075k-thigh.nii.gz-0.500000', 'hist-6-075k-thigh.nii.gz-0.500000', 'hist-7-075k-thigh.nii.gz-0.500000', 'hist-8-075k-thigh.nii.gz-0.500000', 'hist-9-075k-thigh.nii.gz-0.500000', 'hist-10-075k-thigh.nii.gz-0.500000', 'hist-11-075k-thigh.nii.gz-0.500000', 'hist-12-075k-thigh.nii.gz-0.500000', 'hist-13-075k-thigh.nii.gz-0.500000', 'hist-14-075k-thigh.nii.gz-0.500000', 'hist-15-075k-thigh.nii.gz-0.500000', 'hist-16-075k-thigh.nii.gz-0.500000', 'hist-17-075k-thigh.nii.gz-0.500000', 'hist-18-075k-thigh.nii.gz-0.500000', 'hist-19-075k-thigh.nii.gz-0.500000', 'num-077k-thigh.nii.gz-0.500000', 'sum-077k-thigh.nii.gz-0.500000', 'mean-077k-thigh.nii.gz-0.500000', 'std-077k-thigh.nii.gz-0.500000', 'skew-077k-thigh.nii.gz-0.500000', 'kurt-077k-thigh.nii.gz-0.500000', 'hist-0-077k-thigh.nii.gz-0.500000', 'hist-1-077k-thigh.nii.gz-0.500000', 'hist-2-077k-thigh.nii.gz-0.500000', 'hist-3-077k-thigh.nii.gz-0.500000', 'hist-4-077k-thigh.nii.gz-0.500000', 'hist-5-077k-thigh.nii.gz-0.500000', 'hist-6-077k-thigh.nii.gz-0.500000', 'hist-7-077k-thigh.nii.gz-0.500000', 'hist-8-077k-thigh.nii.gz-0.500000', 'hist-9-077k-thigh.nii.gz-0.500000', 'hist-10-077k-thigh.nii.gz-0.500000', 'hist-11-077k-thigh.nii.gz-0.500000', 'hist-12-077k-thigh.nii.gz-0.500000', 'hist-13-077k-thigh.nii.gz-0.500000', 'hist-14-077k-thigh.nii.gz-0.500000', 'hist-15-077k-thigh.nii.gz-0.500000', 'hist-16-077k-thigh.nii.gz-0.500000', 'hist-17-077k-thigh.nii.gz-0.500000', 'hist-18-077k-thigh.nii.gz-0.500000', 'hist-19-077k-thigh.nii.gz-0.500000', 'num-079k-thigh.nii.gz-0.500000', 'sum-079k-thigh.nii.gz-0.500000', 'mean-079k-thigh.nii.gz-0.500000', 'std-079k-thigh.nii.gz-0.500000', 'skew-079k-thigh.nii.gz-0.500000', 'kurt-079k-thigh.nii.gz-0.500000', 'hist-0-079k-thigh.nii.gz-0.500000', 'hist-1-079k-thigh.nii.gz-0.500000', 'hist-2-079k-thigh.nii.gz-0.500000', 'hist-3-079k-thigh.nii.gz-0.500000', 'hist-4-079k-thigh.nii.gz-0.500000', 'hist-5-079k-thigh.nii.gz-0.500000', 'hist-6-079k-thigh.nii.gz-0.500000', 'hist-7-079k-thigh.nii.gz-0.500000', 'hist-8-079k-thigh.nii.gz-0.500000', 'hist-9-079k-thigh.nii.gz-0.500000', 'hist-10-079k-thigh.nii.gz-0.500000', 'hist-11-079k-thigh.nii.gz-0.500000', 'hist-12-079k-thigh.nii.gz-0.500000', 'hist-13-079k-thigh.nii.gz-0.500000', 'hist-14-079k-thigh.nii.gz-0.500000', 'hist-15-079k-thigh.nii.gz-0.500000', 'hist-16-079k-thigh.nii.gz-0.500000', 'hist-17-079k-thigh.nii.gz-0.500000', 'hist-18-079k-thigh.nii.gz-0.500000', 'hist-19-079k-thigh.nii.gz-0.500000', 'num-080k-thigh.nii.gz-0.500000', 'sum-080k-thigh.nii.gz-0.500000', 'mean-080k-thigh.nii.gz-0.500000', 'std-080k-thigh.nii.gz-0.500000', 'skew-080k-thigh.nii.gz-0.500000', 'kurt-080k-thigh.nii.gz-0.500000', 'hist-0-080k-thigh.nii.gz-0.500000', 'hist-1-080k-thigh.nii.gz-0.500000', 'hist-2-080k-thigh.nii.gz-0.500000', 'hist-3-080k-thigh.nii.gz-0.500000', 'hist-4-080k-thigh.nii.gz-0.500000', 'hist-5-080k-thigh.nii.gz-0.500000', 'hist-6-080k-thigh.nii.gz-0.500000', 'hist-7-080k-thigh.nii.gz-0.500000', 'hist-8-080k-thigh.nii.gz-0.500000', 'hist-9-080k-thigh.nii.gz-0.500000', 'hist-10-080k-thigh.nii.gz-0.500000', 'hist-11-080k-thigh.nii.gz-0.500000', 'hist-12-080k-thigh.nii.gz-0.500000', 'hist-13-080k-thigh.nii.gz-0.500000', 'hist-14-080k-thigh.nii.gz-0.500000', 'hist-15-080k-thigh.nii.gz-0.500000', 'hist-16-080k-thigh.nii.gz-0.500000', 'hist-17-080k-thigh.nii.gz-0.500000', 'hist-18-080k-thigh.nii.gz-0.500000', 'hist-19-080k-thigh.nii.gz-0.500000', 'num-082k-thigh.nii.gz-0.500000', 'sum-082k-thigh.nii.gz-0.500000', 'mean-082k-thigh.nii.gz-0.500000', 'std-082k-thigh.nii.gz-0.500000', 'skew-082k-thigh.nii.gz-0.500000', 'kurt-082k-thigh.nii.gz-0.500000', 'hist-0-082k-thigh.nii.gz-0.500000', 'hist-1-082k-thigh.nii.gz-0.500000', 'hist-2-082k-thigh.nii.gz-0.500000', 'hist-3-082k-thigh.nii.gz-0.500000', 'hist-4-082k-thigh.nii.gz-0.500000', 'hist-5-082k-thigh.nii.gz-0.500000', 'hist-6-082k-thigh.nii.gz-0.500000', 'hist-7-082k-thigh.nii.gz-0.500000', 'hist-8-082k-thigh.nii.gz-0.500000', 'hist-9-082k-thigh.nii.gz-0.500000', 'hist-10-082k-thigh.nii.gz-0.500000', 'hist-11-082k-thigh.nii.gz-0.500000', 'hist-12-082k-thigh.nii.gz-0.500000', 'hist-13-082k-thigh.nii.gz-0.500000', 'hist-14-082k-thigh.nii.gz-0.500000', 'hist-15-082k-thigh.nii.gz-0.500000', 'hist-16-082k-thigh.nii.gz-0.500000', 'hist-17-082k-thigh.nii.gz-0.500000', 'hist-18-082k-thigh.nii.gz-0.500000', 'hist-19-082k-thigh.nii.gz-0.500000', 'num-083a-thigh.nii.gz-0.500000', 'sum-083a-thigh.nii.gz-0.500000', 'mean-083a-thigh.nii.gz-0.500000', 'std-083a-thigh.nii.gz-0.500000', 'skew-083a-thigh.nii.gz-0.500000', 'kurt-083a-thigh.nii.gz-0.500000', 'hist-0-083a-thigh.nii.gz-0.500000', 'hist-1-083a-thigh.nii.gz-0.500000', 'hist-2-083a-thigh.nii.gz-0.500000', 'hist-3-083a-thigh.nii.gz-0.500000', 'hist-4-083a-thigh.nii.gz-0.500000', 'hist-5-083a-thigh.nii.gz-0.500000', 'hist-6-083a-thigh.nii.gz-0.500000', 'hist-7-083a-thigh.nii.gz-0.500000', 'hist-8-083a-thigh.nii.gz-0.500000', 'hist-9-083a-thigh.nii.gz-0.500000', 'hist-10-083a-thigh.nii.gz-0.500000', 'hist-11-083a-thigh.nii.gz-0.500000', 'hist-12-083a-thigh.nii.gz-0.500000', 'hist-13-083a-thigh.nii.gz-0.500000', 'hist-14-083a-thigh.nii.gz-0.500000', 'hist-15-083a-thigh.nii.gz-0.500000', 'hist-16-083a-thigh.nii.gz-0.500000', 'hist-17-083a-thigh.nii.gz-0.500000', 'hist-18-083a-thigh.nii.gz-0.500000', 'hist-19-083a-thigh.nii.gz-0.500000', 'num-083k-thigh.nii.gz-0.500000', 'sum-083k-thigh.nii.gz-0.500000', 'mean-083k-thigh.nii.gz-0.500000', 'std-083k-thigh.nii.gz-0.500000', 'skew-083k-thigh.nii.gz-0.500000', 'kurt-083k-thigh.nii.gz-0.500000', 'hist-0-083k-thigh.nii.gz-0.500000', 'hist-1-083k-thigh.nii.gz-0.500000', 'hist-2-083k-thigh.nii.gz-0.500000', 'hist-3-083k-thigh.nii.gz-0.500000', 'hist-4-083k-thigh.nii.gz-0.500000', 'hist-5-083k-thigh.nii.gz-0.500000', 'hist-6-083k-thigh.nii.gz-0.500000', 'hist-7-083k-thigh.nii.gz-0.500000', 'hist-8-083k-thigh.nii.gz-0.500000', 'hist-9-083k-thigh.nii.gz-0.500000', 'hist-10-083k-thigh.nii.gz-0.500000', 'hist-11-083k-thigh.nii.gz-0.500000', 'hist-12-083k-thigh.nii.gz-0.500000', 'hist-13-083k-thigh.nii.gz-0.500000', 'hist-14-083k-thigh.nii.gz-0.500000', 'hist-15-083k-thigh.nii.gz-0.500000', 'hist-16-083k-thigh.nii.gz-0.500000', 'hist-17-083k-thigh.nii.gz-0.500000', 'hist-18-083k-thigh.nii.gz-0.500000', 'hist-19-083k-thigh.nii.gz-0.500000', 'num-084a-thigh.nii.gz-0.500000', 'sum-084a-thigh.nii.gz-0.500000', 'mean-084a-thigh.nii.gz-0.500000', 'std-084a-thigh.nii.gz-0.500000', 'skew-084a-thigh.nii.gz-0.500000', 'kurt-084a-thigh.nii.gz-0.500000', 'hist-0-084a-thigh.nii.gz-0.500000', 'hist-1-084a-thigh.nii.gz-0.500000', 'hist-2-084a-thigh.nii.gz-0.500000', 'hist-3-084a-thigh.nii.gz-0.500000', 'hist-4-084a-thigh.nii.gz-0.500000', 'hist-5-084a-thigh.nii.gz-0.500000', 'hist-6-084a-thigh.nii.gz-0.500000', 'hist-7-084a-thigh.nii.gz-0.500000', 'hist-8-084a-thigh.nii.gz-0.500000', 'hist-9-084a-thigh.nii.gz-0.500000', 'hist-10-084a-thigh.nii.gz-0.500000', 'hist-11-084a-thigh.nii.gz-0.500000', 'hist-12-084a-thigh.nii.gz-0.500000', 'hist-13-084a-thigh.nii.gz-0.500000', 'hist-14-084a-thigh.nii.gz-0.500000', 'hist-15-084a-thigh.nii.gz-0.500000', 'hist-16-084a-thigh.nii.gz-0.500000', 'hist-17-084a-thigh.nii.gz-0.500000', 'hist-18-084a-thigh.nii.gz-0.500000', 'hist-19-084a-thigh.nii.gz-0.500000', 'num-087f-thigh.nii.gz-0.500000', 'sum-087f-thigh.nii.gz-0.500000', 'mean-087f-thigh.nii.gz-0.500000', 'std-087f-thigh.nii.gz-0.500000', 'skew-087f-thigh.nii.gz-0.500000', 'kurt-087f-thigh.nii.gz-0.500000', 'hist-0-087f-thigh.nii.gz-0.500000', 'hist-1-087f-thigh.nii.gz-0.500000', 'hist-2-087f-thigh.nii.gz-0.500000', 'hist-3-087f-thigh.nii.gz-0.500000', 'hist-4-087f-thigh.nii.gz-0.500000', 'hist-5-087f-thigh.nii.gz-0.500000', 'hist-6-087f-thigh.nii.gz-0.500000', 'hist-7-087f-thigh.nii.gz-0.500000', 'hist-8-087f-thigh.nii.gz-0.500000', 'hist-9-087f-thigh.nii.gz-0.500000', 'hist-10-087f-thigh.nii.gz-0.500000', 'hist-11-087f-thigh.nii.gz-0.500000', 'hist-12-087f-thigh.nii.gz-0.500000', 'hist-13-087f-thigh.nii.gz-0.500000', 'hist-14-087f-thigh.nii.gz-0.500000', 'hist-15-087f-thigh.nii.gz-0.500000', 'hist-16-087f-thigh.nii.gz-0.500000', 'hist-17-087f-thigh.nii.gz-0.500000', 'hist-18-087f-thigh.nii.gz-0.500000', 'hist-19-087f-thigh.nii.gz-0.500000', 'num-088f-thigh.nii.gz-0.500000', 'sum-088f-thigh.nii.gz-0.500000', 'mean-088f-thigh.nii.gz-0.500000', 'std-088f-thigh.nii.gz-0.500000', 'skew-088f-thigh.nii.gz-0.500000', 'kurt-088f-thigh.nii.gz-0.500000', 'hist-0-088f-thigh.nii.gz-0.500000', 'hist-1-088f-thigh.nii.gz-0.500000', 'hist-2-088f-thigh.nii.gz-0.500000', 'hist-3-088f-thigh.nii.gz-0.500000', 'hist-4-088f-thigh.nii.gz-0.500000', 'hist-5-088f-thigh.nii.gz-0.500000', 'hist-6-088f-thigh.nii.gz-0.500000', 'hist-7-088f-thigh.nii.gz-0.500000', 'hist-8-088f-thigh.nii.gz-0.500000', 'hist-9-088f-thigh.nii.gz-0.500000', 'hist-10-088f-thigh.nii.gz-0.500000', 'hist-11-088f-thigh.nii.gz-0.500000', 'hist-12-088f-thigh.nii.gz-0.500000', 'hist-13-088f-thigh.nii.gz-0.500000', 'hist-14-088f-thigh.nii.gz-0.500000', 'hist-15-088f-thigh.nii.gz-0.500000', 'hist-16-088f-thigh.nii.gz-0.500000', 'hist-17-088f-thigh.nii.gz-0.500000', 'hist-18-088f-thigh.nii.gz-0.500000', 'hist-19-088f-thigh.nii.gz-0.500000', 'num-088k-thigh.nii.gz-0.500000', 'sum-088k-thigh.nii.gz-0.500000', 'mean-088k-thigh.nii.gz-0.500000', 'std-088k-thigh.nii.gz-0.500000', 'skew-088k-thigh.nii.gz-0.500000', 'kurt-088k-thigh.nii.gz-0.500000', 'hist-0-088k-thigh.nii.gz-0.500000', 'hist-1-088k-thigh.nii.gz-0.500000', 'hist-2-088k-thigh.nii.gz-0.500000', 'hist-3-088k-thigh.nii.gz-0.500000', 'hist-4-088k-thigh.nii.gz-0.500000', 'hist-5-088k-thigh.nii.gz-0.500000', 'hist-6-088k-thigh.nii.gz-0.500000', 'hist-7-088k-thigh.nii.gz-0.500000', 'hist-8-088k-thigh.nii.gz-0.500000', 'hist-9-088k-thigh.nii.gz-0.500000', 'hist-10-088k-thigh.nii.gz-0.500000', 'hist-11-088k-thigh.nii.gz-0.500000', 'hist-12-088k-thigh.nii.gz-0.500000', 'hist-13-088k-thigh.nii.gz-0.500000', 'hist-14-088k-thigh.nii.gz-0.500000', 'hist-15-088k-thigh.nii.gz-0.500000', 'hist-16-088k-thigh.nii.gz-0.500000', 'hist-17-088k-thigh.nii.gz-0.500000', 'hist-18-088k-thigh.nii.gz-0.500000', 'hist-19-088k-thigh.nii.gz-0.500000', 'num-090a-thigh.nii.gz-0.500000', 'sum-090a-thigh.nii.gz-0.500000', 'mean-090a-thigh.nii.gz-0.500000', 'std-090a-thigh.nii.gz-0.500000', 'skew-090a-thigh.nii.gz-0.500000', 'kurt-090a-thigh.nii.gz-0.500000', 'hist-0-090a-thigh.nii.gz-0.500000', 'hist-1-090a-thigh.nii.gz-0.500000', 'hist-2-090a-thigh.nii.gz-0.500000', 'hist-3-090a-thigh.nii.gz-0.500000', 'hist-4-090a-thigh.nii.gz-0.500000', 'hist-5-090a-thigh.nii.gz-0.500000', 'hist-6-090a-thigh.nii.gz-0.500000', 'hist-7-090a-thigh.nii.gz-0.500000', 'hist-8-090a-thigh.nii.gz-0.500000', 'hist-9-090a-thigh.nii.gz-0.500000', 'hist-10-090a-thigh.nii.gz-0.500000', 'hist-11-090a-thigh.nii.gz-0.500000', 'hist-12-090a-thigh.nii.gz-0.500000', 'hist-13-090a-thigh.nii.gz-0.500000', 'hist-14-090a-thigh.nii.gz-0.500000', 'hist-15-090a-thigh.nii.gz-0.500000', 'hist-16-090a-thigh.nii.gz-0.500000', 'hist-17-090a-thigh.nii.gz-0.500000', 'hist-18-090a-thigh.nii.gz-0.500000', 'hist-19-090a-thigh.nii.gz-0.500000', 'num-091f-thigh.nii.gz-0.500000', 'sum-091f-thigh.nii.gz-0.500000', 'mean-091f-thigh.nii.gz-0.500000', 'std-091f-thigh.nii.gz-0.500000', 'skew-091f-thigh.nii.gz-0.500000', 'kurt-091f-thigh.nii.gz-0.500000', 'hist-0-091f-thigh.nii.gz-0.500000', 'hist-1-091f-thigh.nii.gz-0.500000', 'hist-2-091f-thigh.nii.gz-0.500000', 'hist-3-091f-thigh.nii.gz-0.500000', 'hist-4-091f-thigh.nii.gz-0.500000', 'hist-5-091f-thigh.nii.gz-0.500000', 'hist-6-091f-thigh.nii.gz-0.500000', 'hist-7-091f-thigh.nii.gz-0.500000', 'hist-8-091f-thigh.nii.gz-0.500000', 'hist-9-091f-thigh.nii.gz-0.500000', 'hist-10-091f-thigh.nii.gz-0.500000', 'hist-11-091f-thigh.nii.gz-0.500000', 'hist-12-091f-thigh.nii.gz-0.500000', 'hist-13-091f-thigh.nii.gz-0.500000', 'hist-14-091f-thigh.nii.gz-0.500000', 'hist-15-091f-thigh.nii.gz-0.500000', 'hist-16-091f-thigh.nii.gz-0.500000', 'hist-17-091f-thigh.nii.gz-0.500000', 'hist-18-091f-thigh.nii.gz-0.500000', 'hist-19-091f-thigh.nii.gz-0.500000', 'num-092k-thigh.nii.gz-0.500000', 'sum-092k-thigh.nii.gz-0.500000', 'mean-092k-thigh.nii.gz-0.500000', 'std-092k-thigh.nii.gz-0.500000', 'skew-092k-thigh.nii.gz-0.500000', 'kurt-092k-thigh.nii.gz-0.500000', 'hist-0-092k-thigh.nii.gz-0.500000', 'hist-1-092k-thigh.nii.gz-0.500000', 'hist-2-092k-thigh.nii.gz-0.500000', 'hist-3-092k-thigh.nii.gz-0.500000', 'hist-4-092k-thigh.nii.gz-0.500000', 'hist-5-092k-thigh.nii.gz-0.500000', 'hist-6-092k-thigh.nii.gz-0.500000', 'hist-7-092k-thigh.nii.gz-0.500000', 'hist-8-092k-thigh.nii.gz-0.500000', 'hist-9-092k-thigh.nii.gz-0.500000', 'hist-10-092k-thigh.nii.gz-0.500000', 'hist-11-092k-thigh.nii.gz-0.500000', 'hist-12-092k-thigh.nii.gz-0.500000', 'hist-13-092k-thigh.nii.gz-0.500000', 'hist-14-092k-thigh.nii.gz-0.500000', 'hist-15-092k-thigh.nii.gz-0.500000', 'hist-16-092k-thigh.nii.gz-0.500000', 'hist-17-092k-thigh.nii.gz-0.500000', 'hist-18-092k-thigh.nii.gz-0.500000', 'hist-19-092k-thigh.nii.gz-0.500000', 'num-0.500000-mean_mask', 'sum-0.500000-mean_mask', 'mean-0.500000-mean_mask', 'std-0.500000-mean_mask', 'skew-0.500000-mean_mask', 'kurt-0.500000-mean_mask', 'hist-0-0.500000-mean_mask', 'hist-1-0.500000-mean_mask', 'hist-2-0.500000-mean_mask', 'hist-3-0.500000-mean_mask', 'hist-4-0.500000-mean_mask', 'hist-5-0.500000-mean_mask', 'hist-6-0.500000-mean_mask', 'hist-7-0.500000-mean_mask', 'hist-8-0.500000-mean_mask', 'hist-9-0.500000-mean_mask', 'hist-10-0.500000-mean_mask', 'hist-11-0.500000-mean_mask', 'hist-12-0.500000-mean_mask', 'hist-13-0.500000-mean_mask', 'hist-14-0.500000-mean_mask', 'hist-15-0.500000-mean_mask', 'hist-16-0.500000-mean_mask', 'hist-17-0.500000-mean_mask', 'hist-18-0.500000-mean_mask', 'hist-19-0.500000-mean_mask', 'pos'] \n",
      "Score: -0.42867510006932563\n"
     ]
    },
    {
     "name": "stderr",
     "output_type": "stream",
     "text": [
      "200it [00:00, 325.85it/s]\n"
     ]
    },
    {
     "name": "stdout",
     "output_type": "stream",
     "text": [
      "1\n",
      "1 0.46303100575167866\n"
     ]
    }
   ],
   "source": [
    "results_no_fs.append(model_selection(thigh_features, thigh_target, dataset='thigh', type='all', disable_feature_selection=True))"
   ]
  },
  {
   "cell_type": "markdown",
   "metadata": {},
   "source": [
    "### thigh mean mask"
   ]
  },
  {
   "cell_type": "code",
   "execution_count": 15,
   "metadata": {},
   "outputs": [
    {
     "name": "stdout",
     "output_type": "stream",
     "text": [
      "Objective KNNR_Objective:\n"
     ]
    },
    {
     "name": "stderr",
     "output_type": "stream",
     "text": [
      "  7%|███████████████████▎                                                                                                                                                                                                                                                               | 563/8000 [00:15<03:27, 35.77it/s]\n"
     ]
    },
    {
     "name": "stdout",
     "output_type": "stream",
     "text": [
      "iterations: 563\n",
      "Number of used features: 26\n",
      "Used features: ['num-0.500000-mean_mask', 'sum-0.500000-mean_mask', 'mean-0.500000-mean_mask', 'std-0.500000-mean_mask', 'skew-0.500000-mean_mask', 'kurt-0.500000-mean_mask', 'hist-0-0.500000-mean_mask', 'hist-1-0.500000-mean_mask', 'hist-2-0.500000-mean_mask', 'hist-3-0.500000-mean_mask', 'hist-4-0.500000-mean_mask', 'hist-5-0.500000-mean_mask', 'hist-6-0.500000-mean_mask', 'hist-7-0.500000-mean_mask', 'hist-8-0.500000-mean_mask', 'hist-9-0.500000-mean_mask', 'hist-10-0.500000-mean_mask', 'hist-11-0.500000-mean_mask', 'hist-12-0.500000-mean_mask', 'hist-13-0.500000-mean_mask', 'hist-14-0.500000-mean_mask', 'hist-15-0.500000-mean_mask', 'hist-16-0.500000-mean_mask', 'hist-17-0.500000-mean_mask', 'hist-18-0.500000-mean_mask', 'hist-19-0.500000-mean_mask'] \n",
      "Score: -0.32545417537347865\n"
     ]
    },
    {
     "name": "stderr",
     "output_type": "stream",
     "text": [
      "200it [00:00, 743.96it/s]\n"
     ]
    },
    {
     "name": "stdout",
     "output_type": "stream",
     "text": [
      "1\n",
      "1 0.3422546022830222\n",
      "Objective LinearRegression_Objective:\n"
     ]
    },
    {
     "name": "stderr",
     "output_type": "stream",
     "text": [
      "  6%|█████████████████                                                                                                                                                                                                                                                                | 499/8000 [00:00<00:02, 3088.87it/s]\n"
     ]
    },
    {
     "name": "stdout",
     "output_type": "stream",
     "text": [
      "iterations: 499\n",
      "Number of used features: 26\n",
      "Used features: ['num-0.500000-mean_mask', 'sum-0.500000-mean_mask', 'mean-0.500000-mean_mask', 'std-0.500000-mean_mask', 'skew-0.500000-mean_mask', 'kurt-0.500000-mean_mask', 'hist-0-0.500000-mean_mask', 'hist-1-0.500000-mean_mask', 'hist-2-0.500000-mean_mask', 'hist-3-0.500000-mean_mask', 'hist-4-0.500000-mean_mask', 'hist-5-0.500000-mean_mask', 'hist-6-0.500000-mean_mask', 'hist-7-0.500000-mean_mask', 'hist-8-0.500000-mean_mask', 'hist-9-0.500000-mean_mask', 'hist-10-0.500000-mean_mask', 'hist-11-0.500000-mean_mask', 'hist-12-0.500000-mean_mask', 'hist-13-0.500000-mean_mask', 'hist-14-0.500000-mean_mask', 'hist-15-0.500000-mean_mask', 'hist-16-0.500000-mean_mask', 'hist-17-0.500000-mean_mask', 'hist-18-0.500000-mean_mask', 'hist-19-0.500000-mean_mask'] \n",
      "Score: -0.020903855709082264\n"
     ]
    },
    {
     "name": "stderr",
     "output_type": "stream",
     "text": [
      "200it [00:00, 724.92it/s]\n"
     ]
    },
    {
     "name": "stdout",
     "output_type": "stream",
     "text": [
      "1\n",
      "1 0.15511898860701145\n",
      "Objective LassoRegression_Objective:\n"
     ]
    },
    {
     "name": "stderr",
     "output_type": "stream",
     "text": [
      "  6%|█████████████████▍                                                                                                                                                                                                                                                                | 508/8000 [00:02<00:31, 240.21it/s]\n"
     ]
    },
    {
     "name": "stdout",
     "output_type": "stream",
     "text": [
      "iterations: 508\n",
      "Number of used features: 26\n",
      "Used features: ['num-0.500000-mean_mask', 'sum-0.500000-mean_mask', 'mean-0.500000-mean_mask', 'std-0.500000-mean_mask', 'skew-0.500000-mean_mask', 'kurt-0.500000-mean_mask', 'hist-0-0.500000-mean_mask', 'hist-1-0.500000-mean_mask', 'hist-2-0.500000-mean_mask', 'hist-3-0.500000-mean_mask', 'hist-4-0.500000-mean_mask', 'hist-5-0.500000-mean_mask', 'hist-6-0.500000-mean_mask', 'hist-7-0.500000-mean_mask', 'hist-8-0.500000-mean_mask', 'hist-9-0.500000-mean_mask', 'hist-10-0.500000-mean_mask', 'hist-11-0.500000-mean_mask', 'hist-12-0.500000-mean_mask', 'hist-13-0.500000-mean_mask', 'hist-14-0.500000-mean_mask', 'hist-15-0.500000-mean_mask', 'hist-16-0.500000-mean_mask', 'hist-17-0.500000-mean_mask', 'hist-18-0.500000-mean_mask', 'hist-19-0.500000-mean_mask'] \n",
      "Score: -0.5149233047683501\n"
     ]
    },
    {
     "name": "stderr",
     "output_type": "stream",
     "text": [
      "200it [00:00, 526.31it/s]\n"
     ]
    },
    {
     "name": "stdout",
     "output_type": "stream",
     "text": [
      "1\n",
      "1 0.5206780539476288\n",
      "Objective RidgeRegression_Objective:\n"
     ]
    },
    {
     "name": "stderr",
     "output_type": "stream",
     "text": [
      "  6%|█████████████████                                                                                                                                                                                                                                                                 | 499/8000 [00:01<00:23, 313.75it/s]\n"
     ]
    },
    {
     "name": "stdout",
     "output_type": "stream",
     "text": [
      "iterations: 499\n",
      "Number of used features: 26\n",
      "Used features: ['num-0.500000-mean_mask', 'sum-0.500000-mean_mask', 'mean-0.500000-mean_mask', 'std-0.500000-mean_mask', 'skew-0.500000-mean_mask', 'kurt-0.500000-mean_mask', 'hist-0-0.500000-mean_mask', 'hist-1-0.500000-mean_mask', 'hist-2-0.500000-mean_mask', 'hist-3-0.500000-mean_mask', 'hist-4-0.500000-mean_mask', 'hist-5-0.500000-mean_mask', 'hist-6-0.500000-mean_mask', 'hist-7-0.500000-mean_mask', 'hist-8-0.500000-mean_mask', 'hist-9-0.500000-mean_mask', 'hist-10-0.500000-mean_mask', 'hist-11-0.500000-mean_mask', 'hist-12-0.500000-mean_mask', 'hist-13-0.500000-mean_mask', 'hist-14-0.500000-mean_mask', 'hist-15-0.500000-mean_mask', 'hist-16-0.500000-mean_mask', 'hist-17-0.500000-mean_mask', 'hist-18-0.500000-mean_mask', 'hist-19-0.500000-mean_mask'] \n",
      "Score: -0.48105120116201217\n"
     ]
    },
    {
     "name": "stderr",
     "output_type": "stream",
     "text": [
      "200it [00:00, 576.80it/s]\n"
     ]
    },
    {
     "name": "stdout",
     "output_type": "stream",
     "text": [
      "1\n",
      "1 0.5136800770324552\n",
      "Objective PLSRegression_Objective:\n"
     ]
    },
    {
     "name": "stderr",
     "output_type": "stream",
     "text": [
      "  6%|█████████████████▏                                                                                                                                                                                                                                                                | 502/8000 [00:00<00:07, 967.03it/s]\n"
     ]
    },
    {
     "name": "stdout",
     "output_type": "stream",
     "text": [
      "iterations: 502\n",
      "Number of used features: 26\n",
      "Used features: ['num-0.500000-mean_mask', 'sum-0.500000-mean_mask', 'mean-0.500000-mean_mask', 'std-0.500000-mean_mask', 'skew-0.500000-mean_mask', 'kurt-0.500000-mean_mask', 'hist-0-0.500000-mean_mask', 'hist-1-0.500000-mean_mask', 'hist-2-0.500000-mean_mask', 'hist-3-0.500000-mean_mask', 'hist-4-0.500000-mean_mask', 'hist-5-0.500000-mean_mask', 'hist-6-0.500000-mean_mask', 'hist-7-0.500000-mean_mask', 'hist-8-0.500000-mean_mask', 'hist-9-0.500000-mean_mask', 'hist-10-0.500000-mean_mask', 'hist-11-0.500000-mean_mask', 'hist-12-0.500000-mean_mask', 'hist-13-0.500000-mean_mask', 'hist-14-0.500000-mean_mask', 'hist-15-0.500000-mean_mask', 'hist-16-0.500000-mean_mask', 'hist-17-0.500000-mean_mask', 'hist-18-0.500000-mean_mask', 'hist-19-0.500000-mean_mask'] \n",
      "Score: -0.4895716537354793\n"
     ]
    },
    {
     "name": "stderr",
     "output_type": "stream",
     "text": [
      "200it [00:00, 653.90it/s]"
     ]
    },
    {
     "name": "stdout",
     "output_type": "stream",
     "text": [
      "1\n",
      "1 0.5111383749775585\n"
     ]
    },
    {
     "name": "stderr",
     "output_type": "stream",
     "text": [
      "\n"
     ]
    }
   ],
   "source": [
    "results_no_fs.append(model_selection(thigh_features[[c for c in thigh_features.columns if 'mean_mask' in c or c == 'type']], thigh_target, dataset='thigh', type='mean_mask', disable_feature_selection=True))"
   ]
  },
  {
   "cell_type": "markdown",
   "metadata": {},
   "source": [
    "### thigh individual masks"
   ]
  },
  {
   "cell_type": "code",
   "execution_count": 16,
   "metadata": {},
   "outputs": [
    {
     "name": "stdout",
     "output_type": "stream",
     "text": [
      "Objective KNNR_Objective:\n"
     ]
    },
    {
     "name": "stderr",
     "output_type": "stream",
     "text": [
      "  7%|███████████████████▏                                                                                                                                                                                                                                                               | 559/8000 [00:15<03:32, 35.01it/s]\n"
     ]
    },
    {
     "name": "stdout",
     "output_type": "stream",
     "text": [
      "iterations: 559\n",
      "Number of used features: 26\n",
      "Used features: ['num-074k-thigh.nii.gz-0.500000', 'sum-074k-thigh.nii.gz-0.500000', 'mean-074k-thigh.nii.gz-0.500000', 'std-074k-thigh.nii.gz-0.500000', 'skew-074k-thigh.nii.gz-0.500000', 'kurt-074k-thigh.nii.gz-0.500000', 'hist-0-074k-thigh.nii.gz-0.500000', 'hist-1-074k-thigh.nii.gz-0.500000', 'hist-2-074k-thigh.nii.gz-0.500000', 'hist-3-074k-thigh.nii.gz-0.500000', 'hist-4-074k-thigh.nii.gz-0.500000', 'hist-5-074k-thigh.nii.gz-0.500000', 'hist-6-074k-thigh.nii.gz-0.500000', 'hist-7-074k-thigh.nii.gz-0.500000', 'hist-8-074k-thigh.nii.gz-0.500000', 'hist-9-074k-thigh.nii.gz-0.500000', 'hist-10-074k-thigh.nii.gz-0.500000', 'hist-11-074k-thigh.nii.gz-0.500000', 'hist-12-074k-thigh.nii.gz-0.500000', 'hist-13-074k-thigh.nii.gz-0.500000', 'hist-14-074k-thigh.nii.gz-0.500000', 'hist-15-074k-thigh.nii.gz-0.500000', 'hist-16-074k-thigh.nii.gz-0.500000', 'hist-17-074k-thigh.nii.gz-0.500000', 'hist-18-074k-thigh.nii.gz-0.500000', 'hist-19-074k-thigh.nii.gz-0.500000'] \n",
      "Score: -0.3596357041767594\n"
     ]
    },
    {
     "name": "stderr",
     "output_type": "stream",
     "text": [
      "200it [00:00, 765.52it/s]\n"
     ]
    },
    {
     "name": "stdout",
     "output_type": "stream",
     "text": [
      "1\n",
      "1 0.3719431391838929\n",
      "Objective LinearRegression_Objective:\n"
     ]
    },
    {
     "name": "stderr",
     "output_type": "stream",
     "text": [
      "  6%|█████████████████                                                                                                                                                                                                                                                                | 499/8000 [00:00<00:02, 3127.77it/s]\n"
     ]
    },
    {
     "name": "stdout",
     "output_type": "stream",
     "text": [
      "iterations: 499\n",
      "Number of used features: 26\n",
      "Used features: ['num-074k-thigh.nii.gz-0.500000', 'sum-074k-thigh.nii.gz-0.500000', 'mean-074k-thigh.nii.gz-0.500000', 'std-074k-thigh.nii.gz-0.500000', 'skew-074k-thigh.nii.gz-0.500000', 'kurt-074k-thigh.nii.gz-0.500000', 'hist-0-074k-thigh.nii.gz-0.500000', 'hist-1-074k-thigh.nii.gz-0.500000', 'hist-2-074k-thigh.nii.gz-0.500000', 'hist-3-074k-thigh.nii.gz-0.500000', 'hist-4-074k-thigh.nii.gz-0.500000', 'hist-5-074k-thigh.nii.gz-0.500000', 'hist-6-074k-thigh.nii.gz-0.500000', 'hist-7-074k-thigh.nii.gz-0.500000', 'hist-8-074k-thigh.nii.gz-0.500000', 'hist-9-074k-thigh.nii.gz-0.500000', 'hist-10-074k-thigh.nii.gz-0.500000', 'hist-11-074k-thigh.nii.gz-0.500000', 'hist-12-074k-thigh.nii.gz-0.500000', 'hist-13-074k-thigh.nii.gz-0.500000', 'hist-14-074k-thigh.nii.gz-0.500000', 'hist-15-074k-thigh.nii.gz-0.500000', 'hist-16-074k-thigh.nii.gz-0.500000', 'hist-17-074k-thigh.nii.gz-0.500000', 'hist-18-074k-thigh.nii.gz-0.500000', 'hist-19-074k-thigh.nii.gz-0.500000'] \n",
      "Score: 0.10511143251542432\n"
     ]
    },
    {
     "name": "stderr",
     "output_type": "stream",
     "text": [
      "200it [00:00, 745.42it/s]\n"
     ]
    },
    {
     "name": "stdout",
     "output_type": "stream",
     "text": [
      "1\n",
      "1 0.023959783792216416\n",
      "Objective LassoRegression_Objective:\n"
     ]
    },
    {
     "name": "stderr",
     "output_type": "stream",
     "text": [
      "  6%|█████████████████▍                                                                                                                                                                                                                                                                | 508/8000 [00:02<00:31, 237.36it/s]\n"
     ]
    },
    {
     "name": "stdout",
     "output_type": "stream",
     "text": [
      "iterations: 508\n",
      "Number of used features: 26\n",
      "Used features: ['num-074k-thigh.nii.gz-0.500000', 'sum-074k-thigh.nii.gz-0.500000', 'mean-074k-thigh.nii.gz-0.500000', 'std-074k-thigh.nii.gz-0.500000', 'skew-074k-thigh.nii.gz-0.500000', 'kurt-074k-thigh.nii.gz-0.500000', 'hist-0-074k-thigh.nii.gz-0.500000', 'hist-1-074k-thigh.nii.gz-0.500000', 'hist-2-074k-thigh.nii.gz-0.500000', 'hist-3-074k-thigh.nii.gz-0.500000', 'hist-4-074k-thigh.nii.gz-0.500000', 'hist-5-074k-thigh.nii.gz-0.500000', 'hist-6-074k-thigh.nii.gz-0.500000', 'hist-7-074k-thigh.nii.gz-0.500000', 'hist-8-074k-thigh.nii.gz-0.500000', 'hist-9-074k-thigh.nii.gz-0.500000', 'hist-10-074k-thigh.nii.gz-0.500000', 'hist-11-074k-thigh.nii.gz-0.500000', 'hist-12-074k-thigh.nii.gz-0.500000', 'hist-13-074k-thigh.nii.gz-0.500000', 'hist-14-074k-thigh.nii.gz-0.500000', 'hist-15-074k-thigh.nii.gz-0.500000', 'hist-16-074k-thigh.nii.gz-0.500000', 'hist-17-074k-thigh.nii.gz-0.500000', 'hist-18-074k-thigh.nii.gz-0.500000', 'hist-19-074k-thigh.nii.gz-0.500000'] \n",
      "Score: -0.5126694074829661\n"
     ]
    },
    {
     "name": "stderr",
     "output_type": "stream",
     "text": [
      "200it [00:00, 508.92it/s]\n"
     ]
    },
    {
     "name": "stdout",
     "output_type": "stream",
     "text": [
      "1\n",
      "1 0.5265093111451797\n",
      "Objective RidgeRegression_Objective:\n"
     ]
    },
    {
     "name": "stderr",
     "output_type": "stream",
     "text": [
      "  6%|█████████████████                                                                                                                                                                                                                                                                 | 499/8000 [00:01<00:24, 300.57it/s]\n"
     ]
    },
    {
     "name": "stdout",
     "output_type": "stream",
     "text": [
      "iterations: 499\n",
      "Number of used features: 26\n",
      "Used features: ['num-074k-thigh.nii.gz-0.500000', 'sum-074k-thigh.nii.gz-0.500000', 'mean-074k-thigh.nii.gz-0.500000', 'std-074k-thigh.nii.gz-0.500000', 'skew-074k-thigh.nii.gz-0.500000', 'kurt-074k-thigh.nii.gz-0.500000', 'hist-0-074k-thigh.nii.gz-0.500000', 'hist-1-074k-thigh.nii.gz-0.500000', 'hist-2-074k-thigh.nii.gz-0.500000', 'hist-3-074k-thigh.nii.gz-0.500000', 'hist-4-074k-thigh.nii.gz-0.500000', 'hist-5-074k-thigh.nii.gz-0.500000', 'hist-6-074k-thigh.nii.gz-0.500000', 'hist-7-074k-thigh.nii.gz-0.500000', 'hist-8-074k-thigh.nii.gz-0.500000', 'hist-9-074k-thigh.nii.gz-0.500000', 'hist-10-074k-thigh.nii.gz-0.500000', 'hist-11-074k-thigh.nii.gz-0.500000', 'hist-12-074k-thigh.nii.gz-0.500000', 'hist-13-074k-thigh.nii.gz-0.500000', 'hist-14-074k-thigh.nii.gz-0.500000', 'hist-15-074k-thigh.nii.gz-0.500000', 'hist-16-074k-thigh.nii.gz-0.500000', 'hist-17-074k-thigh.nii.gz-0.500000', 'hist-18-074k-thigh.nii.gz-0.500000', 'hist-19-074k-thigh.nii.gz-0.500000'] \n",
      "Score: -0.43214218311879493\n"
     ]
    },
    {
     "name": "stderr",
     "output_type": "stream",
     "text": [
      "200it [00:00, 550.07it/s]\n"
     ]
    },
    {
     "name": "stdout",
     "output_type": "stream",
     "text": [
      "1\n",
      "1 0.4613882882834124\n",
      "Objective PLSRegression_Objective:\n"
     ]
    },
    {
     "name": "stderr",
     "output_type": "stream",
     "text": [
      "  6%|█████████████████▏                                                                                                                                                                                                                                                                | 502/8000 [00:00<00:08, 937.10it/s]\n"
     ]
    },
    {
     "name": "stdout",
     "output_type": "stream",
     "text": [
      "iterations: 502\n",
      "Number of used features: 26\n",
      "Used features: ['num-074k-thigh.nii.gz-0.500000', 'sum-074k-thigh.nii.gz-0.500000', 'mean-074k-thigh.nii.gz-0.500000', 'std-074k-thigh.nii.gz-0.500000', 'skew-074k-thigh.nii.gz-0.500000', 'kurt-074k-thigh.nii.gz-0.500000', 'hist-0-074k-thigh.nii.gz-0.500000', 'hist-1-074k-thigh.nii.gz-0.500000', 'hist-2-074k-thigh.nii.gz-0.500000', 'hist-3-074k-thigh.nii.gz-0.500000', 'hist-4-074k-thigh.nii.gz-0.500000', 'hist-5-074k-thigh.nii.gz-0.500000', 'hist-6-074k-thigh.nii.gz-0.500000', 'hist-7-074k-thigh.nii.gz-0.500000', 'hist-8-074k-thigh.nii.gz-0.500000', 'hist-9-074k-thigh.nii.gz-0.500000', 'hist-10-074k-thigh.nii.gz-0.500000', 'hist-11-074k-thigh.nii.gz-0.500000', 'hist-12-074k-thigh.nii.gz-0.500000', 'hist-13-074k-thigh.nii.gz-0.500000', 'hist-14-074k-thigh.nii.gz-0.500000', 'hist-15-074k-thigh.nii.gz-0.500000', 'hist-16-074k-thigh.nii.gz-0.500000', 'hist-17-074k-thigh.nii.gz-0.500000', 'hist-18-074k-thigh.nii.gz-0.500000', 'hist-19-074k-thigh.nii.gz-0.500000'] \n",
      "Score: -0.4750000257748297\n"
     ]
    },
    {
     "name": "stderr",
     "output_type": "stream",
     "text": [
      "200it [00:00, 629.32it/s]\n"
     ]
    },
    {
     "name": "stdout",
     "output_type": "stream",
     "text": [
      "1\n",
      "1 0.4934433764833279\n",
      "Objective KNNR_Objective:\n"
     ]
    },
    {
     "name": "stderr",
     "output_type": "stream",
     "text": [
      "  7%|███████████████████▌                                                                                                                                                                                                                                                               | 570/8000 [00:15<03:23, 36.44it/s]\n"
     ]
    },
    {
     "name": "stdout",
     "output_type": "stream",
     "text": [
      "iterations: 570\n",
      "Number of used features: 26\n",
      "Used features: ['num-075a-thigh.nii.gz-0.500000', 'sum-075a-thigh.nii.gz-0.500000', 'mean-075a-thigh.nii.gz-0.500000', 'std-075a-thigh.nii.gz-0.500000', 'skew-075a-thigh.nii.gz-0.500000', 'kurt-075a-thigh.nii.gz-0.500000', 'hist-0-075a-thigh.nii.gz-0.500000', 'hist-1-075a-thigh.nii.gz-0.500000', 'hist-2-075a-thigh.nii.gz-0.500000', 'hist-3-075a-thigh.nii.gz-0.500000', 'hist-4-075a-thigh.nii.gz-0.500000', 'hist-5-075a-thigh.nii.gz-0.500000', 'hist-6-075a-thigh.nii.gz-0.500000', 'hist-7-075a-thigh.nii.gz-0.500000', 'hist-8-075a-thigh.nii.gz-0.500000', 'hist-9-075a-thigh.nii.gz-0.500000', 'hist-10-075a-thigh.nii.gz-0.500000', 'hist-11-075a-thigh.nii.gz-0.500000', 'hist-12-075a-thigh.nii.gz-0.500000', 'hist-13-075a-thigh.nii.gz-0.500000', 'hist-14-075a-thigh.nii.gz-0.500000', 'hist-15-075a-thigh.nii.gz-0.500000', 'hist-16-075a-thigh.nii.gz-0.500000', 'hist-17-075a-thigh.nii.gz-0.500000', 'hist-18-075a-thigh.nii.gz-0.500000', 'hist-19-075a-thigh.nii.gz-0.500000'] \n",
      "Score: -0.37384712126599684\n"
     ]
    },
    {
     "name": "stderr",
     "output_type": "stream",
     "text": [
      "200it [00:00, 741.03it/s]\n"
     ]
    },
    {
     "name": "stdout",
     "output_type": "stream",
     "text": [
      "1\n",
      "1 0.40390883427421465\n",
      "Objective LinearRegression_Objective:\n"
     ]
    },
    {
     "name": "stderr",
     "output_type": "stream",
     "text": [
      "  6%|█████████████████                                                                                                                                                                                                                                                                | 499/8000 [00:00<00:02, 3040.03it/s]\n"
     ]
    },
    {
     "name": "stdout",
     "output_type": "stream",
     "text": [
      "iterations: 499\n",
      "Number of used features: 26\n",
      "Used features: ['num-075a-thigh.nii.gz-0.500000', 'sum-075a-thigh.nii.gz-0.500000', 'mean-075a-thigh.nii.gz-0.500000', 'std-075a-thigh.nii.gz-0.500000', 'skew-075a-thigh.nii.gz-0.500000', 'kurt-075a-thigh.nii.gz-0.500000', 'hist-0-075a-thigh.nii.gz-0.500000', 'hist-1-075a-thigh.nii.gz-0.500000', 'hist-2-075a-thigh.nii.gz-0.500000', 'hist-3-075a-thigh.nii.gz-0.500000', 'hist-4-075a-thigh.nii.gz-0.500000', 'hist-5-075a-thigh.nii.gz-0.500000', 'hist-6-075a-thigh.nii.gz-0.500000', 'hist-7-075a-thigh.nii.gz-0.500000', 'hist-8-075a-thigh.nii.gz-0.500000', 'hist-9-075a-thigh.nii.gz-0.500000', 'hist-10-075a-thigh.nii.gz-0.500000', 'hist-11-075a-thigh.nii.gz-0.500000', 'hist-12-075a-thigh.nii.gz-0.500000', 'hist-13-075a-thigh.nii.gz-0.500000', 'hist-14-075a-thigh.nii.gz-0.500000', 'hist-15-075a-thigh.nii.gz-0.500000', 'hist-16-075a-thigh.nii.gz-0.500000', 'hist-17-075a-thigh.nii.gz-0.500000', 'hist-18-075a-thigh.nii.gz-0.500000', 'hist-19-075a-thigh.nii.gz-0.500000'] \n",
      "Score: 1.9264739490295617\n"
     ]
    },
    {
     "name": "stderr",
     "output_type": "stream",
     "text": [
      "200it [00:00, 733.61it/s]\n"
     ]
    },
    {
     "name": "stdout",
     "output_type": "stream",
     "text": [
      "1\n",
      "1 -1.5871335781812936\n",
      "Objective LassoRegression_Objective:\n"
     ]
    },
    {
     "name": "stderr",
     "output_type": "stream",
     "text": [
      "  6%|█████████████████▍                                                                                                                                                                                                                                                                | 508/8000 [00:02<00:30, 245.85it/s]\n"
     ]
    },
    {
     "name": "stdout",
     "output_type": "stream",
     "text": [
      "iterations: 508\n",
      "Number of used features: 26\n",
      "Used features: ['num-075a-thigh.nii.gz-0.500000', 'sum-075a-thigh.nii.gz-0.500000', 'mean-075a-thigh.nii.gz-0.500000', 'std-075a-thigh.nii.gz-0.500000', 'skew-075a-thigh.nii.gz-0.500000', 'kurt-075a-thigh.nii.gz-0.500000', 'hist-0-075a-thigh.nii.gz-0.500000', 'hist-1-075a-thigh.nii.gz-0.500000', 'hist-2-075a-thigh.nii.gz-0.500000', 'hist-3-075a-thigh.nii.gz-0.500000', 'hist-4-075a-thigh.nii.gz-0.500000', 'hist-5-075a-thigh.nii.gz-0.500000', 'hist-6-075a-thigh.nii.gz-0.500000', 'hist-7-075a-thigh.nii.gz-0.500000', 'hist-8-075a-thigh.nii.gz-0.500000', 'hist-9-075a-thigh.nii.gz-0.500000', 'hist-10-075a-thigh.nii.gz-0.500000', 'hist-11-075a-thigh.nii.gz-0.500000', 'hist-12-075a-thigh.nii.gz-0.500000', 'hist-13-075a-thigh.nii.gz-0.500000', 'hist-14-075a-thigh.nii.gz-0.500000', 'hist-15-075a-thigh.nii.gz-0.500000', 'hist-16-075a-thigh.nii.gz-0.500000', 'hist-17-075a-thigh.nii.gz-0.500000', 'hist-18-075a-thigh.nii.gz-0.500000', 'hist-19-075a-thigh.nii.gz-0.500000'] \n",
      "Score: -0.45060445054856424\n"
     ]
    },
    {
     "name": "stderr",
     "output_type": "stream",
     "text": [
      "200it [00:00, 504.85it/s]\n"
     ]
    },
    {
     "name": "stdout",
     "output_type": "stream",
     "text": [
      "1\n",
      "1 0.45615304212376406\n",
      "Objective RidgeRegression_Objective:\n"
     ]
    },
    {
     "name": "stderr",
     "output_type": "stream",
     "text": [
      "  6%|█████████████████                                                                                                                                                                                                                                                                 | 499/8000 [00:01<00:23, 315.95it/s]\n"
     ]
    },
    {
     "name": "stdout",
     "output_type": "stream",
     "text": [
      "iterations: 499\n",
      "Number of used features: 26\n",
      "Used features: ['num-075a-thigh.nii.gz-0.500000', 'sum-075a-thigh.nii.gz-0.500000', 'mean-075a-thigh.nii.gz-0.500000', 'std-075a-thigh.nii.gz-0.500000', 'skew-075a-thigh.nii.gz-0.500000', 'kurt-075a-thigh.nii.gz-0.500000', 'hist-0-075a-thigh.nii.gz-0.500000', 'hist-1-075a-thigh.nii.gz-0.500000', 'hist-2-075a-thigh.nii.gz-0.500000', 'hist-3-075a-thigh.nii.gz-0.500000', 'hist-4-075a-thigh.nii.gz-0.500000', 'hist-5-075a-thigh.nii.gz-0.500000', 'hist-6-075a-thigh.nii.gz-0.500000', 'hist-7-075a-thigh.nii.gz-0.500000', 'hist-8-075a-thigh.nii.gz-0.500000', 'hist-9-075a-thigh.nii.gz-0.500000', 'hist-10-075a-thigh.nii.gz-0.500000', 'hist-11-075a-thigh.nii.gz-0.500000', 'hist-12-075a-thigh.nii.gz-0.500000', 'hist-13-075a-thigh.nii.gz-0.500000', 'hist-14-075a-thigh.nii.gz-0.500000', 'hist-15-075a-thigh.nii.gz-0.500000', 'hist-16-075a-thigh.nii.gz-0.500000', 'hist-17-075a-thigh.nii.gz-0.500000', 'hist-18-075a-thigh.nii.gz-0.500000', 'hist-19-075a-thigh.nii.gz-0.500000'] \n",
      "Score: -0.46438652495868027\n"
     ]
    },
    {
     "name": "stderr",
     "output_type": "stream",
     "text": [
      "200it [00:00, 577.40it/s]\n"
     ]
    },
    {
     "name": "stdout",
     "output_type": "stream",
     "text": [
      "1\n",
      "1 0.486432086881911\n",
      "Objective PLSRegression_Objective:\n"
     ]
    },
    {
     "name": "stderr",
     "output_type": "stream",
     "text": [
      "  6%|█████████████████                                                                                                                                                                                                                                                                 | 499/8000 [00:00<00:07, 957.84it/s]\n"
     ]
    },
    {
     "name": "stdout",
     "output_type": "stream",
     "text": [
      "iterations: 499\n",
      "Number of used features: 26\n",
      "Used features: ['num-075a-thigh.nii.gz-0.500000', 'sum-075a-thigh.nii.gz-0.500000', 'mean-075a-thigh.nii.gz-0.500000', 'std-075a-thigh.nii.gz-0.500000', 'skew-075a-thigh.nii.gz-0.500000', 'kurt-075a-thigh.nii.gz-0.500000', 'hist-0-075a-thigh.nii.gz-0.500000', 'hist-1-075a-thigh.nii.gz-0.500000', 'hist-2-075a-thigh.nii.gz-0.500000', 'hist-3-075a-thigh.nii.gz-0.500000', 'hist-4-075a-thigh.nii.gz-0.500000', 'hist-5-075a-thigh.nii.gz-0.500000', 'hist-6-075a-thigh.nii.gz-0.500000', 'hist-7-075a-thigh.nii.gz-0.500000', 'hist-8-075a-thigh.nii.gz-0.500000', 'hist-9-075a-thigh.nii.gz-0.500000', 'hist-10-075a-thigh.nii.gz-0.500000', 'hist-11-075a-thigh.nii.gz-0.500000', 'hist-12-075a-thigh.nii.gz-0.500000', 'hist-13-075a-thigh.nii.gz-0.500000', 'hist-14-075a-thigh.nii.gz-0.500000', 'hist-15-075a-thigh.nii.gz-0.500000', 'hist-16-075a-thigh.nii.gz-0.500000', 'hist-17-075a-thigh.nii.gz-0.500000', 'hist-18-075a-thigh.nii.gz-0.500000', 'hist-19-075a-thigh.nii.gz-0.500000'] \n",
      "Score: -0.4911429431929343\n"
     ]
    },
    {
     "name": "stderr",
     "output_type": "stream",
     "text": [
      "200it [00:00, 620.41it/s]\n"
     ]
    },
    {
     "name": "stdout",
     "output_type": "stream",
     "text": [
      "1\n",
      "1 0.5034277764719287\n",
      "Objective KNNR_Objective:\n"
     ]
    },
    {
     "name": "stderr",
     "output_type": "stream",
     "text": [
      "  9%|████████████████████████▏                                                                                                                                                                                                                                                          | 704/8000 [00:17<02:58, 40.86it/s]\n"
     ]
    },
    {
     "name": "stdout",
     "output_type": "stream",
     "text": [
      "iterations: 704\n",
      "Number of used features: 26\n",
      "Used features: ['num-075k-thigh.nii.gz-0.500000', 'sum-075k-thigh.nii.gz-0.500000', 'mean-075k-thigh.nii.gz-0.500000', 'std-075k-thigh.nii.gz-0.500000', 'skew-075k-thigh.nii.gz-0.500000', 'kurt-075k-thigh.nii.gz-0.500000', 'hist-0-075k-thigh.nii.gz-0.500000', 'hist-1-075k-thigh.nii.gz-0.500000', 'hist-2-075k-thigh.nii.gz-0.500000', 'hist-3-075k-thigh.nii.gz-0.500000', 'hist-4-075k-thigh.nii.gz-0.500000', 'hist-5-075k-thigh.nii.gz-0.500000', 'hist-6-075k-thigh.nii.gz-0.500000', 'hist-7-075k-thigh.nii.gz-0.500000', 'hist-8-075k-thigh.nii.gz-0.500000', 'hist-9-075k-thigh.nii.gz-0.500000', 'hist-10-075k-thigh.nii.gz-0.500000', 'hist-11-075k-thigh.nii.gz-0.500000', 'hist-12-075k-thigh.nii.gz-0.500000', 'hist-13-075k-thigh.nii.gz-0.500000', 'hist-14-075k-thigh.nii.gz-0.500000', 'hist-15-075k-thigh.nii.gz-0.500000', 'hist-16-075k-thigh.nii.gz-0.500000', 'hist-17-075k-thigh.nii.gz-0.500000', 'hist-18-075k-thigh.nii.gz-0.500000', 'hist-19-075k-thigh.nii.gz-0.500000'] \n",
      "Score: -0.41424158860031013\n"
     ]
    },
    {
     "name": "stderr",
     "output_type": "stream",
     "text": [
      "200it [00:00, 744.63it/s]\n"
     ]
    },
    {
     "name": "stdout",
     "output_type": "stream",
     "text": [
      "1\n",
      "1 0.4403451406036011\n",
      "Objective LinearRegression_Objective:\n"
     ]
    },
    {
     "name": "stderr",
     "output_type": "stream",
     "text": [
      "  6%|█████████████████                                                                                                                                                                                                                                                                | 499/8000 [00:00<00:02, 3097.86it/s]\n"
     ]
    },
    {
     "name": "stdout",
     "output_type": "stream",
     "text": [
      "iterations: 499\n",
      "Number of used features: 26\n",
      "Used features: ['num-075k-thigh.nii.gz-0.500000', 'sum-075k-thigh.nii.gz-0.500000', 'mean-075k-thigh.nii.gz-0.500000', 'std-075k-thigh.nii.gz-0.500000', 'skew-075k-thigh.nii.gz-0.500000', 'kurt-075k-thigh.nii.gz-0.500000', 'hist-0-075k-thigh.nii.gz-0.500000', 'hist-1-075k-thigh.nii.gz-0.500000', 'hist-2-075k-thigh.nii.gz-0.500000', 'hist-3-075k-thigh.nii.gz-0.500000', 'hist-4-075k-thigh.nii.gz-0.500000', 'hist-5-075k-thigh.nii.gz-0.500000', 'hist-6-075k-thigh.nii.gz-0.500000', 'hist-7-075k-thigh.nii.gz-0.500000', 'hist-8-075k-thigh.nii.gz-0.500000', 'hist-9-075k-thigh.nii.gz-0.500000', 'hist-10-075k-thigh.nii.gz-0.500000', 'hist-11-075k-thigh.nii.gz-0.500000', 'hist-12-075k-thigh.nii.gz-0.500000', 'hist-13-075k-thigh.nii.gz-0.500000', 'hist-14-075k-thigh.nii.gz-0.500000', 'hist-15-075k-thigh.nii.gz-0.500000', 'hist-16-075k-thigh.nii.gz-0.500000', 'hist-17-075k-thigh.nii.gz-0.500000', 'hist-18-075k-thigh.nii.gz-0.500000', 'hist-19-075k-thigh.nii.gz-0.500000'] \n",
      "Score: 0.18800683436202825\n"
     ]
    },
    {
     "name": "stderr",
     "output_type": "stream",
     "text": [
      "200it [00:00, 732.64it/s]\n"
     ]
    },
    {
     "name": "stdout",
     "output_type": "stream",
     "text": [
      "1\n",
      "1 0.05730316871849328\n",
      "Objective LassoRegression_Objective:\n"
     ]
    },
    {
     "name": "stderr",
     "output_type": "stream",
     "text": [
      "  6%|█████████████████▍                                                                                                                                                                                                                                                                | 508/8000 [00:02<00:30, 244.94it/s]\n"
     ]
    },
    {
     "name": "stdout",
     "output_type": "stream",
     "text": [
      "iterations: 508\n",
      "Number of used features: 26\n",
      "Used features: ['num-075k-thigh.nii.gz-0.500000', 'sum-075k-thigh.nii.gz-0.500000', 'mean-075k-thigh.nii.gz-0.500000', 'std-075k-thigh.nii.gz-0.500000', 'skew-075k-thigh.nii.gz-0.500000', 'kurt-075k-thigh.nii.gz-0.500000', 'hist-0-075k-thigh.nii.gz-0.500000', 'hist-1-075k-thigh.nii.gz-0.500000', 'hist-2-075k-thigh.nii.gz-0.500000', 'hist-3-075k-thigh.nii.gz-0.500000', 'hist-4-075k-thigh.nii.gz-0.500000', 'hist-5-075k-thigh.nii.gz-0.500000', 'hist-6-075k-thigh.nii.gz-0.500000', 'hist-7-075k-thigh.nii.gz-0.500000', 'hist-8-075k-thigh.nii.gz-0.500000', 'hist-9-075k-thigh.nii.gz-0.500000', 'hist-10-075k-thigh.nii.gz-0.500000', 'hist-11-075k-thigh.nii.gz-0.500000', 'hist-12-075k-thigh.nii.gz-0.500000', 'hist-13-075k-thigh.nii.gz-0.500000', 'hist-14-075k-thigh.nii.gz-0.500000', 'hist-15-075k-thigh.nii.gz-0.500000', 'hist-16-075k-thigh.nii.gz-0.500000', 'hist-17-075k-thigh.nii.gz-0.500000', 'hist-18-075k-thigh.nii.gz-0.500000', 'hist-19-075k-thigh.nii.gz-0.500000'] \n",
      "Score: -0.4905503513853131\n"
     ]
    },
    {
     "name": "stderr",
     "output_type": "stream",
     "text": [
      "200it [00:00, 526.42it/s]\n"
     ]
    },
    {
     "name": "stdout",
     "output_type": "stream",
     "text": [
      "1\n",
      "1 0.507795301252927\n",
      "Objective RidgeRegression_Objective:\n"
     ]
    },
    {
     "name": "stderr",
     "output_type": "stream",
     "text": [
      "  6%|█████████████████                                                                                                                                                                                                                                                                 | 499/8000 [00:01<00:23, 319.55it/s]\n"
     ]
    },
    {
     "name": "stdout",
     "output_type": "stream",
     "text": [
      "iterations: 499\n",
      "Number of used features: 26\n",
      "Used features: ['num-075k-thigh.nii.gz-0.500000', 'sum-075k-thigh.nii.gz-0.500000', 'mean-075k-thigh.nii.gz-0.500000', 'std-075k-thigh.nii.gz-0.500000', 'skew-075k-thigh.nii.gz-0.500000', 'kurt-075k-thigh.nii.gz-0.500000', 'hist-0-075k-thigh.nii.gz-0.500000', 'hist-1-075k-thigh.nii.gz-0.500000', 'hist-2-075k-thigh.nii.gz-0.500000', 'hist-3-075k-thigh.nii.gz-0.500000', 'hist-4-075k-thigh.nii.gz-0.500000', 'hist-5-075k-thigh.nii.gz-0.500000', 'hist-6-075k-thigh.nii.gz-0.500000', 'hist-7-075k-thigh.nii.gz-0.500000', 'hist-8-075k-thigh.nii.gz-0.500000', 'hist-9-075k-thigh.nii.gz-0.500000', 'hist-10-075k-thigh.nii.gz-0.500000', 'hist-11-075k-thigh.nii.gz-0.500000', 'hist-12-075k-thigh.nii.gz-0.500000', 'hist-13-075k-thigh.nii.gz-0.500000', 'hist-14-075k-thigh.nii.gz-0.500000', 'hist-15-075k-thigh.nii.gz-0.500000', 'hist-16-075k-thigh.nii.gz-0.500000', 'hist-17-075k-thigh.nii.gz-0.500000', 'hist-18-075k-thigh.nii.gz-0.500000', 'hist-19-075k-thigh.nii.gz-0.500000'] \n",
      "Score: -0.4692887636983156\n"
     ]
    },
    {
     "name": "stderr",
     "output_type": "stream",
     "text": [
      "200it [00:00, 588.27it/s]\n"
     ]
    },
    {
     "name": "stdout",
     "output_type": "stream",
     "text": [
      "1\n",
      "1 0.4898115182019096\n",
      "Objective PLSRegression_Objective:\n"
     ]
    },
    {
     "name": "stderr",
     "output_type": "stream",
     "text": [
      "  6%|█████████████████▏                                                                                                                                                                                                                                                                | 502/8000 [00:00<00:07, 987.27it/s]\n"
     ]
    },
    {
     "name": "stdout",
     "output_type": "stream",
     "text": [
      "iterations: 502\n",
      "Number of used features: 26\n",
      "Used features: ['num-075k-thigh.nii.gz-0.500000', 'sum-075k-thigh.nii.gz-0.500000', 'mean-075k-thigh.nii.gz-0.500000', 'std-075k-thigh.nii.gz-0.500000', 'skew-075k-thigh.nii.gz-0.500000', 'kurt-075k-thigh.nii.gz-0.500000', 'hist-0-075k-thigh.nii.gz-0.500000', 'hist-1-075k-thigh.nii.gz-0.500000', 'hist-2-075k-thigh.nii.gz-0.500000', 'hist-3-075k-thigh.nii.gz-0.500000', 'hist-4-075k-thigh.nii.gz-0.500000', 'hist-5-075k-thigh.nii.gz-0.500000', 'hist-6-075k-thigh.nii.gz-0.500000', 'hist-7-075k-thigh.nii.gz-0.500000', 'hist-8-075k-thigh.nii.gz-0.500000', 'hist-9-075k-thigh.nii.gz-0.500000', 'hist-10-075k-thigh.nii.gz-0.500000', 'hist-11-075k-thigh.nii.gz-0.500000', 'hist-12-075k-thigh.nii.gz-0.500000', 'hist-13-075k-thigh.nii.gz-0.500000', 'hist-14-075k-thigh.nii.gz-0.500000', 'hist-15-075k-thigh.nii.gz-0.500000', 'hist-16-075k-thigh.nii.gz-0.500000', 'hist-17-075k-thigh.nii.gz-0.500000', 'hist-18-075k-thigh.nii.gz-0.500000', 'hist-19-075k-thigh.nii.gz-0.500000'] \n",
      "Score: -0.4940692936924772\n"
     ]
    },
    {
     "name": "stderr",
     "output_type": "stream",
     "text": [
      "200it [00:00, 671.77it/s]\n"
     ]
    },
    {
     "name": "stdout",
     "output_type": "stream",
     "text": [
      "1\n",
      "1 0.5076392934623533\n",
      "Objective KNNR_Objective:\n"
     ]
    },
    {
     "name": "stderr",
     "output_type": "stream",
     "text": [
      "  7%|███████████████████▎                                                                                                                                                                                                                                                               | 562/8000 [00:15<03:23, 36.49it/s]\n"
     ]
    },
    {
     "name": "stdout",
     "output_type": "stream",
     "text": [
      "iterations: 562\n",
      "Number of used features: 26\n",
      "Used features: ['num-077k-thigh.nii.gz-0.500000', 'sum-077k-thigh.nii.gz-0.500000', 'mean-077k-thigh.nii.gz-0.500000', 'std-077k-thigh.nii.gz-0.500000', 'skew-077k-thigh.nii.gz-0.500000', 'kurt-077k-thigh.nii.gz-0.500000', 'hist-0-077k-thigh.nii.gz-0.500000', 'hist-1-077k-thigh.nii.gz-0.500000', 'hist-2-077k-thigh.nii.gz-0.500000', 'hist-3-077k-thigh.nii.gz-0.500000', 'hist-4-077k-thigh.nii.gz-0.500000', 'hist-5-077k-thigh.nii.gz-0.500000', 'hist-6-077k-thigh.nii.gz-0.500000', 'hist-7-077k-thigh.nii.gz-0.500000', 'hist-8-077k-thigh.nii.gz-0.500000', 'hist-9-077k-thigh.nii.gz-0.500000', 'hist-10-077k-thigh.nii.gz-0.500000', 'hist-11-077k-thigh.nii.gz-0.500000', 'hist-12-077k-thigh.nii.gz-0.500000', 'hist-13-077k-thigh.nii.gz-0.500000', 'hist-14-077k-thigh.nii.gz-0.500000', 'hist-15-077k-thigh.nii.gz-0.500000', 'hist-16-077k-thigh.nii.gz-0.500000', 'hist-17-077k-thigh.nii.gz-0.500000', 'hist-18-077k-thigh.nii.gz-0.500000', 'hist-19-077k-thigh.nii.gz-0.500000'] \n",
      "Score: -0.37180839382307074\n"
     ]
    },
    {
     "name": "stderr",
     "output_type": "stream",
     "text": [
      "200it [00:00, 752.01it/s]\n"
     ]
    },
    {
     "name": "stdout",
     "output_type": "stream",
     "text": [
      "1\n",
      "1 0.38196660654588366\n",
      "Objective LinearRegression_Objective:\n"
     ]
    },
    {
     "name": "stderr",
     "output_type": "stream",
     "text": [
      "  6%|█████████████████                                                                                                                                                                                                                                                                | 499/8000 [00:00<00:02, 3060.81it/s]\n"
     ]
    },
    {
     "name": "stdout",
     "output_type": "stream",
     "text": [
      "iterations: 499\n",
      "Number of used features: 26\n",
      "Used features: ['num-077k-thigh.nii.gz-0.500000', 'sum-077k-thigh.nii.gz-0.500000', 'mean-077k-thigh.nii.gz-0.500000', 'std-077k-thigh.nii.gz-0.500000', 'skew-077k-thigh.nii.gz-0.500000', 'kurt-077k-thigh.nii.gz-0.500000', 'hist-0-077k-thigh.nii.gz-0.500000', 'hist-1-077k-thigh.nii.gz-0.500000', 'hist-2-077k-thigh.nii.gz-0.500000', 'hist-3-077k-thigh.nii.gz-0.500000', 'hist-4-077k-thigh.nii.gz-0.500000', 'hist-5-077k-thigh.nii.gz-0.500000', 'hist-6-077k-thigh.nii.gz-0.500000', 'hist-7-077k-thigh.nii.gz-0.500000', 'hist-8-077k-thigh.nii.gz-0.500000', 'hist-9-077k-thigh.nii.gz-0.500000', 'hist-10-077k-thigh.nii.gz-0.500000', 'hist-11-077k-thigh.nii.gz-0.500000', 'hist-12-077k-thigh.nii.gz-0.500000', 'hist-13-077k-thigh.nii.gz-0.500000', 'hist-14-077k-thigh.nii.gz-0.500000', 'hist-15-077k-thigh.nii.gz-0.500000', 'hist-16-077k-thigh.nii.gz-0.500000', 'hist-17-077k-thigh.nii.gz-0.500000', 'hist-18-077k-thigh.nii.gz-0.500000', 'hist-19-077k-thigh.nii.gz-0.500000'] \n",
      "Score: 0.14601007258359533\n"
     ]
    },
    {
     "name": "stderr",
     "output_type": "stream",
     "text": [
      "200it [00:00, 727.62it/s]\n"
     ]
    },
    {
     "name": "stdout",
     "output_type": "stream",
     "text": [
      "1\n",
      "1 0.028174519948803822\n",
      "Objective LassoRegression_Objective:\n"
     ]
    },
    {
     "name": "stderr",
     "output_type": "stream",
     "text": [
      "  6%|█████████████████▍                                                                                                                                                                                                                                                                | 508/8000 [00:02<00:30, 244.94it/s]\n"
     ]
    },
    {
     "name": "stdout",
     "output_type": "stream",
     "text": [
      "iterations: 508\n",
      "Number of used features: 26\n",
      "Used features: ['num-077k-thigh.nii.gz-0.500000', 'sum-077k-thigh.nii.gz-0.500000', 'mean-077k-thigh.nii.gz-0.500000', 'std-077k-thigh.nii.gz-0.500000', 'skew-077k-thigh.nii.gz-0.500000', 'kurt-077k-thigh.nii.gz-0.500000', 'hist-0-077k-thigh.nii.gz-0.500000', 'hist-1-077k-thigh.nii.gz-0.500000', 'hist-2-077k-thigh.nii.gz-0.500000', 'hist-3-077k-thigh.nii.gz-0.500000', 'hist-4-077k-thigh.nii.gz-0.500000', 'hist-5-077k-thigh.nii.gz-0.500000', 'hist-6-077k-thigh.nii.gz-0.500000', 'hist-7-077k-thigh.nii.gz-0.500000', 'hist-8-077k-thigh.nii.gz-0.500000', 'hist-9-077k-thigh.nii.gz-0.500000', 'hist-10-077k-thigh.nii.gz-0.500000', 'hist-11-077k-thigh.nii.gz-0.500000', 'hist-12-077k-thigh.nii.gz-0.500000', 'hist-13-077k-thigh.nii.gz-0.500000', 'hist-14-077k-thigh.nii.gz-0.500000', 'hist-15-077k-thigh.nii.gz-0.500000', 'hist-16-077k-thigh.nii.gz-0.500000', 'hist-17-077k-thigh.nii.gz-0.500000', 'hist-18-077k-thigh.nii.gz-0.500000', 'hist-19-077k-thigh.nii.gz-0.500000'] \n",
      "Score: -0.4678167235330297\n"
     ]
    },
    {
     "name": "stderr",
     "output_type": "stream",
     "text": [
      "200it [00:00, 526.39it/s]\n"
     ]
    },
    {
     "name": "stdout",
     "output_type": "stream",
     "text": [
      "1\n",
      "1 0.4856505572853157\n",
      "Objective RidgeRegression_Objective:\n"
     ]
    },
    {
     "name": "stderr",
     "output_type": "stream",
     "text": [
      "  6%|█████████████████                                                                                                                                                                                                                                                                 | 499/8000 [00:01<00:23, 314.11it/s]\n"
     ]
    },
    {
     "name": "stdout",
     "output_type": "stream",
     "text": [
      "iterations: 499\n",
      "Number of used features: 26\n",
      "Used features: ['num-077k-thigh.nii.gz-0.500000', 'sum-077k-thigh.nii.gz-0.500000', 'mean-077k-thigh.nii.gz-0.500000', 'std-077k-thigh.nii.gz-0.500000', 'skew-077k-thigh.nii.gz-0.500000', 'kurt-077k-thigh.nii.gz-0.500000', 'hist-0-077k-thigh.nii.gz-0.500000', 'hist-1-077k-thigh.nii.gz-0.500000', 'hist-2-077k-thigh.nii.gz-0.500000', 'hist-3-077k-thigh.nii.gz-0.500000', 'hist-4-077k-thigh.nii.gz-0.500000', 'hist-5-077k-thigh.nii.gz-0.500000', 'hist-6-077k-thigh.nii.gz-0.500000', 'hist-7-077k-thigh.nii.gz-0.500000', 'hist-8-077k-thigh.nii.gz-0.500000', 'hist-9-077k-thigh.nii.gz-0.500000', 'hist-10-077k-thigh.nii.gz-0.500000', 'hist-11-077k-thigh.nii.gz-0.500000', 'hist-12-077k-thigh.nii.gz-0.500000', 'hist-13-077k-thigh.nii.gz-0.500000', 'hist-14-077k-thigh.nii.gz-0.500000', 'hist-15-077k-thigh.nii.gz-0.500000', 'hist-16-077k-thigh.nii.gz-0.500000', 'hist-17-077k-thigh.nii.gz-0.500000', 'hist-18-077k-thigh.nii.gz-0.500000', 'hist-19-077k-thigh.nii.gz-0.500000'] \n",
      "Score: -0.4261569082681653\n"
     ]
    },
    {
     "name": "stderr",
     "output_type": "stream",
     "text": [
      "200it [00:00, 566.64it/s]\n"
     ]
    },
    {
     "name": "stdout",
     "output_type": "stream",
     "text": [
      "1\n",
      "1 0.45413467915631955\n",
      "Objective PLSRegression_Objective:\n"
     ]
    },
    {
     "name": "stderr",
     "output_type": "stream",
     "text": [
      "  6%|█████████████████▏                                                                                                                                                                                                                                                                | 502/8000 [00:00<00:07, 968.03it/s]\n"
     ]
    },
    {
     "name": "stdout",
     "output_type": "stream",
     "text": [
      "iterations: 502\n",
      "Number of used features: 26\n",
      "Used features: ['num-077k-thigh.nii.gz-0.500000', 'sum-077k-thigh.nii.gz-0.500000', 'mean-077k-thigh.nii.gz-0.500000', 'std-077k-thigh.nii.gz-0.500000', 'skew-077k-thigh.nii.gz-0.500000', 'kurt-077k-thigh.nii.gz-0.500000', 'hist-0-077k-thigh.nii.gz-0.500000', 'hist-1-077k-thigh.nii.gz-0.500000', 'hist-2-077k-thigh.nii.gz-0.500000', 'hist-3-077k-thigh.nii.gz-0.500000', 'hist-4-077k-thigh.nii.gz-0.500000', 'hist-5-077k-thigh.nii.gz-0.500000', 'hist-6-077k-thigh.nii.gz-0.500000', 'hist-7-077k-thigh.nii.gz-0.500000', 'hist-8-077k-thigh.nii.gz-0.500000', 'hist-9-077k-thigh.nii.gz-0.500000', 'hist-10-077k-thigh.nii.gz-0.500000', 'hist-11-077k-thigh.nii.gz-0.500000', 'hist-12-077k-thigh.nii.gz-0.500000', 'hist-13-077k-thigh.nii.gz-0.500000', 'hist-14-077k-thigh.nii.gz-0.500000', 'hist-15-077k-thigh.nii.gz-0.500000', 'hist-16-077k-thigh.nii.gz-0.500000', 'hist-17-077k-thigh.nii.gz-0.500000', 'hist-18-077k-thigh.nii.gz-0.500000', 'hist-19-077k-thigh.nii.gz-0.500000'] \n",
      "Score: -0.46170357762437453\n"
     ]
    },
    {
     "name": "stderr",
     "output_type": "stream",
     "text": [
      "200it [00:00, 653.53it/s]\n"
     ]
    },
    {
     "name": "stdout",
     "output_type": "stream",
     "text": [
      "1\n",
      "1 0.4769428100763142\n",
      "Objective KNNR_Objective:\n"
     ]
    },
    {
     "name": "stderr",
     "output_type": "stream",
     "text": [
      "  7%|███████████████████▌                                                                                                                                                                                                                                                               | 570/8000 [00:16<03:36, 34.33it/s]\n"
     ]
    },
    {
     "name": "stdout",
     "output_type": "stream",
     "text": [
      "iterations: 570\n",
      "Number of used features: 26\n",
      "Used features: ['num-079k-thigh.nii.gz-0.500000', 'sum-079k-thigh.nii.gz-0.500000', 'mean-079k-thigh.nii.gz-0.500000', 'std-079k-thigh.nii.gz-0.500000', 'skew-079k-thigh.nii.gz-0.500000', 'kurt-079k-thigh.nii.gz-0.500000', 'hist-0-079k-thigh.nii.gz-0.500000', 'hist-1-079k-thigh.nii.gz-0.500000', 'hist-2-079k-thigh.nii.gz-0.500000', 'hist-3-079k-thigh.nii.gz-0.500000', 'hist-4-079k-thigh.nii.gz-0.500000', 'hist-5-079k-thigh.nii.gz-0.500000', 'hist-6-079k-thigh.nii.gz-0.500000', 'hist-7-079k-thigh.nii.gz-0.500000', 'hist-8-079k-thigh.nii.gz-0.500000', 'hist-9-079k-thigh.nii.gz-0.500000', 'hist-10-079k-thigh.nii.gz-0.500000', 'hist-11-079k-thigh.nii.gz-0.500000', 'hist-12-079k-thigh.nii.gz-0.500000', 'hist-13-079k-thigh.nii.gz-0.500000', 'hist-14-079k-thigh.nii.gz-0.500000', 'hist-15-079k-thigh.nii.gz-0.500000', 'hist-16-079k-thigh.nii.gz-0.500000', 'hist-17-079k-thigh.nii.gz-0.500000', 'hist-18-079k-thigh.nii.gz-0.500000', 'hist-19-079k-thigh.nii.gz-0.500000'] \n",
      "Score: -0.3396429290995042\n"
     ]
    },
    {
     "name": "stderr",
     "output_type": "stream",
     "text": [
      "200it [00:00, 756.11it/s]\n"
     ]
    },
    {
     "name": "stdout",
     "output_type": "stream",
     "text": [
      "1\n",
      "1 0.36489791395695614\n",
      "Objective LinearRegression_Objective:\n"
     ]
    },
    {
     "name": "stderr",
     "output_type": "stream",
     "text": [
      "  6%|█████████████████                                                                                                                                                                                                                                                                | 499/8000 [00:00<00:02, 3019.44it/s]\n"
     ]
    },
    {
     "name": "stdout",
     "output_type": "stream",
     "text": [
      "iterations: 499\n",
      "Number of used features: 26\n",
      "Used features: ['num-079k-thigh.nii.gz-0.500000', 'sum-079k-thigh.nii.gz-0.500000', 'mean-079k-thigh.nii.gz-0.500000', 'std-079k-thigh.nii.gz-0.500000', 'skew-079k-thigh.nii.gz-0.500000', 'kurt-079k-thigh.nii.gz-0.500000', 'hist-0-079k-thigh.nii.gz-0.500000', 'hist-1-079k-thigh.nii.gz-0.500000', 'hist-2-079k-thigh.nii.gz-0.500000', 'hist-3-079k-thigh.nii.gz-0.500000', 'hist-4-079k-thigh.nii.gz-0.500000', 'hist-5-079k-thigh.nii.gz-0.500000', 'hist-6-079k-thigh.nii.gz-0.500000', 'hist-7-079k-thigh.nii.gz-0.500000', 'hist-8-079k-thigh.nii.gz-0.500000', 'hist-9-079k-thigh.nii.gz-0.500000', 'hist-10-079k-thigh.nii.gz-0.500000', 'hist-11-079k-thigh.nii.gz-0.500000', 'hist-12-079k-thigh.nii.gz-0.500000', 'hist-13-079k-thigh.nii.gz-0.500000', 'hist-14-079k-thigh.nii.gz-0.500000', 'hist-15-079k-thigh.nii.gz-0.500000', 'hist-16-079k-thigh.nii.gz-0.500000', 'hist-17-079k-thigh.nii.gz-0.500000', 'hist-18-079k-thigh.nii.gz-0.500000', 'hist-19-079k-thigh.nii.gz-0.500000'] \n",
      "Score: 0.8284163165931995\n"
     ]
    },
    {
     "name": "stderr",
     "output_type": "stream",
     "text": [
      "200it [00:00, 710.78it/s]\n"
     ]
    },
    {
     "name": "stdout",
     "output_type": "stream",
     "text": [
      "1\n",
      "1 -0.10782971040101486\n",
      "Objective LassoRegression_Objective:\n"
     ]
    },
    {
     "name": "stderr",
     "output_type": "stream",
     "text": [
      "  7%|█████████████████▉                                                                                                                                                                                                                                                                | 525/8000 [00:02<00:30, 247.58it/s]\n"
     ]
    },
    {
     "name": "stdout",
     "output_type": "stream",
     "text": [
      "iterations: 525\n",
      "Number of used features: 26\n",
      "Used features: ['num-079k-thigh.nii.gz-0.500000', 'sum-079k-thigh.nii.gz-0.500000', 'mean-079k-thigh.nii.gz-0.500000', 'std-079k-thigh.nii.gz-0.500000', 'skew-079k-thigh.nii.gz-0.500000', 'kurt-079k-thigh.nii.gz-0.500000', 'hist-0-079k-thigh.nii.gz-0.500000', 'hist-1-079k-thigh.nii.gz-0.500000', 'hist-2-079k-thigh.nii.gz-0.500000', 'hist-3-079k-thigh.nii.gz-0.500000', 'hist-4-079k-thigh.nii.gz-0.500000', 'hist-5-079k-thigh.nii.gz-0.500000', 'hist-6-079k-thigh.nii.gz-0.500000', 'hist-7-079k-thigh.nii.gz-0.500000', 'hist-8-079k-thigh.nii.gz-0.500000', 'hist-9-079k-thigh.nii.gz-0.500000', 'hist-10-079k-thigh.nii.gz-0.500000', 'hist-11-079k-thigh.nii.gz-0.500000', 'hist-12-079k-thigh.nii.gz-0.500000', 'hist-13-079k-thigh.nii.gz-0.500000', 'hist-14-079k-thigh.nii.gz-0.500000', 'hist-15-079k-thigh.nii.gz-0.500000', 'hist-16-079k-thigh.nii.gz-0.500000', 'hist-17-079k-thigh.nii.gz-0.500000', 'hist-18-079k-thigh.nii.gz-0.500000', 'hist-19-079k-thigh.nii.gz-0.500000'] \n",
      "Score: -0.31031151830987946\n"
     ]
    },
    {
     "name": "stderr",
     "output_type": "stream",
     "text": [
      "200it [00:00, 455.82it/s]\n"
     ]
    },
    {
     "name": "stdout",
     "output_type": "stream",
     "text": [
      "1\n",
      "1 0.3626682595273505\n",
      "Objective RidgeRegression_Objective:\n"
     ]
    },
    {
     "name": "stderr",
     "output_type": "stream",
     "text": [
      "  6%|█████████████████▏                                                                                                                                                                                                                                                                | 500/8000 [00:01<00:24, 310.27it/s]\n"
     ]
    },
    {
     "name": "stdout",
     "output_type": "stream",
     "text": [
      "iterations: 500\n",
      "Number of used features: 26\n",
      "Used features: ['num-079k-thigh.nii.gz-0.500000', 'sum-079k-thigh.nii.gz-0.500000', 'mean-079k-thigh.nii.gz-0.500000', 'std-079k-thigh.nii.gz-0.500000', 'skew-079k-thigh.nii.gz-0.500000', 'kurt-079k-thigh.nii.gz-0.500000', 'hist-0-079k-thigh.nii.gz-0.500000', 'hist-1-079k-thigh.nii.gz-0.500000', 'hist-2-079k-thigh.nii.gz-0.500000', 'hist-3-079k-thigh.nii.gz-0.500000', 'hist-4-079k-thigh.nii.gz-0.500000', 'hist-5-079k-thigh.nii.gz-0.500000', 'hist-6-079k-thigh.nii.gz-0.500000', 'hist-7-079k-thigh.nii.gz-0.500000', 'hist-8-079k-thigh.nii.gz-0.500000', 'hist-9-079k-thigh.nii.gz-0.500000', 'hist-10-079k-thigh.nii.gz-0.500000', 'hist-11-079k-thigh.nii.gz-0.500000', 'hist-12-079k-thigh.nii.gz-0.500000', 'hist-13-079k-thigh.nii.gz-0.500000', 'hist-14-079k-thigh.nii.gz-0.500000', 'hist-15-079k-thigh.nii.gz-0.500000', 'hist-16-079k-thigh.nii.gz-0.500000', 'hist-17-079k-thigh.nii.gz-0.500000', 'hist-18-079k-thigh.nii.gz-0.500000', 'hist-19-079k-thigh.nii.gz-0.500000'] \n",
      "Score: -0.4264500313651606\n"
     ]
    },
    {
     "name": "stderr",
     "output_type": "stream",
     "text": [
      "200it [00:00, 568.96it/s]\n"
     ]
    },
    {
     "name": "stdout",
     "output_type": "stream",
     "text": [
      "1\n",
      "1 0.47271658213312573\n",
      "Objective PLSRegression_Objective:\n"
     ]
    },
    {
     "name": "stderr",
     "output_type": "stream",
     "text": [
      "  6%|█████████████████                                                                                                                                                                                                                                                                 | 499/8000 [00:00<00:07, 952.28it/s]\n"
     ]
    },
    {
     "name": "stdout",
     "output_type": "stream",
     "text": [
      "iterations: 499\n",
      "Number of used features: 26\n",
      "Used features: ['num-079k-thigh.nii.gz-0.500000', 'sum-079k-thigh.nii.gz-0.500000', 'mean-079k-thigh.nii.gz-0.500000', 'std-079k-thigh.nii.gz-0.500000', 'skew-079k-thigh.nii.gz-0.500000', 'kurt-079k-thigh.nii.gz-0.500000', 'hist-0-079k-thigh.nii.gz-0.500000', 'hist-1-079k-thigh.nii.gz-0.500000', 'hist-2-079k-thigh.nii.gz-0.500000', 'hist-3-079k-thigh.nii.gz-0.500000', 'hist-4-079k-thigh.nii.gz-0.500000', 'hist-5-079k-thigh.nii.gz-0.500000', 'hist-6-079k-thigh.nii.gz-0.500000', 'hist-7-079k-thigh.nii.gz-0.500000', 'hist-8-079k-thigh.nii.gz-0.500000', 'hist-9-079k-thigh.nii.gz-0.500000', 'hist-10-079k-thigh.nii.gz-0.500000', 'hist-11-079k-thigh.nii.gz-0.500000', 'hist-12-079k-thigh.nii.gz-0.500000', 'hist-13-079k-thigh.nii.gz-0.500000', 'hist-14-079k-thigh.nii.gz-0.500000', 'hist-15-079k-thigh.nii.gz-0.500000', 'hist-16-079k-thigh.nii.gz-0.500000', 'hist-17-079k-thigh.nii.gz-0.500000', 'hist-18-079k-thigh.nii.gz-0.500000', 'hist-19-079k-thigh.nii.gz-0.500000'] \n",
      "Score: -0.39612169148245757\n"
     ]
    },
    {
     "name": "stderr",
     "output_type": "stream",
     "text": [
      "200it [00:00, 609.62it/s]\n"
     ]
    },
    {
     "name": "stdout",
     "output_type": "stream",
     "text": [
      "1\n",
      "1 0.4341714275005769\n",
      "Objective KNNR_Objective:\n"
     ]
    },
    {
     "name": "stderr",
     "output_type": "stream",
     "text": [
      "  9%|████████████████████████▊                                                                                                                                                                                                                                                          | 720/8000 [00:17<02:55, 41.51it/s]\n"
     ]
    },
    {
     "name": "stdout",
     "output_type": "stream",
     "text": [
      "iterations: 720\n",
      "Number of used features: 26\n",
      "Used features: ['num-080k-thigh.nii.gz-0.500000', 'sum-080k-thigh.nii.gz-0.500000', 'mean-080k-thigh.nii.gz-0.500000', 'std-080k-thigh.nii.gz-0.500000', 'skew-080k-thigh.nii.gz-0.500000', 'kurt-080k-thigh.nii.gz-0.500000', 'hist-0-080k-thigh.nii.gz-0.500000', 'hist-1-080k-thigh.nii.gz-0.500000', 'hist-2-080k-thigh.nii.gz-0.500000', 'hist-3-080k-thigh.nii.gz-0.500000', 'hist-4-080k-thigh.nii.gz-0.500000', 'hist-5-080k-thigh.nii.gz-0.500000', 'hist-6-080k-thigh.nii.gz-0.500000', 'hist-7-080k-thigh.nii.gz-0.500000', 'hist-8-080k-thigh.nii.gz-0.500000', 'hist-9-080k-thigh.nii.gz-0.500000', 'hist-10-080k-thigh.nii.gz-0.500000', 'hist-11-080k-thigh.nii.gz-0.500000', 'hist-12-080k-thigh.nii.gz-0.500000', 'hist-13-080k-thigh.nii.gz-0.500000', 'hist-14-080k-thigh.nii.gz-0.500000', 'hist-15-080k-thigh.nii.gz-0.500000', 'hist-16-080k-thigh.nii.gz-0.500000', 'hist-17-080k-thigh.nii.gz-0.500000', 'hist-18-080k-thigh.nii.gz-0.500000', 'hist-19-080k-thigh.nii.gz-0.500000'] \n",
      "Score: -0.3716108160703109\n"
     ]
    },
    {
     "name": "stderr",
     "output_type": "stream",
     "text": [
      "200it [00:00, 765.96it/s]\n"
     ]
    },
    {
     "name": "stdout",
     "output_type": "stream",
     "text": [
      "1\n",
      "1 0.39307028007911626\n",
      "Objective LinearRegression_Objective:\n"
     ]
    },
    {
     "name": "stderr",
     "output_type": "stream",
     "text": [
      "  6%|█████████████████                                                                                                                                                                                                                                                                | 499/8000 [00:00<00:02, 3051.15it/s]\n"
     ]
    },
    {
     "name": "stdout",
     "output_type": "stream",
     "text": [
      "iterations: 499\n",
      "Number of used features: 26\n",
      "Used features: ['num-080k-thigh.nii.gz-0.500000', 'sum-080k-thigh.nii.gz-0.500000', 'mean-080k-thigh.nii.gz-0.500000', 'std-080k-thigh.nii.gz-0.500000', 'skew-080k-thigh.nii.gz-0.500000', 'kurt-080k-thigh.nii.gz-0.500000', 'hist-0-080k-thigh.nii.gz-0.500000', 'hist-1-080k-thigh.nii.gz-0.500000', 'hist-2-080k-thigh.nii.gz-0.500000', 'hist-3-080k-thigh.nii.gz-0.500000', 'hist-4-080k-thigh.nii.gz-0.500000', 'hist-5-080k-thigh.nii.gz-0.500000', 'hist-6-080k-thigh.nii.gz-0.500000', 'hist-7-080k-thigh.nii.gz-0.500000', 'hist-8-080k-thigh.nii.gz-0.500000', 'hist-9-080k-thigh.nii.gz-0.500000', 'hist-10-080k-thigh.nii.gz-0.500000', 'hist-11-080k-thigh.nii.gz-0.500000', 'hist-12-080k-thigh.nii.gz-0.500000', 'hist-13-080k-thigh.nii.gz-0.500000', 'hist-14-080k-thigh.nii.gz-0.500000', 'hist-15-080k-thigh.nii.gz-0.500000', 'hist-16-080k-thigh.nii.gz-0.500000', 'hist-17-080k-thigh.nii.gz-0.500000', 'hist-18-080k-thigh.nii.gz-0.500000', 'hist-19-080k-thigh.nii.gz-0.500000'] \n",
      "Score: 0.03994355672829397\n"
     ]
    },
    {
     "name": "stderr",
     "output_type": "stream",
     "text": [
      "200it [00:00, 718.97it/s]\n"
     ]
    },
    {
     "name": "stdout",
     "output_type": "stream",
     "text": [
      "1\n",
      "1 0.21176804079077893\n",
      "Objective LassoRegression_Objective:\n"
     ]
    },
    {
     "name": "stderr",
     "output_type": "stream",
     "text": [
      "  7%|██████████████████▉                                                                                                                                                                                                                                                               | 552/8000 [00:02<00:28, 260.52it/s]\n"
     ]
    },
    {
     "name": "stdout",
     "output_type": "stream",
     "text": [
      "iterations: 552\n",
      "Number of used features: 26\n",
      "Used features: ['num-080k-thigh.nii.gz-0.500000', 'sum-080k-thigh.nii.gz-0.500000', 'mean-080k-thigh.nii.gz-0.500000', 'std-080k-thigh.nii.gz-0.500000', 'skew-080k-thigh.nii.gz-0.500000', 'kurt-080k-thigh.nii.gz-0.500000', 'hist-0-080k-thigh.nii.gz-0.500000', 'hist-1-080k-thigh.nii.gz-0.500000', 'hist-2-080k-thigh.nii.gz-0.500000', 'hist-3-080k-thigh.nii.gz-0.500000', 'hist-4-080k-thigh.nii.gz-0.500000', 'hist-5-080k-thigh.nii.gz-0.500000', 'hist-6-080k-thigh.nii.gz-0.500000', 'hist-7-080k-thigh.nii.gz-0.500000', 'hist-8-080k-thigh.nii.gz-0.500000', 'hist-9-080k-thigh.nii.gz-0.500000', 'hist-10-080k-thigh.nii.gz-0.500000', 'hist-11-080k-thigh.nii.gz-0.500000', 'hist-12-080k-thigh.nii.gz-0.500000', 'hist-13-080k-thigh.nii.gz-0.500000', 'hist-14-080k-thigh.nii.gz-0.500000', 'hist-15-080k-thigh.nii.gz-0.500000', 'hist-16-080k-thigh.nii.gz-0.500000', 'hist-17-080k-thigh.nii.gz-0.500000', 'hist-18-080k-thigh.nii.gz-0.500000', 'hist-19-080k-thigh.nii.gz-0.500000'] \n",
      "Score: -0.4286923331710307\n"
     ]
    },
    {
     "name": "stderr",
     "output_type": "stream",
     "text": [
      "200it [00:00, 415.55it/s]\n"
     ]
    },
    {
     "name": "stdout",
     "output_type": "stream",
     "text": [
      "1\n",
      "1 0.4788289848982279\n",
      "Objective RidgeRegression_Objective:\n"
     ]
    },
    {
     "name": "stderr",
     "output_type": "stream",
     "text": [
      "  6%|█████████████████▍                                                                                                                                                                                                                                                                | 508/8000 [00:01<00:23, 320.91it/s]\n"
     ]
    },
    {
     "name": "stdout",
     "output_type": "stream",
     "text": [
      "iterations: 508\n",
      "Number of used features: 26\n",
      "Used features: ['num-080k-thigh.nii.gz-0.500000', 'sum-080k-thigh.nii.gz-0.500000', 'mean-080k-thigh.nii.gz-0.500000', 'std-080k-thigh.nii.gz-0.500000', 'skew-080k-thigh.nii.gz-0.500000', 'kurt-080k-thigh.nii.gz-0.500000', 'hist-0-080k-thigh.nii.gz-0.500000', 'hist-1-080k-thigh.nii.gz-0.500000', 'hist-2-080k-thigh.nii.gz-0.500000', 'hist-3-080k-thigh.nii.gz-0.500000', 'hist-4-080k-thigh.nii.gz-0.500000', 'hist-5-080k-thigh.nii.gz-0.500000', 'hist-6-080k-thigh.nii.gz-0.500000', 'hist-7-080k-thigh.nii.gz-0.500000', 'hist-8-080k-thigh.nii.gz-0.500000', 'hist-9-080k-thigh.nii.gz-0.500000', 'hist-10-080k-thigh.nii.gz-0.500000', 'hist-11-080k-thigh.nii.gz-0.500000', 'hist-12-080k-thigh.nii.gz-0.500000', 'hist-13-080k-thigh.nii.gz-0.500000', 'hist-14-080k-thigh.nii.gz-0.500000', 'hist-15-080k-thigh.nii.gz-0.500000', 'hist-16-080k-thigh.nii.gz-0.500000', 'hist-17-080k-thigh.nii.gz-0.500000', 'hist-18-080k-thigh.nii.gz-0.500000', 'hist-19-080k-thigh.nii.gz-0.500000'] \n",
      "Score: -0.4873263621794809\n"
     ]
    },
    {
     "name": "stderr",
     "output_type": "stream",
     "text": [
      "200it [00:00, 570.26it/s]\n"
     ]
    },
    {
     "name": "stdout",
     "output_type": "stream",
     "text": [
      "1\n",
      "1 0.5211450831020084\n",
      "Objective PLSRegression_Objective:\n"
     ]
    },
    {
     "name": "stderr",
     "output_type": "stream",
     "text": [
      "  6%|█████████████████                                                                                                                                                                                                                                                                 | 499/8000 [00:00<00:07, 960.29it/s]\n"
     ]
    },
    {
     "name": "stdout",
     "output_type": "stream",
     "text": [
      "iterations: 499\n",
      "Number of used features: 26\n",
      "Used features: ['num-080k-thigh.nii.gz-0.500000', 'sum-080k-thigh.nii.gz-0.500000', 'mean-080k-thigh.nii.gz-0.500000', 'std-080k-thigh.nii.gz-0.500000', 'skew-080k-thigh.nii.gz-0.500000', 'kurt-080k-thigh.nii.gz-0.500000', 'hist-0-080k-thigh.nii.gz-0.500000', 'hist-1-080k-thigh.nii.gz-0.500000', 'hist-2-080k-thigh.nii.gz-0.500000', 'hist-3-080k-thigh.nii.gz-0.500000', 'hist-4-080k-thigh.nii.gz-0.500000', 'hist-5-080k-thigh.nii.gz-0.500000', 'hist-6-080k-thigh.nii.gz-0.500000', 'hist-7-080k-thigh.nii.gz-0.500000', 'hist-8-080k-thigh.nii.gz-0.500000', 'hist-9-080k-thigh.nii.gz-0.500000', 'hist-10-080k-thigh.nii.gz-0.500000', 'hist-11-080k-thigh.nii.gz-0.500000', 'hist-12-080k-thigh.nii.gz-0.500000', 'hist-13-080k-thigh.nii.gz-0.500000', 'hist-14-080k-thigh.nii.gz-0.500000', 'hist-15-080k-thigh.nii.gz-0.500000', 'hist-16-080k-thigh.nii.gz-0.500000', 'hist-17-080k-thigh.nii.gz-0.500000', 'hist-18-080k-thigh.nii.gz-0.500000', 'hist-19-080k-thigh.nii.gz-0.500000'] \n",
      "Score: -0.434678681698215\n"
     ]
    },
    {
     "name": "stderr",
     "output_type": "stream",
     "text": [
      "200it [00:00, 624.84it/s]\n"
     ]
    },
    {
     "name": "stdout",
     "output_type": "stream",
     "text": [
      "1\n",
      "1 0.4422581919948866\n",
      "Objective KNNR_Objective:\n"
     ]
    },
    {
     "name": "stderr",
     "output_type": "stream",
     "text": [
      "  7%|███████████████████▌                                                                                                                                                                                                                                                               | 570/8000 [00:16<03:29, 35.39it/s]\n"
     ]
    },
    {
     "name": "stdout",
     "output_type": "stream",
     "text": [
      "iterations: 570\n",
      "Number of used features: 26\n",
      "Used features: ['num-082k-thigh.nii.gz-0.500000', 'sum-082k-thigh.nii.gz-0.500000', 'mean-082k-thigh.nii.gz-0.500000', 'std-082k-thigh.nii.gz-0.500000', 'skew-082k-thigh.nii.gz-0.500000', 'kurt-082k-thigh.nii.gz-0.500000', 'hist-0-082k-thigh.nii.gz-0.500000', 'hist-1-082k-thigh.nii.gz-0.500000', 'hist-2-082k-thigh.nii.gz-0.500000', 'hist-3-082k-thigh.nii.gz-0.500000', 'hist-4-082k-thigh.nii.gz-0.500000', 'hist-5-082k-thigh.nii.gz-0.500000', 'hist-6-082k-thigh.nii.gz-0.500000', 'hist-7-082k-thigh.nii.gz-0.500000', 'hist-8-082k-thigh.nii.gz-0.500000', 'hist-9-082k-thigh.nii.gz-0.500000', 'hist-10-082k-thigh.nii.gz-0.500000', 'hist-11-082k-thigh.nii.gz-0.500000', 'hist-12-082k-thigh.nii.gz-0.500000', 'hist-13-082k-thigh.nii.gz-0.500000', 'hist-14-082k-thigh.nii.gz-0.500000', 'hist-15-082k-thigh.nii.gz-0.500000', 'hist-16-082k-thigh.nii.gz-0.500000', 'hist-17-082k-thigh.nii.gz-0.500000', 'hist-18-082k-thigh.nii.gz-0.500000', 'hist-19-082k-thigh.nii.gz-0.500000'] \n",
      "Score: -0.34424134247747606\n"
     ]
    },
    {
     "name": "stderr",
     "output_type": "stream",
     "text": [
      "200it [00:00, 797.52it/s]\n"
     ]
    },
    {
     "name": "stdout",
     "output_type": "stream",
     "text": [
      "1\n",
      "1 0.35551668601459707\n",
      "Objective LinearRegression_Objective:\n"
     ]
    },
    {
     "name": "stderr",
     "output_type": "stream",
     "text": [
      "  6%|█████████████████                                                                                                                                                                                                                                                                | 499/8000 [00:00<00:02, 3089.73it/s]\n"
     ]
    },
    {
     "name": "stdout",
     "output_type": "stream",
     "text": [
      "iterations: 499\n",
      "Number of used features: 26\n",
      "Used features: ['num-082k-thigh.nii.gz-0.500000', 'sum-082k-thigh.nii.gz-0.500000', 'mean-082k-thigh.nii.gz-0.500000', 'std-082k-thigh.nii.gz-0.500000', 'skew-082k-thigh.nii.gz-0.500000', 'kurt-082k-thigh.nii.gz-0.500000', 'hist-0-082k-thigh.nii.gz-0.500000', 'hist-1-082k-thigh.nii.gz-0.500000', 'hist-2-082k-thigh.nii.gz-0.500000', 'hist-3-082k-thigh.nii.gz-0.500000', 'hist-4-082k-thigh.nii.gz-0.500000', 'hist-5-082k-thigh.nii.gz-0.500000', 'hist-6-082k-thigh.nii.gz-0.500000', 'hist-7-082k-thigh.nii.gz-0.500000', 'hist-8-082k-thigh.nii.gz-0.500000', 'hist-9-082k-thigh.nii.gz-0.500000', 'hist-10-082k-thigh.nii.gz-0.500000', 'hist-11-082k-thigh.nii.gz-0.500000', 'hist-12-082k-thigh.nii.gz-0.500000', 'hist-13-082k-thigh.nii.gz-0.500000', 'hist-14-082k-thigh.nii.gz-0.500000', 'hist-15-082k-thigh.nii.gz-0.500000', 'hist-16-082k-thigh.nii.gz-0.500000', 'hist-17-082k-thigh.nii.gz-0.500000', 'hist-18-082k-thigh.nii.gz-0.500000', 'hist-19-082k-thigh.nii.gz-0.500000'] \n",
      "Score: 0.20715012314002124\n"
     ]
    },
    {
     "name": "stderr",
     "output_type": "stream",
     "text": [
      "200it [00:00, 730.23it/s]\n"
     ]
    },
    {
     "name": "stdout",
     "output_type": "stream",
     "text": [
      "1\n",
      "1 -0.024203063348883447\n",
      "Objective LassoRegression_Objective:\n"
     ]
    },
    {
     "name": "stderr",
     "output_type": "stream",
     "text": [
      "  7%|█████████████████▉                                                                                                                                                                                                                                                                | 525/8000 [00:02<00:29, 252.34it/s]\n"
     ]
    },
    {
     "name": "stdout",
     "output_type": "stream",
     "text": [
      "iterations: 525\n",
      "Number of used features: 26\n",
      "Used features: ['num-082k-thigh.nii.gz-0.500000', 'sum-082k-thigh.nii.gz-0.500000', 'mean-082k-thigh.nii.gz-0.500000', 'std-082k-thigh.nii.gz-0.500000', 'skew-082k-thigh.nii.gz-0.500000', 'kurt-082k-thigh.nii.gz-0.500000', 'hist-0-082k-thigh.nii.gz-0.500000', 'hist-1-082k-thigh.nii.gz-0.500000', 'hist-2-082k-thigh.nii.gz-0.500000', 'hist-3-082k-thigh.nii.gz-0.500000', 'hist-4-082k-thigh.nii.gz-0.500000', 'hist-5-082k-thigh.nii.gz-0.500000', 'hist-6-082k-thigh.nii.gz-0.500000', 'hist-7-082k-thigh.nii.gz-0.500000', 'hist-8-082k-thigh.nii.gz-0.500000', 'hist-9-082k-thigh.nii.gz-0.500000', 'hist-10-082k-thigh.nii.gz-0.500000', 'hist-11-082k-thigh.nii.gz-0.500000', 'hist-12-082k-thigh.nii.gz-0.500000', 'hist-13-082k-thigh.nii.gz-0.500000', 'hist-14-082k-thigh.nii.gz-0.500000', 'hist-15-082k-thigh.nii.gz-0.500000', 'hist-16-082k-thigh.nii.gz-0.500000', 'hist-17-082k-thigh.nii.gz-0.500000', 'hist-18-082k-thigh.nii.gz-0.500000', 'hist-19-082k-thigh.nii.gz-0.500000'] \n",
      "Score: -0.3681470899877912\n"
     ]
    },
    {
     "name": "stderr",
     "output_type": "stream",
     "text": [
      "200it [00:00, 462.36it/s]\n"
     ]
    },
    {
     "name": "stdout",
     "output_type": "stream",
     "text": [
      "1\n",
      "1 0.44356643111339056\n",
      "Objective RidgeRegression_Objective:\n"
     ]
    },
    {
     "name": "stderr",
     "output_type": "stream",
     "text": [
      "  6%|█████████████████                                                                                                                                                                                                                                                                 | 499/8000 [00:01<00:23, 315.84it/s]\n"
     ]
    },
    {
     "name": "stdout",
     "output_type": "stream",
     "text": [
      "iterations: 499\n",
      "Number of used features: 26\n",
      "Used features: ['num-082k-thigh.nii.gz-0.500000', 'sum-082k-thigh.nii.gz-0.500000', 'mean-082k-thigh.nii.gz-0.500000', 'std-082k-thigh.nii.gz-0.500000', 'skew-082k-thigh.nii.gz-0.500000', 'kurt-082k-thigh.nii.gz-0.500000', 'hist-0-082k-thigh.nii.gz-0.500000', 'hist-1-082k-thigh.nii.gz-0.500000', 'hist-2-082k-thigh.nii.gz-0.500000', 'hist-3-082k-thigh.nii.gz-0.500000', 'hist-4-082k-thigh.nii.gz-0.500000', 'hist-5-082k-thigh.nii.gz-0.500000', 'hist-6-082k-thigh.nii.gz-0.500000', 'hist-7-082k-thigh.nii.gz-0.500000', 'hist-8-082k-thigh.nii.gz-0.500000', 'hist-9-082k-thigh.nii.gz-0.500000', 'hist-10-082k-thigh.nii.gz-0.500000', 'hist-11-082k-thigh.nii.gz-0.500000', 'hist-12-082k-thigh.nii.gz-0.500000', 'hist-13-082k-thigh.nii.gz-0.500000', 'hist-14-082k-thigh.nii.gz-0.500000', 'hist-15-082k-thigh.nii.gz-0.500000', 'hist-16-082k-thigh.nii.gz-0.500000', 'hist-17-082k-thigh.nii.gz-0.500000', 'hist-18-082k-thigh.nii.gz-0.500000', 'hist-19-082k-thigh.nii.gz-0.500000'] \n",
      "Score: -0.4155011496794889\n"
     ]
    },
    {
     "name": "stderr",
     "output_type": "stream",
     "text": [
      "200it [00:00, 573.82it/s]\n"
     ]
    },
    {
     "name": "stdout",
     "output_type": "stream",
     "text": [
      "1\n",
      "1 0.4598462080264467\n",
      "Objective PLSRegression_Objective:\n"
     ]
    },
    {
     "name": "stderr",
     "output_type": "stream",
     "text": [
      "  6%|█████████████████▎                                                                                                                                                                                                                                                                | 507/8000 [00:00<00:07, 973.27it/s]\n"
     ]
    },
    {
     "name": "stdout",
     "output_type": "stream",
     "text": [
      "iterations: 507\n",
      "Number of used features: 26\n",
      "Used features: ['num-082k-thigh.nii.gz-0.500000', 'sum-082k-thigh.nii.gz-0.500000', 'mean-082k-thigh.nii.gz-0.500000', 'std-082k-thigh.nii.gz-0.500000', 'skew-082k-thigh.nii.gz-0.500000', 'kurt-082k-thigh.nii.gz-0.500000', 'hist-0-082k-thigh.nii.gz-0.500000', 'hist-1-082k-thigh.nii.gz-0.500000', 'hist-2-082k-thigh.nii.gz-0.500000', 'hist-3-082k-thigh.nii.gz-0.500000', 'hist-4-082k-thigh.nii.gz-0.500000', 'hist-5-082k-thigh.nii.gz-0.500000', 'hist-6-082k-thigh.nii.gz-0.500000', 'hist-7-082k-thigh.nii.gz-0.500000', 'hist-8-082k-thigh.nii.gz-0.500000', 'hist-9-082k-thigh.nii.gz-0.500000', 'hist-10-082k-thigh.nii.gz-0.500000', 'hist-11-082k-thigh.nii.gz-0.500000', 'hist-12-082k-thigh.nii.gz-0.500000', 'hist-13-082k-thigh.nii.gz-0.500000', 'hist-14-082k-thigh.nii.gz-0.500000', 'hist-15-082k-thigh.nii.gz-0.500000', 'hist-16-082k-thigh.nii.gz-0.500000', 'hist-17-082k-thigh.nii.gz-0.500000', 'hist-18-082k-thigh.nii.gz-0.500000', 'hist-19-082k-thigh.nii.gz-0.500000'] \n",
      "Score: -0.3808930105259989\n"
     ]
    },
    {
     "name": "stderr",
     "output_type": "stream",
     "text": [
      "200it [00:00, 599.43it/s]\n"
     ]
    },
    {
     "name": "stdout",
     "output_type": "stream",
     "text": [
      "1\n",
      "1 0.43292327913758255\n",
      "Objective KNNR_Objective:\n"
     ]
    },
    {
     "name": "stderr",
     "output_type": "stream",
     "text": [
      "  6%|█████████████████▊                                                                                                                                                                                                                                                                 | 517/8000 [00:15<03:40, 33.95it/s]\n"
     ]
    },
    {
     "name": "stdout",
     "output_type": "stream",
     "text": [
      "iterations: 517\n",
      "Number of used features: 26\n",
      "Used features: ['num-083a-thigh.nii.gz-0.500000', 'sum-083a-thigh.nii.gz-0.500000', 'mean-083a-thigh.nii.gz-0.500000', 'std-083a-thigh.nii.gz-0.500000', 'skew-083a-thigh.nii.gz-0.500000', 'kurt-083a-thigh.nii.gz-0.500000', 'hist-0-083a-thigh.nii.gz-0.500000', 'hist-1-083a-thigh.nii.gz-0.500000', 'hist-2-083a-thigh.nii.gz-0.500000', 'hist-3-083a-thigh.nii.gz-0.500000', 'hist-4-083a-thigh.nii.gz-0.500000', 'hist-5-083a-thigh.nii.gz-0.500000', 'hist-6-083a-thigh.nii.gz-0.500000', 'hist-7-083a-thigh.nii.gz-0.500000', 'hist-8-083a-thigh.nii.gz-0.500000', 'hist-9-083a-thigh.nii.gz-0.500000', 'hist-10-083a-thigh.nii.gz-0.500000', 'hist-11-083a-thigh.nii.gz-0.500000', 'hist-12-083a-thigh.nii.gz-0.500000', 'hist-13-083a-thigh.nii.gz-0.500000', 'hist-14-083a-thigh.nii.gz-0.500000', 'hist-15-083a-thigh.nii.gz-0.500000', 'hist-16-083a-thigh.nii.gz-0.500000', 'hist-17-083a-thigh.nii.gz-0.500000', 'hist-18-083a-thigh.nii.gz-0.500000', 'hist-19-083a-thigh.nii.gz-0.500000'] \n",
      "Score: -0.17885411990588607\n"
     ]
    },
    {
     "name": "stderr",
     "output_type": "stream",
     "text": [
      "200it [00:00, 777.88it/s]\n"
     ]
    },
    {
     "name": "stdout",
     "output_type": "stream",
     "text": [
      "1\n",
      "1 0.20629923125278482\n",
      "Objective LinearRegression_Objective:\n"
     ]
    },
    {
     "name": "stderr",
     "output_type": "stream",
     "text": [
      "  6%|█████████████████                                                                                                                                                                                                                                                                | 499/8000 [00:00<00:02, 3155.50it/s]\n"
     ]
    },
    {
     "name": "stdout",
     "output_type": "stream",
     "text": [
      "iterations: 499\n",
      "Number of used features: 26\n",
      "Used features: ['num-083a-thigh.nii.gz-0.500000', 'sum-083a-thigh.nii.gz-0.500000', 'mean-083a-thigh.nii.gz-0.500000', 'std-083a-thigh.nii.gz-0.500000', 'skew-083a-thigh.nii.gz-0.500000', 'kurt-083a-thigh.nii.gz-0.500000', 'hist-0-083a-thigh.nii.gz-0.500000', 'hist-1-083a-thigh.nii.gz-0.500000', 'hist-2-083a-thigh.nii.gz-0.500000', 'hist-3-083a-thigh.nii.gz-0.500000', 'hist-4-083a-thigh.nii.gz-0.500000', 'hist-5-083a-thigh.nii.gz-0.500000', 'hist-6-083a-thigh.nii.gz-0.500000', 'hist-7-083a-thigh.nii.gz-0.500000', 'hist-8-083a-thigh.nii.gz-0.500000', 'hist-9-083a-thigh.nii.gz-0.500000', 'hist-10-083a-thigh.nii.gz-0.500000', 'hist-11-083a-thigh.nii.gz-0.500000', 'hist-12-083a-thigh.nii.gz-0.500000', 'hist-13-083a-thigh.nii.gz-0.500000', 'hist-14-083a-thigh.nii.gz-0.500000', 'hist-15-083a-thigh.nii.gz-0.500000', 'hist-16-083a-thigh.nii.gz-0.500000', 'hist-17-083a-thigh.nii.gz-0.500000', 'hist-18-083a-thigh.nii.gz-0.500000', 'hist-19-083a-thigh.nii.gz-0.500000'] \n",
      "Score: 0.9765116952499262\n"
     ]
    },
    {
     "name": "stderr",
     "output_type": "stream",
     "text": [
      "200it [00:00, 736.64it/s]\n"
     ]
    },
    {
     "name": "stdout",
     "output_type": "stream",
     "text": [
      "1\n",
      "1 -0.6937013087117796\n",
      "Objective LassoRegression_Objective:\n"
     ]
    },
    {
     "name": "stderr",
     "output_type": "stream",
     "text": [
      "  6%|█████████████████▍                                                                                                                                                                                                                                                                | 508/8000 [00:02<00:31, 238.31it/s]\n"
     ]
    },
    {
     "name": "stdout",
     "output_type": "stream",
     "text": [
      "iterations: 508\n",
      "Number of used features: 26\n",
      "Used features: ['num-083a-thigh.nii.gz-0.500000', 'sum-083a-thigh.nii.gz-0.500000', 'mean-083a-thigh.nii.gz-0.500000', 'std-083a-thigh.nii.gz-0.500000', 'skew-083a-thigh.nii.gz-0.500000', 'kurt-083a-thigh.nii.gz-0.500000', 'hist-0-083a-thigh.nii.gz-0.500000', 'hist-1-083a-thigh.nii.gz-0.500000', 'hist-2-083a-thigh.nii.gz-0.500000', 'hist-3-083a-thigh.nii.gz-0.500000', 'hist-4-083a-thigh.nii.gz-0.500000', 'hist-5-083a-thigh.nii.gz-0.500000', 'hist-6-083a-thigh.nii.gz-0.500000', 'hist-7-083a-thigh.nii.gz-0.500000', 'hist-8-083a-thigh.nii.gz-0.500000', 'hist-9-083a-thigh.nii.gz-0.500000', 'hist-10-083a-thigh.nii.gz-0.500000', 'hist-11-083a-thigh.nii.gz-0.500000', 'hist-12-083a-thigh.nii.gz-0.500000', 'hist-13-083a-thigh.nii.gz-0.500000', 'hist-14-083a-thigh.nii.gz-0.500000', 'hist-15-083a-thigh.nii.gz-0.500000', 'hist-16-083a-thigh.nii.gz-0.500000', 'hist-17-083a-thigh.nii.gz-0.500000', 'hist-18-083a-thigh.nii.gz-0.500000', 'hist-19-083a-thigh.nii.gz-0.500000'] \n",
      "Score: -0.09149333590999587\n"
     ]
    },
    {
     "name": "stderr",
     "output_type": "stream",
     "text": [
      "200it [00:00, 528.42it/s]\n"
     ]
    },
    {
     "name": "stdout",
     "output_type": "stream",
     "text": [
      "1\n",
      "1 0.11276295212063658\n",
      "Objective RidgeRegression_Objective:\n"
     ]
    },
    {
     "name": "stderr",
     "output_type": "stream",
     "text": [
      "  6%|█████████████████                                                                                                                                                                                                                                                                 | 499/8000 [00:01<00:24, 311.86it/s]\n"
     ]
    },
    {
     "name": "stdout",
     "output_type": "stream",
     "text": [
      "iterations: 499\n",
      "Number of used features: 26\n",
      "Used features: ['num-083a-thigh.nii.gz-0.500000', 'sum-083a-thigh.nii.gz-0.500000', 'mean-083a-thigh.nii.gz-0.500000', 'std-083a-thigh.nii.gz-0.500000', 'skew-083a-thigh.nii.gz-0.500000', 'kurt-083a-thigh.nii.gz-0.500000', 'hist-0-083a-thigh.nii.gz-0.500000', 'hist-1-083a-thigh.nii.gz-0.500000', 'hist-2-083a-thigh.nii.gz-0.500000', 'hist-3-083a-thigh.nii.gz-0.500000', 'hist-4-083a-thigh.nii.gz-0.500000', 'hist-5-083a-thigh.nii.gz-0.500000', 'hist-6-083a-thigh.nii.gz-0.500000', 'hist-7-083a-thigh.nii.gz-0.500000', 'hist-8-083a-thigh.nii.gz-0.500000', 'hist-9-083a-thigh.nii.gz-0.500000', 'hist-10-083a-thigh.nii.gz-0.500000', 'hist-11-083a-thigh.nii.gz-0.500000', 'hist-12-083a-thigh.nii.gz-0.500000', 'hist-13-083a-thigh.nii.gz-0.500000', 'hist-14-083a-thigh.nii.gz-0.500000', 'hist-15-083a-thigh.nii.gz-0.500000', 'hist-16-083a-thigh.nii.gz-0.500000', 'hist-17-083a-thigh.nii.gz-0.500000', 'hist-18-083a-thigh.nii.gz-0.500000', 'hist-19-083a-thigh.nii.gz-0.500000'] \n",
      "Score: -0.08584338876994257\n"
     ]
    },
    {
     "name": "stderr",
     "output_type": "stream",
     "text": [
      "200it [00:00, 587.25it/s]\n"
     ]
    },
    {
     "name": "stdout",
     "output_type": "stream",
     "text": [
      "1\n",
      "1 0.1250088544845368\n",
      "Objective PLSRegression_Objective:\n"
     ]
    },
    {
     "name": "stderr",
     "output_type": "stream",
     "text": [
      "  6%|█████████████████▏                                                                                                                                                                                                                                                                | 502/8000 [00:00<00:07, 987.96it/s]\n"
     ]
    },
    {
     "name": "stdout",
     "output_type": "stream",
     "text": [
      "iterations: 502\n",
      "Number of used features: 26\n",
      "Used features: ['num-083a-thigh.nii.gz-0.500000', 'sum-083a-thigh.nii.gz-0.500000', 'mean-083a-thigh.nii.gz-0.500000', 'std-083a-thigh.nii.gz-0.500000', 'skew-083a-thigh.nii.gz-0.500000', 'kurt-083a-thigh.nii.gz-0.500000', 'hist-0-083a-thigh.nii.gz-0.500000', 'hist-1-083a-thigh.nii.gz-0.500000', 'hist-2-083a-thigh.nii.gz-0.500000', 'hist-3-083a-thigh.nii.gz-0.500000', 'hist-4-083a-thigh.nii.gz-0.500000', 'hist-5-083a-thigh.nii.gz-0.500000', 'hist-6-083a-thigh.nii.gz-0.500000', 'hist-7-083a-thigh.nii.gz-0.500000', 'hist-8-083a-thigh.nii.gz-0.500000', 'hist-9-083a-thigh.nii.gz-0.500000', 'hist-10-083a-thigh.nii.gz-0.500000', 'hist-11-083a-thigh.nii.gz-0.500000', 'hist-12-083a-thigh.nii.gz-0.500000', 'hist-13-083a-thigh.nii.gz-0.500000', 'hist-14-083a-thigh.nii.gz-0.500000', 'hist-15-083a-thigh.nii.gz-0.500000', 'hist-16-083a-thigh.nii.gz-0.500000', 'hist-17-083a-thigh.nii.gz-0.500000', 'hist-18-083a-thigh.nii.gz-0.500000', 'hist-19-083a-thigh.nii.gz-0.500000'] \n",
      "Score: -0.061697928006163916\n"
     ]
    },
    {
     "name": "stderr",
     "output_type": "stream",
     "text": [
      "200it [00:00, 670.08it/s]\n"
     ]
    },
    {
     "name": "stdout",
     "output_type": "stream",
     "text": [
      "1\n",
      "1 0.12348605693141768\n",
      "Objective KNNR_Objective:\n"
     ]
    },
    {
     "name": "stderr",
     "output_type": "stream",
     "text": [
      "  7%|██████████████████▏                                                                                                                                                                                                                                                                | 529/8000 [00:15<03:33, 34.92it/s]\n"
     ]
    },
    {
     "name": "stdout",
     "output_type": "stream",
     "text": [
      "iterations: 529\n",
      "Number of used features: 26\n",
      "Used features: ['num-083k-thigh.nii.gz-0.500000', 'sum-083k-thigh.nii.gz-0.500000', 'mean-083k-thigh.nii.gz-0.500000', 'std-083k-thigh.nii.gz-0.500000', 'skew-083k-thigh.nii.gz-0.500000', 'kurt-083k-thigh.nii.gz-0.500000', 'hist-0-083k-thigh.nii.gz-0.500000', 'hist-1-083k-thigh.nii.gz-0.500000', 'hist-2-083k-thigh.nii.gz-0.500000', 'hist-3-083k-thigh.nii.gz-0.500000', 'hist-4-083k-thigh.nii.gz-0.500000', 'hist-5-083k-thigh.nii.gz-0.500000', 'hist-6-083k-thigh.nii.gz-0.500000', 'hist-7-083k-thigh.nii.gz-0.500000', 'hist-8-083k-thigh.nii.gz-0.500000', 'hist-9-083k-thigh.nii.gz-0.500000', 'hist-10-083k-thigh.nii.gz-0.500000', 'hist-11-083k-thigh.nii.gz-0.500000', 'hist-12-083k-thigh.nii.gz-0.500000', 'hist-13-083k-thigh.nii.gz-0.500000', 'hist-14-083k-thigh.nii.gz-0.500000', 'hist-15-083k-thigh.nii.gz-0.500000', 'hist-16-083k-thigh.nii.gz-0.500000', 'hist-17-083k-thigh.nii.gz-0.500000', 'hist-18-083k-thigh.nii.gz-0.500000', 'hist-19-083k-thigh.nii.gz-0.500000'] \n",
      "Score: -0.4533111829583012\n"
     ]
    },
    {
     "name": "stderr",
     "output_type": "stream",
     "text": [
      "200it [00:00, 721.10it/s]\n"
     ]
    },
    {
     "name": "stdout",
     "output_type": "stream",
     "text": [
      "1\n",
      "1 0.47732456108409116\n",
      "Objective LinearRegression_Objective:\n"
     ]
    },
    {
     "name": "stderr",
     "output_type": "stream",
     "text": [
      "  6%|█████████████████                                                                                                                                                                                                                                                                | 499/8000 [00:00<00:02, 3050.85it/s]\n"
     ]
    },
    {
     "name": "stdout",
     "output_type": "stream",
     "text": [
      "iterations: 499\n",
      "Number of used features: 26\n",
      "Used features: ['num-083k-thigh.nii.gz-0.500000', 'sum-083k-thigh.nii.gz-0.500000', 'mean-083k-thigh.nii.gz-0.500000', 'std-083k-thigh.nii.gz-0.500000', 'skew-083k-thigh.nii.gz-0.500000', 'kurt-083k-thigh.nii.gz-0.500000', 'hist-0-083k-thigh.nii.gz-0.500000', 'hist-1-083k-thigh.nii.gz-0.500000', 'hist-2-083k-thigh.nii.gz-0.500000', 'hist-3-083k-thigh.nii.gz-0.500000', 'hist-4-083k-thigh.nii.gz-0.500000', 'hist-5-083k-thigh.nii.gz-0.500000', 'hist-6-083k-thigh.nii.gz-0.500000', 'hist-7-083k-thigh.nii.gz-0.500000', 'hist-8-083k-thigh.nii.gz-0.500000', 'hist-9-083k-thigh.nii.gz-0.500000', 'hist-10-083k-thigh.nii.gz-0.500000', 'hist-11-083k-thigh.nii.gz-0.500000', 'hist-12-083k-thigh.nii.gz-0.500000', 'hist-13-083k-thigh.nii.gz-0.500000', 'hist-14-083k-thigh.nii.gz-0.500000', 'hist-15-083k-thigh.nii.gz-0.500000', 'hist-16-083k-thigh.nii.gz-0.500000', 'hist-17-083k-thigh.nii.gz-0.500000', 'hist-18-083k-thigh.nii.gz-0.500000', 'hist-19-083k-thigh.nii.gz-0.500000'] \n",
      "Score: 0.24003528245733174\n"
     ]
    },
    {
     "name": "stderr",
     "output_type": "stream",
     "text": [
      "200it [00:00, 714.75it/s]\n"
     ]
    },
    {
     "name": "stdout",
     "output_type": "stream",
     "text": [
      "1\n",
      "1 -0.15560791366374693\n",
      "Objective LassoRegression_Objective:\n"
     ]
    },
    {
     "name": "stderr",
     "output_type": "stream",
     "text": [
      "  6%|█████████████████▍                                                                                                                                                                                                                                                                | 508/8000 [00:02<00:30, 244.74it/s]\n"
     ]
    },
    {
     "name": "stdout",
     "output_type": "stream",
     "text": [
      "iterations: 508\n",
      "Number of used features: 26\n",
      "Used features: ['num-083k-thigh.nii.gz-0.500000', 'sum-083k-thigh.nii.gz-0.500000', 'mean-083k-thigh.nii.gz-0.500000', 'std-083k-thigh.nii.gz-0.500000', 'skew-083k-thigh.nii.gz-0.500000', 'kurt-083k-thigh.nii.gz-0.500000', 'hist-0-083k-thigh.nii.gz-0.500000', 'hist-1-083k-thigh.nii.gz-0.500000', 'hist-2-083k-thigh.nii.gz-0.500000', 'hist-3-083k-thigh.nii.gz-0.500000', 'hist-4-083k-thigh.nii.gz-0.500000', 'hist-5-083k-thigh.nii.gz-0.500000', 'hist-6-083k-thigh.nii.gz-0.500000', 'hist-7-083k-thigh.nii.gz-0.500000', 'hist-8-083k-thigh.nii.gz-0.500000', 'hist-9-083k-thigh.nii.gz-0.500000', 'hist-10-083k-thigh.nii.gz-0.500000', 'hist-11-083k-thigh.nii.gz-0.500000', 'hist-12-083k-thigh.nii.gz-0.500000', 'hist-13-083k-thigh.nii.gz-0.500000', 'hist-14-083k-thigh.nii.gz-0.500000', 'hist-15-083k-thigh.nii.gz-0.500000', 'hist-16-083k-thigh.nii.gz-0.500000', 'hist-17-083k-thigh.nii.gz-0.500000', 'hist-18-083k-thigh.nii.gz-0.500000', 'hist-19-083k-thigh.nii.gz-0.500000'] \n",
      "Score: -0.514433861414185\n"
     ]
    },
    {
     "name": "stderr",
     "output_type": "stream",
     "text": [
      "200it [00:00, 524.45it/s]\n"
     ]
    },
    {
     "name": "stdout",
     "output_type": "stream",
     "text": [
      "1\n",
      "1 0.5217309803535048\n",
      "Objective RidgeRegression_Objective:\n"
     ]
    },
    {
     "name": "stderr",
     "output_type": "stream",
     "text": [
      "  6%|█████████████████                                                                                                                                                                                                                                                                 | 499/8000 [00:01<00:24, 309.74it/s]\n"
     ]
    },
    {
     "name": "stdout",
     "output_type": "stream",
     "text": [
      "iterations: 499\n",
      "Number of used features: 26\n",
      "Used features: ['num-083k-thigh.nii.gz-0.500000', 'sum-083k-thigh.nii.gz-0.500000', 'mean-083k-thigh.nii.gz-0.500000', 'std-083k-thigh.nii.gz-0.500000', 'skew-083k-thigh.nii.gz-0.500000', 'kurt-083k-thigh.nii.gz-0.500000', 'hist-0-083k-thigh.nii.gz-0.500000', 'hist-1-083k-thigh.nii.gz-0.500000', 'hist-2-083k-thigh.nii.gz-0.500000', 'hist-3-083k-thigh.nii.gz-0.500000', 'hist-4-083k-thigh.nii.gz-0.500000', 'hist-5-083k-thigh.nii.gz-0.500000', 'hist-6-083k-thigh.nii.gz-0.500000', 'hist-7-083k-thigh.nii.gz-0.500000', 'hist-8-083k-thigh.nii.gz-0.500000', 'hist-9-083k-thigh.nii.gz-0.500000', 'hist-10-083k-thigh.nii.gz-0.500000', 'hist-11-083k-thigh.nii.gz-0.500000', 'hist-12-083k-thigh.nii.gz-0.500000', 'hist-13-083k-thigh.nii.gz-0.500000', 'hist-14-083k-thigh.nii.gz-0.500000', 'hist-15-083k-thigh.nii.gz-0.500000', 'hist-16-083k-thigh.nii.gz-0.500000', 'hist-17-083k-thigh.nii.gz-0.500000', 'hist-18-083k-thigh.nii.gz-0.500000', 'hist-19-083k-thigh.nii.gz-0.500000'] \n",
      "Score: -0.5087814113762266\n"
     ]
    },
    {
     "name": "stderr",
     "output_type": "stream",
     "text": [
      "200it [00:00, 569.42it/s]\n"
     ]
    },
    {
     "name": "stdout",
     "output_type": "stream",
     "text": [
      "1\n",
      "1 0.5378535051677402\n",
      "Objective PLSRegression_Objective:\n"
     ]
    },
    {
     "name": "stderr",
     "output_type": "stream",
     "text": [
      "  6%|█████████████████▏                                                                                                                                                                                                                                                                | 502/8000 [00:00<00:07, 946.47it/s]\n"
     ]
    },
    {
     "name": "stdout",
     "output_type": "stream",
     "text": [
      "iterations: 502\n",
      "Number of used features: 26\n",
      "Used features: ['num-083k-thigh.nii.gz-0.500000', 'sum-083k-thigh.nii.gz-0.500000', 'mean-083k-thigh.nii.gz-0.500000', 'std-083k-thigh.nii.gz-0.500000', 'skew-083k-thigh.nii.gz-0.500000', 'kurt-083k-thigh.nii.gz-0.500000', 'hist-0-083k-thigh.nii.gz-0.500000', 'hist-1-083k-thigh.nii.gz-0.500000', 'hist-2-083k-thigh.nii.gz-0.500000', 'hist-3-083k-thigh.nii.gz-0.500000', 'hist-4-083k-thigh.nii.gz-0.500000', 'hist-5-083k-thigh.nii.gz-0.500000', 'hist-6-083k-thigh.nii.gz-0.500000', 'hist-7-083k-thigh.nii.gz-0.500000', 'hist-8-083k-thigh.nii.gz-0.500000', 'hist-9-083k-thigh.nii.gz-0.500000', 'hist-10-083k-thigh.nii.gz-0.500000', 'hist-11-083k-thigh.nii.gz-0.500000', 'hist-12-083k-thigh.nii.gz-0.500000', 'hist-13-083k-thigh.nii.gz-0.500000', 'hist-14-083k-thigh.nii.gz-0.500000', 'hist-15-083k-thigh.nii.gz-0.500000', 'hist-16-083k-thigh.nii.gz-0.500000', 'hist-17-083k-thigh.nii.gz-0.500000', 'hist-18-083k-thigh.nii.gz-0.500000', 'hist-19-083k-thigh.nii.gz-0.500000'] \n",
      "Score: -0.5078066810008376\n"
     ]
    },
    {
     "name": "stderr",
     "output_type": "stream",
     "text": [
      "200it [00:00, 650.56it/s]\n"
     ]
    },
    {
     "name": "stdout",
     "output_type": "stream",
     "text": [
      "1\n",
      "1 0.5194472600738524\n",
      "Objective KNNR_Objective:\n"
     ]
    },
    {
     "name": "stderr",
     "output_type": "stream",
     "text": [
      "  7%|███████████████████▊                                                                                                                                                                                                                                                               | 577/8000 [00:17<03:48, 32.48it/s]\n"
     ]
    },
    {
     "name": "stdout",
     "output_type": "stream",
     "text": [
      "iterations: 577\n",
      "Number of used features: 26\n",
      "Used features: ['num-084a-thigh.nii.gz-0.500000', 'sum-084a-thigh.nii.gz-0.500000', 'mean-084a-thigh.nii.gz-0.500000', 'std-084a-thigh.nii.gz-0.500000', 'skew-084a-thigh.nii.gz-0.500000', 'kurt-084a-thigh.nii.gz-0.500000', 'hist-0-084a-thigh.nii.gz-0.500000', 'hist-1-084a-thigh.nii.gz-0.500000', 'hist-2-084a-thigh.nii.gz-0.500000', 'hist-3-084a-thigh.nii.gz-0.500000', 'hist-4-084a-thigh.nii.gz-0.500000', 'hist-5-084a-thigh.nii.gz-0.500000', 'hist-6-084a-thigh.nii.gz-0.500000', 'hist-7-084a-thigh.nii.gz-0.500000', 'hist-8-084a-thigh.nii.gz-0.500000', 'hist-9-084a-thigh.nii.gz-0.500000', 'hist-10-084a-thigh.nii.gz-0.500000', 'hist-11-084a-thigh.nii.gz-0.500000', 'hist-12-084a-thigh.nii.gz-0.500000', 'hist-13-084a-thigh.nii.gz-0.500000', 'hist-14-084a-thigh.nii.gz-0.500000', 'hist-15-084a-thigh.nii.gz-0.500000', 'hist-16-084a-thigh.nii.gz-0.500000', 'hist-17-084a-thigh.nii.gz-0.500000', 'hist-18-084a-thigh.nii.gz-0.500000', 'hist-19-084a-thigh.nii.gz-0.500000'] \n",
      "Score: -0.3698743332279839\n"
     ]
    },
    {
     "name": "stderr",
     "output_type": "stream",
     "text": [
      "200it [00:00, 768.55it/s]\n"
     ]
    },
    {
     "name": "stdout",
     "output_type": "stream",
     "text": [
      "1\n",
      "1 0.3735260682348849\n",
      "Objective LinearRegression_Objective:\n"
     ]
    },
    {
     "name": "stderr",
     "output_type": "stream",
     "text": [
      "  6%|█████████████████                                                                                                                                                                                                                                                                | 499/8000 [00:00<00:02, 3147.62it/s]\n"
     ]
    },
    {
     "name": "stdout",
     "output_type": "stream",
     "text": [
      "iterations: 499\n",
      "Number of used features: 26\n",
      "Used features: ['num-084a-thigh.nii.gz-0.500000', 'sum-084a-thigh.nii.gz-0.500000', 'mean-084a-thigh.nii.gz-0.500000', 'std-084a-thigh.nii.gz-0.500000', 'skew-084a-thigh.nii.gz-0.500000', 'kurt-084a-thigh.nii.gz-0.500000', 'hist-0-084a-thigh.nii.gz-0.500000', 'hist-1-084a-thigh.nii.gz-0.500000', 'hist-2-084a-thigh.nii.gz-0.500000', 'hist-3-084a-thigh.nii.gz-0.500000', 'hist-4-084a-thigh.nii.gz-0.500000', 'hist-5-084a-thigh.nii.gz-0.500000', 'hist-6-084a-thigh.nii.gz-0.500000', 'hist-7-084a-thigh.nii.gz-0.500000', 'hist-8-084a-thigh.nii.gz-0.500000', 'hist-9-084a-thigh.nii.gz-0.500000', 'hist-10-084a-thigh.nii.gz-0.500000', 'hist-11-084a-thigh.nii.gz-0.500000', 'hist-12-084a-thigh.nii.gz-0.500000', 'hist-13-084a-thigh.nii.gz-0.500000', 'hist-14-084a-thigh.nii.gz-0.500000', 'hist-15-084a-thigh.nii.gz-0.500000', 'hist-16-084a-thigh.nii.gz-0.500000', 'hist-17-084a-thigh.nii.gz-0.500000', 'hist-18-084a-thigh.nii.gz-0.500000', 'hist-19-084a-thigh.nii.gz-0.500000'] \n",
      "Score: 0.1615071121878633\n"
     ]
    },
    {
     "name": "stderr",
     "output_type": "stream",
     "text": [
      "200it [00:00, 733.69it/s]\n"
     ]
    },
    {
     "name": "stdout",
     "output_type": "stream",
     "text": [
      "1\n",
      "1 0.013203666506244383\n",
      "Objective LassoRegression_Objective:\n"
     ]
    },
    {
     "name": "stderr",
     "output_type": "stream",
     "text": [
      "  6%|█████████████████▍                                                                                                                                                                                                                                                                | 508/8000 [00:02<00:31, 241.44it/s]\n"
     ]
    },
    {
     "name": "stdout",
     "output_type": "stream",
     "text": [
      "iterations: 508\n",
      "Number of used features: 26\n",
      "Used features: ['num-084a-thigh.nii.gz-0.500000', 'sum-084a-thigh.nii.gz-0.500000', 'mean-084a-thigh.nii.gz-0.500000', 'std-084a-thigh.nii.gz-0.500000', 'skew-084a-thigh.nii.gz-0.500000', 'kurt-084a-thigh.nii.gz-0.500000', 'hist-0-084a-thigh.nii.gz-0.500000', 'hist-1-084a-thigh.nii.gz-0.500000', 'hist-2-084a-thigh.nii.gz-0.500000', 'hist-3-084a-thigh.nii.gz-0.500000', 'hist-4-084a-thigh.nii.gz-0.500000', 'hist-5-084a-thigh.nii.gz-0.500000', 'hist-6-084a-thigh.nii.gz-0.500000', 'hist-7-084a-thigh.nii.gz-0.500000', 'hist-8-084a-thigh.nii.gz-0.500000', 'hist-9-084a-thigh.nii.gz-0.500000', 'hist-10-084a-thigh.nii.gz-0.500000', 'hist-11-084a-thigh.nii.gz-0.500000', 'hist-12-084a-thigh.nii.gz-0.500000', 'hist-13-084a-thigh.nii.gz-0.500000', 'hist-14-084a-thigh.nii.gz-0.500000', 'hist-15-084a-thigh.nii.gz-0.500000', 'hist-16-084a-thigh.nii.gz-0.500000', 'hist-17-084a-thigh.nii.gz-0.500000', 'hist-18-084a-thigh.nii.gz-0.500000', 'hist-19-084a-thigh.nii.gz-0.500000'] \n",
      "Score: -0.4282286998147612\n"
     ]
    },
    {
     "name": "stderr",
     "output_type": "stream",
     "text": [
      "200it [00:00, 520.54it/s]\n"
     ]
    },
    {
     "name": "stdout",
     "output_type": "stream",
     "text": [
      "1\n",
      "1 0.44737522104216554\n",
      "Objective RidgeRegression_Objective:\n"
     ]
    },
    {
     "name": "stderr",
     "output_type": "stream",
     "text": [
      "  6%|█████████████████                                                                                                                                                                                                                                                                 | 499/8000 [00:01<00:23, 317.00it/s]\n"
     ]
    },
    {
     "name": "stdout",
     "output_type": "stream",
     "text": [
      "iterations: 499\n",
      "Number of used features: 26\n",
      "Used features: ['num-084a-thigh.nii.gz-0.500000', 'sum-084a-thigh.nii.gz-0.500000', 'mean-084a-thigh.nii.gz-0.500000', 'std-084a-thigh.nii.gz-0.500000', 'skew-084a-thigh.nii.gz-0.500000', 'kurt-084a-thigh.nii.gz-0.500000', 'hist-0-084a-thigh.nii.gz-0.500000', 'hist-1-084a-thigh.nii.gz-0.500000', 'hist-2-084a-thigh.nii.gz-0.500000', 'hist-3-084a-thigh.nii.gz-0.500000', 'hist-4-084a-thigh.nii.gz-0.500000', 'hist-5-084a-thigh.nii.gz-0.500000', 'hist-6-084a-thigh.nii.gz-0.500000', 'hist-7-084a-thigh.nii.gz-0.500000', 'hist-8-084a-thigh.nii.gz-0.500000', 'hist-9-084a-thigh.nii.gz-0.500000', 'hist-10-084a-thigh.nii.gz-0.500000', 'hist-11-084a-thigh.nii.gz-0.500000', 'hist-12-084a-thigh.nii.gz-0.500000', 'hist-13-084a-thigh.nii.gz-0.500000', 'hist-14-084a-thigh.nii.gz-0.500000', 'hist-15-084a-thigh.nii.gz-0.500000', 'hist-16-084a-thigh.nii.gz-0.500000', 'hist-17-084a-thigh.nii.gz-0.500000', 'hist-18-084a-thigh.nii.gz-0.500000', 'hist-19-084a-thigh.nii.gz-0.500000'] \n",
      "Score: -0.430878248887673\n"
     ]
    },
    {
     "name": "stderr",
     "output_type": "stream",
     "text": [
      "200it [00:00, 585.99it/s]\n"
     ]
    },
    {
     "name": "stdout",
     "output_type": "stream",
     "text": [
      "1\n",
      "1 0.45632755867821584\n",
      "Objective PLSRegression_Objective:\n"
     ]
    },
    {
     "name": "stderr",
     "output_type": "stream",
     "text": [
      "  6%|█████████████████                                                                                                                                                                                                                                                                 | 499/8000 [00:00<00:07, 956.80it/s]\n"
     ]
    },
    {
     "name": "stdout",
     "output_type": "stream",
     "text": [
      "iterations: 499\n",
      "Number of used features: 26\n",
      "Used features: ['num-084a-thigh.nii.gz-0.500000', 'sum-084a-thigh.nii.gz-0.500000', 'mean-084a-thigh.nii.gz-0.500000', 'std-084a-thigh.nii.gz-0.500000', 'skew-084a-thigh.nii.gz-0.500000', 'kurt-084a-thigh.nii.gz-0.500000', 'hist-0-084a-thigh.nii.gz-0.500000', 'hist-1-084a-thigh.nii.gz-0.500000', 'hist-2-084a-thigh.nii.gz-0.500000', 'hist-3-084a-thigh.nii.gz-0.500000', 'hist-4-084a-thigh.nii.gz-0.500000', 'hist-5-084a-thigh.nii.gz-0.500000', 'hist-6-084a-thigh.nii.gz-0.500000', 'hist-7-084a-thigh.nii.gz-0.500000', 'hist-8-084a-thigh.nii.gz-0.500000', 'hist-9-084a-thigh.nii.gz-0.500000', 'hist-10-084a-thigh.nii.gz-0.500000', 'hist-11-084a-thigh.nii.gz-0.500000', 'hist-12-084a-thigh.nii.gz-0.500000', 'hist-13-084a-thigh.nii.gz-0.500000', 'hist-14-084a-thigh.nii.gz-0.500000', 'hist-15-084a-thigh.nii.gz-0.500000', 'hist-16-084a-thigh.nii.gz-0.500000', 'hist-17-084a-thigh.nii.gz-0.500000', 'hist-18-084a-thigh.nii.gz-0.500000', 'hist-19-084a-thigh.nii.gz-0.500000'] \n",
      "Score: -0.41350656573912126\n"
     ]
    },
    {
     "name": "stderr",
     "output_type": "stream",
     "text": [
      "200it [00:00, 635.38it/s]\n"
     ]
    },
    {
     "name": "stdout",
     "output_type": "stream",
     "text": [
      "1\n",
      "1 0.4414346926890448\n",
      "Objective KNNR_Objective:\n"
     ]
    },
    {
     "name": "stderr",
     "output_type": "stream",
     "text": [
      "  7%|██████████████████▏                                                                                                                                                                                                                                                                | 530/8000 [00:15<03:44, 33.32it/s]\n"
     ]
    },
    {
     "name": "stdout",
     "output_type": "stream",
     "text": [
      "iterations: 530\n",
      "Number of used features: 26\n",
      "Used features: ['num-087f-thigh.nii.gz-0.500000', 'sum-087f-thigh.nii.gz-0.500000', 'mean-087f-thigh.nii.gz-0.500000', 'std-087f-thigh.nii.gz-0.500000', 'skew-087f-thigh.nii.gz-0.500000', 'kurt-087f-thigh.nii.gz-0.500000', 'hist-0-087f-thigh.nii.gz-0.500000', 'hist-1-087f-thigh.nii.gz-0.500000', 'hist-2-087f-thigh.nii.gz-0.500000', 'hist-3-087f-thigh.nii.gz-0.500000', 'hist-4-087f-thigh.nii.gz-0.500000', 'hist-5-087f-thigh.nii.gz-0.500000', 'hist-6-087f-thigh.nii.gz-0.500000', 'hist-7-087f-thigh.nii.gz-0.500000', 'hist-8-087f-thigh.nii.gz-0.500000', 'hist-9-087f-thigh.nii.gz-0.500000', 'hist-10-087f-thigh.nii.gz-0.500000', 'hist-11-087f-thigh.nii.gz-0.500000', 'hist-12-087f-thigh.nii.gz-0.500000', 'hist-13-087f-thigh.nii.gz-0.500000', 'hist-14-087f-thigh.nii.gz-0.500000', 'hist-15-087f-thigh.nii.gz-0.500000', 'hist-16-087f-thigh.nii.gz-0.500000', 'hist-17-087f-thigh.nii.gz-0.500000', 'hist-18-087f-thigh.nii.gz-0.500000', 'hist-19-087f-thigh.nii.gz-0.500000'] \n",
      "Score: -0.24251491890618437\n"
     ]
    },
    {
     "name": "stderr",
     "output_type": "stream",
     "text": [
      "200it [00:00, 671.31it/s]\n"
     ]
    },
    {
     "name": "stdout",
     "output_type": "stream",
     "text": [
      "1\n",
      "1 0.24479145600431618\n",
      "Objective LinearRegression_Objective:\n"
     ]
    },
    {
     "name": "stderr",
     "output_type": "stream",
     "text": [
      "  6%|█████████████████                                                                                                                                                                                                                                                                | 499/8000 [00:00<00:02, 3145.20it/s]\n"
     ]
    },
    {
     "name": "stdout",
     "output_type": "stream",
     "text": [
      "iterations: 499\n",
      "Number of used features: 26\n",
      "Used features: ['num-087f-thigh.nii.gz-0.500000', 'sum-087f-thigh.nii.gz-0.500000', 'mean-087f-thigh.nii.gz-0.500000', 'std-087f-thigh.nii.gz-0.500000', 'skew-087f-thigh.nii.gz-0.500000', 'kurt-087f-thigh.nii.gz-0.500000', 'hist-0-087f-thigh.nii.gz-0.500000', 'hist-1-087f-thigh.nii.gz-0.500000', 'hist-2-087f-thigh.nii.gz-0.500000', 'hist-3-087f-thigh.nii.gz-0.500000', 'hist-4-087f-thigh.nii.gz-0.500000', 'hist-5-087f-thigh.nii.gz-0.500000', 'hist-6-087f-thigh.nii.gz-0.500000', 'hist-7-087f-thigh.nii.gz-0.500000', 'hist-8-087f-thigh.nii.gz-0.500000', 'hist-9-087f-thigh.nii.gz-0.500000', 'hist-10-087f-thigh.nii.gz-0.500000', 'hist-11-087f-thigh.nii.gz-0.500000', 'hist-12-087f-thigh.nii.gz-0.500000', 'hist-13-087f-thigh.nii.gz-0.500000', 'hist-14-087f-thigh.nii.gz-0.500000', 'hist-15-087f-thigh.nii.gz-0.500000', 'hist-16-087f-thigh.nii.gz-0.500000', 'hist-17-087f-thigh.nii.gz-0.500000', 'hist-18-087f-thigh.nii.gz-0.500000', 'hist-19-087f-thigh.nii.gz-0.500000'] \n",
      "Score: 0.6477132578849274\n"
     ]
    },
    {
     "name": "stderr",
     "output_type": "stream",
     "text": [
      "200it [00:00, 736.15it/s]\n"
     ]
    },
    {
     "name": "stdout",
     "output_type": "stream",
     "text": [
      "1\n",
      "1 -0.7014698597620288\n",
      "Objective LassoRegression_Objective:\n"
     ]
    },
    {
     "name": "stderr",
     "output_type": "stream",
     "text": [
      "  6%|█████████████████▍                                                                                                                                                                                                                                                                | 508/8000 [00:02<00:30, 249.61it/s]\n"
     ]
    },
    {
     "name": "stdout",
     "output_type": "stream",
     "text": [
      "iterations: 508\n",
      "Number of used features: 26\n",
      "Used features: ['num-087f-thigh.nii.gz-0.500000', 'sum-087f-thigh.nii.gz-0.500000', 'mean-087f-thigh.nii.gz-0.500000', 'std-087f-thigh.nii.gz-0.500000', 'skew-087f-thigh.nii.gz-0.500000', 'kurt-087f-thigh.nii.gz-0.500000', 'hist-0-087f-thigh.nii.gz-0.500000', 'hist-1-087f-thigh.nii.gz-0.500000', 'hist-2-087f-thigh.nii.gz-0.500000', 'hist-3-087f-thigh.nii.gz-0.500000', 'hist-4-087f-thigh.nii.gz-0.500000', 'hist-5-087f-thigh.nii.gz-0.500000', 'hist-6-087f-thigh.nii.gz-0.500000', 'hist-7-087f-thigh.nii.gz-0.500000', 'hist-8-087f-thigh.nii.gz-0.500000', 'hist-9-087f-thigh.nii.gz-0.500000', 'hist-10-087f-thigh.nii.gz-0.500000', 'hist-11-087f-thigh.nii.gz-0.500000', 'hist-12-087f-thigh.nii.gz-0.500000', 'hist-13-087f-thigh.nii.gz-0.500000', 'hist-14-087f-thigh.nii.gz-0.500000', 'hist-15-087f-thigh.nii.gz-0.500000', 'hist-16-087f-thigh.nii.gz-0.500000', 'hist-17-087f-thigh.nii.gz-0.500000', 'hist-18-087f-thigh.nii.gz-0.500000', 'hist-19-087f-thigh.nii.gz-0.500000'] \n",
      "Score: -0.392143816935271\n"
     ]
    },
    {
     "name": "stderr",
     "output_type": "stream",
     "text": [
      "200it [00:00, 538.71it/s]\n"
     ]
    },
    {
     "name": "stdout",
     "output_type": "stream",
     "text": [
      "1\n",
      "1 0.40469998715657274\n",
      "Objective RidgeRegression_Objective:\n"
     ]
    },
    {
     "name": "stderr",
     "output_type": "stream",
     "text": [
      "  6%|█████████████████                                                                                                                                                                                                                                                                 | 499/8000 [00:01<00:23, 318.49it/s]\n"
     ]
    },
    {
     "name": "stdout",
     "output_type": "stream",
     "text": [
      "iterations: 499\n",
      "Number of used features: 26\n",
      "Used features: ['num-087f-thigh.nii.gz-0.500000', 'sum-087f-thigh.nii.gz-0.500000', 'mean-087f-thigh.nii.gz-0.500000', 'std-087f-thigh.nii.gz-0.500000', 'skew-087f-thigh.nii.gz-0.500000', 'kurt-087f-thigh.nii.gz-0.500000', 'hist-0-087f-thigh.nii.gz-0.500000', 'hist-1-087f-thigh.nii.gz-0.500000', 'hist-2-087f-thigh.nii.gz-0.500000', 'hist-3-087f-thigh.nii.gz-0.500000', 'hist-4-087f-thigh.nii.gz-0.500000', 'hist-5-087f-thigh.nii.gz-0.500000', 'hist-6-087f-thigh.nii.gz-0.500000', 'hist-7-087f-thigh.nii.gz-0.500000', 'hist-8-087f-thigh.nii.gz-0.500000', 'hist-9-087f-thigh.nii.gz-0.500000', 'hist-10-087f-thigh.nii.gz-0.500000', 'hist-11-087f-thigh.nii.gz-0.500000', 'hist-12-087f-thigh.nii.gz-0.500000', 'hist-13-087f-thigh.nii.gz-0.500000', 'hist-14-087f-thigh.nii.gz-0.500000', 'hist-15-087f-thigh.nii.gz-0.500000', 'hist-16-087f-thigh.nii.gz-0.500000', 'hist-17-087f-thigh.nii.gz-0.500000', 'hist-18-087f-thigh.nii.gz-0.500000', 'hist-19-087f-thigh.nii.gz-0.500000'] \n",
      "Score: -0.39650428212263544\n"
     ]
    },
    {
     "name": "stderr",
     "output_type": "stream",
     "text": [
      "200it [00:00, 560.80it/s]\n"
     ]
    },
    {
     "name": "stdout",
     "output_type": "stream",
     "text": [
      "1\n",
      "1 0.39432049965693705\n",
      "Objective PLSRegression_Objective:\n"
     ]
    },
    {
     "name": "stderr",
     "output_type": "stream",
     "text": [
      "  6%|█████████████████                                                                                                                                                                                                                                                                 | 499/8000 [00:00<00:07, 966.49it/s]\n"
     ]
    },
    {
     "name": "stdout",
     "output_type": "stream",
     "text": [
      "iterations: 499\n",
      "Number of used features: 26\n",
      "Used features: ['num-087f-thigh.nii.gz-0.500000', 'sum-087f-thigh.nii.gz-0.500000', 'mean-087f-thigh.nii.gz-0.500000', 'std-087f-thigh.nii.gz-0.500000', 'skew-087f-thigh.nii.gz-0.500000', 'kurt-087f-thigh.nii.gz-0.500000', 'hist-0-087f-thigh.nii.gz-0.500000', 'hist-1-087f-thigh.nii.gz-0.500000', 'hist-2-087f-thigh.nii.gz-0.500000', 'hist-3-087f-thigh.nii.gz-0.500000', 'hist-4-087f-thigh.nii.gz-0.500000', 'hist-5-087f-thigh.nii.gz-0.500000', 'hist-6-087f-thigh.nii.gz-0.500000', 'hist-7-087f-thigh.nii.gz-0.500000', 'hist-8-087f-thigh.nii.gz-0.500000', 'hist-9-087f-thigh.nii.gz-0.500000', 'hist-10-087f-thigh.nii.gz-0.500000', 'hist-11-087f-thigh.nii.gz-0.500000', 'hist-12-087f-thigh.nii.gz-0.500000', 'hist-13-087f-thigh.nii.gz-0.500000', 'hist-14-087f-thigh.nii.gz-0.500000', 'hist-15-087f-thigh.nii.gz-0.500000', 'hist-16-087f-thigh.nii.gz-0.500000', 'hist-17-087f-thigh.nii.gz-0.500000', 'hist-18-087f-thigh.nii.gz-0.500000', 'hist-19-087f-thigh.nii.gz-0.500000'] \n",
      "Score: -0.41742326906162663\n"
     ]
    },
    {
     "name": "stderr",
     "output_type": "stream",
     "text": [
      "200it [00:00, 631.93it/s]\n"
     ]
    },
    {
     "name": "stdout",
     "output_type": "stream",
     "text": [
      "1\n",
      "1 0.4278013629620131\n",
      "Objective KNNR_Objective:\n"
     ]
    },
    {
     "name": "stderr",
     "output_type": "stream",
     "text": [
      "  6%|█████████████████▍                                                                                                                                                                                                                                                                 | 506/8000 [00:14<03:31, 35.42it/s]\n"
     ]
    },
    {
     "name": "stdout",
     "output_type": "stream",
     "text": [
      "iterations: 506\n",
      "Number of used features: 26\n",
      "Used features: ['num-088f-thigh.nii.gz-0.500000', 'sum-088f-thigh.nii.gz-0.500000', 'mean-088f-thigh.nii.gz-0.500000', 'std-088f-thigh.nii.gz-0.500000', 'skew-088f-thigh.nii.gz-0.500000', 'kurt-088f-thigh.nii.gz-0.500000', 'hist-0-088f-thigh.nii.gz-0.500000', 'hist-1-088f-thigh.nii.gz-0.500000', 'hist-2-088f-thigh.nii.gz-0.500000', 'hist-3-088f-thigh.nii.gz-0.500000', 'hist-4-088f-thigh.nii.gz-0.500000', 'hist-5-088f-thigh.nii.gz-0.500000', 'hist-6-088f-thigh.nii.gz-0.500000', 'hist-7-088f-thigh.nii.gz-0.500000', 'hist-8-088f-thigh.nii.gz-0.500000', 'hist-9-088f-thigh.nii.gz-0.500000', 'hist-10-088f-thigh.nii.gz-0.500000', 'hist-11-088f-thigh.nii.gz-0.500000', 'hist-12-088f-thigh.nii.gz-0.500000', 'hist-13-088f-thigh.nii.gz-0.500000', 'hist-14-088f-thigh.nii.gz-0.500000', 'hist-15-088f-thigh.nii.gz-0.500000', 'hist-16-088f-thigh.nii.gz-0.500000', 'hist-17-088f-thigh.nii.gz-0.500000', 'hist-18-088f-thigh.nii.gz-0.500000', 'hist-19-088f-thigh.nii.gz-0.500000'] \n",
      "Score: -0.3303563103086876\n"
     ]
    },
    {
     "name": "stderr",
     "output_type": "stream",
     "text": [
      "200it [00:00, 793.16it/s]\n"
     ]
    },
    {
     "name": "stdout",
     "output_type": "stream",
     "text": [
      "1\n",
      "1 0.353317415339081\n",
      "Objective LinearRegression_Objective:\n"
     ]
    },
    {
     "name": "stderr",
     "output_type": "stream",
     "text": [
      "  6%|█████████████████                                                                                                                                                                                                                                                                | 499/8000 [00:00<00:02, 3080.24it/s]\n"
     ]
    },
    {
     "name": "stdout",
     "output_type": "stream",
     "text": [
      "iterations: 499\n",
      "Number of used features: 26\n",
      "Used features: ['num-088f-thigh.nii.gz-0.500000', 'sum-088f-thigh.nii.gz-0.500000', 'mean-088f-thigh.nii.gz-0.500000', 'std-088f-thigh.nii.gz-0.500000', 'skew-088f-thigh.nii.gz-0.500000', 'kurt-088f-thigh.nii.gz-0.500000', 'hist-0-088f-thigh.nii.gz-0.500000', 'hist-1-088f-thigh.nii.gz-0.500000', 'hist-2-088f-thigh.nii.gz-0.500000', 'hist-3-088f-thigh.nii.gz-0.500000', 'hist-4-088f-thigh.nii.gz-0.500000', 'hist-5-088f-thigh.nii.gz-0.500000', 'hist-6-088f-thigh.nii.gz-0.500000', 'hist-7-088f-thigh.nii.gz-0.500000', 'hist-8-088f-thigh.nii.gz-0.500000', 'hist-9-088f-thigh.nii.gz-0.500000', 'hist-10-088f-thigh.nii.gz-0.500000', 'hist-11-088f-thigh.nii.gz-0.500000', 'hist-12-088f-thigh.nii.gz-0.500000', 'hist-13-088f-thigh.nii.gz-0.500000', 'hist-14-088f-thigh.nii.gz-0.500000', 'hist-15-088f-thigh.nii.gz-0.500000', 'hist-16-088f-thigh.nii.gz-0.500000', 'hist-17-088f-thigh.nii.gz-0.500000', 'hist-18-088f-thigh.nii.gz-0.500000', 'hist-19-088f-thigh.nii.gz-0.500000'] \n",
      "Score: 0.03687328356832098\n"
     ]
    },
    {
     "name": "stderr",
     "output_type": "stream",
     "text": [
      "200it [00:00, 735.19it/s]\n"
     ]
    },
    {
     "name": "stdout",
     "output_type": "stream",
     "text": [
      "1\n",
      "1 0.05572819995434042\n",
      "Objective LassoRegression_Objective:\n"
     ]
    },
    {
     "name": "stderr",
     "output_type": "stream",
     "text": [
      "  6%|█████████████████▍                                                                                                                                                                                                                                                                | 508/8000 [00:02<00:30, 248.86it/s]\n"
     ]
    },
    {
     "name": "stdout",
     "output_type": "stream",
     "text": [
      "iterations: 508\n",
      "Number of used features: 26\n",
      "Used features: ['num-088f-thigh.nii.gz-0.500000', 'sum-088f-thigh.nii.gz-0.500000', 'mean-088f-thigh.nii.gz-0.500000', 'std-088f-thigh.nii.gz-0.500000', 'skew-088f-thigh.nii.gz-0.500000', 'kurt-088f-thigh.nii.gz-0.500000', 'hist-0-088f-thigh.nii.gz-0.500000', 'hist-1-088f-thigh.nii.gz-0.500000', 'hist-2-088f-thigh.nii.gz-0.500000', 'hist-3-088f-thigh.nii.gz-0.500000', 'hist-4-088f-thigh.nii.gz-0.500000', 'hist-5-088f-thigh.nii.gz-0.500000', 'hist-6-088f-thigh.nii.gz-0.500000', 'hist-7-088f-thigh.nii.gz-0.500000', 'hist-8-088f-thigh.nii.gz-0.500000', 'hist-9-088f-thigh.nii.gz-0.500000', 'hist-10-088f-thigh.nii.gz-0.500000', 'hist-11-088f-thigh.nii.gz-0.500000', 'hist-12-088f-thigh.nii.gz-0.500000', 'hist-13-088f-thigh.nii.gz-0.500000', 'hist-14-088f-thigh.nii.gz-0.500000', 'hist-15-088f-thigh.nii.gz-0.500000', 'hist-16-088f-thigh.nii.gz-0.500000', 'hist-17-088f-thigh.nii.gz-0.500000', 'hist-18-088f-thigh.nii.gz-0.500000', 'hist-19-088f-thigh.nii.gz-0.500000'] \n",
      "Score: -0.47603739334651674\n"
     ]
    },
    {
     "name": "stderr",
     "output_type": "stream",
     "text": [
      "200it [00:00, 531.85it/s]\n"
     ]
    },
    {
     "name": "stdout",
     "output_type": "stream",
     "text": [
      "1\n",
      "1 0.48281080234098417\n",
      "Objective RidgeRegression_Objective:\n"
     ]
    },
    {
     "name": "stderr",
     "output_type": "stream",
     "text": [
      "  6%|█████████████████                                                                                                                                                                                                                                                                 | 499/8000 [00:01<00:23, 317.34it/s]\n"
     ]
    },
    {
     "name": "stdout",
     "output_type": "stream",
     "text": [
      "iterations: 499\n",
      "Number of used features: 26\n",
      "Used features: ['num-088f-thigh.nii.gz-0.500000', 'sum-088f-thigh.nii.gz-0.500000', 'mean-088f-thigh.nii.gz-0.500000', 'std-088f-thigh.nii.gz-0.500000', 'skew-088f-thigh.nii.gz-0.500000', 'kurt-088f-thigh.nii.gz-0.500000', 'hist-0-088f-thigh.nii.gz-0.500000', 'hist-1-088f-thigh.nii.gz-0.500000', 'hist-2-088f-thigh.nii.gz-0.500000', 'hist-3-088f-thigh.nii.gz-0.500000', 'hist-4-088f-thigh.nii.gz-0.500000', 'hist-5-088f-thigh.nii.gz-0.500000', 'hist-6-088f-thigh.nii.gz-0.500000', 'hist-7-088f-thigh.nii.gz-0.500000', 'hist-8-088f-thigh.nii.gz-0.500000', 'hist-9-088f-thigh.nii.gz-0.500000', 'hist-10-088f-thigh.nii.gz-0.500000', 'hist-11-088f-thigh.nii.gz-0.500000', 'hist-12-088f-thigh.nii.gz-0.500000', 'hist-13-088f-thigh.nii.gz-0.500000', 'hist-14-088f-thigh.nii.gz-0.500000', 'hist-15-088f-thigh.nii.gz-0.500000', 'hist-16-088f-thigh.nii.gz-0.500000', 'hist-17-088f-thigh.nii.gz-0.500000', 'hist-18-088f-thigh.nii.gz-0.500000', 'hist-19-088f-thigh.nii.gz-0.500000'] \n",
      "Score: -0.48399250001272653\n"
     ]
    },
    {
     "name": "stderr",
     "output_type": "stream",
     "text": [
      "200it [00:00, 581.98it/s]\n"
     ]
    },
    {
     "name": "stdout",
     "output_type": "stream",
     "text": [
      "1\n",
      "1 0.5000166164680836\n",
      "Objective PLSRegression_Objective:\n"
     ]
    },
    {
     "name": "stderr",
     "output_type": "stream",
     "text": [
      "  6%|█████████████████                                                                                                                                                                                                                                                                 | 499/8000 [00:00<00:07, 969.45it/s]\n"
     ]
    },
    {
     "name": "stdout",
     "output_type": "stream",
     "text": [
      "iterations: 499\n",
      "Number of used features: 26\n",
      "Used features: ['num-088f-thigh.nii.gz-0.500000', 'sum-088f-thigh.nii.gz-0.500000', 'mean-088f-thigh.nii.gz-0.500000', 'std-088f-thigh.nii.gz-0.500000', 'skew-088f-thigh.nii.gz-0.500000', 'kurt-088f-thigh.nii.gz-0.500000', 'hist-0-088f-thigh.nii.gz-0.500000', 'hist-1-088f-thigh.nii.gz-0.500000', 'hist-2-088f-thigh.nii.gz-0.500000', 'hist-3-088f-thigh.nii.gz-0.500000', 'hist-4-088f-thigh.nii.gz-0.500000', 'hist-5-088f-thigh.nii.gz-0.500000', 'hist-6-088f-thigh.nii.gz-0.500000', 'hist-7-088f-thigh.nii.gz-0.500000', 'hist-8-088f-thigh.nii.gz-0.500000', 'hist-9-088f-thigh.nii.gz-0.500000', 'hist-10-088f-thigh.nii.gz-0.500000', 'hist-11-088f-thigh.nii.gz-0.500000', 'hist-12-088f-thigh.nii.gz-0.500000', 'hist-13-088f-thigh.nii.gz-0.500000', 'hist-14-088f-thigh.nii.gz-0.500000', 'hist-15-088f-thigh.nii.gz-0.500000', 'hist-16-088f-thigh.nii.gz-0.500000', 'hist-17-088f-thigh.nii.gz-0.500000', 'hist-18-088f-thigh.nii.gz-0.500000', 'hist-19-088f-thigh.nii.gz-0.500000'] \n",
      "Score: -0.4985565239044554\n"
     ]
    },
    {
     "name": "stderr",
     "output_type": "stream",
     "text": [
      "200it [00:00, 634.37it/s]\n"
     ]
    },
    {
     "name": "stdout",
     "output_type": "stream",
     "text": [
      "1\n",
      "1 0.51340477092642\n",
      "Objective KNNR_Objective:\n"
     ]
    },
    {
     "name": "stderr",
     "output_type": "stream",
     "text": [
      "  6%|█████████████████▌                                                                                                                                                                                                                                                                 | 511/8000 [00:14<03:26, 36.32it/s]\n"
     ]
    },
    {
     "name": "stdout",
     "output_type": "stream",
     "text": [
      "iterations: 511\n",
      "Number of used features: 26\n",
      "Used features: ['num-088k-thigh.nii.gz-0.500000', 'sum-088k-thigh.nii.gz-0.500000', 'mean-088k-thigh.nii.gz-0.500000', 'std-088k-thigh.nii.gz-0.500000', 'skew-088k-thigh.nii.gz-0.500000', 'kurt-088k-thigh.nii.gz-0.500000', 'hist-0-088k-thigh.nii.gz-0.500000', 'hist-1-088k-thigh.nii.gz-0.500000', 'hist-2-088k-thigh.nii.gz-0.500000', 'hist-3-088k-thigh.nii.gz-0.500000', 'hist-4-088k-thigh.nii.gz-0.500000', 'hist-5-088k-thigh.nii.gz-0.500000', 'hist-6-088k-thigh.nii.gz-0.500000', 'hist-7-088k-thigh.nii.gz-0.500000', 'hist-8-088k-thigh.nii.gz-0.500000', 'hist-9-088k-thigh.nii.gz-0.500000', 'hist-10-088k-thigh.nii.gz-0.500000', 'hist-11-088k-thigh.nii.gz-0.500000', 'hist-12-088k-thigh.nii.gz-0.500000', 'hist-13-088k-thigh.nii.gz-0.500000', 'hist-14-088k-thigh.nii.gz-0.500000', 'hist-15-088k-thigh.nii.gz-0.500000', 'hist-16-088k-thigh.nii.gz-0.500000', 'hist-17-088k-thigh.nii.gz-0.500000', 'hist-18-088k-thigh.nii.gz-0.500000', 'hist-19-088k-thigh.nii.gz-0.500000'] \n",
      "Score: -0.32488223117807513\n"
     ]
    },
    {
     "name": "stderr",
     "output_type": "stream",
     "text": [
      "200it [00:00, 769.01it/s]\n"
     ]
    },
    {
     "name": "stdout",
     "output_type": "stream",
     "text": [
      "1\n",
      "1 0.36233535816444074\n",
      "Objective LinearRegression_Objective:\n"
     ]
    },
    {
     "name": "stderr",
     "output_type": "stream",
     "text": [
      "  6%|█████████████████                                                                                                                                                                                                                                                                | 499/8000 [00:00<00:02, 3165.03it/s]\n"
     ]
    },
    {
     "name": "stdout",
     "output_type": "stream",
     "text": [
      "iterations: 499\n",
      "Number of used features: 26\n",
      "Used features: ['num-088k-thigh.nii.gz-0.500000', 'sum-088k-thigh.nii.gz-0.500000', 'mean-088k-thigh.nii.gz-0.500000', 'std-088k-thigh.nii.gz-0.500000', 'skew-088k-thigh.nii.gz-0.500000', 'kurt-088k-thigh.nii.gz-0.500000', 'hist-0-088k-thigh.nii.gz-0.500000', 'hist-1-088k-thigh.nii.gz-0.500000', 'hist-2-088k-thigh.nii.gz-0.500000', 'hist-3-088k-thigh.nii.gz-0.500000', 'hist-4-088k-thigh.nii.gz-0.500000', 'hist-5-088k-thigh.nii.gz-0.500000', 'hist-6-088k-thigh.nii.gz-0.500000', 'hist-7-088k-thigh.nii.gz-0.500000', 'hist-8-088k-thigh.nii.gz-0.500000', 'hist-9-088k-thigh.nii.gz-0.500000', 'hist-10-088k-thigh.nii.gz-0.500000', 'hist-11-088k-thigh.nii.gz-0.500000', 'hist-12-088k-thigh.nii.gz-0.500000', 'hist-13-088k-thigh.nii.gz-0.500000', 'hist-14-088k-thigh.nii.gz-0.500000', 'hist-15-088k-thigh.nii.gz-0.500000', 'hist-16-088k-thigh.nii.gz-0.500000', 'hist-17-088k-thigh.nii.gz-0.500000', 'hist-18-088k-thigh.nii.gz-0.500000', 'hist-19-088k-thigh.nii.gz-0.500000'] \n",
      "Score: 0.5774137319478685\n"
     ]
    },
    {
     "name": "stderr",
     "output_type": "stream",
     "text": [
      "200it [00:00, 747.94it/s]\n"
     ]
    },
    {
     "name": "stdout",
     "output_type": "stream",
     "text": [
      "1\n",
      "1 -0.1166241090823843\n",
      "Objective LassoRegression_Objective:\n"
     ]
    },
    {
     "name": "stderr",
     "output_type": "stream",
     "text": [
      "  6%|█████████████████▍                                                                                                                                                                                                                                                                | 508/8000 [00:02<00:30, 248.91it/s]\n"
     ]
    },
    {
     "name": "stdout",
     "output_type": "stream",
     "text": [
      "iterations: 508\n",
      "Number of used features: 26\n",
      "Used features: ['num-088k-thigh.nii.gz-0.500000', 'sum-088k-thigh.nii.gz-0.500000', 'mean-088k-thigh.nii.gz-0.500000', 'std-088k-thigh.nii.gz-0.500000', 'skew-088k-thigh.nii.gz-0.500000', 'kurt-088k-thigh.nii.gz-0.500000', 'hist-0-088k-thigh.nii.gz-0.500000', 'hist-1-088k-thigh.nii.gz-0.500000', 'hist-2-088k-thigh.nii.gz-0.500000', 'hist-3-088k-thigh.nii.gz-0.500000', 'hist-4-088k-thigh.nii.gz-0.500000', 'hist-5-088k-thigh.nii.gz-0.500000', 'hist-6-088k-thigh.nii.gz-0.500000', 'hist-7-088k-thigh.nii.gz-0.500000', 'hist-8-088k-thigh.nii.gz-0.500000', 'hist-9-088k-thigh.nii.gz-0.500000', 'hist-10-088k-thigh.nii.gz-0.500000', 'hist-11-088k-thigh.nii.gz-0.500000', 'hist-12-088k-thigh.nii.gz-0.500000', 'hist-13-088k-thigh.nii.gz-0.500000', 'hist-14-088k-thigh.nii.gz-0.500000', 'hist-15-088k-thigh.nii.gz-0.500000', 'hist-16-088k-thigh.nii.gz-0.500000', 'hist-17-088k-thigh.nii.gz-0.500000', 'hist-18-088k-thigh.nii.gz-0.500000', 'hist-19-088k-thigh.nii.gz-0.500000'] \n",
      "Score: -0.4404808650628952\n"
     ]
    },
    {
     "name": "stderr",
     "output_type": "stream",
     "text": [
      "200it [00:00, 533.02it/s]\n"
     ]
    },
    {
     "name": "stdout",
     "output_type": "stream",
     "text": [
      "1\n",
      "1 0.45532496968211367\n",
      "Objective RidgeRegression_Objective:\n"
     ]
    },
    {
     "name": "stderr",
     "output_type": "stream",
     "text": [
      "  6%|█████████████████                                                                                                                                                                                                                                                                 | 499/8000 [00:01<00:23, 320.21it/s]\n"
     ]
    },
    {
     "name": "stdout",
     "output_type": "stream",
     "text": [
      "iterations: 499\n",
      "Number of used features: 26\n",
      "Used features: ['num-088k-thigh.nii.gz-0.500000', 'sum-088k-thigh.nii.gz-0.500000', 'mean-088k-thigh.nii.gz-0.500000', 'std-088k-thigh.nii.gz-0.500000', 'skew-088k-thigh.nii.gz-0.500000', 'kurt-088k-thigh.nii.gz-0.500000', 'hist-0-088k-thigh.nii.gz-0.500000', 'hist-1-088k-thigh.nii.gz-0.500000', 'hist-2-088k-thigh.nii.gz-0.500000', 'hist-3-088k-thigh.nii.gz-0.500000', 'hist-4-088k-thigh.nii.gz-0.500000', 'hist-5-088k-thigh.nii.gz-0.500000', 'hist-6-088k-thigh.nii.gz-0.500000', 'hist-7-088k-thigh.nii.gz-0.500000', 'hist-8-088k-thigh.nii.gz-0.500000', 'hist-9-088k-thigh.nii.gz-0.500000', 'hist-10-088k-thigh.nii.gz-0.500000', 'hist-11-088k-thigh.nii.gz-0.500000', 'hist-12-088k-thigh.nii.gz-0.500000', 'hist-13-088k-thigh.nii.gz-0.500000', 'hist-14-088k-thigh.nii.gz-0.500000', 'hist-15-088k-thigh.nii.gz-0.500000', 'hist-16-088k-thigh.nii.gz-0.500000', 'hist-17-088k-thigh.nii.gz-0.500000', 'hist-18-088k-thigh.nii.gz-0.500000', 'hist-19-088k-thigh.nii.gz-0.500000'] \n",
      "Score: -0.4221404971264642\n"
     ]
    },
    {
     "name": "stderr",
     "output_type": "stream",
     "text": [
      "200it [00:00, 585.59it/s]\n"
     ]
    },
    {
     "name": "stdout",
     "output_type": "stream",
     "text": [
      "1\n",
      "1 0.4560608607764568\n",
      "Objective PLSRegression_Objective:\n"
     ]
    },
    {
     "name": "stderr",
     "output_type": "stream",
     "text": [
      "  6%|█████████████████▏                                                                                                                                                                                                                                                                | 502/8000 [00:00<00:07, 977.77it/s]\n"
     ]
    },
    {
     "name": "stdout",
     "output_type": "stream",
     "text": [
      "iterations: 502\n",
      "Number of used features: 26\n",
      "Used features: ['num-088k-thigh.nii.gz-0.500000', 'sum-088k-thigh.nii.gz-0.500000', 'mean-088k-thigh.nii.gz-0.500000', 'std-088k-thigh.nii.gz-0.500000', 'skew-088k-thigh.nii.gz-0.500000', 'kurt-088k-thigh.nii.gz-0.500000', 'hist-0-088k-thigh.nii.gz-0.500000', 'hist-1-088k-thigh.nii.gz-0.500000', 'hist-2-088k-thigh.nii.gz-0.500000', 'hist-3-088k-thigh.nii.gz-0.500000', 'hist-4-088k-thigh.nii.gz-0.500000', 'hist-5-088k-thigh.nii.gz-0.500000', 'hist-6-088k-thigh.nii.gz-0.500000', 'hist-7-088k-thigh.nii.gz-0.500000', 'hist-8-088k-thigh.nii.gz-0.500000', 'hist-9-088k-thigh.nii.gz-0.500000', 'hist-10-088k-thigh.nii.gz-0.500000', 'hist-11-088k-thigh.nii.gz-0.500000', 'hist-12-088k-thigh.nii.gz-0.500000', 'hist-13-088k-thigh.nii.gz-0.500000', 'hist-14-088k-thigh.nii.gz-0.500000', 'hist-15-088k-thigh.nii.gz-0.500000', 'hist-16-088k-thigh.nii.gz-0.500000', 'hist-17-088k-thigh.nii.gz-0.500000', 'hist-18-088k-thigh.nii.gz-0.500000', 'hist-19-088k-thigh.nii.gz-0.500000'] \n",
      "Score: -0.40894360747756975\n"
     ]
    },
    {
     "name": "stderr",
     "output_type": "stream",
     "text": [
      "200it [00:00, 668.16it/s]\n"
     ]
    },
    {
     "name": "stdout",
     "output_type": "stream",
     "text": [
      "1\n",
      "1 0.4415935765416781\n",
      "Objective KNNR_Objective:\n"
     ]
    },
    {
     "name": "stderr",
     "output_type": "stream",
     "text": [
      "  7%|██████████████████                                                                                                                                                                                                                                                                 | 526/8000 [00:14<03:33, 35.09it/s]\n"
     ]
    },
    {
     "name": "stdout",
     "output_type": "stream",
     "text": [
      "iterations: 526\n",
      "Number of used features: 26\n",
      "Used features: ['num-090a-thigh.nii.gz-0.500000', 'sum-090a-thigh.nii.gz-0.500000', 'mean-090a-thigh.nii.gz-0.500000', 'std-090a-thigh.nii.gz-0.500000', 'skew-090a-thigh.nii.gz-0.500000', 'kurt-090a-thigh.nii.gz-0.500000', 'hist-0-090a-thigh.nii.gz-0.500000', 'hist-1-090a-thigh.nii.gz-0.500000', 'hist-2-090a-thigh.nii.gz-0.500000', 'hist-3-090a-thigh.nii.gz-0.500000', 'hist-4-090a-thigh.nii.gz-0.500000', 'hist-5-090a-thigh.nii.gz-0.500000', 'hist-6-090a-thigh.nii.gz-0.500000', 'hist-7-090a-thigh.nii.gz-0.500000', 'hist-8-090a-thigh.nii.gz-0.500000', 'hist-9-090a-thigh.nii.gz-0.500000', 'hist-10-090a-thigh.nii.gz-0.500000', 'hist-11-090a-thigh.nii.gz-0.500000', 'hist-12-090a-thigh.nii.gz-0.500000', 'hist-13-090a-thigh.nii.gz-0.500000', 'hist-14-090a-thigh.nii.gz-0.500000', 'hist-15-090a-thigh.nii.gz-0.500000', 'hist-16-090a-thigh.nii.gz-0.500000', 'hist-17-090a-thigh.nii.gz-0.500000', 'hist-18-090a-thigh.nii.gz-0.500000', 'hist-19-090a-thigh.nii.gz-0.500000'] \n",
      "Score: -0.3401782655658685\n"
     ]
    },
    {
     "name": "stderr",
     "output_type": "stream",
     "text": [
      "200it [00:00, 666.07it/s]\n"
     ]
    },
    {
     "name": "stdout",
     "output_type": "stream",
     "text": [
      "1\n",
      "1 0.37353029804667637\n",
      "Objective LinearRegression_Objective:\n"
     ]
    },
    {
     "name": "stderr",
     "output_type": "stream",
     "text": [
      "  6%|█████████████████                                                                                                                                                                                                                                                                | 499/8000 [00:00<00:02, 3029.20it/s]\n"
     ]
    },
    {
     "name": "stdout",
     "output_type": "stream",
     "text": [
      "iterations: 499\n",
      "Number of used features: 26\n",
      "Used features: ['num-090a-thigh.nii.gz-0.500000', 'sum-090a-thigh.nii.gz-0.500000', 'mean-090a-thigh.nii.gz-0.500000', 'std-090a-thigh.nii.gz-0.500000', 'skew-090a-thigh.nii.gz-0.500000', 'kurt-090a-thigh.nii.gz-0.500000', 'hist-0-090a-thigh.nii.gz-0.500000', 'hist-1-090a-thigh.nii.gz-0.500000', 'hist-2-090a-thigh.nii.gz-0.500000', 'hist-3-090a-thigh.nii.gz-0.500000', 'hist-4-090a-thigh.nii.gz-0.500000', 'hist-5-090a-thigh.nii.gz-0.500000', 'hist-6-090a-thigh.nii.gz-0.500000', 'hist-7-090a-thigh.nii.gz-0.500000', 'hist-8-090a-thigh.nii.gz-0.500000', 'hist-9-090a-thigh.nii.gz-0.500000', 'hist-10-090a-thigh.nii.gz-0.500000', 'hist-11-090a-thigh.nii.gz-0.500000', 'hist-12-090a-thigh.nii.gz-0.500000', 'hist-13-090a-thigh.nii.gz-0.500000', 'hist-14-090a-thigh.nii.gz-0.500000', 'hist-15-090a-thigh.nii.gz-0.500000', 'hist-16-090a-thigh.nii.gz-0.500000', 'hist-17-090a-thigh.nii.gz-0.500000', 'hist-18-090a-thigh.nii.gz-0.500000', 'hist-19-090a-thigh.nii.gz-0.500000'] \n",
      "Score: -0.039832635102409863\n"
     ]
    },
    {
     "name": "stderr",
     "output_type": "stream",
     "text": [
      "200it [00:00, 704.40it/s]\n"
     ]
    },
    {
     "name": "stdout",
     "output_type": "stream",
     "text": [
      "1\n",
      "1 0.17565712540486578\n",
      "Objective LassoRegression_Objective:\n"
     ]
    },
    {
     "name": "stderr",
     "output_type": "stream",
     "text": [
      "  6%|█████████████████▎                                                                                                                                                                                                                                                                | 505/8000 [00:02<00:31, 241.48it/s]\n"
     ]
    },
    {
     "name": "stdout",
     "output_type": "stream",
     "text": [
      "iterations: 505\n",
      "Number of used features: 26\n",
      "Used features: ['num-090a-thigh.nii.gz-0.500000', 'sum-090a-thigh.nii.gz-0.500000', 'mean-090a-thigh.nii.gz-0.500000', 'std-090a-thigh.nii.gz-0.500000', 'skew-090a-thigh.nii.gz-0.500000', 'kurt-090a-thigh.nii.gz-0.500000', 'hist-0-090a-thigh.nii.gz-0.500000', 'hist-1-090a-thigh.nii.gz-0.500000', 'hist-2-090a-thigh.nii.gz-0.500000', 'hist-3-090a-thigh.nii.gz-0.500000', 'hist-4-090a-thigh.nii.gz-0.500000', 'hist-5-090a-thigh.nii.gz-0.500000', 'hist-6-090a-thigh.nii.gz-0.500000', 'hist-7-090a-thigh.nii.gz-0.500000', 'hist-8-090a-thigh.nii.gz-0.500000', 'hist-9-090a-thigh.nii.gz-0.500000', 'hist-10-090a-thigh.nii.gz-0.500000', 'hist-11-090a-thigh.nii.gz-0.500000', 'hist-12-090a-thigh.nii.gz-0.500000', 'hist-13-090a-thigh.nii.gz-0.500000', 'hist-14-090a-thigh.nii.gz-0.500000', 'hist-15-090a-thigh.nii.gz-0.500000', 'hist-16-090a-thigh.nii.gz-0.500000', 'hist-17-090a-thigh.nii.gz-0.500000', 'hist-18-090a-thigh.nii.gz-0.500000', 'hist-19-090a-thigh.nii.gz-0.500000'] \n",
      "Score: -0.5113667209665138\n"
     ]
    },
    {
     "name": "stderr",
     "output_type": "stream",
     "text": [
      "200it [00:00, 508.03it/s]\n"
     ]
    },
    {
     "name": "stdout",
     "output_type": "stream",
     "text": [
      "1\n",
      "1 0.523543587200858\n",
      "Objective RidgeRegression_Objective:\n"
     ]
    },
    {
     "name": "stderr",
     "output_type": "stream",
     "text": [
      "  6%|█████████████████                                                                                                                                                                                                                                                                 | 499/8000 [00:01<00:24, 310.24it/s]\n"
     ]
    },
    {
     "name": "stdout",
     "output_type": "stream",
     "text": [
      "iterations: 499\n",
      "Number of used features: 26\n",
      "Used features: ['num-090a-thigh.nii.gz-0.500000', 'sum-090a-thigh.nii.gz-0.500000', 'mean-090a-thigh.nii.gz-0.500000', 'std-090a-thigh.nii.gz-0.500000', 'skew-090a-thigh.nii.gz-0.500000', 'kurt-090a-thigh.nii.gz-0.500000', 'hist-0-090a-thigh.nii.gz-0.500000', 'hist-1-090a-thigh.nii.gz-0.500000', 'hist-2-090a-thigh.nii.gz-0.500000', 'hist-3-090a-thigh.nii.gz-0.500000', 'hist-4-090a-thigh.nii.gz-0.500000', 'hist-5-090a-thigh.nii.gz-0.500000', 'hist-6-090a-thigh.nii.gz-0.500000', 'hist-7-090a-thigh.nii.gz-0.500000', 'hist-8-090a-thigh.nii.gz-0.500000', 'hist-9-090a-thigh.nii.gz-0.500000', 'hist-10-090a-thigh.nii.gz-0.500000', 'hist-11-090a-thigh.nii.gz-0.500000', 'hist-12-090a-thigh.nii.gz-0.500000', 'hist-13-090a-thigh.nii.gz-0.500000', 'hist-14-090a-thigh.nii.gz-0.500000', 'hist-15-090a-thigh.nii.gz-0.500000', 'hist-16-090a-thigh.nii.gz-0.500000', 'hist-17-090a-thigh.nii.gz-0.500000', 'hist-18-090a-thigh.nii.gz-0.500000', 'hist-19-090a-thigh.nii.gz-0.500000'] \n",
      "Score: -0.5230495487649729\n"
     ]
    },
    {
     "name": "stderr",
     "output_type": "stream",
     "text": [
      "200it [00:00, 569.38it/s]\n"
     ]
    },
    {
     "name": "stdout",
     "output_type": "stream",
     "text": [
      "1\n",
      "1 0.5515882921409025\n",
      "Objective PLSRegression_Objective:\n"
     ]
    },
    {
     "name": "stderr",
     "output_type": "stream",
     "text": [
      "  6%|█████████████████                                                                                                                                                                                                                                                                 | 499/8000 [00:00<00:07, 946.98it/s]\n"
     ]
    },
    {
     "name": "stdout",
     "output_type": "stream",
     "text": [
      "iterations: 499\n",
      "Number of used features: 26\n",
      "Used features: ['num-090a-thigh.nii.gz-0.500000', 'sum-090a-thigh.nii.gz-0.500000', 'mean-090a-thigh.nii.gz-0.500000', 'std-090a-thigh.nii.gz-0.500000', 'skew-090a-thigh.nii.gz-0.500000', 'kurt-090a-thigh.nii.gz-0.500000', 'hist-0-090a-thigh.nii.gz-0.500000', 'hist-1-090a-thigh.nii.gz-0.500000', 'hist-2-090a-thigh.nii.gz-0.500000', 'hist-3-090a-thigh.nii.gz-0.500000', 'hist-4-090a-thigh.nii.gz-0.500000', 'hist-5-090a-thigh.nii.gz-0.500000', 'hist-6-090a-thigh.nii.gz-0.500000', 'hist-7-090a-thigh.nii.gz-0.500000', 'hist-8-090a-thigh.nii.gz-0.500000', 'hist-9-090a-thigh.nii.gz-0.500000', 'hist-10-090a-thigh.nii.gz-0.500000', 'hist-11-090a-thigh.nii.gz-0.500000', 'hist-12-090a-thigh.nii.gz-0.500000', 'hist-13-090a-thigh.nii.gz-0.500000', 'hist-14-090a-thigh.nii.gz-0.500000', 'hist-15-090a-thigh.nii.gz-0.500000', 'hist-16-090a-thigh.nii.gz-0.500000', 'hist-17-090a-thigh.nii.gz-0.500000', 'hist-18-090a-thigh.nii.gz-0.500000', 'hist-19-090a-thigh.nii.gz-0.500000'] \n",
      "Score: -0.5168099528531137\n"
     ]
    },
    {
     "name": "stderr",
     "output_type": "stream",
     "text": [
      "200it [00:00, 617.45it/s]\n"
     ]
    },
    {
     "name": "stdout",
     "output_type": "stream",
     "text": [
      "1\n",
      "1 0.542746704068507\n",
      "Objective KNNR_Objective:\n"
     ]
    },
    {
     "name": "stderr",
     "output_type": "stream",
     "text": [
      "  6%|█████████████████▍                                                                                                                                                                                                                                                                 | 506/8000 [00:14<03:34, 34.95it/s]\n"
     ]
    },
    {
     "name": "stdout",
     "output_type": "stream",
     "text": [
      "iterations: 506\n",
      "Number of used features: 26\n",
      "Used features: ['num-091f-thigh.nii.gz-0.500000', 'sum-091f-thigh.nii.gz-0.500000', 'mean-091f-thigh.nii.gz-0.500000', 'std-091f-thigh.nii.gz-0.500000', 'skew-091f-thigh.nii.gz-0.500000', 'kurt-091f-thigh.nii.gz-0.500000', 'hist-0-091f-thigh.nii.gz-0.500000', 'hist-1-091f-thigh.nii.gz-0.500000', 'hist-2-091f-thigh.nii.gz-0.500000', 'hist-3-091f-thigh.nii.gz-0.500000', 'hist-4-091f-thigh.nii.gz-0.500000', 'hist-5-091f-thigh.nii.gz-0.500000', 'hist-6-091f-thigh.nii.gz-0.500000', 'hist-7-091f-thigh.nii.gz-0.500000', 'hist-8-091f-thigh.nii.gz-0.500000', 'hist-9-091f-thigh.nii.gz-0.500000', 'hist-10-091f-thigh.nii.gz-0.500000', 'hist-11-091f-thigh.nii.gz-0.500000', 'hist-12-091f-thigh.nii.gz-0.500000', 'hist-13-091f-thigh.nii.gz-0.500000', 'hist-14-091f-thigh.nii.gz-0.500000', 'hist-15-091f-thigh.nii.gz-0.500000', 'hist-16-091f-thigh.nii.gz-0.500000', 'hist-17-091f-thigh.nii.gz-0.500000', 'hist-18-091f-thigh.nii.gz-0.500000', 'hist-19-091f-thigh.nii.gz-0.500000'] \n",
      "Score: -0.41029455672263393\n"
     ]
    },
    {
     "name": "stderr",
     "output_type": "stream",
     "text": [
      "200it [00:00, 756.39it/s]\n"
     ]
    },
    {
     "name": "stdout",
     "output_type": "stream",
     "text": [
      "1\n",
      "1 0.3902812628546719\n",
      "Objective LinearRegression_Objective:\n"
     ]
    },
    {
     "name": "stderr",
     "output_type": "stream",
     "text": [
      "  6%|█████████████████                                                                                                                                                                                                                                                                | 499/8000 [00:00<00:02, 3026.41it/s]\n"
     ]
    },
    {
     "name": "stdout",
     "output_type": "stream",
     "text": [
      "iterations: 499\n",
      "Number of used features: 26\n",
      "Used features: ['num-091f-thigh.nii.gz-0.500000', 'sum-091f-thigh.nii.gz-0.500000', 'mean-091f-thigh.nii.gz-0.500000', 'std-091f-thigh.nii.gz-0.500000', 'skew-091f-thigh.nii.gz-0.500000', 'kurt-091f-thigh.nii.gz-0.500000', 'hist-0-091f-thigh.nii.gz-0.500000', 'hist-1-091f-thigh.nii.gz-0.500000', 'hist-2-091f-thigh.nii.gz-0.500000', 'hist-3-091f-thigh.nii.gz-0.500000', 'hist-4-091f-thigh.nii.gz-0.500000', 'hist-5-091f-thigh.nii.gz-0.500000', 'hist-6-091f-thigh.nii.gz-0.500000', 'hist-7-091f-thigh.nii.gz-0.500000', 'hist-8-091f-thigh.nii.gz-0.500000', 'hist-9-091f-thigh.nii.gz-0.500000', 'hist-10-091f-thigh.nii.gz-0.500000', 'hist-11-091f-thigh.nii.gz-0.500000', 'hist-12-091f-thigh.nii.gz-0.500000', 'hist-13-091f-thigh.nii.gz-0.500000', 'hist-14-091f-thigh.nii.gz-0.500000', 'hist-15-091f-thigh.nii.gz-0.500000', 'hist-16-091f-thigh.nii.gz-0.500000', 'hist-17-091f-thigh.nii.gz-0.500000', 'hist-18-091f-thigh.nii.gz-0.500000', 'hist-19-091f-thigh.nii.gz-0.500000'] \n",
      "Score: 0.1803515756319265\n"
     ]
    },
    {
     "name": "stderr",
     "output_type": "stream",
     "text": [
      "200it [00:00, 712.70it/s]\n"
     ]
    },
    {
     "name": "stdout",
     "output_type": "stream",
     "text": [
      "1\n",
      "1 -0.022658806367142903\n",
      "Objective LassoRegression_Objective:\n"
     ]
    },
    {
     "name": "stderr",
     "output_type": "stream",
     "text": [
      "  6%|█████████████████▍                                                                                                                                                                                                                                                                | 508/8000 [00:02<00:30, 243.02it/s]\n"
     ]
    },
    {
     "name": "stdout",
     "output_type": "stream",
     "text": [
      "iterations: 508\n",
      "Number of used features: 26\n",
      "Used features: ['num-091f-thigh.nii.gz-0.500000', 'sum-091f-thigh.nii.gz-0.500000', 'mean-091f-thigh.nii.gz-0.500000', 'std-091f-thigh.nii.gz-0.500000', 'skew-091f-thigh.nii.gz-0.500000', 'kurt-091f-thigh.nii.gz-0.500000', 'hist-0-091f-thigh.nii.gz-0.500000', 'hist-1-091f-thigh.nii.gz-0.500000', 'hist-2-091f-thigh.nii.gz-0.500000', 'hist-3-091f-thigh.nii.gz-0.500000', 'hist-4-091f-thigh.nii.gz-0.500000', 'hist-5-091f-thigh.nii.gz-0.500000', 'hist-6-091f-thigh.nii.gz-0.500000', 'hist-7-091f-thigh.nii.gz-0.500000', 'hist-8-091f-thigh.nii.gz-0.500000', 'hist-9-091f-thigh.nii.gz-0.500000', 'hist-10-091f-thigh.nii.gz-0.500000', 'hist-11-091f-thigh.nii.gz-0.500000', 'hist-12-091f-thigh.nii.gz-0.500000', 'hist-13-091f-thigh.nii.gz-0.500000', 'hist-14-091f-thigh.nii.gz-0.500000', 'hist-15-091f-thigh.nii.gz-0.500000', 'hist-16-091f-thigh.nii.gz-0.500000', 'hist-17-091f-thigh.nii.gz-0.500000', 'hist-18-091f-thigh.nii.gz-0.500000', 'hist-19-091f-thigh.nii.gz-0.500000'] \n",
      "Score: -0.517389200422822\n"
     ]
    },
    {
     "name": "stderr",
     "output_type": "stream",
     "text": [
      "200it [00:00, 536.42it/s]\n"
     ]
    },
    {
     "name": "stdout",
     "output_type": "stream",
     "text": [
      "1\n",
      "1 0.534330509477388\n",
      "Objective RidgeRegression_Objective:\n"
     ]
    },
    {
     "name": "stderr",
     "output_type": "stream",
     "text": [
      "  6%|█████████████████                                                                                                                                                                                                                                                                 | 499/8000 [00:01<00:23, 318.65it/s]\n"
     ]
    },
    {
     "name": "stdout",
     "output_type": "stream",
     "text": [
      "iterations: 499\n",
      "Number of used features: 26\n",
      "Used features: ['num-091f-thigh.nii.gz-0.500000', 'sum-091f-thigh.nii.gz-0.500000', 'mean-091f-thigh.nii.gz-0.500000', 'std-091f-thigh.nii.gz-0.500000', 'skew-091f-thigh.nii.gz-0.500000', 'kurt-091f-thigh.nii.gz-0.500000', 'hist-0-091f-thigh.nii.gz-0.500000', 'hist-1-091f-thigh.nii.gz-0.500000', 'hist-2-091f-thigh.nii.gz-0.500000', 'hist-3-091f-thigh.nii.gz-0.500000', 'hist-4-091f-thigh.nii.gz-0.500000', 'hist-5-091f-thigh.nii.gz-0.500000', 'hist-6-091f-thigh.nii.gz-0.500000', 'hist-7-091f-thigh.nii.gz-0.500000', 'hist-8-091f-thigh.nii.gz-0.500000', 'hist-9-091f-thigh.nii.gz-0.500000', 'hist-10-091f-thigh.nii.gz-0.500000', 'hist-11-091f-thigh.nii.gz-0.500000', 'hist-12-091f-thigh.nii.gz-0.500000', 'hist-13-091f-thigh.nii.gz-0.500000', 'hist-14-091f-thigh.nii.gz-0.500000', 'hist-15-091f-thigh.nii.gz-0.500000', 'hist-16-091f-thigh.nii.gz-0.500000', 'hist-17-091f-thigh.nii.gz-0.500000', 'hist-18-091f-thigh.nii.gz-0.500000', 'hist-19-091f-thigh.nii.gz-0.500000'] \n",
      "Score: -0.47912293380448956\n"
     ]
    },
    {
     "name": "stderr",
     "output_type": "stream",
     "text": [
      "200it [00:00, 577.10it/s]\n"
     ]
    },
    {
     "name": "stdout",
     "output_type": "stream",
     "text": [
      "1\n",
      "1 0.5018587864710256\n",
      "Objective PLSRegression_Objective:\n"
     ]
    },
    {
     "name": "stderr",
     "output_type": "stream",
     "text": [
      "  6%|█████████████████▏                                                                                                                                                                                                                                                                | 502/8000 [00:00<00:07, 982.45it/s]\n"
     ]
    },
    {
     "name": "stdout",
     "output_type": "stream",
     "text": [
      "iterations: 502\n",
      "Number of used features: 26\n",
      "Used features: ['num-091f-thigh.nii.gz-0.500000', 'sum-091f-thigh.nii.gz-0.500000', 'mean-091f-thigh.nii.gz-0.500000', 'std-091f-thigh.nii.gz-0.500000', 'skew-091f-thigh.nii.gz-0.500000', 'kurt-091f-thigh.nii.gz-0.500000', 'hist-0-091f-thigh.nii.gz-0.500000', 'hist-1-091f-thigh.nii.gz-0.500000', 'hist-2-091f-thigh.nii.gz-0.500000', 'hist-3-091f-thigh.nii.gz-0.500000', 'hist-4-091f-thigh.nii.gz-0.500000', 'hist-5-091f-thigh.nii.gz-0.500000', 'hist-6-091f-thigh.nii.gz-0.500000', 'hist-7-091f-thigh.nii.gz-0.500000', 'hist-8-091f-thigh.nii.gz-0.500000', 'hist-9-091f-thigh.nii.gz-0.500000', 'hist-10-091f-thigh.nii.gz-0.500000', 'hist-11-091f-thigh.nii.gz-0.500000', 'hist-12-091f-thigh.nii.gz-0.500000', 'hist-13-091f-thigh.nii.gz-0.500000', 'hist-14-091f-thigh.nii.gz-0.500000', 'hist-15-091f-thigh.nii.gz-0.500000', 'hist-16-091f-thigh.nii.gz-0.500000', 'hist-17-091f-thigh.nii.gz-0.500000', 'hist-18-091f-thigh.nii.gz-0.500000', 'hist-19-091f-thigh.nii.gz-0.500000'] \n",
      "Score: -0.5168126957021613\n"
     ]
    },
    {
     "name": "stderr",
     "output_type": "stream",
     "text": [
      "200it [00:00, 671.15it/s]\n"
     ]
    },
    {
     "name": "stdout",
     "output_type": "stream",
     "text": [
      "1\n",
      "1 0.5242196904515788\n",
      "Objective KNNR_Objective:\n"
     ]
    },
    {
     "name": "stderr",
     "output_type": "stream",
     "text": [
      "  7%|███████████████████▌                                                                                                                                                                                                                                                               | 570/8000 [00:16<03:33, 34.87it/s]\n"
     ]
    },
    {
     "name": "stdout",
     "output_type": "stream",
     "text": [
      "iterations: 570\n",
      "Number of used features: 26\n",
      "Used features: ['num-092k-thigh.nii.gz-0.500000', 'sum-092k-thigh.nii.gz-0.500000', 'mean-092k-thigh.nii.gz-0.500000', 'std-092k-thigh.nii.gz-0.500000', 'skew-092k-thigh.nii.gz-0.500000', 'kurt-092k-thigh.nii.gz-0.500000', 'hist-0-092k-thigh.nii.gz-0.500000', 'hist-1-092k-thigh.nii.gz-0.500000', 'hist-2-092k-thigh.nii.gz-0.500000', 'hist-3-092k-thigh.nii.gz-0.500000', 'hist-4-092k-thigh.nii.gz-0.500000', 'hist-5-092k-thigh.nii.gz-0.500000', 'hist-6-092k-thigh.nii.gz-0.500000', 'hist-7-092k-thigh.nii.gz-0.500000', 'hist-8-092k-thigh.nii.gz-0.500000', 'hist-9-092k-thigh.nii.gz-0.500000', 'hist-10-092k-thigh.nii.gz-0.500000', 'hist-11-092k-thigh.nii.gz-0.500000', 'hist-12-092k-thigh.nii.gz-0.500000', 'hist-13-092k-thigh.nii.gz-0.500000', 'hist-14-092k-thigh.nii.gz-0.500000', 'hist-15-092k-thigh.nii.gz-0.500000', 'hist-16-092k-thigh.nii.gz-0.500000', 'hist-17-092k-thigh.nii.gz-0.500000', 'hist-18-092k-thigh.nii.gz-0.500000', 'hist-19-092k-thigh.nii.gz-0.500000'] \n",
      "Score: -0.3142603659365073\n"
     ]
    },
    {
     "name": "stderr",
     "output_type": "stream",
     "text": [
      "200it [00:00, 746.48it/s]\n"
     ]
    },
    {
     "name": "stdout",
     "output_type": "stream",
     "text": [
      "1\n",
      "1 0.3218799922399638\n",
      "Objective LinearRegression_Objective:\n"
     ]
    },
    {
     "name": "stderr",
     "output_type": "stream",
     "text": [
      "  6%|█████████████████                                                                                                                                                                                                                                                                | 499/8000 [00:00<00:02, 3017.46it/s]\n"
     ]
    },
    {
     "name": "stdout",
     "output_type": "stream",
     "text": [
      "iterations: 499\n",
      "Number of used features: 26\n",
      "Used features: ['num-092k-thigh.nii.gz-0.500000', 'sum-092k-thigh.nii.gz-0.500000', 'mean-092k-thigh.nii.gz-0.500000', 'std-092k-thigh.nii.gz-0.500000', 'skew-092k-thigh.nii.gz-0.500000', 'kurt-092k-thigh.nii.gz-0.500000', 'hist-0-092k-thigh.nii.gz-0.500000', 'hist-1-092k-thigh.nii.gz-0.500000', 'hist-2-092k-thigh.nii.gz-0.500000', 'hist-3-092k-thigh.nii.gz-0.500000', 'hist-4-092k-thigh.nii.gz-0.500000', 'hist-5-092k-thigh.nii.gz-0.500000', 'hist-6-092k-thigh.nii.gz-0.500000', 'hist-7-092k-thigh.nii.gz-0.500000', 'hist-8-092k-thigh.nii.gz-0.500000', 'hist-9-092k-thigh.nii.gz-0.500000', 'hist-10-092k-thigh.nii.gz-0.500000', 'hist-11-092k-thigh.nii.gz-0.500000', 'hist-12-092k-thigh.nii.gz-0.500000', 'hist-13-092k-thigh.nii.gz-0.500000', 'hist-14-092k-thigh.nii.gz-0.500000', 'hist-15-092k-thigh.nii.gz-0.500000', 'hist-16-092k-thigh.nii.gz-0.500000', 'hist-17-092k-thigh.nii.gz-0.500000', 'hist-18-092k-thigh.nii.gz-0.500000', 'hist-19-092k-thigh.nii.gz-0.500000'] \n",
      "Score: 0.019134380088764225\n"
     ]
    },
    {
     "name": "stderr",
     "output_type": "stream",
     "text": [
      "200it [00:00, 713.33it/s]\n"
     ]
    },
    {
     "name": "stdout",
     "output_type": "stream",
     "text": [
      "1\n",
      "1 0.07973504495490469\n",
      "Objective LassoRegression_Objective:\n"
     ]
    },
    {
     "name": "stderr",
     "output_type": "stream",
     "text": [
      "  6%|█████████████████▍                                                                                                                                                                                                                                                                | 508/8000 [00:02<00:31, 241.16it/s]\n"
     ]
    },
    {
     "name": "stdout",
     "output_type": "stream",
     "text": [
      "iterations: 508\n",
      "Number of used features: 26\n",
      "Used features: ['num-092k-thigh.nii.gz-0.500000', 'sum-092k-thigh.nii.gz-0.500000', 'mean-092k-thigh.nii.gz-0.500000', 'std-092k-thigh.nii.gz-0.500000', 'skew-092k-thigh.nii.gz-0.500000', 'kurt-092k-thigh.nii.gz-0.500000', 'hist-0-092k-thigh.nii.gz-0.500000', 'hist-1-092k-thigh.nii.gz-0.500000', 'hist-2-092k-thigh.nii.gz-0.500000', 'hist-3-092k-thigh.nii.gz-0.500000', 'hist-4-092k-thigh.nii.gz-0.500000', 'hist-5-092k-thigh.nii.gz-0.500000', 'hist-6-092k-thigh.nii.gz-0.500000', 'hist-7-092k-thigh.nii.gz-0.500000', 'hist-8-092k-thigh.nii.gz-0.500000', 'hist-9-092k-thigh.nii.gz-0.500000', 'hist-10-092k-thigh.nii.gz-0.500000', 'hist-11-092k-thigh.nii.gz-0.500000', 'hist-12-092k-thigh.nii.gz-0.500000', 'hist-13-092k-thigh.nii.gz-0.500000', 'hist-14-092k-thigh.nii.gz-0.500000', 'hist-15-092k-thigh.nii.gz-0.500000', 'hist-16-092k-thigh.nii.gz-0.500000', 'hist-17-092k-thigh.nii.gz-0.500000', 'hist-18-092k-thigh.nii.gz-0.500000', 'hist-19-092k-thigh.nii.gz-0.500000'] \n",
      "Score: -0.513727717167421\n"
     ]
    },
    {
     "name": "stderr",
     "output_type": "stream",
     "text": [
      "200it [00:00, 515.84it/s]\n"
     ]
    },
    {
     "name": "stdout",
     "output_type": "stream",
     "text": [
      "1\n",
      "1 0.5248273873234917\n",
      "Objective RidgeRegression_Objective:\n"
     ]
    },
    {
     "name": "stderr",
     "output_type": "stream",
     "text": [
      "  6%|█████████████████                                                                                                                                                                                                                                                                 | 499/8000 [00:01<00:24, 308.45it/s]\n"
     ]
    },
    {
     "name": "stdout",
     "output_type": "stream",
     "text": [
      "iterations: 499\n",
      "Number of used features: 26\n",
      "Used features: ['num-092k-thigh.nii.gz-0.500000', 'sum-092k-thigh.nii.gz-0.500000', 'mean-092k-thigh.nii.gz-0.500000', 'std-092k-thigh.nii.gz-0.500000', 'skew-092k-thigh.nii.gz-0.500000', 'kurt-092k-thigh.nii.gz-0.500000', 'hist-0-092k-thigh.nii.gz-0.500000', 'hist-1-092k-thigh.nii.gz-0.500000', 'hist-2-092k-thigh.nii.gz-0.500000', 'hist-3-092k-thigh.nii.gz-0.500000', 'hist-4-092k-thigh.nii.gz-0.500000', 'hist-5-092k-thigh.nii.gz-0.500000', 'hist-6-092k-thigh.nii.gz-0.500000', 'hist-7-092k-thigh.nii.gz-0.500000', 'hist-8-092k-thigh.nii.gz-0.500000', 'hist-9-092k-thigh.nii.gz-0.500000', 'hist-10-092k-thigh.nii.gz-0.500000', 'hist-11-092k-thigh.nii.gz-0.500000', 'hist-12-092k-thigh.nii.gz-0.500000', 'hist-13-092k-thigh.nii.gz-0.500000', 'hist-14-092k-thigh.nii.gz-0.500000', 'hist-15-092k-thigh.nii.gz-0.500000', 'hist-16-092k-thigh.nii.gz-0.500000', 'hist-17-092k-thigh.nii.gz-0.500000', 'hist-18-092k-thigh.nii.gz-0.500000', 'hist-19-092k-thigh.nii.gz-0.500000'] \n",
      "Score: -0.44205036363128536\n"
     ]
    },
    {
     "name": "stderr",
     "output_type": "stream",
     "text": [
      "200it [00:00, 566.93it/s]\n"
     ]
    },
    {
     "name": "stdout",
     "output_type": "stream",
     "text": [
      "1\n",
      "1 0.46726366953104526\n",
      "Objective PLSRegression_Objective:\n"
     ]
    },
    {
     "name": "stderr",
     "output_type": "stream",
     "text": [
      "  6%|█████████████████▏                                                                                                                                                                                                                                                                | 502/8000 [00:00<00:07, 953.66it/s]\n"
     ]
    },
    {
     "name": "stdout",
     "output_type": "stream",
     "text": [
      "iterations: 502\n",
      "Number of used features: 26\n",
      "Used features: ['num-092k-thigh.nii.gz-0.500000', 'sum-092k-thigh.nii.gz-0.500000', 'mean-092k-thigh.nii.gz-0.500000', 'std-092k-thigh.nii.gz-0.500000', 'skew-092k-thigh.nii.gz-0.500000', 'kurt-092k-thigh.nii.gz-0.500000', 'hist-0-092k-thigh.nii.gz-0.500000', 'hist-1-092k-thigh.nii.gz-0.500000', 'hist-2-092k-thigh.nii.gz-0.500000', 'hist-3-092k-thigh.nii.gz-0.500000', 'hist-4-092k-thigh.nii.gz-0.500000', 'hist-5-092k-thigh.nii.gz-0.500000', 'hist-6-092k-thigh.nii.gz-0.500000', 'hist-7-092k-thigh.nii.gz-0.500000', 'hist-8-092k-thigh.nii.gz-0.500000', 'hist-9-092k-thigh.nii.gz-0.500000', 'hist-10-092k-thigh.nii.gz-0.500000', 'hist-11-092k-thigh.nii.gz-0.500000', 'hist-12-092k-thigh.nii.gz-0.500000', 'hist-13-092k-thigh.nii.gz-0.500000', 'hist-14-092k-thigh.nii.gz-0.500000', 'hist-15-092k-thigh.nii.gz-0.500000', 'hist-16-092k-thigh.nii.gz-0.500000', 'hist-17-092k-thigh.nii.gz-0.500000', 'hist-18-092k-thigh.nii.gz-0.500000', 'hist-19-092k-thigh.nii.gz-0.500000'] \n",
      "Score: -0.4886130778554968\n"
     ]
    },
    {
     "name": "stderr",
     "output_type": "stream",
     "text": [
      "200it [00:00, 641.77it/s]"
     ]
    },
    {
     "name": "stdout",
     "output_type": "stream",
     "text": [
      "1\n",
      "1 0.5060887312294099\n"
     ]
    },
    {
     "name": "stderr",
     "output_type": "stream",
     "text": [
      "\n"
     ]
    }
   ],
   "source": [
    "for m in masks:\n",
    "    results_no_fs.append(model_selection(thigh_features[[c for c in thigh_features.columns if m in c or c == 'type']], thigh_target, dataset='thigh', type=m, disable_feature_selection=True))"
   ]
  },
  {
   "cell_type": "markdown",
   "metadata": {},
   "source": [
    "### breast all features"
   ]
  },
  {
   "cell_type": "code",
   "execution_count": 17,
   "metadata": {},
   "outputs": [
    {
     "name": "stdout",
     "output_type": "stream",
     "text": [
      "Objective KNNR_Objective:\n"
     ]
    },
    {
     "name": "stderr",
     "output_type": "stream",
     "text": [
      "  7%|██████████████████▋                                                                                                                                                                                                                                                                | 545/8000 [00:43<09:57, 12.48it/s]\n"
     ]
    },
    {
     "name": "stdout",
     "output_type": "stream",
     "text": [
      "iterations: 545\n",
      "Number of used features: 443\n",
      "Used features: ['num-074k-breast.nii.gz-0.500000', 'sum-074k-breast.nii.gz-0.500000', 'mean-074k-breast.nii.gz-0.500000', 'std-074k-breast.nii.gz-0.500000', 'skew-074k-breast.nii.gz-0.500000', 'kurt-074k-breast.nii.gz-0.500000', 'hist-0-074k-breast.nii.gz-0.500000', 'hist-1-074k-breast.nii.gz-0.500000', 'hist-2-074k-breast.nii.gz-0.500000', 'hist-3-074k-breast.nii.gz-0.500000', 'hist-4-074k-breast.nii.gz-0.500000', 'hist-5-074k-breast.nii.gz-0.500000', 'hist-6-074k-breast.nii.gz-0.500000', 'hist-7-074k-breast.nii.gz-0.500000', 'hist-8-074k-breast.nii.gz-0.500000', 'hist-9-074k-breast.nii.gz-0.500000', 'hist-10-074k-breast.nii.gz-0.500000', 'hist-11-074k-breast.nii.gz-0.500000', 'hist-12-074k-breast.nii.gz-0.500000', 'hist-13-074k-breast.nii.gz-0.500000', 'hist-14-074k-breast.nii.gz-0.500000', 'hist-15-074k-breast.nii.gz-0.500000', 'hist-16-074k-breast.nii.gz-0.500000', 'hist-17-074k-breast.nii.gz-0.500000', 'hist-18-074k-breast.nii.gz-0.500000', 'hist-19-074k-breast.nii.gz-0.500000', 'num-075a-breast.nii.gz-0.500000', 'sum-075a-breast.nii.gz-0.500000', 'mean-075a-breast.nii.gz-0.500000', 'std-075a-breast.nii.gz-0.500000', 'skew-075a-breast.nii.gz-0.500000', 'kurt-075a-breast.nii.gz-0.500000', 'hist-0-075a-breast.nii.gz-0.500000', 'hist-1-075a-breast.nii.gz-0.500000', 'hist-2-075a-breast.nii.gz-0.500000', 'hist-3-075a-breast.nii.gz-0.500000', 'hist-4-075a-breast.nii.gz-0.500000', 'hist-5-075a-breast.nii.gz-0.500000', 'hist-6-075a-breast.nii.gz-0.500000', 'hist-7-075a-breast.nii.gz-0.500000', 'hist-8-075a-breast.nii.gz-0.500000', 'hist-9-075a-breast.nii.gz-0.500000', 'hist-10-075a-breast.nii.gz-0.500000', 'hist-11-075a-breast.nii.gz-0.500000', 'hist-12-075a-breast.nii.gz-0.500000', 'hist-13-075a-breast.nii.gz-0.500000', 'hist-14-075a-breast.nii.gz-0.500000', 'hist-15-075a-breast.nii.gz-0.500000', 'hist-16-075a-breast.nii.gz-0.500000', 'hist-17-075a-breast.nii.gz-0.500000', 'hist-18-075a-breast.nii.gz-0.500000', 'hist-19-075a-breast.nii.gz-0.500000', 'num-075k-breast.nii.gz-0.500000', 'sum-075k-breast.nii.gz-0.500000', 'mean-075k-breast.nii.gz-0.500000', 'std-075k-breast.nii.gz-0.500000', 'skew-075k-breast.nii.gz-0.500000', 'kurt-075k-breast.nii.gz-0.500000', 'hist-0-075k-breast.nii.gz-0.500000', 'hist-1-075k-breast.nii.gz-0.500000', 'hist-2-075k-breast.nii.gz-0.500000', 'hist-3-075k-breast.nii.gz-0.500000', 'hist-4-075k-breast.nii.gz-0.500000', 'hist-5-075k-breast.nii.gz-0.500000', 'hist-6-075k-breast.nii.gz-0.500000', 'hist-7-075k-breast.nii.gz-0.500000', 'hist-8-075k-breast.nii.gz-0.500000', 'hist-9-075k-breast.nii.gz-0.500000', 'hist-10-075k-breast.nii.gz-0.500000', 'hist-11-075k-breast.nii.gz-0.500000', 'hist-12-075k-breast.nii.gz-0.500000', 'hist-13-075k-breast.nii.gz-0.500000', 'hist-14-075k-breast.nii.gz-0.500000', 'hist-15-075k-breast.nii.gz-0.500000', 'hist-16-075k-breast.nii.gz-0.500000', 'hist-17-075k-breast.nii.gz-0.500000', 'hist-18-075k-breast.nii.gz-0.500000', 'hist-19-075k-breast.nii.gz-0.500000', 'num-077k-breast.nii.gz-0.500000', 'sum-077k-breast.nii.gz-0.500000', 'mean-077k-breast.nii.gz-0.500000', 'std-077k-breast.nii.gz-0.500000', 'skew-077k-breast.nii.gz-0.500000', 'kurt-077k-breast.nii.gz-0.500000', 'hist-0-077k-breast.nii.gz-0.500000', 'hist-1-077k-breast.nii.gz-0.500000', 'hist-2-077k-breast.nii.gz-0.500000', 'hist-3-077k-breast.nii.gz-0.500000', 'hist-4-077k-breast.nii.gz-0.500000', 'hist-5-077k-breast.nii.gz-0.500000', 'hist-6-077k-breast.nii.gz-0.500000', 'hist-7-077k-breast.nii.gz-0.500000', 'hist-8-077k-breast.nii.gz-0.500000', 'hist-9-077k-breast.nii.gz-0.500000', 'hist-10-077k-breast.nii.gz-0.500000', 'hist-11-077k-breast.nii.gz-0.500000', 'hist-12-077k-breast.nii.gz-0.500000', 'hist-13-077k-breast.nii.gz-0.500000', 'hist-14-077k-breast.nii.gz-0.500000', 'hist-15-077k-breast.nii.gz-0.500000', 'hist-16-077k-breast.nii.gz-0.500000', 'hist-17-077k-breast.nii.gz-0.500000', 'hist-18-077k-breast.nii.gz-0.500000', 'hist-19-077k-breast.nii.gz-0.500000', 'num-079k-breast.nii.gz-0.500000', 'sum-079k-breast.nii.gz-0.500000', 'mean-079k-breast.nii.gz-0.500000', 'std-079k-breast.nii.gz-0.500000', 'skew-079k-breast.nii.gz-0.500000', 'kurt-079k-breast.nii.gz-0.500000', 'hist-0-079k-breast.nii.gz-0.500000', 'hist-1-079k-breast.nii.gz-0.500000', 'hist-2-079k-breast.nii.gz-0.500000', 'hist-3-079k-breast.nii.gz-0.500000', 'hist-4-079k-breast.nii.gz-0.500000', 'hist-5-079k-breast.nii.gz-0.500000', 'hist-6-079k-breast.nii.gz-0.500000', 'hist-7-079k-breast.nii.gz-0.500000', 'hist-8-079k-breast.nii.gz-0.500000', 'hist-9-079k-breast.nii.gz-0.500000', 'hist-10-079k-breast.nii.gz-0.500000', 'hist-11-079k-breast.nii.gz-0.500000', 'hist-12-079k-breast.nii.gz-0.500000', 'hist-13-079k-breast.nii.gz-0.500000', 'hist-14-079k-breast.nii.gz-0.500000', 'hist-15-079k-breast.nii.gz-0.500000', 'hist-16-079k-breast.nii.gz-0.500000', 'hist-17-079k-breast.nii.gz-0.500000', 'hist-18-079k-breast.nii.gz-0.500000', 'hist-19-079k-breast.nii.gz-0.500000', 'num-080k-breast.nii.gz-0.500000', 'sum-080k-breast.nii.gz-0.500000', 'mean-080k-breast.nii.gz-0.500000', 'std-080k-breast.nii.gz-0.500000', 'skew-080k-breast.nii.gz-0.500000', 'kurt-080k-breast.nii.gz-0.500000', 'hist-0-080k-breast.nii.gz-0.500000', 'hist-1-080k-breast.nii.gz-0.500000', 'hist-2-080k-breast.nii.gz-0.500000', 'hist-3-080k-breast.nii.gz-0.500000', 'hist-4-080k-breast.nii.gz-0.500000', 'hist-5-080k-breast.nii.gz-0.500000', 'hist-6-080k-breast.nii.gz-0.500000', 'hist-7-080k-breast.nii.gz-0.500000', 'hist-8-080k-breast.nii.gz-0.500000', 'hist-9-080k-breast.nii.gz-0.500000', 'hist-10-080k-breast.nii.gz-0.500000', 'hist-11-080k-breast.nii.gz-0.500000', 'hist-12-080k-breast.nii.gz-0.500000', 'hist-13-080k-breast.nii.gz-0.500000', 'hist-14-080k-breast.nii.gz-0.500000', 'hist-15-080k-breast.nii.gz-0.500000', 'hist-16-080k-breast.nii.gz-0.500000', 'hist-17-080k-breast.nii.gz-0.500000', 'hist-18-080k-breast.nii.gz-0.500000', 'hist-19-080k-breast.nii.gz-0.500000', 'num-082k-breast.nii.gz-0.500000', 'sum-082k-breast.nii.gz-0.500000', 'mean-082k-breast.nii.gz-0.500000', 'std-082k-breast.nii.gz-0.500000', 'skew-082k-breast.nii.gz-0.500000', 'kurt-082k-breast.nii.gz-0.500000', 'hist-0-082k-breast.nii.gz-0.500000', 'hist-1-082k-breast.nii.gz-0.500000', 'hist-2-082k-breast.nii.gz-0.500000', 'hist-3-082k-breast.nii.gz-0.500000', 'hist-4-082k-breast.nii.gz-0.500000', 'hist-5-082k-breast.nii.gz-0.500000', 'hist-6-082k-breast.nii.gz-0.500000', 'hist-7-082k-breast.nii.gz-0.500000', 'hist-8-082k-breast.nii.gz-0.500000', 'hist-9-082k-breast.nii.gz-0.500000', 'hist-10-082k-breast.nii.gz-0.500000', 'hist-11-082k-breast.nii.gz-0.500000', 'hist-12-082k-breast.nii.gz-0.500000', 'hist-13-082k-breast.nii.gz-0.500000', 'hist-14-082k-breast.nii.gz-0.500000', 'hist-15-082k-breast.nii.gz-0.500000', 'hist-16-082k-breast.nii.gz-0.500000', 'hist-17-082k-breast.nii.gz-0.500000', 'hist-18-082k-breast.nii.gz-0.500000', 'hist-19-082k-breast.nii.gz-0.500000', 'num-083a-breast.nii.gz-0.500000', 'sum-083a-breast.nii.gz-0.500000', 'mean-083a-breast.nii.gz-0.500000', 'std-083a-breast.nii.gz-0.500000', 'skew-083a-breast.nii.gz-0.500000', 'kurt-083a-breast.nii.gz-0.500000', 'hist-0-083a-breast.nii.gz-0.500000', 'hist-1-083a-breast.nii.gz-0.500000', 'hist-2-083a-breast.nii.gz-0.500000', 'hist-3-083a-breast.nii.gz-0.500000', 'hist-4-083a-breast.nii.gz-0.500000', 'hist-5-083a-breast.nii.gz-0.500000', 'hist-6-083a-breast.nii.gz-0.500000', 'hist-7-083a-breast.nii.gz-0.500000', 'hist-8-083a-breast.nii.gz-0.500000', 'hist-9-083a-breast.nii.gz-0.500000', 'hist-10-083a-breast.nii.gz-0.500000', 'hist-11-083a-breast.nii.gz-0.500000', 'hist-12-083a-breast.nii.gz-0.500000', 'hist-13-083a-breast.nii.gz-0.500000', 'hist-14-083a-breast.nii.gz-0.500000', 'hist-15-083a-breast.nii.gz-0.500000', 'hist-16-083a-breast.nii.gz-0.500000', 'hist-17-083a-breast.nii.gz-0.500000', 'hist-18-083a-breast.nii.gz-0.500000', 'hist-19-083a-breast.nii.gz-0.500000', 'num-083k-breast.nii.gz-0.500000', 'sum-083k-breast.nii.gz-0.500000', 'mean-083k-breast.nii.gz-0.500000', 'std-083k-breast.nii.gz-0.500000', 'skew-083k-breast.nii.gz-0.500000', 'kurt-083k-breast.nii.gz-0.500000', 'hist-0-083k-breast.nii.gz-0.500000', 'hist-1-083k-breast.nii.gz-0.500000', 'hist-2-083k-breast.nii.gz-0.500000', 'hist-3-083k-breast.nii.gz-0.500000', 'hist-4-083k-breast.nii.gz-0.500000', 'hist-5-083k-breast.nii.gz-0.500000', 'hist-6-083k-breast.nii.gz-0.500000', 'hist-7-083k-breast.nii.gz-0.500000', 'hist-8-083k-breast.nii.gz-0.500000', 'hist-9-083k-breast.nii.gz-0.500000', 'hist-10-083k-breast.nii.gz-0.500000', 'hist-11-083k-breast.nii.gz-0.500000', 'hist-12-083k-breast.nii.gz-0.500000', 'hist-13-083k-breast.nii.gz-0.500000', 'hist-14-083k-breast.nii.gz-0.500000', 'hist-15-083k-breast.nii.gz-0.500000', 'hist-16-083k-breast.nii.gz-0.500000', 'hist-17-083k-breast.nii.gz-0.500000', 'hist-18-083k-breast.nii.gz-0.500000', 'hist-19-083k-breast.nii.gz-0.500000', 'num-084a-breast.nii.gz-0.500000', 'sum-084a-breast.nii.gz-0.500000', 'mean-084a-breast.nii.gz-0.500000', 'std-084a-breast.nii.gz-0.500000', 'skew-084a-breast.nii.gz-0.500000', 'kurt-084a-breast.nii.gz-0.500000', 'hist-0-084a-breast.nii.gz-0.500000', 'hist-1-084a-breast.nii.gz-0.500000', 'hist-2-084a-breast.nii.gz-0.500000', 'hist-3-084a-breast.nii.gz-0.500000', 'hist-4-084a-breast.nii.gz-0.500000', 'hist-5-084a-breast.nii.gz-0.500000', 'hist-6-084a-breast.nii.gz-0.500000', 'hist-7-084a-breast.nii.gz-0.500000', 'hist-8-084a-breast.nii.gz-0.500000', 'hist-9-084a-breast.nii.gz-0.500000', 'hist-10-084a-breast.nii.gz-0.500000', 'hist-11-084a-breast.nii.gz-0.500000', 'hist-12-084a-breast.nii.gz-0.500000', 'hist-13-084a-breast.nii.gz-0.500000', 'hist-14-084a-breast.nii.gz-0.500000', 'hist-15-084a-breast.nii.gz-0.500000', 'hist-16-084a-breast.nii.gz-0.500000', 'hist-17-084a-breast.nii.gz-0.500000', 'hist-18-084a-breast.nii.gz-0.500000', 'hist-19-084a-breast.nii.gz-0.500000', 'num-087f-breast.nii.gz-0.500000', 'sum-087f-breast.nii.gz-0.500000', 'mean-087f-breast.nii.gz-0.500000', 'std-087f-breast.nii.gz-0.500000', 'skew-087f-breast.nii.gz-0.500000', 'kurt-087f-breast.nii.gz-0.500000', 'hist-0-087f-breast.nii.gz-0.500000', 'hist-1-087f-breast.nii.gz-0.500000', 'hist-2-087f-breast.nii.gz-0.500000', 'hist-3-087f-breast.nii.gz-0.500000', 'hist-4-087f-breast.nii.gz-0.500000', 'hist-5-087f-breast.nii.gz-0.500000', 'hist-6-087f-breast.nii.gz-0.500000', 'hist-7-087f-breast.nii.gz-0.500000', 'hist-8-087f-breast.nii.gz-0.500000', 'hist-9-087f-breast.nii.gz-0.500000', 'hist-10-087f-breast.nii.gz-0.500000', 'hist-11-087f-breast.nii.gz-0.500000', 'hist-12-087f-breast.nii.gz-0.500000', 'hist-13-087f-breast.nii.gz-0.500000', 'hist-14-087f-breast.nii.gz-0.500000', 'hist-15-087f-breast.nii.gz-0.500000', 'hist-16-087f-breast.nii.gz-0.500000', 'hist-17-087f-breast.nii.gz-0.500000', 'hist-18-087f-breast.nii.gz-0.500000', 'hist-19-087f-breast.nii.gz-0.500000', 'num-088f-breast.nii.gz-0.500000', 'sum-088f-breast.nii.gz-0.500000', 'mean-088f-breast.nii.gz-0.500000', 'std-088f-breast.nii.gz-0.500000', 'skew-088f-breast.nii.gz-0.500000', 'kurt-088f-breast.nii.gz-0.500000', 'hist-0-088f-breast.nii.gz-0.500000', 'hist-1-088f-breast.nii.gz-0.500000', 'hist-2-088f-breast.nii.gz-0.500000', 'hist-3-088f-breast.nii.gz-0.500000', 'hist-4-088f-breast.nii.gz-0.500000', 'hist-5-088f-breast.nii.gz-0.500000', 'hist-6-088f-breast.nii.gz-0.500000', 'hist-7-088f-breast.nii.gz-0.500000', 'hist-8-088f-breast.nii.gz-0.500000', 'hist-9-088f-breast.nii.gz-0.500000', 'hist-10-088f-breast.nii.gz-0.500000', 'hist-11-088f-breast.nii.gz-0.500000', 'hist-12-088f-breast.nii.gz-0.500000', 'hist-13-088f-breast.nii.gz-0.500000', 'hist-14-088f-breast.nii.gz-0.500000', 'hist-15-088f-breast.nii.gz-0.500000', 'hist-16-088f-breast.nii.gz-0.500000', 'hist-17-088f-breast.nii.gz-0.500000', 'hist-18-088f-breast.nii.gz-0.500000', 'hist-19-088f-breast.nii.gz-0.500000', 'num-088k-breast.nii.gz-0.500000', 'sum-088k-breast.nii.gz-0.500000', 'mean-088k-breast.nii.gz-0.500000', 'std-088k-breast.nii.gz-0.500000', 'skew-088k-breast.nii.gz-0.500000', 'kurt-088k-breast.nii.gz-0.500000', 'hist-0-088k-breast.nii.gz-0.500000', 'hist-1-088k-breast.nii.gz-0.500000', 'hist-2-088k-breast.nii.gz-0.500000', 'hist-3-088k-breast.nii.gz-0.500000', 'hist-4-088k-breast.nii.gz-0.500000', 'hist-5-088k-breast.nii.gz-0.500000', 'hist-6-088k-breast.nii.gz-0.500000', 'hist-7-088k-breast.nii.gz-0.500000', 'hist-8-088k-breast.nii.gz-0.500000', 'hist-9-088k-breast.nii.gz-0.500000', 'hist-10-088k-breast.nii.gz-0.500000', 'hist-11-088k-breast.nii.gz-0.500000', 'hist-12-088k-breast.nii.gz-0.500000', 'hist-13-088k-breast.nii.gz-0.500000', 'hist-14-088k-breast.nii.gz-0.500000', 'hist-15-088k-breast.nii.gz-0.500000', 'hist-16-088k-breast.nii.gz-0.500000', 'hist-17-088k-breast.nii.gz-0.500000', 'hist-18-088k-breast.nii.gz-0.500000', 'hist-19-088k-breast.nii.gz-0.500000', 'num-090a-breast.nii.gz-0.500000', 'sum-090a-breast.nii.gz-0.500000', 'mean-090a-breast.nii.gz-0.500000', 'std-090a-breast.nii.gz-0.500000', 'skew-090a-breast.nii.gz-0.500000', 'kurt-090a-breast.nii.gz-0.500000', 'hist-0-090a-breast.nii.gz-0.500000', 'hist-1-090a-breast.nii.gz-0.500000', 'hist-2-090a-breast.nii.gz-0.500000', 'hist-3-090a-breast.nii.gz-0.500000', 'hist-4-090a-breast.nii.gz-0.500000', 'hist-5-090a-breast.nii.gz-0.500000', 'hist-6-090a-breast.nii.gz-0.500000', 'hist-7-090a-breast.nii.gz-0.500000', 'hist-8-090a-breast.nii.gz-0.500000', 'hist-9-090a-breast.nii.gz-0.500000', 'hist-10-090a-breast.nii.gz-0.500000', 'hist-11-090a-breast.nii.gz-0.500000', 'hist-12-090a-breast.nii.gz-0.500000', 'hist-13-090a-breast.nii.gz-0.500000', 'hist-14-090a-breast.nii.gz-0.500000', 'hist-15-090a-breast.nii.gz-0.500000', 'hist-16-090a-breast.nii.gz-0.500000', 'hist-17-090a-breast.nii.gz-0.500000', 'hist-18-090a-breast.nii.gz-0.500000', 'hist-19-090a-breast.nii.gz-0.500000', 'num-091f-breast.nii.gz-0.500000', 'sum-091f-breast.nii.gz-0.500000', 'mean-091f-breast.nii.gz-0.500000', 'std-091f-breast.nii.gz-0.500000', 'skew-091f-breast.nii.gz-0.500000', 'kurt-091f-breast.nii.gz-0.500000', 'hist-0-091f-breast.nii.gz-0.500000', 'hist-1-091f-breast.nii.gz-0.500000', 'hist-2-091f-breast.nii.gz-0.500000', 'hist-3-091f-breast.nii.gz-0.500000', 'hist-4-091f-breast.nii.gz-0.500000', 'hist-5-091f-breast.nii.gz-0.500000', 'hist-6-091f-breast.nii.gz-0.500000', 'hist-7-091f-breast.nii.gz-0.500000', 'hist-8-091f-breast.nii.gz-0.500000', 'hist-9-091f-breast.nii.gz-0.500000', 'hist-10-091f-breast.nii.gz-0.500000', 'hist-11-091f-breast.nii.gz-0.500000', 'hist-12-091f-breast.nii.gz-0.500000', 'hist-13-091f-breast.nii.gz-0.500000', 'hist-14-091f-breast.nii.gz-0.500000', 'hist-15-091f-breast.nii.gz-0.500000', 'hist-16-091f-breast.nii.gz-0.500000', 'hist-17-091f-breast.nii.gz-0.500000', 'hist-18-091f-breast.nii.gz-0.500000', 'hist-19-091f-breast.nii.gz-0.500000', 'num-092k-breast.nii.gz-0.500000', 'sum-092k-breast.nii.gz-0.500000', 'mean-092k-breast.nii.gz-0.500000', 'std-092k-breast.nii.gz-0.500000', 'skew-092k-breast.nii.gz-0.500000', 'kurt-092k-breast.nii.gz-0.500000', 'hist-0-092k-breast.nii.gz-0.500000', 'hist-1-092k-breast.nii.gz-0.500000', 'hist-2-092k-breast.nii.gz-0.500000', 'hist-3-092k-breast.nii.gz-0.500000', 'hist-4-092k-breast.nii.gz-0.500000', 'hist-5-092k-breast.nii.gz-0.500000', 'hist-6-092k-breast.nii.gz-0.500000', 'hist-7-092k-breast.nii.gz-0.500000', 'hist-8-092k-breast.nii.gz-0.500000', 'hist-9-092k-breast.nii.gz-0.500000', 'hist-10-092k-breast.nii.gz-0.500000', 'hist-11-092k-breast.nii.gz-0.500000', 'hist-12-092k-breast.nii.gz-0.500000', 'hist-13-092k-breast.nii.gz-0.500000', 'hist-14-092k-breast.nii.gz-0.500000', 'hist-15-092k-breast.nii.gz-0.500000', 'hist-16-092k-breast.nii.gz-0.500000', 'hist-17-092k-breast.nii.gz-0.500000', 'hist-18-092k-breast.nii.gz-0.500000', 'hist-19-092k-breast.nii.gz-0.500000', 'num-0.500000-mean_mask', 'sum-0.500000-mean_mask', 'mean-0.500000-mean_mask', 'std-0.500000-mean_mask', 'skew-0.500000-mean_mask', 'kurt-0.500000-mean_mask', 'hist-0-0.500000-mean_mask', 'hist-1-0.500000-mean_mask', 'hist-2-0.500000-mean_mask', 'hist-3-0.500000-mean_mask', 'hist-4-0.500000-mean_mask', 'hist-5-0.500000-mean_mask', 'hist-6-0.500000-mean_mask', 'hist-7-0.500000-mean_mask', 'hist-8-0.500000-mean_mask', 'hist-9-0.500000-mean_mask', 'hist-10-0.500000-mean_mask', 'hist-11-0.500000-mean_mask', 'hist-12-0.500000-mean_mask', 'hist-13-0.500000-mean_mask', 'hist-14-0.500000-mean_mask', 'hist-15-0.500000-mean_mask', 'hist-16-0.500000-mean_mask', 'hist-17-0.500000-mean_mask', 'hist-18-0.500000-mean_mask', 'hist-19-0.500000-mean_mask', 'pos'] \n",
      "Score: -0.6559201520107321\n"
     ]
    },
    {
     "name": "stderr",
     "output_type": "stream",
     "text": [
      "200it [00:00, 571.90it/s]\n"
     ]
    },
    {
     "name": "stdout",
     "output_type": "stream",
     "text": [
      "1\n",
      "1 0.6724189771214784\n",
      "Objective LinearRegression_Objective:\n"
     ]
    },
    {
     "name": "stderr",
     "output_type": "stream",
     "text": [
      "  6%|█████████████████                                                                                                                                                                                                                                                                 | 499/8000 [00:00<00:09, 783.69it/s]\n"
     ]
    },
    {
     "name": "stdout",
     "output_type": "stream",
     "text": [
      "iterations: 499\n",
      "Number of used features: 443\n",
      "Used features: ['num-074k-breast.nii.gz-0.500000', 'sum-074k-breast.nii.gz-0.500000', 'mean-074k-breast.nii.gz-0.500000', 'std-074k-breast.nii.gz-0.500000', 'skew-074k-breast.nii.gz-0.500000', 'kurt-074k-breast.nii.gz-0.500000', 'hist-0-074k-breast.nii.gz-0.500000', 'hist-1-074k-breast.nii.gz-0.500000', 'hist-2-074k-breast.nii.gz-0.500000', 'hist-3-074k-breast.nii.gz-0.500000', 'hist-4-074k-breast.nii.gz-0.500000', 'hist-5-074k-breast.nii.gz-0.500000', 'hist-6-074k-breast.nii.gz-0.500000', 'hist-7-074k-breast.nii.gz-0.500000', 'hist-8-074k-breast.nii.gz-0.500000', 'hist-9-074k-breast.nii.gz-0.500000', 'hist-10-074k-breast.nii.gz-0.500000', 'hist-11-074k-breast.nii.gz-0.500000', 'hist-12-074k-breast.nii.gz-0.500000', 'hist-13-074k-breast.nii.gz-0.500000', 'hist-14-074k-breast.nii.gz-0.500000', 'hist-15-074k-breast.nii.gz-0.500000', 'hist-16-074k-breast.nii.gz-0.500000', 'hist-17-074k-breast.nii.gz-0.500000', 'hist-18-074k-breast.nii.gz-0.500000', 'hist-19-074k-breast.nii.gz-0.500000', 'num-075a-breast.nii.gz-0.500000', 'sum-075a-breast.nii.gz-0.500000', 'mean-075a-breast.nii.gz-0.500000', 'std-075a-breast.nii.gz-0.500000', 'skew-075a-breast.nii.gz-0.500000', 'kurt-075a-breast.nii.gz-0.500000', 'hist-0-075a-breast.nii.gz-0.500000', 'hist-1-075a-breast.nii.gz-0.500000', 'hist-2-075a-breast.nii.gz-0.500000', 'hist-3-075a-breast.nii.gz-0.500000', 'hist-4-075a-breast.nii.gz-0.500000', 'hist-5-075a-breast.nii.gz-0.500000', 'hist-6-075a-breast.nii.gz-0.500000', 'hist-7-075a-breast.nii.gz-0.500000', 'hist-8-075a-breast.nii.gz-0.500000', 'hist-9-075a-breast.nii.gz-0.500000', 'hist-10-075a-breast.nii.gz-0.500000', 'hist-11-075a-breast.nii.gz-0.500000', 'hist-12-075a-breast.nii.gz-0.500000', 'hist-13-075a-breast.nii.gz-0.500000', 'hist-14-075a-breast.nii.gz-0.500000', 'hist-15-075a-breast.nii.gz-0.500000', 'hist-16-075a-breast.nii.gz-0.500000', 'hist-17-075a-breast.nii.gz-0.500000', 'hist-18-075a-breast.nii.gz-0.500000', 'hist-19-075a-breast.nii.gz-0.500000', 'num-075k-breast.nii.gz-0.500000', 'sum-075k-breast.nii.gz-0.500000', 'mean-075k-breast.nii.gz-0.500000', 'std-075k-breast.nii.gz-0.500000', 'skew-075k-breast.nii.gz-0.500000', 'kurt-075k-breast.nii.gz-0.500000', 'hist-0-075k-breast.nii.gz-0.500000', 'hist-1-075k-breast.nii.gz-0.500000', 'hist-2-075k-breast.nii.gz-0.500000', 'hist-3-075k-breast.nii.gz-0.500000', 'hist-4-075k-breast.nii.gz-0.500000', 'hist-5-075k-breast.nii.gz-0.500000', 'hist-6-075k-breast.nii.gz-0.500000', 'hist-7-075k-breast.nii.gz-0.500000', 'hist-8-075k-breast.nii.gz-0.500000', 'hist-9-075k-breast.nii.gz-0.500000', 'hist-10-075k-breast.nii.gz-0.500000', 'hist-11-075k-breast.nii.gz-0.500000', 'hist-12-075k-breast.nii.gz-0.500000', 'hist-13-075k-breast.nii.gz-0.500000', 'hist-14-075k-breast.nii.gz-0.500000', 'hist-15-075k-breast.nii.gz-0.500000', 'hist-16-075k-breast.nii.gz-0.500000', 'hist-17-075k-breast.nii.gz-0.500000', 'hist-18-075k-breast.nii.gz-0.500000', 'hist-19-075k-breast.nii.gz-0.500000', 'num-077k-breast.nii.gz-0.500000', 'sum-077k-breast.nii.gz-0.500000', 'mean-077k-breast.nii.gz-0.500000', 'std-077k-breast.nii.gz-0.500000', 'skew-077k-breast.nii.gz-0.500000', 'kurt-077k-breast.nii.gz-0.500000', 'hist-0-077k-breast.nii.gz-0.500000', 'hist-1-077k-breast.nii.gz-0.500000', 'hist-2-077k-breast.nii.gz-0.500000', 'hist-3-077k-breast.nii.gz-0.500000', 'hist-4-077k-breast.nii.gz-0.500000', 'hist-5-077k-breast.nii.gz-0.500000', 'hist-6-077k-breast.nii.gz-0.500000', 'hist-7-077k-breast.nii.gz-0.500000', 'hist-8-077k-breast.nii.gz-0.500000', 'hist-9-077k-breast.nii.gz-0.500000', 'hist-10-077k-breast.nii.gz-0.500000', 'hist-11-077k-breast.nii.gz-0.500000', 'hist-12-077k-breast.nii.gz-0.500000', 'hist-13-077k-breast.nii.gz-0.500000', 'hist-14-077k-breast.nii.gz-0.500000', 'hist-15-077k-breast.nii.gz-0.500000', 'hist-16-077k-breast.nii.gz-0.500000', 'hist-17-077k-breast.nii.gz-0.500000', 'hist-18-077k-breast.nii.gz-0.500000', 'hist-19-077k-breast.nii.gz-0.500000', 'num-079k-breast.nii.gz-0.500000', 'sum-079k-breast.nii.gz-0.500000', 'mean-079k-breast.nii.gz-0.500000', 'std-079k-breast.nii.gz-0.500000', 'skew-079k-breast.nii.gz-0.500000', 'kurt-079k-breast.nii.gz-0.500000', 'hist-0-079k-breast.nii.gz-0.500000', 'hist-1-079k-breast.nii.gz-0.500000', 'hist-2-079k-breast.nii.gz-0.500000', 'hist-3-079k-breast.nii.gz-0.500000', 'hist-4-079k-breast.nii.gz-0.500000', 'hist-5-079k-breast.nii.gz-0.500000', 'hist-6-079k-breast.nii.gz-0.500000', 'hist-7-079k-breast.nii.gz-0.500000', 'hist-8-079k-breast.nii.gz-0.500000', 'hist-9-079k-breast.nii.gz-0.500000', 'hist-10-079k-breast.nii.gz-0.500000', 'hist-11-079k-breast.nii.gz-0.500000', 'hist-12-079k-breast.nii.gz-0.500000', 'hist-13-079k-breast.nii.gz-0.500000', 'hist-14-079k-breast.nii.gz-0.500000', 'hist-15-079k-breast.nii.gz-0.500000', 'hist-16-079k-breast.nii.gz-0.500000', 'hist-17-079k-breast.nii.gz-0.500000', 'hist-18-079k-breast.nii.gz-0.500000', 'hist-19-079k-breast.nii.gz-0.500000', 'num-080k-breast.nii.gz-0.500000', 'sum-080k-breast.nii.gz-0.500000', 'mean-080k-breast.nii.gz-0.500000', 'std-080k-breast.nii.gz-0.500000', 'skew-080k-breast.nii.gz-0.500000', 'kurt-080k-breast.nii.gz-0.500000', 'hist-0-080k-breast.nii.gz-0.500000', 'hist-1-080k-breast.nii.gz-0.500000', 'hist-2-080k-breast.nii.gz-0.500000', 'hist-3-080k-breast.nii.gz-0.500000', 'hist-4-080k-breast.nii.gz-0.500000', 'hist-5-080k-breast.nii.gz-0.500000', 'hist-6-080k-breast.nii.gz-0.500000', 'hist-7-080k-breast.nii.gz-0.500000', 'hist-8-080k-breast.nii.gz-0.500000', 'hist-9-080k-breast.nii.gz-0.500000', 'hist-10-080k-breast.nii.gz-0.500000', 'hist-11-080k-breast.nii.gz-0.500000', 'hist-12-080k-breast.nii.gz-0.500000', 'hist-13-080k-breast.nii.gz-0.500000', 'hist-14-080k-breast.nii.gz-0.500000', 'hist-15-080k-breast.nii.gz-0.500000', 'hist-16-080k-breast.nii.gz-0.500000', 'hist-17-080k-breast.nii.gz-0.500000', 'hist-18-080k-breast.nii.gz-0.500000', 'hist-19-080k-breast.nii.gz-0.500000', 'num-082k-breast.nii.gz-0.500000', 'sum-082k-breast.nii.gz-0.500000', 'mean-082k-breast.nii.gz-0.500000', 'std-082k-breast.nii.gz-0.500000', 'skew-082k-breast.nii.gz-0.500000', 'kurt-082k-breast.nii.gz-0.500000', 'hist-0-082k-breast.nii.gz-0.500000', 'hist-1-082k-breast.nii.gz-0.500000', 'hist-2-082k-breast.nii.gz-0.500000', 'hist-3-082k-breast.nii.gz-0.500000', 'hist-4-082k-breast.nii.gz-0.500000', 'hist-5-082k-breast.nii.gz-0.500000', 'hist-6-082k-breast.nii.gz-0.500000', 'hist-7-082k-breast.nii.gz-0.500000', 'hist-8-082k-breast.nii.gz-0.500000', 'hist-9-082k-breast.nii.gz-0.500000', 'hist-10-082k-breast.nii.gz-0.500000', 'hist-11-082k-breast.nii.gz-0.500000', 'hist-12-082k-breast.nii.gz-0.500000', 'hist-13-082k-breast.nii.gz-0.500000', 'hist-14-082k-breast.nii.gz-0.500000', 'hist-15-082k-breast.nii.gz-0.500000', 'hist-16-082k-breast.nii.gz-0.500000', 'hist-17-082k-breast.nii.gz-0.500000', 'hist-18-082k-breast.nii.gz-0.500000', 'hist-19-082k-breast.nii.gz-0.500000', 'num-083a-breast.nii.gz-0.500000', 'sum-083a-breast.nii.gz-0.500000', 'mean-083a-breast.nii.gz-0.500000', 'std-083a-breast.nii.gz-0.500000', 'skew-083a-breast.nii.gz-0.500000', 'kurt-083a-breast.nii.gz-0.500000', 'hist-0-083a-breast.nii.gz-0.500000', 'hist-1-083a-breast.nii.gz-0.500000', 'hist-2-083a-breast.nii.gz-0.500000', 'hist-3-083a-breast.nii.gz-0.500000', 'hist-4-083a-breast.nii.gz-0.500000', 'hist-5-083a-breast.nii.gz-0.500000', 'hist-6-083a-breast.nii.gz-0.500000', 'hist-7-083a-breast.nii.gz-0.500000', 'hist-8-083a-breast.nii.gz-0.500000', 'hist-9-083a-breast.nii.gz-0.500000', 'hist-10-083a-breast.nii.gz-0.500000', 'hist-11-083a-breast.nii.gz-0.500000', 'hist-12-083a-breast.nii.gz-0.500000', 'hist-13-083a-breast.nii.gz-0.500000', 'hist-14-083a-breast.nii.gz-0.500000', 'hist-15-083a-breast.nii.gz-0.500000', 'hist-16-083a-breast.nii.gz-0.500000', 'hist-17-083a-breast.nii.gz-0.500000', 'hist-18-083a-breast.nii.gz-0.500000', 'hist-19-083a-breast.nii.gz-0.500000', 'num-083k-breast.nii.gz-0.500000', 'sum-083k-breast.nii.gz-0.500000', 'mean-083k-breast.nii.gz-0.500000', 'std-083k-breast.nii.gz-0.500000', 'skew-083k-breast.nii.gz-0.500000', 'kurt-083k-breast.nii.gz-0.500000', 'hist-0-083k-breast.nii.gz-0.500000', 'hist-1-083k-breast.nii.gz-0.500000', 'hist-2-083k-breast.nii.gz-0.500000', 'hist-3-083k-breast.nii.gz-0.500000', 'hist-4-083k-breast.nii.gz-0.500000', 'hist-5-083k-breast.nii.gz-0.500000', 'hist-6-083k-breast.nii.gz-0.500000', 'hist-7-083k-breast.nii.gz-0.500000', 'hist-8-083k-breast.nii.gz-0.500000', 'hist-9-083k-breast.nii.gz-0.500000', 'hist-10-083k-breast.nii.gz-0.500000', 'hist-11-083k-breast.nii.gz-0.500000', 'hist-12-083k-breast.nii.gz-0.500000', 'hist-13-083k-breast.nii.gz-0.500000', 'hist-14-083k-breast.nii.gz-0.500000', 'hist-15-083k-breast.nii.gz-0.500000', 'hist-16-083k-breast.nii.gz-0.500000', 'hist-17-083k-breast.nii.gz-0.500000', 'hist-18-083k-breast.nii.gz-0.500000', 'hist-19-083k-breast.nii.gz-0.500000', 'num-084a-breast.nii.gz-0.500000', 'sum-084a-breast.nii.gz-0.500000', 'mean-084a-breast.nii.gz-0.500000', 'std-084a-breast.nii.gz-0.500000', 'skew-084a-breast.nii.gz-0.500000', 'kurt-084a-breast.nii.gz-0.500000', 'hist-0-084a-breast.nii.gz-0.500000', 'hist-1-084a-breast.nii.gz-0.500000', 'hist-2-084a-breast.nii.gz-0.500000', 'hist-3-084a-breast.nii.gz-0.500000', 'hist-4-084a-breast.nii.gz-0.500000', 'hist-5-084a-breast.nii.gz-0.500000', 'hist-6-084a-breast.nii.gz-0.500000', 'hist-7-084a-breast.nii.gz-0.500000', 'hist-8-084a-breast.nii.gz-0.500000', 'hist-9-084a-breast.nii.gz-0.500000', 'hist-10-084a-breast.nii.gz-0.500000', 'hist-11-084a-breast.nii.gz-0.500000', 'hist-12-084a-breast.nii.gz-0.500000', 'hist-13-084a-breast.nii.gz-0.500000', 'hist-14-084a-breast.nii.gz-0.500000', 'hist-15-084a-breast.nii.gz-0.500000', 'hist-16-084a-breast.nii.gz-0.500000', 'hist-17-084a-breast.nii.gz-0.500000', 'hist-18-084a-breast.nii.gz-0.500000', 'hist-19-084a-breast.nii.gz-0.500000', 'num-087f-breast.nii.gz-0.500000', 'sum-087f-breast.nii.gz-0.500000', 'mean-087f-breast.nii.gz-0.500000', 'std-087f-breast.nii.gz-0.500000', 'skew-087f-breast.nii.gz-0.500000', 'kurt-087f-breast.nii.gz-0.500000', 'hist-0-087f-breast.nii.gz-0.500000', 'hist-1-087f-breast.nii.gz-0.500000', 'hist-2-087f-breast.nii.gz-0.500000', 'hist-3-087f-breast.nii.gz-0.500000', 'hist-4-087f-breast.nii.gz-0.500000', 'hist-5-087f-breast.nii.gz-0.500000', 'hist-6-087f-breast.nii.gz-0.500000', 'hist-7-087f-breast.nii.gz-0.500000', 'hist-8-087f-breast.nii.gz-0.500000', 'hist-9-087f-breast.nii.gz-0.500000', 'hist-10-087f-breast.nii.gz-0.500000', 'hist-11-087f-breast.nii.gz-0.500000', 'hist-12-087f-breast.nii.gz-0.500000', 'hist-13-087f-breast.nii.gz-0.500000', 'hist-14-087f-breast.nii.gz-0.500000', 'hist-15-087f-breast.nii.gz-0.500000', 'hist-16-087f-breast.nii.gz-0.500000', 'hist-17-087f-breast.nii.gz-0.500000', 'hist-18-087f-breast.nii.gz-0.500000', 'hist-19-087f-breast.nii.gz-0.500000', 'num-088f-breast.nii.gz-0.500000', 'sum-088f-breast.nii.gz-0.500000', 'mean-088f-breast.nii.gz-0.500000', 'std-088f-breast.nii.gz-0.500000', 'skew-088f-breast.nii.gz-0.500000', 'kurt-088f-breast.nii.gz-0.500000', 'hist-0-088f-breast.nii.gz-0.500000', 'hist-1-088f-breast.nii.gz-0.500000', 'hist-2-088f-breast.nii.gz-0.500000', 'hist-3-088f-breast.nii.gz-0.500000', 'hist-4-088f-breast.nii.gz-0.500000', 'hist-5-088f-breast.nii.gz-0.500000', 'hist-6-088f-breast.nii.gz-0.500000', 'hist-7-088f-breast.nii.gz-0.500000', 'hist-8-088f-breast.nii.gz-0.500000', 'hist-9-088f-breast.nii.gz-0.500000', 'hist-10-088f-breast.nii.gz-0.500000', 'hist-11-088f-breast.nii.gz-0.500000', 'hist-12-088f-breast.nii.gz-0.500000', 'hist-13-088f-breast.nii.gz-0.500000', 'hist-14-088f-breast.nii.gz-0.500000', 'hist-15-088f-breast.nii.gz-0.500000', 'hist-16-088f-breast.nii.gz-0.500000', 'hist-17-088f-breast.nii.gz-0.500000', 'hist-18-088f-breast.nii.gz-0.500000', 'hist-19-088f-breast.nii.gz-0.500000', 'num-088k-breast.nii.gz-0.500000', 'sum-088k-breast.nii.gz-0.500000', 'mean-088k-breast.nii.gz-0.500000', 'std-088k-breast.nii.gz-0.500000', 'skew-088k-breast.nii.gz-0.500000', 'kurt-088k-breast.nii.gz-0.500000', 'hist-0-088k-breast.nii.gz-0.500000', 'hist-1-088k-breast.nii.gz-0.500000', 'hist-2-088k-breast.nii.gz-0.500000', 'hist-3-088k-breast.nii.gz-0.500000', 'hist-4-088k-breast.nii.gz-0.500000', 'hist-5-088k-breast.nii.gz-0.500000', 'hist-6-088k-breast.nii.gz-0.500000', 'hist-7-088k-breast.nii.gz-0.500000', 'hist-8-088k-breast.nii.gz-0.500000', 'hist-9-088k-breast.nii.gz-0.500000', 'hist-10-088k-breast.nii.gz-0.500000', 'hist-11-088k-breast.nii.gz-0.500000', 'hist-12-088k-breast.nii.gz-0.500000', 'hist-13-088k-breast.nii.gz-0.500000', 'hist-14-088k-breast.nii.gz-0.500000', 'hist-15-088k-breast.nii.gz-0.500000', 'hist-16-088k-breast.nii.gz-0.500000', 'hist-17-088k-breast.nii.gz-0.500000', 'hist-18-088k-breast.nii.gz-0.500000', 'hist-19-088k-breast.nii.gz-0.500000', 'num-090a-breast.nii.gz-0.500000', 'sum-090a-breast.nii.gz-0.500000', 'mean-090a-breast.nii.gz-0.500000', 'std-090a-breast.nii.gz-0.500000', 'skew-090a-breast.nii.gz-0.500000', 'kurt-090a-breast.nii.gz-0.500000', 'hist-0-090a-breast.nii.gz-0.500000', 'hist-1-090a-breast.nii.gz-0.500000', 'hist-2-090a-breast.nii.gz-0.500000', 'hist-3-090a-breast.nii.gz-0.500000', 'hist-4-090a-breast.nii.gz-0.500000', 'hist-5-090a-breast.nii.gz-0.500000', 'hist-6-090a-breast.nii.gz-0.500000', 'hist-7-090a-breast.nii.gz-0.500000', 'hist-8-090a-breast.nii.gz-0.500000', 'hist-9-090a-breast.nii.gz-0.500000', 'hist-10-090a-breast.nii.gz-0.500000', 'hist-11-090a-breast.nii.gz-0.500000', 'hist-12-090a-breast.nii.gz-0.500000', 'hist-13-090a-breast.nii.gz-0.500000', 'hist-14-090a-breast.nii.gz-0.500000', 'hist-15-090a-breast.nii.gz-0.500000', 'hist-16-090a-breast.nii.gz-0.500000', 'hist-17-090a-breast.nii.gz-0.500000', 'hist-18-090a-breast.nii.gz-0.500000', 'hist-19-090a-breast.nii.gz-0.500000', 'num-091f-breast.nii.gz-0.500000', 'sum-091f-breast.nii.gz-0.500000', 'mean-091f-breast.nii.gz-0.500000', 'std-091f-breast.nii.gz-0.500000', 'skew-091f-breast.nii.gz-0.500000', 'kurt-091f-breast.nii.gz-0.500000', 'hist-0-091f-breast.nii.gz-0.500000', 'hist-1-091f-breast.nii.gz-0.500000', 'hist-2-091f-breast.nii.gz-0.500000', 'hist-3-091f-breast.nii.gz-0.500000', 'hist-4-091f-breast.nii.gz-0.500000', 'hist-5-091f-breast.nii.gz-0.500000', 'hist-6-091f-breast.nii.gz-0.500000', 'hist-7-091f-breast.nii.gz-0.500000', 'hist-8-091f-breast.nii.gz-0.500000', 'hist-9-091f-breast.nii.gz-0.500000', 'hist-10-091f-breast.nii.gz-0.500000', 'hist-11-091f-breast.nii.gz-0.500000', 'hist-12-091f-breast.nii.gz-0.500000', 'hist-13-091f-breast.nii.gz-0.500000', 'hist-14-091f-breast.nii.gz-0.500000', 'hist-15-091f-breast.nii.gz-0.500000', 'hist-16-091f-breast.nii.gz-0.500000', 'hist-17-091f-breast.nii.gz-0.500000', 'hist-18-091f-breast.nii.gz-0.500000', 'hist-19-091f-breast.nii.gz-0.500000', 'num-092k-breast.nii.gz-0.500000', 'sum-092k-breast.nii.gz-0.500000', 'mean-092k-breast.nii.gz-0.500000', 'std-092k-breast.nii.gz-0.500000', 'skew-092k-breast.nii.gz-0.500000', 'kurt-092k-breast.nii.gz-0.500000', 'hist-0-092k-breast.nii.gz-0.500000', 'hist-1-092k-breast.nii.gz-0.500000', 'hist-2-092k-breast.nii.gz-0.500000', 'hist-3-092k-breast.nii.gz-0.500000', 'hist-4-092k-breast.nii.gz-0.500000', 'hist-5-092k-breast.nii.gz-0.500000', 'hist-6-092k-breast.nii.gz-0.500000', 'hist-7-092k-breast.nii.gz-0.500000', 'hist-8-092k-breast.nii.gz-0.500000', 'hist-9-092k-breast.nii.gz-0.500000', 'hist-10-092k-breast.nii.gz-0.500000', 'hist-11-092k-breast.nii.gz-0.500000', 'hist-12-092k-breast.nii.gz-0.500000', 'hist-13-092k-breast.nii.gz-0.500000', 'hist-14-092k-breast.nii.gz-0.500000', 'hist-15-092k-breast.nii.gz-0.500000', 'hist-16-092k-breast.nii.gz-0.500000', 'hist-17-092k-breast.nii.gz-0.500000', 'hist-18-092k-breast.nii.gz-0.500000', 'hist-19-092k-breast.nii.gz-0.500000', 'num-0.500000-mean_mask', 'sum-0.500000-mean_mask', 'mean-0.500000-mean_mask', 'std-0.500000-mean_mask', 'skew-0.500000-mean_mask', 'kurt-0.500000-mean_mask', 'hist-0-0.500000-mean_mask', 'hist-1-0.500000-mean_mask', 'hist-2-0.500000-mean_mask', 'hist-3-0.500000-mean_mask', 'hist-4-0.500000-mean_mask', 'hist-5-0.500000-mean_mask', 'hist-6-0.500000-mean_mask', 'hist-7-0.500000-mean_mask', 'hist-8-0.500000-mean_mask', 'hist-9-0.500000-mean_mask', 'hist-10-0.500000-mean_mask', 'hist-11-0.500000-mean_mask', 'hist-12-0.500000-mean_mask', 'hist-13-0.500000-mean_mask', 'hist-14-0.500000-mean_mask', 'hist-15-0.500000-mean_mask', 'hist-16-0.500000-mean_mask', 'hist-17-0.500000-mean_mask', 'hist-18-0.500000-mean_mask', 'hist-19-0.500000-mean_mask', 'pos'] \n",
      "Score: -0.7120963923219121\n"
     ]
    },
    {
     "name": "stderr",
     "output_type": "stream",
     "text": [
      "200it [00:00, 255.40it/s]\n"
     ]
    },
    {
     "name": "stdout",
     "output_type": "stream",
     "text": [
      "1\n",
      "1 0.7299706668304791\n",
      "Objective LassoRegression_Objective:\n"
     ]
    },
    {
     "name": "stderr",
     "output_type": "stream",
     "text": [
      "  6%|█████████████████▍                                                                                                                                                                                                                                                                 | 508/8000 [00:16<04:02, 30.87it/s]\n"
     ]
    },
    {
     "name": "stdout",
     "output_type": "stream",
     "text": [
      "iterations: 508\n",
      "Number of used features: 443\n",
      "Used features: ['num-074k-breast.nii.gz-0.500000', 'sum-074k-breast.nii.gz-0.500000', 'mean-074k-breast.nii.gz-0.500000', 'std-074k-breast.nii.gz-0.500000', 'skew-074k-breast.nii.gz-0.500000', 'kurt-074k-breast.nii.gz-0.500000', 'hist-0-074k-breast.nii.gz-0.500000', 'hist-1-074k-breast.nii.gz-0.500000', 'hist-2-074k-breast.nii.gz-0.500000', 'hist-3-074k-breast.nii.gz-0.500000', 'hist-4-074k-breast.nii.gz-0.500000', 'hist-5-074k-breast.nii.gz-0.500000', 'hist-6-074k-breast.nii.gz-0.500000', 'hist-7-074k-breast.nii.gz-0.500000', 'hist-8-074k-breast.nii.gz-0.500000', 'hist-9-074k-breast.nii.gz-0.500000', 'hist-10-074k-breast.nii.gz-0.500000', 'hist-11-074k-breast.nii.gz-0.500000', 'hist-12-074k-breast.nii.gz-0.500000', 'hist-13-074k-breast.nii.gz-0.500000', 'hist-14-074k-breast.nii.gz-0.500000', 'hist-15-074k-breast.nii.gz-0.500000', 'hist-16-074k-breast.nii.gz-0.500000', 'hist-17-074k-breast.nii.gz-0.500000', 'hist-18-074k-breast.nii.gz-0.500000', 'hist-19-074k-breast.nii.gz-0.500000', 'num-075a-breast.nii.gz-0.500000', 'sum-075a-breast.nii.gz-0.500000', 'mean-075a-breast.nii.gz-0.500000', 'std-075a-breast.nii.gz-0.500000', 'skew-075a-breast.nii.gz-0.500000', 'kurt-075a-breast.nii.gz-0.500000', 'hist-0-075a-breast.nii.gz-0.500000', 'hist-1-075a-breast.nii.gz-0.500000', 'hist-2-075a-breast.nii.gz-0.500000', 'hist-3-075a-breast.nii.gz-0.500000', 'hist-4-075a-breast.nii.gz-0.500000', 'hist-5-075a-breast.nii.gz-0.500000', 'hist-6-075a-breast.nii.gz-0.500000', 'hist-7-075a-breast.nii.gz-0.500000', 'hist-8-075a-breast.nii.gz-0.500000', 'hist-9-075a-breast.nii.gz-0.500000', 'hist-10-075a-breast.nii.gz-0.500000', 'hist-11-075a-breast.nii.gz-0.500000', 'hist-12-075a-breast.nii.gz-0.500000', 'hist-13-075a-breast.nii.gz-0.500000', 'hist-14-075a-breast.nii.gz-0.500000', 'hist-15-075a-breast.nii.gz-0.500000', 'hist-16-075a-breast.nii.gz-0.500000', 'hist-17-075a-breast.nii.gz-0.500000', 'hist-18-075a-breast.nii.gz-0.500000', 'hist-19-075a-breast.nii.gz-0.500000', 'num-075k-breast.nii.gz-0.500000', 'sum-075k-breast.nii.gz-0.500000', 'mean-075k-breast.nii.gz-0.500000', 'std-075k-breast.nii.gz-0.500000', 'skew-075k-breast.nii.gz-0.500000', 'kurt-075k-breast.nii.gz-0.500000', 'hist-0-075k-breast.nii.gz-0.500000', 'hist-1-075k-breast.nii.gz-0.500000', 'hist-2-075k-breast.nii.gz-0.500000', 'hist-3-075k-breast.nii.gz-0.500000', 'hist-4-075k-breast.nii.gz-0.500000', 'hist-5-075k-breast.nii.gz-0.500000', 'hist-6-075k-breast.nii.gz-0.500000', 'hist-7-075k-breast.nii.gz-0.500000', 'hist-8-075k-breast.nii.gz-0.500000', 'hist-9-075k-breast.nii.gz-0.500000', 'hist-10-075k-breast.nii.gz-0.500000', 'hist-11-075k-breast.nii.gz-0.500000', 'hist-12-075k-breast.nii.gz-0.500000', 'hist-13-075k-breast.nii.gz-0.500000', 'hist-14-075k-breast.nii.gz-0.500000', 'hist-15-075k-breast.nii.gz-0.500000', 'hist-16-075k-breast.nii.gz-0.500000', 'hist-17-075k-breast.nii.gz-0.500000', 'hist-18-075k-breast.nii.gz-0.500000', 'hist-19-075k-breast.nii.gz-0.500000', 'num-077k-breast.nii.gz-0.500000', 'sum-077k-breast.nii.gz-0.500000', 'mean-077k-breast.nii.gz-0.500000', 'std-077k-breast.nii.gz-0.500000', 'skew-077k-breast.nii.gz-0.500000', 'kurt-077k-breast.nii.gz-0.500000', 'hist-0-077k-breast.nii.gz-0.500000', 'hist-1-077k-breast.nii.gz-0.500000', 'hist-2-077k-breast.nii.gz-0.500000', 'hist-3-077k-breast.nii.gz-0.500000', 'hist-4-077k-breast.nii.gz-0.500000', 'hist-5-077k-breast.nii.gz-0.500000', 'hist-6-077k-breast.nii.gz-0.500000', 'hist-7-077k-breast.nii.gz-0.500000', 'hist-8-077k-breast.nii.gz-0.500000', 'hist-9-077k-breast.nii.gz-0.500000', 'hist-10-077k-breast.nii.gz-0.500000', 'hist-11-077k-breast.nii.gz-0.500000', 'hist-12-077k-breast.nii.gz-0.500000', 'hist-13-077k-breast.nii.gz-0.500000', 'hist-14-077k-breast.nii.gz-0.500000', 'hist-15-077k-breast.nii.gz-0.500000', 'hist-16-077k-breast.nii.gz-0.500000', 'hist-17-077k-breast.nii.gz-0.500000', 'hist-18-077k-breast.nii.gz-0.500000', 'hist-19-077k-breast.nii.gz-0.500000', 'num-079k-breast.nii.gz-0.500000', 'sum-079k-breast.nii.gz-0.500000', 'mean-079k-breast.nii.gz-0.500000', 'std-079k-breast.nii.gz-0.500000', 'skew-079k-breast.nii.gz-0.500000', 'kurt-079k-breast.nii.gz-0.500000', 'hist-0-079k-breast.nii.gz-0.500000', 'hist-1-079k-breast.nii.gz-0.500000', 'hist-2-079k-breast.nii.gz-0.500000', 'hist-3-079k-breast.nii.gz-0.500000', 'hist-4-079k-breast.nii.gz-0.500000', 'hist-5-079k-breast.nii.gz-0.500000', 'hist-6-079k-breast.nii.gz-0.500000', 'hist-7-079k-breast.nii.gz-0.500000', 'hist-8-079k-breast.nii.gz-0.500000', 'hist-9-079k-breast.nii.gz-0.500000', 'hist-10-079k-breast.nii.gz-0.500000', 'hist-11-079k-breast.nii.gz-0.500000', 'hist-12-079k-breast.nii.gz-0.500000', 'hist-13-079k-breast.nii.gz-0.500000', 'hist-14-079k-breast.nii.gz-0.500000', 'hist-15-079k-breast.nii.gz-0.500000', 'hist-16-079k-breast.nii.gz-0.500000', 'hist-17-079k-breast.nii.gz-0.500000', 'hist-18-079k-breast.nii.gz-0.500000', 'hist-19-079k-breast.nii.gz-0.500000', 'num-080k-breast.nii.gz-0.500000', 'sum-080k-breast.nii.gz-0.500000', 'mean-080k-breast.nii.gz-0.500000', 'std-080k-breast.nii.gz-0.500000', 'skew-080k-breast.nii.gz-0.500000', 'kurt-080k-breast.nii.gz-0.500000', 'hist-0-080k-breast.nii.gz-0.500000', 'hist-1-080k-breast.nii.gz-0.500000', 'hist-2-080k-breast.nii.gz-0.500000', 'hist-3-080k-breast.nii.gz-0.500000', 'hist-4-080k-breast.nii.gz-0.500000', 'hist-5-080k-breast.nii.gz-0.500000', 'hist-6-080k-breast.nii.gz-0.500000', 'hist-7-080k-breast.nii.gz-0.500000', 'hist-8-080k-breast.nii.gz-0.500000', 'hist-9-080k-breast.nii.gz-0.500000', 'hist-10-080k-breast.nii.gz-0.500000', 'hist-11-080k-breast.nii.gz-0.500000', 'hist-12-080k-breast.nii.gz-0.500000', 'hist-13-080k-breast.nii.gz-0.500000', 'hist-14-080k-breast.nii.gz-0.500000', 'hist-15-080k-breast.nii.gz-0.500000', 'hist-16-080k-breast.nii.gz-0.500000', 'hist-17-080k-breast.nii.gz-0.500000', 'hist-18-080k-breast.nii.gz-0.500000', 'hist-19-080k-breast.nii.gz-0.500000', 'num-082k-breast.nii.gz-0.500000', 'sum-082k-breast.nii.gz-0.500000', 'mean-082k-breast.nii.gz-0.500000', 'std-082k-breast.nii.gz-0.500000', 'skew-082k-breast.nii.gz-0.500000', 'kurt-082k-breast.nii.gz-0.500000', 'hist-0-082k-breast.nii.gz-0.500000', 'hist-1-082k-breast.nii.gz-0.500000', 'hist-2-082k-breast.nii.gz-0.500000', 'hist-3-082k-breast.nii.gz-0.500000', 'hist-4-082k-breast.nii.gz-0.500000', 'hist-5-082k-breast.nii.gz-0.500000', 'hist-6-082k-breast.nii.gz-0.500000', 'hist-7-082k-breast.nii.gz-0.500000', 'hist-8-082k-breast.nii.gz-0.500000', 'hist-9-082k-breast.nii.gz-0.500000', 'hist-10-082k-breast.nii.gz-0.500000', 'hist-11-082k-breast.nii.gz-0.500000', 'hist-12-082k-breast.nii.gz-0.500000', 'hist-13-082k-breast.nii.gz-0.500000', 'hist-14-082k-breast.nii.gz-0.500000', 'hist-15-082k-breast.nii.gz-0.500000', 'hist-16-082k-breast.nii.gz-0.500000', 'hist-17-082k-breast.nii.gz-0.500000', 'hist-18-082k-breast.nii.gz-0.500000', 'hist-19-082k-breast.nii.gz-0.500000', 'num-083a-breast.nii.gz-0.500000', 'sum-083a-breast.nii.gz-0.500000', 'mean-083a-breast.nii.gz-0.500000', 'std-083a-breast.nii.gz-0.500000', 'skew-083a-breast.nii.gz-0.500000', 'kurt-083a-breast.nii.gz-0.500000', 'hist-0-083a-breast.nii.gz-0.500000', 'hist-1-083a-breast.nii.gz-0.500000', 'hist-2-083a-breast.nii.gz-0.500000', 'hist-3-083a-breast.nii.gz-0.500000', 'hist-4-083a-breast.nii.gz-0.500000', 'hist-5-083a-breast.nii.gz-0.500000', 'hist-6-083a-breast.nii.gz-0.500000', 'hist-7-083a-breast.nii.gz-0.500000', 'hist-8-083a-breast.nii.gz-0.500000', 'hist-9-083a-breast.nii.gz-0.500000', 'hist-10-083a-breast.nii.gz-0.500000', 'hist-11-083a-breast.nii.gz-0.500000', 'hist-12-083a-breast.nii.gz-0.500000', 'hist-13-083a-breast.nii.gz-0.500000', 'hist-14-083a-breast.nii.gz-0.500000', 'hist-15-083a-breast.nii.gz-0.500000', 'hist-16-083a-breast.nii.gz-0.500000', 'hist-17-083a-breast.nii.gz-0.500000', 'hist-18-083a-breast.nii.gz-0.500000', 'hist-19-083a-breast.nii.gz-0.500000', 'num-083k-breast.nii.gz-0.500000', 'sum-083k-breast.nii.gz-0.500000', 'mean-083k-breast.nii.gz-0.500000', 'std-083k-breast.nii.gz-0.500000', 'skew-083k-breast.nii.gz-0.500000', 'kurt-083k-breast.nii.gz-0.500000', 'hist-0-083k-breast.nii.gz-0.500000', 'hist-1-083k-breast.nii.gz-0.500000', 'hist-2-083k-breast.nii.gz-0.500000', 'hist-3-083k-breast.nii.gz-0.500000', 'hist-4-083k-breast.nii.gz-0.500000', 'hist-5-083k-breast.nii.gz-0.500000', 'hist-6-083k-breast.nii.gz-0.500000', 'hist-7-083k-breast.nii.gz-0.500000', 'hist-8-083k-breast.nii.gz-0.500000', 'hist-9-083k-breast.nii.gz-0.500000', 'hist-10-083k-breast.nii.gz-0.500000', 'hist-11-083k-breast.nii.gz-0.500000', 'hist-12-083k-breast.nii.gz-0.500000', 'hist-13-083k-breast.nii.gz-0.500000', 'hist-14-083k-breast.nii.gz-0.500000', 'hist-15-083k-breast.nii.gz-0.500000', 'hist-16-083k-breast.nii.gz-0.500000', 'hist-17-083k-breast.nii.gz-0.500000', 'hist-18-083k-breast.nii.gz-0.500000', 'hist-19-083k-breast.nii.gz-0.500000', 'num-084a-breast.nii.gz-0.500000', 'sum-084a-breast.nii.gz-0.500000', 'mean-084a-breast.nii.gz-0.500000', 'std-084a-breast.nii.gz-0.500000', 'skew-084a-breast.nii.gz-0.500000', 'kurt-084a-breast.nii.gz-0.500000', 'hist-0-084a-breast.nii.gz-0.500000', 'hist-1-084a-breast.nii.gz-0.500000', 'hist-2-084a-breast.nii.gz-0.500000', 'hist-3-084a-breast.nii.gz-0.500000', 'hist-4-084a-breast.nii.gz-0.500000', 'hist-5-084a-breast.nii.gz-0.500000', 'hist-6-084a-breast.nii.gz-0.500000', 'hist-7-084a-breast.nii.gz-0.500000', 'hist-8-084a-breast.nii.gz-0.500000', 'hist-9-084a-breast.nii.gz-0.500000', 'hist-10-084a-breast.nii.gz-0.500000', 'hist-11-084a-breast.nii.gz-0.500000', 'hist-12-084a-breast.nii.gz-0.500000', 'hist-13-084a-breast.nii.gz-0.500000', 'hist-14-084a-breast.nii.gz-0.500000', 'hist-15-084a-breast.nii.gz-0.500000', 'hist-16-084a-breast.nii.gz-0.500000', 'hist-17-084a-breast.nii.gz-0.500000', 'hist-18-084a-breast.nii.gz-0.500000', 'hist-19-084a-breast.nii.gz-0.500000', 'num-087f-breast.nii.gz-0.500000', 'sum-087f-breast.nii.gz-0.500000', 'mean-087f-breast.nii.gz-0.500000', 'std-087f-breast.nii.gz-0.500000', 'skew-087f-breast.nii.gz-0.500000', 'kurt-087f-breast.nii.gz-0.500000', 'hist-0-087f-breast.nii.gz-0.500000', 'hist-1-087f-breast.nii.gz-0.500000', 'hist-2-087f-breast.nii.gz-0.500000', 'hist-3-087f-breast.nii.gz-0.500000', 'hist-4-087f-breast.nii.gz-0.500000', 'hist-5-087f-breast.nii.gz-0.500000', 'hist-6-087f-breast.nii.gz-0.500000', 'hist-7-087f-breast.nii.gz-0.500000', 'hist-8-087f-breast.nii.gz-0.500000', 'hist-9-087f-breast.nii.gz-0.500000', 'hist-10-087f-breast.nii.gz-0.500000', 'hist-11-087f-breast.nii.gz-0.500000', 'hist-12-087f-breast.nii.gz-0.500000', 'hist-13-087f-breast.nii.gz-0.500000', 'hist-14-087f-breast.nii.gz-0.500000', 'hist-15-087f-breast.nii.gz-0.500000', 'hist-16-087f-breast.nii.gz-0.500000', 'hist-17-087f-breast.nii.gz-0.500000', 'hist-18-087f-breast.nii.gz-0.500000', 'hist-19-087f-breast.nii.gz-0.500000', 'num-088f-breast.nii.gz-0.500000', 'sum-088f-breast.nii.gz-0.500000', 'mean-088f-breast.nii.gz-0.500000', 'std-088f-breast.nii.gz-0.500000', 'skew-088f-breast.nii.gz-0.500000', 'kurt-088f-breast.nii.gz-0.500000', 'hist-0-088f-breast.nii.gz-0.500000', 'hist-1-088f-breast.nii.gz-0.500000', 'hist-2-088f-breast.nii.gz-0.500000', 'hist-3-088f-breast.nii.gz-0.500000', 'hist-4-088f-breast.nii.gz-0.500000', 'hist-5-088f-breast.nii.gz-0.500000', 'hist-6-088f-breast.nii.gz-0.500000', 'hist-7-088f-breast.nii.gz-0.500000', 'hist-8-088f-breast.nii.gz-0.500000', 'hist-9-088f-breast.nii.gz-0.500000', 'hist-10-088f-breast.nii.gz-0.500000', 'hist-11-088f-breast.nii.gz-0.500000', 'hist-12-088f-breast.nii.gz-0.500000', 'hist-13-088f-breast.nii.gz-0.500000', 'hist-14-088f-breast.nii.gz-0.500000', 'hist-15-088f-breast.nii.gz-0.500000', 'hist-16-088f-breast.nii.gz-0.500000', 'hist-17-088f-breast.nii.gz-0.500000', 'hist-18-088f-breast.nii.gz-0.500000', 'hist-19-088f-breast.nii.gz-0.500000', 'num-088k-breast.nii.gz-0.500000', 'sum-088k-breast.nii.gz-0.500000', 'mean-088k-breast.nii.gz-0.500000', 'std-088k-breast.nii.gz-0.500000', 'skew-088k-breast.nii.gz-0.500000', 'kurt-088k-breast.nii.gz-0.500000', 'hist-0-088k-breast.nii.gz-0.500000', 'hist-1-088k-breast.nii.gz-0.500000', 'hist-2-088k-breast.nii.gz-0.500000', 'hist-3-088k-breast.nii.gz-0.500000', 'hist-4-088k-breast.nii.gz-0.500000', 'hist-5-088k-breast.nii.gz-0.500000', 'hist-6-088k-breast.nii.gz-0.500000', 'hist-7-088k-breast.nii.gz-0.500000', 'hist-8-088k-breast.nii.gz-0.500000', 'hist-9-088k-breast.nii.gz-0.500000', 'hist-10-088k-breast.nii.gz-0.500000', 'hist-11-088k-breast.nii.gz-0.500000', 'hist-12-088k-breast.nii.gz-0.500000', 'hist-13-088k-breast.nii.gz-0.500000', 'hist-14-088k-breast.nii.gz-0.500000', 'hist-15-088k-breast.nii.gz-0.500000', 'hist-16-088k-breast.nii.gz-0.500000', 'hist-17-088k-breast.nii.gz-0.500000', 'hist-18-088k-breast.nii.gz-0.500000', 'hist-19-088k-breast.nii.gz-0.500000', 'num-090a-breast.nii.gz-0.500000', 'sum-090a-breast.nii.gz-0.500000', 'mean-090a-breast.nii.gz-0.500000', 'std-090a-breast.nii.gz-0.500000', 'skew-090a-breast.nii.gz-0.500000', 'kurt-090a-breast.nii.gz-0.500000', 'hist-0-090a-breast.nii.gz-0.500000', 'hist-1-090a-breast.nii.gz-0.500000', 'hist-2-090a-breast.nii.gz-0.500000', 'hist-3-090a-breast.nii.gz-0.500000', 'hist-4-090a-breast.nii.gz-0.500000', 'hist-5-090a-breast.nii.gz-0.500000', 'hist-6-090a-breast.nii.gz-0.500000', 'hist-7-090a-breast.nii.gz-0.500000', 'hist-8-090a-breast.nii.gz-0.500000', 'hist-9-090a-breast.nii.gz-0.500000', 'hist-10-090a-breast.nii.gz-0.500000', 'hist-11-090a-breast.nii.gz-0.500000', 'hist-12-090a-breast.nii.gz-0.500000', 'hist-13-090a-breast.nii.gz-0.500000', 'hist-14-090a-breast.nii.gz-0.500000', 'hist-15-090a-breast.nii.gz-0.500000', 'hist-16-090a-breast.nii.gz-0.500000', 'hist-17-090a-breast.nii.gz-0.500000', 'hist-18-090a-breast.nii.gz-0.500000', 'hist-19-090a-breast.nii.gz-0.500000', 'num-091f-breast.nii.gz-0.500000', 'sum-091f-breast.nii.gz-0.500000', 'mean-091f-breast.nii.gz-0.500000', 'std-091f-breast.nii.gz-0.500000', 'skew-091f-breast.nii.gz-0.500000', 'kurt-091f-breast.nii.gz-0.500000', 'hist-0-091f-breast.nii.gz-0.500000', 'hist-1-091f-breast.nii.gz-0.500000', 'hist-2-091f-breast.nii.gz-0.500000', 'hist-3-091f-breast.nii.gz-0.500000', 'hist-4-091f-breast.nii.gz-0.500000', 'hist-5-091f-breast.nii.gz-0.500000', 'hist-6-091f-breast.nii.gz-0.500000', 'hist-7-091f-breast.nii.gz-0.500000', 'hist-8-091f-breast.nii.gz-0.500000', 'hist-9-091f-breast.nii.gz-0.500000', 'hist-10-091f-breast.nii.gz-0.500000', 'hist-11-091f-breast.nii.gz-0.500000', 'hist-12-091f-breast.nii.gz-0.500000', 'hist-13-091f-breast.nii.gz-0.500000', 'hist-14-091f-breast.nii.gz-0.500000', 'hist-15-091f-breast.nii.gz-0.500000', 'hist-16-091f-breast.nii.gz-0.500000', 'hist-17-091f-breast.nii.gz-0.500000', 'hist-18-091f-breast.nii.gz-0.500000', 'hist-19-091f-breast.nii.gz-0.500000', 'num-092k-breast.nii.gz-0.500000', 'sum-092k-breast.nii.gz-0.500000', 'mean-092k-breast.nii.gz-0.500000', 'std-092k-breast.nii.gz-0.500000', 'skew-092k-breast.nii.gz-0.500000', 'kurt-092k-breast.nii.gz-0.500000', 'hist-0-092k-breast.nii.gz-0.500000', 'hist-1-092k-breast.nii.gz-0.500000', 'hist-2-092k-breast.nii.gz-0.500000', 'hist-3-092k-breast.nii.gz-0.500000', 'hist-4-092k-breast.nii.gz-0.500000', 'hist-5-092k-breast.nii.gz-0.500000', 'hist-6-092k-breast.nii.gz-0.500000', 'hist-7-092k-breast.nii.gz-0.500000', 'hist-8-092k-breast.nii.gz-0.500000', 'hist-9-092k-breast.nii.gz-0.500000', 'hist-10-092k-breast.nii.gz-0.500000', 'hist-11-092k-breast.nii.gz-0.500000', 'hist-12-092k-breast.nii.gz-0.500000', 'hist-13-092k-breast.nii.gz-0.500000', 'hist-14-092k-breast.nii.gz-0.500000', 'hist-15-092k-breast.nii.gz-0.500000', 'hist-16-092k-breast.nii.gz-0.500000', 'hist-17-092k-breast.nii.gz-0.500000', 'hist-18-092k-breast.nii.gz-0.500000', 'hist-19-092k-breast.nii.gz-0.500000', 'num-0.500000-mean_mask', 'sum-0.500000-mean_mask', 'mean-0.500000-mean_mask', 'std-0.500000-mean_mask', 'skew-0.500000-mean_mask', 'kurt-0.500000-mean_mask', 'hist-0-0.500000-mean_mask', 'hist-1-0.500000-mean_mask', 'hist-2-0.500000-mean_mask', 'hist-3-0.500000-mean_mask', 'hist-4-0.500000-mean_mask', 'hist-5-0.500000-mean_mask', 'hist-6-0.500000-mean_mask', 'hist-7-0.500000-mean_mask', 'hist-8-0.500000-mean_mask', 'hist-9-0.500000-mean_mask', 'hist-10-0.500000-mean_mask', 'hist-11-0.500000-mean_mask', 'hist-12-0.500000-mean_mask', 'hist-13-0.500000-mean_mask', 'hist-14-0.500000-mean_mask', 'hist-15-0.500000-mean_mask', 'hist-16-0.500000-mean_mask', 'hist-17-0.500000-mean_mask', 'hist-18-0.500000-mean_mask', 'hist-19-0.500000-mean_mask', 'pos'] \n",
      "Score: -0.8577496294381757\n"
     ]
    },
    {
     "name": "stderr",
     "output_type": "stream",
     "text": [
      "200it [00:02, 86.98it/s]\n"
     ]
    },
    {
     "name": "stdout",
     "output_type": "stream",
     "text": [
      "1\n",
      "1 0.8654004724234731\n",
      "Objective RidgeRegression_Objective:\n"
     ]
    },
    {
     "name": "stderr",
     "output_type": "stream",
     "text": [
      "  6%|█████████████████                                                                                                                                                                                                                                                                 | 499/8000 [00:03<00:50, 149.77it/s]\n"
     ]
    },
    {
     "name": "stdout",
     "output_type": "stream",
     "text": [
      "iterations: 499\n",
      "Number of used features: 443\n",
      "Used features: ['num-074k-breast.nii.gz-0.500000', 'sum-074k-breast.nii.gz-0.500000', 'mean-074k-breast.nii.gz-0.500000', 'std-074k-breast.nii.gz-0.500000', 'skew-074k-breast.nii.gz-0.500000', 'kurt-074k-breast.nii.gz-0.500000', 'hist-0-074k-breast.nii.gz-0.500000', 'hist-1-074k-breast.nii.gz-0.500000', 'hist-2-074k-breast.nii.gz-0.500000', 'hist-3-074k-breast.nii.gz-0.500000', 'hist-4-074k-breast.nii.gz-0.500000', 'hist-5-074k-breast.nii.gz-0.500000', 'hist-6-074k-breast.nii.gz-0.500000', 'hist-7-074k-breast.nii.gz-0.500000', 'hist-8-074k-breast.nii.gz-0.500000', 'hist-9-074k-breast.nii.gz-0.500000', 'hist-10-074k-breast.nii.gz-0.500000', 'hist-11-074k-breast.nii.gz-0.500000', 'hist-12-074k-breast.nii.gz-0.500000', 'hist-13-074k-breast.nii.gz-0.500000', 'hist-14-074k-breast.nii.gz-0.500000', 'hist-15-074k-breast.nii.gz-0.500000', 'hist-16-074k-breast.nii.gz-0.500000', 'hist-17-074k-breast.nii.gz-0.500000', 'hist-18-074k-breast.nii.gz-0.500000', 'hist-19-074k-breast.nii.gz-0.500000', 'num-075a-breast.nii.gz-0.500000', 'sum-075a-breast.nii.gz-0.500000', 'mean-075a-breast.nii.gz-0.500000', 'std-075a-breast.nii.gz-0.500000', 'skew-075a-breast.nii.gz-0.500000', 'kurt-075a-breast.nii.gz-0.500000', 'hist-0-075a-breast.nii.gz-0.500000', 'hist-1-075a-breast.nii.gz-0.500000', 'hist-2-075a-breast.nii.gz-0.500000', 'hist-3-075a-breast.nii.gz-0.500000', 'hist-4-075a-breast.nii.gz-0.500000', 'hist-5-075a-breast.nii.gz-0.500000', 'hist-6-075a-breast.nii.gz-0.500000', 'hist-7-075a-breast.nii.gz-0.500000', 'hist-8-075a-breast.nii.gz-0.500000', 'hist-9-075a-breast.nii.gz-0.500000', 'hist-10-075a-breast.nii.gz-0.500000', 'hist-11-075a-breast.nii.gz-0.500000', 'hist-12-075a-breast.nii.gz-0.500000', 'hist-13-075a-breast.nii.gz-0.500000', 'hist-14-075a-breast.nii.gz-0.500000', 'hist-15-075a-breast.nii.gz-0.500000', 'hist-16-075a-breast.nii.gz-0.500000', 'hist-17-075a-breast.nii.gz-0.500000', 'hist-18-075a-breast.nii.gz-0.500000', 'hist-19-075a-breast.nii.gz-0.500000', 'num-075k-breast.nii.gz-0.500000', 'sum-075k-breast.nii.gz-0.500000', 'mean-075k-breast.nii.gz-0.500000', 'std-075k-breast.nii.gz-0.500000', 'skew-075k-breast.nii.gz-0.500000', 'kurt-075k-breast.nii.gz-0.500000', 'hist-0-075k-breast.nii.gz-0.500000', 'hist-1-075k-breast.nii.gz-0.500000', 'hist-2-075k-breast.nii.gz-0.500000', 'hist-3-075k-breast.nii.gz-0.500000', 'hist-4-075k-breast.nii.gz-0.500000', 'hist-5-075k-breast.nii.gz-0.500000', 'hist-6-075k-breast.nii.gz-0.500000', 'hist-7-075k-breast.nii.gz-0.500000', 'hist-8-075k-breast.nii.gz-0.500000', 'hist-9-075k-breast.nii.gz-0.500000', 'hist-10-075k-breast.nii.gz-0.500000', 'hist-11-075k-breast.nii.gz-0.500000', 'hist-12-075k-breast.nii.gz-0.500000', 'hist-13-075k-breast.nii.gz-0.500000', 'hist-14-075k-breast.nii.gz-0.500000', 'hist-15-075k-breast.nii.gz-0.500000', 'hist-16-075k-breast.nii.gz-0.500000', 'hist-17-075k-breast.nii.gz-0.500000', 'hist-18-075k-breast.nii.gz-0.500000', 'hist-19-075k-breast.nii.gz-0.500000', 'num-077k-breast.nii.gz-0.500000', 'sum-077k-breast.nii.gz-0.500000', 'mean-077k-breast.nii.gz-0.500000', 'std-077k-breast.nii.gz-0.500000', 'skew-077k-breast.nii.gz-0.500000', 'kurt-077k-breast.nii.gz-0.500000', 'hist-0-077k-breast.nii.gz-0.500000', 'hist-1-077k-breast.nii.gz-0.500000', 'hist-2-077k-breast.nii.gz-0.500000', 'hist-3-077k-breast.nii.gz-0.500000', 'hist-4-077k-breast.nii.gz-0.500000', 'hist-5-077k-breast.nii.gz-0.500000', 'hist-6-077k-breast.nii.gz-0.500000', 'hist-7-077k-breast.nii.gz-0.500000', 'hist-8-077k-breast.nii.gz-0.500000', 'hist-9-077k-breast.nii.gz-0.500000', 'hist-10-077k-breast.nii.gz-0.500000', 'hist-11-077k-breast.nii.gz-0.500000', 'hist-12-077k-breast.nii.gz-0.500000', 'hist-13-077k-breast.nii.gz-0.500000', 'hist-14-077k-breast.nii.gz-0.500000', 'hist-15-077k-breast.nii.gz-0.500000', 'hist-16-077k-breast.nii.gz-0.500000', 'hist-17-077k-breast.nii.gz-0.500000', 'hist-18-077k-breast.nii.gz-0.500000', 'hist-19-077k-breast.nii.gz-0.500000', 'num-079k-breast.nii.gz-0.500000', 'sum-079k-breast.nii.gz-0.500000', 'mean-079k-breast.nii.gz-0.500000', 'std-079k-breast.nii.gz-0.500000', 'skew-079k-breast.nii.gz-0.500000', 'kurt-079k-breast.nii.gz-0.500000', 'hist-0-079k-breast.nii.gz-0.500000', 'hist-1-079k-breast.nii.gz-0.500000', 'hist-2-079k-breast.nii.gz-0.500000', 'hist-3-079k-breast.nii.gz-0.500000', 'hist-4-079k-breast.nii.gz-0.500000', 'hist-5-079k-breast.nii.gz-0.500000', 'hist-6-079k-breast.nii.gz-0.500000', 'hist-7-079k-breast.nii.gz-0.500000', 'hist-8-079k-breast.nii.gz-0.500000', 'hist-9-079k-breast.nii.gz-0.500000', 'hist-10-079k-breast.nii.gz-0.500000', 'hist-11-079k-breast.nii.gz-0.500000', 'hist-12-079k-breast.nii.gz-0.500000', 'hist-13-079k-breast.nii.gz-0.500000', 'hist-14-079k-breast.nii.gz-0.500000', 'hist-15-079k-breast.nii.gz-0.500000', 'hist-16-079k-breast.nii.gz-0.500000', 'hist-17-079k-breast.nii.gz-0.500000', 'hist-18-079k-breast.nii.gz-0.500000', 'hist-19-079k-breast.nii.gz-0.500000', 'num-080k-breast.nii.gz-0.500000', 'sum-080k-breast.nii.gz-0.500000', 'mean-080k-breast.nii.gz-0.500000', 'std-080k-breast.nii.gz-0.500000', 'skew-080k-breast.nii.gz-0.500000', 'kurt-080k-breast.nii.gz-0.500000', 'hist-0-080k-breast.nii.gz-0.500000', 'hist-1-080k-breast.nii.gz-0.500000', 'hist-2-080k-breast.nii.gz-0.500000', 'hist-3-080k-breast.nii.gz-0.500000', 'hist-4-080k-breast.nii.gz-0.500000', 'hist-5-080k-breast.nii.gz-0.500000', 'hist-6-080k-breast.nii.gz-0.500000', 'hist-7-080k-breast.nii.gz-0.500000', 'hist-8-080k-breast.nii.gz-0.500000', 'hist-9-080k-breast.nii.gz-0.500000', 'hist-10-080k-breast.nii.gz-0.500000', 'hist-11-080k-breast.nii.gz-0.500000', 'hist-12-080k-breast.nii.gz-0.500000', 'hist-13-080k-breast.nii.gz-0.500000', 'hist-14-080k-breast.nii.gz-0.500000', 'hist-15-080k-breast.nii.gz-0.500000', 'hist-16-080k-breast.nii.gz-0.500000', 'hist-17-080k-breast.nii.gz-0.500000', 'hist-18-080k-breast.nii.gz-0.500000', 'hist-19-080k-breast.nii.gz-0.500000', 'num-082k-breast.nii.gz-0.500000', 'sum-082k-breast.nii.gz-0.500000', 'mean-082k-breast.nii.gz-0.500000', 'std-082k-breast.nii.gz-0.500000', 'skew-082k-breast.nii.gz-0.500000', 'kurt-082k-breast.nii.gz-0.500000', 'hist-0-082k-breast.nii.gz-0.500000', 'hist-1-082k-breast.nii.gz-0.500000', 'hist-2-082k-breast.nii.gz-0.500000', 'hist-3-082k-breast.nii.gz-0.500000', 'hist-4-082k-breast.nii.gz-0.500000', 'hist-5-082k-breast.nii.gz-0.500000', 'hist-6-082k-breast.nii.gz-0.500000', 'hist-7-082k-breast.nii.gz-0.500000', 'hist-8-082k-breast.nii.gz-0.500000', 'hist-9-082k-breast.nii.gz-0.500000', 'hist-10-082k-breast.nii.gz-0.500000', 'hist-11-082k-breast.nii.gz-0.500000', 'hist-12-082k-breast.nii.gz-0.500000', 'hist-13-082k-breast.nii.gz-0.500000', 'hist-14-082k-breast.nii.gz-0.500000', 'hist-15-082k-breast.nii.gz-0.500000', 'hist-16-082k-breast.nii.gz-0.500000', 'hist-17-082k-breast.nii.gz-0.500000', 'hist-18-082k-breast.nii.gz-0.500000', 'hist-19-082k-breast.nii.gz-0.500000', 'num-083a-breast.nii.gz-0.500000', 'sum-083a-breast.nii.gz-0.500000', 'mean-083a-breast.nii.gz-0.500000', 'std-083a-breast.nii.gz-0.500000', 'skew-083a-breast.nii.gz-0.500000', 'kurt-083a-breast.nii.gz-0.500000', 'hist-0-083a-breast.nii.gz-0.500000', 'hist-1-083a-breast.nii.gz-0.500000', 'hist-2-083a-breast.nii.gz-0.500000', 'hist-3-083a-breast.nii.gz-0.500000', 'hist-4-083a-breast.nii.gz-0.500000', 'hist-5-083a-breast.nii.gz-0.500000', 'hist-6-083a-breast.nii.gz-0.500000', 'hist-7-083a-breast.nii.gz-0.500000', 'hist-8-083a-breast.nii.gz-0.500000', 'hist-9-083a-breast.nii.gz-0.500000', 'hist-10-083a-breast.nii.gz-0.500000', 'hist-11-083a-breast.nii.gz-0.500000', 'hist-12-083a-breast.nii.gz-0.500000', 'hist-13-083a-breast.nii.gz-0.500000', 'hist-14-083a-breast.nii.gz-0.500000', 'hist-15-083a-breast.nii.gz-0.500000', 'hist-16-083a-breast.nii.gz-0.500000', 'hist-17-083a-breast.nii.gz-0.500000', 'hist-18-083a-breast.nii.gz-0.500000', 'hist-19-083a-breast.nii.gz-0.500000', 'num-083k-breast.nii.gz-0.500000', 'sum-083k-breast.nii.gz-0.500000', 'mean-083k-breast.nii.gz-0.500000', 'std-083k-breast.nii.gz-0.500000', 'skew-083k-breast.nii.gz-0.500000', 'kurt-083k-breast.nii.gz-0.500000', 'hist-0-083k-breast.nii.gz-0.500000', 'hist-1-083k-breast.nii.gz-0.500000', 'hist-2-083k-breast.nii.gz-0.500000', 'hist-3-083k-breast.nii.gz-0.500000', 'hist-4-083k-breast.nii.gz-0.500000', 'hist-5-083k-breast.nii.gz-0.500000', 'hist-6-083k-breast.nii.gz-0.500000', 'hist-7-083k-breast.nii.gz-0.500000', 'hist-8-083k-breast.nii.gz-0.500000', 'hist-9-083k-breast.nii.gz-0.500000', 'hist-10-083k-breast.nii.gz-0.500000', 'hist-11-083k-breast.nii.gz-0.500000', 'hist-12-083k-breast.nii.gz-0.500000', 'hist-13-083k-breast.nii.gz-0.500000', 'hist-14-083k-breast.nii.gz-0.500000', 'hist-15-083k-breast.nii.gz-0.500000', 'hist-16-083k-breast.nii.gz-0.500000', 'hist-17-083k-breast.nii.gz-0.500000', 'hist-18-083k-breast.nii.gz-0.500000', 'hist-19-083k-breast.nii.gz-0.500000', 'num-084a-breast.nii.gz-0.500000', 'sum-084a-breast.nii.gz-0.500000', 'mean-084a-breast.nii.gz-0.500000', 'std-084a-breast.nii.gz-0.500000', 'skew-084a-breast.nii.gz-0.500000', 'kurt-084a-breast.nii.gz-0.500000', 'hist-0-084a-breast.nii.gz-0.500000', 'hist-1-084a-breast.nii.gz-0.500000', 'hist-2-084a-breast.nii.gz-0.500000', 'hist-3-084a-breast.nii.gz-0.500000', 'hist-4-084a-breast.nii.gz-0.500000', 'hist-5-084a-breast.nii.gz-0.500000', 'hist-6-084a-breast.nii.gz-0.500000', 'hist-7-084a-breast.nii.gz-0.500000', 'hist-8-084a-breast.nii.gz-0.500000', 'hist-9-084a-breast.nii.gz-0.500000', 'hist-10-084a-breast.nii.gz-0.500000', 'hist-11-084a-breast.nii.gz-0.500000', 'hist-12-084a-breast.nii.gz-0.500000', 'hist-13-084a-breast.nii.gz-0.500000', 'hist-14-084a-breast.nii.gz-0.500000', 'hist-15-084a-breast.nii.gz-0.500000', 'hist-16-084a-breast.nii.gz-0.500000', 'hist-17-084a-breast.nii.gz-0.500000', 'hist-18-084a-breast.nii.gz-0.500000', 'hist-19-084a-breast.nii.gz-0.500000', 'num-087f-breast.nii.gz-0.500000', 'sum-087f-breast.nii.gz-0.500000', 'mean-087f-breast.nii.gz-0.500000', 'std-087f-breast.nii.gz-0.500000', 'skew-087f-breast.nii.gz-0.500000', 'kurt-087f-breast.nii.gz-0.500000', 'hist-0-087f-breast.nii.gz-0.500000', 'hist-1-087f-breast.nii.gz-0.500000', 'hist-2-087f-breast.nii.gz-0.500000', 'hist-3-087f-breast.nii.gz-0.500000', 'hist-4-087f-breast.nii.gz-0.500000', 'hist-5-087f-breast.nii.gz-0.500000', 'hist-6-087f-breast.nii.gz-0.500000', 'hist-7-087f-breast.nii.gz-0.500000', 'hist-8-087f-breast.nii.gz-0.500000', 'hist-9-087f-breast.nii.gz-0.500000', 'hist-10-087f-breast.nii.gz-0.500000', 'hist-11-087f-breast.nii.gz-0.500000', 'hist-12-087f-breast.nii.gz-0.500000', 'hist-13-087f-breast.nii.gz-0.500000', 'hist-14-087f-breast.nii.gz-0.500000', 'hist-15-087f-breast.nii.gz-0.500000', 'hist-16-087f-breast.nii.gz-0.500000', 'hist-17-087f-breast.nii.gz-0.500000', 'hist-18-087f-breast.nii.gz-0.500000', 'hist-19-087f-breast.nii.gz-0.500000', 'num-088f-breast.nii.gz-0.500000', 'sum-088f-breast.nii.gz-0.500000', 'mean-088f-breast.nii.gz-0.500000', 'std-088f-breast.nii.gz-0.500000', 'skew-088f-breast.nii.gz-0.500000', 'kurt-088f-breast.nii.gz-0.500000', 'hist-0-088f-breast.nii.gz-0.500000', 'hist-1-088f-breast.nii.gz-0.500000', 'hist-2-088f-breast.nii.gz-0.500000', 'hist-3-088f-breast.nii.gz-0.500000', 'hist-4-088f-breast.nii.gz-0.500000', 'hist-5-088f-breast.nii.gz-0.500000', 'hist-6-088f-breast.nii.gz-0.500000', 'hist-7-088f-breast.nii.gz-0.500000', 'hist-8-088f-breast.nii.gz-0.500000', 'hist-9-088f-breast.nii.gz-0.500000', 'hist-10-088f-breast.nii.gz-0.500000', 'hist-11-088f-breast.nii.gz-0.500000', 'hist-12-088f-breast.nii.gz-0.500000', 'hist-13-088f-breast.nii.gz-0.500000', 'hist-14-088f-breast.nii.gz-0.500000', 'hist-15-088f-breast.nii.gz-0.500000', 'hist-16-088f-breast.nii.gz-0.500000', 'hist-17-088f-breast.nii.gz-0.500000', 'hist-18-088f-breast.nii.gz-0.500000', 'hist-19-088f-breast.nii.gz-0.500000', 'num-088k-breast.nii.gz-0.500000', 'sum-088k-breast.nii.gz-0.500000', 'mean-088k-breast.nii.gz-0.500000', 'std-088k-breast.nii.gz-0.500000', 'skew-088k-breast.nii.gz-0.500000', 'kurt-088k-breast.nii.gz-0.500000', 'hist-0-088k-breast.nii.gz-0.500000', 'hist-1-088k-breast.nii.gz-0.500000', 'hist-2-088k-breast.nii.gz-0.500000', 'hist-3-088k-breast.nii.gz-0.500000', 'hist-4-088k-breast.nii.gz-0.500000', 'hist-5-088k-breast.nii.gz-0.500000', 'hist-6-088k-breast.nii.gz-0.500000', 'hist-7-088k-breast.nii.gz-0.500000', 'hist-8-088k-breast.nii.gz-0.500000', 'hist-9-088k-breast.nii.gz-0.500000', 'hist-10-088k-breast.nii.gz-0.500000', 'hist-11-088k-breast.nii.gz-0.500000', 'hist-12-088k-breast.nii.gz-0.500000', 'hist-13-088k-breast.nii.gz-0.500000', 'hist-14-088k-breast.nii.gz-0.500000', 'hist-15-088k-breast.nii.gz-0.500000', 'hist-16-088k-breast.nii.gz-0.500000', 'hist-17-088k-breast.nii.gz-0.500000', 'hist-18-088k-breast.nii.gz-0.500000', 'hist-19-088k-breast.nii.gz-0.500000', 'num-090a-breast.nii.gz-0.500000', 'sum-090a-breast.nii.gz-0.500000', 'mean-090a-breast.nii.gz-0.500000', 'std-090a-breast.nii.gz-0.500000', 'skew-090a-breast.nii.gz-0.500000', 'kurt-090a-breast.nii.gz-0.500000', 'hist-0-090a-breast.nii.gz-0.500000', 'hist-1-090a-breast.nii.gz-0.500000', 'hist-2-090a-breast.nii.gz-0.500000', 'hist-3-090a-breast.nii.gz-0.500000', 'hist-4-090a-breast.nii.gz-0.500000', 'hist-5-090a-breast.nii.gz-0.500000', 'hist-6-090a-breast.nii.gz-0.500000', 'hist-7-090a-breast.nii.gz-0.500000', 'hist-8-090a-breast.nii.gz-0.500000', 'hist-9-090a-breast.nii.gz-0.500000', 'hist-10-090a-breast.nii.gz-0.500000', 'hist-11-090a-breast.nii.gz-0.500000', 'hist-12-090a-breast.nii.gz-0.500000', 'hist-13-090a-breast.nii.gz-0.500000', 'hist-14-090a-breast.nii.gz-0.500000', 'hist-15-090a-breast.nii.gz-0.500000', 'hist-16-090a-breast.nii.gz-0.500000', 'hist-17-090a-breast.nii.gz-0.500000', 'hist-18-090a-breast.nii.gz-0.500000', 'hist-19-090a-breast.nii.gz-0.500000', 'num-091f-breast.nii.gz-0.500000', 'sum-091f-breast.nii.gz-0.500000', 'mean-091f-breast.nii.gz-0.500000', 'std-091f-breast.nii.gz-0.500000', 'skew-091f-breast.nii.gz-0.500000', 'kurt-091f-breast.nii.gz-0.500000', 'hist-0-091f-breast.nii.gz-0.500000', 'hist-1-091f-breast.nii.gz-0.500000', 'hist-2-091f-breast.nii.gz-0.500000', 'hist-3-091f-breast.nii.gz-0.500000', 'hist-4-091f-breast.nii.gz-0.500000', 'hist-5-091f-breast.nii.gz-0.500000', 'hist-6-091f-breast.nii.gz-0.500000', 'hist-7-091f-breast.nii.gz-0.500000', 'hist-8-091f-breast.nii.gz-0.500000', 'hist-9-091f-breast.nii.gz-0.500000', 'hist-10-091f-breast.nii.gz-0.500000', 'hist-11-091f-breast.nii.gz-0.500000', 'hist-12-091f-breast.nii.gz-0.500000', 'hist-13-091f-breast.nii.gz-0.500000', 'hist-14-091f-breast.nii.gz-0.500000', 'hist-15-091f-breast.nii.gz-0.500000', 'hist-16-091f-breast.nii.gz-0.500000', 'hist-17-091f-breast.nii.gz-0.500000', 'hist-18-091f-breast.nii.gz-0.500000', 'hist-19-091f-breast.nii.gz-0.500000', 'num-092k-breast.nii.gz-0.500000', 'sum-092k-breast.nii.gz-0.500000', 'mean-092k-breast.nii.gz-0.500000', 'std-092k-breast.nii.gz-0.500000', 'skew-092k-breast.nii.gz-0.500000', 'kurt-092k-breast.nii.gz-0.500000', 'hist-0-092k-breast.nii.gz-0.500000', 'hist-1-092k-breast.nii.gz-0.500000', 'hist-2-092k-breast.nii.gz-0.500000', 'hist-3-092k-breast.nii.gz-0.500000', 'hist-4-092k-breast.nii.gz-0.500000', 'hist-5-092k-breast.nii.gz-0.500000', 'hist-6-092k-breast.nii.gz-0.500000', 'hist-7-092k-breast.nii.gz-0.500000', 'hist-8-092k-breast.nii.gz-0.500000', 'hist-9-092k-breast.nii.gz-0.500000', 'hist-10-092k-breast.nii.gz-0.500000', 'hist-11-092k-breast.nii.gz-0.500000', 'hist-12-092k-breast.nii.gz-0.500000', 'hist-13-092k-breast.nii.gz-0.500000', 'hist-14-092k-breast.nii.gz-0.500000', 'hist-15-092k-breast.nii.gz-0.500000', 'hist-16-092k-breast.nii.gz-0.500000', 'hist-17-092k-breast.nii.gz-0.500000', 'hist-18-092k-breast.nii.gz-0.500000', 'hist-19-092k-breast.nii.gz-0.500000', 'num-0.500000-mean_mask', 'sum-0.500000-mean_mask', 'mean-0.500000-mean_mask', 'std-0.500000-mean_mask', 'skew-0.500000-mean_mask', 'kurt-0.500000-mean_mask', 'hist-0-0.500000-mean_mask', 'hist-1-0.500000-mean_mask', 'hist-2-0.500000-mean_mask', 'hist-3-0.500000-mean_mask', 'hist-4-0.500000-mean_mask', 'hist-5-0.500000-mean_mask', 'hist-6-0.500000-mean_mask', 'hist-7-0.500000-mean_mask', 'hist-8-0.500000-mean_mask', 'hist-9-0.500000-mean_mask', 'hist-10-0.500000-mean_mask', 'hist-11-0.500000-mean_mask', 'hist-12-0.500000-mean_mask', 'hist-13-0.500000-mean_mask', 'hist-14-0.500000-mean_mask', 'hist-15-0.500000-mean_mask', 'hist-16-0.500000-mean_mask', 'hist-17-0.500000-mean_mask', 'hist-18-0.500000-mean_mask', 'hist-19-0.500000-mean_mask', 'pos'] \n",
      "Score: -0.7907509523208106\n"
     ]
    },
    {
     "name": "stderr",
     "output_type": "stream",
     "text": [
      "200it [00:00, 291.88it/s]\n"
     ]
    },
    {
     "name": "stdout",
     "output_type": "stream",
     "text": [
      "1\n",
      "1 0.8093700787038851\n",
      "Objective PLSRegression_Objective:\n"
     ]
    },
    {
     "name": "stderr",
     "output_type": "stream",
     "text": [
      "  7%|██████████████████▍                                                                                                                                                                                                                                                                | 535/8000 [00:11<02:34, 48.26it/s]\n"
     ]
    },
    {
     "name": "stdout",
     "output_type": "stream",
     "text": [
      "iterations: 535\n",
      "Number of used features: 443\n",
      "Used features: ['num-074k-breast.nii.gz-0.500000', 'sum-074k-breast.nii.gz-0.500000', 'mean-074k-breast.nii.gz-0.500000', 'std-074k-breast.nii.gz-0.500000', 'skew-074k-breast.nii.gz-0.500000', 'kurt-074k-breast.nii.gz-0.500000', 'hist-0-074k-breast.nii.gz-0.500000', 'hist-1-074k-breast.nii.gz-0.500000', 'hist-2-074k-breast.nii.gz-0.500000', 'hist-3-074k-breast.nii.gz-0.500000', 'hist-4-074k-breast.nii.gz-0.500000', 'hist-5-074k-breast.nii.gz-0.500000', 'hist-6-074k-breast.nii.gz-0.500000', 'hist-7-074k-breast.nii.gz-0.500000', 'hist-8-074k-breast.nii.gz-0.500000', 'hist-9-074k-breast.nii.gz-0.500000', 'hist-10-074k-breast.nii.gz-0.500000', 'hist-11-074k-breast.nii.gz-0.500000', 'hist-12-074k-breast.nii.gz-0.500000', 'hist-13-074k-breast.nii.gz-0.500000', 'hist-14-074k-breast.nii.gz-0.500000', 'hist-15-074k-breast.nii.gz-0.500000', 'hist-16-074k-breast.nii.gz-0.500000', 'hist-17-074k-breast.nii.gz-0.500000', 'hist-18-074k-breast.nii.gz-0.500000', 'hist-19-074k-breast.nii.gz-0.500000', 'num-075a-breast.nii.gz-0.500000', 'sum-075a-breast.nii.gz-0.500000', 'mean-075a-breast.nii.gz-0.500000', 'std-075a-breast.nii.gz-0.500000', 'skew-075a-breast.nii.gz-0.500000', 'kurt-075a-breast.nii.gz-0.500000', 'hist-0-075a-breast.nii.gz-0.500000', 'hist-1-075a-breast.nii.gz-0.500000', 'hist-2-075a-breast.nii.gz-0.500000', 'hist-3-075a-breast.nii.gz-0.500000', 'hist-4-075a-breast.nii.gz-0.500000', 'hist-5-075a-breast.nii.gz-0.500000', 'hist-6-075a-breast.nii.gz-0.500000', 'hist-7-075a-breast.nii.gz-0.500000', 'hist-8-075a-breast.nii.gz-0.500000', 'hist-9-075a-breast.nii.gz-0.500000', 'hist-10-075a-breast.nii.gz-0.500000', 'hist-11-075a-breast.nii.gz-0.500000', 'hist-12-075a-breast.nii.gz-0.500000', 'hist-13-075a-breast.nii.gz-0.500000', 'hist-14-075a-breast.nii.gz-0.500000', 'hist-15-075a-breast.nii.gz-0.500000', 'hist-16-075a-breast.nii.gz-0.500000', 'hist-17-075a-breast.nii.gz-0.500000', 'hist-18-075a-breast.nii.gz-0.500000', 'hist-19-075a-breast.nii.gz-0.500000', 'num-075k-breast.nii.gz-0.500000', 'sum-075k-breast.nii.gz-0.500000', 'mean-075k-breast.nii.gz-0.500000', 'std-075k-breast.nii.gz-0.500000', 'skew-075k-breast.nii.gz-0.500000', 'kurt-075k-breast.nii.gz-0.500000', 'hist-0-075k-breast.nii.gz-0.500000', 'hist-1-075k-breast.nii.gz-0.500000', 'hist-2-075k-breast.nii.gz-0.500000', 'hist-3-075k-breast.nii.gz-0.500000', 'hist-4-075k-breast.nii.gz-0.500000', 'hist-5-075k-breast.nii.gz-0.500000', 'hist-6-075k-breast.nii.gz-0.500000', 'hist-7-075k-breast.nii.gz-0.500000', 'hist-8-075k-breast.nii.gz-0.500000', 'hist-9-075k-breast.nii.gz-0.500000', 'hist-10-075k-breast.nii.gz-0.500000', 'hist-11-075k-breast.nii.gz-0.500000', 'hist-12-075k-breast.nii.gz-0.500000', 'hist-13-075k-breast.nii.gz-0.500000', 'hist-14-075k-breast.nii.gz-0.500000', 'hist-15-075k-breast.nii.gz-0.500000', 'hist-16-075k-breast.nii.gz-0.500000', 'hist-17-075k-breast.nii.gz-0.500000', 'hist-18-075k-breast.nii.gz-0.500000', 'hist-19-075k-breast.nii.gz-0.500000', 'num-077k-breast.nii.gz-0.500000', 'sum-077k-breast.nii.gz-0.500000', 'mean-077k-breast.nii.gz-0.500000', 'std-077k-breast.nii.gz-0.500000', 'skew-077k-breast.nii.gz-0.500000', 'kurt-077k-breast.nii.gz-0.500000', 'hist-0-077k-breast.nii.gz-0.500000', 'hist-1-077k-breast.nii.gz-0.500000', 'hist-2-077k-breast.nii.gz-0.500000', 'hist-3-077k-breast.nii.gz-0.500000', 'hist-4-077k-breast.nii.gz-0.500000', 'hist-5-077k-breast.nii.gz-0.500000', 'hist-6-077k-breast.nii.gz-0.500000', 'hist-7-077k-breast.nii.gz-0.500000', 'hist-8-077k-breast.nii.gz-0.500000', 'hist-9-077k-breast.nii.gz-0.500000', 'hist-10-077k-breast.nii.gz-0.500000', 'hist-11-077k-breast.nii.gz-0.500000', 'hist-12-077k-breast.nii.gz-0.500000', 'hist-13-077k-breast.nii.gz-0.500000', 'hist-14-077k-breast.nii.gz-0.500000', 'hist-15-077k-breast.nii.gz-0.500000', 'hist-16-077k-breast.nii.gz-0.500000', 'hist-17-077k-breast.nii.gz-0.500000', 'hist-18-077k-breast.nii.gz-0.500000', 'hist-19-077k-breast.nii.gz-0.500000', 'num-079k-breast.nii.gz-0.500000', 'sum-079k-breast.nii.gz-0.500000', 'mean-079k-breast.nii.gz-0.500000', 'std-079k-breast.nii.gz-0.500000', 'skew-079k-breast.nii.gz-0.500000', 'kurt-079k-breast.nii.gz-0.500000', 'hist-0-079k-breast.nii.gz-0.500000', 'hist-1-079k-breast.nii.gz-0.500000', 'hist-2-079k-breast.nii.gz-0.500000', 'hist-3-079k-breast.nii.gz-0.500000', 'hist-4-079k-breast.nii.gz-0.500000', 'hist-5-079k-breast.nii.gz-0.500000', 'hist-6-079k-breast.nii.gz-0.500000', 'hist-7-079k-breast.nii.gz-0.500000', 'hist-8-079k-breast.nii.gz-0.500000', 'hist-9-079k-breast.nii.gz-0.500000', 'hist-10-079k-breast.nii.gz-0.500000', 'hist-11-079k-breast.nii.gz-0.500000', 'hist-12-079k-breast.nii.gz-0.500000', 'hist-13-079k-breast.nii.gz-0.500000', 'hist-14-079k-breast.nii.gz-0.500000', 'hist-15-079k-breast.nii.gz-0.500000', 'hist-16-079k-breast.nii.gz-0.500000', 'hist-17-079k-breast.nii.gz-0.500000', 'hist-18-079k-breast.nii.gz-0.500000', 'hist-19-079k-breast.nii.gz-0.500000', 'num-080k-breast.nii.gz-0.500000', 'sum-080k-breast.nii.gz-0.500000', 'mean-080k-breast.nii.gz-0.500000', 'std-080k-breast.nii.gz-0.500000', 'skew-080k-breast.nii.gz-0.500000', 'kurt-080k-breast.nii.gz-0.500000', 'hist-0-080k-breast.nii.gz-0.500000', 'hist-1-080k-breast.nii.gz-0.500000', 'hist-2-080k-breast.nii.gz-0.500000', 'hist-3-080k-breast.nii.gz-0.500000', 'hist-4-080k-breast.nii.gz-0.500000', 'hist-5-080k-breast.nii.gz-0.500000', 'hist-6-080k-breast.nii.gz-0.500000', 'hist-7-080k-breast.nii.gz-0.500000', 'hist-8-080k-breast.nii.gz-0.500000', 'hist-9-080k-breast.nii.gz-0.500000', 'hist-10-080k-breast.nii.gz-0.500000', 'hist-11-080k-breast.nii.gz-0.500000', 'hist-12-080k-breast.nii.gz-0.500000', 'hist-13-080k-breast.nii.gz-0.500000', 'hist-14-080k-breast.nii.gz-0.500000', 'hist-15-080k-breast.nii.gz-0.500000', 'hist-16-080k-breast.nii.gz-0.500000', 'hist-17-080k-breast.nii.gz-0.500000', 'hist-18-080k-breast.nii.gz-0.500000', 'hist-19-080k-breast.nii.gz-0.500000', 'num-082k-breast.nii.gz-0.500000', 'sum-082k-breast.nii.gz-0.500000', 'mean-082k-breast.nii.gz-0.500000', 'std-082k-breast.nii.gz-0.500000', 'skew-082k-breast.nii.gz-0.500000', 'kurt-082k-breast.nii.gz-0.500000', 'hist-0-082k-breast.nii.gz-0.500000', 'hist-1-082k-breast.nii.gz-0.500000', 'hist-2-082k-breast.nii.gz-0.500000', 'hist-3-082k-breast.nii.gz-0.500000', 'hist-4-082k-breast.nii.gz-0.500000', 'hist-5-082k-breast.nii.gz-0.500000', 'hist-6-082k-breast.nii.gz-0.500000', 'hist-7-082k-breast.nii.gz-0.500000', 'hist-8-082k-breast.nii.gz-0.500000', 'hist-9-082k-breast.nii.gz-0.500000', 'hist-10-082k-breast.nii.gz-0.500000', 'hist-11-082k-breast.nii.gz-0.500000', 'hist-12-082k-breast.nii.gz-0.500000', 'hist-13-082k-breast.nii.gz-0.500000', 'hist-14-082k-breast.nii.gz-0.500000', 'hist-15-082k-breast.nii.gz-0.500000', 'hist-16-082k-breast.nii.gz-0.500000', 'hist-17-082k-breast.nii.gz-0.500000', 'hist-18-082k-breast.nii.gz-0.500000', 'hist-19-082k-breast.nii.gz-0.500000', 'num-083a-breast.nii.gz-0.500000', 'sum-083a-breast.nii.gz-0.500000', 'mean-083a-breast.nii.gz-0.500000', 'std-083a-breast.nii.gz-0.500000', 'skew-083a-breast.nii.gz-0.500000', 'kurt-083a-breast.nii.gz-0.500000', 'hist-0-083a-breast.nii.gz-0.500000', 'hist-1-083a-breast.nii.gz-0.500000', 'hist-2-083a-breast.nii.gz-0.500000', 'hist-3-083a-breast.nii.gz-0.500000', 'hist-4-083a-breast.nii.gz-0.500000', 'hist-5-083a-breast.nii.gz-0.500000', 'hist-6-083a-breast.nii.gz-0.500000', 'hist-7-083a-breast.nii.gz-0.500000', 'hist-8-083a-breast.nii.gz-0.500000', 'hist-9-083a-breast.nii.gz-0.500000', 'hist-10-083a-breast.nii.gz-0.500000', 'hist-11-083a-breast.nii.gz-0.500000', 'hist-12-083a-breast.nii.gz-0.500000', 'hist-13-083a-breast.nii.gz-0.500000', 'hist-14-083a-breast.nii.gz-0.500000', 'hist-15-083a-breast.nii.gz-0.500000', 'hist-16-083a-breast.nii.gz-0.500000', 'hist-17-083a-breast.nii.gz-0.500000', 'hist-18-083a-breast.nii.gz-0.500000', 'hist-19-083a-breast.nii.gz-0.500000', 'num-083k-breast.nii.gz-0.500000', 'sum-083k-breast.nii.gz-0.500000', 'mean-083k-breast.nii.gz-0.500000', 'std-083k-breast.nii.gz-0.500000', 'skew-083k-breast.nii.gz-0.500000', 'kurt-083k-breast.nii.gz-0.500000', 'hist-0-083k-breast.nii.gz-0.500000', 'hist-1-083k-breast.nii.gz-0.500000', 'hist-2-083k-breast.nii.gz-0.500000', 'hist-3-083k-breast.nii.gz-0.500000', 'hist-4-083k-breast.nii.gz-0.500000', 'hist-5-083k-breast.nii.gz-0.500000', 'hist-6-083k-breast.nii.gz-0.500000', 'hist-7-083k-breast.nii.gz-0.500000', 'hist-8-083k-breast.nii.gz-0.500000', 'hist-9-083k-breast.nii.gz-0.500000', 'hist-10-083k-breast.nii.gz-0.500000', 'hist-11-083k-breast.nii.gz-0.500000', 'hist-12-083k-breast.nii.gz-0.500000', 'hist-13-083k-breast.nii.gz-0.500000', 'hist-14-083k-breast.nii.gz-0.500000', 'hist-15-083k-breast.nii.gz-0.500000', 'hist-16-083k-breast.nii.gz-0.500000', 'hist-17-083k-breast.nii.gz-0.500000', 'hist-18-083k-breast.nii.gz-0.500000', 'hist-19-083k-breast.nii.gz-0.500000', 'num-084a-breast.nii.gz-0.500000', 'sum-084a-breast.nii.gz-0.500000', 'mean-084a-breast.nii.gz-0.500000', 'std-084a-breast.nii.gz-0.500000', 'skew-084a-breast.nii.gz-0.500000', 'kurt-084a-breast.nii.gz-0.500000', 'hist-0-084a-breast.nii.gz-0.500000', 'hist-1-084a-breast.nii.gz-0.500000', 'hist-2-084a-breast.nii.gz-0.500000', 'hist-3-084a-breast.nii.gz-0.500000', 'hist-4-084a-breast.nii.gz-0.500000', 'hist-5-084a-breast.nii.gz-0.500000', 'hist-6-084a-breast.nii.gz-0.500000', 'hist-7-084a-breast.nii.gz-0.500000', 'hist-8-084a-breast.nii.gz-0.500000', 'hist-9-084a-breast.nii.gz-0.500000', 'hist-10-084a-breast.nii.gz-0.500000', 'hist-11-084a-breast.nii.gz-0.500000', 'hist-12-084a-breast.nii.gz-0.500000', 'hist-13-084a-breast.nii.gz-0.500000', 'hist-14-084a-breast.nii.gz-0.500000', 'hist-15-084a-breast.nii.gz-0.500000', 'hist-16-084a-breast.nii.gz-0.500000', 'hist-17-084a-breast.nii.gz-0.500000', 'hist-18-084a-breast.nii.gz-0.500000', 'hist-19-084a-breast.nii.gz-0.500000', 'num-087f-breast.nii.gz-0.500000', 'sum-087f-breast.nii.gz-0.500000', 'mean-087f-breast.nii.gz-0.500000', 'std-087f-breast.nii.gz-0.500000', 'skew-087f-breast.nii.gz-0.500000', 'kurt-087f-breast.nii.gz-0.500000', 'hist-0-087f-breast.nii.gz-0.500000', 'hist-1-087f-breast.nii.gz-0.500000', 'hist-2-087f-breast.nii.gz-0.500000', 'hist-3-087f-breast.nii.gz-0.500000', 'hist-4-087f-breast.nii.gz-0.500000', 'hist-5-087f-breast.nii.gz-0.500000', 'hist-6-087f-breast.nii.gz-0.500000', 'hist-7-087f-breast.nii.gz-0.500000', 'hist-8-087f-breast.nii.gz-0.500000', 'hist-9-087f-breast.nii.gz-0.500000', 'hist-10-087f-breast.nii.gz-0.500000', 'hist-11-087f-breast.nii.gz-0.500000', 'hist-12-087f-breast.nii.gz-0.500000', 'hist-13-087f-breast.nii.gz-0.500000', 'hist-14-087f-breast.nii.gz-0.500000', 'hist-15-087f-breast.nii.gz-0.500000', 'hist-16-087f-breast.nii.gz-0.500000', 'hist-17-087f-breast.nii.gz-0.500000', 'hist-18-087f-breast.nii.gz-0.500000', 'hist-19-087f-breast.nii.gz-0.500000', 'num-088f-breast.nii.gz-0.500000', 'sum-088f-breast.nii.gz-0.500000', 'mean-088f-breast.nii.gz-0.500000', 'std-088f-breast.nii.gz-0.500000', 'skew-088f-breast.nii.gz-0.500000', 'kurt-088f-breast.nii.gz-0.500000', 'hist-0-088f-breast.nii.gz-0.500000', 'hist-1-088f-breast.nii.gz-0.500000', 'hist-2-088f-breast.nii.gz-0.500000', 'hist-3-088f-breast.nii.gz-0.500000', 'hist-4-088f-breast.nii.gz-0.500000', 'hist-5-088f-breast.nii.gz-0.500000', 'hist-6-088f-breast.nii.gz-0.500000', 'hist-7-088f-breast.nii.gz-0.500000', 'hist-8-088f-breast.nii.gz-0.500000', 'hist-9-088f-breast.nii.gz-0.500000', 'hist-10-088f-breast.nii.gz-0.500000', 'hist-11-088f-breast.nii.gz-0.500000', 'hist-12-088f-breast.nii.gz-0.500000', 'hist-13-088f-breast.nii.gz-0.500000', 'hist-14-088f-breast.nii.gz-0.500000', 'hist-15-088f-breast.nii.gz-0.500000', 'hist-16-088f-breast.nii.gz-0.500000', 'hist-17-088f-breast.nii.gz-0.500000', 'hist-18-088f-breast.nii.gz-0.500000', 'hist-19-088f-breast.nii.gz-0.500000', 'num-088k-breast.nii.gz-0.500000', 'sum-088k-breast.nii.gz-0.500000', 'mean-088k-breast.nii.gz-0.500000', 'std-088k-breast.nii.gz-0.500000', 'skew-088k-breast.nii.gz-0.500000', 'kurt-088k-breast.nii.gz-0.500000', 'hist-0-088k-breast.nii.gz-0.500000', 'hist-1-088k-breast.nii.gz-0.500000', 'hist-2-088k-breast.nii.gz-0.500000', 'hist-3-088k-breast.nii.gz-0.500000', 'hist-4-088k-breast.nii.gz-0.500000', 'hist-5-088k-breast.nii.gz-0.500000', 'hist-6-088k-breast.nii.gz-0.500000', 'hist-7-088k-breast.nii.gz-0.500000', 'hist-8-088k-breast.nii.gz-0.500000', 'hist-9-088k-breast.nii.gz-0.500000', 'hist-10-088k-breast.nii.gz-0.500000', 'hist-11-088k-breast.nii.gz-0.500000', 'hist-12-088k-breast.nii.gz-0.500000', 'hist-13-088k-breast.nii.gz-0.500000', 'hist-14-088k-breast.nii.gz-0.500000', 'hist-15-088k-breast.nii.gz-0.500000', 'hist-16-088k-breast.nii.gz-0.500000', 'hist-17-088k-breast.nii.gz-0.500000', 'hist-18-088k-breast.nii.gz-0.500000', 'hist-19-088k-breast.nii.gz-0.500000', 'num-090a-breast.nii.gz-0.500000', 'sum-090a-breast.nii.gz-0.500000', 'mean-090a-breast.nii.gz-0.500000', 'std-090a-breast.nii.gz-0.500000', 'skew-090a-breast.nii.gz-0.500000', 'kurt-090a-breast.nii.gz-0.500000', 'hist-0-090a-breast.nii.gz-0.500000', 'hist-1-090a-breast.nii.gz-0.500000', 'hist-2-090a-breast.nii.gz-0.500000', 'hist-3-090a-breast.nii.gz-0.500000', 'hist-4-090a-breast.nii.gz-0.500000', 'hist-5-090a-breast.nii.gz-0.500000', 'hist-6-090a-breast.nii.gz-0.500000', 'hist-7-090a-breast.nii.gz-0.500000', 'hist-8-090a-breast.nii.gz-0.500000', 'hist-9-090a-breast.nii.gz-0.500000', 'hist-10-090a-breast.nii.gz-0.500000', 'hist-11-090a-breast.nii.gz-0.500000', 'hist-12-090a-breast.nii.gz-0.500000', 'hist-13-090a-breast.nii.gz-0.500000', 'hist-14-090a-breast.nii.gz-0.500000', 'hist-15-090a-breast.nii.gz-0.500000', 'hist-16-090a-breast.nii.gz-0.500000', 'hist-17-090a-breast.nii.gz-0.500000', 'hist-18-090a-breast.nii.gz-0.500000', 'hist-19-090a-breast.nii.gz-0.500000', 'num-091f-breast.nii.gz-0.500000', 'sum-091f-breast.nii.gz-0.500000', 'mean-091f-breast.nii.gz-0.500000', 'std-091f-breast.nii.gz-0.500000', 'skew-091f-breast.nii.gz-0.500000', 'kurt-091f-breast.nii.gz-0.500000', 'hist-0-091f-breast.nii.gz-0.500000', 'hist-1-091f-breast.nii.gz-0.500000', 'hist-2-091f-breast.nii.gz-0.500000', 'hist-3-091f-breast.nii.gz-0.500000', 'hist-4-091f-breast.nii.gz-0.500000', 'hist-5-091f-breast.nii.gz-0.500000', 'hist-6-091f-breast.nii.gz-0.500000', 'hist-7-091f-breast.nii.gz-0.500000', 'hist-8-091f-breast.nii.gz-0.500000', 'hist-9-091f-breast.nii.gz-0.500000', 'hist-10-091f-breast.nii.gz-0.500000', 'hist-11-091f-breast.nii.gz-0.500000', 'hist-12-091f-breast.nii.gz-0.500000', 'hist-13-091f-breast.nii.gz-0.500000', 'hist-14-091f-breast.nii.gz-0.500000', 'hist-15-091f-breast.nii.gz-0.500000', 'hist-16-091f-breast.nii.gz-0.500000', 'hist-17-091f-breast.nii.gz-0.500000', 'hist-18-091f-breast.nii.gz-0.500000', 'hist-19-091f-breast.nii.gz-0.500000', 'num-092k-breast.nii.gz-0.500000', 'sum-092k-breast.nii.gz-0.500000', 'mean-092k-breast.nii.gz-0.500000', 'std-092k-breast.nii.gz-0.500000', 'skew-092k-breast.nii.gz-0.500000', 'kurt-092k-breast.nii.gz-0.500000', 'hist-0-092k-breast.nii.gz-0.500000', 'hist-1-092k-breast.nii.gz-0.500000', 'hist-2-092k-breast.nii.gz-0.500000', 'hist-3-092k-breast.nii.gz-0.500000', 'hist-4-092k-breast.nii.gz-0.500000', 'hist-5-092k-breast.nii.gz-0.500000', 'hist-6-092k-breast.nii.gz-0.500000', 'hist-7-092k-breast.nii.gz-0.500000', 'hist-8-092k-breast.nii.gz-0.500000', 'hist-9-092k-breast.nii.gz-0.500000', 'hist-10-092k-breast.nii.gz-0.500000', 'hist-11-092k-breast.nii.gz-0.500000', 'hist-12-092k-breast.nii.gz-0.500000', 'hist-13-092k-breast.nii.gz-0.500000', 'hist-14-092k-breast.nii.gz-0.500000', 'hist-15-092k-breast.nii.gz-0.500000', 'hist-16-092k-breast.nii.gz-0.500000', 'hist-17-092k-breast.nii.gz-0.500000', 'hist-18-092k-breast.nii.gz-0.500000', 'hist-19-092k-breast.nii.gz-0.500000', 'num-0.500000-mean_mask', 'sum-0.500000-mean_mask', 'mean-0.500000-mean_mask', 'std-0.500000-mean_mask', 'skew-0.500000-mean_mask', 'kurt-0.500000-mean_mask', 'hist-0-0.500000-mean_mask', 'hist-1-0.500000-mean_mask', 'hist-2-0.500000-mean_mask', 'hist-3-0.500000-mean_mask', 'hist-4-0.500000-mean_mask', 'hist-5-0.500000-mean_mask', 'hist-6-0.500000-mean_mask', 'hist-7-0.500000-mean_mask', 'hist-8-0.500000-mean_mask', 'hist-9-0.500000-mean_mask', 'hist-10-0.500000-mean_mask', 'hist-11-0.500000-mean_mask', 'hist-12-0.500000-mean_mask', 'hist-13-0.500000-mean_mask', 'hist-14-0.500000-mean_mask', 'hist-15-0.500000-mean_mask', 'hist-16-0.500000-mean_mask', 'hist-17-0.500000-mean_mask', 'hist-18-0.500000-mean_mask', 'hist-19-0.500000-mean_mask', 'pos'] \n",
      "Score: -0.83851547003342\n"
     ]
    },
    {
     "name": "stderr",
     "output_type": "stream",
     "text": [
      "200it [00:00, 267.42it/s]"
     ]
    },
    {
     "name": "stdout",
     "output_type": "stream",
     "text": [
      "1\n",
      "1 0.851005959762946\n"
     ]
    },
    {
     "name": "stderr",
     "output_type": "stream",
     "text": [
      "\n"
     ]
    }
   ],
   "source": [
    "results_no_fs.append(model_selection(breast_features, breast_target, dataset='breast', type='all', disable_feature_selection=True))"
   ]
  },
  {
   "cell_type": "markdown",
   "metadata": {},
   "source": [
    "### breast mean mask"
   ]
  },
  {
   "cell_type": "code",
   "execution_count": 18,
   "metadata": {},
   "outputs": [
    {
     "name": "stdout",
     "output_type": "stream",
     "text": [
      "Objective KNNR_Objective:\n"
     ]
    },
    {
     "name": "stderr",
     "output_type": "stream",
     "text": [
      "  6%|█████████████████▌                                                                                                                                                                                                                                                                 | 511/8000 [00:15<03:43, 33.45it/s]\n"
     ]
    },
    {
     "name": "stdout",
     "output_type": "stream",
     "text": [
      "iterations: 511\n",
      "Number of used features: 26\n",
      "Used features: ['num-0.500000-mean_mask', 'sum-0.500000-mean_mask', 'mean-0.500000-mean_mask', 'std-0.500000-mean_mask', 'skew-0.500000-mean_mask', 'kurt-0.500000-mean_mask', 'hist-0-0.500000-mean_mask', 'hist-1-0.500000-mean_mask', 'hist-2-0.500000-mean_mask', 'hist-3-0.500000-mean_mask', 'hist-4-0.500000-mean_mask', 'hist-5-0.500000-mean_mask', 'hist-6-0.500000-mean_mask', 'hist-7-0.500000-mean_mask', 'hist-8-0.500000-mean_mask', 'hist-9-0.500000-mean_mask', 'hist-10-0.500000-mean_mask', 'hist-11-0.500000-mean_mask', 'hist-12-0.500000-mean_mask', 'hist-13-0.500000-mean_mask', 'hist-14-0.500000-mean_mask', 'hist-15-0.500000-mean_mask', 'hist-16-0.500000-mean_mask', 'hist-17-0.500000-mean_mask', 'hist-18-0.500000-mean_mask', 'hist-19-0.500000-mean_mask'] \n",
      "Score: -0.722505840491539\n"
     ]
    },
    {
     "name": "stderr",
     "output_type": "stream",
     "text": [
      "200it [00:00, 732.03it/s]\n"
     ]
    },
    {
     "name": "stdout",
     "output_type": "stream",
     "text": [
      "1\n",
      "1 0.7278151564050614\n",
      "Objective LinearRegression_Objective:\n"
     ]
    },
    {
     "name": "stderr",
     "output_type": "stream",
     "text": [
      "  6%|█████████████████                                                                                                                                                                                                                                                                | 499/8000 [00:00<00:02, 3117.45it/s]\n"
     ]
    },
    {
     "name": "stdout",
     "output_type": "stream",
     "text": [
      "iterations: 499\n",
      "Number of used features: 26\n",
      "Used features: ['num-0.500000-mean_mask', 'sum-0.500000-mean_mask', 'mean-0.500000-mean_mask', 'std-0.500000-mean_mask', 'skew-0.500000-mean_mask', 'kurt-0.500000-mean_mask', 'hist-0-0.500000-mean_mask', 'hist-1-0.500000-mean_mask', 'hist-2-0.500000-mean_mask', 'hist-3-0.500000-mean_mask', 'hist-4-0.500000-mean_mask', 'hist-5-0.500000-mean_mask', 'hist-6-0.500000-mean_mask', 'hist-7-0.500000-mean_mask', 'hist-8-0.500000-mean_mask', 'hist-9-0.500000-mean_mask', 'hist-10-0.500000-mean_mask', 'hist-11-0.500000-mean_mask', 'hist-12-0.500000-mean_mask', 'hist-13-0.500000-mean_mask', 'hist-14-0.500000-mean_mask', 'hist-15-0.500000-mean_mask', 'hist-16-0.500000-mean_mask', 'hist-17-0.500000-mean_mask', 'hist-18-0.500000-mean_mask', 'hist-19-0.500000-mean_mask'] \n",
      "Score: -0.7699216246776903\n"
     ]
    },
    {
     "name": "stderr",
     "output_type": "stream",
     "text": [
      "200it [00:00, 732.41it/s]\n"
     ]
    },
    {
     "name": "stdout",
     "output_type": "stream",
     "text": [
      "1\n",
      "1 0.7960707250285864\n",
      "Objective LassoRegression_Objective:\n"
     ]
    },
    {
     "name": "stderr",
     "output_type": "stream",
     "text": [
      "  6%|█████████████████▎                                                                                                                                                                                                                                                                | 505/8000 [00:02<00:31, 234.78it/s]\n"
     ]
    },
    {
     "name": "stdout",
     "output_type": "stream",
     "text": [
      "iterations: 505\n",
      "Number of used features: 26\n",
      "Used features: ['num-0.500000-mean_mask', 'sum-0.500000-mean_mask', 'mean-0.500000-mean_mask', 'std-0.500000-mean_mask', 'skew-0.500000-mean_mask', 'kurt-0.500000-mean_mask', 'hist-0-0.500000-mean_mask', 'hist-1-0.500000-mean_mask', 'hist-2-0.500000-mean_mask', 'hist-3-0.500000-mean_mask', 'hist-4-0.500000-mean_mask', 'hist-5-0.500000-mean_mask', 'hist-6-0.500000-mean_mask', 'hist-7-0.500000-mean_mask', 'hist-8-0.500000-mean_mask', 'hist-9-0.500000-mean_mask', 'hist-10-0.500000-mean_mask', 'hist-11-0.500000-mean_mask', 'hist-12-0.500000-mean_mask', 'hist-13-0.500000-mean_mask', 'hist-14-0.500000-mean_mask', 'hist-15-0.500000-mean_mask', 'hist-16-0.500000-mean_mask', 'hist-17-0.500000-mean_mask', 'hist-18-0.500000-mean_mask', 'hist-19-0.500000-mean_mask'] \n",
      "Score: -0.888515190520355\n"
     ]
    },
    {
     "name": "stderr",
     "output_type": "stream",
     "text": [
      "200it [00:00, 514.23it/s]\n"
     ]
    },
    {
     "name": "stdout",
     "output_type": "stream",
     "text": [
      "1\n",
      "1 0.8931908425706764\n",
      "Objective RidgeRegression_Objective:\n"
     ]
    },
    {
     "name": "stderr",
     "output_type": "stream",
     "text": [
      "  6%|█████████████████▏                                                                                                                                                                                                                                                                | 500/8000 [00:01<00:23, 318.08it/s]\n"
     ]
    },
    {
     "name": "stdout",
     "output_type": "stream",
     "text": [
      "iterations: 500\n",
      "Number of used features: 26\n",
      "Used features: ['num-0.500000-mean_mask', 'sum-0.500000-mean_mask', 'mean-0.500000-mean_mask', 'std-0.500000-mean_mask', 'skew-0.500000-mean_mask', 'kurt-0.500000-mean_mask', 'hist-0-0.500000-mean_mask', 'hist-1-0.500000-mean_mask', 'hist-2-0.500000-mean_mask', 'hist-3-0.500000-mean_mask', 'hist-4-0.500000-mean_mask', 'hist-5-0.500000-mean_mask', 'hist-6-0.500000-mean_mask', 'hist-7-0.500000-mean_mask', 'hist-8-0.500000-mean_mask', 'hist-9-0.500000-mean_mask', 'hist-10-0.500000-mean_mask', 'hist-11-0.500000-mean_mask', 'hist-12-0.500000-mean_mask', 'hist-13-0.500000-mean_mask', 'hist-14-0.500000-mean_mask', 'hist-15-0.500000-mean_mask', 'hist-16-0.500000-mean_mask', 'hist-17-0.500000-mean_mask', 'hist-18-0.500000-mean_mask', 'hist-19-0.500000-mean_mask'] \n",
      "Score: -0.8872022867651563\n"
     ]
    },
    {
     "name": "stderr",
     "output_type": "stream",
     "text": [
      "200it [00:00, 586.74it/s]\n"
     ]
    },
    {
     "name": "stdout",
     "output_type": "stream",
     "text": [
      "1\n",
      "1 0.891036897419159\n",
      "Objective PLSRegression_Objective:\n"
     ]
    },
    {
     "name": "stderr",
     "output_type": "stream",
     "text": [
      "  6%|█████████████████                                                                                                                                                                                                                                                                 | 499/8000 [00:00<00:07, 982.45it/s]\n"
     ]
    },
    {
     "name": "stdout",
     "output_type": "stream",
     "text": [
      "iterations: 499\n",
      "Number of used features: 26\n",
      "Used features: ['num-0.500000-mean_mask', 'sum-0.500000-mean_mask', 'mean-0.500000-mean_mask', 'std-0.500000-mean_mask', 'skew-0.500000-mean_mask', 'kurt-0.500000-mean_mask', 'hist-0-0.500000-mean_mask', 'hist-1-0.500000-mean_mask', 'hist-2-0.500000-mean_mask', 'hist-3-0.500000-mean_mask', 'hist-4-0.500000-mean_mask', 'hist-5-0.500000-mean_mask', 'hist-6-0.500000-mean_mask', 'hist-7-0.500000-mean_mask', 'hist-8-0.500000-mean_mask', 'hist-9-0.500000-mean_mask', 'hist-10-0.500000-mean_mask', 'hist-11-0.500000-mean_mask', 'hist-12-0.500000-mean_mask', 'hist-13-0.500000-mean_mask', 'hist-14-0.500000-mean_mask', 'hist-15-0.500000-mean_mask', 'hist-16-0.500000-mean_mask', 'hist-17-0.500000-mean_mask', 'hist-18-0.500000-mean_mask', 'hist-19-0.500000-mean_mask'] \n",
      "Score: -0.881764604721327\n"
     ]
    },
    {
     "name": "stderr",
     "output_type": "stream",
     "text": [
      "200it [00:00, 581.51it/s]"
     ]
    },
    {
     "name": "stdout",
     "output_type": "stream",
     "text": [
      "1\n",
      "1 0.8837435910278285\n"
     ]
    },
    {
     "name": "stderr",
     "output_type": "stream",
     "text": [
      "\n"
     ]
    }
   ],
   "source": [
    "results_no_fs.append(model_selection(breast_features[[c for c in breast_features.columns if 'mean_mask' in c or c == 'type']], breast_target, dataset='breast', type='mean_mask', disable_feature_selection=True))"
   ]
  },
  {
   "cell_type": "markdown",
   "metadata": {},
   "source": [
    "### breast individual masks"
   ]
  },
  {
   "cell_type": "code",
   "execution_count": 19,
   "metadata": {},
   "outputs": [
    {
     "name": "stdout",
     "output_type": "stream",
     "text": [
      "Objective KNNR_Objective:\n"
     ]
    },
    {
     "name": "stderr",
     "output_type": "stream",
     "text": [
      "  7%|███████████████████▉                                                                                                                                                                                                                                                               | 581/8000 [00:17<03:40, 33.66it/s]\n"
     ]
    },
    {
     "name": "stdout",
     "output_type": "stream",
     "text": [
      "iterations: 581\n",
      "Number of used features: 26\n",
      "Used features: ['num-074k-breast.nii.gz-0.500000', 'sum-074k-breast.nii.gz-0.500000', 'mean-074k-breast.nii.gz-0.500000', 'std-074k-breast.nii.gz-0.500000', 'skew-074k-breast.nii.gz-0.500000', 'kurt-074k-breast.nii.gz-0.500000', 'hist-0-074k-breast.nii.gz-0.500000', 'hist-1-074k-breast.nii.gz-0.500000', 'hist-2-074k-breast.nii.gz-0.500000', 'hist-3-074k-breast.nii.gz-0.500000', 'hist-4-074k-breast.nii.gz-0.500000', 'hist-5-074k-breast.nii.gz-0.500000', 'hist-6-074k-breast.nii.gz-0.500000', 'hist-7-074k-breast.nii.gz-0.500000', 'hist-8-074k-breast.nii.gz-0.500000', 'hist-9-074k-breast.nii.gz-0.500000', 'hist-10-074k-breast.nii.gz-0.500000', 'hist-11-074k-breast.nii.gz-0.500000', 'hist-12-074k-breast.nii.gz-0.500000', 'hist-13-074k-breast.nii.gz-0.500000', 'hist-14-074k-breast.nii.gz-0.500000', 'hist-15-074k-breast.nii.gz-0.500000', 'hist-16-074k-breast.nii.gz-0.500000', 'hist-17-074k-breast.nii.gz-0.500000', 'hist-18-074k-breast.nii.gz-0.500000', 'hist-19-074k-breast.nii.gz-0.500000'] \n",
      "Score: -0.6319081632199234\n"
     ]
    },
    {
     "name": "stderr",
     "output_type": "stream",
     "text": [
      "200it [00:00, 698.44it/s]\n"
     ]
    },
    {
     "name": "stdout",
     "output_type": "stream",
     "text": [
      "1\n",
      "1 0.6520966568675548\n",
      "Objective LinearRegression_Objective:\n"
     ]
    },
    {
     "name": "stderr",
     "output_type": "stream",
     "text": [
      "  6%|█████████████████                                                                                                                                                                                                                                                                | 499/8000 [00:00<00:02, 3034.98it/s]\n"
     ]
    },
    {
     "name": "stdout",
     "output_type": "stream",
     "text": [
      "iterations: 499\n",
      "Number of used features: 26\n",
      "Used features: ['num-074k-breast.nii.gz-0.500000', 'sum-074k-breast.nii.gz-0.500000', 'mean-074k-breast.nii.gz-0.500000', 'std-074k-breast.nii.gz-0.500000', 'skew-074k-breast.nii.gz-0.500000', 'kurt-074k-breast.nii.gz-0.500000', 'hist-0-074k-breast.nii.gz-0.500000', 'hist-1-074k-breast.nii.gz-0.500000', 'hist-2-074k-breast.nii.gz-0.500000', 'hist-3-074k-breast.nii.gz-0.500000', 'hist-4-074k-breast.nii.gz-0.500000', 'hist-5-074k-breast.nii.gz-0.500000', 'hist-6-074k-breast.nii.gz-0.500000', 'hist-7-074k-breast.nii.gz-0.500000', 'hist-8-074k-breast.nii.gz-0.500000', 'hist-9-074k-breast.nii.gz-0.500000', 'hist-10-074k-breast.nii.gz-0.500000', 'hist-11-074k-breast.nii.gz-0.500000', 'hist-12-074k-breast.nii.gz-0.500000', 'hist-13-074k-breast.nii.gz-0.500000', 'hist-14-074k-breast.nii.gz-0.500000', 'hist-15-074k-breast.nii.gz-0.500000', 'hist-16-074k-breast.nii.gz-0.500000', 'hist-17-074k-breast.nii.gz-0.500000', 'hist-18-074k-breast.nii.gz-0.500000', 'hist-19-074k-breast.nii.gz-0.500000'] \n",
      "Score: -0.7116633681525864\n"
     ]
    },
    {
     "name": "stderr",
     "output_type": "stream",
     "text": [
      "200it [00:00, 727.18it/s]\n"
     ]
    },
    {
     "name": "stdout",
     "output_type": "stream",
     "text": [
      "1\n",
      "1 0.7520481452546948\n",
      "Objective LassoRegression_Objective:\n"
     ]
    },
    {
     "name": "stderr",
     "output_type": "stream",
     "text": [
      "  6%|█████████████████▎                                                                                                                                                                                                                                                                | 505/8000 [00:02<00:33, 226.72it/s]\n"
     ]
    },
    {
     "name": "stdout",
     "output_type": "stream",
     "text": [
      "iterations: 505\n",
      "Number of used features: 26\n",
      "Used features: ['num-074k-breast.nii.gz-0.500000', 'sum-074k-breast.nii.gz-0.500000', 'mean-074k-breast.nii.gz-0.500000', 'std-074k-breast.nii.gz-0.500000', 'skew-074k-breast.nii.gz-0.500000', 'kurt-074k-breast.nii.gz-0.500000', 'hist-0-074k-breast.nii.gz-0.500000', 'hist-1-074k-breast.nii.gz-0.500000', 'hist-2-074k-breast.nii.gz-0.500000', 'hist-3-074k-breast.nii.gz-0.500000', 'hist-4-074k-breast.nii.gz-0.500000', 'hist-5-074k-breast.nii.gz-0.500000', 'hist-6-074k-breast.nii.gz-0.500000', 'hist-7-074k-breast.nii.gz-0.500000', 'hist-8-074k-breast.nii.gz-0.500000', 'hist-9-074k-breast.nii.gz-0.500000', 'hist-10-074k-breast.nii.gz-0.500000', 'hist-11-074k-breast.nii.gz-0.500000', 'hist-12-074k-breast.nii.gz-0.500000', 'hist-13-074k-breast.nii.gz-0.500000', 'hist-14-074k-breast.nii.gz-0.500000', 'hist-15-074k-breast.nii.gz-0.500000', 'hist-16-074k-breast.nii.gz-0.500000', 'hist-17-074k-breast.nii.gz-0.500000', 'hist-18-074k-breast.nii.gz-0.500000', 'hist-19-074k-breast.nii.gz-0.500000'] \n",
      "Score: -0.8564622417142513\n"
     ]
    },
    {
     "name": "stderr",
     "output_type": "stream",
     "text": [
      "200it [00:00, 470.79it/s]\n"
     ]
    },
    {
     "name": "stdout",
     "output_type": "stream",
     "text": [
      "1\n",
      "1 0.8598608885852672\n",
      "Objective RidgeRegression_Objective:\n"
     ]
    },
    {
     "name": "stderr",
     "output_type": "stream",
     "text": [
      "  6%|█████████████████▏                                                                                                                                                                                                                                                                | 500/8000 [00:01<00:23, 313.65it/s]\n"
     ]
    },
    {
     "name": "stdout",
     "output_type": "stream",
     "text": [
      "iterations: 500\n",
      "Number of used features: 26\n",
      "Used features: ['num-074k-breast.nii.gz-0.500000', 'sum-074k-breast.nii.gz-0.500000', 'mean-074k-breast.nii.gz-0.500000', 'std-074k-breast.nii.gz-0.500000', 'skew-074k-breast.nii.gz-0.500000', 'kurt-074k-breast.nii.gz-0.500000', 'hist-0-074k-breast.nii.gz-0.500000', 'hist-1-074k-breast.nii.gz-0.500000', 'hist-2-074k-breast.nii.gz-0.500000', 'hist-3-074k-breast.nii.gz-0.500000', 'hist-4-074k-breast.nii.gz-0.500000', 'hist-5-074k-breast.nii.gz-0.500000', 'hist-6-074k-breast.nii.gz-0.500000', 'hist-7-074k-breast.nii.gz-0.500000', 'hist-8-074k-breast.nii.gz-0.500000', 'hist-9-074k-breast.nii.gz-0.500000', 'hist-10-074k-breast.nii.gz-0.500000', 'hist-11-074k-breast.nii.gz-0.500000', 'hist-12-074k-breast.nii.gz-0.500000', 'hist-13-074k-breast.nii.gz-0.500000', 'hist-14-074k-breast.nii.gz-0.500000', 'hist-15-074k-breast.nii.gz-0.500000', 'hist-16-074k-breast.nii.gz-0.500000', 'hist-17-074k-breast.nii.gz-0.500000', 'hist-18-074k-breast.nii.gz-0.500000', 'hist-19-074k-breast.nii.gz-0.500000'] \n",
      "Score: -0.8659182958159807\n"
     ]
    },
    {
     "name": "stderr",
     "output_type": "stream",
     "text": [
      "200it [00:00, 573.65it/s]\n"
     ]
    },
    {
     "name": "stdout",
     "output_type": "stream",
     "text": [
      "1\n",
      "1 0.8718109254202565\n",
      "Objective PLSRegression_Objective:\n"
     ]
    },
    {
     "name": "stderr",
     "output_type": "stream",
     "text": [
      "  6%|█████████████████                                                                                                                                                                                                                                                                 | 499/8000 [00:00<00:07, 963.43it/s]\n"
     ]
    },
    {
     "name": "stdout",
     "output_type": "stream",
     "text": [
      "iterations: 499\n",
      "Number of used features: 26\n",
      "Used features: ['num-074k-breast.nii.gz-0.500000', 'sum-074k-breast.nii.gz-0.500000', 'mean-074k-breast.nii.gz-0.500000', 'std-074k-breast.nii.gz-0.500000', 'skew-074k-breast.nii.gz-0.500000', 'kurt-074k-breast.nii.gz-0.500000', 'hist-0-074k-breast.nii.gz-0.500000', 'hist-1-074k-breast.nii.gz-0.500000', 'hist-2-074k-breast.nii.gz-0.500000', 'hist-3-074k-breast.nii.gz-0.500000', 'hist-4-074k-breast.nii.gz-0.500000', 'hist-5-074k-breast.nii.gz-0.500000', 'hist-6-074k-breast.nii.gz-0.500000', 'hist-7-074k-breast.nii.gz-0.500000', 'hist-8-074k-breast.nii.gz-0.500000', 'hist-9-074k-breast.nii.gz-0.500000', 'hist-10-074k-breast.nii.gz-0.500000', 'hist-11-074k-breast.nii.gz-0.500000', 'hist-12-074k-breast.nii.gz-0.500000', 'hist-13-074k-breast.nii.gz-0.500000', 'hist-14-074k-breast.nii.gz-0.500000', 'hist-15-074k-breast.nii.gz-0.500000', 'hist-16-074k-breast.nii.gz-0.500000', 'hist-17-074k-breast.nii.gz-0.500000', 'hist-18-074k-breast.nii.gz-0.500000', 'hist-19-074k-breast.nii.gz-0.500000'] \n",
      "Score: -0.8554826715014283\n"
     ]
    },
    {
     "name": "stderr",
     "output_type": "stream",
     "text": [
      "200it [00:00, 563.96it/s]\n"
     ]
    },
    {
     "name": "stdout",
     "output_type": "stream",
     "text": [
      "1\n",
      "1 0.8625602604594016\n",
      "Objective KNNR_Objective:\n"
     ]
    },
    {
     "name": "stderr",
     "output_type": "stream",
     "text": [
      "  7%|███████████████████▎                                                                                                                                                                                                                                                               | 563/8000 [00:16<03:33, 34.89it/s]\n"
     ]
    },
    {
     "name": "stdout",
     "output_type": "stream",
     "text": [
      "iterations: 563\n",
      "Number of used features: 26\n",
      "Used features: ['num-075a-breast.nii.gz-0.500000', 'sum-075a-breast.nii.gz-0.500000', 'mean-075a-breast.nii.gz-0.500000', 'std-075a-breast.nii.gz-0.500000', 'skew-075a-breast.nii.gz-0.500000', 'kurt-075a-breast.nii.gz-0.500000', 'hist-0-075a-breast.nii.gz-0.500000', 'hist-1-075a-breast.nii.gz-0.500000', 'hist-2-075a-breast.nii.gz-0.500000', 'hist-3-075a-breast.nii.gz-0.500000', 'hist-4-075a-breast.nii.gz-0.500000', 'hist-5-075a-breast.nii.gz-0.500000', 'hist-6-075a-breast.nii.gz-0.500000', 'hist-7-075a-breast.nii.gz-0.500000', 'hist-8-075a-breast.nii.gz-0.500000', 'hist-9-075a-breast.nii.gz-0.500000', 'hist-10-075a-breast.nii.gz-0.500000', 'hist-11-075a-breast.nii.gz-0.500000', 'hist-12-075a-breast.nii.gz-0.500000', 'hist-13-075a-breast.nii.gz-0.500000', 'hist-14-075a-breast.nii.gz-0.500000', 'hist-15-075a-breast.nii.gz-0.500000', 'hist-16-075a-breast.nii.gz-0.500000', 'hist-17-075a-breast.nii.gz-0.500000', 'hist-18-075a-breast.nii.gz-0.500000', 'hist-19-075a-breast.nii.gz-0.500000'] \n",
      "Score: -0.6267341228784866\n"
     ]
    },
    {
     "name": "stderr",
     "output_type": "stream",
     "text": [
      "200it [00:00, 727.73it/s]\n"
     ]
    },
    {
     "name": "stdout",
     "output_type": "stream",
     "text": [
      "1\n",
      "1 0.6499506521183473\n",
      "Objective LinearRegression_Objective:\n"
     ]
    },
    {
     "name": "stderr",
     "output_type": "stream",
     "text": [
      "  6%|█████████████████                                                                                                                                                                                                                                                                | 499/8000 [00:00<00:02, 2999.41it/s]\n"
     ]
    },
    {
     "name": "stdout",
     "output_type": "stream",
     "text": [
      "iterations: 499\n",
      "Number of used features: 26\n",
      "Used features: ['num-075a-breast.nii.gz-0.500000', 'sum-075a-breast.nii.gz-0.500000', 'mean-075a-breast.nii.gz-0.500000', 'std-075a-breast.nii.gz-0.500000', 'skew-075a-breast.nii.gz-0.500000', 'kurt-075a-breast.nii.gz-0.500000', 'hist-0-075a-breast.nii.gz-0.500000', 'hist-1-075a-breast.nii.gz-0.500000', 'hist-2-075a-breast.nii.gz-0.500000', 'hist-3-075a-breast.nii.gz-0.500000', 'hist-4-075a-breast.nii.gz-0.500000', 'hist-5-075a-breast.nii.gz-0.500000', 'hist-6-075a-breast.nii.gz-0.500000', 'hist-7-075a-breast.nii.gz-0.500000', 'hist-8-075a-breast.nii.gz-0.500000', 'hist-9-075a-breast.nii.gz-0.500000', 'hist-10-075a-breast.nii.gz-0.500000', 'hist-11-075a-breast.nii.gz-0.500000', 'hist-12-075a-breast.nii.gz-0.500000', 'hist-13-075a-breast.nii.gz-0.500000', 'hist-14-075a-breast.nii.gz-0.500000', 'hist-15-075a-breast.nii.gz-0.500000', 'hist-16-075a-breast.nii.gz-0.500000', 'hist-17-075a-breast.nii.gz-0.500000', 'hist-18-075a-breast.nii.gz-0.500000', 'hist-19-075a-breast.nii.gz-0.500000'] \n",
      "Score: -0.6634606157998069\n"
     ]
    },
    {
     "name": "stderr",
     "output_type": "stream",
     "text": [
      "200it [00:00, 708.99it/s]\n"
     ]
    },
    {
     "name": "stdout",
     "output_type": "stream",
     "text": [
      "1\n",
      "1 0.7211220495104516\n",
      "Objective LassoRegression_Objective:\n"
     ]
    },
    {
     "name": "stderr",
     "output_type": "stream",
     "text": [
      "  6%|█████████████████▏                                                                                                                                                                                                                                                                | 502/8000 [00:02<00:34, 218.01it/s]\n"
     ]
    },
    {
     "name": "stdout",
     "output_type": "stream",
     "text": [
      "iterations: 502\n",
      "Number of used features: 26\n",
      "Used features: ['num-075a-breast.nii.gz-0.500000', 'sum-075a-breast.nii.gz-0.500000', 'mean-075a-breast.nii.gz-0.500000', 'std-075a-breast.nii.gz-0.500000', 'skew-075a-breast.nii.gz-0.500000', 'kurt-075a-breast.nii.gz-0.500000', 'hist-0-075a-breast.nii.gz-0.500000', 'hist-1-075a-breast.nii.gz-0.500000', 'hist-2-075a-breast.nii.gz-0.500000', 'hist-3-075a-breast.nii.gz-0.500000', 'hist-4-075a-breast.nii.gz-0.500000', 'hist-5-075a-breast.nii.gz-0.500000', 'hist-6-075a-breast.nii.gz-0.500000', 'hist-7-075a-breast.nii.gz-0.500000', 'hist-8-075a-breast.nii.gz-0.500000', 'hist-9-075a-breast.nii.gz-0.500000', 'hist-10-075a-breast.nii.gz-0.500000', 'hist-11-075a-breast.nii.gz-0.500000', 'hist-12-075a-breast.nii.gz-0.500000', 'hist-13-075a-breast.nii.gz-0.500000', 'hist-14-075a-breast.nii.gz-0.500000', 'hist-15-075a-breast.nii.gz-0.500000', 'hist-16-075a-breast.nii.gz-0.500000', 'hist-17-075a-breast.nii.gz-0.500000', 'hist-18-075a-breast.nii.gz-0.500000', 'hist-19-075a-breast.nii.gz-0.500000'] \n",
      "Score: -0.8019257040986884\n"
     ]
    },
    {
     "name": "stderr",
     "output_type": "stream",
     "text": [
      "200it [00:00, 407.96it/s]\n"
     ]
    },
    {
     "name": "stdout",
     "output_type": "stream",
     "text": [
      "1\n",
      "1 0.821429445381276\n",
      "Objective RidgeRegression_Objective:\n"
     ]
    },
    {
     "name": "stderr",
     "output_type": "stream",
     "text": [
      "  6%|█████████████████▏                                                                                                                                                                                                                                                                | 500/8000 [00:01<00:24, 307.02it/s]\n"
     ]
    },
    {
     "name": "stdout",
     "output_type": "stream",
     "text": [
      "iterations: 500\n",
      "Number of used features: 26\n",
      "Used features: ['num-075a-breast.nii.gz-0.500000', 'sum-075a-breast.nii.gz-0.500000', 'mean-075a-breast.nii.gz-0.500000', 'std-075a-breast.nii.gz-0.500000', 'skew-075a-breast.nii.gz-0.500000', 'kurt-075a-breast.nii.gz-0.500000', 'hist-0-075a-breast.nii.gz-0.500000', 'hist-1-075a-breast.nii.gz-0.500000', 'hist-2-075a-breast.nii.gz-0.500000', 'hist-3-075a-breast.nii.gz-0.500000', 'hist-4-075a-breast.nii.gz-0.500000', 'hist-5-075a-breast.nii.gz-0.500000', 'hist-6-075a-breast.nii.gz-0.500000', 'hist-7-075a-breast.nii.gz-0.500000', 'hist-8-075a-breast.nii.gz-0.500000', 'hist-9-075a-breast.nii.gz-0.500000', 'hist-10-075a-breast.nii.gz-0.500000', 'hist-11-075a-breast.nii.gz-0.500000', 'hist-12-075a-breast.nii.gz-0.500000', 'hist-13-075a-breast.nii.gz-0.500000', 'hist-14-075a-breast.nii.gz-0.500000', 'hist-15-075a-breast.nii.gz-0.500000', 'hist-16-075a-breast.nii.gz-0.500000', 'hist-17-075a-breast.nii.gz-0.500000', 'hist-18-075a-breast.nii.gz-0.500000', 'hist-19-075a-breast.nii.gz-0.500000'] \n",
      "Score: -0.8169132730220978\n"
     ]
    },
    {
     "name": "stderr",
     "output_type": "stream",
     "text": [
      "200it [00:00, 564.75it/s]\n"
     ]
    },
    {
     "name": "stdout",
     "output_type": "stream",
     "text": [
      "1\n",
      "1 0.827191887486583\n",
      "Objective PLSRegression_Objective:\n"
     ]
    },
    {
     "name": "stderr",
     "output_type": "stream",
     "text": [
      "  6%|█████████████████                                                                                                                                                                                                                                                                 | 499/8000 [00:00<00:07, 938.84it/s]\n"
     ]
    },
    {
     "name": "stdout",
     "output_type": "stream",
     "text": [
      "iterations: 499\n",
      "Number of used features: 26\n",
      "Used features: ['num-075a-breast.nii.gz-0.500000', 'sum-075a-breast.nii.gz-0.500000', 'mean-075a-breast.nii.gz-0.500000', 'std-075a-breast.nii.gz-0.500000', 'skew-075a-breast.nii.gz-0.500000', 'kurt-075a-breast.nii.gz-0.500000', 'hist-0-075a-breast.nii.gz-0.500000', 'hist-1-075a-breast.nii.gz-0.500000', 'hist-2-075a-breast.nii.gz-0.500000', 'hist-3-075a-breast.nii.gz-0.500000', 'hist-4-075a-breast.nii.gz-0.500000', 'hist-5-075a-breast.nii.gz-0.500000', 'hist-6-075a-breast.nii.gz-0.500000', 'hist-7-075a-breast.nii.gz-0.500000', 'hist-8-075a-breast.nii.gz-0.500000', 'hist-9-075a-breast.nii.gz-0.500000', 'hist-10-075a-breast.nii.gz-0.500000', 'hist-11-075a-breast.nii.gz-0.500000', 'hist-12-075a-breast.nii.gz-0.500000', 'hist-13-075a-breast.nii.gz-0.500000', 'hist-14-075a-breast.nii.gz-0.500000', 'hist-15-075a-breast.nii.gz-0.500000', 'hist-16-075a-breast.nii.gz-0.500000', 'hist-17-075a-breast.nii.gz-0.500000', 'hist-18-075a-breast.nii.gz-0.500000', 'hist-19-075a-breast.nii.gz-0.500000'] \n",
      "Score: -0.8221382160880286\n"
     ]
    },
    {
     "name": "stderr",
     "output_type": "stream",
     "text": [
      "200it [00:00, 563.38it/s]\n"
     ]
    },
    {
     "name": "stdout",
     "output_type": "stream",
     "text": [
      "1\n",
      "1 0.8314491555911594\n",
      "Objective KNNR_Objective:\n"
     ]
    },
    {
     "name": "stderr",
     "output_type": "stream",
     "text": [
      "  9%|████████████████████████▊                                                                                                                                                                                                                                                          | 721/8000 [00:18<03:11, 37.98it/s]\n"
     ]
    },
    {
     "name": "stdout",
     "output_type": "stream",
     "text": [
      "iterations: 721\n",
      "Number of used features: 26\n",
      "Used features: ['num-075k-breast.nii.gz-0.500000', 'sum-075k-breast.nii.gz-0.500000', 'mean-075k-breast.nii.gz-0.500000', 'std-075k-breast.nii.gz-0.500000', 'skew-075k-breast.nii.gz-0.500000', 'kurt-075k-breast.nii.gz-0.500000', 'hist-0-075k-breast.nii.gz-0.500000', 'hist-1-075k-breast.nii.gz-0.500000', 'hist-2-075k-breast.nii.gz-0.500000', 'hist-3-075k-breast.nii.gz-0.500000', 'hist-4-075k-breast.nii.gz-0.500000', 'hist-5-075k-breast.nii.gz-0.500000', 'hist-6-075k-breast.nii.gz-0.500000', 'hist-7-075k-breast.nii.gz-0.500000', 'hist-8-075k-breast.nii.gz-0.500000', 'hist-9-075k-breast.nii.gz-0.500000', 'hist-10-075k-breast.nii.gz-0.500000', 'hist-11-075k-breast.nii.gz-0.500000', 'hist-12-075k-breast.nii.gz-0.500000', 'hist-13-075k-breast.nii.gz-0.500000', 'hist-14-075k-breast.nii.gz-0.500000', 'hist-15-075k-breast.nii.gz-0.500000', 'hist-16-075k-breast.nii.gz-0.500000', 'hist-17-075k-breast.nii.gz-0.500000', 'hist-18-075k-breast.nii.gz-0.500000', 'hist-19-075k-breast.nii.gz-0.500000'] \n",
      "Score: -0.6397065736645539\n"
     ]
    },
    {
     "name": "stderr",
     "output_type": "stream",
     "text": [
      "200it [00:00, 655.61it/s]\n"
     ]
    },
    {
     "name": "stdout",
     "output_type": "stream",
     "text": [
      "1\n",
      "1 0.6713726661911126\n",
      "Objective LinearRegression_Objective:\n"
     ]
    },
    {
     "name": "stderr",
     "output_type": "stream",
     "text": [
      "  6%|█████████████████                                                                                                                                                                                                                                                                | 499/8000 [00:00<00:02, 2990.01it/s]\n"
     ]
    },
    {
     "name": "stdout",
     "output_type": "stream",
     "text": [
      "iterations: 499\n",
      "Number of used features: 26\n",
      "Used features: ['num-075k-breast.nii.gz-0.500000', 'sum-075k-breast.nii.gz-0.500000', 'mean-075k-breast.nii.gz-0.500000', 'std-075k-breast.nii.gz-0.500000', 'skew-075k-breast.nii.gz-0.500000', 'kurt-075k-breast.nii.gz-0.500000', 'hist-0-075k-breast.nii.gz-0.500000', 'hist-1-075k-breast.nii.gz-0.500000', 'hist-2-075k-breast.nii.gz-0.500000', 'hist-3-075k-breast.nii.gz-0.500000', 'hist-4-075k-breast.nii.gz-0.500000', 'hist-5-075k-breast.nii.gz-0.500000', 'hist-6-075k-breast.nii.gz-0.500000', 'hist-7-075k-breast.nii.gz-0.500000', 'hist-8-075k-breast.nii.gz-0.500000', 'hist-9-075k-breast.nii.gz-0.500000', 'hist-10-075k-breast.nii.gz-0.500000', 'hist-11-075k-breast.nii.gz-0.500000', 'hist-12-075k-breast.nii.gz-0.500000', 'hist-13-075k-breast.nii.gz-0.500000', 'hist-14-075k-breast.nii.gz-0.500000', 'hist-15-075k-breast.nii.gz-0.500000', 'hist-16-075k-breast.nii.gz-0.500000', 'hist-17-075k-breast.nii.gz-0.500000', 'hist-18-075k-breast.nii.gz-0.500000', 'hist-19-075k-breast.nii.gz-0.500000'] \n",
      "Score: -0.5631452423895742\n"
     ]
    },
    {
     "name": "stderr",
     "output_type": "stream",
     "text": [
      "200it [00:00, 710.80it/s]\n"
     ]
    },
    {
     "name": "stdout",
     "output_type": "stream",
     "text": [
      "1\n",
      "1 0.6149724656334603\n",
      "Objective LassoRegression_Objective:\n"
     ]
    },
    {
     "name": "stderr",
     "output_type": "stream",
     "text": [
      "  6%|█████████████████▏                                                                                                                                                                                                                                                                | 502/8000 [00:02<00:33, 222.11it/s]\n"
     ]
    },
    {
     "name": "stdout",
     "output_type": "stream",
     "text": [
      "iterations: 502\n",
      "Number of used features: 26\n",
      "Used features: ['num-075k-breast.nii.gz-0.500000', 'sum-075k-breast.nii.gz-0.500000', 'mean-075k-breast.nii.gz-0.500000', 'std-075k-breast.nii.gz-0.500000', 'skew-075k-breast.nii.gz-0.500000', 'kurt-075k-breast.nii.gz-0.500000', 'hist-0-075k-breast.nii.gz-0.500000', 'hist-1-075k-breast.nii.gz-0.500000', 'hist-2-075k-breast.nii.gz-0.500000', 'hist-3-075k-breast.nii.gz-0.500000', 'hist-4-075k-breast.nii.gz-0.500000', 'hist-5-075k-breast.nii.gz-0.500000', 'hist-6-075k-breast.nii.gz-0.500000', 'hist-7-075k-breast.nii.gz-0.500000', 'hist-8-075k-breast.nii.gz-0.500000', 'hist-9-075k-breast.nii.gz-0.500000', 'hist-10-075k-breast.nii.gz-0.500000', 'hist-11-075k-breast.nii.gz-0.500000', 'hist-12-075k-breast.nii.gz-0.500000', 'hist-13-075k-breast.nii.gz-0.500000', 'hist-14-075k-breast.nii.gz-0.500000', 'hist-15-075k-breast.nii.gz-0.500000', 'hist-16-075k-breast.nii.gz-0.500000', 'hist-17-075k-breast.nii.gz-0.500000', 'hist-18-075k-breast.nii.gz-0.500000', 'hist-19-075k-breast.nii.gz-0.500000'] \n",
      "Score: -0.8705980654132549\n"
     ]
    },
    {
     "name": "stderr",
     "output_type": "stream",
     "text": [
      "200it [00:00, 427.55it/s]\n"
     ]
    },
    {
     "name": "stdout",
     "output_type": "stream",
     "text": [
      "1\n",
      "1 0.8734674839964656\n",
      "Objective RidgeRegression_Objective:\n"
     ]
    },
    {
     "name": "stderr",
     "output_type": "stream",
     "text": [
      "  6%|█████████████████▏                                                                                                                                                                                                                                                                | 500/8000 [00:01<00:24, 306.31it/s]\n"
     ]
    },
    {
     "name": "stdout",
     "output_type": "stream",
     "text": [
      "iterations: 500\n",
      "Number of used features: 26\n",
      "Used features: ['num-075k-breast.nii.gz-0.500000', 'sum-075k-breast.nii.gz-0.500000', 'mean-075k-breast.nii.gz-0.500000', 'std-075k-breast.nii.gz-0.500000', 'skew-075k-breast.nii.gz-0.500000', 'kurt-075k-breast.nii.gz-0.500000', 'hist-0-075k-breast.nii.gz-0.500000', 'hist-1-075k-breast.nii.gz-0.500000', 'hist-2-075k-breast.nii.gz-0.500000', 'hist-3-075k-breast.nii.gz-0.500000', 'hist-4-075k-breast.nii.gz-0.500000', 'hist-5-075k-breast.nii.gz-0.500000', 'hist-6-075k-breast.nii.gz-0.500000', 'hist-7-075k-breast.nii.gz-0.500000', 'hist-8-075k-breast.nii.gz-0.500000', 'hist-9-075k-breast.nii.gz-0.500000', 'hist-10-075k-breast.nii.gz-0.500000', 'hist-11-075k-breast.nii.gz-0.500000', 'hist-12-075k-breast.nii.gz-0.500000', 'hist-13-075k-breast.nii.gz-0.500000', 'hist-14-075k-breast.nii.gz-0.500000', 'hist-15-075k-breast.nii.gz-0.500000', 'hist-16-075k-breast.nii.gz-0.500000', 'hist-17-075k-breast.nii.gz-0.500000', 'hist-18-075k-breast.nii.gz-0.500000', 'hist-19-075k-breast.nii.gz-0.500000'] \n",
      "Score: -0.866585289326169\n"
     ]
    },
    {
     "name": "stderr",
     "output_type": "stream",
     "text": [
      "200it [00:00, 561.32it/s]\n"
     ]
    },
    {
     "name": "stdout",
     "output_type": "stream",
     "text": [
      "1\n",
      "1 0.8777927817980962\n",
      "Objective PLSRegression_Objective:\n"
     ]
    },
    {
     "name": "stderr",
     "output_type": "stream",
     "text": [
      "  6%|█████████████████                                                                                                                                                                                                                                                                 | 499/8000 [00:00<00:07, 941.88it/s]\n"
     ]
    },
    {
     "name": "stdout",
     "output_type": "stream",
     "text": [
      "iterations: 499\n",
      "Number of used features: 26\n",
      "Used features: ['num-075k-breast.nii.gz-0.500000', 'sum-075k-breast.nii.gz-0.500000', 'mean-075k-breast.nii.gz-0.500000', 'std-075k-breast.nii.gz-0.500000', 'skew-075k-breast.nii.gz-0.500000', 'kurt-075k-breast.nii.gz-0.500000', 'hist-0-075k-breast.nii.gz-0.500000', 'hist-1-075k-breast.nii.gz-0.500000', 'hist-2-075k-breast.nii.gz-0.500000', 'hist-3-075k-breast.nii.gz-0.500000', 'hist-4-075k-breast.nii.gz-0.500000', 'hist-5-075k-breast.nii.gz-0.500000', 'hist-6-075k-breast.nii.gz-0.500000', 'hist-7-075k-breast.nii.gz-0.500000', 'hist-8-075k-breast.nii.gz-0.500000', 'hist-9-075k-breast.nii.gz-0.500000', 'hist-10-075k-breast.nii.gz-0.500000', 'hist-11-075k-breast.nii.gz-0.500000', 'hist-12-075k-breast.nii.gz-0.500000', 'hist-13-075k-breast.nii.gz-0.500000', 'hist-14-075k-breast.nii.gz-0.500000', 'hist-15-075k-breast.nii.gz-0.500000', 'hist-16-075k-breast.nii.gz-0.500000', 'hist-17-075k-breast.nii.gz-0.500000', 'hist-18-075k-breast.nii.gz-0.500000', 'hist-19-075k-breast.nii.gz-0.500000'] \n",
      "Score: -0.8706290505068995\n"
     ]
    },
    {
     "name": "stderr",
     "output_type": "stream",
     "text": [
      "200it [00:00, 559.06it/s]\n"
     ]
    },
    {
     "name": "stdout",
     "output_type": "stream",
     "text": [
      "1\n",
      "1 0.8772305050997103\n",
      "Objective KNNR_Objective:\n"
     ]
    },
    {
     "name": "stderr",
     "output_type": "stream",
     "text": [
      "  7%|███████████████████▋                                                                                                                                                                                                                                                               | 572/8000 [00:16<03:40, 33.73it/s]\n"
     ]
    },
    {
     "name": "stdout",
     "output_type": "stream",
     "text": [
      "iterations: 572\n",
      "Number of used features: 26\n",
      "Used features: ['num-077k-breast.nii.gz-0.500000', 'sum-077k-breast.nii.gz-0.500000', 'mean-077k-breast.nii.gz-0.500000', 'std-077k-breast.nii.gz-0.500000', 'skew-077k-breast.nii.gz-0.500000', 'kurt-077k-breast.nii.gz-0.500000', 'hist-0-077k-breast.nii.gz-0.500000', 'hist-1-077k-breast.nii.gz-0.500000', 'hist-2-077k-breast.nii.gz-0.500000', 'hist-3-077k-breast.nii.gz-0.500000', 'hist-4-077k-breast.nii.gz-0.500000', 'hist-5-077k-breast.nii.gz-0.500000', 'hist-6-077k-breast.nii.gz-0.500000', 'hist-7-077k-breast.nii.gz-0.500000', 'hist-8-077k-breast.nii.gz-0.500000', 'hist-9-077k-breast.nii.gz-0.500000', 'hist-10-077k-breast.nii.gz-0.500000', 'hist-11-077k-breast.nii.gz-0.500000', 'hist-12-077k-breast.nii.gz-0.500000', 'hist-13-077k-breast.nii.gz-0.500000', 'hist-14-077k-breast.nii.gz-0.500000', 'hist-15-077k-breast.nii.gz-0.500000', 'hist-16-077k-breast.nii.gz-0.500000', 'hist-17-077k-breast.nii.gz-0.500000', 'hist-18-077k-breast.nii.gz-0.500000', 'hist-19-077k-breast.nii.gz-0.500000'] \n",
      "Score: -0.590858141000489\n"
     ]
    },
    {
     "name": "stderr",
     "output_type": "stream",
     "text": [
      "200it [00:00, 705.04it/s]\n"
     ]
    },
    {
     "name": "stdout",
     "output_type": "stream",
     "text": [
      "1\n",
      "1 0.6358008364127399\n",
      "Objective LinearRegression_Objective:\n"
     ]
    },
    {
     "name": "stderr",
     "output_type": "stream",
     "text": [
      "  6%|█████████████████                                                                                                                                                                                                                                                                | 499/8000 [00:00<00:02, 3133.08it/s]\n"
     ]
    },
    {
     "name": "stdout",
     "output_type": "stream",
     "text": [
      "iterations: 499\n",
      "Number of used features: 26\n",
      "Used features: ['num-077k-breast.nii.gz-0.500000', 'sum-077k-breast.nii.gz-0.500000', 'mean-077k-breast.nii.gz-0.500000', 'std-077k-breast.nii.gz-0.500000', 'skew-077k-breast.nii.gz-0.500000', 'kurt-077k-breast.nii.gz-0.500000', 'hist-0-077k-breast.nii.gz-0.500000', 'hist-1-077k-breast.nii.gz-0.500000', 'hist-2-077k-breast.nii.gz-0.500000', 'hist-3-077k-breast.nii.gz-0.500000', 'hist-4-077k-breast.nii.gz-0.500000', 'hist-5-077k-breast.nii.gz-0.500000', 'hist-6-077k-breast.nii.gz-0.500000', 'hist-7-077k-breast.nii.gz-0.500000', 'hist-8-077k-breast.nii.gz-0.500000', 'hist-9-077k-breast.nii.gz-0.500000', 'hist-10-077k-breast.nii.gz-0.500000', 'hist-11-077k-breast.nii.gz-0.500000', 'hist-12-077k-breast.nii.gz-0.500000', 'hist-13-077k-breast.nii.gz-0.500000', 'hist-14-077k-breast.nii.gz-0.500000', 'hist-15-077k-breast.nii.gz-0.500000', 'hist-16-077k-breast.nii.gz-0.500000', 'hist-17-077k-breast.nii.gz-0.500000', 'hist-18-077k-breast.nii.gz-0.500000', 'hist-19-077k-breast.nii.gz-0.500000'] \n",
      "Score: -0.7468133842791633\n"
     ]
    },
    {
     "name": "stderr",
     "output_type": "stream",
     "text": [
      "200it [00:00, 736.84it/s]\n"
     ]
    },
    {
     "name": "stdout",
     "output_type": "stream",
     "text": [
      "1\n",
      "1 0.817679163924487\n",
      "Objective LassoRegression_Objective:\n"
     ]
    },
    {
     "name": "stderr",
     "output_type": "stream",
     "text": [
      "  6%|█████████████████▏                                                                                                                                                                                                                                                                | 502/8000 [00:02<00:33, 224.15it/s]\n"
     ]
    },
    {
     "name": "stdout",
     "output_type": "stream",
     "text": [
      "iterations: 502\n",
      "Number of used features: 26\n",
      "Used features: ['num-077k-breast.nii.gz-0.500000', 'sum-077k-breast.nii.gz-0.500000', 'mean-077k-breast.nii.gz-0.500000', 'std-077k-breast.nii.gz-0.500000', 'skew-077k-breast.nii.gz-0.500000', 'kurt-077k-breast.nii.gz-0.500000', 'hist-0-077k-breast.nii.gz-0.500000', 'hist-1-077k-breast.nii.gz-0.500000', 'hist-2-077k-breast.nii.gz-0.500000', 'hist-3-077k-breast.nii.gz-0.500000', 'hist-4-077k-breast.nii.gz-0.500000', 'hist-5-077k-breast.nii.gz-0.500000', 'hist-6-077k-breast.nii.gz-0.500000', 'hist-7-077k-breast.nii.gz-0.500000', 'hist-8-077k-breast.nii.gz-0.500000', 'hist-9-077k-breast.nii.gz-0.500000', 'hist-10-077k-breast.nii.gz-0.500000', 'hist-11-077k-breast.nii.gz-0.500000', 'hist-12-077k-breast.nii.gz-0.500000', 'hist-13-077k-breast.nii.gz-0.500000', 'hist-14-077k-breast.nii.gz-0.500000', 'hist-15-077k-breast.nii.gz-0.500000', 'hist-16-077k-breast.nii.gz-0.500000', 'hist-17-077k-breast.nii.gz-0.500000', 'hist-18-077k-breast.nii.gz-0.500000', 'hist-19-077k-breast.nii.gz-0.500000'] \n",
      "Score: -0.8725914985461479\n"
     ]
    },
    {
     "name": "stderr",
     "output_type": "stream",
     "text": [
      "200it [00:00, 432.17it/s]\n"
     ]
    },
    {
     "name": "stdout",
     "output_type": "stream",
     "text": [
      "1\n",
      "1 0.8786063455408817\n",
      "Objective RidgeRegression_Objective:\n"
     ]
    },
    {
     "name": "stderr",
     "output_type": "stream",
     "text": [
      "  6%|█████████████████▎                                                                                                                                                                                                                                                                | 505/8000 [00:01<00:23, 318.04it/s]\n"
     ]
    },
    {
     "name": "stdout",
     "output_type": "stream",
     "text": [
      "iterations: 505\n",
      "Number of used features: 26\n",
      "Used features: ['num-077k-breast.nii.gz-0.500000', 'sum-077k-breast.nii.gz-0.500000', 'mean-077k-breast.nii.gz-0.500000', 'std-077k-breast.nii.gz-0.500000', 'skew-077k-breast.nii.gz-0.500000', 'kurt-077k-breast.nii.gz-0.500000', 'hist-0-077k-breast.nii.gz-0.500000', 'hist-1-077k-breast.nii.gz-0.500000', 'hist-2-077k-breast.nii.gz-0.500000', 'hist-3-077k-breast.nii.gz-0.500000', 'hist-4-077k-breast.nii.gz-0.500000', 'hist-5-077k-breast.nii.gz-0.500000', 'hist-6-077k-breast.nii.gz-0.500000', 'hist-7-077k-breast.nii.gz-0.500000', 'hist-8-077k-breast.nii.gz-0.500000', 'hist-9-077k-breast.nii.gz-0.500000', 'hist-10-077k-breast.nii.gz-0.500000', 'hist-11-077k-breast.nii.gz-0.500000', 'hist-12-077k-breast.nii.gz-0.500000', 'hist-13-077k-breast.nii.gz-0.500000', 'hist-14-077k-breast.nii.gz-0.500000', 'hist-15-077k-breast.nii.gz-0.500000', 'hist-16-077k-breast.nii.gz-0.500000', 'hist-17-077k-breast.nii.gz-0.500000', 'hist-18-077k-breast.nii.gz-0.500000', 'hist-19-077k-breast.nii.gz-0.500000'] \n",
      "Score: -0.8760475855551374\n"
     ]
    },
    {
     "name": "stderr",
     "output_type": "stream",
     "text": [
      "200it [00:00, 569.89it/s]\n"
     ]
    },
    {
     "name": "stdout",
     "output_type": "stream",
     "text": [
      "1\n",
      "1 0.8804737665774567\n",
      "Objective PLSRegression_Objective:\n"
     ]
    },
    {
     "name": "stderr",
     "output_type": "stream",
     "text": [
      "  6%|█████████████████                                                                                                                                                                                                                                                                 | 499/8000 [00:00<00:07, 958.01it/s]\n"
     ]
    },
    {
     "name": "stdout",
     "output_type": "stream",
     "text": [
      "iterations: 499\n",
      "Number of used features: 26\n",
      "Used features: ['num-077k-breast.nii.gz-0.500000', 'sum-077k-breast.nii.gz-0.500000', 'mean-077k-breast.nii.gz-0.500000', 'std-077k-breast.nii.gz-0.500000', 'skew-077k-breast.nii.gz-0.500000', 'kurt-077k-breast.nii.gz-0.500000', 'hist-0-077k-breast.nii.gz-0.500000', 'hist-1-077k-breast.nii.gz-0.500000', 'hist-2-077k-breast.nii.gz-0.500000', 'hist-3-077k-breast.nii.gz-0.500000', 'hist-4-077k-breast.nii.gz-0.500000', 'hist-5-077k-breast.nii.gz-0.500000', 'hist-6-077k-breast.nii.gz-0.500000', 'hist-7-077k-breast.nii.gz-0.500000', 'hist-8-077k-breast.nii.gz-0.500000', 'hist-9-077k-breast.nii.gz-0.500000', 'hist-10-077k-breast.nii.gz-0.500000', 'hist-11-077k-breast.nii.gz-0.500000', 'hist-12-077k-breast.nii.gz-0.500000', 'hist-13-077k-breast.nii.gz-0.500000', 'hist-14-077k-breast.nii.gz-0.500000', 'hist-15-077k-breast.nii.gz-0.500000', 'hist-16-077k-breast.nii.gz-0.500000', 'hist-17-077k-breast.nii.gz-0.500000', 'hist-18-077k-breast.nii.gz-0.500000', 'hist-19-077k-breast.nii.gz-0.500000'] \n",
      "Score: -0.8594763675983401\n"
     ]
    },
    {
     "name": "stderr",
     "output_type": "stream",
     "text": [
      "200it [00:00, 580.96it/s]\n"
     ]
    },
    {
     "name": "stdout",
     "output_type": "stream",
     "text": [
      "1\n",
      "1 0.8607871800666038\n",
      "Objective KNNR_Objective:\n"
     ]
    },
    {
     "name": "stderr",
     "output_type": "stream",
     "text": [
      "  6%|█████████████████▌                                                                                                                                                                                                                                                                 | 511/8000 [00:14<03:36, 34.60it/s]\n"
     ]
    },
    {
     "name": "stdout",
     "output_type": "stream",
     "text": [
      "iterations: 511\n",
      "Number of used features: 26\n",
      "Used features: ['num-079k-breast.nii.gz-0.500000', 'sum-079k-breast.nii.gz-0.500000', 'mean-079k-breast.nii.gz-0.500000', 'std-079k-breast.nii.gz-0.500000', 'skew-079k-breast.nii.gz-0.500000', 'kurt-079k-breast.nii.gz-0.500000', 'hist-0-079k-breast.nii.gz-0.500000', 'hist-1-079k-breast.nii.gz-0.500000', 'hist-2-079k-breast.nii.gz-0.500000', 'hist-3-079k-breast.nii.gz-0.500000', 'hist-4-079k-breast.nii.gz-0.500000', 'hist-5-079k-breast.nii.gz-0.500000', 'hist-6-079k-breast.nii.gz-0.500000', 'hist-7-079k-breast.nii.gz-0.500000', 'hist-8-079k-breast.nii.gz-0.500000', 'hist-9-079k-breast.nii.gz-0.500000', 'hist-10-079k-breast.nii.gz-0.500000', 'hist-11-079k-breast.nii.gz-0.500000', 'hist-12-079k-breast.nii.gz-0.500000', 'hist-13-079k-breast.nii.gz-0.500000', 'hist-14-079k-breast.nii.gz-0.500000', 'hist-15-079k-breast.nii.gz-0.500000', 'hist-16-079k-breast.nii.gz-0.500000', 'hist-17-079k-breast.nii.gz-0.500000', 'hist-18-079k-breast.nii.gz-0.500000', 'hist-19-079k-breast.nii.gz-0.500000'] \n",
      "Score: -0.6676321628720219\n"
     ]
    },
    {
     "name": "stderr",
     "output_type": "stream",
     "text": [
      "200it [00:00, 708.11it/s]\n"
     ]
    },
    {
     "name": "stdout",
     "output_type": "stream",
     "text": [
      "1\n",
      "1 0.6896613608106772\n",
      "Objective LinearRegression_Objective:\n"
     ]
    },
    {
     "name": "stderr",
     "output_type": "stream",
     "text": [
      "  6%|█████████████████                                                                                                                                                                                                                                                                | 499/8000 [00:00<00:02, 2996.29it/s]\n"
     ]
    },
    {
     "name": "stdout",
     "output_type": "stream",
     "text": [
      "iterations: 499\n",
      "Number of used features: 26\n",
      "Used features: ['num-079k-breast.nii.gz-0.500000', 'sum-079k-breast.nii.gz-0.500000', 'mean-079k-breast.nii.gz-0.500000', 'std-079k-breast.nii.gz-0.500000', 'skew-079k-breast.nii.gz-0.500000', 'kurt-079k-breast.nii.gz-0.500000', 'hist-0-079k-breast.nii.gz-0.500000', 'hist-1-079k-breast.nii.gz-0.500000', 'hist-2-079k-breast.nii.gz-0.500000', 'hist-3-079k-breast.nii.gz-0.500000', 'hist-4-079k-breast.nii.gz-0.500000', 'hist-5-079k-breast.nii.gz-0.500000', 'hist-6-079k-breast.nii.gz-0.500000', 'hist-7-079k-breast.nii.gz-0.500000', 'hist-8-079k-breast.nii.gz-0.500000', 'hist-9-079k-breast.nii.gz-0.500000', 'hist-10-079k-breast.nii.gz-0.500000', 'hist-11-079k-breast.nii.gz-0.500000', 'hist-12-079k-breast.nii.gz-0.500000', 'hist-13-079k-breast.nii.gz-0.500000', 'hist-14-079k-breast.nii.gz-0.500000', 'hist-15-079k-breast.nii.gz-0.500000', 'hist-16-079k-breast.nii.gz-0.500000', 'hist-17-079k-breast.nii.gz-0.500000', 'hist-18-079k-breast.nii.gz-0.500000', 'hist-19-079k-breast.nii.gz-0.500000'] \n",
      "Score: -0.6493737331936082\n"
     ]
    },
    {
     "name": "stderr",
     "output_type": "stream",
     "text": [
      "200it [00:00, 711.92it/s]\n"
     ]
    },
    {
     "name": "stdout",
     "output_type": "stream",
     "text": [
      "1\n",
      "1 0.6460867897781284\n",
      "Objective LassoRegression_Objective:\n"
     ]
    },
    {
     "name": "stderr",
     "output_type": "stream",
     "text": [
      "  6%|█████████████████▏                                                                                                                                                                                                                                                                | 502/8000 [00:02<00:33, 221.90it/s]\n"
     ]
    },
    {
     "name": "stdout",
     "output_type": "stream",
     "text": [
      "iterations: 502\n",
      "Number of used features: 26\n",
      "Used features: ['num-079k-breast.nii.gz-0.500000', 'sum-079k-breast.nii.gz-0.500000', 'mean-079k-breast.nii.gz-0.500000', 'std-079k-breast.nii.gz-0.500000', 'skew-079k-breast.nii.gz-0.500000', 'kurt-079k-breast.nii.gz-0.500000', 'hist-0-079k-breast.nii.gz-0.500000', 'hist-1-079k-breast.nii.gz-0.500000', 'hist-2-079k-breast.nii.gz-0.500000', 'hist-3-079k-breast.nii.gz-0.500000', 'hist-4-079k-breast.nii.gz-0.500000', 'hist-5-079k-breast.nii.gz-0.500000', 'hist-6-079k-breast.nii.gz-0.500000', 'hist-7-079k-breast.nii.gz-0.500000', 'hist-8-079k-breast.nii.gz-0.500000', 'hist-9-079k-breast.nii.gz-0.500000', 'hist-10-079k-breast.nii.gz-0.500000', 'hist-11-079k-breast.nii.gz-0.500000', 'hist-12-079k-breast.nii.gz-0.500000', 'hist-13-079k-breast.nii.gz-0.500000', 'hist-14-079k-breast.nii.gz-0.500000', 'hist-15-079k-breast.nii.gz-0.500000', 'hist-16-079k-breast.nii.gz-0.500000', 'hist-17-079k-breast.nii.gz-0.500000', 'hist-18-079k-breast.nii.gz-0.500000', 'hist-19-079k-breast.nii.gz-0.500000'] \n",
      "Score: -0.8562603276768496\n"
     ]
    },
    {
     "name": "stderr",
     "output_type": "stream",
     "text": [
      "200it [00:00, 431.35it/s]\n"
     ]
    },
    {
     "name": "stdout",
     "output_type": "stream",
     "text": [
      "1\n",
      "1 0.8584613415777274\n",
      "Objective RidgeRegression_Objective:\n"
     ]
    },
    {
     "name": "stderr",
     "output_type": "stream",
     "text": [
      "  6%|█████████████████▏                                                                                                                                                                                                                                                                | 500/8000 [00:01<00:24, 307.44it/s]\n"
     ]
    },
    {
     "name": "stdout",
     "output_type": "stream",
     "text": [
      "iterations: 500\n",
      "Number of used features: 26\n",
      "Used features: ['num-079k-breast.nii.gz-0.500000', 'sum-079k-breast.nii.gz-0.500000', 'mean-079k-breast.nii.gz-0.500000', 'std-079k-breast.nii.gz-0.500000', 'skew-079k-breast.nii.gz-0.500000', 'kurt-079k-breast.nii.gz-0.500000', 'hist-0-079k-breast.nii.gz-0.500000', 'hist-1-079k-breast.nii.gz-0.500000', 'hist-2-079k-breast.nii.gz-0.500000', 'hist-3-079k-breast.nii.gz-0.500000', 'hist-4-079k-breast.nii.gz-0.500000', 'hist-5-079k-breast.nii.gz-0.500000', 'hist-6-079k-breast.nii.gz-0.500000', 'hist-7-079k-breast.nii.gz-0.500000', 'hist-8-079k-breast.nii.gz-0.500000', 'hist-9-079k-breast.nii.gz-0.500000', 'hist-10-079k-breast.nii.gz-0.500000', 'hist-11-079k-breast.nii.gz-0.500000', 'hist-12-079k-breast.nii.gz-0.500000', 'hist-13-079k-breast.nii.gz-0.500000', 'hist-14-079k-breast.nii.gz-0.500000', 'hist-15-079k-breast.nii.gz-0.500000', 'hist-16-079k-breast.nii.gz-0.500000', 'hist-17-079k-breast.nii.gz-0.500000', 'hist-18-079k-breast.nii.gz-0.500000', 'hist-19-079k-breast.nii.gz-0.500000'] \n",
      "Score: -0.8590010987689016\n"
     ]
    },
    {
     "name": "stderr",
     "output_type": "stream",
     "text": [
      "200it [00:00, 561.06it/s]\n"
     ]
    },
    {
     "name": "stdout",
     "output_type": "stream",
     "text": [
      "1\n",
      "1 0.8633457332441146\n",
      "Objective PLSRegression_Objective:\n"
     ]
    },
    {
     "name": "stderr",
     "output_type": "stream",
     "text": [
      "  6%|█████████████████                                                                                                                                                                                                                                                                 | 499/8000 [00:00<00:07, 937.64it/s]\n"
     ]
    },
    {
     "name": "stdout",
     "output_type": "stream",
     "text": [
      "iterations: 499\n",
      "Number of used features: 26\n",
      "Used features: ['num-079k-breast.nii.gz-0.500000', 'sum-079k-breast.nii.gz-0.500000', 'mean-079k-breast.nii.gz-0.500000', 'std-079k-breast.nii.gz-0.500000', 'skew-079k-breast.nii.gz-0.500000', 'kurt-079k-breast.nii.gz-0.500000', 'hist-0-079k-breast.nii.gz-0.500000', 'hist-1-079k-breast.nii.gz-0.500000', 'hist-2-079k-breast.nii.gz-0.500000', 'hist-3-079k-breast.nii.gz-0.500000', 'hist-4-079k-breast.nii.gz-0.500000', 'hist-5-079k-breast.nii.gz-0.500000', 'hist-6-079k-breast.nii.gz-0.500000', 'hist-7-079k-breast.nii.gz-0.500000', 'hist-8-079k-breast.nii.gz-0.500000', 'hist-9-079k-breast.nii.gz-0.500000', 'hist-10-079k-breast.nii.gz-0.500000', 'hist-11-079k-breast.nii.gz-0.500000', 'hist-12-079k-breast.nii.gz-0.500000', 'hist-13-079k-breast.nii.gz-0.500000', 'hist-14-079k-breast.nii.gz-0.500000', 'hist-15-079k-breast.nii.gz-0.500000', 'hist-16-079k-breast.nii.gz-0.500000', 'hist-17-079k-breast.nii.gz-0.500000', 'hist-18-079k-breast.nii.gz-0.500000', 'hist-19-079k-breast.nii.gz-0.500000'] \n",
      "Score: -0.8606450289676619\n"
     ]
    },
    {
     "name": "stderr",
     "output_type": "stream",
     "text": [
      "200it [00:00, 557.20it/s]\n"
     ]
    },
    {
     "name": "stdout",
     "output_type": "stream",
     "text": [
      "1\n",
      "1 0.8656889803616219\n",
      "Objective KNNR_Objective:\n"
     ]
    },
    {
     "name": "stderr",
     "output_type": "stream",
     "text": [
      "  7%|██████████████████▏                                                                                                                                                                                                                                                                | 528/8000 [00:15<03:36, 34.43it/s]\n"
     ]
    },
    {
     "name": "stdout",
     "output_type": "stream",
     "text": [
      "iterations: 528\n",
      "Number of used features: 26\n",
      "Used features: ['num-080k-breast.nii.gz-0.500000', 'sum-080k-breast.nii.gz-0.500000', 'mean-080k-breast.nii.gz-0.500000', 'std-080k-breast.nii.gz-0.500000', 'skew-080k-breast.nii.gz-0.500000', 'kurt-080k-breast.nii.gz-0.500000', 'hist-0-080k-breast.nii.gz-0.500000', 'hist-1-080k-breast.nii.gz-0.500000', 'hist-2-080k-breast.nii.gz-0.500000', 'hist-3-080k-breast.nii.gz-0.500000', 'hist-4-080k-breast.nii.gz-0.500000', 'hist-5-080k-breast.nii.gz-0.500000', 'hist-6-080k-breast.nii.gz-0.500000', 'hist-7-080k-breast.nii.gz-0.500000', 'hist-8-080k-breast.nii.gz-0.500000', 'hist-9-080k-breast.nii.gz-0.500000', 'hist-10-080k-breast.nii.gz-0.500000', 'hist-11-080k-breast.nii.gz-0.500000', 'hist-12-080k-breast.nii.gz-0.500000', 'hist-13-080k-breast.nii.gz-0.500000', 'hist-14-080k-breast.nii.gz-0.500000', 'hist-15-080k-breast.nii.gz-0.500000', 'hist-16-080k-breast.nii.gz-0.500000', 'hist-17-080k-breast.nii.gz-0.500000', 'hist-18-080k-breast.nii.gz-0.500000', 'hist-19-080k-breast.nii.gz-0.500000'] \n",
      "Score: -0.7054786049534196\n"
     ]
    },
    {
     "name": "stderr",
     "output_type": "stream",
     "text": [
      "200it [00:00, 722.00it/s]\n"
     ]
    },
    {
     "name": "stdout",
     "output_type": "stream",
     "text": [
      "1\n",
      "1 0.7122666076528427\n",
      "Objective LinearRegression_Objective:\n"
     ]
    },
    {
     "name": "stderr",
     "output_type": "stream",
     "text": [
      "  6%|█████████████████                                                                                                                                                                                                                                                                | 499/8000 [00:00<00:02, 2999.77it/s]\n"
     ]
    },
    {
     "name": "stdout",
     "output_type": "stream",
     "text": [
      "iterations: 499\n",
      "Number of used features: 26\n",
      "Used features: ['num-080k-breast.nii.gz-0.500000', 'sum-080k-breast.nii.gz-0.500000', 'mean-080k-breast.nii.gz-0.500000', 'std-080k-breast.nii.gz-0.500000', 'skew-080k-breast.nii.gz-0.500000', 'kurt-080k-breast.nii.gz-0.500000', 'hist-0-080k-breast.nii.gz-0.500000', 'hist-1-080k-breast.nii.gz-0.500000', 'hist-2-080k-breast.nii.gz-0.500000', 'hist-3-080k-breast.nii.gz-0.500000', 'hist-4-080k-breast.nii.gz-0.500000', 'hist-5-080k-breast.nii.gz-0.500000', 'hist-6-080k-breast.nii.gz-0.500000', 'hist-7-080k-breast.nii.gz-0.500000', 'hist-8-080k-breast.nii.gz-0.500000', 'hist-9-080k-breast.nii.gz-0.500000', 'hist-10-080k-breast.nii.gz-0.500000', 'hist-11-080k-breast.nii.gz-0.500000', 'hist-12-080k-breast.nii.gz-0.500000', 'hist-13-080k-breast.nii.gz-0.500000', 'hist-14-080k-breast.nii.gz-0.500000', 'hist-15-080k-breast.nii.gz-0.500000', 'hist-16-080k-breast.nii.gz-0.500000', 'hist-17-080k-breast.nii.gz-0.500000', 'hist-18-080k-breast.nii.gz-0.500000', 'hist-19-080k-breast.nii.gz-0.500000'] \n",
      "Score: -0.7483931858355286\n"
     ]
    },
    {
     "name": "stderr",
     "output_type": "stream",
     "text": [
      "200it [00:00, 715.90it/s]\n"
     ]
    },
    {
     "name": "stdout",
     "output_type": "stream",
     "text": [
      "1\n",
      "1 0.7789650437276943\n",
      "Objective LassoRegression_Objective:\n"
     ]
    },
    {
     "name": "stderr",
     "output_type": "stream",
     "text": [
      "  6%|█████████████████▎                                                                                                                                                                                                                                                                | 505/8000 [00:02<00:32, 233.02it/s]\n"
     ]
    },
    {
     "name": "stdout",
     "output_type": "stream",
     "text": [
      "iterations: 505\n",
      "Number of used features: 26\n",
      "Used features: ['num-080k-breast.nii.gz-0.500000', 'sum-080k-breast.nii.gz-0.500000', 'mean-080k-breast.nii.gz-0.500000', 'std-080k-breast.nii.gz-0.500000', 'skew-080k-breast.nii.gz-0.500000', 'kurt-080k-breast.nii.gz-0.500000', 'hist-0-080k-breast.nii.gz-0.500000', 'hist-1-080k-breast.nii.gz-0.500000', 'hist-2-080k-breast.nii.gz-0.500000', 'hist-3-080k-breast.nii.gz-0.500000', 'hist-4-080k-breast.nii.gz-0.500000', 'hist-5-080k-breast.nii.gz-0.500000', 'hist-6-080k-breast.nii.gz-0.500000', 'hist-7-080k-breast.nii.gz-0.500000', 'hist-8-080k-breast.nii.gz-0.500000', 'hist-9-080k-breast.nii.gz-0.500000', 'hist-10-080k-breast.nii.gz-0.500000', 'hist-11-080k-breast.nii.gz-0.500000', 'hist-12-080k-breast.nii.gz-0.500000', 'hist-13-080k-breast.nii.gz-0.500000', 'hist-14-080k-breast.nii.gz-0.500000', 'hist-15-080k-breast.nii.gz-0.500000', 'hist-16-080k-breast.nii.gz-0.500000', 'hist-17-080k-breast.nii.gz-0.500000', 'hist-18-080k-breast.nii.gz-0.500000', 'hist-19-080k-breast.nii.gz-0.500000'] \n",
      "Score: -0.8741644902259614\n"
     ]
    },
    {
     "name": "stderr",
     "output_type": "stream",
     "text": [
      "200it [00:00, 499.05it/s]\n"
     ]
    },
    {
     "name": "stdout",
     "output_type": "stream",
     "text": [
      "1\n",
      "1 0.8785363718276524\n",
      "Objective RidgeRegression_Objective:\n"
     ]
    },
    {
     "name": "stderr",
     "output_type": "stream",
     "text": [
      "  6%|█████████████████▏                                                                                                                                                                                                                                                                | 500/8000 [00:01<00:24, 310.10it/s]\n"
     ]
    },
    {
     "name": "stdout",
     "output_type": "stream",
     "text": [
      "iterations: 500\n",
      "Number of used features: 26\n",
      "Used features: ['num-080k-breast.nii.gz-0.500000', 'sum-080k-breast.nii.gz-0.500000', 'mean-080k-breast.nii.gz-0.500000', 'std-080k-breast.nii.gz-0.500000', 'skew-080k-breast.nii.gz-0.500000', 'kurt-080k-breast.nii.gz-0.500000', 'hist-0-080k-breast.nii.gz-0.500000', 'hist-1-080k-breast.nii.gz-0.500000', 'hist-2-080k-breast.nii.gz-0.500000', 'hist-3-080k-breast.nii.gz-0.500000', 'hist-4-080k-breast.nii.gz-0.500000', 'hist-5-080k-breast.nii.gz-0.500000', 'hist-6-080k-breast.nii.gz-0.500000', 'hist-7-080k-breast.nii.gz-0.500000', 'hist-8-080k-breast.nii.gz-0.500000', 'hist-9-080k-breast.nii.gz-0.500000', 'hist-10-080k-breast.nii.gz-0.500000', 'hist-11-080k-breast.nii.gz-0.500000', 'hist-12-080k-breast.nii.gz-0.500000', 'hist-13-080k-breast.nii.gz-0.500000', 'hist-14-080k-breast.nii.gz-0.500000', 'hist-15-080k-breast.nii.gz-0.500000', 'hist-16-080k-breast.nii.gz-0.500000', 'hist-17-080k-breast.nii.gz-0.500000', 'hist-18-080k-breast.nii.gz-0.500000', 'hist-19-080k-breast.nii.gz-0.500000'] \n",
      "Score: -0.8768117705450856\n"
     ]
    },
    {
     "name": "stderr",
     "output_type": "stream",
     "text": [
      "200it [00:00, 566.51it/s]\n"
     ]
    },
    {
     "name": "stdout",
     "output_type": "stream",
     "text": [
      "1\n",
      "1 0.8792326554815321\n",
      "Objective PLSRegression_Objective:\n"
     ]
    },
    {
     "name": "stderr",
     "output_type": "stream",
     "text": [
      "  6%|█████████████████                                                                                                                                                                                                                                                                 | 499/8000 [00:00<00:08, 922.54it/s]\n"
     ]
    },
    {
     "name": "stdout",
     "output_type": "stream",
     "text": [
      "iterations: 499\n",
      "Number of used features: 26\n",
      "Used features: ['num-080k-breast.nii.gz-0.500000', 'sum-080k-breast.nii.gz-0.500000', 'mean-080k-breast.nii.gz-0.500000', 'std-080k-breast.nii.gz-0.500000', 'skew-080k-breast.nii.gz-0.500000', 'kurt-080k-breast.nii.gz-0.500000', 'hist-0-080k-breast.nii.gz-0.500000', 'hist-1-080k-breast.nii.gz-0.500000', 'hist-2-080k-breast.nii.gz-0.500000', 'hist-3-080k-breast.nii.gz-0.500000', 'hist-4-080k-breast.nii.gz-0.500000', 'hist-5-080k-breast.nii.gz-0.500000', 'hist-6-080k-breast.nii.gz-0.500000', 'hist-7-080k-breast.nii.gz-0.500000', 'hist-8-080k-breast.nii.gz-0.500000', 'hist-9-080k-breast.nii.gz-0.500000', 'hist-10-080k-breast.nii.gz-0.500000', 'hist-11-080k-breast.nii.gz-0.500000', 'hist-12-080k-breast.nii.gz-0.500000', 'hist-13-080k-breast.nii.gz-0.500000', 'hist-14-080k-breast.nii.gz-0.500000', 'hist-15-080k-breast.nii.gz-0.500000', 'hist-16-080k-breast.nii.gz-0.500000', 'hist-17-080k-breast.nii.gz-0.500000', 'hist-18-080k-breast.nii.gz-0.500000', 'hist-19-080k-breast.nii.gz-0.500000'] \n",
      "Score: -0.8760900304556748\n"
     ]
    },
    {
     "name": "stderr",
     "output_type": "stream",
     "text": [
      "200it [00:00, 560.47it/s]\n"
     ]
    },
    {
     "name": "stdout",
     "output_type": "stream",
     "text": [
      "1\n",
      "1 0.8787406208248454\n",
      "Objective KNNR_Objective:\n"
     ]
    },
    {
     "name": "stderr",
     "output_type": "stream",
     "text": [
      "  7%|██████████████████                                                                                                                                                                                                                                                                 | 526/8000 [00:16<03:47, 32.84it/s]\n"
     ]
    },
    {
     "name": "stdout",
     "output_type": "stream",
     "text": [
      "iterations: 526\n",
      "Number of used features: 26\n",
      "Used features: ['num-082k-breast.nii.gz-0.500000', 'sum-082k-breast.nii.gz-0.500000', 'mean-082k-breast.nii.gz-0.500000', 'std-082k-breast.nii.gz-0.500000', 'skew-082k-breast.nii.gz-0.500000', 'kurt-082k-breast.nii.gz-0.500000', 'hist-0-082k-breast.nii.gz-0.500000', 'hist-1-082k-breast.nii.gz-0.500000', 'hist-2-082k-breast.nii.gz-0.500000', 'hist-3-082k-breast.nii.gz-0.500000', 'hist-4-082k-breast.nii.gz-0.500000', 'hist-5-082k-breast.nii.gz-0.500000', 'hist-6-082k-breast.nii.gz-0.500000', 'hist-7-082k-breast.nii.gz-0.500000', 'hist-8-082k-breast.nii.gz-0.500000', 'hist-9-082k-breast.nii.gz-0.500000', 'hist-10-082k-breast.nii.gz-0.500000', 'hist-11-082k-breast.nii.gz-0.500000', 'hist-12-082k-breast.nii.gz-0.500000', 'hist-13-082k-breast.nii.gz-0.500000', 'hist-14-082k-breast.nii.gz-0.500000', 'hist-15-082k-breast.nii.gz-0.500000', 'hist-16-082k-breast.nii.gz-0.500000', 'hist-17-082k-breast.nii.gz-0.500000', 'hist-18-082k-breast.nii.gz-0.500000', 'hist-19-082k-breast.nii.gz-0.500000'] \n",
      "Score: -0.6625977256939672\n"
     ]
    },
    {
     "name": "stderr",
     "output_type": "stream",
     "text": [
      "200it [00:00, 688.25it/s]\n"
     ]
    },
    {
     "name": "stdout",
     "output_type": "stream",
     "text": [
      "1\n",
      "1 0.6807052515062437\n",
      "Objective LinearRegression_Objective:\n"
     ]
    },
    {
     "name": "stderr",
     "output_type": "stream",
     "text": [
      "  6%|█████████████████                                                                                                                                                                                                                                                                | 499/8000 [00:00<00:02, 3051.91it/s]\n"
     ]
    },
    {
     "name": "stdout",
     "output_type": "stream",
     "text": [
      "iterations: 499\n",
      "Number of used features: 26\n",
      "Used features: ['num-082k-breast.nii.gz-0.500000', 'sum-082k-breast.nii.gz-0.500000', 'mean-082k-breast.nii.gz-0.500000', 'std-082k-breast.nii.gz-0.500000', 'skew-082k-breast.nii.gz-0.500000', 'kurt-082k-breast.nii.gz-0.500000', 'hist-0-082k-breast.nii.gz-0.500000', 'hist-1-082k-breast.nii.gz-0.500000', 'hist-2-082k-breast.nii.gz-0.500000', 'hist-3-082k-breast.nii.gz-0.500000', 'hist-4-082k-breast.nii.gz-0.500000', 'hist-5-082k-breast.nii.gz-0.500000', 'hist-6-082k-breast.nii.gz-0.500000', 'hist-7-082k-breast.nii.gz-0.500000', 'hist-8-082k-breast.nii.gz-0.500000', 'hist-9-082k-breast.nii.gz-0.500000', 'hist-10-082k-breast.nii.gz-0.500000', 'hist-11-082k-breast.nii.gz-0.500000', 'hist-12-082k-breast.nii.gz-0.500000', 'hist-13-082k-breast.nii.gz-0.500000', 'hist-14-082k-breast.nii.gz-0.500000', 'hist-15-082k-breast.nii.gz-0.500000', 'hist-16-082k-breast.nii.gz-0.500000', 'hist-17-082k-breast.nii.gz-0.500000', 'hist-18-082k-breast.nii.gz-0.500000', 'hist-19-082k-breast.nii.gz-0.500000'] \n",
      "Score: -0.7047879616166001\n"
     ]
    },
    {
     "name": "stderr",
     "output_type": "stream",
     "text": [
      "200it [00:00, 717.76it/s]\n"
     ]
    },
    {
     "name": "stdout",
     "output_type": "stream",
     "text": [
      "1\n",
      "1 0.7333195973377787\n",
      "Objective LassoRegression_Objective:\n"
     ]
    },
    {
     "name": "stderr",
     "output_type": "stream",
     "text": [
      "  6%|█████████████████▎                                                                                                                                                                                                                                                                | 505/8000 [00:02<00:32, 228.92it/s]\n"
     ]
    },
    {
     "name": "stdout",
     "output_type": "stream",
     "text": [
      "iterations: 505\n",
      "Number of used features: 26\n",
      "Used features: ['num-082k-breast.nii.gz-0.500000', 'sum-082k-breast.nii.gz-0.500000', 'mean-082k-breast.nii.gz-0.500000', 'std-082k-breast.nii.gz-0.500000', 'skew-082k-breast.nii.gz-0.500000', 'kurt-082k-breast.nii.gz-0.500000', 'hist-0-082k-breast.nii.gz-0.500000', 'hist-1-082k-breast.nii.gz-0.500000', 'hist-2-082k-breast.nii.gz-0.500000', 'hist-3-082k-breast.nii.gz-0.500000', 'hist-4-082k-breast.nii.gz-0.500000', 'hist-5-082k-breast.nii.gz-0.500000', 'hist-6-082k-breast.nii.gz-0.500000', 'hist-7-082k-breast.nii.gz-0.500000', 'hist-8-082k-breast.nii.gz-0.500000', 'hist-9-082k-breast.nii.gz-0.500000', 'hist-10-082k-breast.nii.gz-0.500000', 'hist-11-082k-breast.nii.gz-0.500000', 'hist-12-082k-breast.nii.gz-0.500000', 'hist-13-082k-breast.nii.gz-0.500000', 'hist-14-082k-breast.nii.gz-0.500000', 'hist-15-082k-breast.nii.gz-0.500000', 'hist-16-082k-breast.nii.gz-0.500000', 'hist-17-082k-breast.nii.gz-0.500000', 'hist-18-082k-breast.nii.gz-0.500000', 'hist-19-082k-breast.nii.gz-0.500000'] \n",
      "Score: -0.8504054361088466\n"
     ]
    },
    {
     "name": "stderr",
     "output_type": "stream",
     "text": [
      "200it [00:00, 491.47it/s]\n"
     ]
    },
    {
     "name": "stdout",
     "output_type": "stream",
     "text": [
      "1\n",
      "1 0.8481607852811941\n",
      "Objective RidgeRegression_Objective:\n"
     ]
    },
    {
     "name": "stderr",
     "output_type": "stream",
     "text": [
      "  6%|█████████████████▏                                                                                                                                                                                                                                                                | 500/8000 [00:01<00:24, 311.15it/s]\n"
     ]
    },
    {
     "name": "stdout",
     "output_type": "stream",
     "text": [
      "iterations: 500\n",
      "Number of used features: 26\n",
      "Used features: ['num-082k-breast.nii.gz-0.500000', 'sum-082k-breast.nii.gz-0.500000', 'mean-082k-breast.nii.gz-0.500000', 'std-082k-breast.nii.gz-0.500000', 'skew-082k-breast.nii.gz-0.500000', 'kurt-082k-breast.nii.gz-0.500000', 'hist-0-082k-breast.nii.gz-0.500000', 'hist-1-082k-breast.nii.gz-0.500000', 'hist-2-082k-breast.nii.gz-0.500000', 'hist-3-082k-breast.nii.gz-0.500000', 'hist-4-082k-breast.nii.gz-0.500000', 'hist-5-082k-breast.nii.gz-0.500000', 'hist-6-082k-breast.nii.gz-0.500000', 'hist-7-082k-breast.nii.gz-0.500000', 'hist-8-082k-breast.nii.gz-0.500000', 'hist-9-082k-breast.nii.gz-0.500000', 'hist-10-082k-breast.nii.gz-0.500000', 'hist-11-082k-breast.nii.gz-0.500000', 'hist-12-082k-breast.nii.gz-0.500000', 'hist-13-082k-breast.nii.gz-0.500000', 'hist-14-082k-breast.nii.gz-0.500000', 'hist-15-082k-breast.nii.gz-0.500000', 'hist-16-082k-breast.nii.gz-0.500000', 'hist-17-082k-breast.nii.gz-0.500000', 'hist-18-082k-breast.nii.gz-0.500000', 'hist-19-082k-breast.nii.gz-0.500000'] \n",
      "Score: -0.8621601753497319\n"
     ]
    },
    {
     "name": "stderr",
     "output_type": "stream",
     "text": [
      "200it [00:00, 564.33it/s]\n"
     ]
    },
    {
     "name": "stdout",
     "output_type": "stream",
     "text": [
      "1\n",
      "1 0.8667170738934533\n",
      "Objective PLSRegression_Objective:\n"
     ]
    },
    {
     "name": "stderr",
     "output_type": "stream",
     "text": [
      "  6%|█████████████████                                                                                                                                                                                                                                                                 | 499/8000 [00:00<00:07, 946.74it/s]\n"
     ]
    },
    {
     "name": "stdout",
     "output_type": "stream",
     "text": [
      "iterations: 499\n",
      "Number of used features: 26\n",
      "Used features: ['num-082k-breast.nii.gz-0.500000', 'sum-082k-breast.nii.gz-0.500000', 'mean-082k-breast.nii.gz-0.500000', 'std-082k-breast.nii.gz-0.500000', 'skew-082k-breast.nii.gz-0.500000', 'kurt-082k-breast.nii.gz-0.500000', 'hist-0-082k-breast.nii.gz-0.500000', 'hist-1-082k-breast.nii.gz-0.500000', 'hist-2-082k-breast.nii.gz-0.500000', 'hist-3-082k-breast.nii.gz-0.500000', 'hist-4-082k-breast.nii.gz-0.500000', 'hist-5-082k-breast.nii.gz-0.500000', 'hist-6-082k-breast.nii.gz-0.500000', 'hist-7-082k-breast.nii.gz-0.500000', 'hist-8-082k-breast.nii.gz-0.500000', 'hist-9-082k-breast.nii.gz-0.500000', 'hist-10-082k-breast.nii.gz-0.500000', 'hist-11-082k-breast.nii.gz-0.500000', 'hist-12-082k-breast.nii.gz-0.500000', 'hist-13-082k-breast.nii.gz-0.500000', 'hist-14-082k-breast.nii.gz-0.500000', 'hist-15-082k-breast.nii.gz-0.500000', 'hist-16-082k-breast.nii.gz-0.500000', 'hist-17-082k-breast.nii.gz-0.500000', 'hist-18-082k-breast.nii.gz-0.500000', 'hist-19-082k-breast.nii.gz-0.500000'] \n",
      "Score: -0.8566355470331063\n"
     ]
    },
    {
     "name": "stderr",
     "output_type": "stream",
     "text": [
      "200it [00:00, 563.77it/s]\n"
     ]
    },
    {
     "name": "stdout",
     "output_type": "stream",
     "text": [
      "1\n",
      "1 0.8610942212080437\n",
      "Objective KNNR_Objective:\n"
     ]
    },
    {
     "name": "stderr",
     "output_type": "stream",
     "text": [
      "  7%|███████████████████▍                                                                                                                                                                                                                                                               | 567/8000 [00:15<03:29, 35.51it/s]\n"
     ]
    },
    {
     "name": "stdout",
     "output_type": "stream",
     "text": [
      "iterations: 567\n",
      "Number of used features: 26\n",
      "Used features: ['num-083a-breast.nii.gz-0.500000', 'sum-083a-breast.nii.gz-0.500000', 'mean-083a-breast.nii.gz-0.500000', 'std-083a-breast.nii.gz-0.500000', 'skew-083a-breast.nii.gz-0.500000', 'kurt-083a-breast.nii.gz-0.500000', 'hist-0-083a-breast.nii.gz-0.500000', 'hist-1-083a-breast.nii.gz-0.500000', 'hist-2-083a-breast.nii.gz-0.500000', 'hist-3-083a-breast.nii.gz-0.500000', 'hist-4-083a-breast.nii.gz-0.500000', 'hist-5-083a-breast.nii.gz-0.500000', 'hist-6-083a-breast.nii.gz-0.500000', 'hist-7-083a-breast.nii.gz-0.500000', 'hist-8-083a-breast.nii.gz-0.500000', 'hist-9-083a-breast.nii.gz-0.500000', 'hist-10-083a-breast.nii.gz-0.500000', 'hist-11-083a-breast.nii.gz-0.500000', 'hist-12-083a-breast.nii.gz-0.500000', 'hist-13-083a-breast.nii.gz-0.500000', 'hist-14-083a-breast.nii.gz-0.500000', 'hist-15-083a-breast.nii.gz-0.500000', 'hist-16-083a-breast.nii.gz-0.500000', 'hist-17-083a-breast.nii.gz-0.500000', 'hist-18-083a-breast.nii.gz-0.500000', 'hist-19-083a-breast.nii.gz-0.500000'] \n",
      "Score: -0.42808651102224615\n"
     ]
    },
    {
     "name": "stderr",
     "output_type": "stream",
     "text": [
      "200it [00:00, 733.60it/s]\n"
     ]
    },
    {
     "name": "stdout",
     "output_type": "stream",
     "text": [
      "1\n",
      "1 0.44937733987234674\n",
      "Objective LinearRegression_Objective:\n"
     ]
    },
    {
     "name": "stderr",
     "output_type": "stream",
     "text": [
      "  6%|█████████████████                                                                                                                                                                                                                                                                | 499/8000 [00:00<00:02, 3165.98it/s]\n"
     ]
    },
    {
     "name": "stdout",
     "output_type": "stream",
     "text": [
      "iterations: 499\n",
      "Number of used features: 26\n",
      "Used features: ['num-083a-breast.nii.gz-0.500000', 'sum-083a-breast.nii.gz-0.500000', 'mean-083a-breast.nii.gz-0.500000', 'std-083a-breast.nii.gz-0.500000', 'skew-083a-breast.nii.gz-0.500000', 'kurt-083a-breast.nii.gz-0.500000', 'hist-0-083a-breast.nii.gz-0.500000', 'hist-1-083a-breast.nii.gz-0.500000', 'hist-2-083a-breast.nii.gz-0.500000', 'hist-3-083a-breast.nii.gz-0.500000', 'hist-4-083a-breast.nii.gz-0.500000', 'hist-5-083a-breast.nii.gz-0.500000', 'hist-6-083a-breast.nii.gz-0.500000', 'hist-7-083a-breast.nii.gz-0.500000', 'hist-8-083a-breast.nii.gz-0.500000', 'hist-9-083a-breast.nii.gz-0.500000', 'hist-10-083a-breast.nii.gz-0.500000', 'hist-11-083a-breast.nii.gz-0.500000', 'hist-12-083a-breast.nii.gz-0.500000', 'hist-13-083a-breast.nii.gz-0.500000', 'hist-14-083a-breast.nii.gz-0.500000', 'hist-15-083a-breast.nii.gz-0.500000', 'hist-16-083a-breast.nii.gz-0.500000', 'hist-17-083a-breast.nii.gz-0.500000', 'hist-18-083a-breast.nii.gz-0.500000', 'hist-19-083a-breast.nii.gz-0.500000'] \n",
      "Score: -0.49478403300257634\n"
     ]
    },
    {
     "name": "stderr",
     "output_type": "stream",
     "text": [
      "200it [00:00, 746.08it/s]\n"
     ]
    },
    {
     "name": "stdout",
     "output_type": "stream",
     "text": [
      "1\n",
      "1 0.6291026446104224\n",
      "Objective LassoRegression_Objective:\n"
     ]
    },
    {
     "name": "stderr",
     "output_type": "stream",
     "text": [
      "  6%|█████████████████▎                                                                                                                                                                                                                                                                | 505/8000 [00:02<00:32, 227.21it/s]\n"
     ]
    },
    {
     "name": "stdout",
     "output_type": "stream",
     "text": [
      "iterations: 505\n",
      "Number of used features: 26\n",
      "Used features: ['num-083a-breast.nii.gz-0.500000', 'sum-083a-breast.nii.gz-0.500000', 'mean-083a-breast.nii.gz-0.500000', 'std-083a-breast.nii.gz-0.500000', 'skew-083a-breast.nii.gz-0.500000', 'kurt-083a-breast.nii.gz-0.500000', 'hist-0-083a-breast.nii.gz-0.500000', 'hist-1-083a-breast.nii.gz-0.500000', 'hist-2-083a-breast.nii.gz-0.500000', 'hist-3-083a-breast.nii.gz-0.500000', 'hist-4-083a-breast.nii.gz-0.500000', 'hist-5-083a-breast.nii.gz-0.500000', 'hist-6-083a-breast.nii.gz-0.500000', 'hist-7-083a-breast.nii.gz-0.500000', 'hist-8-083a-breast.nii.gz-0.500000', 'hist-9-083a-breast.nii.gz-0.500000', 'hist-10-083a-breast.nii.gz-0.500000', 'hist-11-083a-breast.nii.gz-0.500000', 'hist-12-083a-breast.nii.gz-0.500000', 'hist-13-083a-breast.nii.gz-0.500000', 'hist-14-083a-breast.nii.gz-0.500000', 'hist-15-083a-breast.nii.gz-0.500000', 'hist-16-083a-breast.nii.gz-0.500000', 'hist-17-083a-breast.nii.gz-0.500000', 'hist-18-083a-breast.nii.gz-0.500000', 'hist-19-083a-breast.nii.gz-0.500000'] \n",
      "Score: -0.7202464531267327\n"
     ]
    },
    {
     "name": "stderr",
     "output_type": "stream",
     "text": [
      "200it [00:00, 482.97it/s]\n"
     ]
    },
    {
     "name": "stdout",
     "output_type": "stream",
     "text": [
      "1\n",
      "1 0.7299458197024987\n",
      "Objective RidgeRegression_Objective:\n"
     ]
    },
    {
     "name": "stderr",
     "output_type": "stream",
     "text": [
      "  6%|█████████████████▍                                                                                                                                                                                                                                                                | 508/8000 [00:01<00:23, 325.35it/s]\n"
     ]
    },
    {
     "name": "stdout",
     "output_type": "stream",
     "text": [
      "iterations: 508\n",
      "Number of used features: 26\n",
      "Used features: ['num-083a-breast.nii.gz-0.500000', 'sum-083a-breast.nii.gz-0.500000', 'mean-083a-breast.nii.gz-0.500000', 'std-083a-breast.nii.gz-0.500000', 'skew-083a-breast.nii.gz-0.500000', 'kurt-083a-breast.nii.gz-0.500000', 'hist-0-083a-breast.nii.gz-0.500000', 'hist-1-083a-breast.nii.gz-0.500000', 'hist-2-083a-breast.nii.gz-0.500000', 'hist-3-083a-breast.nii.gz-0.500000', 'hist-4-083a-breast.nii.gz-0.500000', 'hist-5-083a-breast.nii.gz-0.500000', 'hist-6-083a-breast.nii.gz-0.500000', 'hist-7-083a-breast.nii.gz-0.500000', 'hist-8-083a-breast.nii.gz-0.500000', 'hist-9-083a-breast.nii.gz-0.500000', 'hist-10-083a-breast.nii.gz-0.500000', 'hist-11-083a-breast.nii.gz-0.500000', 'hist-12-083a-breast.nii.gz-0.500000', 'hist-13-083a-breast.nii.gz-0.500000', 'hist-14-083a-breast.nii.gz-0.500000', 'hist-15-083a-breast.nii.gz-0.500000', 'hist-16-083a-breast.nii.gz-0.500000', 'hist-17-083a-breast.nii.gz-0.500000', 'hist-18-083a-breast.nii.gz-0.500000', 'hist-19-083a-breast.nii.gz-0.500000'] \n",
      "Score: -0.7507248827400872\n"
     ]
    },
    {
     "name": "stderr",
     "output_type": "stream",
     "text": [
      "200it [00:00, 587.48it/s]\n"
     ]
    },
    {
     "name": "stdout",
     "output_type": "stream",
     "text": [
      "1\n",
      "1 0.7577017572084705\n",
      "Objective PLSRegression_Objective:\n"
     ]
    },
    {
     "name": "stderr",
     "output_type": "stream",
     "text": [
      "  6%|█████████████████                                                                                                                                                                                                                                                                 | 499/8000 [00:00<00:07, 980.20it/s]\n"
     ]
    },
    {
     "name": "stdout",
     "output_type": "stream",
     "text": [
      "iterations: 499\n",
      "Number of used features: 26\n",
      "Used features: ['num-083a-breast.nii.gz-0.500000', 'sum-083a-breast.nii.gz-0.500000', 'mean-083a-breast.nii.gz-0.500000', 'std-083a-breast.nii.gz-0.500000', 'skew-083a-breast.nii.gz-0.500000', 'kurt-083a-breast.nii.gz-0.500000', 'hist-0-083a-breast.nii.gz-0.500000', 'hist-1-083a-breast.nii.gz-0.500000', 'hist-2-083a-breast.nii.gz-0.500000', 'hist-3-083a-breast.nii.gz-0.500000', 'hist-4-083a-breast.nii.gz-0.500000', 'hist-5-083a-breast.nii.gz-0.500000', 'hist-6-083a-breast.nii.gz-0.500000', 'hist-7-083a-breast.nii.gz-0.500000', 'hist-8-083a-breast.nii.gz-0.500000', 'hist-9-083a-breast.nii.gz-0.500000', 'hist-10-083a-breast.nii.gz-0.500000', 'hist-11-083a-breast.nii.gz-0.500000', 'hist-12-083a-breast.nii.gz-0.500000', 'hist-13-083a-breast.nii.gz-0.500000', 'hist-14-083a-breast.nii.gz-0.500000', 'hist-15-083a-breast.nii.gz-0.500000', 'hist-16-083a-breast.nii.gz-0.500000', 'hist-17-083a-breast.nii.gz-0.500000', 'hist-18-083a-breast.nii.gz-0.500000', 'hist-19-083a-breast.nii.gz-0.500000'] \n",
      "Score: -0.7490801969114829\n"
     ]
    },
    {
     "name": "stderr",
     "output_type": "stream",
     "text": [
      "200it [00:00, 584.76it/s]\n"
     ]
    },
    {
     "name": "stdout",
     "output_type": "stream",
     "text": [
      "1\n",
      "1 0.7642939202545977\n",
      "Objective KNNR_Objective:\n"
     ]
    },
    {
     "name": "stderr",
     "output_type": "stream",
     "text": [
      "  7%|█████████████████▉                                                                                                                                                                                                                                                                 | 523/8000 [00:15<03:43, 33.45it/s]\n"
     ]
    },
    {
     "name": "stdout",
     "output_type": "stream",
     "text": [
      "iterations: 523\n",
      "Number of used features: 26\n",
      "Used features: ['num-083k-breast.nii.gz-0.500000', 'sum-083k-breast.nii.gz-0.500000', 'mean-083k-breast.nii.gz-0.500000', 'std-083k-breast.nii.gz-0.500000', 'skew-083k-breast.nii.gz-0.500000', 'kurt-083k-breast.nii.gz-0.500000', 'hist-0-083k-breast.nii.gz-0.500000', 'hist-1-083k-breast.nii.gz-0.500000', 'hist-2-083k-breast.nii.gz-0.500000', 'hist-3-083k-breast.nii.gz-0.500000', 'hist-4-083k-breast.nii.gz-0.500000', 'hist-5-083k-breast.nii.gz-0.500000', 'hist-6-083k-breast.nii.gz-0.500000', 'hist-7-083k-breast.nii.gz-0.500000', 'hist-8-083k-breast.nii.gz-0.500000', 'hist-9-083k-breast.nii.gz-0.500000', 'hist-10-083k-breast.nii.gz-0.500000', 'hist-11-083k-breast.nii.gz-0.500000', 'hist-12-083k-breast.nii.gz-0.500000', 'hist-13-083k-breast.nii.gz-0.500000', 'hist-14-083k-breast.nii.gz-0.500000', 'hist-15-083k-breast.nii.gz-0.500000', 'hist-16-083k-breast.nii.gz-0.500000', 'hist-17-083k-breast.nii.gz-0.500000', 'hist-18-083k-breast.nii.gz-0.500000', 'hist-19-083k-breast.nii.gz-0.500000'] \n",
      "Score: -0.5658890619452728\n"
     ]
    },
    {
     "name": "stderr",
     "output_type": "stream",
     "text": [
      "200it [00:00, 624.22it/s]\n"
     ]
    },
    {
     "name": "stdout",
     "output_type": "stream",
     "text": [
      "1\n",
      "1 0.5780129781470489\n",
      "Objective LinearRegression_Objective:\n"
     ]
    },
    {
     "name": "stderr",
     "output_type": "stream",
     "text": [
      "  6%|█████████████████                                                                                                                                                                                                                                                                | 499/8000 [00:00<00:02, 3097.12it/s]\n"
     ]
    },
    {
     "name": "stdout",
     "output_type": "stream",
     "text": [
      "iterations: 499\n",
      "Number of used features: 26\n",
      "Used features: ['num-083k-breast.nii.gz-0.500000', 'sum-083k-breast.nii.gz-0.500000', 'mean-083k-breast.nii.gz-0.500000', 'std-083k-breast.nii.gz-0.500000', 'skew-083k-breast.nii.gz-0.500000', 'kurt-083k-breast.nii.gz-0.500000', 'hist-0-083k-breast.nii.gz-0.500000', 'hist-1-083k-breast.nii.gz-0.500000', 'hist-2-083k-breast.nii.gz-0.500000', 'hist-3-083k-breast.nii.gz-0.500000', 'hist-4-083k-breast.nii.gz-0.500000', 'hist-5-083k-breast.nii.gz-0.500000', 'hist-6-083k-breast.nii.gz-0.500000', 'hist-7-083k-breast.nii.gz-0.500000', 'hist-8-083k-breast.nii.gz-0.500000', 'hist-9-083k-breast.nii.gz-0.500000', 'hist-10-083k-breast.nii.gz-0.500000', 'hist-11-083k-breast.nii.gz-0.500000', 'hist-12-083k-breast.nii.gz-0.500000', 'hist-13-083k-breast.nii.gz-0.500000', 'hist-14-083k-breast.nii.gz-0.500000', 'hist-15-083k-breast.nii.gz-0.500000', 'hist-16-083k-breast.nii.gz-0.500000', 'hist-17-083k-breast.nii.gz-0.500000', 'hist-18-083k-breast.nii.gz-0.500000', 'hist-19-083k-breast.nii.gz-0.500000'] \n",
      "Score: -0.6928600561263947\n"
     ]
    },
    {
     "name": "stderr",
     "output_type": "stream",
     "text": [
      "200it [00:00, 747.79it/s]\n"
     ]
    },
    {
     "name": "stdout",
     "output_type": "stream",
     "text": [
      "1\n",
      "1 0.7486954916428474\n",
      "Objective LassoRegression_Objective:\n"
     ]
    },
    {
     "name": "stderr",
     "output_type": "stream",
     "text": [
      "  6%|█████████████████▎                                                                                                                                                                                                                                                                | 505/8000 [00:02<00:31, 235.28it/s]\n"
     ]
    },
    {
     "name": "stdout",
     "output_type": "stream",
     "text": [
      "iterations: 505\n",
      "Number of used features: 26\n",
      "Used features: ['num-083k-breast.nii.gz-0.500000', 'sum-083k-breast.nii.gz-0.500000', 'mean-083k-breast.nii.gz-0.500000', 'std-083k-breast.nii.gz-0.500000', 'skew-083k-breast.nii.gz-0.500000', 'kurt-083k-breast.nii.gz-0.500000', 'hist-0-083k-breast.nii.gz-0.500000', 'hist-1-083k-breast.nii.gz-0.500000', 'hist-2-083k-breast.nii.gz-0.500000', 'hist-3-083k-breast.nii.gz-0.500000', 'hist-4-083k-breast.nii.gz-0.500000', 'hist-5-083k-breast.nii.gz-0.500000', 'hist-6-083k-breast.nii.gz-0.500000', 'hist-7-083k-breast.nii.gz-0.500000', 'hist-8-083k-breast.nii.gz-0.500000', 'hist-9-083k-breast.nii.gz-0.500000', 'hist-10-083k-breast.nii.gz-0.500000', 'hist-11-083k-breast.nii.gz-0.500000', 'hist-12-083k-breast.nii.gz-0.500000', 'hist-13-083k-breast.nii.gz-0.500000', 'hist-14-083k-breast.nii.gz-0.500000', 'hist-15-083k-breast.nii.gz-0.500000', 'hist-16-083k-breast.nii.gz-0.500000', 'hist-17-083k-breast.nii.gz-0.500000', 'hist-18-083k-breast.nii.gz-0.500000', 'hist-19-083k-breast.nii.gz-0.500000'] \n",
      "Score: -0.8619458854138494\n"
     ]
    },
    {
     "name": "stderr",
     "output_type": "stream",
     "text": [
      "200it [00:00, 519.21it/s]\n"
     ]
    },
    {
     "name": "stdout",
     "output_type": "stream",
     "text": [
      "1\n",
      "1 0.8683266022627616\n",
      "Objective RidgeRegression_Objective:\n"
     ]
    },
    {
     "name": "stderr",
     "output_type": "stream",
     "text": [
      "  6%|█████████████████▏                                                                                                                                                                                                                                                                | 500/8000 [00:01<00:23, 321.06it/s]\n"
     ]
    },
    {
     "name": "stdout",
     "output_type": "stream",
     "text": [
      "iterations: 500\n",
      "Number of used features: 26\n",
      "Used features: ['num-083k-breast.nii.gz-0.500000', 'sum-083k-breast.nii.gz-0.500000', 'mean-083k-breast.nii.gz-0.500000', 'std-083k-breast.nii.gz-0.500000', 'skew-083k-breast.nii.gz-0.500000', 'kurt-083k-breast.nii.gz-0.500000', 'hist-0-083k-breast.nii.gz-0.500000', 'hist-1-083k-breast.nii.gz-0.500000', 'hist-2-083k-breast.nii.gz-0.500000', 'hist-3-083k-breast.nii.gz-0.500000', 'hist-4-083k-breast.nii.gz-0.500000', 'hist-5-083k-breast.nii.gz-0.500000', 'hist-6-083k-breast.nii.gz-0.500000', 'hist-7-083k-breast.nii.gz-0.500000', 'hist-8-083k-breast.nii.gz-0.500000', 'hist-9-083k-breast.nii.gz-0.500000', 'hist-10-083k-breast.nii.gz-0.500000', 'hist-11-083k-breast.nii.gz-0.500000', 'hist-12-083k-breast.nii.gz-0.500000', 'hist-13-083k-breast.nii.gz-0.500000', 'hist-14-083k-breast.nii.gz-0.500000', 'hist-15-083k-breast.nii.gz-0.500000', 'hist-16-083k-breast.nii.gz-0.500000', 'hist-17-083k-breast.nii.gz-0.500000', 'hist-18-083k-breast.nii.gz-0.500000', 'hist-19-083k-breast.nii.gz-0.500000'] \n",
      "Score: -0.8677954566575178\n"
     ]
    },
    {
     "name": "stderr",
     "output_type": "stream",
     "text": [
      "200it [00:00, 591.02it/s]\n"
     ]
    },
    {
     "name": "stdout",
     "output_type": "stream",
     "text": [
      "1\n",
      "1 0.8750103450639793\n",
      "Objective PLSRegression_Objective:\n"
     ]
    },
    {
     "name": "stderr",
     "output_type": "stream",
     "text": [
      "  6%|█████████████████                                                                                                                                                                                                                                                                 | 499/8000 [00:00<00:07, 973.80it/s]\n"
     ]
    },
    {
     "name": "stdout",
     "output_type": "stream",
     "text": [
      "iterations: 499\n",
      "Number of used features: 26\n",
      "Used features: ['num-083k-breast.nii.gz-0.500000', 'sum-083k-breast.nii.gz-0.500000', 'mean-083k-breast.nii.gz-0.500000', 'std-083k-breast.nii.gz-0.500000', 'skew-083k-breast.nii.gz-0.500000', 'kurt-083k-breast.nii.gz-0.500000', 'hist-0-083k-breast.nii.gz-0.500000', 'hist-1-083k-breast.nii.gz-0.500000', 'hist-2-083k-breast.nii.gz-0.500000', 'hist-3-083k-breast.nii.gz-0.500000', 'hist-4-083k-breast.nii.gz-0.500000', 'hist-5-083k-breast.nii.gz-0.500000', 'hist-6-083k-breast.nii.gz-0.500000', 'hist-7-083k-breast.nii.gz-0.500000', 'hist-8-083k-breast.nii.gz-0.500000', 'hist-9-083k-breast.nii.gz-0.500000', 'hist-10-083k-breast.nii.gz-0.500000', 'hist-11-083k-breast.nii.gz-0.500000', 'hist-12-083k-breast.nii.gz-0.500000', 'hist-13-083k-breast.nii.gz-0.500000', 'hist-14-083k-breast.nii.gz-0.500000', 'hist-15-083k-breast.nii.gz-0.500000', 'hist-16-083k-breast.nii.gz-0.500000', 'hist-17-083k-breast.nii.gz-0.500000', 'hist-18-083k-breast.nii.gz-0.500000', 'hist-19-083k-breast.nii.gz-0.500000'] \n",
      "Score: -0.8743493969213705\n"
     ]
    },
    {
     "name": "stderr",
     "output_type": "stream",
     "text": [
      "200it [00:00, 580.95it/s]\n"
     ]
    },
    {
     "name": "stdout",
     "output_type": "stream",
     "text": [
      "1\n",
      "1 0.8744613346304565\n",
      "Objective KNNR_Objective:\n"
     ]
    },
    {
     "name": "stderr",
     "output_type": "stream",
     "text": [
      "  6%|█████████████████▌                                                                                                                                                                                                                                                                 | 511/8000 [00:15<03:41, 33.75it/s]\n"
     ]
    },
    {
     "name": "stdout",
     "output_type": "stream",
     "text": [
      "iterations: 511\n",
      "Number of used features: 26\n",
      "Used features: ['num-084a-breast.nii.gz-0.500000', 'sum-084a-breast.nii.gz-0.500000', 'mean-084a-breast.nii.gz-0.500000', 'std-084a-breast.nii.gz-0.500000', 'skew-084a-breast.nii.gz-0.500000', 'kurt-084a-breast.nii.gz-0.500000', 'hist-0-084a-breast.nii.gz-0.500000', 'hist-1-084a-breast.nii.gz-0.500000', 'hist-2-084a-breast.nii.gz-0.500000', 'hist-3-084a-breast.nii.gz-0.500000', 'hist-4-084a-breast.nii.gz-0.500000', 'hist-5-084a-breast.nii.gz-0.500000', 'hist-6-084a-breast.nii.gz-0.500000', 'hist-7-084a-breast.nii.gz-0.500000', 'hist-8-084a-breast.nii.gz-0.500000', 'hist-9-084a-breast.nii.gz-0.500000', 'hist-10-084a-breast.nii.gz-0.500000', 'hist-11-084a-breast.nii.gz-0.500000', 'hist-12-084a-breast.nii.gz-0.500000', 'hist-13-084a-breast.nii.gz-0.500000', 'hist-14-084a-breast.nii.gz-0.500000', 'hist-15-084a-breast.nii.gz-0.500000', 'hist-16-084a-breast.nii.gz-0.500000', 'hist-17-084a-breast.nii.gz-0.500000', 'hist-18-084a-breast.nii.gz-0.500000', 'hist-19-084a-breast.nii.gz-0.500000'] \n",
      "Score: -0.5684308496605468\n"
     ]
    },
    {
     "name": "stderr",
     "output_type": "stream",
     "text": [
      "200it [00:00, 651.29it/s]\n"
     ]
    },
    {
     "name": "stdout",
     "output_type": "stream",
     "text": [
      "1\n",
      "1 0.5707628383902883\n",
      "Objective LinearRegression_Objective:\n"
     ]
    },
    {
     "name": "stderr",
     "output_type": "stream",
     "text": [
      "  6%|█████████████████                                                                                                                                                                                                                                                                | 499/8000 [00:00<00:02, 3033.93it/s]\n"
     ]
    },
    {
     "name": "stdout",
     "output_type": "stream",
     "text": [
      "iterations: 499\n",
      "Number of used features: 26\n",
      "Used features: ['num-084a-breast.nii.gz-0.500000', 'sum-084a-breast.nii.gz-0.500000', 'mean-084a-breast.nii.gz-0.500000', 'std-084a-breast.nii.gz-0.500000', 'skew-084a-breast.nii.gz-0.500000', 'kurt-084a-breast.nii.gz-0.500000', 'hist-0-084a-breast.nii.gz-0.500000', 'hist-1-084a-breast.nii.gz-0.500000', 'hist-2-084a-breast.nii.gz-0.500000', 'hist-3-084a-breast.nii.gz-0.500000', 'hist-4-084a-breast.nii.gz-0.500000', 'hist-5-084a-breast.nii.gz-0.500000', 'hist-6-084a-breast.nii.gz-0.500000', 'hist-7-084a-breast.nii.gz-0.500000', 'hist-8-084a-breast.nii.gz-0.500000', 'hist-9-084a-breast.nii.gz-0.500000', 'hist-10-084a-breast.nii.gz-0.500000', 'hist-11-084a-breast.nii.gz-0.500000', 'hist-12-084a-breast.nii.gz-0.500000', 'hist-13-084a-breast.nii.gz-0.500000', 'hist-14-084a-breast.nii.gz-0.500000', 'hist-15-084a-breast.nii.gz-0.500000', 'hist-16-084a-breast.nii.gz-0.500000', 'hist-17-084a-breast.nii.gz-0.500000', 'hist-18-084a-breast.nii.gz-0.500000', 'hist-19-084a-breast.nii.gz-0.500000'] \n",
      "Score: -0.7488439272410896\n"
     ]
    },
    {
     "name": "stderr",
     "output_type": "stream",
     "text": [
      "200it [00:00, 716.83it/s]\n"
     ]
    },
    {
     "name": "stdout",
     "output_type": "stream",
     "text": [
      "1\n",
      "1 0.8125703264903654\n",
      "Objective LassoRegression_Objective:\n"
     ]
    },
    {
     "name": "stderr",
     "output_type": "stream",
     "text": [
      "  7%|█████████████████▉                                                                                                                                                                                                                                                                | 525/8000 [00:02<00:32, 229.42it/s]\n"
     ]
    },
    {
     "name": "stdout",
     "output_type": "stream",
     "text": [
      "iterations: 525\n",
      "Number of used features: 26\n",
      "Used features: ['num-084a-breast.nii.gz-0.500000', 'sum-084a-breast.nii.gz-0.500000', 'mean-084a-breast.nii.gz-0.500000', 'std-084a-breast.nii.gz-0.500000', 'skew-084a-breast.nii.gz-0.500000', 'kurt-084a-breast.nii.gz-0.500000', 'hist-0-084a-breast.nii.gz-0.500000', 'hist-1-084a-breast.nii.gz-0.500000', 'hist-2-084a-breast.nii.gz-0.500000', 'hist-3-084a-breast.nii.gz-0.500000', 'hist-4-084a-breast.nii.gz-0.500000', 'hist-5-084a-breast.nii.gz-0.500000', 'hist-6-084a-breast.nii.gz-0.500000', 'hist-7-084a-breast.nii.gz-0.500000', 'hist-8-084a-breast.nii.gz-0.500000', 'hist-9-084a-breast.nii.gz-0.500000', 'hist-10-084a-breast.nii.gz-0.500000', 'hist-11-084a-breast.nii.gz-0.500000', 'hist-12-084a-breast.nii.gz-0.500000', 'hist-13-084a-breast.nii.gz-0.500000', 'hist-14-084a-breast.nii.gz-0.500000', 'hist-15-084a-breast.nii.gz-0.500000', 'hist-16-084a-breast.nii.gz-0.500000', 'hist-17-084a-breast.nii.gz-0.500000', 'hist-18-084a-breast.nii.gz-0.500000', 'hist-19-084a-breast.nii.gz-0.500000'] \n",
      "Score: -0.8474533746811581\n"
     ]
    },
    {
     "name": "stderr",
     "output_type": "stream",
     "text": [
      "200it [00:00, 371.06it/s]\n"
     ]
    },
    {
     "name": "stdout",
     "output_type": "stream",
     "text": [
      "1\n",
      "1 0.8639504415102428\n",
      "Objective RidgeRegression_Objective:\n"
     ]
    },
    {
     "name": "stderr",
     "output_type": "stream",
     "text": [
      "  6%|█████████████████▍                                                                                                                                                                                                                                                                | 508/8000 [00:01<00:24, 311.59it/s]\n"
     ]
    },
    {
     "name": "stdout",
     "output_type": "stream",
     "text": [
      "iterations: 508\n",
      "Number of used features: 26\n",
      "Used features: ['num-084a-breast.nii.gz-0.500000', 'sum-084a-breast.nii.gz-0.500000', 'mean-084a-breast.nii.gz-0.500000', 'std-084a-breast.nii.gz-0.500000', 'skew-084a-breast.nii.gz-0.500000', 'kurt-084a-breast.nii.gz-0.500000', 'hist-0-084a-breast.nii.gz-0.500000', 'hist-1-084a-breast.nii.gz-0.500000', 'hist-2-084a-breast.nii.gz-0.500000', 'hist-3-084a-breast.nii.gz-0.500000', 'hist-4-084a-breast.nii.gz-0.500000', 'hist-5-084a-breast.nii.gz-0.500000', 'hist-6-084a-breast.nii.gz-0.500000', 'hist-7-084a-breast.nii.gz-0.500000', 'hist-8-084a-breast.nii.gz-0.500000', 'hist-9-084a-breast.nii.gz-0.500000', 'hist-10-084a-breast.nii.gz-0.500000', 'hist-11-084a-breast.nii.gz-0.500000', 'hist-12-084a-breast.nii.gz-0.500000', 'hist-13-084a-breast.nii.gz-0.500000', 'hist-14-084a-breast.nii.gz-0.500000', 'hist-15-084a-breast.nii.gz-0.500000', 'hist-16-084a-breast.nii.gz-0.500000', 'hist-17-084a-breast.nii.gz-0.500000', 'hist-18-084a-breast.nii.gz-0.500000', 'hist-19-084a-breast.nii.gz-0.500000'] \n",
      "Score: -0.8395683369506078\n"
     ]
    },
    {
     "name": "stderr",
     "output_type": "stream",
     "text": [
      "200it [00:00, 564.28it/s]\n"
     ]
    },
    {
     "name": "stdout",
     "output_type": "stream",
     "text": [
      "1\n",
      "1 0.8506750902321434\n",
      "Objective PLSRegression_Objective:\n"
     ]
    },
    {
     "name": "stderr",
     "output_type": "stream",
     "text": [
      "  6%|█████████████████                                                                                                                                                                                                                                                                 | 499/8000 [00:00<00:08, 936.21it/s]\n"
     ]
    },
    {
     "name": "stdout",
     "output_type": "stream",
     "text": [
      "iterations: 499\n",
      "Number of used features: 26\n",
      "Used features: ['num-084a-breast.nii.gz-0.500000', 'sum-084a-breast.nii.gz-0.500000', 'mean-084a-breast.nii.gz-0.500000', 'std-084a-breast.nii.gz-0.500000', 'skew-084a-breast.nii.gz-0.500000', 'kurt-084a-breast.nii.gz-0.500000', 'hist-0-084a-breast.nii.gz-0.500000', 'hist-1-084a-breast.nii.gz-0.500000', 'hist-2-084a-breast.nii.gz-0.500000', 'hist-3-084a-breast.nii.gz-0.500000', 'hist-4-084a-breast.nii.gz-0.500000', 'hist-5-084a-breast.nii.gz-0.500000', 'hist-6-084a-breast.nii.gz-0.500000', 'hist-7-084a-breast.nii.gz-0.500000', 'hist-8-084a-breast.nii.gz-0.500000', 'hist-9-084a-breast.nii.gz-0.500000', 'hist-10-084a-breast.nii.gz-0.500000', 'hist-11-084a-breast.nii.gz-0.500000', 'hist-12-084a-breast.nii.gz-0.500000', 'hist-13-084a-breast.nii.gz-0.500000', 'hist-14-084a-breast.nii.gz-0.500000', 'hist-15-084a-breast.nii.gz-0.500000', 'hist-16-084a-breast.nii.gz-0.500000', 'hist-17-084a-breast.nii.gz-0.500000', 'hist-18-084a-breast.nii.gz-0.500000', 'hist-19-084a-breast.nii.gz-0.500000'] \n",
      "Score: -0.8393210490310685\n"
     ]
    },
    {
     "name": "stderr",
     "output_type": "stream",
     "text": [
      "200it [00:00, 558.36it/s]\n"
     ]
    },
    {
     "name": "stdout",
     "output_type": "stream",
     "text": [
      "1\n",
      "1 0.8497907731859233\n",
      "Objective KNNR_Objective:\n"
     ]
    },
    {
     "name": "stderr",
     "output_type": "stream",
     "text": [
      "  7%|██████████████████                                                                                                                                                                                                                                                                 | 527/8000 [00:15<03:43, 33.50it/s]\n"
     ]
    },
    {
     "name": "stdout",
     "output_type": "stream",
     "text": [
      "iterations: 527\n",
      "Number of used features: 26\n",
      "Used features: ['num-087f-breast.nii.gz-0.500000', 'sum-087f-breast.nii.gz-0.500000', 'mean-087f-breast.nii.gz-0.500000', 'std-087f-breast.nii.gz-0.500000', 'skew-087f-breast.nii.gz-0.500000', 'kurt-087f-breast.nii.gz-0.500000', 'hist-0-087f-breast.nii.gz-0.500000', 'hist-1-087f-breast.nii.gz-0.500000', 'hist-2-087f-breast.nii.gz-0.500000', 'hist-3-087f-breast.nii.gz-0.500000', 'hist-4-087f-breast.nii.gz-0.500000', 'hist-5-087f-breast.nii.gz-0.500000', 'hist-6-087f-breast.nii.gz-0.500000', 'hist-7-087f-breast.nii.gz-0.500000', 'hist-8-087f-breast.nii.gz-0.500000', 'hist-9-087f-breast.nii.gz-0.500000', 'hist-10-087f-breast.nii.gz-0.500000', 'hist-11-087f-breast.nii.gz-0.500000', 'hist-12-087f-breast.nii.gz-0.500000', 'hist-13-087f-breast.nii.gz-0.500000', 'hist-14-087f-breast.nii.gz-0.500000', 'hist-15-087f-breast.nii.gz-0.500000', 'hist-16-087f-breast.nii.gz-0.500000', 'hist-17-087f-breast.nii.gz-0.500000', 'hist-18-087f-breast.nii.gz-0.500000', 'hist-19-087f-breast.nii.gz-0.500000'] \n",
      "Score: -0.6969796142535939\n"
     ]
    },
    {
     "name": "stderr",
     "output_type": "stream",
     "text": [
      "200it [00:00, 768.26it/s]\n"
     ]
    },
    {
     "name": "stdout",
     "output_type": "stream",
     "text": [
      "1\n",
      "1 0.7203048885752792\n",
      "Objective LinearRegression_Objective:\n"
     ]
    },
    {
     "name": "stderr",
     "output_type": "stream",
     "text": [
      "  6%|█████████████████                                                                                                                                                                                                                                                                | 499/8000 [00:00<00:02, 3179.26it/s]\n"
     ]
    },
    {
     "name": "stdout",
     "output_type": "stream",
     "text": [
      "iterations: 499\n",
      "Number of used features: 26\n",
      "Used features: ['num-087f-breast.nii.gz-0.500000', 'sum-087f-breast.nii.gz-0.500000', 'mean-087f-breast.nii.gz-0.500000', 'std-087f-breast.nii.gz-0.500000', 'skew-087f-breast.nii.gz-0.500000', 'kurt-087f-breast.nii.gz-0.500000', 'hist-0-087f-breast.nii.gz-0.500000', 'hist-1-087f-breast.nii.gz-0.500000', 'hist-2-087f-breast.nii.gz-0.500000', 'hist-3-087f-breast.nii.gz-0.500000', 'hist-4-087f-breast.nii.gz-0.500000', 'hist-5-087f-breast.nii.gz-0.500000', 'hist-6-087f-breast.nii.gz-0.500000', 'hist-7-087f-breast.nii.gz-0.500000', 'hist-8-087f-breast.nii.gz-0.500000', 'hist-9-087f-breast.nii.gz-0.500000', 'hist-10-087f-breast.nii.gz-0.500000', 'hist-11-087f-breast.nii.gz-0.500000', 'hist-12-087f-breast.nii.gz-0.500000', 'hist-13-087f-breast.nii.gz-0.500000', 'hist-14-087f-breast.nii.gz-0.500000', 'hist-15-087f-breast.nii.gz-0.500000', 'hist-16-087f-breast.nii.gz-0.500000', 'hist-17-087f-breast.nii.gz-0.500000', 'hist-18-087f-breast.nii.gz-0.500000', 'hist-19-087f-breast.nii.gz-0.500000'] \n",
      "Score: -0.7059320030228167\n"
     ]
    },
    {
     "name": "stderr",
     "output_type": "stream",
     "text": [
      "200it [00:00, 743.36it/s]\n"
     ]
    },
    {
     "name": "stdout",
     "output_type": "stream",
     "text": [
      "1\n",
      "1 0.7552048175342314\n",
      "Objective LassoRegression_Objective:\n"
     ]
    },
    {
     "name": "stderr",
     "output_type": "stream",
     "text": [
      "  6%|█████████████████▍                                                                                                                                                                                                                                                                | 508/8000 [00:02<00:31, 237.75it/s]\n"
     ]
    },
    {
     "name": "stdout",
     "output_type": "stream",
     "text": [
      "iterations: 508\n",
      "Number of used features: 26\n",
      "Used features: ['num-087f-breast.nii.gz-0.500000', 'sum-087f-breast.nii.gz-0.500000', 'mean-087f-breast.nii.gz-0.500000', 'std-087f-breast.nii.gz-0.500000', 'skew-087f-breast.nii.gz-0.500000', 'kurt-087f-breast.nii.gz-0.500000', 'hist-0-087f-breast.nii.gz-0.500000', 'hist-1-087f-breast.nii.gz-0.500000', 'hist-2-087f-breast.nii.gz-0.500000', 'hist-3-087f-breast.nii.gz-0.500000', 'hist-4-087f-breast.nii.gz-0.500000', 'hist-5-087f-breast.nii.gz-0.500000', 'hist-6-087f-breast.nii.gz-0.500000', 'hist-7-087f-breast.nii.gz-0.500000', 'hist-8-087f-breast.nii.gz-0.500000', 'hist-9-087f-breast.nii.gz-0.500000', 'hist-10-087f-breast.nii.gz-0.500000', 'hist-11-087f-breast.nii.gz-0.500000', 'hist-12-087f-breast.nii.gz-0.500000', 'hist-13-087f-breast.nii.gz-0.500000', 'hist-14-087f-breast.nii.gz-0.500000', 'hist-15-087f-breast.nii.gz-0.500000', 'hist-16-087f-breast.nii.gz-0.500000', 'hist-17-087f-breast.nii.gz-0.500000', 'hist-18-087f-breast.nii.gz-0.500000', 'hist-19-087f-breast.nii.gz-0.500000'] \n",
      "Score: -0.8844068984655795\n"
     ]
    },
    {
     "name": "stderr",
     "output_type": "stream",
     "text": [
      "200it [00:00, 521.65it/s]\n"
     ]
    },
    {
     "name": "stdout",
     "output_type": "stream",
     "text": [
      "1\n",
      "1 0.8836942054386258\n",
      "Objective RidgeRegression_Objective:\n"
     ]
    },
    {
     "name": "stderr",
     "output_type": "stream",
     "text": [
      "  6%|█████████████████                                                                                                                                                                                                                                                                 | 499/8000 [00:01<00:23, 316.37it/s]\n"
     ]
    },
    {
     "name": "stdout",
     "output_type": "stream",
     "text": [
      "iterations: 499\n",
      "Number of used features: 26\n",
      "Used features: ['num-087f-breast.nii.gz-0.500000', 'sum-087f-breast.nii.gz-0.500000', 'mean-087f-breast.nii.gz-0.500000', 'std-087f-breast.nii.gz-0.500000', 'skew-087f-breast.nii.gz-0.500000', 'kurt-087f-breast.nii.gz-0.500000', 'hist-0-087f-breast.nii.gz-0.500000', 'hist-1-087f-breast.nii.gz-0.500000', 'hist-2-087f-breast.nii.gz-0.500000', 'hist-3-087f-breast.nii.gz-0.500000', 'hist-4-087f-breast.nii.gz-0.500000', 'hist-5-087f-breast.nii.gz-0.500000', 'hist-6-087f-breast.nii.gz-0.500000', 'hist-7-087f-breast.nii.gz-0.500000', 'hist-8-087f-breast.nii.gz-0.500000', 'hist-9-087f-breast.nii.gz-0.500000', 'hist-10-087f-breast.nii.gz-0.500000', 'hist-11-087f-breast.nii.gz-0.500000', 'hist-12-087f-breast.nii.gz-0.500000', 'hist-13-087f-breast.nii.gz-0.500000', 'hist-14-087f-breast.nii.gz-0.500000', 'hist-15-087f-breast.nii.gz-0.500000', 'hist-16-087f-breast.nii.gz-0.500000', 'hist-17-087f-breast.nii.gz-0.500000', 'hist-18-087f-breast.nii.gz-0.500000', 'hist-19-087f-breast.nii.gz-0.500000'] \n",
      "Score: -0.8867148650322446\n"
     ]
    },
    {
     "name": "stderr",
     "output_type": "stream",
     "text": [
      "200it [00:00, 588.11it/s]\n"
     ]
    },
    {
     "name": "stdout",
     "output_type": "stream",
     "text": [
      "1\n",
      "1 0.889247842760876\n",
      "Objective PLSRegression_Objective:\n"
     ]
    },
    {
     "name": "stderr",
     "output_type": "stream",
     "text": [
      "  6%|█████████████████                                                                                                                                                                                                                                                                 | 499/8000 [00:00<00:07, 978.98it/s]\n"
     ]
    },
    {
     "name": "stdout",
     "output_type": "stream",
     "text": [
      "iterations: 499\n",
      "Number of used features: 26\n",
      "Used features: ['num-087f-breast.nii.gz-0.500000', 'sum-087f-breast.nii.gz-0.500000', 'mean-087f-breast.nii.gz-0.500000', 'std-087f-breast.nii.gz-0.500000', 'skew-087f-breast.nii.gz-0.500000', 'kurt-087f-breast.nii.gz-0.500000', 'hist-0-087f-breast.nii.gz-0.500000', 'hist-1-087f-breast.nii.gz-0.500000', 'hist-2-087f-breast.nii.gz-0.500000', 'hist-3-087f-breast.nii.gz-0.500000', 'hist-4-087f-breast.nii.gz-0.500000', 'hist-5-087f-breast.nii.gz-0.500000', 'hist-6-087f-breast.nii.gz-0.500000', 'hist-7-087f-breast.nii.gz-0.500000', 'hist-8-087f-breast.nii.gz-0.500000', 'hist-9-087f-breast.nii.gz-0.500000', 'hist-10-087f-breast.nii.gz-0.500000', 'hist-11-087f-breast.nii.gz-0.500000', 'hist-12-087f-breast.nii.gz-0.500000', 'hist-13-087f-breast.nii.gz-0.500000', 'hist-14-087f-breast.nii.gz-0.500000', 'hist-15-087f-breast.nii.gz-0.500000', 'hist-16-087f-breast.nii.gz-0.500000', 'hist-17-087f-breast.nii.gz-0.500000', 'hist-18-087f-breast.nii.gz-0.500000', 'hist-19-087f-breast.nii.gz-0.500000'] \n",
      "Score: -0.8804963249902235\n"
     ]
    },
    {
     "name": "stderr",
     "output_type": "stream",
     "text": [
      "200it [00:00, 586.73it/s]\n"
     ]
    },
    {
     "name": "stdout",
     "output_type": "stream",
     "text": [
      "1\n",
      "1 0.8805734933478242\n",
      "Objective KNNR_Objective:\n"
     ]
    },
    {
     "name": "stderr",
     "output_type": "stream",
     "text": [
      "  7%|███████████████████▍                                                                                                                                                                                                                                                               | 567/8000 [00:15<03:23, 36.58it/s]\n"
     ]
    },
    {
     "name": "stdout",
     "output_type": "stream",
     "text": [
      "iterations: 567\n",
      "Number of used features: 26\n",
      "Used features: ['num-088f-breast.nii.gz-0.500000', 'sum-088f-breast.nii.gz-0.500000', 'mean-088f-breast.nii.gz-0.500000', 'std-088f-breast.nii.gz-0.500000', 'skew-088f-breast.nii.gz-0.500000', 'kurt-088f-breast.nii.gz-0.500000', 'hist-0-088f-breast.nii.gz-0.500000', 'hist-1-088f-breast.nii.gz-0.500000', 'hist-2-088f-breast.nii.gz-0.500000', 'hist-3-088f-breast.nii.gz-0.500000', 'hist-4-088f-breast.nii.gz-0.500000', 'hist-5-088f-breast.nii.gz-0.500000', 'hist-6-088f-breast.nii.gz-0.500000', 'hist-7-088f-breast.nii.gz-0.500000', 'hist-8-088f-breast.nii.gz-0.500000', 'hist-9-088f-breast.nii.gz-0.500000', 'hist-10-088f-breast.nii.gz-0.500000', 'hist-11-088f-breast.nii.gz-0.500000', 'hist-12-088f-breast.nii.gz-0.500000', 'hist-13-088f-breast.nii.gz-0.500000', 'hist-14-088f-breast.nii.gz-0.500000', 'hist-15-088f-breast.nii.gz-0.500000', 'hist-16-088f-breast.nii.gz-0.500000', 'hist-17-088f-breast.nii.gz-0.500000', 'hist-18-088f-breast.nii.gz-0.500000', 'hist-19-088f-breast.nii.gz-0.500000'] \n",
      "Score: -0.6584428155954885\n"
     ]
    },
    {
     "name": "stderr",
     "output_type": "stream",
     "text": [
      "200it [00:00, 693.04it/s]\n"
     ]
    },
    {
     "name": "stdout",
     "output_type": "stream",
     "text": [
      "1\n",
      "1 0.6762050581226621\n",
      "Objective LinearRegression_Objective:\n"
     ]
    },
    {
     "name": "stderr",
     "output_type": "stream",
     "text": [
      "  6%|█████████████████                                                                                                                                                                                                                                                                | 499/8000 [00:00<00:02, 2974.51it/s]\n"
     ]
    },
    {
     "name": "stdout",
     "output_type": "stream",
     "text": [
      "iterations: 499\n",
      "Number of used features: 26\n",
      "Used features: ['num-088f-breast.nii.gz-0.500000', 'sum-088f-breast.nii.gz-0.500000', 'mean-088f-breast.nii.gz-0.500000', 'std-088f-breast.nii.gz-0.500000', 'skew-088f-breast.nii.gz-0.500000', 'kurt-088f-breast.nii.gz-0.500000', 'hist-0-088f-breast.nii.gz-0.500000', 'hist-1-088f-breast.nii.gz-0.500000', 'hist-2-088f-breast.nii.gz-0.500000', 'hist-3-088f-breast.nii.gz-0.500000', 'hist-4-088f-breast.nii.gz-0.500000', 'hist-5-088f-breast.nii.gz-0.500000', 'hist-6-088f-breast.nii.gz-0.500000', 'hist-7-088f-breast.nii.gz-0.500000', 'hist-8-088f-breast.nii.gz-0.500000', 'hist-9-088f-breast.nii.gz-0.500000', 'hist-10-088f-breast.nii.gz-0.500000', 'hist-11-088f-breast.nii.gz-0.500000', 'hist-12-088f-breast.nii.gz-0.500000', 'hist-13-088f-breast.nii.gz-0.500000', 'hist-14-088f-breast.nii.gz-0.500000', 'hist-15-088f-breast.nii.gz-0.500000', 'hist-16-088f-breast.nii.gz-0.500000', 'hist-17-088f-breast.nii.gz-0.500000', 'hist-18-088f-breast.nii.gz-0.500000', 'hist-19-088f-breast.nii.gz-0.500000'] \n",
      "Score: -0.5938917295299645\n"
     ]
    },
    {
     "name": "stderr",
     "output_type": "stream",
     "text": [
      "200it [00:00, 709.33it/s]\n"
     ]
    },
    {
     "name": "stdout",
     "output_type": "stream",
     "text": [
      "1\n",
      "1 0.6001592426760965\n",
      "Objective LassoRegression_Objective:\n"
     ]
    },
    {
     "name": "stderr",
     "output_type": "stream",
     "text": [
      "  6%|█████████████████▎                                                                                                                                                                                                                                                                | 505/8000 [00:02<00:32, 230.93it/s]\n"
     ]
    },
    {
     "name": "stdout",
     "output_type": "stream",
     "text": [
      "iterations: 505\n",
      "Number of used features: 26\n",
      "Used features: ['num-088f-breast.nii.gz-0.500000', 'sum-088f-breast.nii.gz-0.500000', 'mean-088f-breast.nii.gz-0.500000', 'std-088f-breast.nii.gz-0.500000', 'skew-088f-breast.nii.gz-0.500000', 'kurt-088f-breast.nii.gz-0.500000', 'hist-0-088f-breast.nii.gz-0.500000', 'hist-1-088f-breast.nii.gz-0.500000', 'hist-2-088f-breast.nii.gz-0.500000', 'hist-3-088f-breast.nii.gz-0.500000', 'hist-4-088f-breast.nii.gz-0.500000', 'hist-5-088f-breast.nii.gz-0.500000', 'hist-6-088f-breast.nii.gz-0.500000', 'hist-7-088f-breast.nii.gz-0.500000', 'hist-8-088f-breast.nii.gz-0.500000', 'hist-9-088f-breast.nii.gz-0.500000', 'hist-10-088f-breast.nii.gz-0.500000', 'hist-11-088f-breast.nii.gz-0.500000', 'hist-12-088f-breast.nii.gz-0.500000', 'hist-13-088f-breast.nii.gz-0.500000', 'hist-14-088f-breast.nii.gz-0.500000', 'hist-15-088f-breast.nii.gz-0.500000', 'hist-16-088f-breast.nii.gz-0.500000', 'hist-17-088f-breast.nii.gz-0.500000', 'hist-18-088f-breast.nii.gz-0.500000', 'hist-19-088f-breast.nii.gz-0.500000'] \n",
      "Score: -0.8679826051283923\n"
     ]
    },
    {
     "name": "stderr",
     "output_type": "stream",
     "text": [
      "200it [00:00, 480.22it/s]\n"
     ]
    },
    {
     "name": "stdout",
     "output_type": "stream",
     "text": [
      "1\n",
      "1 0.8659414559993137\n",
      "Objective RidgeRegression_Objective:\n"
     ]
    },
    {
     "name": "stderr",
     "output_type": "stream",
     "text": [
      "  6%|█████████████████▏                                                                                                                                                                                                                                                                | 500/8000 [00:01<00:24, 305.37it/s]\n"
     ]
    },
    {
     "name": "stdout",
     "output_type": "stream",
     "text": [
      "iterations: 500\n",
      "Number of used features: 26\n",
      "Used features: ['num-088f-breast.nii.gz-0.500000', 'sum-088f-breast.nii.gz-0.500000', 'mean-088f-breast.nii.gz-0.500000', 'std-088f-breast.nii.gz-0.500000', 'skew-088f-breast.nii.gz-0.500000', 'kurt-088f-breast.nii.gz-0.500000', 'hist-0-088f-breast.nii.gz-0.500000', 'hist-1-088f-breast.nii.gz-0.500000', 'hist-2-088f-breast.nii.gz-0.500000', 'hist-3-088f-breast.nii.gz-0.500000', 'hist-4-088f-breast.nii.gz-0.500000', 'hist-5-088f-breast.nii.gz-0.500000', 'hist-6-088f-breast.nii.gz-0.500000', 'hist-7-088f-breast.nii.gz-0.500000', 'hist-8-088f-breast.nii.gz-0.500000', 'hist-9-088f-breast.nii.gz-0.500000', 'hist-10-088f-breast.nii.gz-0.500000', 'hist-11-088f-breast.nii.gz-0.500000', 'hist-12-088f-breast.nii.gz-0.500000', 'hist-13-088f-breast.nii.gz-0.500000', 'hist-14-088f-breast.nii.gz-0.500000', 'hist-15-088f-breast.nii.gz-0.500000', 'hist-16-088f-breast.nii.gz-0.500000', 'hist-17-088f-breast.nii.gz-0.500000', 'hist-18-088f-breast.nii.gz-0.500000', 'hist-19-088f-breast.nii.gz-0.500000'] \n",
      "Score: -0.8691153442723776\n"
     ]
    },
    {
     "name": "stderr",
     "output_type": "stream",
     "text": [
      "200it [00:00, 565.83it/s]\n"
     ]
    },
    {
     "name": "stdout",
     "output_type": "stream",
     "text": [
      "1\n",
      "1 0.8703948113854088\n",
      "Objective PLSRegression_Objective:\n"
     ]
    },
    {
     "name": "stderr",
     "output_type": "stream",
     "text": [
      "  6%|█████████████████                                                                                                                                                                                                                                                                 | 499/8000 [00:00<00:08, 930.85it/s]\n"
     ]
    },
    {
     "name": "stdout",
     "output_type": "stream",
     "text": [
      "iterations: 499\n",
      "Number of used features: 26\n",
      "Used features: ['num-088f-breast.nii.gz-0.500000', 'sum-088f-breast.nii.gz-0.500000', 'mean-088f-breast.nii.gz-0.500000', 'std-088f-breast.nii.gz-0.500000', 'skew-088f-breast.nii.gz-0.500000', 'kurt-088f-breast.nii.gz-0.500000', 'hist-0-088f-breast.nii.gz-0.500000', 'hist-1-088f-breast.nii.gz-0.500000', 'hist-2-088f-breast.nii.gz-0.500000', 'hist-3-088f-breast.nii.gz-0.500000', 'hist-4-088f-breast.nii.gz-0.500000', 'hist-5-088f-breast.nii.gz-0.500000', 'hist-6-088f-breast.nii.gz-0.500000', 'hist-7-088f-breast.nii.gz-0.500000', 'hist-8-088f-breast.nii.gz-0.500000', 'hist-9-088f-breast.nii.gz-0.500000', 'hist-10-088f-breast.nii.gz-0.500000', 'hist-11-088f-breast.nii.gz-0.500000', 'hist-12-088f-breast.nii.gz-0.500000', 'hist-13-088f-breast.nii.gz-0.500000', 'hist-14-088f-breast.nii.gz-0.500000', 'hist-15-088f-breast.nii.gz-0.500000', 'hist-16-088f-breast.nii.gz-0.500000', 'hist-17-088f-breast.nii.gz-0.500000', 'hist-18-088f-breast.nii.gz-0.500000', 'hist-19-088f-breast.nii.gz-0.500000'] \n",
      "Score: -0.881042889199541\n"
     ]
    },
    {
     "name": "stderr",
     "output_type": "stream",
     "text": [
      "200it [00:00, 552.48it/s]\n"
     ]
    },
    {
     "name": "stdout",
     "output_type": "stream",
     "text": [
      "1\n",
      "1 0.8810201238754676\n",
      "Objective KNNR_Objective:\n"
     ]
    },
    {
     "name": "stderr",
     "output_type": "stream",
     "text": [
      "  9%|████████████████████████▊                                                                                                                                                                                                                                                          | 720/8000 [00:18<03:03, 39.60it/s]\n"
     ]
    },
    {
     "name": "stdout",
     "output_type": "stream",
     "text": [
      "iterations: 720\n",
      "Number of used features: 26\n",
      "Used features: ['num-088k-breast.nii.gz-0.500000', 'sum-088k-breast.nii.gz-0.500000', 'mean-088k-breast.nii.gz-0.500000', 'std-088k-breast.nii.gz-0.500000', 'skew-088k-breast.nii.gz-0.500000', 'kurt-088k-breast.nii.gz-0.500000', 'hist-0-088k-breast.nii.gz-0.500000', 'hist-1-088k-breast.nii.gz-0.500000', 'hist-2-088k-breast.nii.gz-0.500000', 'hist-3-088k-breast.nii.gz-0.500000', 'hist-4-088k-breast.nii.gz-0.500000', 'hist-5-088k-breast.nii.gz-0.500000', 'hist-6-088k-breast.nii.gz-0.500000', 'hist-7-088k-breast.nii.gz-0.500000', 'hist-8-088k-breast.nii.gz-0.500000', 'hist-9-088k-breast.nii.gz-0.500000', 'hist-10-088k-breast.nii.gz-0.500000', 'hist-11-088k-breast.nii.gz-0.500000', 'hist-12-088k-breast.nii.gz-0.500000', 'hist-13-088k-breast.nii.gz-0.500000', 'hist-14-088k-breast.nii.gz-0.500000', 'hist-15-088k-breast.nii.gz-0.500000', 'hist-16-088k-breast.nii.gz-0.500000', 'hist-17-088k-breast.nii.gz-0.500000', 'hist-18-088k-breast.nii.gz-0.500000', 'hist-19-088k-breast.nii.gz-0.500000'] \n",
      "Score: -0.6710309563940491\n"
     ]
    },
    {
     "name": "stderr",
     "output_type": "stream",
     "text": [
      "200it [00:00, 651.68it/s]\n"
     ]
    },
    {
     "name": "stdout",
     "output_type": "stream",
     "text": [
      "1\n",
      "1 0.6764913137755193\n",
      "Objective LinearRegression_Objective:\n"
     ]
    },
    {
     "name": "stderr",
     "output_type": "stream",
     "text": [
      "  6%|█████████████████                                                                                                                                                                                                                                                                | 499/8000 [00:00<00:02, 3009.28it/s]\n"
     ]
    },
    {
     "name": "stdout",
     "output_type": "stream",
     "text": [
      "iterations: 499\n",
      "Number of used features: 26\n",
      "Used features: ['num-088k-breast.nii.gz-0.500000', 'sum-088k-breast.nii.gz-0.500000', 'mean-088k-breast.nii.gz-0.500000', 'std-088k-breast.nii.gz-0.500000', 'skew-088k-breast.nii.gz-0.500000', 'kurt-088k-breast.nii.gz-0.500000', 'hist-0-088k-breast.nii.gz-0.500000', 'hist-1-088k-breast.nii.gz-0.500000', 'hist-2-088k-breast.nii.gz-0.500000', 'hist-3-088k-breast.nii.gz-0.500000', 'hist-4-088k-breast.nii.gz-0.500000', 'hist-5-088k-breast.nii.gz-0.500000', 'hist-6-088k-breast.nii.gz-0.500000', 'hist-7-088k-breast.nii.gz-0.500000', 'hist-8-088k-breast.nii.gz-0.500000', 'hist-9-088k-breast.nii.gz-0.500000', 'hist-10-088k-breast.nii.gz-0.500000', 'hist-11-088k-breast.nii.gz-0.500000', 'hist-12-088k-breast.nii.gz-0.500000', 'hist-13-088k-breast.nii.gz-0.500000', 'hist-14-088k-breast.nii.gz-0.500000', 'hist-15-088k-breast.nii.gz-0.500000', 'hist-16-088k-breast.nii.gz-0.500000', 'hist-17-088k-breast.nii.gz-0.500000', 'hist-18-088k-breast.nii.gz-0.500000', 'hist-19-088k-breast.nii.gz-0.500000'] \n",
      "Score: -0.7183213913697435\n"
     ]
    },
    {
     "name": "stderr",
     "output_type": "stream",
     "text": [
      "200it [00:00, 707.82it/s]\n"
     ]
    },
    {
     "name": "stdout",
     "output_type": "stream",
     "text": [
      "1\n",
      "1 0.7579588818389339\n",
      "Objective LassoRegression_Objective:\n"
     ]
    },
    {
     "name": "stderr",
     "output_type": "stream",
     "text": [
      "  6%|█████████████████▎                                                                                                                                                                                                                                                                | 505/8000 [00:02<00:33, 226.58it/s]\n"
     ]
    },
    {
     "name": "stdout",
     "output_type": "stream",
     "text": [
      "iterations: 505\n",
      "Number of used features: 26\n",
      "Used features: ['num-088k-breast.nii.gz-0.500000', 'sum-088k-breast.nii.gz-0.500000', 'mean-088k-breast.nii.gz-0.500000', 'std-088k-breast.nii.gz-0.500000', 'skew-088k-breast.nii.gz-0.500000', 'kurt-088k-breast.nii.gz-0.500000', 'hist-0-088k-breast.nii.gz-0.500000', 'hist-1-088k-breast.nii.gz-0.500000', 'hist-2-088k-breast.nii.gz-0.500000', 'hist-3-088k-breast.nii.gz-0.500000', 'hist-4-088k-breast.nii.gz-0.500000', 'hist-5-088k-breast.nii.gz-0.500000', 'hist-6-088k-breast.nii.gz-0.500000', 'hist-7-088k-breast.nii.gz-0.500000', 'hist-8-088k-breast.nii.gz-0.500000', 'hist-9-088k-breast.nii.gz-0.500000', 'hist-10-088k-breast.nii.gz-0.500000', 'hist-11-088k-breast.nii.gz-0.500000', 'hist-12-088k-breast.nii.gz-0.500000', 'hist-13-088k-breast.nii.gz-0.500000', 'hist-14-088k-breast.nii.gz-0.500000', 'hist-15-088k-breast.nii.gz-0.500000', 'hist-16-088k-breast.nii.gz-0.500000', 'hist-17-088k-breast.nii.gz-0.500000', 'hist-18-088k-breast.nii.gz-0.500000', 'hist-19-088k-breast.nii.gz-0.500000'] \n",
      "Score: -0.8759522541365333\n"
     ]
    },
    {
     "name": "stderr",
     "output_type": "stream",
     "text": [
      "200it [00:00, 469.84it/s]\n"
     ]
    },
    {
     "name": "stdout",
     "output_type": "stream",
     "text": [
      "1\n",
      "1 0.8794320228098689\n",
      "Objective RidgeRegression_Objective:\n"
     ]
    },
    {
     "name": "stderr",
     "output_type": "stream",
     "text": [
      "  6%|█████████████████▏                                                                                                                                                                                                                                                                | 500/8000 [00:01<00:24, 308.37it/s]\n"
     ]
    },
    {
     "name": "stdout",
     "output_type": "stream",
     "text": [
      "iterations: 500\n",
      "Number of used features: 26\n",
      "Used features: ['num-088k-breast.nii.gz-0.500000', 'sum-088k-breast.nii.gz-0.500000', 'mean-088k-breast.nii.gz-0.500000', 'std-088k-breast.nii.gz-0.500000', 'skew-088k-breast.nii.gz-0.500000', 'kurt-088k-breast.nii.gz-0.500000', 'hist-0-088k-breast.nii.gz-0.500000', 'hist-1-088k-breast.nii.gz-0.500000', 'hist-2-088k-breast.nii.gz-0.500000', 'hist-3-088k-breast.nii.gz-0.500000', 'hist-4-088k-breast.nii.gz-0.500000', 'hist-5-088k-breast.nii.gz-0.500000', 'hist-6-088k-breast.nii.gz-0.500000', 'hist-7-088k-breast.nii.gz-0.500000', 'hist-8-088k-breast.nii.gz-0.500000', 'hist-9-088k-breast.nii.gz-0.500000', 'hist-10-088k-breast.nii.gz-0.500000', 'hist-11-088k-breast.nii.gz-0.500000', 'hist-12-088k-breast.nii.gz-0.500000', 'hist-13-088k-breast.nii.gz-0.500000', 'hist-14-088k-breast.nii.gz-0.500000', 'hist-15-088k-breast.nii.gz-0.500000', 'hist-16-088k-breast.nii.gz-0.500000', 'hist-17-088k-breast.nii.gz-0.500000', 'hist-18-088k-breast.nii.gz-0.500000', 'hist-19-088k-breast.nii.gz-0.500000'] \n",
      "Score: -0.8796799477923892\n"
     ]
    },
    {
     "name": "stderr",
     "output_type": "stream",
     "text": [
      "200it [00:00, 569.55it/s]\n"
     ]
    },
    {
     "name": "stdout",
     "output_type": "stream",
     "text": [
      "1\n",
      "1 0.88408561224982\n",
      "Objective PLSRegression_Objective:\n"
     ]
    },
    {
     "name": "stderr",
     "output_type": "stream",
     "text": [
      "  6%|█████████████████                                                                                                                                                                                                                                                                 | 499/8000 [00:00<00:07, 951.71it/s]\n"
     ]
    },
    {
     "name": "stdout",
     "output_type": "stream",
     "text": [
      "iterations: 499\n",
      "Number of used features: 26\n",
      "Used features: ['num-088k-breast.nii.gz-0.500000', 'sum-088k-breast.nii.gz-0.500000', 'mean-088k-breast.nii.gz-0.500000', 'std-088k-breast.nii.gz-0.500000', 'skew-088k-breast.nii.gz-0.500000', 'kurt-088k-breast.nii.gz-0.500000', 'hist-0-088k-breast.nii.gz-0.500000', 'hist-1-088k-breast.nii.gz-0.500000', 'hist-2-088k-breast.nii.gz-0.500000', 'hist-3-088k-breast.nii.gz-0.500000', 'hist-4-088k-breast.nii.gz-0.500000', 'hist-5-088k-breast.nii.gz-0.500000', 'hist-6-088k-breast.nii.gz-0.500000', 'hist-7-088k-breast.nii.gz-0.500000', 'hist-8-088k-breast.nii.gz-0.500000', 'hist-9-088k-breast.nii.gz-0.500000', 'hist-10-088k-breast.nii.gz-0.500000', 'hist-11-088k-breast.nii.gz-0.500000', 'hist-12-088k-breast.nii.gz-0.500000', 'hist-13-088k-breast.nii.gz-0.500000', 'hist-14-088k-breast.nii.gz-0.500000', 'hist-15-088k-breast.nii.gz-0.500000', 'hist-16-088k-breast.nii.gz-0.500000', 'hist-17-088k-breast.nii.gz-0.500000', 'hist-18-088k-breast.nii.gz-0.500000', 'hist-19-088k-breast.nii.gz-0.500000'] \n",
      "Score: -0.8801897916918198\n"
     ]
    },
    {
     "name": "stderr",
     "output_type": "stream",
     "text": [
      "200it [00:00, 563.68it/s]\n"
     ]
    },
    {
     "name": "stdout",
     "output_type": "stream",
     "text": [
      "1\n",
      "1 0.8865565528431256\n",
      "Objective KNNR_Objective:\n"
     ]
    },
    {
     "name": "stderr",
     "output_type": "stream",
     "text": [
      " 14%|██████████████████████████████████████                                                                                                                                                                                                                                            | 1113/8000 [00:22<02:18, 49.63it/s]\n"
     ]
    },
    {
     "name": "stdout",
     "output_type": "stream",
     "text": [
      "iterations: 1113\n",
      "Number of used features: 26\n",
      "Used features: ['num-090a-breast.nii.gz-0.500000', 'sum-090a-breast.nii.gz-0.500000', 'mean-090a-breast.nii.gz-0.500000', 'std-090a-breast.nii.gz-0.500000', 'skew-090a-breast.nii.gz-0.500000', 'kurt-090a-breast.nii.gz-0.500000', 'hist-0-090a-breast.nii.gz-0.500000', 'hist-1-090a-breast.nii.gz-0.500000', 'hist-2-090a-breast.nii.gz-0.500000', 'hist-3-090a-breast.nii.gz-0.500000', 'hist-4-090a-breast.nii.gz-0.500000', 'hist-5-090a-breast.nii.gz-0.500000', 'hist-6-090a-breast.nii.gz-0.500000', 'hist-7-090a-breast.nii.gz-0.500000', 'hist-8-090a-breast.nii.gz-0.500000', 'hist-9-090a-breast.nii.gz-0.500000', 'hist-10-090a-breast.nii.gz-0.500000', 'hist-11-090a-breast.nii.gz-0.500000', 'hist-12-090a-breast.nii.gz-0.500000', 'hist-13-090a-breast.nii.gz-0.500000', 'hist-14-090a-breast.nii.gz-0.500000', 'hist-15-090a-breast.nii.gz-0.500000', 'hist-16-090a-breast.nii.gz-0.500000', 'hist-17-090a-breast.nii.gz-0.500000', 'hist-18-090a-breast.nii.gz-0.500000', 'hist-19-090a-breast.nii.gz-0.500000'] \n",
      "Score: -0.6079881117164708\n"
     ]
    },
    {
     "name": "stderr",
     "output_type": "stream",
     "text": [
      "200it [00:00, 708.09it/s]\n"
     ]
    },
    {
     "name": "stdout",
     "output_type": "stream",
     "text": [
      "1\n",
      "1 0.5895821601237814\n",
      "Objective LinearRegression_Objective:\n"
     ]
    },
    {
     "name": "stderr",
     "output_type": "stream",
     "text": [
      "  6%|█████████████████                                                                                                                                                                                                                                                                | 499/8000 [00:00<00:02, 2942.16it/s]\n"
     ]
    },
    {
     "name": "stdout",
     "output_type": "stream",
     "text": [
      "iterations: 499\n",
      "Number of used features: 26\n",
      "Used features: ['num-090a-breast.nii.gz-0.500000', 'sum-090a-breast.nii.gz-0.500000', 'mean-090a-breast.nii.gz-0.500000', 'std-090a-breast.nii.gz-0.500000', 'skew-090a-breast.nii.gz-0.500000', 'kurt-090a-breast.nii.gz-0.500000', 'hist-0-090a-breast.nii.gz-0.500000', 'hist-1-090a-breast.nii.gz-0.500000', 'hist-2-090a-breast.nii.gz-0.500000', 'hist-3-090a-breast.nii.gz-0.500000', 'hist-4-090a-breast.nii.gz-0.500000', 'hist-5-090a-breast.nii.gz-0.500000', 'hist-6-090a-breast.nii.gz-0.500000', 'hist-7-090a-breast.nii.gz-0.500000', 'hist-8-090a-breast.nii.gz-0.500000', 'hist-9-090a-breast.nii.gz-0.500000', 'hist-10-090a-breast.nii.gz-0.500000', 'hist-11-090a-breast.nii.gz-0.500000', 'hist-12-090a-breast.nii.gz-0.500000', 'hist-13-090a-breast.nii.gz-0.500000', 'hist-14-090a-breast.nii.gz-0.500000', 'hist-15-090a-breast.nii.gz-0.500000', 'hist-16-090a-breast.nii.gz-0.500000', 'hist-17-090a-breast.nii.gz-0.500000', 'hist-18-090a-breast.nii.gz-0.500000', 'hist-19-090a-breast.nii.gz-0.500000'] \n",
      "Score: -0.7071807213304984\n"
     ]
    },
    {
     "name": "stderr",
     "output_type": "stream",
     "text": [
      "200it [00:00, 708.45it/s]\n"
     ]
    },
    {
     "name": "stdout",
     "output_type": "stream",
     "text": [
      "1\n",
      "1 0.7717684737573395\n",
      "Objective LassoRegression_Objective:\n"
     ]
    },
    {
     "name": "stderr",
     "output_type": "stream",
     "text": [
      "  6%|█████████████████▍                                                                                                                                                                                                                                                                | 508/8000 [00:02<00:33, 224.32it/s]\n"
     ]
    },
    {
     "name": "stdout",
     "output_type": "stream",
     "text": [
      "iterations: 508\n",
      "Number of used features: 26\n",
      "Used features: ['num-090a-breast.nii.gz-0.500000', 'sum-090a-breast.nii.gz-0.500000', 'mean-090a-breast.nii.gz-0.500000', 'std-090a-breast.nii.gz-0.500000', 'skew-090a-breast.nii.gz-0.500000', 'kurt-090a-breast.nii.gz-0.500000', 'hist-0-090a-breast.nii.gz-0.500000', 'hist-1-090a-breast.nii.gz-0.500000', 'hist-2-090a-breast.nii.gz-0.500000', 'hist-3-090a-breast.nii.gz-0.500000', 'hist-4-090a-breast.nii.gz-0.500000', 'hist-5-090a-breast.nii.gz-0.500000', 'hist-6-090a-breast.nii.gz-0.500000', 'hist-7-090a-breast.nii.gz-0.500000', 'hist-8-090a-breast.nii.gz-0.500000', 'hist-9-090a-breast.nii.gz-0.500000', 'hist-10-090a-breast.nii.gz-0.500000', 'hist-11-090a-breast.nii.gz-0.500000', 'hist-12-090a-breast.nii.gz-0.500000', 'hist-13-090a-breast.nii.gz-0.500000', 'hist-14-090a-breast.nii.gz-0.500000', 'hist-15-090a-breast.nii.gz-0.500000', 'hist-16-090a-breast.nii.gz-0.500000', 'hist-17-090a-breast.nii.gz-0.500000', 'hist-18-090a-breast.nii.gz-0.500000', 'hist-19-090a-breast.nii.gz-0.500000'] \n",
      "Score: -0.8497935310092642\n"
     ]
    },
    {
     "name": "stderr",
     "output_type": "stream",
     "text": [
      "200it [00:00, 505.40it/s]\n"
     ]
    },
    {
     "name": "stdout",
     "output_type": "stream",
     "text": [
      "1\n",
      "1 0.8513926429242741\n",
      "Objective RidgeRegression_Objective:\n"
     ]
    },
    {
     "name": "stderr",
     "output_type": "stream",
     "text": [
      "  6%|█████████████████                                                                                                                                                                                                                                                                 | 499/8000 [00:01<00:24, 305.70it/s]\n"
     ]
    },
    {
     "name": "stdout",
     "output_type": "stream",
     "text": [
      "iterations: 499\n",
      "Number of used features: 26\n",
      "Used features: ['num-090a-breast.nii.gz-0.500000', 'sum-090a-breast.nii.gz-0.500000', 'mean-090a-breast.nii.gz-0.500000', 'std-090a-breast.nii.gz-0.500000', 'skew-090a-breast.nii.gz-0.500000', 'kurt-090a-breast.nii.gz-0.500000', 'hist-0-090a-breast.nii.gz-0.500000', 'hist-1-090a-breast.nii.gz-0.500000', 'hist-2-090a-breast.nii.gz-0.500000', 'hist-3-090a-breast.nii.gz-0.500000', 'hist-4-090a-breast.nii.gz-0.500000', 'hist-5-090a-breast.nii.gz-0.500000', 'hist-6-090a-breast.nii.gz-0.500000', 'hist-7-090a-breast.nii.gz-0.500000', 'hist-8-090a-breast.nii.gz-0.500000', 'hist-9-090a-breast.nii.gz-0.500000', 'hist-10-090a-breast.nii.gz-0.500000', 'hist-11-090a-breast.nii.gz-0.500000', 'hist-12-090a-breast.nii.gz-0.500000', 'hist-13-090a-breast.nii.gz-0.500000', 'hist-14-090a-breast.nii.gz-0.500000', 'hist-15-090a-breast.nii.gz-0.500000', 'hist-16-090a-breast.nii.gz-0.500000', 'hist-17-090a-breast.nii.gz-0.500000', 'hist-18-090a-breast.nii.gz-0.500000', 'hist-19-090a-breast.nii.gz-0.500000'] \n",
      "Score: -0.8639903836583848\n"
     ]
    },
    {
     "name": "stderr",
     "output_type": "stream",
     "text": [
      "200it [00:00, 562.85it/s]\n"
     ]
    },
    {
     "name": "stdout",
     "output_type": "stream",
     "text": [
      "1\n",
      "1 0.8664172823050482\n",
      "Objective PLSRegression_Objective:\n"
     ]
    },
    {
     "name": "stderr",
     "output_type": "stream",
     "text": [
      "  6%|█████████████████▎                                                                                                                                                                                                                                                                | 507/8000 [00:00<00:07, 956.04it/s]\n"
     ]
    },
    {
     "name": "stdout",
     "output_type": "stream",
     "text": [
      "iterations: 507\n",
      "Number of used features: 26\n",
      "Used features: ['num-090a-breast.nii.gz-0.500000', 'sum-090a-breast.nii.gz-0.500000', 'mean-090a-breast.nii.gz-0.500000', 'std-090a-breast.nii.gz-0.500000', 'skew-090a-breast.nii.gz-0.500000', 'kurt-090a-breast.nii.gz-0.500000', 'hist-0-090a-breast.nii.gz-0.500000', 'hist-1-090a-breast.nii.gz-0.500000', 'hist-2-090a-breast.nii.gz-0.500000', 'hist-3-090a-breast.nii.gz-0.500000', 'hist-4-090a-breast.nii.gz-0.500000', 'hist-5-090a-breast.nii.gz-0.500000', 'hist-6-090a-breast.nii.gz-0.500000', 'hist-7-090a-breast.nii.gz-0.500000', 'hist-8-090a-breast.nii.gz-0.500000', 'hist-9-090a-breast.nii.gz-0.500000', 'hist-10-090a-breast.nii.gz-0.500000', 'hist-11-090a-breast.nii.gz-0.500000', 'hist-12-090a-breast.nii.gz-0.500000', 'hist-13-090a-breast.nii.gz-0.500000', 'hist-14-090a-breast.nii.gz-0.500000', 'hist-15-090a-breast.nii.gz-0.500000', 'hist-16-090a-breast.nii.gz-0.500000', 'hist-17-090a-breast.nii.gz-0.500000', 'hist-18-090a-breast.nii.gz-0.500000', 'hist-19-090a-breast.nii.gz-0.500000'] \n",
      "Score: -0.8613834918785954\n"
     ]
    },
    {
     "name": "stderr",
     "output_type": "stream",
     "text": [
      "200it [00:00, 585.58it/s]\n"
     ]
    },
    {
     "name": "stdout",
     "output_type": "stream",
     "text": [
      "1\n",
      "1 0.8643874328406949\n",
      "Objective KNNR_Objective:\n"
     ]
    },
    {
     "name": "stderr",
     "output_type": "stream",
     "text": [
      "  7%|████████████████████▏                                                                                                                                                                                                                                                              | 588/8000 [00:18<03:50, 32.21it/s]\n"
     ]
    },
    {
     "name": "stdout",
     "output_type": "stream",
     "text": [
      "iterations: 588\n",
      "Number of used features: 26\n",
      "Used features: ['num-091f-breast.nii.gz-0.500000', 'sum-091f-breast.nii.gz-0.500000', 'mean-091f-breast.nii.gz-0.500000', 'std-091f-breast.nii.gz-0.500000', 'skew-091f-breast.nii.gz-0.500000', 'kurt-091f-breast.nii.gz-0.500000', 'hist-0-091f-breast.nii.gz-0.500000', 'hist-1-091f-breast.nii.gz-0.500000', 'hist-2-091f-breast.nii.gz-0.500000', 'hist-3-091f-breast.nii.gz-0.500000', 'hist-4-091f-breast.nii.gz-0.500000', 'hist-5-091f-breast.nii.gz-0.500000', 'hist-6-091f-breast.nii.gz-0.500000', 'hist-7-091f-breast.nii.gz-0.500000', 'hist-8-091f-breast.nii.gz-0.500000', 'hist-9-091f-breast.nii.gz-0.500000', 'hist-10-091f-breast.nii.gz-0.500000', 'hist-11-091f-breast.nii.gz-0.500000', 'hist-12-091f-breast.nii.gz-0.500000', 'hist-13-091f-breast.nii.gz-0.500000', 'hist-14-091f-breast.nii.gz-0.500000', 'hist-15-091f-breast.nii.gz-0.500000', 'hist-16-091f-breast.nii.gz-0.500000', 'hist-17-091f-breast.nii.gz-0.500000', 'hist-18-091f-breast.nii.gz-0.500000', 'hist-19-091f-breast.nii.gz-0.500000'] \n",
      "Score: -0.5973497158769265\n"
     ]
    },
    {
     "name": "stderr",
     "output_type": "stream",
     "text": [
      "200it [00:00, 776.30it/s]\n"
     ]
    },
    {
     "name": "stdout",
     "output_type": "stream",
     "text": [
      "1\n",
      "1 0.618925020963491\n",
      "Objective LinearRegression_Objective:\n"
     ]
    },
    {
     "name": "stderr",
     "output_type": "stream",
     "text": [
      "  6%|█████████████████                                                                                                                                                                                                                                                                | 499/8000 [00:00<00:02, 3149.96it/s]\n"
     ]
    },
    {
     "name": "stdout",
     "output_type": "stream",
     "text": [
      "iterations: 499\n",
      "Number of used features: 26\n",
      "Used features: ['num-091f-breast.nii.gz-0.500000', 'sum-091f-breast.nii.gz-0.500000', 'mean-091f-breast.nii.gz-0.500000', 'std-091f-breast.nii.gz-0.500000', 'skew-091f-breast.nii.gz-0.500000', 'kurt-091f-breast.nii.gz-0.500000', 'hist-0-091f-breast.nii.gz-0.500000', 'hist-1-091f-breast.nii.gz-0.500000', 'hist-2-091f-breast.nii.gz-0.500000', 'hist-3-091f-breast.nii.gz-0.500000', 'hist-4-091f-breast.nii.gz-0.500000', 'hist-5-091f-breast.nii.gz-0.500000', 'hist-6-091f-breast.nii.gz-0.500000', 'hist-7-091f-breast.nii.gz-0.500000', 'hist-8-091f-breast.nii.gz-0.500000', 'hist-9-091f-breast.nii.gz-0.500000', 'hist-10-091f-breast.nii.gz-0.500000', 'hist-11-091f-breast.nii.gz-0.500000', 'hist-12-091f-breast.nii.gz-0.500000', 'hist-13-091f-breast.nii.gz-0.500000', 'hist-14-091f-breast.nii.gz-0.500000', 'hist-15-091f-breast.nii.gz-0.500000', 'hist-16-091f-breast.nii.gz-0.500000', 'hist-17-091f-breast.nii.gz-0.500000', 'hist-18-091f-breast.nii.gz-0.500000', 'hist-19-091f-breast.nii.gz-0.500000'] \n",
      "Score: -0.6010001553724011\n"
     ]
    },
    {
     "name": "stderr",
     "output_type": "stream",
     "text": [
      "200it [00:00, 740.71it/s]\n"
     ]
    },
    {
     "name": "stdout",
     "output_type": "stream",
     "text": [
      "1\n",
      "1 0.721410862558836\n",
      "Objective LassoRegression_Objective:\n"
     ]
    },
    {
     "name": "stderr",
     "output_type": "stream",
     "text": [
      "  6%|█████████████████▏                                                                                                                                                                                                                                                                | 500/8000 [00:02<00:31, 238.25it/s]\n"
     ]
    },
    {
     "name": "stdout",
     "output_type": "stream",
     "text": [
      "iterations: 500\n",
      "Number of used features: 26\n",
      "Used features: ['num-091f-breast.nii.gz-0.500000', 'sum-091f-breast.nii.gz-0.500000', 'mean-091f-breast.nii.gz-0.500000', 'std-091f-breast.nii.gz-0.500000', 'skew-091f-breast.nii.gz-0.500000', 'kurt-091f-breast.nii.gz-0.500000', 'hist-0-091f-breast.nii.gz-0.500000', 'hist-1-091f-breast.nii.gz-0.500000', 'hist-2-091f-breast.nii.gz-0.500000', 'hist-3-091f-breast.nii.gz-0.500000', 'hist-4-091f-breast.nii.gz-0.500000', 'hist-5-091f-breast.nii.gz-0.500000', 'hist-6-091f-breast.nii.gz-0.500000', 'hist-7-091f-breast.nii.gz-0.500000', 'hist-8-091f-breast.nii.gz-0.500000', 'hist-9-091f-breast.nii.gz-0.500000', 'hist-10-091f-breast.nii.gz-0.500000', 'hist-11-091f-breast.nii.gz-0.500000', 'hist-12-091f-breast.nii.gz-0.500000', 'hist-13-091f-breast.nii.gz-0.500000', 'hist-14-091f-breast.nii.gz-0.500000', 'hist-15-091f-breast.nii.gz-0.500000', 'hist-16-091f-breast.nii.gz-0.500000', 'hist-17-091f-breast.nii.gz-0.500000', 'hist-18-091f-breast.nii.gz-0.500000', 'hist-19-091f-breast.nii.gz-0.500000'] \n",
      "Score: -0.8468576909399055\n"
     ]
    },
    {
     "name": "stderr",
     "output_type": "stream",
     "text": [
      "200it [00:00, 541.44it/s]\n"
     ]
    },
    {
     "name": "stdout",
     "output_type": "stream",
     "text": [
      "1\n",
      "1 0.8510607608295183\n",
      "Objective RidgeRegression_Objective:\n"
     ]
    },
    {
     "name": "stderr",
     "output_type": "stream",
     "text": [
      "  6%|█████████████████                                                                                                                                                                                                                                                                 | 499/8000 [00:01<00:23, 319.94it/s]\n"
     ]
    },
    {
     "name": "stdout",
     "output_type": "stream",
     "text": [
      "iterations: 499\n",
      "Number of used features: 26\n",
      "Used features: ['num-091f-breast.nii.gz-0.500000', 'sum-091f-breast.nii.gz-0.500000', 'mean-091f-breast.nii.gz-0.500000', 'std-091f-breast.nii.gz-0.500000', 'skew-091f-breast.nii.gz-0.500000', 'kurt-091f-breast.nii.gz-0.500000', 'hist-0-091f-breast.nii.gz-0.500000', 'hist-1-091f-breast.nii.gz-0.500000', 'hist-2-091f-breast.nii.gz-0.500000', 'hist-3-091f-breast.nii.gz-0.500000', 'hist-4-091f-breast.nii.gz-0.500000', 'hist-5-091f-breast.nii.gz-0.500000', 'hist-6-091f-breast.nii.gz-0.500000', 'hist-7-091f-breast.nii.gz-0.500000', 'hist-8-091f-breast.nii.gz-0.500000', 'hist-9-091f-breast.nii.gz-0.500000', 'hist-10-091f-breast.nii.gz-0.500000', 'hist-11-091f-breast.nii.gz-0.500000', 'hist-12-091f-breast.nii.gz-0.500000', 'hist-13-091f-breast.nii.gz-0.500000', 'hist-14-091f-breast.nii.gz-0.500000', 'hist-15-091f-breast.nii.gz-0.500000', 'hist-16-091f-breast.nii.gz-0.500000', 'hist-17-091f-breast.nii.gz-0.500000', 'hist-18-091f-breast.nii.gz-0.500000', 'hist-19-091f-breast.nii.gz-0.500000'] \n",
      "Score: -0.860443223171822\n"
     ]
    },
    {
     "name": "stderr",
     "output_type": "stream",
     "text": [
      "200it [00:00, 584.93it/s]\n"
     ]
    },
    {
     "name": "stdout",
     "output_type": "stream",
     "text": [
      "1\n",
      "1 0.8629982136994278\n",
      "Objective PLSRegression_Objective:\n"
     ]
    },
    {
     "name": "stderr",
     "output_type": "stream",
     "text": [
      "  6%|█████████████████▎                                                                                                                                                                                                                                                                | 507/8000 [00:00<00:07, 997.15it/s]\n"
     ]
    },
    {
     "name": "stdout",
     "output_type": "stream",
     "text": [
      "iterations: 507\n",
      "Number of used features: 26\n",
      "Used features: ['num-091f-breast.nii.gz-0.500000', 'sum-091f-breast.nii.gz-0.500000', 'mean-091f-breast.nii.gz-0.500000', 'std-091f-breast.nii.gz-0.500000', 'skew-091f-breast.nii.gz-0.500000', 'kurt-091f-breast.nii.gz-0.500000', 'hist-0-091f-breast.nii.gz-0.500000', 'hist-1-091f-breast.nii.gz-0.500000', 'hist-2-091f-breast.nii.gz-0.500000', 'hist-3-091f-breast.nii.gz-0.500000', 'hist-4-091f-breast.nii.gz-0.500000', 'hist-5-091f-breast.nii.gz-0.500000', 'hist-6-091f-breast.nii.gz-0.500000', 'hist-7-091f-breast.nii.gz-0.500000', 'hist-8-091f-breast.nii.gz-0.500000', 'hist-9-091f-breast.nii.gz-0.500000', 'hist-10-091f-breast.nii.gz-0.500000', 'hist-11-091f-breast.nii.gz-0.500000', 'hist-12-091f-breast.nii.gz-0.500000', 'hist-13-091f-breast.nii.gz-0.500000', 'hist-14-091f-breast.nii.gz-0.500000', 'hist-15-091f-breast.nii.gz-0.500000', 'hist-16-091f-breast.nii.gz-0.500000', 'hist-17-091f-breast.nii.gz-0.500000', 'hist-18-091f-breast.nii.gz-0.500000', 'hist-19-091f-breast.nii.gz-0.500000'] \n",
      "Score: -0.8557471763187622\n"
     ]
    },
    {
     "name": "stderr",
     "output_type": "stream",
     "text": [
      "200it [00:00, 610.72it/s]\n"
     ]
    },
    {
     "name": "stdout",
     "output_type": "stream",
     "text": [
      "1\n",
      "1 0.8599447613479035\n",
      "Objective KNNR_Objective:\n"
     ]
    },
    {
     "name": "stderr",
     "output_type": "stream",
     "text": [
      "  7%|██████████████████▏                                                                                                                                                                                                                                                                | 530/8000 [00:15<03:41, 33.68it/s]\n"
     ]
    },
    {
     "name": "stdout",
     "output_type": "stream",
     "text": [
      "iterations: 530\n",
      "Number of used features: 26\n",
      "Used features: ['num-092k-breast.nii.gz-0.500000', 'sum-092k-breast.nii.gz-0.500000', 'mean-092k-breast.nii.gz-0.500000', 'std-092k-breast.nii.gz-0.500000', 'skew-092k-breast.nii.gz-0.500000', 'kurt-092k-breast.nii.gz-0.500000', 'hist-0-092k-breast.nii.gz-0.500000', 'hist-1-092k-breast.nii.gz-0.500000', 'hist-2-092k-breast.nii.gz-0.500000', 'hist-3-092k-breast.nii.gz-0.500000', 'hist-4-092k-breast.nii.gz-0.500000', 'hist-5-092k-breast.nii.gz-0.500000', 'hist-6-092k-breast.nii.gz-0.500000', 'hist-7-092k-breast.nii.gz-0.500000', 'hist-8-092k-breast.nii.gz-0.500000', 'hist-9-092k-breast.nii.gz-0.500000', 'hist-10-092k-breast.nii.gz-0.500000', 'hist-11-092k-breast.nii.gz-0.500000', 'hist-12-092k-breast.nii.gz-0.500000', 'hist-13-092k-breast.nii.gz-0.500000', 'hist-14-092k-breast.nii.gz-0.500000', 'hist-15-092k-breast.nii.gz-0.500000', 'hist-16-092k-breast.nii.gz-0.500000', 'hist-17-092k-breast.nii.gz-0.500000', 'hist-18-092k-breast.nii.gz-0.500000', 'hist-19-092k-breast.nii.gz-0.500000'] \n",
      "Score: -0.5589781187819718\n"
     ]
    },
    {
     "name": "stderr",
     "output_type": "stream",
     "text": [
      "200it [00:00, 695.66it/s]\n"
     ]
    },
    {
     "name": "stdout",
     "output_type": "stream",
     "text": [
      "1\n",
      "1 0.5584210560787439\n",
      "Objective LinearRegression_Objective:\n"
     ]
    },
    {
     "name": "stderr",
     "output_type": "stream",
     "text": [
      "  6%|█████████████████                                                                                                                                                                                                                                                                | 499/8000 [00:00<00:02, 3109.29it/s]\n"
     ]
    },
    {
     "name": "stdout",
     "output_type": "stream",
     "text": [
      "iterations: 499\n",
      "Number of used features: 26\n",
      "Used features: ['num-092k-breast.nii.gz-0.500000', 'sum-092k-breast.nii.gz-0.500000', 'mean-092k-breast.nii.gz-0.500000', 'std-092k-breast.nii.gz-0.500000', 'skew-092k-breast.nii.gz-0.500000', 'kurt-092k-breast.nii.gz-0.500000', 'hist-0-092k-breast.nii.gz-0.500000', 'hist-1-092k-breast.nii.gz-0.500000', 'hist-2-092k-breast.nii.gz-0.500000', 'hist-3-092k-breast.nii.gz-0.500000', 'hist-4-092k-breast.nii.gz-0.500000', 'hist-5-092k-breast.nii.gz-0.500000', 'hist-6-092k-breast.nii.gz-0.500000', 'hist-7-092k-breast.nii.gz-0.500000', 'hist-8-092k-breast.nii.gz-0.500000', 'hist-9-092k-breast.nii.gz-0.500000', 'hist-10-092k-breast.nii.gz-0.500000', 'hist-11-092k-breast.nii.gz-0.500000', 'hist-12-092k-breast.nii.gz-0.500000', 'hist-13-092k-breast.nii.gz-0.500000', 'hist-14-092k-breast.nii.gz-0.500000', 'hist-15-092k-breast.nii.gz-0.500000', 'hist-16-092k-breast.nii.gz-0.500000', 'hist-17-092k-breast.nii.gz-0.500000', 'hist-18-092k-breast.nii.gz-0.500000', 'hist-19-092k-breast.nii.gz-0.500000'] \n",
      "Score: -0.5436748966463966\n"
     ]
    },
    {
     "name": "stderr",
     "output_type": "stream",
     "text": [
      "200it [00:00, 736.74it/s]\n"
     ]
    },
    {
     "name": "stdout",
     "output_type": "stream",
     "text": [
      "1\n",
      "1 0.6228152370795248\n",
      "Objective LassoRegression_Objective:\n"
     ]
    },
    {
     "name": "stderr",
     "output_type": "stream",
     "text": [
      "  6%|█████████████████▍                                                                                                                                                                                                                                                                | 508/8000 [00:02<00:32, 232.11it/s]\n"
     ]
    },
    {
     "name": "stdout",
     "output_type": "stream",
     "text": [
      "iterations: 508\n",
      "Number of used features: 26\n",
      "Used features: ['num-092k-breast.nii.gz-0.500000', 'sum-092k-breast.nii.gz-0.500000', 'mean-092k-breast.nii.gz-0.500000', 'std-092k-breast.nii.gz-0.500000', 'skew-092k-breast.nii.gz-0.500000', 'kurt-092k-breast.nii.gz-0.500000', 'hist-0-092k-breast.nii.gz-0.500000', 'hist-1-092k-breast.nii.gz-0.500000', 'hist-2-092k-breast.nii.gz-0.500000', 'hist-3-092k-breast.nii.gz-0.500000', 'hist-4-092k-breast.nii.gz-0.500000', 'hist-5-092k-breast.nii.gz-0.500000', 'hist-6-092k-breast.nii.gz-0.500000', 'hist-7-092k-breast.nii.gz-0.500000', 'hist-8-092k-breast.nii.gz-0.500000', 'hist-9-092k-breast.nii.gz-0.500000', 'hist-10-092k-breast.nii.gz-0.500000', 'hist-11-092k-breast.nii.gz-0.500000', 'hist-12-092k-breast.nii.gz-0.500000', 'hist-13-092k-breast.nii.gz-0.500000', 'hist-14-092k-breast.nii.gz-0.500000', 'hist-15-092k-breast.nii.gz-0.500000', 'hist-16-092k-breast.nii.gz-0.500000', 'hist-17-092k-breast.nii.gz-0.500000', 'hist-18-092k-breast.nii.gz-0.500000', 'hist-19-092k-breast.nii.gz-0.500000'] \n",
      "Score: -0.8549073215548414\n"
     ]
    },
    {
     "name": "stderr",
     "output_type": "stream",
     "text": [
      "200it [00:00, 513.44it/s]\n"
     ]
    },
    {
     "name": "stdout",
     "output_type": "stream",
     "text": [
      "1\n",
      "1 0.855117627390948\n",
      "Objective RidgeRegression_Objective:\n"
     ]
    },
    {
     "name": "stderr",
     "output_type": "stream",
     "text": [
      "  6%|█████████████████                                                                                                                                                                                                                                                                 | 499/8000 [00:01<00:23, 317.18it/s]\n"
     ]
    },
    {
     "name": "stdout",
     "output_type": "stream",
     "text": [
      "iterations: 499\n",
      "Number of used features: 26\n",
      "Used features: ['num-092k-breast.nii.gz-0.500000', 'sum-092k-breast.nii.gz-0.500000', 'mean-092k-breast.nii.gz-0.500000', 'std-092k-breast.nii.gz-0.500000', 'skew-092k-breast.nii.gz-0.500000', 'kurt-092k-breast.nii.gz-0.500000', 'hist-0-092k-breast.nii.gz-0.500000', 'hist-1-092k-breast.nii.gz-0.500000', 'hist-2-092k-breast.nii.gz-0.500000', 'hist-3-092k-breast.nii.gz-0.500000', 'hist-4-092k-breast.nii.gz-0.500000', 'hist-5-092k-breast.nii.gz-0.500000', 'hist-6-092k-breast.nii.gz-0.500000', 'hist-7-092k-breast.nii.gz-0.500000', 'hist-8-092k-breast.nii.gz-0.500000', 'hist-9-092k-breast.nii.gz-0.500000', 'hist-10-092k-breast.nii.gz-0.500000', 'hist-11-092k-breast.nii.gz-0.500000', 'hist-12-092k-breast.nii.gz-0.500000', 'hist-13-092k-breast.nii.gz-0.500000', 'hist-14-092k-breast.nii.gz-0.500000', 'hist-15-092k-breast.nii.gz-0.500000', 'hist-16-092k-breast.nii.gz-0.500000', 'hist-17-092k-breast.nii.gz-0.500000', 'hist-18-092k-breast.nii.gz-0.500000', 'hist-19-092k-breast.nii.gz-0.500000'] \n",
      "Score: -0.865984402725656\n"
     ]
    },
    {
     "name": "stderr",
     "output_type": "stream",
     "text": [
      "200it [00:00, 581.57it/s]\n"
     ]
    },
    {
     "name": "stdout",
     "output_type": "stream",
     "text": [
      "1\n",
      "1 0.865597736054329\n",
      "Objective PLSRegression_Objective:\n"
     ]
    },
    {
     "name": "stderr",
     "output_type": "stream",
     "text": [
      "  6%|█████████████████▎                                                                                                                                                                                                                                                                | 507/8000 [00:00<00:07, 988.19it/s]\n"
     ]
    },
    {
     "name": "stdout",
     "output_type": "stream",
     "text": [
      "iterations: 507\n",
      "Number of used features: 26\n",
      "Used features: ['num-092k-breast.nii.gz-0.500000', 'sum-092k-breast.nii.gz-0.500000', 'mean-092k-breast.nii.gz-0.500000', 'std-092k-breast.nii.gz-0.500000', 'skew-092k-breast.nii.gz-0.500000', 'kurt-092k-breast.nii.gz-0.500000', 'hist-0-092k-breast.nii.gz-0.500000', 'hist-1-092k-breast.nii.gz-0.500000', 'hist-2-092k-breast.nii.gz-0.500000', 'hist-3-092k-breast.nii.gz-0.500000', 'hist-4-092k-breast.nii.gz-0.500000', 'hist-5-092k-breast.nii.gz-0.500000', 'hist-6-092k-breast.nii.gz-0.500000', 'hist-7-092k-breast.nii.gz-0.500000', 'hist-8-092k-breast.nii.gz-0.500000', 'hist-9-092k-breast.nii.gz-0.500000', 'hist-10-092k-breast.nii.gz-0.500000', 'hist-11-092k-breast.nii.gz-0.500000', 'hist-12-092k-breast.nii.gz-0.500000', 'hist-13-092k-breast.nii.gz-0.500000', 'hist-14-092k-breast.nii.gz-0.500000', 'hist-15-092k-breast.nii.gz-0.500000', 'hist-16-092k-breast.nii.gz-0.500000', 'hist-17-092k-breast.nii.gz-0.500000', 'hist-18-092k-breast.nii.gz-0.500000', 'hist-19-092k-breast.nii.gz-0.500000'] \n",
      "Score: -0.8522794781901557\n"
     ]
    },
    {
     "name": "stderr",
     "output_type": "stream",
     "text": [
      "200it [00:00, 603.11it/s]"
     ]
    },
    {
     "name": "stdout",
     "output_type": "stream",
     "text": [
      "1\n",
      "1 0.850806980622591\n"
     ]
    },
    {
     "name": "stderr",
     "output_type": "stream",
     "text": [
      "\n"
     ]
    }
   ],
   "source": [
    "for m in masks:\n",
    "    results_no_fs.append(model_selection(breast_features[[c for c in breast_features.columns if m in c or c == 'type']], breast_target, dataset='breast', type=m, disable_feature_selection=True))"
   ]
  },
  {
   "cell_type": "markdown",
   "metadata": {},
   "source": [
    "### Saving the resulst"
   ]
  },
  {
   "cell_type": "code",
   "execution_count": 20,
   "metadata": {},
   "outputs": [],
   "source": [
    "results_no_fs= pd.concat(results_no_fs)\n",
    "results_no_fs.to_csv(os.path.join(path_prefix_results,'results_no_fs.csv'), index=False)\n",
    "pickle.dump(results_no_fs, open(os.path.join(path_prefix_results,'results_no_fs.pickle'), 'wb'))"
   ]
  }
 ],
 "metadata": {
  "kernelspec": {
   "display_name": "Python 3 (ipykernel)",
   "language": "python",
   "name": "python3"
  },
  "language_info": {
   "codemirror_mode": {
    "name": "ipython",
    "version": 3
   },
   "file_extension": ".py",
   "mimetype": "text/x-python",
   "name": "python",
   "nbconvert_exporter": "python",
   "pygments_lexer": "ipython3",
   "version": "3.10.13"
  }
 },
 "nbformat": 4,
 "nbformat_minor": 4
}
