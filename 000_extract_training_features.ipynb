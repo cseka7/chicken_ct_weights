{
 "cells": [
  {
   "cell_type": "markdown",
   "metadata": {},
   "source": [
    "# Segmentation by registration and feature extraction"
   ]
  },
  {
   "cell_type": "code",
   "execution_count": 1,
   "metadata": {},
   "outputs": [
    {
     "name": "stdout",
     "output_type": "stream",
     "text": [
      "Executables being used: /opt/elastix-5.1.0-linux/bin/elastix /opt/elastix-5.1.0-linux/bin/transformix\n"
     ]
    }
   ],
   "source": [
    "import glob\n",
    "import os\n",
    "import os.path\n",
    "import numpy as np\n",
    "import pandas as pd\n",
    "import maweight\n",
    "import pickle\n",
    "import logging\n",
    "import tqdm\n",
    "\n",
    "from config import manually_segmented_path, dissected_path\n",
    "from config import output_path, thigh_features_path, breast_features_path \n",
    "from config import save_registered_images\n",
    "from config import bin_width, bin_min, bin_max, threshold\n",
    "from config import tmp_path, elastix_params, threads\n",
    "\n",
    "image_format = \".\" + elastix_params['ResultImageFormat']\n",
    "\n",
    "import warnings\n",
    "warnings.filterwarnings('ignore')\n",
    "\n",
    "LIMIT=None\n",
    "\n",
    "# setting the logging format\n",
    "FORMAT = '%(asctime)-15s %(clientip)s %(user)-8s %(message)s'\n",
    "logging.basicConfig(format=FORMAT, level=logging.INFO)"
   ]
  },
  {
   "cell_type": "code",
   "execution_count": 2,
   "metadata": {},
   "outputs": [],
   "source": [
    "#delete all '_' character from filenames\n",
    "def rename_files(files):\n",
    "    new_files = [os.path.join(os.path.dirname(file), os.path.basename(file).replace(\"_\", \"\")) for file in files]\n",
    "    [os.rename(rfiles[0], rfiles[1]) for rfiles in zip(files, new_files)]\n",
    "    return new_files"
   ]
  },
  {
   "cell_type": "markdown",
   "metadata": {},
   "source": [
    "## Discovering files to process"
   ]
  },
  {
   "cell_type": "code",
   "execution_count": 3,
   "metadata": {},
   "outputs": [
    {
     "name": "stdout",
     "output_type": "stream",
     "text": [
      "Number of dissected images: 60\n",
      "Number of manually segmented images: 16\n",
      "Number of thigh masks: 16\n",
      "Number of breast masks: 16\n"
     ]
    }
   ],
   "source": [
    "manually_segmented_files = []\n",
    "manually_segmented_files += sorted(glob.glob(os.path.join(manually_segmented_path, '*.nii')))\n",
    "manually_segmented_files += sorted(glob.glob(os.path.join(manually_segmented_path, '*.nii.gz')))\n",
    "\n",
    "manually_segmented_files = rename_files(manually_segmented_files)\n",
    "\n",
    "manually_segmented_images= [f for f in manually_segmented_files if not 'breast' in \n",
    "                            f.split(os.sep)[-1] and not 'thigh' in f.split(os.sep)[-1]]\n",
    "manually_segmented_breast= [f for f in manually_segmented_files if 'breast' in f]\n",
    "manually_segmented_thighs= [f for f in manually_segmented_files if 'thigh' in f]\n",
    "\n",
    "dissected_images = []\n",
    "dissected_images = glob.glob(os.path.join(dissected_path, '*.nii'))\n",
    "dissected_images += glob.glob(os.path.join(dissected_path, '*.nii.gz'))\n",
    "dissected_images = sorted(dissected_images)\n",
    "\n",
    "if LIMIT:\n",
    "    dissected_images= dissected_images[:LIMIT]\n",
    "\n",
    "dissected_images = rename_files(dissected_images)\n",
    "print(f\"Number of dissected images: {len(dissected_images)}\")\n",
    "print(f\"Number of manually segmented images: {len(manually_segmented_images)}\")\n",
    "print(f\"Number of thigh masks: {len(manually_segmented_thighs)}\")\n",
    "print(f\"Number of breast masks: {len(manually_segmented_breast)}\")"
   ]
  },
  {
   "cell_type": "markdown",
   "metadata": {},
   "source": [
    "## Segmentation by Registration"
   ]
  },
  {
   "cell_type": "code",
   "execution_count": 4,
   "metadata": {},
   "outputs": [
    {
     "name": "stderr",
     "output_type": "stream",
     "text": [
      "100%|███████████████████████████████████████████████████████████████████████████████████████████████████████████████████████████████████████████████████████████████████████████████████████████████████████████████████████████████████████████████████████████████████████████████████| 60/60 [3:17:23<00:00, 197.40s/it]\n"
     ]
    }
   ],
   "source": [
    "for d in tqdm.tqdm(dissected_images):\n",
    "    for (i, h, m) in zip(manually_segmented_images, manually_segmented_breast, manually_segmented_thighs):\n",
    "        output_thigh= os.path.join(output_path, d.split(os.sep)[-1] + '_' + m.split(os.sep)[-1] + '_' + image_format)\n",
    "        output_breast= os.path.join(output_path, d.split(os.sep)[-1] + '_' + h.split(os.sep)[-1] + '_' + image_format)\n",
    "        if save_registered_images:\n",
    "            output_registered= os.path.join(output_path, d.split(os.sep)[-1] + '_' + i.split(os.sep)[-1] + '_' + image_format)\n",
    "        else:\n",
    "            output_registered= None\n",
    "        if (not os.path.isfile(output_thigh) or not os.path.isfile(output_breast) or \n",
    "            (save_registered_images and not os.path.isfile(output_registered))):\n",
    "            maweight.register_and_transform(i, d, [m, h], [output_thigh, output_breast], \n",
    "                                            registered_image_path= output_registered, threads= threads, params= elastix_params, work_dir= tmp_path, verbose= 0)"
   ]
  },
  {
   "cell_type": "markdown",
   "metadata": {},
   "source": [
    "## Extracting the features"
   ]
  },
  {
   "cell_type": "code",
   "execution_count": 5,
   "metadata": {},
   "outputs": [],
   "source": [
    "def extract_features(dissected_images, manually_segmented_targets):\n",
    "    dataframes= []\n",
    "    \n",
    "    for d in tqdm.tqdm(dissected_images):\n",
    "        #print('processing: %s' % d)\n",
    "        \n",
    "        fitted_masks= []\n",
    "        \n",
    "        for m in manually_segmented_targets:\n",
    "            output_thigh= os.path.join(output_path, d.split(os.sep)[-1] + '_' + m.split(os.sep)[-1]+ '_' + image_format)\n",
    "            fitted_masks.append(output_thigh)\n",
    "        labels= [f.split(os.sep)[-1].split('_')[1] for f in fitted_masks]\n",
    "        print(labels)\n",
    "        print(fitted_masks)\n",
    "\n",
    "        dataframes.append(maweight.extract_features_3d(d, fitted_masks, labels, bins=list(range(bin_min, bin_max+1, bin_width)), thresholds=[threshold]))\n",
    "    dataframes= pd.concat(dataframes, axis=0, ignore_index=True)\n",
    "    dataframes['filename']= dissected_images\n",
    "    \n",
    "    \n",
    "    return dataframes"
   ]
  },
  {
   "cell_type": "code",
   "execution_count": 6,
   "metadata": {},
   "outputs": [
    {
     "name": "stderr",
     "output_type": "stream",
     "text": [
      "  0%|                                                                                                                                                                                                                                                                                               | 0/60 [00:00<?, ?it/s]"
     ]
    },
    {
     "name": "stdout",
     "output_type": "stream",
     "text": [
      "['074k-thigh.nii.gz', '075a-thigh.nii.gz', '075k-thigh.nii.gz', '077k-thigh.nii.gz', '079k-thigh.nii.gz', '080k-thigh.nii.gz', '082k-thigh.nii.gz', '083a-thigh.nii.gz', '083k-thigh.nii.gz', '084a-thigh.nii.gz', '087f-thigh.nii.gz', '088f-thigh.nii.gz', '088k-thigh.nii.gz', '090a-thigh.nii.gz', '091f-thigh.nii.gz', '092k-thigh.nii.gz']\n",
      "['data/training/144f.nii.gz_074k-thigh.nii.gz_.nii.gz', 'data/training/144f.nii.gz_075a-thigh.nii.gz_.nii.gz', 'data/training/144f.nii.gz_075k-thigh.nii.gz_.nii.gz', 'data/training/144f.nii.gz_077k-thigh.nii.gz_.nii.gz', 'data/training/144f.nii.gz_079k-thigh.nii.gz_.nii.gz', 'data/training/144f.nii.gz_080k-thigh.nii.gz_.nii.gz', 'data/training/144f.nii.gz_082k-thigh.nii.gz_.nii.gz', 'data/training/144f.nii.gz_083a-thigh.nii.gz_.nii.gz', 'data/training/144f.nii.gz_083k-thigh.nii.gz_.nii.gz', 'data/training/144f.nii.gz_084a-thigh.nii.gz_.nii.gz', 'data/training/144f.nii.gz_087f-thigh.nii.gz_.nii.gz', 'data/training/144f.nii.gz_088f-thigh.nii.gz_.nii.gz', 'data/training/144f.nii.gz_088k-thigh.nii.gz_.nii.gz', 'data/training/144f.nii.gz_090a-thigh.nii.gz_.nii.gz', 'data/training/144f.nii.gz_091f-thigh.nii.gz_.nii.gz', 'data/training/144f.nii.gz_092k-thigh.nii.gz_.nii.gz']\n"
     ]
    },
    {
     "name": "stderr",
     "output_type": "stream",
     "text": [
      "  2%|████▋                                                                                                                                                                                                                                                                                  | 1/60 [00:05<05:23,  5.48s/it]"
     ]
    },
    {
     "name": "stdout",
     "output_type": "stream",
     "text": [
      "['074k-thigh.nii.gz', '075a-thigh.nii.gz', '075k-thigh.nii.gz', '077k-thigh.nii.gz', '079k-thigh.nii.gz', '080k-thigh.nii.gz', '082k-thigh.nii.gz', '083a-thigh.nii.gz', '083k-thigh.nii.gz', '084a-thigh.nii.gz', '087f-thigh.nii.gz', '088f-thigh.nii.gz', '088k-thigh.nii.gz', '090a-thigh.nii.gz', '091f-thigh.nii.gz', '092k-thigh.nii.gz']\n",
      "['data/training/147a.nii.gz_074k-thigh.nii.gz_.nii.gz', 'data/training/147a.nii.gz_075a-thigh.nii.gz_.nii.gz', 'data/training/147a.nii.gz_075k-thigh.nii.gz_.nii.gz', 'data/training/147a.nii.gz_077k-thigh.nii.gz_.nii.gz', 'data/training/147a.nii.gz_079k-thigh.nii.gz_.nii.gz', 'data/training/147a.nii.gz_080k-thigh.nii.gz_.nii.gz', 'data/training/147a.nii.gz_082k-thigh.nii.gz_.nii.gz', 'data/training/147a.nii.gz_083a-thigh.nii.gz_.nii.gz', 'data/training/147a.nii.gz_083k-thigh.nii.gz_.nii.gz', 'data/training/147a.nii.gz_084a-thigh.nii.gz_.nii.gz', 'data/training/147a.nii.gz_087f-thigh.nii.gz_.nii.gz', 'data/training/147a.nii.gz_088f-thigh.nii.gz_.nii.gz', 'data/training/147a.nii.gz_088k-thigh.nii.gz_.nii.gz', 'data/training/147a.nii.gz_090a-thigh.nii.gz_.nii.gz', 'data/training/147a.nii.gz_091f-thigh.nii.gz_.nii.gz', 'data/training/147a.nii.gz_092k-thigh.nii.gz_.nii.gz']\n"
     ]
    },
    {
     "name": "stderr",
     "output_type": "stream",
     "text": [
      "  3%|█████████▎                                                                                                                                                                                                                                                                             | 2/60 [00:10<04:53,  5.06s/it]"
     ]
    },
    {
     "name": "stdout",
     "output_type": "stream",
     "text": [
      "['074k-thigh.nii.gz', '075a-thigh.nii.gz', '075k-thigh.nii.gz', '077k-thigh.nii.gz', '079k-thigh.nii.gz', '080k-thigh.nii.gz', '082k-thigh.nii.gz', '083a-thigh.nii.gz', '083k-thigh.nii.gz', '084a-thigh.nii.gz', '087f-thigh.nii.gz', '088f-thigh.nii.gz', '088k-thigh.nii.gz', '090a-thigh.nii.gz', '091f-thigh.nii.gz', '092k-thigh.nii.gz']\n",
      "['data/training/147f.nii.gz_074k-thigh.nii.gz_.nii.gz', 'data/training/147f.nii.gz_075a-thigh.nii.gz_.nii.gz', 'data/training/147f.nii.gz_075k-thigh.nii.gz_.nii.gz', 'data/training/147f.nii.gz_077k-thigh.nii.gz_.nii.gz', 'data/training/147f.nii.gz_079k-thigh.nii.gz_.nii.gz', 'data/training/147f.nii.gz_080k-thigh.nii.gz_.nii.gz', 'data/training/147f.nii.gz_082k-thigh.nii.gz_.nii.gz', 'data/training/147f.nii.gz_083a-thigh.nii.gz_.nii.gz', 'data/training/147f.nii.gz_083k-thigh.nii.gz_.nii.gz', 'data/training/147f.nii.gz_084a-thigh.nii.gz_.nii.gz', 'data/training/147f.nii.gz_087f-thigh.nii.gz_.nii.gz', 'data/training/147f.nii.gz_088f-thigh.nii.gz_.nii.gz', 'data/training/147f.nii.gz_088k-thigh.nii.gz_.nii.gz', 'data/training/147f.nii.gz_090a-thigh.nii.gz_.nii.gz', 'data/training/147f.nii.gz_091f-thigh.nii.gz_.nii.gz', 'data/training/147f.nii.gz_092k-thigh.nii.gz_.nii.gz']\n"
     ]
    },
    {
     "name": "stderr",
     "output_type": "stream",
     "text": [
      "  5%|█████████████▉                                                                                                                                                                                                                                                                         | 3/60 [00:15<04:51,  5.12s/it]"
     ]
    },
    {
     "name": "stdout",
     "output_type": "stream",
     "text": [
      "['074k-thigh.nii.gz', '075a-thigh.nii.gz', '075k-thigh.nii.gz', '077k-thigh.nii.gz', '079k-thigh.nii.gz', '080k-thigh.nii.gz', '082k-thigh.nii.gz', '083a-thigh.nii.gz', '083k-thigh.nii.gz', '084a-thigh.nii.gz', '087f-thigh.nii.gz', '088f-thigh.nii.gz', '088k-thigh.nii.gz', '090a-thigh.nii.gz', '091f-thigh.nii.gz', '092k-thigh.nii.gz']\n",
      "['data/training/147k.nii.gz_074k-thigh.nii.gz_.nii.gz', 'data/training/147k.nii.gz_075a-thigh.nii.gz_.nii.gz', 'data/training/147k.nii.gz_075k-thigh.nii.gz_.nii.gz', 'data/training/147k.nii.gz_077k-thigh.nii.gz_.nii.gz', 'data/training/147k.nii.gz_079k-thigh.nii.gz_.nii.gz', 'data/training/147k.nii.gz_080k-thigh.nii.gz_.nii.gz', 'data/training/147k.nii.gz_082k-thigh.nii.gz_.nii.gz', 'data/training/147k.nii.gz_083a-thigh.nii.gz_.nii.gz', 'data/training/147k.nii.gz_083k-thigh.nii.gz_.nii.gz', 'data/training/147k.nii.gz_084a-thigh.nii.gz_.nii.gz', 'data/training/147k.nii.gz_087f-thigh.nii.gz_.nii.gz', 'data/training/147k.nii.gz_088f-thigh.nii.gz_.nii.gz', 'data/training/147k.nii.gz_088k-thigh.nii.gz_.nii.gz', 'data/training/147k.nii.gz_090a-thigh.nii.gz_.nii.gz', 'data/training/147k.nii.gz_091f-thigh.nii.gz_.nii.gz', 'data/training/147k.nii.gz_092k-thigh.nii.gz_.nii.gz']\n"
     ]
    },
    {
     "name": "stderr",
     "output_type": "stream",
     "text": [
      "  7%|██████████████████▌                                                                                                                                                                                                                                                                    | 4/60 [00:20<04:40,  5.00s/it]"
     ]
    },
    {
     "name": "stdout",
     "output_type": "stream",
     "text": [
      "['074k-thigh.nii.gz', '075a-thigh.nii.gz', '075k-thigh.nii.gz', '077k-thigh.nii.gz', '079k-thigh.nii.gz', '080k-thigh.nii.gz', '082k-thigh.nii.gz', '083a-thigh.nii.gz', '083k-thigh.nii.gz', '084a-thigh.nii.gz', '087f-thigh.nii.gz', '088f-thigh.nii.gz', '088k-thigh.nii.gz', '090a-thigh.nii.gz', '091f-thigh.nii.gz', '092k-thigh.nii.gz']\n",
      "['data/training/148a.nii.gz_074k-thigh.nii.gz_.nii.gz', 'data/training/148a.nii.gz_075a-thigh.nii.gz_.nii.gz', 'data/training/148a.nii.gz_075k-thigh.nii.gz_.nii.gz', 'data/training/148a.nii.gz_077k-thigh.nii.gz_.nii.gz', 'data/training/148a.nii.gz_079k-thigh.nii.gz_.nii.gz', 'data/training/148a.nii.gz_080k-thigh.nii.gz_.nii.gz', 'data/training/148a.nii.gz_082k-thigh.nii.gz_.nii.gz', 'data/training/148a.nii.gz_083a-thigh.nii.gz_.nii.gz', 'data/training/148a.nii.gz_083k-thigh.nii.gz_.nii.gz', 'data/training/148a.nii.gz_084a-thigh.nii.gz_.nii.gz', 'data/training/148a.nii.gz_087f-thigh.nii.gz_.nii.gz', 'data/training/148a.nii.gz_088f-thigh.nii.gz_.nii.gz', 'data/training/148a.nii.gz_088k-thigh.nii.gz_.nii.gz', 'data/training/148a.nii.gz_090a-thigh.nii.gz_.nii.gz', 'data/training/148a.nii.gz_091f-thigh.nii.gz_.nii.gz', 'data/training/148a.nii.gz_092k-thigh.nii.gz_.nii.gz']\n"
     ]
    },
    {
     "name": "stderr",
     "output_type": "stream",
     "text": [
      "  8%|███████████████████████▎                                                                                                                                                                                                                                                               | 5/60 [00:25<04:40,  5.09s/it]"
     ]
    },
    {
     "name": "stdout",
     "output_type": "stream",
     "text": [
      "['074k-thigh.nii.gz', '075a-thigh.nii.gz', '075k-thigh.nii.gz', '077k-thigh.nii.gz', '079k-thigh.nii.gz', '080k-thigh.nii.gz', '082k-thigh.nii.gz', '083a-thigh.nii.gz', '083k-thigh.nii.gz', '084a-thigh.nii.gz', '087f-thigh.nii.gz', '088f-thigh.nii.gz', '088k-thigh.nii.gz', '090a-thigh.nii.gz', '091f-thigh.nii.gz', '092k-thigh.nii.gz']\n",
      "['data/training/148f.nii.gz_074k-thigh.nii.gz_.nii.gz', 'data/training/148f.nii.gz_075a-thigh.nii.gz_.nii.gz', 'data/training/148f.nii.gz_075k-thigh.nii.gz_.nii.gz', 'data/training/148f.nii.gz_077k-thigh.nii.gz_.nii.gz', 'data/training/148f.nii.gz_079k-thigh.nii.gz_.nii.gz', 'data/training/148f.nii.gz_080k-thigh.nii.gz_.nii.gz', 'data/training/148f.nii.gz_082k-thigh.nii.gz_.nii.gz', 'data/training/148f.nii.gz_083a-thigh.nii.gz_.nii.gz', 'data/training/148f.nii.gz_083k-thigh.nii.gz_.nii.gz', 'data/training/148f.nii.gz_084a-thigh.nii.gz_.nii.gz', 'data/training/148f.nii.gz_087f-thigh.nii.gz_.nii.gz', 'data/training/148f.nii.gz_088f-thigh.nii.gz_.nii.gz', 'data/training/148f.nii.gz_088k-thigh.nii.gz_.nii.gz', 'data/training/148f.nii.gz_090a-thigh.nii.gz_.nii.gz', 'data/training/148f.nii.gz_091f-thigh.nii.gz_.nii.gz', 'data/training/148f.nii.gz_092k-thigh.nii.gz_.nii.gz']\n"
     ]
    },
    {
     "name": "stderr",
     "output_type": "stream",
     "text": [
      " 10%|███████████████████████████▉                                                                                                                                                                                                                                                           | 6/60 [00:30<04:31,  5.02s/it]"
     ]
    },
    {
     "name": "stdout",
     "output_type": "stream",
     "text": [
      "['074k-thigh.nii.gz', '075a-thigh.nii.gz', '075k-thigh.nii.gz', '077k-thigh.nii.gz', '079k-thigh.nii.gz', '080k-thigh.nii.gz', '082k-thigh.nii.gz', '083a-thigh.nii.gz', '083k-thigh.nii.gz', '084a-thigh.nii.gz', '087f-thigh.nii.gz', '088f-thigh.nii.gz', '088k-thigh.nii.gz', '090a-thigh.nii.gz', '091f-thigh.nii.gz', '092k-thigh.nii.gz']\n",
      "['data/training/148k.nii.gz_074k-thigh.nii.gz_.nii.gz', 'data/training/148k.nii.gz_075a-thigh.nii.gz_.nii.gz', 'data/training/148k.nii.gz_075k-thigh.nii.gz_.nii.gz', 'data/training/148k.nii.gz_077k-thigh.nii.gz_.nii.gz', 'data/training/148k.nii.gz_079k-thigh.nii.gz_.nii.gz', 'data/training/148k.nii.gz_080k-thigh.nii.gz_.nii.gz', 'data/training/148k.nii.gz_082k-thigh.nii.gz_.nii.gz', 'data/training/148k.nii.gz_083a-thigh.nii.gz_.nii.gz', 'data/training/148k.nii.gz_083k-thigh.nii.gz_.nii.gz', 'data/training/148k.nii.gz_084a-thigh.nii.gz_.nii.gz', 'data/training/148k.nii.gz_087f-thigh.nii.gz_.nii.gz', 'data/training/148k.nii.gz_088f-thigh.nii.gz_.nii.gz', 'data/training/148k.nii.gz_088k-thigh.nii.gz_.nii.gz', 'data/training/148k.nii.gz_090a-thigh.nii.gz_.nii.gz', 'data/training/148k.nii.gz_091f-thigh.nii.gz_.nii.gz', 'data/training/148k.nii.gz_092k-thigh.nii.gz_.nii.gz']\n"
     ]
    },
    {
     "name": "stderr",
     "output_type": "stream",
     "text": [
      " 12%|████████████████████████████████▌                                                                                                                                                                                                                                                      | 7/60 [00:35<04:24,  4.99s/it]"
     ]
    },
    {
     "name": "stdout",
     "output_type": "stream",
     "text": [
      "['074k-thigh.nii.gz', '075a-thigh.nii.gz', '075k-thigh.nii.gz', '077k-thigh.nii.gz', '079k-thigh.nii.gz', '080k-thigh.nii.gz', '082k-thigh.nii.gz', '083a-thigh.nii.gz', '083k-thigh.nii.gz', '084a-thigh.nii.gz', '087f-thigh.nii.gz', '088f-thigh.nii.gz', '088k-thigh.nii.gz', '090a-thigh.nii.gz', '091f-thigh.nii.gz', '092k-thigh.nii.gz']\n",
      "['data/training/149a.nii.gz_074k-thigh.nii.gz_.nii.gz', 'data/training/149a.nii.gz_075a-thigh.nii.gz_.nii.gz', 'data/training/149a.nii.gz_075k-thigh.nii.gz_.nii.gz', 'data/training/149a.nii.gz_077k-thigh.nii.gz_.nii.gz', 'data/training/149a.nii.gz_079k-thigh.nii.gz_.nii.gz', 'data/training/149a.nii.gz_080k-thigh.nii.gz_.nii.gz', 'data/training/149a.nii.gz_082k-thigh.nii.gz_.nii.gz', 'data/training/149a.nii.gz_083a-thigh.nii.gz_.nii.gz', 'data/training/149a.nii.gz_083k-thigh.nii.gz_.nii.gz', 'data/training/149a.nii.gz_084a-thigh.nii.gz_.nii.gz', 'data/training/149a.nii.gz_087f-thigh.nii.gz_.nii.gz', 'data/training/149a.nii.gz_088f-thigh.nii.gz_.nii.gz', 'data/training/149a.nii.gz_088k-thigh.nii.gz_.nii.gz', 'data/training/149a.nii.gz_090a-thigh.nii.gz_.nii.gz', 'data/training/149a.nii.gz_091f-thigh.nii.gz_.nii.gz', 'data/training/149a.nii.gz_092k-thigh.nii.gz_.nii.gz']\n"
     ]
    },
    {
     "name": "stderr",
     "output_type": "stream",
     "text": [
      " 13%|█████████████████████████████████████▏                                                                                                                                                                                                                                                 | 8/60 [00:40<04:16,  4.92s/it]"
     ]
    },
    {
     "name": "stdout",
     "output_type": "stream",
     "text": [
      "['074k-thigh.nii.gz', '075a-thigh.nii.gz', '075k-thigh.nii.gz', '077k-thigh.nii.gz', '079k-thigh.nii.gz', '080k-thigh.nii.gz', '082k-thigh.nii.gz', '083a-thigh.nii.gz', '083k-thigh.nii.gz', '084a-thigh.nii.gz', '087f-thigh.nii.gz', '088f-thigh.nii.gz', '088k-thigh.nii.gz', '090a-thigh.nii.gz', '091f-thigh.nii.gz', '092k-thigh.nii.gz']\n",
      "['data/training/149f.nii.gz_074k-thigh.nii.gz_.nii.gz', 'data/training/149f.nii.gz_075a-thigh.nii.gz_.nii.gz', 'data/training/149f.nii.gz_075k-thigh.nii.gz_.nii.gz', 'data/training/149f.nii.gz_077k-thigh.nii.gz_.nii.gz', 'data/training/149f.nii.gz_079k-thigh.nii.gz_.nii.gz', 'data/training/149f.nii.gz_080k-thigh.nii.gz_.nii.gz', 'data/training/149f.nii.gz_082k-thigh.nii.gz_.nii.gz', 'data/training/149f.nii.gz_083a-thigh.nii.gz_.nii.gz', 'data/training/149f.nii.gz_083k-thigh.nii.gz_.nii.gz', 'data/training/149f.nii.gz_084a-thigh.nii.gz_.nii.gz', 'data/training/149f.nii.gz_087f-thigh.nii.gz_.nii.gz', 'data/training/149f.nii.gz_088f-thigh.nii.gz_.nii.gz', 'data/training/149f.nii.gz_088k-thigh.nii.gz_.nii.gz', 'data/training/149f.nii.gz_090a-thigh.nii.gz_.nii.gz', 'data/training/149f.nii.gz_091f-thigh.nii.gz_.nii.gz', 'data/training/149f.nii.gz_092k-thigh.nii.gz_.nii.gz']\n"
     ]
    },
    {
     "name": "stderr",
     "output_type": "stream",
     "text": [
      " 15%|█████████████████████████████████████████▊                                                                                                                                                                                                                                             | 9/60 [00:44<04:08,  4.88s/it]"
     ]
    },
    {
     "name": "stdout",
     "output_type": "stream",
     "text": [
      "['074k-thigh.nii.gz', '075a-thigh.nii.gz', '075k-thigh.nii.gz', '077k-thigh.nii.gz', '079k-thigh.nii.gz', '080k-thigh.nii.gz', '082k-thigh.nii.gz', '083a-thigh.nii.gz', '083k-thigh.nii.gz', '084a-thigh.nii.gz', '087f-thigh.nii.gz', '088f-thigh.nii.gz', '088k-thigh.nii.gz', '090a-thigh.nii.gz', '091f-thigh.nii.gz', '092k-thigh.nii.gz']\n",
      "['data/training/149k.nii.gz_074k-thigh.nii.gz_.nii.gz', 'data/training/149k.nii.gz_075a-thigh.nii.gz_.nii.gz', 'data/training/149k.nii.gz_075k-thigh.nii.gz_.nii.gz', 'data/training/149k.nii.gz_077k-thigh.nii.gz_.nii.gz', 'data/training/149k.nii.gz_079k-thigh.nii.gz_.nii.gz', 'data/training/149k.nii.gz_080k-thigh.nii.gz_.nii.gz', 'data/training/149k.nii.gz_082k-thigh.nii.gz_.nii.gz', 'data/training/149k.nii.gz_083a-thigh.nii.gz_.nii.gz', 'data/training/149k.nii.gz_083k-thigh.nii.gz_.nii.gz', 'data/training/149k.nii.gz_084a-thigh.nii.gz_.nii.gz', 'data/training/149k.nii.gz_087f-thigh.nii.gz_.nii.gz', 'data/training/149k.nii.gz_088f-thigh.nii.gz_.nii.gz', 'data/training/149k.nii.gz_088k-thigh.nii.gz_.nii.gz', 'data/training/149k.nii.gz_090a-thigh.nii.gz_.nii.gz', 'data/training/149k.nii.gz_091f-thigh.nii.gz_.nii.gz', 'data/training/149k.nii.gz_092k-thigh.nii.gz_.nii.gz']\n"
     ]
    },
    {
     "name": "stderr",
     "output_type": "stream",
     "text": [
      " 17%|██████████████████████████████████████████████▎                                                                                                                                                                                                                                       | 10/60 [00:49<04:00,  4.81s/it]"
     ]
    },
    {
     "name": "stdout",
     "output_type": "stream",
     "text": [
      "['074k-thigh.nii.gz', '075a-thigh.nii.gz', '075k-thigh.nii.gz', '077k-thigh.nii.gz', '079k-thigh.nii.gz', '080k-thigh.nii.gz', '082k-thigh.nii.gz', '083a-thigh.nii.gz', '083k-thigh.nii.gz', '084a-thigh.nii.gz', '087f-thigh.nii.gz', '088f-thigh.nii.gz', '088k-thigh.nii.gz', '090a-thigh.nii.gz', '091f-thigh.nii.gz', '092k-thigh.nii.gz']\n",
      "['data/training/150a.nii.gz_074k-thigh.nii.gz_.nii.gz', 'data/training/150a.nii.gz_075a-thigh.nii.gz_.nii.gz', 'data/training/150a.nii.gz_075k-thigh.nii.gz_.nii.gz', 'data/training/150a.nii.gz_077k-thigh.nii.gz_.nii.gz', 'data/training/150a.nii.gz_079k-thigh.nii.gz_.nii.gz', 'data/training/150a.nii.gz_080k-thigh.nii.gz_.nii.gz', 'data/training/150a.nii.gz_082k-thigh.nii.gz_.nii.gz', 'data/training/150a.nii.gz_083a-thigh.nii.gz_.nii.gz', 'data/training/150a.nii.gz_083k-thigh.nii.gz_.nii.gz', 'data/training/150a.nii.gz_084a-thigh.nii.gz_.nii.gz', 'data/training/150a.nii.gz_087f-thigh.nii.gz_.nii.gz', 'data/training/150a.nii.gz_088f-thigh.nii.gz_.nii.gz', 'data/training/150a.nii.gz_088k-thigh.nii.gz_.nii.gz', 'data/training/150a.nii.gz_090a-thigh.nii.gz_.nii.gz', 'data/training/150a.nii.gz_091f-thigh.nii.gz_.nii.gz', 'data/training/150a.nii.gz_092k-thigh.nii.gz_.nii.gz']\n"
     ]
    },
    {
     "name": "stderr",
     "output_type": "stream",
     "text": [
      " 18%|██████████████████████████████████████████████████▉                                                                                                                                                                                                                                   | 11/60 [00:55<04:09,  5.10s/it]"
     ]
    },
    {
     "name": "stdout",
     "output_type": "stream",
     "text": [
      "['074k-thigh.nii.gz', '075a-thigh.nii.gz', '075k-thigh.nii.gz', '077k-thigh.nii.gz', '079k-thigh.nii.gz', '080k-thigh.nii.gz', '082k-thigh.nii.gz', '083a-thigh.nii.gz', '083k-thigh.nii.gz', '084a-thigh.nii.gz', '087f-thigh.nii.gz', '088f-thigh.nii.gz', '088k-thigh.nii.gz', '090a-thigh.nii.gz', '091f-thigh.nii.gz', '092k-thigh.nii.gz']\n",
      "['data/training/150f.nii.gz_074k-thigh.nii.gz_.nii.gz', 'data/training/150f.nii.gz_075a-thigh.nii.gz_.nii.gz', 'data/training/150f.nii.gz_075k-thigh.nii.gz_.nii.gz', 'data/training/150f.nii.gz_077k-thigh.nii.gz_.nii.gz', 'data/training/150f.nii.gz_079k-thigh.nii.gz_.nii.gz', 'data/training/150f.nii.gz_080k-thigh.nii.gz_.nii.gz', 'data/training/150f.nii.gz_082k-thigh.nii.gz_.nii.gz', 'data/training/150f.nii.gz_083a-thigh.nii.gz_.nii.gz', 'data/training/150f.nii.gz_083k-thigh.nii.gz_.nii.gz', 'data/training/150f.nii.gz_084a-thigh.nii.gz_.nii.gz', 'data/training/150f.nii.gz_087f-thigh.nii.gz_.nii.gz', 'data/training/150f.nii.gz_088f-thigh.nii.gz_.nii.gz', 'data/training/150f.nii.gz_088k-thigh.nii.gz_.nii.gz', 'data/training/150f.nii.gz_090a-thigh.nii.gz_.nii.gz', 'data/training/150f.nii.gz_091f-thigh.nii.gz_.nii.gz', 'data/training/150f.nii.gz_092k-thigh.nii.gz_.nii.gz']\n"
     ]
    },
    {
     "name": "stderr",
     "output_type": "stream",
     "text": [
      " 20%|███████████████████████████████████████████████████████▌                                                                                                                                                                                                                              | 12/60 [01:00<04:09,  5.21s/it]"
     ]
    },
    {
     "name": "stdout",
     "output_type": "stream",
     "text": [
      "['074k-thigh.nii.gz', '075a-thigh.nii.gz', '075k-thigh.nii.gz', '077k-thigh.nii.gz', '079k-thigh.nii.gz', '080k-thigh.nii.gz', '082k-thigh.nii.gz', '083a-thigh.nii.gz', '083k-thigh.nii.gz', '084a-thigh.nii.gz', '087f-thigh.nii.gz', '088f-thigh.nii.gz', '088k-thigh.nii.gz', '090a-thigh.nii.gz', '091f-thigh.nii.gz', '092k-thigh.nii.gz']\n",
      "['data/training/150k.nii.gz_074k-thigh.nii.gz_.nii.gz', 'data/training/150k.nii.gz_075a-thigh.nii.gz_.nii.gz', 'data/training/150k.nii.gz_075k-thigh.nii.gz_.nii.gz', 'data/training/150k.nii.gz_077k-thigh.nii.gz_.nii.gz', 'data/training/150k.nii.gz_079k-thigh.nii.gz_.nii.gz', 'data/training/150k.nii.gz_080k-thigh.nii.gz_.nii.gz', 'data/training/150k.nii.gz_082k-thigh.nii.gz_.nii.gz', 'data/training/150k.nii.gz_083a-thigh.nii.gz_.nii.gz', 'data/training/150k.nii.gz_083k-thigh.nii.gz_.nii.gz', 'data/training/150k.nii.gz_084a-thigh.nii.gz_.nii.gz', 'data/training/150k.nii.gz_087f-thigh.nii.gz_.nii.gz', 'data/training/150k.nii.gz_088f-thigh.nii.gz_.nii.gz', 'data/training/150k.nii.gz_088k-thigh.nii.gz_.nii.gz', 'data/training/150k.nii.gz_090a-thigh.nii.gz_.nii.gz', 'data/training/150k.nii.gz_091f-thigh.nii.gz_.nii.gz', 'data/training/150k.nii.gz_092k-thigh.nii.gz_.nii.gz']\n"
     ]
    },
    {
     "name": "stderr",
     "output_type": "stream",
     "text": [
      " 22%|████████████████████████████████████████████████████████████▏                                                                                                                                                                                                                         | 13/60 [01:06<04:09,  5.30s/it]"
     ]
    },
    {
     "name": "stdout",
     "output_type": "stream",
     "text": [
      "['074k-thigh.nii.gz', '075a-thigh.nii.gz', '075k-thigh.nii.gz', '077k-thigh.nii.gz', '079k-thigh.nii.gz', '080k-thigh.nii.gz', '082k-thigh.nii.gz', '083a-thigh.nii.gz', '083k-thigh.nii.gz', '084a-thigh.nii.gz', '087f-thigh.nii.gz', '088f-thigh.nii.gz', '088k-thigh.nii.gz', '090a-thigh.nii.gz', '091f-thigh.nii.gz', '092k-thigh.nii.gz']\n",
      "['data/training/152f.nii.gz_074k-thigh.nii.gz_.nii.gz', 'data/training/152f.nii.gz_075a-thigh.nii.gz_.nii.gz', 'data/training/152f.nii.gz_075k-thigh.nii.gz_.nii.gz', 'data/training/152f.nii.gz_077k-thigh.nii.gz_.nii.gz', 'data/training/152f.nii.gz_079k-thigh.nii.gz_.nii.gz', 'data/training/152f.nii.gz_080k-thigh.nii.gz_.nii.gz', 'data/training/152f.nii.gz_082k-thigh.nii.gz_.nii.gz', 'data/training/152f.nii.gz_083a-thigh.nii.gz_.nii.gz', 'data/training/152f.nii.gz_083k-thigh.nii.gz_.nii.gz', 'data/training/152f.nii.gz_084a-thigh.nii.gz_.nii.gz', 'data/training/152f.nii.gz_087f-thigh.nii.gz_.nii.gz', 'data/training/152f.nii.gz_088f-thigh.nii.gz_.nii.gz', 'data/training/152f.nii.gz_088k-thigh.nii.gz_.nii.gz', 'data/training/152f.nii.gz_090a-thigh.nii.gz_.nii.gz', 'data/training/152f.nii.gz_091f-thigh.nii.gz_.nii.gz', 'data/training/152f.nii.gz_092k-thigh.nii.gz_.nii.gz']\n"
     ]
    },
    {
     "name": "stderr",
     "output_type": "stream",
     "text": [
      " 23%|████████████████████████████████████████████████████████████████▊                                                                                                                                                                                                                     | 14/60 [01:11<04:03,  5.30s/it]"
     ]
    },
    {
     "name": "stdout",
     "output_type": "stream",
     "text": [
      "['074k-thigh.nii.gz', '075a-thigh.nii.gz', '075k-thigh.nii.gz', '077k-thigh.nii.gz', '079k-thigh.nii.gz', '080k-thigh.nii.gz', '082k-thigh.nii.gz', '083a-thigh.nii.gz', '083k-thigh.nii.gz', '084a-thigh.nii.gz', '087f-thigh.nii.gz', '088f-thigh.nii.gz', '088k-thigh.nii.gz', '090a-thigh.nii.gz', '091f-thigh.nii.gz', '092k-thigh.nii.gz']\n",
      "['data/training/152k.nii.gz_074k-thigh.nii.gz_.nii.gz', 'data/training/152k.nii.gz_075a-thigh.nii.gz_.nii.gz', 'data/training/152k.nii.gz_075k-thigh.nii.gz_.nii.gz', 'data/training/152k.nii.gz_077k-thigh.nii.gz_.nii.gz', 'data/training/152k.nii.gz_079k-thigh.nii.gz_.nii.gz', 'data/training/152k.nii.gz_080k-thigh.nii.gz_.nii.gz', 'data/training/152k.nii.gz_082k-thigh.nii.gz_.nii.gz', 'data/training/152k.nii.gz_083a-thigh.nii.gz_.nii.gz', 'data/training/152k.nii.gz_083k-thigh.nii.gz_.nii.gz', 'data/training/152k.nii.gz_084a-thigh.nii.gz_.nii.gz', 'data/training/152k.nii.gz_087f-thigh.nii.gz_.nii.gz', 'data/training/152k.nii.gz_088f-thigh.nii.gz_.nii.gz', 'data/training/152k.nii.gz_088k-thigh.nii.gz_.nii.gz', 'data/training/152k.nii.gz_090a-thigh.nii.gz_.nii.gz', 'data/training/152k.nii.gz_091f-thigh.nii.gz_.nii.gz', 'data/training/152k.nii.gz_092k-thigh.nii.gz_.nii.gz']\n"
     ]
    },
    {
     "name": "stderr",
     "output_type": "stream",
     "text": [
      " 25%|█████████████████████████████████████████████████████████████████████▌                                                                                                                                                                                                                | 15/60 [01:16<03:56,  5.27s/it]"
     ]
    },
    {
     "name": "stdout",
     "output_type": "stream",
     "text": [
      "['074k-thigh.nii.gz', '075a-thigh.nii.gz', '075k-thigh.nii.gz', '077k-thigh.nii.gz', '079k-thigh.nii.gz', '080k-thigh.nii.gz', '082k-thigh.nii.gz', '083a-thigh.nii.gz', '083k-thigh.nii.gz', '084a-thigh.nii.gz', '087f-thigh.nii.gz', '088f-thigh.nii.gz', '088k-thigh.nii.gz', '090a-thigh.nii.gz', '091f-thigh.nii.gz', '092k-thigh.nii.gz']\n",
      "['data/training/153a.nii.gz_074k-thigh.nii.gz_.nii.gz', 'data/training/153a.nii.gz_075a-thigh.nii.gz_.nii.gz', 'data/training/153a.nii.gz_075k-thigh.nii.gz_.nii.gz', 'data/training/153a.nii.gz_077k-thigh.nii.gz_.nii.gz', 'data/training/153a.nii.gz_079k-thigh.nii.gz_.nii.gz', 'data/training/153a.nii.gz_080k-thigh.nii.gz_.nii.gz', 'data/training/153a.nii.gz_082k-thigh.nii.gz_.nii.gz', 'data/training/153a.nii.gz_083a-thigh.nii.gz_.nii.gz', 'data/training/153a.nii.gz_083k-thigh.nii.gz_.nii.gz', 'data/training/153a.nii.gz_084a-thigh.nii.gz_.nii.gz', 'data/training/153a.nii.gz_087f-thigh.nii.gz_.nii.gz', 'data/training/153a.nii.gz_088f-thigh.nii.gz_.nii.gz', 'data/training/153a.nii.gz_088k-thigh.nii.gz_.nii.gz', 'data/training/153a.nii.gz_090a-thigh.nii.gz_.nii.gz', 'data/training/153a.nii.gz_091f-thigh.nii.gz_.nii.gz', 'data/training/153a.nii.gz_092k-thigh.nii.gz_.nii.gz']\n"
     ]
    },
    {
     "name": "stderr",
     "output_type": "stream",
     "text": [
      " 27%|██████████████████████████████████████████████████████████████████████████▏                                                                                                                                                                                                           | 16/60 [01:21<03:50,  5.25s/it]"
     ]
    },
    {
     "name": "stdout",
     "output_type": "stream",
     "text": [
      "['074k-thigh.nii.gz', '075a-thigh.nii.gz', '075k-thigh.nii.gz', '077k-thigh.nii.gz', '079k-thigh.nii.gz', '080k-thigh.nii.gz', '082k-thigh.nii.gz', '083a-thigh.nii.gz', '083k-thigh.nii.gz', '084a-thigh.nii.gz', '087f-thigh.nii.gz', '088f-thigh.nii.gz', '088k-thigh.nii.gz', '090a-thigh.nii.gz', '091f-thigh.nii.gz', '092k-thigh.nii.gz']\n",
      "['data/training/153k.nii.gz_074k-thigh.nii.gz_.nii.gz', 'data/training/153k.nii.gz_075a-thigh.nii.gz_.nii.gz', 'data/training/153k.nii.gz_075k-thigh.nii.gz_.nii.gz', 'data/training/153k.nii.gz_077k-thigh.nii.gz_.nii.gz', 'data/training/153k.nii.gz_079k-thigh.nii.gz_.nii.gz', 'data/training/153k.nii.gz_080k-thigh.nii.gz_.nii.gz', 'data/training/153k.nii.gz_082k-thigh.nii.gz_.nii.gz', 'data/training/153k.nii.gz_083a-thigh.nii.gz_.nii.gz', 'data/training/153k.nii.gz_083k-thigh.nii.gz_.nii.gz', 'data/training/153k.nii.gz_084a-thigh.nii.gz_.nii.gz', 'data/training/153k.nii.gz_087f-thigh.nii.gz_.nii.gz', 'data/training/153k.nii.gz_088f-thigh.nii.gz_.nii.gz', 'data/training/153k.nii.gz_088k-thigh.nii.gz_.nii.gz', 'data/training/153k.nii.gz_090a-thigh.nii.gz_.nii.gz', 'data/training/153k.nii.gz_091f-thigh.nii.gz_.nii.gz', 'data/training/153k.nii.gz_092k-thigh.nii.gz_.nii.gz']\n"
     ]
    },
    {
     "name": "stderr",
     "output_type": "stream",
     "text": [
      " 28%|██████████████████████████████████████████████████████████████████████████████▊                                                                                                                                                                                                       | 17/60 [01:27<03:49,  5.34s/it]"
     ]
    },
    {
     "name": "stdout",
     "output_type": "stream",
     "text": [
      "['074k-thigh.nii.gz', '075a-thigh.nii.gz', '075k-thigh.nii.gz', '077k-thigh.nii.gz', '079k-thigh.nii.gz', '080k-thigh.nii.gz', '082k-thigh.nii.gz', '083a-thigh.nii.gz', '083k-thigh.nii.gz', '084a-thigh.nii.gz', '087f-thigh.nii.gz', '088f-thigh.nii.gz', '088k-thigh.nii.gz', '090a-thigh.nii.gz', '091f-thigh.nii.gz', '092k-thigh.nii.gz']\n",
      "['data/training/154a.nii.gz_074k-thigh.nii.gz_.nii.gz', 'data/training/154a.nii.gz_075a-thigh.nii.gz_.nii.gz', 'data/training/154a.nii.gz_075k-thigh.nii.gz_.nii.gz', 'data/training/154a.nii.gz_077k-thigh.nii.gz_.nii.gz', 'data/training/154a.nii.gz_079k-thigh.nii.gz_.nii.gz', 'data/training/154a.nii.gz_080k-thigh.nii.gz_.nii.gz', 'data/training/154a.nii.gz_082k-thigh.nii.gz_.nii.gz', 'data/training/154a.nii.gz_083a-thigh.nii.gz_.nii.gz', 'data/training/154a.nii.gz_083k-thigh.nii.gz_.nii.gz', 'data/training/154a.nii.gz_084a-thigh.nii.gz_.nii.gz', 'data/training/154a.nii.gz_087f-thigh.nii.gz_.nii.gz', 'data/training/154a.nii.gz_088f-thigh.nii.gz_.nii.gz', 'data/training/154a.nii.gz_088k-thigh.nii.gz_.nii.gz', 'data/training/154a.nii.gz_090a-thigh.nii.gz_.nii.gz', 'data/training/154a.nii.gz_091f-thigh.nii.gz_.nii.gz', 'data/training/154a.nii.gz_092k-thigh.nii.gz_.nii.gz']\n"
     ]
    },
    {
     "name": "stderr",
     "output_type": "stream",
     "text": [
      " 30%|███████████████████████████████████████████████████████████████████████████████████▍                                                                                                                                                                                                  | 18/60 [01:32<03:42,  5.31s/it]"
     ]
    },
    {
     "name": "stdout",
     "output_type": "stream",
     "text": [
      "['074k-thigh.nii.gz', '075a-thigh.nii.gz', '075k-thigh.nii.gz', '077k-thigh.nii.gz', '079k-thigh.nii.gz', '080k-thigh.nii.gz', '082k-thigh.nii.gz', '083a-thigh.nii.gz', '083k-thigh.nii.gz', '084a-thigh.nii.gz', '087f-thigh.nii.gz', '088f-thigh.nii.gz', '088k-thigh.nii.gz', '090a-thigh.nii.gz', '091f-thigh.nii.gz', '092k-thigh.nii.gz']\n",
      "['data/training/154k.nii.gz_074k-thigh.nii.gz_.nii.gz', 'data/training/154k.nii.gz_075a-thigh.nii.gz_.nii.gz', 'data/training/154k.nii.gz_075k-thigh.nii.gz_.nii.gz', 'data/training/154k.nii.gz_077k-thigh.nii.gz_.nii.gz', 'data/training/154k.nii.gz_079k-thigh.nii.gz_.nii.gz', 'data/training/154k.nii.gz_080k-thigh.nii.gz_.nii.gz', 'data/training/154k.nii.gz_082k-thigh.nii.gz_.nii.gz', 'data/training/154k.nii.gz_083a-thigh.nii.gz_.nii.gz', 'data/training/154k.nii.gz_083k-thigh.nii.gz_.nii.gz', 'data/training/154k.nii.gz_084a-thigh.nii.gz_.nii.gz', 'data/training/154k.nii.gz_087f-thigh.nii.gz_.nii.gz', 'data/training/154k.nii.gz_088f-thigh.nii.gz_.nii.gz', 'data/training/154k.nii.gz_088k-thigh.nii.gz_.nii.gz', 'data/training/154k.nii.gz_090a-thigh.nii.gz_.nii.gz', 'data/training/154k.nii.gz_091f-thigh.nii.gz_.nii.gz', 'data/training/154k.nii.gz_092k-thigh.nii.gz_.nii.gz']\n"
     ]
    },
    {
     "name": "stderr",
     "output_type": "stream",
     "text": [
      " 32%|████████████████████████████████████████████████████████████████████████████████████████                                                                                                                                                                                              | 19/60 [01:38<03:46,  5.52s/it]"
     ]
    },
    {
     "name": "stdout",
     "output_type": "stream",
     "text": [
      "['074k-thigh.nii.gz', '075a-thigh.nii.gz', '075k-thigh.nii.gz', '077k-thigh.nii.gz', '079k-thigh.nii.gz', '080k-thigh.nii.gz', '082k-thigh.nii.gz', '083a-thigh.nii.gz', '083k-thigh.nii.gz', '084a-thigh.nii.gz', '087f-thigh.nii.gz', '088f-thigh.nii.gz', '088k-thigh.nii.gz', '090a-thigh.nii.gz', '091f-thigh.nii.gz', '092k-thigh.nii.gz']\n",
      "['data/training/155k.nii.gz_074k-thigh.nii.gz_.nii.gz', 'data/training/155k.nii.gz_075a-thigh.nii.gz_.nii.gz', 'data/training/155k.nii.gz_075k-thigh.nii.gz_.nii.gz', 'data/training/155k.nii.gz_077k-thigh.nii.gz_.nii.gz', 'data/training/155k.nii.gz_079k-thigh.nii.gz_.nii.gz', 'data/training/155k.nii.gz_080k-thigh.nii.gz_.nii.gz', 'data/training/155k.nii.gz_082k-thigh.nii.gz_.nii.gz', 'data/training/155k.nii.gz_083a-thigh.nii.gz_.nii.gz', 'data/training/155k.nii.gz_083k-thigh.nii.gz_.nii.gz', 'data/training/155k.nii.gz_084a-thigh.nii.gz_.nii.gz', 'data/training/155k.nii.gz_087f-thigh.nii.gz_.nii.gz', 'data/training/155k.nii.gz_088f-thigh.nii.gz_.nii.gz', 'data/training/155k.nii.gz_088k-thigh.nii.gz_.nii.gz', 'data/training/155k.nii.gz_090a-thigh.nii.gz_.nii.gz', 'data/training/155k.nii.gz_091f-thigh.nii.gz_.nii.gz', 'data/training/155k.nii.gz_092k-thigh.nii.gz_.nii.gz']\n"
     ]
    },
    {
     "name": "stderr",
     "output_type": "stream",
     "text": [
      " 33%|████████████████████████████████████████████████████████████████████████████████████████████▋                                                                                                                                                                                         | 20/60 [01:44<03:41,  5.53s/it]"
     ]
    },
    {
     "name": "stdout",
     "output_type": "stream",
     "text": [
      "['074k-thigh.nii.gz', '075a-thigh.nii.gz', '075k-thigh.nii.gz', '077k-thigh.nii.gz', '079k-thigh.nii.gz', '080k-thigh.nii.gz', '082k-thigh.nii.gz', '083a-thigh.nii.gz', '083k-thigh.nii.gz', '084a-thigh.nii.gz', '087f-thigh.nii.gz', '088f-thigh.nii.gz', '088k-thigh.nii.gz', '090a-thigh.nii.gz', '091f-thigh.nii.gz', '092k-thigh.nii.gz']\n",
      "['data/training/156f.nii.gz_074k-thigh.nii.gz_.nii.gz', 'data/training/156f.nii.gz_075a-thigh.nii.gz_.nii.gz', 'data/training/156f.nii.gz_075k-thigh.nii.gz_.nii.gz', 'data/training/156f.nii.gz_077k-thigh.nii.gz_.nii.gz', 'data/training/156f.nii.gz_079k-thigh.nii.gz_.nii.gz', 'data/training/156f.nii.gz_080k-thigh.nii.gz_.nii.gz', 'data/training/156f.nii.gz_082k-thigh.nii.gz_.nii.gz', 'data/training/156f.nii.gz_083a-thigh.nii.gz_.nii.gz', 'data/training/156f.nii.gz_083k-thigh.nii.gz_.nii.gz', 'data/training/156f.nii.gz_084a-thigh.nii.gz_.nii.gz', 'data/training/156f.nii.gz_087f-thigh.nii.gz_.nii.gz', 'data/training/156f.nii.gz_088f-thigh.nii.gz_.nii.gz', 'data/training/156f.nii.gz_088k-thigh.nii.gz_.nii.gz', 'data/training/156f.nii.gz_090a-thigh.nii.gz_.nii.gz', 'data/training/156f.nii.gz_091f-thigh.nii.gz_.nii.gz', 'data/training/156f.nii.gz_092k-thigh.nii.gz_.nii.gz']\n"
     ]
    },
    {
     "name": "stderr",
     "output_type": "stream",
     "text": [
      " 35%|█████████████████████████████████████████████████████████████████████████████████████████████████▎                                                                                                                                                                                    | 21/60 [01:49<03:34,  5.51s/it]"
     ]
    },
    {
     "name": "stdout",
     "output_type": "stream",
     "text": [
      "['074k-thigh.nii.gz', '075a-thigh.nii.gz', '075k-thigh.nii.gz', '077k-thigh.nii.gz', '079k-thigh.nii.gz', '080k-thigh.nii.gz', '082k-thigh.nii.gz', '083a-thigh.nii.gz', '083k-thigh.nii.gz', '084a-thigh.nii.gz', '087f-thigh.nii.gz', '088f-thigh.nii.gz', '088k-thigh.nii.gz', '090a-thigh.nii.gz', '091f-thigh.nii.gz', '092k-thigh.nii.gz']\n",
      "['data/training/159a.nii.gz_074k-thigh.nii.gz_.nii.gz', 'data/training/159a.nii.gz_075a-thigh.nii.gz_.nii.gz', 'data/training/159a.nii.gz_075k-thigh.nii.gz_.nii.gz', 'data/training/159a.nii.gz_077k-thigh.nii.gz_.nii.gz', 'data/training/159a.nii.gz_079k-thigh.nii.gz_.nii.gz', 'data/training/159a.nii.gz_080k-thigh.nii.gz_.nii.gz', 'data/training/159a.nii.gz_082k-thigh.nii.gz_.nii.gz', 'data/training/159a.nii.gz_083a-thigh.nii.gz_.nii.gz', 'data/training/159a.nii.gz_083k-thigh.nii.gz_.nii.gz', 'data/training/159a.nii.gz_084a-thigh.nii.gz_.nii.gz', 'data/training/159a.nii.gz_087f-thigh.nii.gz_.nii.gz', 'data/training/159a.nii.gz_088f-thigh.nii.gz_.nii.gz', 'data/training/159a.nii.gz_088k-thigh.nii.gz_.nii.gz', 'data/training/159a.nii.gz_090a-thigh.nii.gz_.nii.gz', 'data/training/159a.nii.gz_091f-thigh.nii.gz_.nii.gz', 'data/training/159a.nii.gz_092k-thigh.nii.gz_.nii.gz']\n"
     ]
    },
    {
     "name": "stderr",
     "output_type": "stream",
     "text": [
      " 37%|█████████████████████████████████████████████████████████████████████████████████████████████████████▉                                                                                                                                                                                | 22/60 [01:54<03:25,  5.40s/it]"
     ]
    },
    {
     "name": "stdout",
     "output_type": "stream",
     "text": [
      "['074k-thigh.nii.gz', '075a-thigh.nii.gz', '075k-thigh.nii.gz', '077k-thigh.nii.gz', '079k-thigh.nii.gz', '080k-thigh.nii.gz', '082k-thigh.nii.gz', '083a-thigh.nii.gz', '083k-thigh.nii.gz', '084a-thigh.nii.gz', '087f-thigh.nii.gz', '088f-thigh.nii.gz', '088k-thigh.nii.gz', '090a-thigh.nii.gz', '091f-thigh.nii.gz', '092k-thigh.nii.gz']\n",
      "['data/training/159f.nii.gz_074k-thigh.nii.gz_.nii.gz', 'data/training/159f.nii.gz_075a-thigh.nii.gz_.nii.gz', 'data/training/159f.nii.gz_075k-thigh.nii.gz_.nii.gz', 'data/training/159f.nii.gz_077k-thigh.nii.gz_.nii.gz', 'data/training/159f.nii.gz_079k-thigh.nii.gz_.nii.gz', 'data/training/159f.nii.gz_080k-thigh.nii.gz_.nii.gz', 'data/training/159f.nii.gz_082k-thigh.nii.gz_.nii.gz', 'data/training/159f.nii.gz_083a-thigh.nii.gz_.nii.gz', 'data/training/159f.nii.gz_083k-thigh.nii.gz_.nii.gz', 'data/training/159f.nii.gz_084a-thigh.nii.gz_.nii.gz', 'data/training/159f.nii.gz_087f-thigh.nii.gz_.nii.gz', 'data/training/159f.nii.gz_088f-thigh.nii.gz_.nii.gz', 'data/training/159f.nii.gz_088k-thigh.nii.gz_.nii.gz', 'data/training/159f.nii.gz_090a-thigh.nii.gz_.nii.gz', 'data/training/159f.nii.gz_091f-thigh.nii.gz_.nii.gz', 'data/training/159f.nii.gz_092k-thigh.nii.gz_.nii.gz']\n"
     ]
    },
    {
     "name": "stderr",
     "output_type": "stream",
     "text": [
      " 38%|██████████████████████████████████████████████████████████████████████████████████████████████████████████▌                                                                                                                                                                           | 23/60 [01:59<03:16,  5.30s/it]"
     ]
    },
    {
     "name": "stdout",
     "output_type": "stream",
     "text": [
      "['074k-thigh.nii.gz', '075a-thigh.nii.gz', '075k-thigh.nii.gz', '077k-thigh.nii.gz', '079k-thigh.nii.gz', '080k-thigh.nii.gz', '082k-thigh.nii.gz', '083a-thigh.nii.gz', '083k-thigh.nii.gz', '084a-thigh.nii.gz', '087f-thigh.nii.gz', '088f-thigh.nii.gz', '088k-thigh.nii.gz', '090a-thigh.nii.gz', '091f-thigh.nii.gz', '092k-thigh.nii.gz']\n",
      "['data/training/159k.nii.gz_074k-thigh.nii.gz_.nii.gz', 'data/training/159k.nii.gz_075a-thigh.nii.gz_.nii.gz', 'data/training/159k.nii.gz_075k-thigh.nii.gz_.nii.gz', 'data/training/159k.nii.gz_077k-thigh.nii.gz_.nii.gz', 'data/training/159k.nii.gz_079k-thigh.nii.gz_.nii.gz', 'data/training/159k.nii.gz_080k-thigh.nii.gz_.nii.gz', 'data/training/159k.nii.gz_082k-thigh.nii.gz_.nii.gz', 'data/training/159k.nii.gz_083a-thigh.nii.gz_.nii.gz', 'data/training/159k.nii.gz_083k-thigh.nii.gz_.nii.gz', 'data/training/159k.nii.gz_084a-thigh.nii.gz_.nii.gz', 'data/training/159k.nii.gz_087f-thigh.nii.gz_.nii.gz', 'data/training/159k.nii.gz_088f-thigh.nii.gz_.nii.gz', 'data/training/159k.nii.gz_088k-thigh.nii.gz_.nii.gz', 'data/training/159k.nii.gz_090a-thigh.nii.gz_.nii.gz', 'data/training/159k.nii.gz_091f-thigh.nii.gz_.nii.gz', 'data/training/159k.nii.gz_092k-thigh.nii.gz_.nii.gz']\n"
     ]
    },
    {
     "name": "stderr",
     "output_type": "stream",
     "text": [
      " 40%|███████████████████████████████████████████████████████████████████████████████████████████████████████████████▏                                                                                                                                                                      | 24/60 [02:05<03:14,  5.41s/it]"
     ]
    },
    {
     "name": "stdout",
     "output_type": "stream",
     "text": [
      "['074k-thigh.nii.gz', '075a-thigh.nii.gz', '075k-thigh.nii.gz', '077k-thigh.nii.gz', '079k-thigh.nii.gz', '080k-thigh.nii.gz', '082k-thigh.nii.gz', '083a-thigh.nii.gz', '083k-thigh.nii.gz', '084a-thigh.nii.gz', '087f-thigh.nii.gz', '088f-thigh.nii.gz', '088k-thigh.nii.gz', '090a-thigh.nii.gz', '091f-thigh.nii.gz', '092k-thigh.nii.gz']\n",
      "['data/training/160a.nii.gz_074k-thigh.nii.gz_.nii.gz', 'data/training/160a.nii.gz_075a-thigh.nii.gz_.nii.gz', 'data/training/160a.nii.gz_075k-thigh.nii.gz_.nii.gz', 'data/training/160a.nii.gz_077k-thigh.nii.gz_.nii.gz', 'data/training/160a.nii.gz_079k-thigh.nii.gz_.nii.gz', 'data/training/160a.nii.gz_080k-thigh.nii.gz_.nii.gz', 'data/training/160a.nii.gz_082k-thigh.nii.gz_.nii.gz', 'data/training/160a.nii.gz_083a-thigh.nii.gz_.nii.gz', 'data/training/160a.nii.gz_083k-thigh.nii.gz_.nii.gz', 'data/training/160a.nii.gz_084a-thigh.nii.gz_.nii.gz', 'data/training/160a.nii.gz_087f-thigh.nii.gz_.nii.gz', 'data/training/160a.nii.gz_088f-thigh.nii.gz_.nii.gz', 'data/training/160a.nii.gz_088k-thigh.nii.gz_.nii.gz', 'data/training/160a.nii.gz_090a-thigh.nii.gz_.nii.gz', 'data/training/160a.nii.gz_091f-thigh.nii.gz_.nii.gz', 'data/training/160a.nii.gz_092k-thigh.nii.gz_.nii.gz']\n"
     ]
    },
    {
     "name": "stderr",
     "output_type": "stream",
     "text": [
      " 42%|███████████████████████████████████████████████████████████████████████████████████████████████████████████████████▊                                                                                                                                                                  | 25/60 [02:10<03:06,  5.32s/it]"
     ]
    },
    {
     "name": "stdout",
     "output_type": "stream",
     "text": [
      "['074k-thigh.nii.gz', '075a-thigh.nii.gz', '075k-thigh.nii.gz', '077k-thigh.nii.gz', '079k-thigh.nii.gz', '080k-thigh.nii.gz', '082k-thigh.nii.gz', '083a-thigh.nii.gz', '083k-thigh.nii.gz', '084a-thigh.nii.gz', '087f-thigh.nii.gz', '088f-thigh.nii.gz', '088k-thigh.nii.gz', '090a-thigh.nii.gz', '091f-thigh.nii.gz', '092k-thigh.nii.gz']\n",
      "['data/training/160f.nii.gz_074k-thigh.nii.gz_.nii.gz', 'data/training/160f.nii.gz_075a-thigh.nii.gz_.nii.gz', 'data/training/160f.nii.gz_075k-thigh.nii.gz_.nii.gz', 'data/training/160f.nii.gz_077k-thigh.nii.gz_.nii.gz', 'data/training/160f.nii.gz_079k-thigh.nii.gz_.nii.gz', 'data/training/160f.nii.gz_080k-thigh.nii.gz_.nii.gz', 'data/training/160f.nii.gz_082k-thigh.nii.gz_.nii.gz', 'data/training/160f.nii.gz_083a-thigh.nii.gz_.nii.gz', 'data/training/160f.nii.gz_083k-thigh.nii.gz_.nii.gz', 'data/training/160f.nii.gz_084a-thigh.nii.gz_.nii.gz', 'data/training/160f.nii.gz_087f-thigh.nii.gz_.nii.gz', 'data/training/160f.nii.gz_088f-thigh.nii.gz_.nii.gz', 'data/training/160f.nii.gz_088k-thigh.nii.gz_.nii.gz', 'data/training/160f.nii.gz_090a-thigh.nii.gz_.nii.gz', 'data/training/160f.nii.gz_091f-thigh.nii.gz_.nii.gz', 'data/training/160f.nii.gz_092k-thigh.nii.gz_.nii.gz']\n"
     ]
    },
    {
     "name": "stderr",
     "output_type": "stream",
     "text": [
      " 43%|████████████████████████████████████████████████████████████████████████████████████████████████████████████████████████▍                                                                                                                                                             | 26/60 [02:15<02:52,  5.08s/it]"
     ]
    },
    {
     "name": "stdout",
     "output_type": "stream",
     "text": [
      "['074k-thigh.nii.gz', '075a-thigh.nii.gz', '075k-thigh.nii.gz', '077k-thigh.nii.gz', '079k-thigh.nii.gz', '080k-thigh.nii.gz', '082k-thigh.nii.gz', '083a-thigh.nii.gz', '083k-thigh.nii.gz', '084a-thigh.nii.gz', '087f-thigh.nii.gz', '088f-thigh.nii.gz', '088k-thigh.nii.gz', '090a-thigh.nii.gz', '091f-thigh.nii.gz', '092k-thigh.nii.gz']\n",
      "['data/training/160k.nii.gz_074k-thigh.nii.gz_.nii.gz', 'data/training/160k.nii.gz_075a-thigh.nii.gz_.nii.gz', 'data/training/160k.nii.gz_075k-thigh.nii.gz_.nii.gz', 'data/training/160k.nii.gz_077k-thigh.nii.gz_.nii.gz', 'data/training/160k.nii.gz_079k-thigh.nii.gz_.nii.gz', 'data/training/160k.nii.gz_080k-thigh.nii.gz_.nii.gz', 'data/training/160k.nii.gz_082k-thigh.nii.gz_.nii.gz', 'data/training/160k.nii.gz_083a-thigh.nii.gz_.nii.gz', 'data/training/160k.nii.gz_083k-thigh.nii.gz_.nii.gz', 'data/training/160k.nii.gz_084a-thigh.nii.gz_.nii.gz', 'data/training/160k.nii.gz_087f-thigh.nii.gz_.nii.gz', 'data/training/160k.nii.gz_088f-thigh.nii.gz_.nii.gz', 'data/training/160k.nii.gz_088k-thigh.nii.gz_.nii.gz', 'data/training/160k.nii.gz_090a-thigh.nii.gz_.nii.gz', 'data/training/160k.nii.gz_091f-thigh.nii.gz_.nii.gz', 'data/training/160k.nii.gz_092k-thigh.nii.gz_.nii.gz']\n"
     ]
    },
    {
     "name": "stderr",
     "output_type": "stream",
     "text": [
      " 45%|█████████████████████████████████████████████████████████████████████████████████████████████████████████████████████████████                                                                                                                                                         | 27/60 [02:20<02:45,  5.02s/it]"
     ]
    },
    {
     "name": "stdout",
     "output_type": "stream",
     "text": [
      "['074k-thigh.nii.gz', '075a-thigh.nii.gz', '075k-thigh.nii.gz', '077k-thigh.nii.gz', '079k-thigh.nii.gz', '080k-thigh.nii.gz', '082k-thigh.nii.gz', '083a-thigh.nii.gz', '083k-thigh.nii.gz', '084a-thigh.nii.gz', '087f-thigh.nii.gz', '088f-thigh.nii.gz', '088k-thigh.nii.gz', '090a-thigh.nii.gz', '091f-thigh.nii.gz', '092k-thigh.nii.gz']\n",
      "['data/training/161a.nii.gz_074k-thigh.nii.gz_.nii.gz', 'data/training/161a.nii.gz_075a-thigh.nii.gz_.nii.gz', 'data/training/161a.nii.gz_075k-thigh.nii.gz_.nii.gz', 'data/training/161a.nii.gz_077k-thigh.nii.gz_.nii.gz', 'data/training/161a.nii.gz_079k-thigh.nii.gz_.nii.gz', 'data/training/161a.nii.gz_080k-thigh.nii.gz_.nii.gz', 'data/training/161a.nii.gz_082k-thigh.nii.gz_.nii.gz', 'data/training/161a.nii.gz_083a-thigh.nii.gz_.nii.gz', 'data/training/161a.nii.gz_083k-thigh.nii.gz_.nii.gz', 'data/training/161a.nii.gz_084a-thigh.nii.gz_.nii.gz', 'data/training/161a.nii.gz_087f-thigh.nii.gz_.nii.gz', 'data/training/161a.nii.gz_088f-thigh.nii.gz_.nii.gz', 'data/training/161a.nii.gz_088k-thigh.nii.gz_.nii.gz', 'data/training/161a.nii.gz_090a-thigh.nii.gz_.nii.gz', 'data/training/161a.nii.gz_091f-thigh.nii.gz_.nii.gz', 'data/training/161a.nii.gz_092k-thigh.nii.gz_.nii.gz']\n"
     ]
    },
    {
     "name": "stderr",
     "output_type": "stream",
     "text": [
      " 47%|█████████████████████████████████████████████████████████████████████████████████████████████████████████████████████████████████▋                                                                                                                                                    | 28/60 [02:25<02:42,  5.08s/it]"
     ]
    },
    {
     "name": "stdout",
     "output_type": "stream",
     "text": [
      "['074k-thigh.nii.gz', '075a-thigh.nii.gz', '075k-thigh.nii.gz', '077k-thigh.nii.gz', '079k-thigh.nii.gz', '080k-thigh.nii.gz', '082k-thigh.nii.gz', '083a-thigh.nii.gz', '083k-thigh.nii.gz', '084a-thigh.nii.gz', '087f-thigh.nii.gz', '088f-thigh.nii.gz', '088k-thigh.nii.gz', '090a-thigh.nii.gz', '091f-thigh.nii.gz', '092k-thigh.nii.gz']\n",
      "['data/training/161f.nii.gz_074k-thigh.nii.gz_.nii.gz', 'data/training/161f.nii.gz_075a-thigh.nii.gz_.nii.gz', 'data/training/161f.nii.gz_075k-thigh.nii.gz_.nii.gz', 'data/training/161f.nii.gz_077k-thigh.nii.gz_.nii.gz', 'data/training/161f.nii.gz_079k-thigh.nii.gz_.nii.gz', 'data/training/161f.nii.gz_080k-thigh.nii.gz_.nii.gz', 'data/training/161f.nii.gz_082k-thigh.nii.gz_.nii.gz', 'data/training/161f.nii.gz_083a-thigh.nii.gz_.nii.gz', 'data/training/161f.nii.gz_083k-thigh.nii.gz_.nii.gz', 'data/training/161f.nii.gz_084a-thigh.nii.gz_.nii.gz', 'data/training/161f.nii.gz_087f-thigh.nii.gz_.nii.gz', 'data/training/161f.nii.gz_088f-thigh.nii.gz_.nii.gz', 'data/training/161f.nii.gz_088k-thigh.nii.gz_.nii.gz', 'data/training/161f.nii.gz_090a-thigh.nii.gz_.nii.gz', 'data/training/161f.nii.gz_091f-thigh.nii.gz_.nii.gz', 'data/training/161f.nii.gz_092k-thigh.nii.gz_.nii.gz']\n"
     ]
    },
    {
     "name": "stderr",
     "output_type": "stream",
     "text": [
      " 48%|██████████████████████████████████████████████████████████████████████████████████████████████████████████████████████████████████████▎                                                                                                                                               | 29/60 [02:29<02:31,  4.87s/it]"
     ]
    },
    {
     "name": "stdout",
     "output_type": "stream",
     "text": [
      "['074k-thigh.nii.gz', '075a-thigh.nii.gz', '075k-thigh.nii.gz', '077k-thigh.nii.gz', '079k-thigh.nii.gz', '080k-thigh.nii.gz', '082k-thigh.nii.gz', '083a-thigh.nii.gz', '083k-thigh.nii.gz', '084a-thigh.nii.gz', '087f-thigh.nii.gz', '088f-thigh.nii.gz', '088k-thigh.nii.gz', '090a-thigh.nii.gz', '091f-thigh.nii.gz', '092k-thigh.nii.gz']\n",
      "['data/training/161k.nii.gz_074k-thigh.nii.gz_.nii.gz', 'data/training/161k.nii.gz_075a-thigh.nii.gz_.nii.gz', 'data/training/161k.nii.gz_075k-thigh.nii.gz_.nii.gz', 'data/training/161k.nii.gz_077k-thigh.nii.gz_.nii.gz', 'data/training/161k.nii.gz_079k-thigh.nii.gz_.nii.gz', 'data/training/161k.nii.gz_080k-thigh.nii.gz_.nii.gz', 'data/training/161k.nii.gz_082k-thigh.nii.gz_.nii.gz', 'data/training/161k.nii.gz_083a-thigh.nii.gz_.nii.gz', 'data/training/161k.nii.gz_083k-thigh.nii.gz_.nii.gz', 'data/training/161k.nii.gz_084a-thigh.nii.gz_.nii.gz', 'data/training/161k.nii.gz_087f-thigh.nii.gz_.nii.gz', 'data/training/161k.nii.gz_088f-thigh.nii.gz_.nii.gz', 'data/training/161k.nii.gz_088k-thigh.nii.gz_.nii.gz', 'data/training/161k.nii.gz_090a-thigh.nii.gz_.nii.gz', 'data/training/161k.nii.gz_091f-thigh.nii.gz_.nii.gz', 'data/training/161k.nii.gz_092k-thigh.nii.gz_.nii.gz']\n"
     ]
    },
    {
     "name": "stderr",
     "output_type": "stream",
     "text": [
      " 50%|███████████████████████████████████████████████████████████████████████████████████████████████████████████████████████████████████████████                                                                                                                                           | 30/60 [02:34<02:26,  4.89s/it]"
     ]
    },
    {
     "name": "stdout",
     "output_type": "stream",
     "text": [
      "['074k-thigh.nii.gz', '075a-thigh.nii.gz', '075k-thigh.nii.gz', '077k-thigh.nii.gz', '079k-thigh.nii.gz', '080k-thigh.nii.gz', '082k-thigh.nii.gz', '083a-thigh.nii.gz', '083k-thigh.nii.gz', '084a-thigh.nii.gz', '087f-thigh.nii.gz', '088f-thigh.nii.gz', '088k-thigh.nii.gz', '090a-thigh.nii.gz', '091f-thigh.nii.gz', '092k-thigh.nii.gz']\n",
      "['data/training/162a.nii.gz_074k-thigh.nii.gz_.nii.gz', 'data/training/162a.nii.gz_075a-thigh.nii.gz_.nii.gz', 'data/training/162a.nii.gz_075k-thigh.nii.gz_.nii.gz', 'data/training/162a.nii.gz_077k-thigh.nii.gz_.nii.gz', 'data/training/162a.nii.gz_079k-thigh.nii.gz_.nii.gz', 'data/training/162a.nii.gz_080k-thigh.nii.gz_.nii.gz', 'data/training/162a.nii.gz_082k-thigh.nii.gz_.nii.gz', 'data/training/162a.nii.gz_083a-thigh.nii.gz_.nii.gz', 'data/training/162a.nii.gz_083k-thigh.nii.gz_.nii.gz', 'data/training/162a.nii.gz_084a-thigh.nii.gz_.nii.gz', 'data/training/162a.nii.gz_087f-thigh.nii.gz_.nii.gz', 'data/training/162a.nii.gz_088f-thigh.nii.gz_.nii.gz', 'data/training/162a.nii.gz_088k-thigh.nii.gz_.nii.gz', 'data/training/162a.nii.gz_090a-thigh.nii.gz_.nii.gz', 'data/training/162a.nii.gz_091f-thigh.nii.gz_.nii.gz', 'data/training/162a.nii.gz_092k-thigh.nii.gz_.nii.gz']\n"
     ]
    },
    {
     "name": "stderr",
     "output_type": "stream",
     "text": [
      " 52%|███████████████████████████████████████████████████████████████████████████████████████████████████████████████████████████████████████████████▋                                                                                                                                      | 31/60 [02:39<02:23,  4.95s/it]"
     ]
    },
    {
     "name": "stdout",
     "output_type": "stream",
     "text": [
      "['074k-thigh.nii.gz', '075a-thigh.nii.gz', '075k-thigh.nii.gz', '077k-thigh.nii.gz', '079k-thigh.nii.gz', '080k-thigh.nii.gz', '082k-thigh.nii.gz', '083a-thigh.nii.gz', '083k-thigh.nii.gz', '084a-thigh.nii.gz', '087f-thigh.nii.gz', '088f-thigh.nii.gz', '088k-thigh.nii.gz', '090a-thigh.nii.gz', '091f-thigh.nii.gz', '092k-thigh.nii.gz']\n",
      "['data/training/163a.nii.gz_074k-thigh.nii.gz_.nii.gz', 'data/training/163a.nii.gz_075a-thigh.nii.gz_.nii.gz', 'data/training/163a.nii.gz_075k-thigh.nii.gz_.nii.gz', 'data/training/163a.nii.gz_077k-thigh.nii.gz_.nii.gz', 'data/training/163a.nii.gz_079k-thigh.nii.gz_.nii.gz', 'data/training/163a.nii.gz_080k-thigh.nii.gz_.nii.gz', 'data/training/163a.nii.gz_082k-thigh.nii.gz_.nii.gz', 'data/training/163a.nii.gz_083a-thigh.nii.gz_.nii.gz', 'data/training/163a.nii.gz_083k-thigh.nii.gz_.nii.gz', 'data/training/163a.nii.gz_084a-thigh.nii.gz_.nii.gz', 'data/training/163a.nii.gz_087f-thigh.nii.gz_.nii.gz', 'data/training/163a.nii.gz_088f-thigh.nii.gz_.nii.gz', 'data/training/163a.nii.gz_088k-thigh.nii.gz_.nii.gz', 'data/training/163a.nii.gz_090a-thigh.nii.gz_.nii.gz', 'data/training/163a.nii.gz_091f-thigh.nii.gz_.nii.gz', 'data/training/163a.nii.gz_092k-thigh.nii.gz_.nii.gz']\n"
     ]
    },
    {
     "name": "stderr",
     "output_type": "stream",
     "text": [
      " 53%|████████████████████████████████████████████████████████████████████████████████████████████████████████████████████████████████████████████████████▎                                                                                                                                 | 32/60 [02:45<02:22,  5.10s/it]"
     ]
    },
    {
     "name": "stdout",
     "output_type": "stream",
     "text": [
      "['074k-thigh.nii.gz', '075a-thigh.nii.gz', '075k-thigh.nii.gz', '077k-thigh.nii.gz', '079k-thigh.nii.gz', '080k-thigh.nii.gz', '082k-thigh.nii.gz', '083a-thigh.nii.gz', '083k-thigh.nii.gz', '084a-thigh.nii.gz', '087f-thigh.nii.gz', '088f-thigh.nii.gz', '088k-thigh.nii.gz', '090a-thigh.nii.gz', '091f-thigh.nii.gz', '092k-thigh.nii.gz']\n",
      "['data/training/165a.nii.gz_074k-thigh.nii.gz_.nii.gz', 'data/training/165a.nii.gz_075a-thigh.nii.gz_.nii.gz', 'data/training/165a.nii.gz_075k-thigh.nii.gz_.nii.gz', 'data/training/165a.nii.gz_077k-thigh.nii.gz_.nii.gz', 'data/training/165a.nii.gz_079k-thigh.nii.gz_.nii.gz', 'data/training/165a.nii.gz_080k-thigh.nii.gz_.nii.gz', 'data/training/165a.nii.gz_082k-thigh.nii.gz_.nii.gz', 'data/training/165a.nii.gz_083a-thigh.nii.gz_.nii.gz', 'data/training/165a.nii.gz_083k-thigh.nii.gz_.nii.gz', 'data/training/165a.nii.gz_084a-thigh.nii.gz_.nii.gz', 'data/training/165a.nii.gz_087f-thigh.nii.gz_.nii.gz', 'data/training/165a.nii.gz_088f-thigh.nii.gz_.nii.gz', 'data/training/165a.nii.gz_088k-thigh.nii.gz_.nii.gz', 'data/training/165a.nii.gz_090a-thigh.nii.gz_.nii.gz', 'data/training/165a.nii.gz_091f-thigh.nii.gz_.nii.gz', 'data/training/165a.nii.gz_092k-thigh.nii.gz_.nii.gz']\n"
     ]
    },
    {
     "name": "stderr",
     "output_type": "stream",
     "text": [
      " 55%|████████████████████████████████████████████████████████████████████████████████████████████████████████████████████████████████████████████████████████▉                                                                                                                             | 33/60 [02:50<02:22,  5.27s/it]"
     ]
    },
    {
     "name": "stdout",
     "output_type": "stream",
     "text": [
      "['074k-thigh.nii.gz', '075a-thigh.nii.gz', '075k-thigh.nii.gz', '077k-thigh.nii.gz', '079k-thigh.nii.gz', '080k-thigh.nii.gz', '082k-thigh.nii.gz', '083a-thigh.nii.gz', '083k-thigh.nii.gz', '084a-thigh.nii.gz', '087f-thigh.nii.gz', '088f-thigh.nii.gz', '088k-thigh.nii.gz', '090a-thigh.nii.gz', '091f-thigh.nii.gz', '092k-thigh.nii.gz']\n",
      "['data/training/165f.nii.gz_074k-thigh.nii.gz_.nii.gz', 'data/training/165f.nii.gz_075a-thigh.nii.gz_.nii.gz', 'data/training/165f.nii.gz_075k-thigh.nii.gz_.nii.gz', 'data/training/165f.nii.gz_077k-thigh.nii.gz_.nii.gz', 'data/training/165f.nii.gz_079k-thigh.nii.gz_.nii.gz', 'data/training/165f.nii.gz_080k-thigh.nii.gz_.nii.gz', 'data/training/165f.nii.gz_082k-thigh.nii.gz_.nii.gz', 'data/training/165f.nii.gz_083a-thigh.nii.gz_.nii.gz', 'data/training/165f.nii.gz_083k-thigh.nii.gz_.nii.gz', 'data/training/165f.nii.gz_084a-thigh.nii.gz_.nii.gz', 'data/training/165f.nii.gz_087f-thigh.nii.gz_.nii.gz', 'data/training/165f.nii.gz_088f-thigh.nii.gz_.nii.gz', 'data/training/165f.nii.gz_088k-thigh.nii.gz_.nii.gz', 'data/training/165f.nii.gz_090a-thigh.nii.gz_.nii.gz', 'data/training/165f.nii.gz_091f-thigh.nii.gz_.nii.gz', 'data/training/165f.nii.gz_092k-thigh.nii.gz_.nii.gz']\n"
     ]
    },
    {
     "name": "stderr",
     "output_type": "stream",
     "text": [
      " 57%|█████████████████████████████████████████████████████████████████████████████████████████████████████████████████████████████████████████████████████████████▌                                                                                                                        | 34/60 [02:56<02:19,  5.35s/it]"
     ]
    },
    {
     "name": "stdout",
     "output_type": "stream",
     "text": [
      "['074k-thigh.nii.gz', '075a-thigh.nii.gz', '075k-thigh.nii.gz', '077k-thigh.nii.gz', '079k-thigh.nii.gz', '080k-thigh.nii.gz', '082k-thigh.nii.gz', '083a-thigh.nii.gz', '083k-thigh.nii.gz', '084a-thigh.nii.gz', '087f-thigh.nii.gz', '088f-thigh.nii.gz', '088k-thigh.nii.gz', '090a-thigh.nii.gz', '091f-thigh.nii.gz', '092k-thigh.nii.gz']\n",
      "['data/training/165k.nii.gz_074k-thigh.nii.gz_.nii.gz', 'data/training/165k.nii.gz_075a-thigh.nii.gz_.nii.gz', 'data/training/165k.nii.gz_075k-thigh.nii.gz_.nii.gz', 'data/training/165k.nii.gz_077k-thigh.nii.gz_.nii.gz', 'data/training/165k.nii.gz_079k-thigh.nii.gz_.nii.gz', 'data/training/165k.nii.gz_080k-thigh.nii.gz_.nii.gz', 'data/training/165k.nii.gz_082k-thigh.nii.gz_.nii.gz', 'data/training/165k.nii.gz_083a-thigh.nii.gz_.nii.gz', 'data/training/165k.nii.gz_083k-thigh.nii.gz_.nii.gz', 'data/training/165k.nii.gz_084a-thigh.nii.gz_.nii.gz', 'data/training/165k.nii.gz_087f-thigh.nii.gz_.nii.gz', 'data/training/165k.nii.gz_088f-thigh.nii.gz_.nii.gz', 'data/training/165k.nii.gz_088k-thigh.nii.gz_.nii.gz', 'data/training/165k.nii.gz_090a-thigh.nii.gz_.nii.gz', 'data/training/165k.nii.gz_091f-thigh.nii.gz_.nii.gz', 'data/training/165k.nii.gz_092k-thigh.nii.gz_.nii.gz']\n"
     ]
    },
    {
     "name": "stderr",
     "output_type": "stream",
     "text": [
      " 58%|██████████████████████████████████████████████████████████████████████████████████████████████████████████████████████████████████████████████████████████████████▏                                                                                                                   | 35/60 [03:01<02:11,  5.28s/it]"
     ]
    },
    {
     "name": "stdout",
     "output_type": "stream",
     "text": [
      "['074k-thigh.nii.gz', '075a-thigh.nii.gz', '075k-thigh.nii.gz', '077k-thigh.nii.gz', '079k-thigh.nii.gz', '080k-thigh.nii.gz', '082k-thigh.nii.gz', '083a-thigh.nii.gz', '083k-thigh.nii.gz', '084a-thigh.nii.gz', '087f-thigh.nii.gz', '088f-thigh.nii.gz', '088k-thigh.nii.gz', '090a-thigh.nii.gz', '091f-thigh.nii.gz', '092k-thigh.nii.gz']\n",
      "['data/training/166a.nii.gz_074k-thigh.nii.gz_.nii.gz', 'data/training/166a.nii.gz_075a-thigh.nii.gz_.nii.gz', 'data/training/166a.nii.gz_075k-thigh.nii.gz_.nii.gz', 'data/training/166a.nii.gz_077k-thigh.nii.gz_.nii.gz', 'data/training/166a.nii.gz_079k-thigh.nii.gz_.nii.gz', 'data/training/166a.nii.gz_080k-thigh.nii.gz_.nii.gz', 'data/training/166a.nii.gz_082k-thigh.nii.gz_.nii.gz', 'data/training/166a.nii.gz_083a-thigh.nii.gz_.nii.gz', 'data/training/166a.nii.gz_083k-thigh.nii.gz_.nii.gz', 'data/training/166a.nii.gz_084a-thigh.nii.gz_.nii.gz', 'data/training/166a.nii.gz_087f-thigh.nii.gz_.nii.gz', 'data/training/166a.nii.gz_088f-thigh.nii.gz_.nii.gz', 'data/training/166a.nii.gz_088k-thigh.nii.gz_.nii.gz', 'data/training/166a.nii.gz_090a-thigh.nii.gz_.nii.gz', 'data/training/166a.nii.gz_091f-thigh.nii.gz_.nii.gz', 'data/training/166a.nii.gz_092k-thigh.nii.gz_.nii.gz']\n"
     ]
    },
    {
     "name": "stderr",
     "output_type": "stream",
     "text": [
      " 60%|██████████████████████████████████████████████████████████████████████████████████████████████████████████████████████████████████████████████████████████████████████▊                                                                                                               | 36/60 [03:07<02:09,  5.39s/it]"
     ]
    },
    {
     "name": "stdout",
     "output_type": "stream",
     "text": [
      "['074k-thigh.nii.gz', '075a-thigh.nii.gz', '075k-thigh.nii.gz', '077k-thigh.nii.gz', '079k-thigh.nii.gz', '080k-thigh.nii.gz', '082k-thigh.nii.gz', '083a-thigh.nii.gz', '083k-thigh.nii.gz', '084a-thigh.nii.gz', '087f-thigh.nii.gz', '088f-thigh.nii.gz', '088k-thigh.nii.gz', '090a-thigh.nii.gz', '091f-thigh.nii.gz', '092k-thigh.nii.gz']\n",
      "['data/training/166f.nii.gz_074k-thigh.nii.gz_.nii.gz', 'data/training/166f.nii.gz_075a-thigh.nii.gz_.nii.gz', 'data/training/166f.nii.gz_075k-thigh.nii.gz_.nii.gz', 'data/training/166f.nii.gz_077k-thigh.nii.gz_.nii.gz', 'data/training/166f.nii.gz_079k-thigh.nii.gz_.nii.gz', 'data/training/166f.nii.gz_080k-thigh.nii.gz_.nii.gz', 'data/training/166f.nii.gz_082k-thigh.nii.gz_.nii.gz', 'data/training/166f.nii.gz_083a-thigh.nii.gz_.nii.gz', 'data/training/166f.nii.gz_083k-thigh.nii.gz_.nii.gz', 'data/training/166f.nii.gz_084a-thigh.nii.gz_.nii.gz', 'data/training/166f.nii.gz_087f-thigh.nii.gz_.nii.gz', 'data/training/166f.nii.gz_088f-thigh.nii.gz_.nii.gz', 'data/training/166f.nii.gz_088k-thigh.nii.gz_.nii.gz', 'data/training/166f.nii.gz_090a-thigh.nii.gz_.nii.gz', 'data/training/166f.nii.gz_091f-thigh.nii.gz_.nii.gz', 'data/training/166f.nii.gz_092k-thigh.nii.gz_.nii.gz']\n"
     ]
    },
    {
     "name": "stderr",
     "output_type": "stream",
     "text": [
      " 62%|███████████████████████████████████████████████████████████████████████████████████████████████████████████████████████████████████████████████████████████████████████████▍                                                                                                          | 37/60 [03:11<01:59,  5.21s/it]"
     ]
    },
    {
     "name": "stdout",
     "output_type": "stream",
     "text": [
      "['074k-thigh.nii.gz', '075a-thigh.nii.gz', '075k-thigh.nii.gz', '077k-thigh.nii.gz', '079k-thigh.nii.gz', '080k-thigh.nii.gz', '082k-thigh.nii.gz', '083a-thigh.nii.gz', '083k-thigh.nii.gz', '084a-thigh.nii.gz', '087f-thigh.nii.gz', '088f-thigh.nii.gz', '088k-thigh.nii.gz', '090a-thigh.nii.gz', '091f-thigh.nii.gz', '092k-thigh.nii.gz']\n",
      "['data/training/166k.nii.gz_074k-thigh.nii.gz_.nii.gz', 'data/training/166k.nii.gz_075a-thigh.nii.gz_.nii.gz', 'data/training/166k.nii.gz_075k-thigh.nii.gz_.nii.gz', 'data/training/166k.nii.gz_077k-thigh.nii.gz_.nii.gz', 'data/training/166k.nii.gz_079k-thigh.nii.gz_.nii.gz', 'data/training/166k.nii.gz_080k-thigh.nii.gz_.nii.gz', 'data/training/166k.nii.gz_082k-thigh.nii.gz_.nii.gz', 'data/training/166k.nii.gz_083a-thigh.nii.gz_.nii.gz', 'data/training/166k.nii.gz_083k-thigh.nii.gz_.nii.gz', 'data/training/166k.nii.gz_084a-thigh.nii.gz_.nii.gz', 'data/training/166k.nii.gz_087f-thigh.nii.gz_.nii.gz', 'data/training/166k.nii.gz_088f-thigh.nii.gz_.nii.gz', 'data/training/166k.nii.gz_088k-thigh.nii.gz_.nii.gz', 'data/training/166k.nii.gz_090a-thigh.nii.gz_.nii.gz', 'data/training/166k.nii.gz_091f-thigh.nii.gz_.nii.gz', 'data/training/166k.nii.gz_092k-thigh.nii.gz_.nii.gz']\n"
     ]
    },
    {
     "name": "stderr",
     "output_type": "stream",
     "text": [
      " 63%|████████████████████████████████████████████████████████████████████████████████████████████████████████████████████████████████████████████████████████████████████████████████                                                                                                      | 38/60 [03:17<01:57,  5.35s/it]"
     ]
    },
    {
     "name": "stdout",
     "output_type": "stream",
     "text": [
      "['074k-thigh.nii.gz', '075a-thigh.nii.gz', '075k-thigh.nii.gz', '077k-thigh.nii.gz', '079k-thigh.nii.gz', '080k-thigh.nii.gz', '082k-thigh.nii.gz', '083a-thigh.nii.gz', '083k-thigh.nii.gz', '084a-thigh.nii.gz', '087f-thigh.nii.gz', '088f-thigh.nii.gz', '088k-thigh.nii.gz', '090a-thigh.nii.gz', '091f-thigh.nii.gz', '092k-thigh.nii.gz']\n",
      "['data/training/167f.nii.gz_074k-thigh.nii.gz_.nii.gz', 'data/training/167f.nii.gz_075a-thigh.nii.gz_.nii.gz', 'data/training/167f.nii.gz_075k-thigh.nii.gz_.nii.gz', 'data/training/167f.nii.gz_077k-thigh.nii.gz_.nii.gz', 'data/training/167f.nii.gz_079k-thigh.nii.gz_.nii.gz', 'data/training/167f.nii.gz_080k-thigh.nii.gz_.nii.gz', 'data/training/167f.nii.gz_082k-thigh.nii.gz_.nii.gz', 'data/training/167f.nii.gz_083a-thigh.nii.gz_.nii.gz', 'data/training/167f.nii.gz_083k-thigh.nii.gz_.nii.gz', 'data/training/167f.nii.gz_084a-thigh.nii.gz_.nii.gz', 'data/training/167f.nii.gz_087f-thigh.nii.gz_.nii.gz', 'data/training/167f.nii.gz_088f-thigh.nii.gz_.nii.gz', 'data/training/167f.nii.gz_088k-thigh.nii.gz_.nii.gz', 'data/training/167f.nii.gz_090a-thigh.nii.gz_.nii.gz', 'data/training/167f.nii.gz_091f-thigh.nii.gz_.nii.gz', 'data/training/167f.nii.gz_092k-thigh.nii.gz_.nii.gz']\n"
     ]
    },
    {
     "name": "stderr",
     "output_type": "stream",
     "text": [
      " 65%|████████████████████████████████████████████████████████████████████████████████████████████████████████████████████████████████████████████████████████████████████████████████████▋                                                                                                 | 39/60 [03:22<01:51,  5.31s/it]"
     ]
    },
    {
     "name": "stdout",
     "output_type": "stream",
     "text": [
      "['074k-thigh.nii.gz', '075a-thigh.nii.gz', '075k-thigh.nii.gz', '077k-thigh.nii.gz', '079k-thigh.nii.gz', '080k-thigh.nii.gz', '082k-thigh.nii.gz', '083a-thigh.nii.gz', '083k-thigh.nii.gz', '084a-thigh.nii.gz', '087f-thigh.nii.gz', '088f-thigh.nii.gz', '088k-thigh.nii.gz', '090a-thigh.nii.gz', '091f-thigh.nii.gz', '092k-thigh.nii.gz']\n",
      "['data/training/167k.nii.gz_074k-thigh.nii.gz_.nii.gz', 'data/training/167k.nii.gz_075a-thigh.nii.gz_.nii.gz', 'data/training/167k.nii.gz_075k-thigh.nii.gz_.nii.gz', 'data/training/167k.nii.gz_077k-thigh.nii.gz_.nii.gz', 'data/training/167k.nii.gz_079k-thigh.nii.gz_.nii.gz', 'data/training/167k.nii.gz_080k-thigh.nii.gz_.nii.gz', 'data/training/167k.nii.gz_082k-thigh.nii.gz_.nii.gz', 'data/training/167k.nii.gz_083a-thigh.nii.gz_.nii.gz', 'data/training/167k.nii.gz_083k-thigh.nii.gz_.nii.gz', 'data/training/167k.nii.gz_084a-thigh.nii.gz_.nii.gz', 'data/training/167k.nii.gz_087f-thigh.nii.gz_.nii.gz', 'data/training/167k.nii.gz_088f-thigh.nii.gz_.nii.gz', 'data/training/167k.nii.gz_088k-thigh.nii.gz_.nii.gz', 'data/training/167k.nii.gz_090a-thigh.nii.gz_.nii.gz', 'data/training/167k.nii.gz_091f-thigh.nii.gz_.nii.gz', 'data/training/167k.nii.gz_092k-thigh.nii.gz_.nii.gz']\n"
     ]
    },
    {
     "name": "stderr",
     "output_type": "stream",
     "text": [
      " 67%|█████████████████████████████████████████████████████████████████████████████████████████████████████████████████████████████████████████████████████████████████████████████████████████▎                                                                                            | 40/60 [03:28<01:47,  5.39s/it]"
     ]
    },
    {
     "name": "stdout",
     "output_type": "stream",
     "text": [
      "['074k-thigh.nii.gz', '075a-thigh.nii.gz', '075k-thigh.nii.gz', '077k-thigh.nii.gz', '079k-thigh.nii.gz', '080k-thigh.nii.gz', '082k-thigh.nii.gz', '083a-thigh.nii.gz', '083k-thigh.nii.gz', '084a-thigh.nii.gz', '087f-thigh.nii.gz', '088f-thigh.nii.gz', '088k-thigh.nii.gz', '090a-thigh.nii.gz', '091f-thigh.nii.gz', '092k-thigh.nii.gz']\n",
      "['data/training/168a.nii.gz_074k-thigh.nii.gz_.nii.gz', 'data/training/168a.nii.gz_075a-thigh.nii.gz_.nii.gz', 'data/training/168a.nii.gz_075k-thigh.nii.gz_.nii.gz', 'data/training/168a.nii.gz_077k-thigh.nii.gz_.nii.gz', 'data/training/168a.nii.gz_079k-thigh.nii.gz_.nii.gz', 'data/training/168a.nii.gz_080k-thigh.nii.gz_.nii.gz', 'data/training/168a.nii.gz_082k-thigh.nii.gz_.nii.gz', 'data/training/168a.nii.gz_083a-thigh.nii.gz_.nii.gz', 'data/training/168a.nii.gz_083k-thigh.nii.gz_.nii.gz', 'data/training/168a.nii.gz_084a-thigh.nii.gz_.nii.gz', 'data/training/168a.nii.gz_087f-thigh.nii.gz_.nii.gz', 'data/training/168a.nii.gz_088f-thigh.nii.gz_.nii.gz', 'data/training/168a.nii.gz_088k-thigh.nii.gz_.nii.gz', 'data/training/168a.nii.gz_090a-thigh.nii.gz_.nii.gz', 'data/training/168a.nii.gz_091f-thigh.nii.gz_.nii.gz', 'data/training/168a.nii.gz_092k-thigh.nii.gz_.nii.gz']\n"
     ]
    },
    {
     "name": "stderr",
     "output_type": "stream",
     "text": [
      " 68%|█████████████████████████████████████████████████████████████████████████████████████████████████████████████████████████████████████████████████████████████████████████████████████████████▉                                                                                        | 41/60 [03:32<01:36,  5.05s/it]"
     ]
    },
    {
     "name": "stdout",
     "output_type": "stream",
     "text": [
      "['074k-thigh.nii.gz', '075a-thigh.nii.gz', '075k-thigh.nii.gz', '077k-thigh.nii.gz', '079k-thigh.nii.gz', '080k-thigh.nii.gz', '082k-thigh.nii.gz', '083a-thigh.nii.gz', '083k-thigh.nii.gz', '084a-thigh.nii.gz', '087f-thigh.nii.gz', '088f-thigh.nii.gz', '088k-thigh.nii.gz', '090a-thigh.nii.gz', '091f-thigh.nii.gz', '092k-thigh.nii.gz']\n",
      "['data/training/168f.nii.gz_074k-thigh.nii.gz_.nii.gz', 'data/training/168f.nii.gz_075a-thigh.nii.gz_.nii.gz', 'data/training/168f.nii.gz_075k-thigh.nii.gz_.nii.gz', 'data/training/168f.nii.gz_077k-thigh.nii.gz_.nii.gz', 'data/training/168f.nii.gz_079k-thigh.nii.gz_.nii.gz', 'data/training/168f.nii.gz_080k-thigh.nii.gz_.nii.gz', 'data/training/168f.nii.gz_082k-thigh.nii.gz_.nii.gz', 'data/training/168f.nii.gz_083a-thigh.nii.gz_.nii.gz', 'data/training/168f.nii.gz_083k-thigh.nii.gz_.nii.gz', 'data/training/168f.nii.gz_084a-thigh.nii.gz_.nii.gz', 'data/training/168f.nii.gz_087f-thigh.nii.gz_.nii.gz', 'data/training/168f.nii.gz_088f-thigh.nii.gz_.nii.gz', 'data/training/168f.nii.gz_088k-thigh.nii.gz_.nii.gz', 'data/training/168f.nii.gz_090a-thigh.nii.gz_.nii.gz', 'data/training/168f.nii.gz_091f-thigh.nii.gz_.nii.gz', 'data/training/168f.nii.gz_092k-thigh.nii.gz_.nii.gz']\n"
     ]
    },
    {
     "name": "stderr",
     "output_type": "stream",
     "text": [
      " 70%|██████████████████████████████████████████████████████████████████████████████████████████████████████████████████████████████████████████████████████████████████████████████████████████████████▌                                                                                   | 42/60 [03:37<01:27,  4.86s/it]"
     ]
    },
    {
     "name": "stdout",
     "output_type": "stream",
     "text": [
      "['074k-thigh.nii.gz', '075a-thigh.nii.gz', '075k-thigh.nii.gz', '077k-thigh.nii.gz', '079k-thigh.nii.gz', '080k-thigh.nii.gz', '082k-thigh.nii.gz', '083a-thigh.nii.gz', '083k-thigh.nii.gz', '084a-thigh.nii.gz', '087f-thigh.nii.gz', '088f-thigh.nii.gz', '088k-thigh.nii.gz', '090a-thigh.nii.gz', '091f-thigh.nii.gz', '092k-thigh.nii.gz']\n",
      "['data/training/169a.nii.gz_074k-thigh.nii.gz_.nii.gz', 'data/training/169a.nii.gz_075a-thigh.nii.gz_.nii.gz', 'data/training/169a.nii.gz_075k-thigh.nii.gz_.nii.gz', 'data/training/169a.nii.gz_077k-thigh.nii.gz_.nii.gz', 'data/training/169a.nii.gz_079k-thigh.nii.gz_.nii.gz', 'data/training/169a.nii.gz_080k-thigh.nii.gz_.nii.gz', 'data/training/169a.nii.gz_082k-thigh.nii.gz_.nii.gz', 'data/training/169a.nii.gz_083a-thigh.nii.gz_.nii.gz', 'data/training/169a.nii.gz_083k-thigh.nii.gz_.nii.gz', 'data/training/169a.nii.gz_084a-thigh.nii.gz_.nii.gz', 'data/training/169a.nii.gz_087f-thigh.nii.gz_.nii.gz', 'data/training/169a.nii.gz_088f-thigh.nii.gz_.nii.gz', 'data/training/169a.nii.gz_088k-thigh.nii.gz_.nii.gz', 'data/training/169a.nii.gz_090a-thigh.nii.gz_.nii.gz', 'data/training/169a.nii.gz_091f-thigh.nii.gz_.nii.gz', 'data/training/169a.nii.gz_092k-thigh.nii.gz_.nii.gz']\n"
     ]
    },
    {
     "name": "stderr",
     "output_type": "stream",
     "text": [
      " 72%|███████████████████████████████████████████████████████████████████████████████████████████████████████████████████████████████████████████████████████████████████████████████████████████████████████▏                                                                              | 43/60 [03:42<01:23,  4.94s/it]"
     ]
    },
    {
     "name": "stdout",
     "output_type": "stream",
     "text": [
      "['074k-thigh.nii.gz', '075a-thigh.nii.gz', '075k-thigh.nii.gz', '077k-thigh.nii.gz', '079k-thigh.nii.gz', '080k-thigh.nii.gz', '082k-thigh.nii.gz', '083a-thigh.nii.gz', '083k-thigh.nii.gz', '084a-thigh.nii.gz', '087f-thigh.nii.gz', '088f-thigh.nii.gz', '088k-thigh.nii.gz', '090a-thigh.nii.gz', '091f-thigh.nii.gz', '092k-thigh.nii.gz']\n",
      "['data/training/169k.nii.gz_074k-thigh.nii.gz_.nii.gz', 'data/training/169k.nii.gz_075a-thigh.nii.gz_.nii.gz', 'data/training/169k.nii.gz_075k-thigh.nii.gz_.nii.gz', 'data/training/169k.nii.gz_077k-thigh.nii.gz_.nii.gz', 'data/training/169k.nii.gz_079k-thigh.nii.gz_.nii.gz', 'data/training/169k.nii.gz_080k-thigh.nii.gz_.nii.gz', 'data/training/169k.nii.gz_082k-thigh.nii.gz_.nii.gz', 'data/training/169k.nii.gz_083a-thigh.nii.gz_.nii.gz', 'data/training/169k.nii.gz_083k-thigh.nii.gz_.nii.gz', 'data/training/169k.nii.gz_084a-thigh.nii.gz_.nii.gz', 'data/training/169k.nii.gz_087f-thigh.nii.gz_.nii.gz', 'data/training/169k.nii.gz_088f-thigh.nii.gz_.nii.gz', 'data/training/169k.nii.gz_088k-thigh.nii.gz_.nii.gz', 'data/training/169k.nii.gz_090a-thigh.nii.gz_.nii.gz', 'data/training/169k.nii.gz_091f-thigh.nii.gz_.nii.gz', 'data/training/169k.nii.gz_092k-thigh.nii.gz_.nii.gz']\n"
     ]
    },
    {
     "name": "stderr",
     "output_type": "stream",
     "text": [
      " 73%|███████████████████████████████████████████████████████████████████████████████████████████████████████████████████████████████████████████████████████████████████████████████████████████████████████████▊                                                                          | 44/60 [03:47<01:18,  4.90s/it]"
     ]
    },
    {
     "name": "stdout",
     "output_type": "stream",
     "text": [
      "['074k-thigh.nii.gz', '075a-thigh.nii.gz', '075k-thigh.nii.gz', '077k-thigh.nii.gz', '079k-thigh.nii.gz', '080k-thigh.nii.gz', '082k-thigh.nii.gz', '083a-thigh.nii.gz', '083k-thigh.nii.gz', '084a-thigh.nii.gz', '087f-thigh.nii.gz', '088f-thigh.nii.gz', '088k-thigh.nii.gz', '090a-thigh.nii.gz', '091f-thigh.nii.gz', '092k-thigh.nii.gz']\n",
      "['data/training/170k.nii.gz_074k-thigh.nii.gz_.nii.gz', 'data/training/170k.nii.gz_075a-thigh.nii.gz_.nii.gz', 'data/training/170k.nii.gz_075k-thigh.nii.gz_.nii.gz', 'data/training/170k.nii.gz_077k-thigh.nii.gz_.nii.gz', 'data/training/170k.nii.gz_079k-thigh.nii.gz_.nii.gz', 'data/training/170k.nii.gz_080k-thigh.nii.gz_.nii.gz', 'data/training/170k.nii.gz_082k-thigh.nii.gz_.nii.gz', 'data/training/170k.nii.gz_083a-thigh.nii.gz_.nii.gz', 'data/training/170k.nii.gz_083k-thigh.nii.gz_.nii.gz', 'data/training/170k.nii.gz_084a-thigh.nii.gz_.nii.gz', 'data/training/170k.nii.gz_087f-thigh.nii.gz_.nii.gz', 'data/training/170k.nii.gz_088f-thigh.nii.gz_.nii.gz', 'data/training/170k.nii.gz_088k-thigh.nii.gz_.nii.gz', 'data/training/170k.nii.gz_090a-thigh.nii.gz_.nii.gz', 'data/training/170k.nii.gz_091f-thigh.nii.gz_.nii.gz', 'data/training/170k.nii.gz_092k-thigh.nii.gz_.nii.gz']\n"
     ]
    },
    {
     "name": "stderr",
     "output_type": "stream",
     "text": [
      " 75%|████████████████████████████████████████████████████████████████████████████████████████████████████████████████████████████████████████████████████████████████████████████████████████████████████████████████▌                                                                     | 45/60 [03:51<01:11,  4.76s/it]"
     ]
    },
    {
     "name": "stdout",
     "output_type": "stream",
     "text": [
      "['074k-thigh.nii.gz', '075a-thigh.nii.gz', '075k-thigh.nii.gz', '077k-thigh.nii.gz', '079k-thigh.nii.gz', '080k-thigh.nii.gz', '082k-thigh.nii.gz', '083a-thigh.nii.gz', '083k-thigh.nii.gz', '084a-thigh.nii.gz', '087f-thigh.nii.gz', '088f-thigh.nii.gz', '088k-thigh.nii.gz', '090a-thigh.nii.gz', '091f-thigh.nii.gz', '092k-thigh.nii.gz']\n",
      "['data/training/171f.nii.gz_074k-thigh.nii.gz_.nii.gz', 'data/training/171f.nii.gz_075a-thigh.nii.gz_.nii.gz', 'data/training/171f.nii.gz_075k-thigh.nii.gz_.nii.gz', 'data/training/171f.nii.gz_077k-thigh.nii.gz_.nii.gz', 'data/training/171f.nii.gz_079k-thigh.nii.gz_.nii.gz', 'data/training/171f.nii.gz_080k-thigh.nii.gz_.nii.gz', 'data/training/171f.nii.gz_082k-thigh.nii.gz_.nii.gz', 'data/training/171f.nii.gz_083a-thigh.nii.gz_.nii.gz', 'data/training/171f.nii.gz_083k-thigh.nii.gz_.nii.gz', 'data/training/171f.nii.gz_084a-thigh.nii.gz_.nii.gz', 'data/training/171f.nii.gz_087f-thigh.nii.gz_.nii.gz', 'data/training/171f.nii.gz_088f-thigh.nii.gz_.nii.gz', 'data/training/171f.nii.gz_088k-thigh.nii.gz_.nii.gz', 'data/training/171f.nii.gz_090a-thigh.nii.gz_.nii.gz', 'data/training/171f.nii.gz_091f-thigh.nii.gz_.nii.gz', 'data/training/171f.nii.gz_092k-thigh.nii.gz_.nii.gz']\n"
     ]
    },
    {
     "name": "stderr",
     "output_type": "stream",
     "text": [
      " 77%|█████████████████████████████████████████████████████████████████████████████████████████████████████████████████████████████████████████████████████████████████████████████████████████████████████████████████████▏                                                                | 46/60 [03:55<01:03,  4.53s/it]"
     ]
    },
    {
     "name": "stdout",
     "output_type": "stream",
     "text": [
      "['074k-thigh.nii.gz', '075a-thigh.nii.gz', '075k-thigh.nii.gz', '077k-thigh.nii.gz', '079k-thigh.nii.gz', '080k-thigh.nii.gz', '082k-thigh.nii.gz', '083a-thigh.nii.gz', '083k-thigh.nii.gz', '084a-thigh.nii.gz', '087f-thigh.nii.gz', '088f-thigh.nii.gz', '088k-thigh.nii.gz', '090a-thigh.nii.gz', '091f-thigh.nii.gz', '092k-thigh.nii.gz']\n",
      "['data/training/172f.nii.gz_074k-thigh.nii.gz_.nii.gz', 'data/training/172f.nii.gz_075a-thigh.nii.gz_.nii.gz', 'data/training/172f.nii.gz_075k-thigh.nii.gz_.nii.gz', 'data/training/172f.nii.gz_077k-thigh.nii.gz_.nii.gz', 'data/training/172f.nii.gz_079k-thigh.nii.gz_.nii.gz', 'data/training/172f.nii.gz_080k-thigh.nii.gz_.nii.gz', 'data/training/172f.nii.gz_082k-thigh.nii.gz_.nii.gz', 'data/training/172f.nii.gz_083a-thigh.nii.gz_.nii.gz', 'data/training/172f.nii.gz_083k-thigh.nii.gz_.nii.gz', 'data/training/172f.nii.gz_084a-thigh.nii.gz_.nii.gz', 'data/training/172f.nii.gz_087f-thigh.nii.gz_.nii.gz', 'data/training/172f.nii.gz_088f-thigh.nii.gz_.nii.gz', 'data/training/172f.nii.gz_088k-thigh.nii.gz_.nii.gz', 'data/training/172f.nii.gz_090a-thigh.nii.gz_.nii.gz', 'data/training/172f.nii.gz_091f-thigh.nii.gz_.nii.gz', 'data/training/172f.nii.gz_092k-thigh.nii.gz_.nii.gz']\n"
     ]
    },
    {
     "name": "stderr",
     "output_type": "stream",
     "text": [
      " 78%|█████████████████████████████████████████████████████████████████████████████████████████████████████████████████████████████████████████████████████████████████████████████████████████████████████████████████████████▊                                                            | 47/60 [03:59<00:58,  4.50s/it]"
     ]
    },
    {
     "name": "stdout",
     "output_type": "stream",
     "text": [
      "['074k-thigh.nii.gz', '075a-thigh.nii.gz', '075k-thigh.nii.gz', '077k-thigh.nii.gz', '079k-thigh.nii.gz', '080k-thigh.nii.gz', '082k-thigh.nii.gz', '083a-thigh.nii.gz', '083k-thigh.nii.gz', '084a-thigh.nii.gz', '087f-thigh.nii.gz', '088f-thigh.nii.gz', '088k-thigh.nii.gz', '090a-thigh.nii.gz', '091f-thigh.nii.gz', '092k-thigh.nii.gz']\n",
      "['data/training/173a.nii.gz_074k-thigh.nii.gz_.nii.gz', 'data/training/173a.nii.gz_075a-thigh.nii.gz_.nii.gz', 'data/training/173a.nii.gz_075k-thigh.nii.gz_.nii.gz', 'data/training/173a.nii.gz_077k-thigh.nii.gz_.nii.gz', 'data/training/173a.nii.gz_079k-thigh.nii.gz_.nii.gz', 'data/training/173a.nii.gz_080k-thigh.nii.gz_.nii.gz', 'data/training/173a.nii.gz_082k-thigh.nii.gz_.nii.gz', 'data/training/173a.nii.gz_083a-thigh.nii.gz_.nii.gz', 'data/training/173a.nii.gz_083k-thigh.nii.gz_.nii.gz', 'data/training/173a.nii.gz_084a-thigh.nii.gz_.nii.gz', 'data/training/173a.nii.gz_087f-thigh.nii.gz_.nii.gz', 'data/training/173a.nii.gz_088f-thigh.nii.gz_.nii.gz', 'data/training/173a.nii.gz_088k-thigh.nii.gz_.nii.gz', 'data/training/173a.nii.gz_090a-thigh.nii.gz_.nii.gz', 'data/training/173a.nii.gz_091f-thigh.nii.gz_.nii.gz', 'data/training/173a.nii.gz_092k-thigh.nii.gz_.nii.gz']\n"
     ]
    },
    {
     "name": "stderr",
     "output_type": "stream",
     "text": [
      " 80%|██████████████████████████████████████████████████████████████████████████████████████████████████████████████████████████████████████████████████████████████████████████████████████████████████████████████████████████████▍                                                       | 48/60 [04:04<00:52,  4.40s/it]"
     ]
    },
    {
     "name": "stdout",
     "output_type": "stream",
     "text": [
      "['074k-thigh.nii.gz', '075a-thigh.nii.gz', '075k-thigh.nii.gz', '077k-thigh.nii.gz', '079k-thigh.nii.gz', '080k-thigh.nii.gz', '082k-thigh.nii.gz', '083a-thigh.nii.gz', '083k-thigh.nii.gz', '084a-thigh.nii.gz', '087f-thigh.nii.gz', '088f-thigh.nii.gz', '088k-thigh.nii.gz', '090a-thigh.nii.gz', '091f-thigh.nii.gz', '092k-thigh.nii.gz']\n",
      "['data/training/173f.nii.gz_074k-thigh.nii.gz_.nii.gz', 'data/training/173f.nii.gz_075a-thigh.nii.gz_.nii.gz', 'data/training/173f.nii.gz_075k-thigh.nii.gz_.nii.gz', 'data/training/173f.nii.gz_077k-thigh.nii.gz_.nii.gz', 'data/training/173f.nii.gz_079k-thigh.nii.gz_.nii.gz', 'data/training/173f.nii.gz_080k-thigh.nii.gz_.nii.gz', 'data/training/173f.nii.gz_082k-thigh.nii.gz_.nii.gz', 'data/training/173f.nii.gz_083a-thigh.nii.gz_.nii.gz', 'data/training/173f.nii.gz_083k-thigh.nii.gz_.nii.gz', 'data/training/173f.nii.gz_084a-thigh.nii.gz_.nii.gz', 'data/training/173f.nii.gz_087f-thigh.nii.gz_.nii.gz', 'data/training/173f.nii.gz_088f-thigh.nii.gz_.nii.gz', 'data/training/173f.nii.gz_088k-thigh.nii.gz_.nii.gz', 'data/training/173f.nii.gz_090a-thigh.nii.gz_.nii.gz', 'data/training/173f.nii.gz_091f-thigh.nii.gz_.nii.gz', 'data/training/173f.nii.gz_092k-thigh.nii.gz_.nii.gz']\n"
     ]
    },
    {
     "name": "stderr",
     "output_type": "stream",
     "text": [
      " 82%|███████████████████████████████████████████████████████████████████████████████████████████████████████████████████████████████████████████████████████████████████████████████████████████████████████████████████████████████████                                                   | 49/60 [04:08<00:47,  4.31s/it]"
     ]
    },
    {
     "name": "stdout",
     "output_type": "stream",
     "text": [
      "['074k-thigh.nii.gz', '075a-thigh.nii.gz', '075k-thigh.nii.gz', '077k-thigh.nii.gz', '079k-thigh.nii.gz', '080k-thigh.nii.gz', '082k-thigh.nii.gz', '083a-thigh.nii.gz', '083k-thigh.nii.gz', '084a-thigh.nii.gz', '087f-thigh.nii.gz', '088f-thigh.nii.gz', '088k-thigh.nii.gz', '090a-thigh.nii.gz', '091f-thigh.nii.gz', '092k-thigh.nii.gz']\n",
      "['data/training/173k.nii.gz_074k-thigh.nii.gz_.nii.gz', 'data/training/173k.nii.gz_075a-thigh.nii.gz_.nii.gz', 'data/training/173k.nii.gz_075k-thigh.nii.gz_.nii.gz', 'data/training/173k.nii.gz_077k-thigh.nii.gz_.nii.gz', 'data/training/173k.nii.gz_079k-thigh.nii.gz_.nii.gz', 'data/training/173k.nii.gz_080k-thigh.nii.gz_.nii.gz', 'data/training/173k.nii.gz_082k-thigh.nii.gz_.nii.gz', 'data/training/173k.nii.gz_083a-thigh.nii.gz_.nii.gz', 'data/training/173k.nii.gz_083k-thigh.nii.gz_.nii.gz', 'data/training/173k.nii.gz_084a-thigh.nii.gz_.nii.gz', 'data/training/173k.nii.gz_087f-thigh.nii.gz_.nii.gz', 'data/training/173k.nii.gz_088f-thigh.nii.gz_.nii.gz', 'data/training/173k.nii.gz_088k-thigh.nii.gz_.nii.gz', 'data/training/173k.nii.gz_090a-thigh.nii.gz_.nii.gz', 'data/training/173k.nii.gz_091f-thigh.nii.gz_.nii.gz', 'data/training/173k.nii.gz_092k-thigh.nii.gz_.nii.gz']\n"
     ]
    },
    {
     "name": "stderr",
     "output_type": "stream",
     "text": [
      " 83%|███████████████████████████████████████████████████████████████████████████████████████████████████████████████████████████████████████████████████████████████████████████████████████████████████████████████████████████████████████▋                                              | 50/60 [04:12<00:44,  4.40s/it]"
     ]
    },
    {
     "name": "stdout",
     "output_type": "stream",
     "text": [
      "['074k-thigh.nii.gz', '075a-thigh.nii.gz', '075k-thigh.nii.gz', '077k-thigh.nii.gz', '079k-thigh.nii.gz', '080k-thigh.nii.gz', '082k-thigh.nii.gz', '083a-thigh.nii.gz', '083k-thigh.nii.gz', '084a-thigh.nii.gz', '087f-thigh.nii.gz', '088f-thigh.nii.gz', '088k-thigh.nii.gz', '090a-thigh.nii.gz', '091f-thigh.nii.gz', '092k-thigh.nii.gz']\n",
      "['data/training/174k.nii.gz_074k-thigh.nii.gz_.nii.gz', 'data/training/174k.nii.gz_075a-thigh.nii.gz_.nii.gz', 'data/training/174k.nii.gz_075k-thigh.nii.gz_.nii.gz', 'data/training/174k.nii.gz_077k-thigh.nii.gz_.nii.gz', 'data/training/174k.nii.gz_079k-thigh.nii.gz_.nii.gz', 'data/training/174k.nii.gz_080k-thigh.nii.gz_.nii.gz', 'data/training/174k.nii.gz_082k-thigh.nii.gz_.nii.gz', 'data/training/174k.nii.gz_083a-thigh.nii.gz_.nii.gz', 'data/training/174k.nii.gz_083k-thigh.nii.gz_.nii.gz', 'data/training/174k.nii.gz_084a-thigh.nii.gz_.nii.gz', 'data/training/174k.nii.gz_087f-thigh.nii.gz_.nii.gz', 'data/training/174k.nii.gz_088f-thigh.nii.gz_.nii.gz', 'data/training/174k.nii.gz_088k-thigh.nii.gz_.nii.gz', 'data/training/174k.nii.gz_090a-thigh.nii.gz_.nii.gz', 'data/training/174k.nii.gz_091f-thigh.nii.gz_.nii.gz', 'data/training/174k.nii.gz_092k-thigh.nii.gz_.nii.gz']\n"
     ]
    },
    {
     "name": "stderr",
     "output_type": "stream",
     "text": [
      " 85%|████████████████████████████████████████████████████████████████████████████████████████████████████████████████████████████████████████████████████████████████████████████████████████████████████████████████████████████████████████████▎                                         | 51/60 [04:17<00:41,  4.58s/it]"
     ]
    },
    {
     "name": "stdout",
     "output_type": "stream",
     "text": [
      "['074k-thigh.nii.gz', '075a-thigh.nii.gz', '075k-thigh.nii.gz', '077k-thigh.nii.gz', '079k-thigh.nii.gz', '080k-thigh.nii.gz', '082k-thigh.nii.gz', '083a-thigh.nii.gz', '083k-thigh.nii.gz', '084a-thigh.nii.gz', '087f-thigh.nii.gz', '088f-thigh.nii.gz', '088k-thigh.nii.gz', '090a-thigh.nii.gz', '091f-thigh.nii.gz', '092k-thigh.nii.gz']\n",
      "['data/training/175k.nii.gz_074k-thigh.nii.gz_.nii.gz', 'data/training/175k.nii.gz_075a-thigh.nii.gz_.nii.gz', 'data/training/175k.nii.gz_075k-thigh.nii.gz_.nii.gz', 'data/training/175k.nii.gz_077k-thigh.nii.gz_.nii.gz', 'data/training/175k.nii.gz_079k-thigh.nii.gz_.nii.gz', 'data/training/175k.nii.gz_080k-thigh.nii.gz_.nii.gz', 'data/training/175k.nii.gz_082k-thigh.nii.gz_.nii.gz', 'data/training/175k.nii.gz_083a-thigh.nii.gz_.nii.gz', 'data/training/175k.nii.gz_083k-thigh.nii.gz_.nii.gz', 'data/training/175k.nii.gz_084a-thigh.nii.gz_.nii.gz', 'data/training/175k.nii.gz_087f-thigh.nii.gz_.nii.gz', 'data/training/175k.nii.gz_088f-thigh.nii.gz_.nii.gz', 'data/training/175k.nii.gz_088k-thigh.nii.gz_.nii.gz', 'data/training/175k.nii.gz_090a-thigh.nii.gz_.nii.gz', 'data/training/175k.nii.gz_091f-thigh.nii.gz_.nii.gz', 'data/training/175k.nii.gz_092k-thigh.nii.gz_.nii.gz']\n"
     ]
    },
    {
     "name": "stderr",
     "output_type": "stream",
     "text": [
      " 87%|████████████████████████████████████████████████████████████████████████████████████████████████████████████████████████████████████████████████████████████████████████████████████████████████████████████████████████████████████████████████▉                                     | 52/60 [04:23<00:38,  4.83s/it]"
     ]
    },
    {
     "name": "stdout",
     "output_type": "stream",
     "text": [
      "['074k-thigh.nii.gz', '075a-thigh.nii.gz', '075k-thigh.nii.gz', '077k-thigh.nii.gz', '079k-thigh.nii.gz', '080k-thigh.nii.gz', '082k-thigh.nii.gz', '083a-thigh.nii.gz', '083k-thigh.nii.gz', '084a-thigh.nii.gz', '087f-thigh.nii.gz', '088f-thigh.nii.gz', '088k-thigh.nii.gz', '090a-thigh.nii.gz', '091f-thigh.nii.gz', '092k-thigh.nii.gz']\n",
      "['data/training/177a.nii.gz_074k-thigh.nii.gz_.nii.gz', 'data/training/177a.nii.gz_075a-thigh.nii.gz_.nii.gz', 'data/training/177a.nii.gz_075k-thigh.nii.gz_.nii.gz', 'data/training/177a.nii.gz_077k-thigh.nii.gz_.nii.gz', 'data/training/177a.nii.gz_079k-thigh.nii.gz_.nii.gz', 'data/training/177a.nii.gz_080k-thigh.nii.gz_.nii.gz', 'data/training/177a.nii.gz_082k-thigh.nii.gz_.nii.gz', 'data/training/177a.nii.gz_083a-thigh.nii.gz_.nii.gz', 'data/training/177a.nii.gz_083k-thigh.nii.gz_.nii.gz', 'data/training/177a.nii.gz_084a-thigh.nii.gz_.nii.gz', 'data/training/177a.nii.gz_087f-thigh.nii.gz_.nii.gz', 'data/training/177a.nii.gz_088f-thigh.nii.gz_.nii.gz', 'data/training/177a.nii.gz_088k-thigh.nii.gz_.nii.gz', 'data/training/177a.nii.gz_090a-thigh.nii.gz_.nii.gz', 'data/training/177a.nii.gz_091f-thigh.nii.gz_.nii.gz', 'data/training/177a.nii.gz_092k-thigh.nii.gz_.nii.gz']\n"
     ]
    },
    {
     "name": "stderr",
     "output_type": "stream",
     "text": [
      " 88%|█████████████████████████████████████████████████████████████████████████████████████████████████████████████████████████████████████████████████████████████████████████████████████████████████████████████████████████████████████████████████████▌                                | 53/60 [04:28<00:34,  4.96s/it]"
     ]
    },
    {
     "name": "stdout",
     "output_type": "stream",
     "text": [
      "['074k-thigh.nii.gz', '075a-thigh.nii.gz', '075k-thigh.nii.gz', '077k-thigh.nii.gz', '079k-thigh.nii.gz', '080k-thigh.nii.gz', '082k-thigh.nii.gz', '083a-thigh.nii.gz', '083k-thigh.nii.gz', '084a-thigh.nii.gz', '087f-thigh.nii.gz', '088f-thigh.nii.gz', '088k-thigh.nii.gz', '090a-thigh.nii.gz', '091f-thigh.nii.gz', '092k-thigh.nii.gz']\n",
      "['data/training/177f.nii.gz_074k-thigh.nii.gz_.nii.gz', 'data/training/177f.nii.gz_075a-thigh.nii.gz_.nii.gz', 'data/training/177f.nii.gz_075k-thigh.nii.gz_.nii.gz', 'data/training/177f.nii.gz_077k-thigh.nii.gz_.nii.gz', 'data/training/177f.nii.gz_079k-thigh.nii.gz_.nii.gz', 'data/training/177f.nii.gz_080k-thigh.nii.gz_.nii.gz', 'data/training/177f.nii.gz_082k-thigh.nii.gz_.nii.gz', 'data/training/177f.nii.gz_083a-thigh.nii.gz_.nii.gz', 'data/training/177f.nii.gz_083k-thigh.nii.gz_.nii.gz', 'data/training/177f.nii.gz_084a-thigh.nii.gz_.nii.gz', 'data/training/177f.nii.gz_087f-thigh.nii.gz_.nii.gz', 'data/training/177f.nii.gz_088f-thigh.nii.gz_.nii.gz', 'data/training/177f.nii.gz_088k-thigh.nii.gz_.nii.gz', 'data/training/177f.nii.gz_090a-thigh.nii.gz_.nii.gz', 'data/training/177f.nii.gz_091f-thigh.nii.gz_.nii.gz', 'data/training/177f.nii.gz_092k-thigh.nii.gz_.nii.gz']\n"
     ]
    },
    {
     "name": "stderr",
     "output_type": "stream",
     "text": [
      " 90%|██████████████████████████████████████████████████████████████████████████████████████████████████████████████████████████████████████████████████████████████████████████████████████████████████████████████████████████████████████████████████████████▏                           | 54/60 [04:33<00:30,  5.04s/it]"
     ]
    },
    {
     "name": "stdout",
     "output_type": "stream",
     "text": [
      "['074k-thigh.nii.gz', '075a-thigh.nii.gz', '075k-thigh.nii.gz', '077k-thigh.nii.gz', '079k-thigh.nii.gz', '080k-thigh.nii.gz', '082k-thigh.nii.gz', '083a-thigh.nii.gz', '083k-thigh.nii.gz', '084a-thigh.nii.gz', '087f-thigh.nii.gz', '088f-thigh.nii.gz', '088k-thigh.nii.gz', '090a-thigh.nii.gz', '091f-thigh.nii.gz', '092k-thigh.nii.gz']\n",
      "['data/training/177k.nii.gz_074k-thigh.nii.gz_.nii.gz', 'data/training/177k.nii.gz_075a-thigh.nii.gz_.nii.gz', 'data/training/177k.nii.gz_075k-thigh.nii.gz_.nii.gz', 'data/training/177k.nii.gz_077k-thigh.nii.gz_.nii.gz', 'data/training/177k.nii.gz_079k-thigh.nii.gz_.nii.gz', 'data/training/177k.nii.gz_080k-thigh.nii.gz_.nii.gz', 'data/training/177k.nii.gz_082k-thigh.nii.gz_.nii.gz', 'data/training/177k.nii.gz_083a-thigh.nii.gz_.nii.gz', 'data/training/177k.nii.gz_083k-thigh.nii.gz_.nii.gz', 'data/training/177k.nii.gz_084a-thigh.nii.gz_.nii.gz', 'data/training/177k.nii.gz_087f-thigh.nii.gz_.nii.gz', 'data/training/177k.nii.gz_088f-thigh.nii.gz_.nii.gz', 'data/training/177k.nii.gz_088k-thigh.nii.gz_.nii.gz', 'data/training/177k.nii.gz_090a-thigh.nii.gz_.nii.gz', 'data/training/177k.nii.gz_091f-thigh.nii.gz_.nii.gz', 'data/training/177k.nii.gz_092k-thigh.nii.gz_.nii.gz']\n"
     ]
    },
    {
     "name": "stderr",
     "output_type": "stream",
     "text": [
      " 92%|██████████████████████████████████████████████████████████████████████████████████████████████████████████████████████████████████████████████████████████████████████████████████████████████████████████████████████████████████████████████████████████████▊                       | 55/60 [04:38<00:25,  5.03s/it]"
     ]
    },
    {
     "name": "stdout",
     "output_type": "stream",
     "text": [
      "['074k-thigh.nii.gz', '075a-thigh.nii.gz', '075k-thigh.nii.gz', '077k-thigh.nii.gz', '079k-thigh.nii.gz', '080k-thigh.nii.gz', '082k-thigh.nii.gz', '083a-thigh.nii.gz', '083k-thigh.nii.gz', '084a-thigh.nii.gz', '087f-thigh.nii.gz', '088f-thigh.nii.gz', '088k-thigh.nii.gz', '090a-thigh.nii.gz', '091f-thigh.nii.gz', '092k-thigh.nii.gz']\n",
      "['data/training/178a.nii.gz_074k-thigh.nii.gz_.nii.gz', 'data/training/178a.nii.gz_075a-thigh.nii.gz_.nii.gz', 'data/training/178a.nii.gz_075k-thigh.nii.gz_.nii.gz', 'data/training/178a.nii.gz_077k-thigh.nii.gz_.nii.gz', 'data/training/178a.nii.gz_079k-thigh.nii.gz_.nii.gz', 'data/training/178a.nii.gz_080k-thigh.nii.gz_.nii.gz', 'data/training/178a.nii.gz_082k-thigh.nii.gz_.nii.gz', 'data/training/178a.nii.gz_083a-thigh.nii.gz_.nii.gz', 'data/training/178a.nii.gz_083k-thigh.nii.gz_.nii.gz', 'data/training/178a.nii.gz_084a-thigh.nii.gz_.nii.gz', 'data/training/178a.nii.gz_087f-thigh.nii.gz_.nii.gz', 'data/training/178a.nii.gz_088f-thigh.nii.gz_.nii.gz', 'data/training/178a.nii.gz_088k-thigh.nii.gz_.nii.gz', 'data/training/178a.nii.gz_090a-thigh.nii.gz_.nii.gz', 'data/training/178a.nii.gz_091f-thigh.nii.gz_.nii.gz', 'data/training/178a.nii.gz_092k-thigh.nii.gz_.nii.gz']\n"
     ]
    },
    {
     "name": "stderr",
     "output_type": "stream",
     "text": [
      " 93%|███████████████████████████████████████████████████████████████████████████████████████████████████████████████████████████████████████████████████████████████████████████████████████████████████████████████████████████████████████████████████████████████████▍                  | 56/60 [04:43<00:20,  5.06s/it]"
     ]
    },
    {
     "name": "stdout",
     "output_type": "stream",
     "text": [
      "['074k-thigh.nii.gz', '075a-thigh.nii.gz', '075k-thigh.nii.gz', '077k-thigh.nii.gz', '079k-thigh.nii.gz', '080k-thigh.nii.gz', '082k-thigh.nii.gz', '083a-thigh.nii.gz', '083k-thigh.nii.gz', '084a-thigh.nii.gz', '087f-thigh.nii.gz', '088f-thigh.nii.gz', '088k-thigh.nii.gz', '090a-thigh.nii.gz', '091f-thigh.nii.gz', '092k-thigh.nii.gz']\n",
      "['data/training/178f.nii.gz_074k-thigh.nii.gz_.nii.gz', 'data/training/178f.nii.gz_075a-thigh.nii.gz_.nii.gz', 'data/training/178f.nii.gz_075k-thigh.nii.gz_.nii.gz', 'data/training/178f.nii.gz_077k-thigh.nii.gz_.nii.gz', 'data/training/178f.nii.gz_079k-thigh.nii.gz_.nii.gz', 'data/training/178f.nii.gz_080k-thigh.nii.gz_.nii.gz', 'data/training/178f.nii.gz_082k-thigh.nii.gz_.nii.gz', 'data/training/178f.nii.gz_083a-thigh.nii.gz_.nii.gz', 'data/training/178f.nii.gz_083k-thigh.nii.gz_.nii.gz', 'data/training/178f.nii.gz_084a-thigh.nii.gz_.nii.gz', 'data/training/178f.nii.gz_087f-thigh.nii.gz_.nii.gz', 'data/training/178f.nii.gz_088f-thigh.nii.gz_.nii.gz', 'data/training/178f.nii.gz_088k-thigh.nii.gz_.nii.gz', 'data/training/178f.nii.gz_090a-thigh.nii.gz_.nii.gz', 'data/training/178f.nii.gz_091f-thigh.nii.gz_.nii.gz', 'data/training/178f.nii.gz_092k-thigh.nii.gz_.nii.gz']\n"
     ]
    },
    {
     "name": "stderr",
     "output_type": "stream",
     "text": [
      " 95%|████████████████████████████████████████████████████████████████████████████████████████████████████████████████████████████████████████████████████████████████████████████████████████████████████████████████████████████████████████████████████████████████████████              | 57/60 [04:49<00:15,  5.15s/it]"
     ]
    },
    {
     "name": "stdout",
     "output_type": "stream",
     "text": [
      "['074k-thigh.nii.gz', '075a-thigh.nii.gz', '075k-thigh.nii.gz', '077k-thigh.nii.gz', '079k-thigh.nii.gz', '080k-thigh.nii.gz', '082k-thigh.nii.gz', '083a-thigh.nii.gz', '083k-thigh.nii.gz', '084a-thigh.nii.gz', '087f-thigh.nii.gz', '088f-thigh.nii.gz', '088k-thigh.nii.gz', '090a-thigh.nii.gz', '091f-thigh.nii.gz', '092k-thigh.nii.gz']\n",
      "['data/training/178k.nii.gz_074k-thigh.nii.gz_.nii.gz', 'data/training/178k.nii.gz_075a-thigh.nii.gz_.nii.gz', 'data/training/178k.nii.gz_075k-thigh.nii.gz_.nii.gz', 'data/training/178k.nii.gz_077k-thigh.nii.gz_.nii.gz', 'data/training/178k.nii.gz_079k-thigh.nii.gz_.nii.gz', 'data/training/178k.nii.gz_080k-thigh.nii.gz_.nii.gz', 'data/training/178k.nii.gz_082k-thigh.nii.gz_.nii.gz', 'data/training/178k.nii.gz_083a-thigh.nii.gz_.nii.gz', 'data/training/178k.nii.gz_083k-thigh.nii.gz_.nii.gz', 'data/training/178k.nii.gz_084a-thigh.nii.gz_.nii.gz', 'data/training/178k.nii.gz_087f-thigh.nii.gz_.nii.gz', 'data/training/178k.nii.gz_088f-thigh.nii.gz_.nii.gz', 'data/training/178k.nii.gz_088k-thigh.nii.gz_.nii.gz', 'data/training/178k.nii.gz_090a-thigh.nii.gz_.nii.gz', 'data/training/178k.nii.gz_091f-thigh.nii.gz_.nii.gz', 'data/training/178k.nii.gz_092k-thigh.nii.gz_.nii.gz']\n"
     ]
    },
    {
     "name": "stderr",
     "output_type": "stream",
     "text": [
      " 97%|████████████████████████████████████████████████████████████████████████████████████████████████████████████████████████████████████████████████████████████████████████████████████████████████████████████████████████████████████████████████████████████████████████████▋         | 58/60 [04:54<00:10,  5.20s/it]"
     ]
    },
    {
     "name": "stdout",
     "output_type": "stream",
     "text": [
      "['074k-thigh.nii.gz', '075a-thigh.nii.gz', '075k-thigh.nii.gz', '077k-thigh.nii.gz', '079k-thigh.nii.gz', '080k-thigh.nii.gz', '082k-thigh.nii.gz', '083a-thigh.nii.gz', '083k-thigh.nii.gz', '084a-thigh.nii.gz', '087f-thigh.nii.gz', '088f-thigh.nii.gz', '088k-thigh.nii.gz', '090a-thigh.nii.gz', '091f-thigh.nii.gz', '092k-thigh.nii.gz']\n",
      "['data/training/179a.nii.gz_074k-thigh.nii.gz_.nii.gz', 'data/training/179a.nii.gz_075a-thigh.nii.gz_.nii.gz', 'data/training/179a.nii.gz_075k-thigh.nii.gz_.nii.gz', 'data/training/179a.nii.gz_077k-thigh.nii.gz_.nii.gz', 'data/training/179a.nii.gz_079k-thigh.nii.gz_.nii.gz', 'data/training/179a.nii.gz_080k-thigh.nii.gz_.nii.gz', 'data/training/179a.nii.gz_082k-thigh.nii.gz_.nii.gz', 'data/training/179a.nii.gz_083a-thigh.nii.gz_.nii.gz', 'data/training/179a.nii.gz_083k-thigh.nii.gz_.nii.gz', 'data/training/179a.nii.gz_084a-thigh.nii.gz_.nii.gz', 'data/training/179a.nii.gz_087f-thigh.nii.gz_.nii.gz', 'data/training/179a.nii.gz_088f-thigh.nii.gz_.nii.gz', 'data/training/179a.nii.gz_088k-thigh.nii.gz_.nii.gz', 'data/training/179a.nii.gz_090a-thigh.nii.gz_.nii.gz', 'data/training/179a.nii.gz_091f-thigh.nii.gz_.nii.gz', 'data/training/179a.nii.gz_092k-thigh.nii.gz_.nii.gz']\n"
     ]
    },
    {
     "name": "stderr",
     "output_type": "stream",
     "text": [
      " 98%|█████████████████████████████████████████████████████████████████████████████████████████████████████████████████████████████████████████████████████████████████████████████████████████████████████████████████████████████████████████████████████████████████████████████████▎    | 59/60 [04:59<00:05,  5.27s/it]"
     ]
    },
    {
     "name": "stdout",
     "output_type": "stream",
     "text": [
      "['074k-thigh.nii.gz', '075a-thigh.nii.gz', '075k-thigh.nii.gz', '077k-thigh.nii.gz', '079k-thigh.nii.gz', '080k-thigh.nii.gz', '082k-thigh.nii.gz', '083a-thigh.nii.gz', '083k-thigh.nii.gz', '084a-thigh.nii.gz', '087f-thigh.nii.gz', '088f-thigh.nii.gz', '088k-thigh.nii.gz', '090a-thigh.nii.gz', '091f-thigh.nii.gz', '092k-thigh.nii.gz']\n",
      "['data/training/179k.nii.gz_074k-thigh.nii.gz_.nii.gz', 'data/training/179k.nii.gz_075a-thigh.nii.gz_.nii.gz', 'data/training/179k.nii.gz_075k-thigh.nii.gz_.nii.gz', 'data/training/179k.nii.gz_077k-thigh.nii.gz_.nii.gz', 'data/training/179k.nii.gz_079k-thigh.nii.gz_.nii.gz', 'data/training/179k.nii.gz_080k-thigh.nii.gz_.nii.gz', 'data/training/179k.nii.gz_082k-thigh.nii.gz_.nii.gz', 'data/training/179k.nii.gz_083a-thigh.nii.gz_.nii.gz', 'data/training/179k.nii.gz_083k-thigh.nii.gz_.nii.gz', 'data/training/179k.nii.gz_084a-thigh.nii.gz_.nii.gz', 'data/training/179k.nii.gz_087f-thigh.nii.gz_.nii.gz', 'data/training/179k.nii.gz_088f-thigh.nii.gz_.nii.gz', 'data/training/179k.nii.gz_088k-thigh.nii.gz_.nii.gz', 'data/training/179k.nii.gz_090a-thigh.nii.gz_.nii.gz', 'data/training/179k.nii.gz_091f-thigh.nii.gz_.nii.gz', 'data/training/179k.nii.gz_092k-thigh.nii.gz_.nii.gz']\n"
     ]
    },
    {
     "name": "stderr",
     "output_type": "stream",
     "text": [
      "100%|██████████████████████████████████████████████████████████████████████████████████████████████████████████████████████████████████████████████████████████████████████████████████████████████████████████████████████████████████████████████████████████████████████████████████████| 60/60 [05:06<00:00,  5.10s/it]\n"
     ]
    }
   ],
   "source": [
    "thigh_features= extract_features(dissected_images, manually_segmented_thighs)\n",
    "thigh_features.to_csv(thigh_features_path, index=False)"
   ]
  },
  {
   "cell_type": "code",
   "execution_count": 7,
   "metadata": {},
   "outputs": [
    {
     "name": "stderr",
     "output_type": "stream",
     "text": [
      "  0%|                                                                                                                                                                                                                                                                                               | 0/60 [00:00<?, ?it/s]"
     ]
    },
    {
     "name": "stdout",
     "output_type": "stream",
     "text": [
      "['074k-breast.nii.gz', '075a-breast.nii.gz', '075k-breast.nii.gz', '077k-breast.nii.gz', '079k-breast.nii.gz', '080k-breast.nii.gz', '082k-breast.nii.gz', '083a-breast.nii.gz', '083k-breast.nii.gz', '084a-breast.nii.gz', '087f-breast.nii.gz', '088f-breast.nii.gz', '088k-breast.nii.gz', '090a-breast.nii.gz', '091f-breast.nii.gz', '092k-breast.nii.gz']\n",
      "['data/training/144f.nii.gz_074k-breast.nii.gz_.nii.gz', 'data/training/144f.nii.gz_075a-breast.nii.gz_.nii.gz', 'data/training/144f.nii.gz_075k-breast.nii.gz_.nii.gz', 'data/training/144f.nii.gz_077k-breast.nii.gz_.nii.gz', 'data/training/144f.nii.gz_079k-breast.nii.gz_.nii.gz', 'data/training/144f.nii.gz_080k-breast.nii.gz_.nii.gz', 'data/training/144f.nii.gz_082k-breast.nii.gz_.nii.gz', 'data/training/144f.nii.gz_083a-breast.nii.gz_.nii.gz', 'data/training/144f.nii.gz_083k-breast.nii.gz_.nii.gz', 'data/training/144f.nii.gz_084a-breast.nii.gz_.nii.gz', 'data/training/144f.nii.gz_087f-breast.nii.gz_.nii.gz', 'data/training/144f.nii.gz_088f-breast.nii.gz_.nii.gz', 'data/training/144f.nii.gz_088k-breast.nii.gz_.nii.gz', 'data/training/144f.nii.gz_090a-breast.nii.gz_.nii.gz', 'data/training/144f.nii.gz_091f-breast.nii.gz_.nii.gz', 'data/training/144f.nii.gz_092k-breast.nii.gz_.nii.gz']\n"
     ]
    },
    {
     "name": "stderr",
     "output_type": "stream",
     "text": [
      "  2%|████▋                                                                                                                                                                                                                                                                                  | 1/60 [00:05<05:48,  5.91s/it]"
     ]
    },
    {
     "name": "stdout",
     "output_type": "stream",
     "text": [
      "['074k-breast.nii.gz', '075a-breast.nii.gz', '075k-breast.nii.gz', '077k-breast.nii.gz', '079k-breast.nii.gz', '080k-breast.nii.gz', '082k-breast.nii.gz', '083a-breast.nii.gz', '083k-breast.nii.gz', '084a-breast.nii.gz', '087f-breast.nii.gz', '088f-breast.nii.gz', '088k-breast.nii.gz', '090a-breast.nii.gz', '091f-breast.nii.gz', '092k-breast.nii.gz']\n",
      "['data/training/147a.nii.gz_074k-breast.nii.gz_.nii.gz', 'data/training/147a.nii.gz_075a-breast.nii.gz_.nii.gz', 'data/training/147a.nii.gz_075k-breast.nii.gz_.nii.gz', 'data/training/147a.nii.gz_077k-breast.nii.gz_.nii.gz', 'data/training/147a.nii.gz_079k-breast.nii.gz_.nii.gz', 'data/training/147a.nii.gz_080k-breast.nii.gz_.nii.gz', 'data/training/147a.nii.gz_082k-breast.nii.gz_.nii.gz', 'data/training/147a.nii.gz_083a-breast.nii.gz_.nii.gz', 'data/training/147a.nii.gz_083k-breast.nii.gz_.nii.gz', 'data/training/147a.nii.gz_084a-breast.nii.gz_.nii.gz', 'data/training/147a.nii.gz_087f-breast.nii.gz_.nii.gz', 'data/training/147a.nii.gz_088f-breast.nii.gz_.nii.gz', 'data/training/147a.nii.gz_088k-breast.nii.gz_.nii.gz', 'data/training/147a.nii.gz_090a-breast.nii.gz_.nii.gz', 'data/training/147a.nii.gz_091f-breast.nii.gz_.nii.gz', 'data/training/147a.nii.gz_092k-breast.nii.gz_.nii.gz']\n"
     ]
    },
    {
     "name": "stderr",
     "output_type": "stream",
     "text": [
      "  3%|█████████▎                                                                                                                                                                                                                                                                             | 2/60 [00:10<05:12,  5.39s/it]"
     ]
    },
    {
     "name": "stdout",
     "output_type": "stream",
     "text": [
      "['074k-breast.nii.gz', '075a-breast.nii.gz', '075k-breast.nii.gz', '077k-breast.nii.gz', '079k-breast.nii.gz', '080k-breast.nii.gz', '082k-breast.nii.gz', '083a-breast.nii.gz', '083k-breast.nii.gz', '084a-breast.nii.gz', '087f-breast.nii.gz', '088f-breast.nii.gz', '088k-breast.nii.gz', '090a-breast.nii.gz', '091f-breast.nii.gz', '092k-breast.nii.gz']\n",
      "['data/training/147f.nii.gz_074k-breast.nii.gz_.nii.gz', 'data/training/147f.nii.gz_075a-breast.nii.gz_.nii.gz', 'data/training/147f.nii.gz_075k-breast.nii.gz_.nii.gz', 'data/training/147f.nii.gz_077k-breast.nii.gz_.nii.gz', 'data/training/147f.nii.gz_079k-breast.nii.gz_.nii.gz', 'data/training/147f.nii.gz_080k-breast.nii.gz_.nii.gz', 'data/training/147f.nii.gz_082k-breast.nii.gz_.nii.gz', 'data/training/147f.nii.gz_083a-breast.nii.gz_.nii.gz', 'data/training/147f.nii.gz_083k-breast.nii.gz_.nii.gz', 'data/training/147f.nii.gz_084a-breast.nii.gz_.nii.gz', 'data/training/147f.nii.gz_087f-breast.nii.gz_.nii.gz', 'data/training/147f.nii.gz_088f-breast.nii.gz_.nii.gz', 'data/training/147f.nii.gz_088k-breast.nii.gz_.nii.gz', 'data/training/147f.nii.gz_090a-breast.nii.gz_.nii.gz', 'data/training/147f.nii.gz_091f-breast.nii.gz_.nii.gz', 'data/training/147f.nii.gz_092k-breast.nii.gz_.nii.gz']\n"
     ]
    },
    {
     "name": "stderr",
     "output_type": "stream",
     "text": [
      "  5%|█████████████▉                                                                                                                                                                                                                                                                         | 3/60 [00:16<05:01,  5.29s/it]"
     ]
    },
    {
     "name": "stdout",
     "output_type": "stream",
     "text": [
      "['074k-breast.nii.gz', '075a-breast.nii.gz', '075k-breast.nii.gz', '077k-breast.nii.gz', '079k-breast.nii.gz', '080k-breast.nii.gz', '082k-breast.nii.gz', '083a-breast.nii.gz', '083k-breast.nii.gz', '084a-breast.nii.gz', '087f-breast.nii.gz', '088f-breast.nii.gz', '088k-breast.nii.gz', '090a-breast.nii.gz', '091f-breast.nii.gz', '092k-breast.nii.gz']\n",
      "['data/training/147k.nii.gz_074k-breast.nii.gz_.nii.gz', 'data/training/147k.nii.gz_075a-breast.nii.gz_.nii.gz', 'data/training/147k.nii.gz_075k-breast.nii.gz_.nii.gz', 'data/training/147k.nii.gz_077k-breast.nii.gz_.nii.gz', 'data/training/147k.nii.gz_079k-breast.nii.gz_.nii.gz', 'data/training/147k.nii.gz_080k-breast.nii.gz_.nii.gz', 'data/training/147k.nii.gz_082k-breast.nii.gz_.nii.gz', 'data/training/147k.nii.gz_083a-breast.nii.gz_.nii.gz', 'data/training/147k.nii.gz_083k-breast.nii.gz_.nii.gz', 'data/training/147k.nii.gz_084a-breast.nii.gz_.nii.gz', 'data/training/147k.nii.gz_087f-breast.nii.gz_.nii.gz', 'data/training/147k.nii.gz_088f-breast.nii.gz_.nii.gz', 'data/training/147k.nii.gz_088k-breast.nii.gz_.nii.gz', 'data/training/147k.nii.gz_090a-breast.nii.gz_.nii.gz', 'data/training/147k.nii.gz_091f-breast.nii.gz_.nii.gz', 'data/training/147k.nii.gz_092k-breast.nii.gz_.nii.gz']\n"
     ]
    },
    {
     "name": "stderr",
     "output_type": "stream",
     "text": [
      "  7%|██████████████████▌                                                                                                                                                                                                                                                                    | 4/60 [00:21<04:52,  5.23s/it]"
     ]
    },
    {
     "name": "stdout",
     "output_type": "stream",
     "text": [
      "['074k-breast.nii.gz', '075a-breast.nii.gz', '075k-breast.nii.gz', '077k-breast.nii.gz', '079k-breast.nii.gz', '080k-breast.nii.gz', '082k-breast.nii.gz', '083a-breast.nii.gz', '083k-breast.nii.gz', '084a-breast.nii.gz', '087f-breast.nii.gz', '088f-breast.nii.gz', '088k-breast.nii.gz', '090a-breast.nii.gz', '091f-breast.nii.gz', '092k-breast.nii.gz']\n",
      "['data/training/148a.nii.gz_074k-breast.nii.gz_.nii.gz', 'data/training/148a.nii.gz_075a-breast.nii.gz_.nii.gz', 'data/training/148a.nii.gz_075k-breast.nii.gz_.nii.gz', 'data/training/148a.nii.gz_077k-breast.nii.gz_.nii.gz', 'data/training/148a.nii.gz_079k-breast.nii.gz_.nii.gz', 'data/training/148a.nii.gz_080k-breast.nii.gz_.nii.gz', 'data/training/148a.nii.gz_082k-breast.nii.gz_.nii.gz', 'data/training/148a.nii.gz_083a-breast.nii.gz_.nii.gz', 'data/training/148a.nii.gz_083k-breast.nii.gz_.nii.gz', 'data/training/148a.nii.gz_084a-breast.nii.gz_.nii.gz', 'data/training/148a.nii.gz_087f-breast.nii.gz_.nii.gz', 'data/training/148a.nii.gz_088f-breast.nii.gz_.nii.gz', 'data/training/148a.nii.gz_088k-breast.nii.gz_.nii.gz', 'data/training/148a.nii.gz_090a-breast.nii.gz_.nii.gz', 'data/training/148a.nii.gz_091f-breast.nii.gz_.nii.gz', 'data/training/148a.nii.gz_092k-breast.nii.gz_.nii.gz']\n"
     ]
    },
    {
     "name": "stderr",
     "output_type": "stream",
     "text": [
      "  8%|███████████████████████▎                                                                                                                                                                                                                                                               | 5/60 [00:26<04:55,  5.38s/it]"
     ]
    },
    {
     "name": "stdout",
     "output_type": "stream",
     "text": [
      "['074k-breast.nii.gz', '075a-breast.nii.gz', '075k-breast.nii.gz', '077k-breast.nii.gz', '079k-breast.nii.gz', '080k-breast.nii.gz', '082k-breast.nii.gz', '083a-breast.nii.gz', '083k-breast.nii.gz', '084a-breast.nii.gz', '087f-breast.nii.gz', '088f-breast.nii.gz', '088k-breast.nii.gz', '090a-breast.nii.gz', '091f-breast.nii.gz', '092k-breast.nii.gz']\n",
      "['data/training/148f.nii.gz_074k-breast.nii.gz_.nii.gz', 'data/training/148f.nii.gz_075a-breast.nii.gz_.nii.gz', 'data/training/148f.nii.gz_075k-breast.nii.gz_.nii.gz', 'data/training/148f.nii.gz_077k-breast.nii.gz_.nii.gz', 'data/training/148f.nii.gz_079k-breast.nii.gz_.nii.gz', 'data/training/148f.nii.gz_080k-breast.nii.gz_.nii.gz', 'data/training/148f.nii.gz_082k-breast.nii.gz_.nii.gz', 'data/training/148f.nii.gz_083a-breast.nii.gz_.nii.gz', 'data/training/148f.nii.gz_083k-breast.nii.gz_.nii.gz', 'data/training/148f.nii.gz_084a-breast.nii.gz_.nii.gz', 'data/training/148f.nii.gz_087f-breast.nii.gz_.nii.gz', 'data/training/148f.nii.gz_088f-breast.nii.gz_.nii.gz', 'data/training/148f.nii.gz_088k-breast.nii.gz_.nii.gz', 'data/training/148f.nii.gz_090a-breast.nii.gz_.nii.gz', 'data/training/148f.nii.gz_091f-breast.nii.gz_.nii.gz', 'data/training/148f.nii.gz_092k-breast.nii.gz_.nii.gz']\n"
     ]
    },
    {
     "name": "stderr",
     "output_type": "stream",
     "text": [
      " 10%|███████████████████████████▉                                                                                                                                                                                                                                                           | 6/60 [00:32<04:47,  5.33s/it]"
     ]
    },
    {
     "name": "stdout",
     "output_type": "stream",
     "text": [
      "['074k-breast.nii.gz', '075a-breast.nii.gz', '075k-breast.nii.gz', '077k-breast.nii.gz', '079k-breast.nii.gz', '080k-breast.nii.gz', '082k-breast.nii.gz', '083a-breast.nii.gz', '083k-breast.nii.gz', '084a-breast.nii.gz', '087f-breast.nii.gz', '088f-breast.nii.gz', '088k-breast.nii.gz', '090a-breast.nii.gz', '091f-breast.nii.gz', '092k-breast.nii.gz']\n",
      "['data/training/148k.nii.gz_074k-breast.nii.gz_.nii.gz', 'data/training/148k.nii.gz_075a-breast.nii.gz_.nii.gz', 'data/training/148k.nii.gz_075k-breast.nii.gz_.nii.gz', 'data/training/148k.nii.gz_077k-breast.nii.gz_.nii.gz', 'data/training/148k.nii.gz_079k-breast.nii.gz_.nii.gz', 'data/training/148k.nii.gz_080k-breast.nii.gz_.nii.gz', 'data/training/148k.nii.gz_082k-breast.nii.gz_.nii.gz', 'data/training/148k.nii.gz_083a-breast.nii.gz_.nii.gz', 'data/training/148k.nii.gz_083k-breast.nii.gz_.nii.gz', 'data/training/148k.nii.gz_084a-breast.nii.gz_.nii.gz', 'data/training/148k.nii.gz_087f-breast.nii.gz_.nii.gz', 'data/training/148k.nii.gz_088f-breast.nii.gz_.nii.gz', 'data/training/148k.nii.gz_088k-breast.nii.gz_.nii.gz', 'data/training/148k.nii.gz_090a-breast.nii.gz_.nii.gz', 'data/training/148k.nii.gz_091f-breast.nii.gz_.nii.gz', 'data/training/148k.nii.gz_092k-breast.nii.gz_.nii.gz']\n"
     ]
    },
    {
     "name": "stderr",
     "output_type": "stream",
     "text": [
      " 12%|████████████████████████████████▌                                                                                                                                                                                                                                                      | 7/60 [00:37<04:39,  5.27s/it]"
     ]
    },
    {
     "name": "stdout",
     "output_type": "stream",
     "text": [
      "['074k-breast.nii.gz', '075a-breast.nii.gz', '075k-breast.nii.gz', '077k-breast.nii.gz', '079k-breast.nii.gz', '080k-breast.nii.gz', '082k-breast.nii.gz', '083a-breast.nii.gz', '083k-breast.nii.gz', '084a-breast.nii.gz', '087f-breast.nii.gz', '088f-breast.nii.gz', '088k-breast.nii.gz', '090a-breast.nii.gz', '091f-breast.nii.gz', '092k-breast.nii.gz']\n",
      "['data/training/149a.nii.gz_074k-breast.nii.gz_.nii.gz', 'data/training/149a.nii.gz_075a-breast.nii.gz_.nii.gz', 'data/training/149a.nii.gz_075k-breast.nii.gz_.nii.gz', 'data/training/149a.nii.gz_077k-breast.nii.gz_.nii.gz', 'data/training/149a.nii.gz_079k-breast.nii.gz_.nii.gz', 'data/training/149a.nii.gz_080k-breast.nii.gz_.nii.gz', 'data/training/149a.nii.gz_082k-breast.nii.gz_.nii.gz', 'data/training/149a.nii.gz_083a-breast.nii.gz_.nii.gz', 'data/training/149a.nii.gz_083k-breast.nii.gz_.nii.gz', 'data/training/149a.nii.gz_084a-breast.nii.gz_.nii.gz', 'data/training/149a.nii.gz_087f-breast.nii.gz_.nii.gz', 'data/training/149a.nii.gz_088f-breast.nii.gz_.nii.gz', 'data/training/149a.nii.gz_088k-breast.nii.gz_.nii.gz', 'data/training/149a.nii.gz_090a-breast.nii.gz_.nii.gz', 'data/training/149a.nii.gz_091f-breast.nii.gz_.nii.gz', 'data/training/149a.nii.gz_092k-breast.nii.gz_.nii.gz']\n"
     ]
    },
    {
     "name": "stderr",
     "output_type": "stream",
     "text": [
      " 13%|█████████████████████████████████████▏                                                                                                                                                                                                                                                 | 8/60 [00:42<04:31,  5.22s/it]"
     ]
    },
    {
     "name": "stdout",
     "output_type": "stream",
     "text": [
      "['074k-breast.nii.gz', '075a-breast.nii.gz', '075k-breast.nii.gz', '077k-breast.nii.gz', '079k-breast.nii.gz', '080k-breast.nii.gz', '082k-breast.nii.gz', '083a-breast.nii.gz', '083k-breast.nii.gz', '084a-breast.nii.gz', '087f-breast.nii.gz', '088f-breast.nii.gz', '088k-breast.nii.gz', '090a-breast.nii.gz', '091f-breast.nii.gz', '092k-breast.nii.gz']\n",
      "['data/training/149f.nii.gz_074k-breast.nii.gz_.nii.gz', 'data/training/149f.nii.gz_075a-breast.nii.gz_.nii.gz', 'data/training/149f.nii.gz_075k-breast.nii.gz_.nii.gz', 'data/training/149f.nii.gz_077k-breast.nii.gz_.nii.gz', 'data/training/149f.nii.gz_079k-breast.nii.gz_.nii.gz', 'data/training/149f.nii.gz_080k-breast.nii.gz_.nii.gz', 'data/training/149f.nii.gz_082k-breast.nii.gz_.nii.gz', 'data/training/149f.nii.gz_083a-breast.nii.gz_.nii.gz', 'data/training/149f.nii.gz_083k-breast.nii.gz_.nii.gz', 'data/training/149f.nii.gz_084a-breast.nii.gz_.nii.gz', 'data/training/149f.nii.gz_087f-breast.nii.gz_.nii.gz', 'data/training/149f.nii.gz_088f-breast.nii.gz_.nii.gz', 'data/training/149f.nii.gz_088k-breast.nii.gz_.nii.gz', 'data/training/149f.nii.gz_090a-breast.nii.gz_.nii.gz', 'data/training/149f.nii.gz_091f-breast.nii.gz_.nii.gz', 'data/training/149f.nii.gz_092k-breast.nii.gz_.nii.gz']\n"
     ]
    },
    {
     "name": "stderr",
     "output_type": "stream",
     "text": [
      " 15%|█████████████████████████████████████████▊                                                                                                                                                                                                                                             | 9/60 [00:47<04:28,  5.26s/it]"
     ]
    },
    {
     "name": "stdout",
     "output_type": "stream",
     "text": [
      "['074k-breast.nii.gz', '075a-breast.nii.gz', '075k-breast.nii.gz', '077k-breast.nii.gz', '079k-breast.nii.gz', '080k-breast.nii.gz', '082k-breast.nii.gz', '083a-breast.nii.gz', '083k-breast.nii.gz', '084a-breast.nii.gz', '087f-breast.nii.gz', '088f-breast.nii.gz', '088k-breast.nii.gz', '090a-breast.nii.gz', '091f-breast.nii.gz', '092k-breast.nii.gz']\n",
      "['data/training/149k.nii.gz_074k-breast.nii.gz_.nii.gz', 'data/training/149k.nii.gz_075a-breast.nii.gz_.nii.gz', 'data/training/149k.nii.gz_075k-breast.nii.gz_.nii.gz', 'data/training/149k.nii.gz_077k-breast.nii.gz_.nii.gz', 'data/training/149k.nii.gz_079k-breast.nii.gz_.nii.gz', 'data/training/149k.nii.gz_080k-breast.nii.gz_.nii.gz', 'data/training/149k.nii.gz_082k-breast.nii.gz_.nii.gz', 'data/training/149k.nii.gz_083a-breast.nii.gz_.nii.gz', 'data/training/149k.nii.gz_083k-breast.nii.gz_.nii.gz', 'data/training/149k.nii.gz_084a-breast.nii.gz_.nii.gz', 'data/training/149k.nii.gz_087f-breast.nii.gz_.nii.gz', 'data/training/149k.nii.gz_088f-breast.nii.gz_.nii.gz', 'data/training/149k.nii.gz_088k-breast.nii.gz_.nii.gz', 'data/training/149k.nii.gz_090a-breast.nii.gz_.nii.gz', 'data/training/149k.nii.gz_091f-breast.nii.gz_.nii.gz', 'data/training/149k.nii.gz_092k-breast.nii.gz_.nii.gz']\n"
     ]
    },
    {
     "name": "stderr",
     "output_type": "stream",
     "text": [
      " 17%|██████████████████████████████████████████████▎                                                                                                                                                                                                                                       | 10/60 [00:52<04:22,  5.25s/it]"
     ]
    },
    {
     "name": "stdout",
     "output_type": "stream",
     "text": [
      "['074k-breast.nii.gz', '075a-breast.nii.gz', '075k-breast.nii.gz', '077k-breast.nii.gz', '079k-breast.nii.gz', '080k-breast.nii.gz', '082k-breast.nii.gz', '083a-breast.nii.gz', '083k-breast.nii.gz', '084a-breast.nii.gz', '087f-breast.nii.gz', '088f-breast.nii.gz', '088k-breast.nii.gz', '090a-breast.nii.gz', '091f-breast.nii.gz', '092k-breast.nii.gz']\n",
      "['data/training/150a.nii.gz_074k-breast.nii.gz_.nii.gz', 'data/training/150a.nii.gz_075a-breast.nii.gz_.nii.gz', 'data/training/150a.nii.gz_075k-breast.nii.gz_.nii.gz', 'data/training/150a.nii.gz_077k-breast.nii.gz_.nii.gz', 'data/training/150a.nii.gz_079k-breast.nii.gz_.nii.gz', 'data/training/150a.nii.gz_080k-breast.nii.gz_.nii.gz', 'data/training/150a.nii.gz_082k-breast.nii.gz_.nii.gz', 'data/training/150a.nii.gz_083a-breast.nii.gz_.nii.gz', 'data/training/150a.nii.gz_083k-breast.nii.gz_.nii.gz', 'data/training/150a.nii.gz_084a-breast.nii.gz_.nii.gz', 'data/training/150a.nii.gz_087f-breast.nii.gz_.nii.gz', 'data/training/150a.nii.gz_088f-breast.nii.gz_.nii.gz', 'data/training/150a.nii.gz_088k-breast.nii.gz_.nii.gz', 'data/training/150a.nii.gz_090a-breast.nii.gz_.nii.gz', 'data/training/150a.nii.gz_091f-breast.nii.gz_.nii.gz', 'data/training/150a.nii.gz_092k-breast.nii.gz_.nii.gz']\n"
     ]
    },
    {
     "name": "stderr",
     "output_type": "stream",
     "text": [
      " 18%|██████████████████████████████████████████████████▉                                                                                                                                                                                                                                   | 11/60 [00:59<04:35,  5.63s/it]"
     ]
    },
    {
     "name": "stdout",
     "output_type": "stream",
     "text": [
      "['074k-breast.nii.gz', '075a-breast.nii.gz', '075k-breast.nii.gz', '077k-breast.nii.gz', '079k-breast.nii.gz', '080k-breast.nii.gz', '082k-breast.nii.gz', '083a-breast.nii.gz', '083k-breast.nii.gz', '084a-breast.nii.gz', '087f-breast.nii.gz', '088f-breast.nii.gz', '088k-breast.nii.gz', '090a-breast.nii.gz', '091f-breast.nii.gz', '092k-breast.nii.gz']\n",
      "['data/training/150f.nii.gz_074k-breast.nii.gz_.nii.gz', 'data/training/150f.nii.gz_075a-breast.nii.gz_.nii.gz', 'data/training/150f.nii.gz_075k-breast.nii.gz_.nii.gz', 'data/training/150f.nii.gz_077k-breast.nii.gz_.nii.gz', 'data/training/150f.nii.gz_079k-breast.nii.gz_.nii.gz', 'data/training/150f.nii.gz_080k-breast.nii.gz_.nii.gz', 'data/training/150f.nii.gz_082k-breast.nii.gz_.nii.gz', 'data/training/150f.nii.gz_083a-breast.nii.gz_.nii.gz', 'data/training/150f.nii.gz_083k-breast.nii.gz_.nii.gz', 'data/training/150f.nii.gz_084a-breast.nii.gz_.nii.gz', 'data/training/150f.nii.gz_087f-breast.nii.gz_.nii.gz', 'data/training/150f.nii.gz_088f-breast.nii.gz_.nii.gz', 'data/training/150f.nii.gz_088k-breast.nii.gz_.nii.gz', 'data/training/150f.nii.gz_090a-breast.nii.gz_.nii.gz', 'data/training/150f.nii.gz_091f-breast.nii.gz_.nii.gz', 'data/training/150f.nii.gz_092k-breast.nii.gz_.nii.gz']\n"
     ]
    },
    {
     "name": "stderr",
     "output_type": "stream",
     "text": [
      " 20%|███████████████████████████████████████████████████████▌                                                                                                                                                                                                                              | 12/60 [01:05<04:35,  5.74s/it]"
     ]
    },
    {
     "name": "stdout",
     "output_type": "stream",
     "text": [
      "['074k-breast.nii.gz', '075a-breast.nii.gz', '075k-breast.nii.gz', '077k-breast.nii.gz', '079k-breast.nii.gz', '080k-breast.nii.gz', '082k-breast.nii.gz', '083a-breast.nii.gz', '083k-breast.nii.gz', '084a-breast.nii.gz', '087f-breast.nii.gz', '088f-breast.nii.gz', '088k-breast.nii.gz', '090a-breast.nii.gz', '091f-breast.nii.gz', '092k-breast.nii.gz']\n",
      "['data/training/150k.nii.gz_074k-breast.nii.gz_.nii.gz', 'data/training/150k.nii.gz_075a-breast.nii.gz_.nii.gz', 'data/training/150k.nii.gz_075k-breast.nii.gz_.nii.gz', 'data/training/150k.nii.gz_077k-breast.nii.gz_.nii.gz', 'data/training/150k.nii.gz_079k-breast.nii.gz_.nii.gz', 'data/training/150k.nii.gz_080k-breast.nii.gz_.nii.gz', 'data/training/150k.nii.gz_082k-breast.nii.gz_.nii.gz', 'data/training/150k.nii.gz_083a-breast.nii.gz_.nii.gz', 'data/training/150k.nii.gz_083k-breast.nii.gz_.nii.gz', 'data/training/150k.nii.gz_084a-breast.nii.gz_.nii.gz', 'data/training/150k.nii.gz_087f-breast.nii.gz_.nii.gz', 'data/training/150k.nii.gz_088f-breast.nii.gz_.nii.gz', 'data/training/150k.nii.gz_088k-breast.nii.gz_.nii.gz', 'data/training/150k.nii.gz_090a-breast.nii.gz_.nii.gz', 'data/training/150k.nii.gz_091f-breast.nii.gz_.nii.gz', 'data/training/150k.nii.gz_092k-breast.nii.gz_.nii.gz']\n"
     ]
    },
    {
     "name": "stderr",
     "output_type": "stream",
     "text": [
      " 22%|████████████████████████████████████████████████████████████▏                                                                                                                                                                                                                         | 13/60 [01:11<04:35,  5.87s/it]"
     ]
    },
    {
     "name": "stdout",
     "output_type": "stream",
     "text": [
      "['074k-breast.nii.gz', '075a-breast.nii.gz', '075k-breast.nii.gz', '077k-breast.nii.gz', '079k-breast.nii.gz', '080k-breast.nii.gz', '082k-breast.nii.gz', '083a-breast.nii.gz', '083k-breast.nii.gz', '084a-breast.nii.gz', '087f-breast.nii.gz', '088f-breast.nii.gz', '088k-breast.nii.gz', '090a-breast.nii.gz', '091f-breast.nii.gz', '092k-breast.nii.gz']\n",
      "['data/training/152f.nii.gz_074k-breast.nii.gz_.nii.gz', 'data/training/152f.nii.gz_075a-breast.nii.gz_.nii.gz', 'data/training/152f.nii.gz_075k-breast.nii.gz_.nii.gz', 'data/training/152f.nii.gz_077k-breast.nii.gz_.nii.gz', 'data/training/152f.nii.gz_079k-breast.nii.gz_.nii.gz', 'data/training/152f.nii.gz_080k-breast.nii.gz_.nii.gz', 'data/training/152f.nii.gz_082k-breast.nii.gz_.nii.gz', 'data/training/152f.nii.gz_083a-breast.nii.gz_.nii.gz', 'data/training/152f.nii.gz_083k-breast.nii.gz_.nii.gz', 'data/training/152f.nii.gz_084a-breast.nii.gz_.nii.gz', 'data/training/152f.nii.gz_087f-breast.nii.gz_.nii.gz', 'data/training/152f.nii.gz_088f-breast.nii.gz_.nii.gz', 'data/training/152f.nii.gz_088k-breast.nii.gz_.nii.gz', 'data/training/152f.nii.gz_090a-breast.nii.gz_.nii.gz', 'data/training/152f.nii.gz_091f-breast.nii.gz_.nii.gz', 'data/training/152f.nii.gz_092k-breast.nii.gz_.nii.gz']\n"
     ]
    },
    {
     "name": "stderr",
     "output_type": "stream",
     "text": [
      " 23%|████████████████████████████████████████████████████████████████▊                                                                                                                                                                                                                     | 14/60 [01:17<04:29,  5.85s/it]"
     ]
    },
    {
     "name": "stdout",
     "output_type": "stream",
     "text": [
      "['074k-breast.nii.gz', '075a-breast.nii.gz', '075k-breast.nii.gz', '077k-breast.nii.gz', '079k-breast.nii.gz', '080k-breast.nii.gz', '082k-breast.nii.gz', '083a-breast.nii.gz', '083k-breast.nii.gz', '084a-breast.nii.gz', '087f-breast.nii.gz', '088f-breast.nii.gz', '088k-breast.nii.gz', '090a-breast.nii.gz', '091f-breast.nii.gz', '092k-breast.nii.gz']\n",
      "['data/training/152k.nii.gz_074k-breast.nii.gz_.nii.gz', 'data/training/152k.nii.gz_075a-breast.nii.gz_.nii.gz', 'data/training/152k.nii.gz_075k-breast.nii.gz_.nii.gz', 'data/training/152k.nii.gz_077k-breast.nii.gz_.nii.gz', 'data/training/152k.nii.gz_079k-breast.nii.gz_.nii.gz', 'data/training/152k.nii.gz_080k-breast.nii.gz_.nii.gz', 'data/training/152k.nii.gz_082k-breast.nii.gz_.nii.gz', 'data/training/152k.nii.gz_083a-breast.nii.gz_.nii.gz', 'data/training/152k.nii.gz_083k-breast.nii.gz_.nii.gz', 'data/training/152k.nii.gz_084a-breast.nii.gz_.nii.gz', 'data/training/152k.nii.gz_087f-breast.nii.gz_.nii.gz', 'data/training/152k.nii.gz_088f-breast.nii.gz_.nii.gz', 'data/training/152k.nii.gz_088k-breast.nii.gz_.nii.gz', 'data/training/152k.nii.gz_090a-breast.nii.gz_.nii.gz', 'data/training/152k.nii.gz_091f-breast.nii.gz_.nii.gz', 'data/training/152k.nii.gz_092k-breast.nii.gz_.nii.gz']\n"
     ]
    },
    {
     "name": "stderr",
     "output_type": "stream",
     "text": [
      " 25%|█████████████████████████████████████████████████████████████████████▌                                                                                                                                                                                                                | 15/60 [01:23<04:22,  5.84s/it]"
     ]
    },
    {
     "name": "stdout",
     "output_type": "stream",
     "text": [
      "['074k-breast.nii.gz', '075a-breast.nii.gz', '075k-breast.nii.gz', '077k-breast.nii.gz', '079k-breast.nii.gz', '080k-breast.nii.gz', '082k-breast.nii.gz', '083a-breast.nii.gz', '083k-breast.nii.gz', '084a-breast.nii.gz', '087f-breast.nii.gz', '088f-breast.nii.gz', '088k-breast.nii.gz', '090a-breast.nii.gz', '091f-breast.nii.gz', '092k-breast.nii.gz']\n",
      "['data/training/153a.nii.gz_074k-breast.nii.gz_.nii.gz', 'data/training/153a.nii.gz_075a-breast.nii.gz_.nii.gz', 'data/training/153a.nii.gz_075k-breast.nii.gz_.nii.gz', 'data/training/153a.nii.gz_077k-breast.nii.gz_.nii.gz', 'data/training/153a.nii.gz_079k-breast.nii.gz_.nii.gz', 'data/training/153a.nii.gz_080k-breast.nii.gz_.nii.gz', 'data/training/153a.nii.gz_082k-breast.nii.gz_.nii.gz', 'data/training/153a.nii.gz_083a-breast.nii.gz_.nii.gz', 'data/training/153a.nii.gz_083k-breast.nii.gz_.nii.gz', 'data/training/153a.nii.gz_084a-breast.nii.gz_.nii.gz', 'data/training/153a.nii.gz_087f-breast.nii.gz_.nii.gz', 'data/training/153a.nii.gz_088f-breast.nii.gz_.nii.gz', 'data/training/153a.nii.gz_088k-breast.nii.gz_.nii.gz', 'data/training/153a.nii.gz_090a-breast.nii.gz_.nii.gz', 'data/training/153a.nii.gz_091f-breast.nii.gz_.nii.gz', 'data/training/153a.nii.gz_092k-breast.nii.gz_.nii.gz']\n"
     ]
    },
    {
     "name": "stderr",
     "output_type": "stream",
     "text": [
      " 27%|██████████████████████████████████████████████████████████████████████████▏                                                                                                                                                                                                           | 16/60 [01:29<04:18,  5.87s/it]"
     ]
    },
    {
     "name": "stdout",
     "output_type": "stream",
     "text": [
      "['074k-breast.nii.gz', '075a-breast.nii.gz', '075k-breast.nii.gz', '077k-breast.nii.gz', '079k-breast.nii.gz', '080k-breast.nii.gz', '082k-breast.nii.gz', '083a-breast.nii.gz', '083k-breast.nii.gz', '084a-breast.nii.gz', '087f-breast.nii.gz', '088f-breast.nii.gz', '088k-breast.nii.gz', '090a-breast.nii.gz', '091f-breast.nii.gz', '092k-breast.nii.gz']\n",
      "['data/training/153k.nii.gz_074k-breast.nii.gz_.nii.gz', 'data/training/153k.nii.gz_075a-breast.nii.gz_.nii.gz', 'data/training/153k.nii.gz_075k-breast.nii.gz_.nii.gz', 'data/training/153k.nii.gz_077k-breast.nii.gz_.nii.gz', 'data/training/153k.nii.gz_079k-breast.nii.gz_.nii.gz', 'data/training/153k.nii.gz_080k-breast.nii.gz_.nii.gz', 'data/training/153k.nii.gz_082k-breast.nii.gz_.nii.gz', 'data/training/153k.nii.gz_083a-breast.nii.gz_.nii.gz', 'data/training/153k.nii.gz_083k-breast.nii.gz_.nii.gz', 'data/training/153k.nii.gz_084a-breast.nii.gz_.nii.gz', 'data/training/153k.nii.gz_087f-breast.nii.gz_.nii.gz', 'data/training/153k.nii.gz_088f-breast.nii.gz_.nii.gz', 'data/training/153k.nii.gz_088k-breast.nii.gz_.nii.gz', 'data/training/153k.nii.gz_090a-breast.nii.gz_.nii.gz', 'data/training/153k.nii.gz_091f-breast.nii.gz_.nii.gz', 'data/training/153k.nii.gz_092k-breast.nii.gz_.nii.gz']\n"
     ]
    },
    {
     "name": "stderr",
     "output_type": "stream",
     "text": [
      " 28%|██████████████████████████████████████████████████████████████████████████████▊                                                                                                                                                                                                       | 17/60 [01:35<04:14,  5.92s/it]"
     ]
    },
    {
     "name": "stdout",
     "output_type": "stream",
     "text": [
      "['074k-breast.nii.gz', '075a-breast.nii.gz', '075k-breast.nii.gz', '077k-breast.nii.gz', '079k-breast.nii.gz', '080k-breast.nii.gz', '082k-breast.nii.gz', '083a-breast.nii.gz', '083k-breast.nii.gz', '084a-breast.nii.gz', '087f-breast.nii.gz', '088f-breast.nii.gz', '088k-breast.nii.gz', '090a-breast.nii.gz', '091f-breast.nii.gz', '092k-breast.nii.gz']\n",
      "['data/training/154a.nii.gz_074k-breast.nii.gz_.nii.gz', 'data/training/154a.nii.gz_075a-breast.nii.gz_.nii.gz', 'data/training/154a.nii.gz_075k-breast.nii.gz_.nii.gz', 'data/training/154a.nii.gz_077k-breast.nii.gz_.nii.gz', 'data/training/154a.nii.gz_079k-breast.nii.gz_.nii.gz', 'data/training/154a.nii.gz_080k-breast.nii.gz_.nii.gz', 'data/training/154a.nii.gz_082k-breast.nii.gz_.nii.gz', 'data/training/154a.nii.gz_083a-breast.nii.gz_.nii.gz', 'data/training/154a.nii.gz_083k-breast.nii.gz_.nii.gz', 'data/training/154a.nii.gz_084a-breast.nii.gz_.nii.gz', 'data/training/154a.nii.gz_087f-breast.nii.gz_.nii.gz', 'data/training/154a.nii.gz_088f-breast.nii.gz_.nii.gz', 'data/training/154a.nii.gz_088k-breast.nii.gz_.nii.gz', 'data/training/154a.nii.gz_090a-breast.nii.gz_.nii.gz', 'data/training/154a.nii.gz_091f-breast.nii.gz_.nii.gz', 'data/training/154a.nii.gz_092k-breast.nii.gz_.nii.gz']\n"
     ]
    },
    {
     "name": "stderr",
     "output_type": "stream",
     "text": [
      " 30%|███████████████████████████████████████████████████████████████████████████████████▍                                                                                                                                                                                                  | 18/60 [01:41<04:08,  5.93s/it]"
     ]
    },
    {
     "name": "stdout",
     "output_type": "stream",
     "text": [
      "['074k-breast.nii.gz', '075a-breast.nii.gz', '075k-breast.nii.gz', '077k-breast.nii.gz', '079k-breast.nii.gz', '080k-breast.nii.gz', '082k-breast.nii.gz', '083a-breast.nii.gz', '083k-breast.nii.gz', '084a-breast.nii.gz', '087f-breast.nii.gz', '088f-breast.nii.gz', '088k-breast.nii.gz', '090a-breast.nii.gz', '091f-breast.nii.gz', '092k-breast.nii.gz']\n",
      "['data/training/154k.nii.gz_074k-breast.nii.gz_.nii.gz', 'data/training/154k.nii.gz_075a-breast.nii.gz_.nii.gz', 'data/training/154k.nii.gz_075k-breast.nii.gz_.nii.gz', 'data/training/154k.nii.gz_077k-breast.nii.gz_.nii.gz', 'data/training/154k.nii.gz_079k-breast.nii.gz_.nii.gz', 'data/training/154k.nii.gz_080k-breast.nii.gz_.nii.gz', 'data/training/154k.nii.gz_082k-breast.nii.gz_.nii.gz', 'data/training/154k.nii.gz_083a-breast.nii.gz_.nii.gz', 'data/training/154k.nii.gz_083k-breast.nii.gz_.nii.gz', 'data/training/154k.nii.gz_084a-breast.nii.gz_.nii.gz', 'data/training/154k.nii.gz_087f-breast.nii.gz_.nii.gz', 'data/training/154k.nii.gz_088f-breast.nii.gz_.nii.gz', 'data/training/154k.nii.gz_088k-breast.nii.gz_.nii.gz', 'data/training/154k.nii.gz_090a-breast.nii.gz_.nii.gz', 'data/training/154k.nii.gz_091f-breast.nii.gz_.nii.gz', 'data/training/154k.nii.gz_092k-breast.nii.gz_.nii.gz']\n"
     ]
    },
    {
     "name": "stderr",
     "output_type": "stream",
     "text": [
      " 32%|████████████████████████████████████████████████████████████████████████████████████████                                                                                                                                                                                              | 19/60 [01:47<04:08,  6.06s/it]"
     ]
    },
    {
     "name": "stdout",
     "output_type": "stream",
     "text": [
      "['074k-breast.nii.gz', '075a-breast.nii.gz', '075k-breast.nii.gz', '077k-breast.nii.gz', '079k-breast.nii.gz', '080k-breast.nii.gz', '082k-breast.nii.gz', '083a-breast.nii.gz', '083k-breast.nii.gz', '084a-breast.nii.gz', '087f-breast.nii.gz', '088f-breast.nii.gz', '088k-breast.nii.gz', '090a-breast.nii.gz', '091f-breast.nii.gz', '092k-breast.nii.gz']\n",
      "['data/training/155k.nii.gz_074k-breast.nii.gz_.nii.gz', 'data/training/155k.nii.gz_075a-breast.nii.gz_.nii.gz', 'data/training/155k.nii.gz_075k-breast.nii.gz_.nii.gz', 'data/training/155k.nii.gz_077k-breast.nii.gz_.nii.gz', 'data/training/155k.nii.gz_079k-breast.nii.gz_.nii.gz', 'data/training/155k.nii.gz_080k-breast.nii.gz_.nii.gz', 'data/training/155k.nii.gz_082k-breast.nii.gz_.nii.gz', 'data/training/155k.nii.gz_083a-breast.nii.gz_.nii.gz', 'data/training/155k.nii.gz_083k-breast.nii.gz_.nii.gz', 'data/training/155k.nii.gz_084a-breast.nii.gz_.nii.gz', 'data/training/155k.nii.gz_087f-breast.nii.gz_.nii.gz', 'data/training/155k.nii.gz_088f-breast.nii.gz_.nii.gz', 'data/training/155k.nii.gz_088k-breast.nii.gz_.nii.gz', 'data/training/155k.nii.gz_090a-breast.nii.gz_.nii.gz', 'data/training/155k.nii.gz_091f-breast.nii.gz_.nii.gz', 'data/training/155k.nii.gz_092k-breast.nii.gz_.nii.gz']\n"
     ]
    },
    {
     "name": "stderr",
     "output_type": "stream",
     "text": [
      " 33%|████████████████████████████████████████████████████████████████████████████████████████████▋                                                                                                                                                                                         | 20/60 [01:53<04:03,  6.09s/it]"
     ]
    },
    {
     "name": "stdout",
     "output_type": "stream",
     "text": [
      "['074k-breast.nii.gz', '075a-breast.nii.gz', '075k-breast.nii.gz', '077k-breast.nii.gz', '079k-breast.nii.gz', '080k-breast.nii.gz', '082k-breast.nii.gz', '083a-breast.nii.gz', '083k-breast.nii.gz', '084a-breast.nii.gz', '087f-breast.nii.gz', '088f-breast.nii.gz', '088k-breast.nii.gz', '090a-breast.nii.gz', '091f-breast.nii.gz', '092k-breast.nii.gz']\n",
      "['data/training/156f.nii.gz_074k-breast.nii.gz_.nii.gz', 'data/training/156f.nii.gz_075a-breast.nii.gz_.nii.gz', 'data/training/156f.nii.gz_075k-breast.nii.gz_.nii.gz', 'data/training/156f.nii.gz_077k-breast.nii.gz_.nii.gz', 'data/training/156f.nii.gz_079k-breast.nii.gz_.nii.gz', 'data/training/156f.nii.gz_080k-breast.nii.gz_.nii.gz', 'data/training/156f.nii.gz_082k-breast.nii.gz_.nii.gz', 'data/training/156f.nii.gz_083a-breast.nii.gz_.nii.gz', 'data/training/156f.nii.gz_083k-breast.nii.gz_.nii.gz', 'data/training/156f.nii.gz_084a-breast.nii.gz_.nii.gz', 'data/training/156f.nii.gz_087f-breast.nii.gz_.nii.gz', 'data/training/156f.nii.gz_088f-breast.nii.gz_.nii.gz', 'data/training/156f.nii.gz_088k-breast.nii.gz_.nii.gz', 'data/training/156f.nii.gz_090a-breast.nii.gz_.nii.gz', 'data/training/156f.nii.gz_091f-breast.nii.gz_.nii.gz', 'data/training/156f.nii.gz_092k-breast.nii.gz_.nii.gz']\n"
     ]
    },
    {
     "name": "stderr",
     "output_type": "stream",
     "text": [
      " 35%|█████████████████████████████████████████████████████████████████████████████████████████████████▎                                                                                                                                                                                    | 21/60 [01:59<03:52,  5.97s/it]"
     ]
    },
    {
     "name": "stdout",
     "output_type": "stream",
     "text": [
      "['074k-breast.nii.gz', '075a-breast.nii.gz', '075k-breast.nii.gz', '077k-breast.nii.gz', '079k-breast.nii.gz', '080k-breast.nii.gz', '082k-breast.nii.gz', '083a-breast.nii.gz', '083k-breast.nii.gz', '084a-breast.nii.gz', '087f-breast.nii.gz', '088f-breast.nii.gz', '088k-breast.nii.gz', '090a-breast.nii.gz', '091f-breast.nii.gz', '092k-breast.nii.gz']\n",
      "['data/training/159a.nii.gz_074k-breast.nii.gz_.nii.gz', 'data/training/159a.nii.gz_075a-breast.nii.gz_.nii.gz', 'data/training/159a.nii.gz_075k-breast.nii.gz_.nii.gz', 'data/training/159a.nii.gz_077k-breast.nii.gz_.nii.gz', 'data/training/159a.nii.gz_079k-breast.nii.gz_.nii.gz', 'data/training/159a.nii.gz_080k-breast.nii.gz_.nii.gz', 'data/training/159a.nii.gz_082k-breast.nii.gz_.nii.gz', 'data/training/159a.nii.gz_083a-breast.nii.gz_.nii.gz', 'data/training/159a.nii.gz_083k-breast.nii.gz_.nii.gz', 'data/training/159a.nii.gz_084a-breast.nii.gz_.nii.gz', 'data/training/159a.nii.gz_087f-breast.nii.gz_.nii.gz', 'data/training/159a.nii.gz_088f-breast.nii.gz_.nii.gz', 'data/training/159a.nii.gz_088k-breast.nii.gz_.nii.gz', 'data/training/159a.nii.gz_090a-breast.nii.gz_.nii.gz', 'data/training/159a.nii.gz_091f-breast.nii.gz_.nii.gz', 'data/training/159a.nii.gz_092k-breast.nii.gz_.nii.gz']\n"
     ]
    },
    {
     "name": "stderr",
     "output_type": "stream",
     "text": [
      " 37%|█████████████████████████████████████████████████████████████████████████████████████████████████████▉                                                                                                                                                                                | 22/60 [02:05<03:44,  5.91s/it]"
     ]
    },
    {
     "name": "stdout",
     "output_type": "stream",
     "text": [
      "['074k-breast.nii.gz', '075a-breast.nii.gz', '075k-breast.nii.gz', '077k-breast.nii.gz', '079k-breast.nii.gz', '080k-breast.nii.gz', '082k-breast.nii.gz', '083a-breast.nii.gz', '083k-breast.nii.gz', '084a-breast.nii.gz', '087f-breast.nii.gz', '088f-breast.nii.gz', '088k-breast.nii.gz', '090a-breast.nii.gz', '091f-breast.nii.gz', '092k-breast.nii.gz']\n",
      "['data/training/159f.nii.gz_074k-breast.nii.gz_.nii.gz', 'data/training/159f.nii.gz_075a-breast.nii.gz_.nii.gz', 'data/training/159f.nii.gz_075k-breast.nii.gz_.nii.gz', 'data/training/159f.nii.gz_077k-breast.nii.gz_.nii.gz', 'data/training/159f.nii.gz_079k-breast.nii.gz_.nii.gz', 'data/training/159f.nii.gz_080k-breast.nii.gz_.nii.gz', 'data/training/159f.nii.gz_082k-breast.nii.gz_.nii.gz', 'data/training/159f.nii.gz_083a-breast.nii.gz_.nii.gz', 'data/training/159f.nii.gz_083k-breast.nii.gz_.nii.gz', 'data/training/159f.nii.gz_084a-breast.nii.gz_.nii.gz', 'data/training/159f.nii.gz_087f-breast.nii.gz_.nii.gz', 'data/training/159f.nii.gz_088f-breast.nii.gz_.nii.gz', 'data/training/159f.nii.gz_088k-breast.nii.gz_.nii.gz', 'data/training/159f.nii.gz_090a-breast.nii.gz_.nii.gz', 'data/training/159f.nii.gz_091f-breast.nii.gz_.nii.gz', 'data/training/159f.nii.gz_092k-breast.nii.gz_.nii.gz']\n"
     ]
    },
    {
     "name": "stderr",
     "output_type": "stream",
     "text": [
      " 38%|██████████████████████████████████████████████████████████████████████████████████████████████████████████▌                                                                                                                                                                           | 23/60 [02:10<03:34,  5.81s/it]"
     ]
    },
    {
     "name": "stdout",
     "output_type": "stream",
     "text": [
      "['074k-breast.nii.gz', '075a-breast.nii.gz', '075k-breast.nii.gz', '077k-breast.nii.gz', '079k-breast.nii.gz', '080k-breast.nii.gz', '082k-breast.nii.gz', '083a-breast.nii.gz', '083k-breast.nii.gz', '084a-breast.nii.gz', '087f-breast.nii.gz', '088f-breast.nii.gz', '088k-breast.nii.gz', '090a-breast.nii.gz', '091f-breast.nii.gz', '092k-breast.nii.gz']\n",
      "['data/training/159k.nii.gz_074k-breast.nii.gz_.nii.gz', 'data/training/159k.nii.gz_075a-breast.nii.gz_.nii.gz', 'data/training/159k.nii.gz_075k-breast.nii.gz_.nii.gz', 'data/training/159k.nii.gz_077k-breast.nii.gz_.nii.gz', 'data/training/159k.nii.gz_079k-breast.nii.gz_.nii.gz', 'data/training/159k.nii.gz_080k-breast.nii.gz_.nii.gz', 'data/training/159k.nii.gz_082k-breast.nii.gz_.nii.gz', 'data/training/159k.nii.gz_083a-breast.nii.gz_.nii.gz', 'data/training/159k.nii.gz_083k-breast.nii.gz_.nii.gz', 'data/training/159k.nii.gz_084a-breast.nii.gz_.nii.gz', 'data/training/159k.nii.gz_087f-breast.nii.gz_.nii.gz', 'data/training/159k.nii.gz_088f-breast.nii.gz_.nii.gz', 'data/training/159k.nii.gz_088k-breast.nii.gz_.nii.gz', 'data/training/159k.nii.gz_090a-breast.nii.gz_.nii.gz', 'data/training/159k.nii.gz_091f-breast.nii.gz_.nii.gz', 'data/training/159k.nii.gz_092k-breast.nii.gz_.nii.gz']\n"
     ]
    },
    {
     "name": "stderr",
     "output_type": "stream",
     "text": [
      " 40%|███████████████████████████████████████████████████████████████████████████████████████████████████████████████▏                                                                                                                                                                      | 24/60 [02:16<03:29,  5.82s/it]"
     ]
    },
    {
     "name": "stdout",
     "output_type": "stream",
     "text": [
      "['074k-breast.nii.gz', '075a-breast.nii.gz', '075k-breast.nii.gz', '077k-breast.nii.gz', '079k-breast.nii.gz', '080k-breast.nii.gz', '082k-breast.nii.gz', '083a-breast.nii.gz', '083k-breast.nii.gz', '084a-breast.nii.gz', '087f-breast.nii.gz', '088f-breast.nii.gz', '088k-breast.nii.gz', '090a-breast.nii.gz', '091f-breast.nii.gz', '092k-breast.nii.gz']\n",
      "['data/training/160a.nii.gz_074k-breast.nii.gz_.nii.gz', 'data/training/160a.nii.gz_075a-breast.nii.gz_.nii.gz', 'data/training/160a.nii.gz_075k-breast.nii.gz_.nii.gz', 'data/training/160a.nii.gz_077k-breast.nii.gz_.nii.gz', 'data/training/160a.nii.gz_079k-breast.nii.gz_.nii.gz', 'data/training/160a.nii.gz_080k-breast.nii.gz_.nii.gz', 'data/training/160a.nii.gz_082k-breast.nii.gz_.nii.gz', 'data/training/160a.nii.gz_083a-breast.nii.gz_.nii.gz', 'data/training/160a.nii.gz_083k-breast.nii.gz_.nii.gz', 'data/training/160a.nii.gz_084a-breast.nii.gz_.nii.gz', 'data/training/160a.nii.gz_087f-breast.nii.gz_.nii.gz', 'data/training/160a.nii.gz_088f-breast.nii.gz_.nii.gz', 'data/training/160a.nii.gz_088k-breast.nii.gz_.nii.gz', 'data/training/160a.nii.gz_090a-breast.nii.gz_.nii.gz', 'data/training/160a.nii.gz_091f-breast.nii.gz_.nii.gz', 'data/training/160a.nii.gz_092k-breast.nii.gz_.nii.gz']\n"
     ]
    },
    {
     "name": "stderr",
     "output_type": "stream",
     "text": [
      " 42%|███████████████████████████████████████████████████████████████████████████████████████████████████████████████████▊                                                                                                                                                                  | 25/60 [02:22<03:20,  5.73s/it]"
     ]
    },
    {
     "name": "stdout",
     "output_type": "stream",
     "text": [
      "['074k-breast.nii.gz', '075a-breast.nii.gz', '075k-breast.nii.gz', '077k-breast.nii.gz', '079k-breast.nii.gz', '080k-breast.nii.gz', '082k-breast.nii.gz', '083a-breast.nii.gz', '083k-breast.nii.gz', '084a-breast.nii.gz', '087f-breast.nii.gz', '088f-breast.nii.gz', '088k-breast.nii.gz', '090a-breast.nii.gz', '091f-breast.nii.gz', '092k-breast.nii.gz']\n",
      "['data/training/160f.nii.gz_074k-breast.nii.gz_.nii.gz', 'data/training/160f.nii.gz_075a-breast.nii.gz_.nii.gz', 'data/training/160f.nii.gz_075k-breast.nii.gz_.nii.gz', 'data/training/160f.nii.gz_077k-breast.nii.gz_.nii.gz', 'data/training/160f.nii.gz_079k-breast.nii.gz_.nii.gz', 'data/training/160f.nii.gz_080k-breast.nii.gz_.nii.gz', 'data/training/160f.nii.gz_082k-breast.nii.gz_.nii.gz', 'data/training/160f.nii.gz_083a-breast.nii.gz_.nii.gz', 'data/training/160f.nii.gz_083k-breast.nii.gz_.nii.gz', 'data/training/160f.nii.gz_084a-breast.nii.gz_.nii.gz', 'data/training/160f.nii.gz_087f-breast.nii.gz_.nii.gz', 'data/training/160f.nii.gz_088f-breast.nii.gz_.nii.gz', 'data/training/160f.nii.gz_088k-breast.nii.gz_.nii.gz', 'data/training/160f.nii.gz_090a-breast.nii.gz_.nii.gz', 'data/training/160f.nii.gz_091f-breast.nii.gz_.nii.gz', 'data/training/160f.nii.gz_092k-breast.nii.gz_.nii.gz']\n"
     ]
    },
    {
     "name": "stderr",
     "output_type": "stream",
     "text": [
      " 43%|████████████████████████████████████████████████████████████████████████████████████████████████████████████████████████▍                                                                                                                                                             | 26/60 [02:27<03:07,  5.51s/it]"
     ]
    },
    {
     "name": "stdout",
     "output_type": "stream",
     "text": [
      "['074k-breast.nii.gz', '075a-breast.nii.gz', '075k-breast.nii.gz', '077k-breast.nii.gz', '079k-breast.nii.gz', '080k-breast.nii.gz', '082k-breast.nii.gz', '083a-breast.nii.gz', '083k-breast.nii.gz', '084a-breast.nii.gz', '087f-breast.nii.gz', '088f-breast.nii.gz', '088k-breast.nii.gz', '090a-breast.nii.gz', '091f-breast.nii.gz', '092k-breast.nii.gz']\n",
      "['data/training/160k.nii.gz_074k-breast.nii.gz_.nii.gz', 'data/training/160k.nii.gz_075a-breast.nii.gz_.nii.gz', 'data/training/160k.nii.gz_075k-breast.nii.gz_.nii.gz', 'data/training/160k.nii.gz_077k-breast.nii.gz_.nii.gz', 'data/training/160k.nii.gz_079k-breast.nii.gz_.nii.gz', 'data/training/160k.nii.gz_080k-breast.nii.gz_.nii.gz', 'data/training/160k.nii.gz_082k-breast.nii.gz_.nii.gz', 'data/training/160k.nii.gz_083a-breast.nii.gz_.nii.gz', 'data/training/160k.nii.gz_083k-breast.nii.gz_.nii.gz', 'data/training/160k.nii.gz_084a-breast.nii.gz_.nii.gz', 'data/training/160k.nii.gz_087f-breast.nii.gz_.nii.gz', 'data/training/160k.nii.gz_088f-breast.nii.gz_.nii.gz', 'data/training/160k.nii.gz_088k-breast.nii.gz_.nii.gz', 'data/training/160k.nii.gz_090a-breast.nii.gz_.nii.gz', 'data/training/160k.nii.gz_091f-breast.nii.gz_.nii.gz', 'data/training/160k.nii.gz_092k-breast.nii.gz_.nii.gz']\n"
     ]
    },
    {
     "name": "stderr",
     "output_type": "stream",
     "text": [
      " 45%|█████████████████████████████████████████████████████████████████████████████████████████████████████████████████████████████                                                                                                                                                         | 27/60 [02:32<02:58,  5.40s/it]"
     ]
    },
    {
     "name": "stdout",
     "output_type": "stream",
     "text": [
      "['074k-breast.nii.gz', '075a-breast.nii.gz', '075k-breast.nii.gz', '077k-breast.nii.gz', '079k-breast.nii.gz', '080k-breast.nii.gz', '082k-breast.nii.gz', '083a-breast.nii.gz', '083k-breast.nii.gz', '084a-breast.nii.gz', '087f-breast.nii.gz', '088f-breast.nii.gz', '088k-breast.nii.gz', '090a-breast.nii.gz', '091f-breast.nii.gz', '092k-breast.nii.gz']\n",
      "['data/training/161a.nii.gz_074k-breast.nii.gz_.nii.gz', 'data/training/161a.nii.gz_075a-breast.nii.gz_.nii.gz', 'data/training/161a.nii.gz_075k-breast.nii.gz_.nii.gz', 'data/training/161a.nii.gz_077k-breast.nii.gz_.nii.gz', 'data/training/161a.nii.gz_079k-breast.nii.gz_.nii.gz', 'data/training/161a.nii.gz_080k-breast.nii.gz_.nii.gz', 'data/training/161a.nii.gz_082k-breast.nii.gz_.nii.gz', 'data/training/161a.nii.gz_083a-breast.nii.gz_.nii.gz', 'data/training/161a.nii.gz_083k-breast.nii.gz_.nii.gz', 'data/training/161a.nii.gz_084a-breast.nii.gz_.nii.gz', 'data/training/161a.nii.gz_087f-breast.nii.gz_.nii.gz', 'data/training/161a.nii.gz_088f-breast.nii.gz_.nii.gz', 'data/training/161a.nii.gz_088k-breast.nii.gz_.nii.gz', 'data/training/161a.nii.gz_090a-breast.nii.gz_.nii.gz', 'data/training/161a.nii.gz_091f-breast.nii.gz_.nii.gz', 'data/training/161a.nii.gz_092k-breast.nii.gz_.nii.gz']\n"
     ]
    },
    {
     "name": "stderr",
     "output_type": "stream",
     "text": [
      " 47%|█████████████████████████████████████████████████████████████████████████████████████████████████████████████████████████████████▋                                                                                                                                                    | 28/60 [02:37<02:52,  5.38s/it]"
     ]
    },
    {
     "name": "stdout",
     "output_type": "stream",
     "text": [
      "['074k-breast.nii.gz', '075a-breast.nii.gz', '075k-breast.nii.gz', '077k-breast.nii.gz', '079k-breast.nii.gz', '080k-breast.nii.gz', '082k-breast.nii.gz', '083a-breast.nii.gz', '083k-breast.nii.gz', '084a-breast.nii.gz', '087f-breast.nii.gz', '088f-breast.nii.gz', '088k-breast.nii.gz', '090a-breast.nii.gz', '091f-breast.nii.gz', '092k-breast.nii.gz']\n",
      "['data/training/161f.nii.gz_074k-breast.nii.gz_.nii.gz', 'data/training/161f.nii.gz_075a-breast.nii.gz_.nii.gz', 'data/training/161f.nii.gz_075k-breast.nii.gz_.nii.gz', 'data/training/161f.nii.gz_077k-breast.nii.gz_.nii.gz', 'data/training/161f.nii.gz_079k-breast.nii.gz_.nii.gz', 'data/training/161f.nii.gz_080k-breast.nii.gz_.nii.gz', 'data/training/161f.nii.gz_082k-breast.nii.gz_.nii.gz', 'data/training/161f.nii.gz_083a-breast.nii.gz_.nii.gz', 'data/training/161f.nii.gz_083k-breast.nii.gz_.nii.gz', 'data/training/161f.nii.gz_084a-breast.nii.gz_.nii.gz', 'data/training/161f.nii.gz_087f-breast.nii.gz_.nii.gz', 'data/training/161f.nii.gz_088f-breast.nii.gz_.nii.gz', 'data/training/161f.nii.gz_088k-breast.nii.gz_.nii.gz', 'data/training/161f.nii.gz_090a-breast.nii.gz_.nii.gz', 'data/training/161f.nii.gz_091f-breast.nii.gz_.nii.gz', 'data/training/161f.nii.gz_092k-breast.nii.gz_.nii.gz']\n"
     ]
    },
    {
     "name": "stderr",
     "output_type": "stream",
     "text": [
      " 48%|██████████████████████████████████████████████████████████████████████████████████████████████████████████████████████████████████████▎                                                                                                                                               | 29/60 [02:42<02:41,  5.21s/it]"
     ]
    },
    {
     "name": "stdout",
     "output_type": "stream",
     "text": [
      "['074k-breast.nii.gz', '075a-breast.nii.gz', '075k-breast.nii.gz', '077k-breast.nii.gz', '079k-breast.nii.gz', '080k-breast.nii.gz', '082k-breast.nii.gz', '083a-breast.nii.gz', '083k-breast.nii.gz', '084a-breast.nii.gz', '087f-breast.nii.gz', '088f-breast.nii.gz', '088k-breast.nii.gz', '090a-breast.nii.gz', '091f-breast.nii.gz', '092k-breast.nii.gz']\n",
      "['data/training/161k.nii.gz_074k-breast.nii.gz_.nii.gz', 'data/training/161k.nii.gz_075a-breast.nii.gz_.nii.gz', 'data/training/161k.nii.gz_075k-breast.nii.gz_.nii.gz', 'data/training/161k.nii.gz_077k-breast.nii.gz_.nii.gz', 'data/training/161k.nii.gz_079k-breast.nii.gz_.nii.gz', 'data/training/161k.nii.gz_080k-breast.nii.gz_.nii.gz', 'data/training/161k.nii.gz_082k-breast.nii.gz_.nii.gz', 'data/training/161k.nii.gz_083a-breast.nii.gz_.nii.gz', 'data/training/161k.nii.gz_083k-breast.nii.gz_.nii.gz', 'data/training/161k.nii.gz_084a-breast.nii.gz_.nii.gz', 'data/training/161k.nii.gz_087f-breast.nii.gz_.nii.gz', 'data/training/161k.nii.gz_088f-breast.nii.gz_.nii.gz', 'data/training/161k.nii.gz_088k-breast.nii.gz_.nii.gz', 'data/training/161k.nii.gz_090a-breast.nii.gz_.nii.gz', 'data/training/161k.nii.gz_091f-breast.nii.gz_.nii.gz', 'data/training/161k.nii.gz_092k-breast.nii.gz_.nii.gz']\n"
     ]
    },
    {
     "name": "stderr",
     "output_type": "stream",
     "text": [
      " 50%|███████████████████████████████████████████████████████████████████████████████████████████████████████████████████████████████████████████                                                                                                                                           | 30/60 [02:47<02:34,  5.15s/it]"
     ]
    },
    {
     "name": "stdout",
     "output_type": "stream",
     "text": [
      "['074k-breast.nii.gz', '075a-breast.nii.gz', '075k-breast.nii.gz', '077k-breast.nii.gz', '079k-breast.nii.gz', '080k-breast.nii.gz', '082k-breast.nii.gz', '083a-breast.nii.gz', '083k-breast.nii.gz', '084a-breast.nii.gz', '087f-breast.nii.gz', '088f-breast.nii.gz', '088k-breast.nii.gz', '090a-breast.nii.gz', '091f-breast.nii.gz', '092k-breast.nii.gz']\n",
      "['data/training/162a.nii.gz_074k-breast.nii.gz_.nii.gz', 'data/training/162a.nii.gz_075a-breast.nii.gz_.nii.gz', 'data/training/162a.nii.gz_075k-breast.nii.gz_.nii.gz', 'data/training/162a.nii.gz_077k-breast.nii.gz_.nii.gz', 'data/training/162a.nii.gz_079k-breast.nii.gz_.nii.gz', 'data/training/162a.nii.gz_080k-breast.nii.gz_.nii.gz', 'data/training/162a.nii.gz_082k-breast.nii.gz_.nii.gz', 'data/training/162a.nii.gz_083a-breast.nii.gz_.nii.gz', 'data/training/162a.nii.gz_083k-breast.nii.gz_.nii.gz', 'data/training/162a.nii.gz_084a-breast.nii.gz_.nii.gz', 'data/training/162a.nii.gz_087f-breast.nii.gz_.nii.gz', 'data/training/162a.nii.gz_088f-breast.nii.gz_.nii.gz', 'data/training/162a.nii.gz_088k-breast.nii.gz_.nii.gz', 'data/training/162a.nii.gz_090a-breast.nii.gz_.nii.gz', 'data/training/162a.nii.gz_091f-breast.nii.gz_.nii.gz', 'data/training/162a.nii.gz_092k-breast.nii.gz_.nii.gz']\n"
     ]
    },
    {
     "name": "stderr",
     "output_type": "stream",
     "text": [
      " 52%|███████████████████████████████████████████████████████████████████████████████████████████████████████████████████████████████████████████████▋                                                                                                                                      | 31/60 [02:53<02:34,  5.34s/it]"
     ]
    },
    {
     "name": "stdout",
     "output_type": "stream",
     "text": [
      "['074k-breast.nii.gz', '075a-breast.nii.gz', '075k-breast.nii.gz', '077k-breast.nii.gz', '079k-breast.nii.gz', '080k-breast.nii.gz', '082k-breast.nii.gz', '083a-breast.nii.gz', '083k-breast.nii.gz', '084a-breast.nii.gz', '087f-breast.nii.gz', '088f-breast.nii.gz', '088k-breast.nii.gz', '090a-breast.nii.gz', '091f-breast.nii.gz', '092k-breast.nii.gz']\n",
      "['data/training/163a.nii.gz_074k-breast.nii.gz_.nii.gz', 'data/training/163a.nii.gz_075a-breast.nii.gz_.nii.gz', 'data/training/163a.nii.gz_075k-breast.nii.gz_.nii.gz', 'data/training/163a.nii.gz_077k-breast.nii.gz_.nii.gz', 'data/training/163a.nii.gz_079k-breast.nii.gz_.nii.gz', 'data/training/163a.nii.gz_080k-breast.nii.gz_.nii.gz', 'data/training/163a.nii.gz_082k-breast.nii.gz_.nii.gz', 'data/training/163a.nii.gz_083a-breast.nii.gz_.nii.gz', 'data/training/163a.nii.gz_083k-breast.nii.gz_.nii.gz', 'data/training/163a.nii.gz_084a-breast.nii.gz_.nii.gz', 'data/training/163a.nii.gz_087f-breast.nii.gz_.nii.gz', 'data/training/163a.nii.gz_088f-breast.nii.gz_.nii.gz', 'data/training/163a.nii.gz_088k-breast.nii.gz_.nii.gz', 'data/training/163a.nii.gz_090a-breast.nii.gz_.nii.gz', 'data/training/163a.nii.gz_091f-breast.nii.gz_.nii.gz', 'data/training/163a.nii.gz_092k-breast.nii.gz_.nii.gz']\n"
     ]
    },
    {
     "name": "stderr",
     "output_type": "stream",
     "text": [
      " 53%|████████████████████████████████████████████████████████████████████████████████████████████████████████████████████████████████████████████████████▎                                                                                                                                 | 32/60 [02:58<02:33,  5.47s/it]"
     ]
    },
    {
     "name": "stdout",
     "output_type": "stream",
     "text": [
      "['074k-breast.nii.gz', '075a-breast.nii.gz', '075k-breast.nii.gz', '077k-breast.nii.gz', '079k-breast.nii.gz', '080k-breast.nii.gz', '082k-breast.nii.gz', '083a-breast.nii.gz', '083k-breast.nii.gz', '084a-breast.nii.gz', '087f-breast.nii.gz', '088f-breast.nii.gz', '088k-breast.nii.gz', '090a-breast.nii.gz', '091f-breast.nii.gz', '092k-breast.nii.gz']\n",
      "['data/training/165a.nii.gz_074k-breast.nii.gz_.nii.gz', 'data/training/165a.nii.gz_075a-breast.nii.gz_.nii.gz', 'data/training/165a.nii.gz_075k-breast.nii.gz_.nii.gz', 'data/training/165a.nii.gz_077k-breast.nii.gz_.nii.gz', 'data/training/165a.nii.gz_079k-breast.nii.gz_.nii.gz', 'data/training/165a.nii.gz_080k-breast.nii.gz_.nii.gz', 'data/training/165a.nii.gz_082k-breast.nii.gz_.nii.gz', 'data/training/165a.nii.gz_083a-breast.nii.gz_.nii.gz', 'data/training/165a.nii.gz_083k-breast.nii.gz_.nii.gz', 'data/training/165a.nii.gz_084a-breast.nii.gz_.nii.gz', 'data/training/165a.nii.gz_087f-breast.nii.gz_.nii.gz', 'data/training/165a.nii.gz_088f-breast.nii.gz_.nii.gz', 'data/training/165a.nii.gz_088k-breast.nii.gz_.nii.gz', 'data/training/165a.nii.gz_090a-breast.nii.gz_.nii.gz', 'data/training/165a.nii.gz_091f-breast.nii.gz_.nii.gz', 'data/training/165a.nii.gz_092k-breast.nii.gz_.nii.gz']\n"
     ]
    },
    {
     "name": "stderr",
     "output_type": "stream",
     "text": [
      " 55%|████████████████████████████████████████████████████████████████████████████████████████████████████████████████████████████████████████████████████████▉                                                                                                                             | 33/60 [03:05<02:34,  5.71s/it]"
     ]
    },
    {
     "name": "stdout",
     "output_type": "stream",
     "text": [
      "['074k-breast.nii.gz', '075a-breast.nii.gz', '075k-breast.nii.gz', '077k-breast.nii.gz', '079k-breast.nii.gz', '080k-breast.nii.gz', '082k-breast.nii.gz', '083a-breast.nii.gz', '083k-breast.nii.gz', '084a-breast.nii.gz', '087f-breast.nii.gz', '088f-breast.nii.gz', '088k-breast.nii.gz', '090a-breast.nii.gz', '091f-breast.nii.gz', '092k-breast.nii.gz']\n",
      "['data/training/165f.nii.gz_074k-breast.nii.gz_.nii.gz', 'data/training/165f.nii.gz_075a-breast.nii.gz_.nii.gz', 'data/training/165f.nii.gz_075k-breast.nii.gz_.nii.gz', 'data/training/165f.nii.gz_077k-breast.nii.gz_.nii.gz', 'data/training/165f.nii.gz_079k-breast.nii.gz_.nii.gz', 'data/training/165f.nii.gz_080k-breast.nii.gz_.nii.gz', 'data/training/165f.nii.gz_082k-breast.nii.gz_.nii.gz', 'data/training/165f.nii.gz_083a-breast.nii.gz_.nii.gz', 'data/training/165f.nii.gz_083k-breast.nii.gz_.nii.gz', 'data/training/165f.nii.gz_084a-breast.nii.gz_.nii.gz', 'data/training/165f.nii.gz_087f-breast.nii.gz_.nii.gz', 'data/training/165f.nii.gz_088f-breast.nii.gz_.nii.gz', 'data/training/165f.nii.gz_088k-breast.nii.gz_.nii.gz', 'data/training/165f.nii.gz_090a-breast.nii.gz_.nii.gz', 'data/training/165f.nii.gz_091f-breast.nii.gz_.nii.gz', 'data/training/165f.nii.gz_092k-breast.nii.gz_.nii.gz']\n"
     ]
    },
    {
     "name": "stderr",
     "output_type": "stream",
     "text": [
      " 57%|█████████████████████████████████████████████████████████████████████████████████████████████████████████████████████████████████████████████████████████████▌                                                                                                                        | 34/60 [03:11<02:31,  5.84s/it]"
     ]
    },
    {
     "name": "stdout",
     "output_type": "stream",
     "text": [
      "['074k-breast.nii.gz', '075a-breast.nii.gz', '075k-breast.nii.gz', '077k-breast.nii.gz', '079k-breast.nii.gz', '080k-breast.nii.gz', '082k-breast.nii.gz', '083a-breast.nii.gz', '083k-breast.nii.gz', '084a-breast.nii.gz', '087f-breast.nii.gz', '088f-breast.nii.gz', '088k-breast.nii.gz', '090a-breast.nii.gz', '091f-breast.nii.gz', '092k-breast.nii.gz']\n",
      "['data/training/165k.nii.gz_074k-breast.nii.gz_.nii.gz', 'data/training/165k.nii.gz_075a-breast.nii.gz_.nii.gz', 'data/training/165k.nii.gz_075k-breast.nii.gz_.nii.gz', 'data/training/165k.nii.gz_077k-breast.nii.gz_.nii.gz', 'data/training/165k.nii.gz_079k-breast.nii.gz_.nii.gz', 'data/training/165k.nii.gz_080k-breast.nii.gz_.nii.gz', 'data/training/165k.nii.gz_082k-breast.nii.gz_.nii.gz', 'data/training/165k.nii.gz_083a-breast.nii.gz_.nii.gz', 'data/training/165k.nii.gz_083k-breast.nii.gz_.nii.gz', 'data/training/165k.nii.gz_084a-breast.nii.gz_.nii.gz', 'data/training/165k.nii.gz_087f-breast.nii.gz_.nii.gz', 'data/training/165k.nii.gz_088f-breast.nii.gz_.nii.gz', 'data/training/165k.nii.gz_088k-breast.nii.gz_.nii.gz', 'data/training/165k.nii.gz_090a-breast.nii.gz_.nii.gz', 'data/training/165k.nii.gz_091f-breast.nii.gz_.nii.gz', 'data/training/165k.nii.gz_092k-breast.nii.gz_.nii.gz']\n"
     ]
    },
    {
     "name": "stderr",
     "output_type": "stream",
     "text": [
      " 58%|██████████████████████████████████████████████████████████████████████████████████████████████████████████████████████████████████████████████████████████████████▏                                                                                                                   | 35/60 [03:16<02:24,  5.77s/it]"
     ]
    },
    {
     "name": "stdout",
     "output_type": "stream",
     "text": [
      "['074k-breast.nii.gz', '075a-breast.nii.gz', '075k-breast.nii.gz', '077k-breast.nii.gz', '079k-breast.nii.gz', '080k-breast.nii.gz', '082k-breast.nii.gz', '083a-breast.nii.gz', '083k-breast.nii.gz', '084a-breast.nii.gz', '087f-breast.nii.gz', '088f-breast.nii.gz', '088k-breast.nii.gz', '090a-breast.nii.gz', '091f-breast.nii.gz', '092k-breast.nii.gz']\n",
      "['data/training/166a.nii.gz_074k-breast.nii.gz_.nii.gz', 'data/training/166a.nii.gz_075a-breast.nii.gz_.nii.gz', 'data/training/166a.nii.gz_075k-breast.nii.gz_.nii.gz', 'data/training/166a.nii.gz_077k-breast.nii.gz_.nii.gz', 'data/training/166a.nii.gz_079k-breast.nii.gz_.nii.gz', 'data/training/166a.nii.gz_080k-breast.nii.gz_.nii.gz', 'data/training/166a.nii.gz_082k-breast.nii.gz_.nii.gz', 'data/training/166a.nii.gz_083a-breast.nii.gz_.nii.gz', 'data/training/166a.nii.gz_083k-breast.nii.gz_.nii.gz', 'data/training/166a.nii.gz_084a-breast.nii.gz_.nii.gz', 'data/training/166a.nii.gz_087f-breast.nii.gz_.nii.gz', 'data/training/166a.nii.gz_088f-breast.nii.gz_.nii.gz', 'data/training/166a.nii.gz_088k-breast.nii.gz_.nii.gz', 'data/training/166a.nii.gz_090a-breast.nii.gz_.nii.gz', 'data/training/166a.nii.gz_091f-breast.nii.gz_.nii.gz', 'data/training/166a.nii.gz_092k-breast.nii.gz_.nii.gz']\n"
     ]
    },
    {
     "name": "stderr",
     "output_type": "stream",
     "text": [
      " 60%|██████████████████████████████████████████████████████████████████████████████████████████████████████████████████████████████████████████████████████████████████████▊                                                                                                               | 36/60 [03:23<02:20,  5.85s/it]"
     ]
    },
    {
     "name": "stdout",
     "output_type": "stream",
     "text": [
      "['074k-breast.nii.gz', '075a-breast.nii.gz', '075k-breast.nii.gz', '077k-breast.nii.gz', '079k-breast.nii.gz', '080k-breast.nii.gz', '082k-breast.nii.gz', '083a-breast.nii.gz', '083k-breast.nii.gz', '084a-breast.nii.gz', '087f-breast.nii.gz', '088f-breast.nii.gz', '088k-breast.nii.gz', '090a-breast.nii.gz', '091f-breast.nii.gz', '092k-breast.nii.gz']\n",
      "['data/training/166f.nii.gz_074k-breast.nii.gz_.nii.gz', 'data/training/166f.nii.gz_075a-breast.nii.gz_.nii.gz', 'data/training/166f.nii.gz_075k-breast.nii.gz_.nii.gz', 'data/training/166f.nii.gz_077k-breast.nii.gz_.nii.gz', 'data/training/166f.nii.gz_079k-breast.nii.gz_.nii.gz', 'data/training/166f.nii.gz_080k-breast.nii.gz_.nii.gz', 'data/training/166f.nii.gz_082k-breast.nii.gz_.nii.gz', 'data/training/166f.nii.gz_083a-breast.nii.gz_.nii.gz', 'data/training/166f.nii.gz_083k-breast.nii.gz_.nii.gz', 'data/training/166f.nii.gz_084a-breast.nii.gz_.nii.gz', 'data/training/166f.nii.gz_087f-breast.nii.gz_.nii.gz', 'data/training/166f.nii.gz_088f-breast.nii.gz_.nii.gz', 'data/training/166f.nii.gz_088k-breast.nii.gz_.nii.gz', 'data/training/166f.nii.gz_090a-breast.nii.gz_.nii.gz', 'data/training/166f.nii.gz_091f-breast.nii.gz_.nii.gz', 'data/training/166f.nii.gz_092k-breast.nii.gz_.nii.gz']\n"
     ]
    },
    {
     "name": "stderr",
     "output_type": "stream",
     "text": [
      " 62%|███████████████████████████████████████████████████████████████████████████████████████████████████████████████████████████████████████████████████████████████████████████▍                                                                                                          | 37/60 [03:28<02:09,  5.65s/it]"
     ]
    },
    {
     "name": "stdout",
     "output_type": "stream",
     "text": [
      "['074k-breast.nii.gz', '075a-breast.nii.gz', '075k-breast.nii.gz', '077k-breast.nii.gz', '079k-breast.nii.gz', '080k-breast.nii.gz', '082k-breast.nii.gz', '083a-breast.nii.gz', '083k-breast.nii.gz', '084a-breast.nii.gz', '087f-breast.nii.gz', '088f-breast.nii.gz', '088k-breast.nii.gz', '090a-breast.nii.gz', '091f-breast.nii.gz', '092k-breast.nii.gz']\n",
      "['data/training/166k.nii.gz_074k-breast.nii.gz_.nii.gz', 'data/training/166k.nii.gz_075a-breast.nii.gz_.nii.gz', 'data/training/166k.nii.gz_075k-breast.nii.gz_.nii.gz', 'data/training/166k.nii.gz_077k-breast.nii.gz_.nii.gz', 'data/training/166k.nii.gz_079k-breast.nii.gz_.nii.gz', 'data/training/166k.nii.gz_080k-breast.nii.gz_.nii.gz', 'data/training/166k.nii.gz_082k-breast.nii.gz_.nii.gz', 'data/training/166k.nii.gz_083a-breast.nii.gz_.nii.gz', 'data/training/166k.nii.gz_083k-breast.nii.gz_.nii.gz', 'data/training/166k.nii.gz_084a-breast.nii.gz_.nii.gz', 'data/training/166k.nii.gz_087f-breast.nii.gz_.nii.gz', 'data/training/166k.nii.gz_088f-breast.nii.gz_.nii.gz', 'data/training/166k.nii.gz_088k-breast.nii.gz_.nii.gz', 'data/training/166k.nii.gz_090a-breast.nii.gz_.nii.gz', 'data/training/166k.nii.gz_091f-breast.nii.gz_.nii.gz', 'data/training/166k.nii.gz_092k-breast.nii.gz_.nii.gz']\n"
     ]
    },
    {
     "name": "stderr",
     "output_type": "stream",
     "text": [
      " 63%|████████████████████████████████████████████████████████████████████████████████████████████████████████████████████████████████████████████████████████████████████████████████                                                                                                      | 38/60 [03:33<02:05,  5.70s/it]"
     ]
    },
    {
     "name": "stdout",
     "output_type": "stream",
     "text": [
      "['074k-breast.nii.gz', '075a-breast.nii.gz', '075k-breast.nii.gz', '077k-breast.nii.gz', '079k-breast.nii.gz', '080k-breast.nii.gz', '082k-breast.nii.gz', '083a-breast.nii.gz', '083k-breast.nii.gz', '084a-breast.nii.gz', '087f-breast.nii.gz', '088f-breast.nii.gz', '088k-breast.nii.gz', '090a-breast.nii.gz', '091f-breast.nii.gz', '092k-breast.nii.gz']\n",
      "['data/training/167f.nii.gz_074k-breast.nii.gz_.nii.gz', 'data/training/167f.nii.gz_075a-breast.nii.gz_.nii.gz', 'data/training/167f.nii.gz_075k-breast.nii.gz_.nii.gz', 'data/training/167f.nii.gz_077k-breast.nii.gz_.nii.gz', 'data/training/167f.nii.gz_079k-breast.nii.gz_.nii.gz', 'data/training/167f.nii.gz_080k-breast.nii.gz_.nii.gz', 'data/training/167f.nii.gz_082k-breast.nii.gz_.nii.gz', 'data/training/167f.nii.gz_083a-breast.nii.gz_.nii.gz', 'data/training/167f.nii.gz_083k-breast.nii.gz_.nii.gz', 'data/training/167f.nii.gz_084a-breast.nii.gz_.nii.gz', 'data/training/167f.nii.gz_087f-breast.nii.gz_.nii.gz', 'data/training/167f.nii.gz_088f-breast.nii.gz_.nii.gz', 'data/training/167f.nii.gz_088k-breast.nii.gz_.nii.gz', 'data/training/167f.nii.gz_090a-breast.nii.gz_.nii.gz', 'data/training/167f.nii.gz_091f-breast.nii.gz_.nii.gz', 'data/training/167f.nii.gz_092k-breast.nii.gz_.nii.gz']\n"
     ]
    },
    {
     "name": "stderr",
     "output_type": "stream",
     "text": [
      " 65%|████████████████████████████████████████████████████████████████████████████████████████████████████████████████████████████████████████████████████████████████████████████████████▋                                                                                                 | 39/60 [03:39<01:58,  5.63s/it]"
     ]
    },
    {
     "name": "stdout",
     "output_type": "stream",
     "text": [
      "['074k-breast.nii.gz', '075a-breast.nii.gz', '075k-breast.nii.gz', '077k-breast.nii.gz', '079k-breast.nii.gz', '080k-breast.nii.gz', '082k-breast.nii.gz', '083a-breast.nii.gz', '083k-breast.nii.gz', '084a-breast.nii.gz', '087f-breast.nii.gz', '088f-breast.nii.gz', '088k-breast.nii.gz', '090a-breast.nii.gz', '091f-breast.nii.gz', '092k-breast.nii.gz']\n",
      "['data/training/167k.nii.gz_074k-breast.nii.gz_.nii.gz', 'data/training/167k.nii.gz_075a-breast.nii.gz_.nii.gz', 'data/training/167k.nii.gz_075k-breast.nii.gz_.nii.gz', 'data/training/167k.nii.gz_077k-breast.nii.gz_.nii.gz', 'data/training/167k.nii.gz_079k-breast.nii.gz_.nii.gz', 'data/training/167k.nii.gz_080k-breast.nii.gz_.nii.gz', 'data/training/167k.nii.gz_082k-breast.nii.gz_.nii.gz', 'data/training/167k.nii.gz_083a-breast.nii.gz_.nii.gz', 'data/training/167k.nii.gz_083k-breast.nii.gz_.nii.gz', 'data/training/167k.nii.gz_084a-breast.nii.gz_.nii.gz', 'data/training/167k.nii.gz_087f-breast.nii.gz_.nii.gz', 'data/training/167k.nii.gz_088f-breast.nii.gz_.nii.gz', 'data/training/167k.nii.gz_088k-breast.nii.gz_.nii.gz', 'data/training/167k.nii.gz_090a-breast.nii.gz_.nii.gz', 'data/training/167k.nii.gz_091f-breast.nii.gz_.nii.gz', 'data/training/167k.nii.gz_092k-breast.nii.gz_.nii.gz']\n"
     ]
    },
    {
     "name": "stderr",
     "output_type": "stream",
     "text": [
      " 67%|█████████████████████████████████████████████████████████████████████████████████████████████████████████████████████████████████████████████████████████████████████████████████████████▎                                                                                            | 40/60 [03:45<01:54,  5.72s/it]"
     ]
    },
    {
     "name": "stdout",
     "output_type": "stream",
     "text": [
      "['074k-breast.nii.gz', '075a-breast.nii.gz', '075k-breast.nii.gz', '077k-breast.nii.gz', '079k-breast.nii.gz', '080k-breast.nii.gz', '082k-breast.nii.gz', '083a-breast.nii.gz', '083k-breast.nii.gz', '084a-breast.nii.gz', '087f-breast.nii.gz', '088f-breast.nii.gz', '088k-breast.nii.gz', '090a-breast.nii.gz', '091f-breast.nii.gz', '092k-breast.nii.gz']\n",
      "['data/training/168a.nii.gz_074k-breast.nii.gz_.nii.gz', 'data/training/168a.nii.gz_075a-breast.nii.gz_.nii.gz', 'data/training/168a.nii.gz_075k-breast.nii.gz_.nii.gz', 'data/training/168a.nii.gz_077k-breast.nii.gz_.nii.gz', 'data/training/168a.nii.gz_079k-breast.nii.gz_.nii.gz', 'data/training/168a.nii.gz_080k-breast.nii.gz_.nii.gz', 'data/training/168a.nii.gz_082k-breast.nii.gz_.nii.gz', 'data/training/168a.nii.gz_083a-breast.nii.gz_.nii.gz', 'data/training/168a.nii.gz_083k-breast.nii.gz_.nii.gz', 'data/training/168a.nii.gz_084a-breast.nii.gz_.nii.gz', 'data/training/168a.nii.gz_087f-breast.nii.gz_.nii.gz', 'data/training/168a.nii.gz_088f-breast.nii.gz_.nii.gz', 'data/training/168a.nii.gz_088k-breast.nii.gz_.nii.gz', 'data/training/168a.nii.gz_090a-breast.nii.gz_.nii.gz', 'data/training/168a.nii.gz_091f-breast.nii.gz_.nii.gz', 'data/training/168a.nii.gz_092k-breast.nii.gz_.nii.gz']\n"
     ]
    },
    {
     "name": "stderr",
     "output_type": "stream",
     "text": [
      " 68%|█████████████████████████████████████████████████████████████████████████████████████████████████████████████████████████████████████████████████████████████████████████████████████████████▉                                                                                        | 41/60 [03:50<01:43,  5.42s/it]"
     ]
    },
    {
     "name": "stdout",
     "output_type": "stream",
     "text": [
      "['074k-breast.nii.gz', '075a-breast.nii.gz', '075k-breast.nii.gz', '077k-breast.nii.gz', '079k-breast.nii.gz', '080k-breast.nii.gz', '082k-breast.nii.gz', '083a-breast.nii.gz', '083k-breast.nii.gz', '084a-breast.nii.gz', '087f-breast.nii.gz', '088f-breast.nii.gz', '088k-breast.nii.gz', '090a-breast.nii.gz', '091f-breast.nii.gz', '092k-breast.nii.gz']\n",
      "['data/training/168f.nii.gz_074k-breast.nii.gz_.nii.gz', 'data/training/168f.nii.gz_075a-breast.nii.gz_.nii.gz', 'data/training/168f.nii.gz_075k-breast.nii.gz_.nii.gz', 'data/training/168f.nii.gz_077k-breast.nii.gz_.nii.gz', 'data/training/168f.nii.gz_079k-breast.nii.gz_.nii.gz', 'data/training/168f.nii.gz_080k-breast.nii.gz_.nii.gz', 'data/training/168f.nii.gz_082k-breast.nii.gz_.nii.gz', 'data/training/168f.nii.gz_083a-breast.nii.gz_.nii.gz', 'data/training/168f.nii.gz_083k-breast.nii.gz_.nii.gz', 'data/training/168f.nii.gz_084a-breast.nii.gz_.nii.gz', 'data/training/168f.nii.gz_087f-breast.nii.gz_.nii.gz', 'data/training/168f.nii.gz_088f-breast.nii.gz_.nii.gz', 'data/training/168f.nii.gz_088k-breast.nii.gz_.nii.gz', 'data/training/168f.nii.gz_090a-breast.nii.gz_.nii.gz', 'data/training/168f.nii.gz_091f-breast.nii.gz_.nii.gz', 'data/training/168f.nii.gz_092k-breast.nii.gz_.nii.gz']\n"
     ]
    },
    {
     "name": "stderr",
     "output_type": "stream",
     "text": [
      " 70%|██████████████████████████████████████████████████████████████████████████████████████████████████████████████████████████████████████████████████████████████████████████████████████████████████▌                                                                                   | 42/60 [03:54<01:34,  5.23s/it]"
     ]
    },
    {
     "name": "stdout",
     "output_type": "stream",
     "text": [
      "['074k-breast.nii.gz', '075a-breast.nii.gz', '075k-breast.nii.gz', '077k-breast.nii.gz', '079k-breast.nii.gz', '080k-breast.nii.gz', '082k-breast.nii.gz', '083a-breast.nii.gz', '083k-breast.nii.gz', '084a-breast.nii.gz', '087f-breast.nii.gz', '088f-breast.nii.gz', '088k-breast.nii.gz', '090a-breast.nii.gz', '091f-breast.nii.gz', '092k-breast.nii.gz']\n",
      "['data/training/169a.nii.gz_074k-breast.nii.gz_.nii.gz', 'data/training/169a.nii.gz_075a-breast.nii.gz_.nii.gz', 'data/training/169a.nii.gz_075k-breast.nii.gz_.nii.gz', 'data/training/169a.nii.gz_077k-breast.nii.gz_.nii.gz', 'data/training/169a.nii.gz_079k-breast.nii.gz_.nii.gz', 'data/training/169a.nii.gz_080k-breast.nii.gz_.nii.gz', 'data/training/169a.nii.gz_082k-breast.nii.gz_.nii.gz', 'data/training/169a.nii.gz_083a-breast.nii.gz_.nii.gz', 'data/training/169a.nii.gz_083k-breast.nii.gz_.nii.gz', 'data/training/169a.nii.gz_084a-breast.nii.gz_.nii.gz', 'data/training/169a.nii.gz_087f-breast.nii.gz_.nii.gz', 'data/training/169a.nii.gz_088f-breast.nii.gz_.nii.gz', 'data/training/169a.nii.gz_088k-breast.nii.gz_.nii.gz', 'data/training/169a.nii.gz_090a-breast.nii.gz_.nii.gz', 'data/training/169a.nii.gz_091f-breast.nii.gz_.nii.gz', 'data/training/169a.nii.gz_092k-breast.nii.gz_.nii.gz']\n"
     ]
    },
    {
     "name": "stderr",
     "output_type": "stream",
     "text": [
      " 72%|███████████████████████████████████████████████████████████████████████████████████████████████████████████████████████████████████████████████████████████████████████████████████████████████████████▏                                                                              | 43/60 [04:00<01:30,  5.32s/it]"
     ]
    },
    {
     "name": "stdout",
     "output_type": "stream",
     "text": [
      "['074k-breast.nii.gz', '075a-breast.nii.gz', '075k-breast.nii.gz', '077k-breast.nii.gz', '079k-breast.nii.gz', '080k-breast.nii.gz', '082k-breast.nii.gz', '083a-breast.nii.gz', '083k-breast.nii.gz', '084a-breast.nii.gz', '087f-breast.nii.gz', '088f-breast.nii.gz', '088k-breast.nii.gz', '090a-breast.nii.gz', '091f-breast.nii.gz', '092k-breast.nii.gz']\n",
      "['data/training/169k.nii.gz_074k-breast.nii.gz_.nii.gz', 'data/training/169k.nii.gz_075a-breast.nii.gz_.nii.gz', 'data/training/169k.nii.gz_075k-breast.nii.gz_.nii.gz', 'data/training/169k.nii.gz_077k-breast.nii.gz_.nii.gz', 'data/training/169k.nii.gz_079k-breast.nii.gz_.nii.gz', 'data/training/169k.nii.gz_080k-breast.nii.gz_.nii.gz', 'data/training/169k.nii.gz_082k-breast.nii.gz_.nii.gz', 'data/training/169k.nii.gz_083a-breast.nii.gz_.nii.gz', 'data/training/169k.nii.gz_083k-breast.nii.gz_.nii.gz', 'data/training/169k.nii.gz_084a-breast.nii.gz_.nii.gz', 'data/training/169k.nii.gz_087f-breast.nii.gz_.nii.gz', 'data/training/169k.nii.gz_088f-breast.nii.gz_.nii.gz', 'data/training/169k.nii.gz_088k-breast.nii.gz_.nii.gz', 'data/training/169k.nii.gz_090a-breast.nii.gz_.nii.gz', 'data/training/169k.nii.gz_091f-breast.nii.gz_.nii.gz', 'data/training/169k.nii.gz_092k-breast.nii.gz_.nii.gz']\n"
     ]
    },
    {
     "name": "stderr",
     "output_type": "stream",
     "text": [
      " 73%|███████████████████████████████████████████████████████████████████████████████████████████████████████████████████████████████████████████████████████████████████████████████████████████████████████████▊                                                                          | 44/60 [04:05<01:23,  5.24s/it]"
     ]
    },
    {
     "name": "stdout",
     "output_type": "stream",
     "text": [
      "['074k-breast.nii.gz', '075a-breast.nii.gz', '075k-breast.nii.gz', '077k-breast.nii.gz', '079k-breast.nii.gz', '080k-breast.nii.gz', '082k-breast.nii.gz', '083a-breast.nii.gz', '083k-breast.nii.gz', '084a-breast.nii.gz', '087f-breast.nii.gz', '088f-breast.nii.gz', '088k-breast.nii.gz', '090a-breast.nii.gz', '091f-breast.nii.gz', '092k-breast.nii.gz']\n",
      "['data/training/170k.nii.gz_074k-breast.nii.gz_.nii.gz', 'data/training/170k.nii.gz_075a-breast.nii.gz_.nii.gz', 'data/training/170k.nii.gz_075k-breast.nii.gz_.nii.gz', 'data/training/170k.nii.gz_077k-breast.nii.gz_.nii.gz', 'data/training/170k.nii.gz_079k-breast.nii.gz_.nii.gz', 'data/training/170k.nii.gz_080k-breast.nii.gz_.nii.gz', 'data/training/170k.nii.gz_082k-breast.nii.gz_.nii.gz', 'data/training/170k.nii.gz_083a-breast.nii.gz_.nii.gz', 'data/training/170k.nii.gz_083k-breast.nii.gz_.nii.gz', 'data/training/170k.nii.gz_084a-breast.nii.gz_.nii.gz', 'data/training/170k.nii.gz_087f-breast.nii.gz_.nii.gz', 'data/training/170k.nii.gz_088f-breast.nii.gz_.nii.gz', 'data/training/170k.nii.gz_088k-breast.nii.gz_.nii.gz', 'data/training/170k.nii.gz_090a-breast.nii.gz_.nii.gz', 'data/training/170k.nii.gz_091f-breast.nii.gz_.nii.gz', 'data/training/170k.nii.gz_092k-breast.nii.gz_.nii.gz']\n"
     ]
    },
    {
     "name": "stderr",
     "output_type": "stream",
     "text": [
      " 75%|████████████████████████████████████████████████████████████████████████████████████████████████████████████████████████████████████████████████████████████████████████████████████████████████████████████████▌                                                                     | 45/60 [04:10<01:17,  5.16s/it]"
     ]
    },
    {
     "name": "stdout",
     "output_type": "stream",
     "text": [
      "['074k-breast.nii.gz', '075a-breast.nii.gz', '075k-breast.nii.gz', '077k-breast.nii.gz', '079k-breast.nii.gz', '080k-breast.nii.gz', '082k-breast.nii.gz', '083a-breast.nii.gz', '083k-breast.nii.gz', '084a-breast.nii.gz', '087f-breast.nii.gz', '088f-breast.nii.gz', '088k-breast.nii.gz', '090a-breast.nii.gz', '091f-breast.nii.gz', '092k-breast.nii.gz']\n",
      "['data/training/171f.nii.gz_074k-breast.nii.gz_.nii.gz', 'data/training/171f.nii.gz_075a-breast.nii.gz_.nii.gz', 'data/training/171f.nii.gz_075k-breast.nii.gz_.nii.gz', 'data/training/171f.nii.gz_077k-breast.nii.gz_.nii.gz', 'data/training/171f.nii.gz_079k-breast.nii.gz_.nii.gz', 'data/training/171f.nii.gz_080k-breast.nii.gz_.nii.gz', 'data/training/171f.nii.gz_082k-breast.nii.gz_.nii.gz', 'data/training/171f.nii.gz_083a-breast.nii.gz_.nii.gz', 'data/training/171f.nii.gz_083k-breast.nii.gz_.nii.gz', 'data/training/171f.nii.gz_084a-breast.nii.gz_.nii.gz', 'data/training/171f.nii.gz_087f-breast.nii.gz_.nii.gz', 'data/training/171f.nii.gz_088f-breast.nii.gz_.nii.gz', 'data/training/171f.nii.gz_088k-breast.nii.gz_.nii.gz', 'data/training/171f.nii.gz_090a-breast.nii.gz_.nii.gz', 'data/training/171f.nii.gz_091f-breast.nii.gz_.nii.gz', 'data/training/171f.nii.gz_092k-breast.nii.gz_.nii.gz']\n"
     ]
    },
    {
     "name": "stderr",
     "output_type": "stream",
     "text": [
      " 77%|█████████████████████████████████████████████████████████████████████████████████████████████████████████████████████████████████████████████████████████████████████████████████████████████████████████████████████▏                                                                | 46/60 [04:14<01:09,  4.97s/it]"
     ]
    },
    {
     "name": "stdout",
     "output_type": "stream",
     "text": [
      "['074k-breast.nii.gz', '075a-breast.nii.gz', '075k-breast.nii.gz', '077k-breast.nii.gz', '079k-breast.nii.gz', '080k-breast.nii.gz', '082k-breast.nii.gz', '083a-breast.nii.gz', '083k-breast.nii.gz', '084a-breast.nii.gz', '087f-breast.nii.gz', '088f-breast.nii.gz', '088k-breast.nii.gz', '090a-breast.nii.gz', '091f-breast.nii.gz', '092k-breast.nii.gz']\n",
      "['data/training/172f.nii.gz_074k-breast.nii.gz_.nii.gz', 'data/training/172f.nii.gz_075a-breast.nii.gz_.nii.gz', 'data/training/172f.nii.gz_075k-breast.nii.gz_.nii.gz', 'data/training/172f.nii.gz_077k-breast.nii.gz_.nii.gz', 'data/training/172f.nii.gz_079k-breast.nii.gz_.nii.gz', 'data/training/172f.nii.gz_080k-breast.nii.gz_.nii.gz', 'data/training/172f.nii.gz_082k-breast.nii.gz_.nii.gz', 'data/training/172f.nii.gz_083a-breast.nii.gz_.nii.gz', 'data/training/172f.nii.gz_083k-breast.nii.gz_.nii.gz', 'data/training/172f.nii.gz_084a-breast.nii.gz_.nii.gz', 'data/training/172f.nii.gz_087f-breast.nii.gz_.nii.gz', 'data/training/172f.nii.gz_088f-breast.nii.gz_.nii.gz', 'data/training/172f.nii.gz_088k-breast.nii.gz_.nii.gz', 'data/training/172f.nii.gz_090a-breast.nii.gz_.nii.gz', 'data/training/172f.nii.gz_091f-breast.nii.gz_.nii.gz', 'data/training/172f.nii.gz_092k-breast.nii.gz_.nii.gz']\n"
     ]
    },
    {
     "name": "stderr",
     "output_type": "stream",
     "text": [
      " 78%|█████████████████████████████████████████████████████████████████████████████████████████████████████████████████████████████████████████████████████████████████████████████████████████████████████████████████████████▊                                                            | 47/60 [04:19<01:03,  4.92s/it]"
     ]
    },
    {
     "name": "stdout",
     "output_type": "stream",
     "text": [
      "['074k-breast.nii.gz', '075a-breast.nii.gz', '075k-breast.nii.gz', '077k-breast.nii.gz', '079k-breast.nii.gz', '080k-breast.nii.gz', '082k-breast.nii.gz', '083a-breast.nii.gz', '083k-breast.nii.gz', '084a-breast.nii.gz', '087f-breast.nii.gz', '088f-breast.nii.gz', '088k-breast.nii.gz', '090a-breast.nii.gz', '091f-breast.nii.gz', '092k-breast.nii.gz']\n",
      "['data/training/173a.nii.gz_074k-breast.nii.gz_.nii.gz', 'data/training/173a.nii.gz_075a-breast.nii.gz_.nii.gz', 'data/training/173a.nii.gz_075k-breast.nii.gz_.nii.gz', 'data/training/173a.nii.gz_077k-breast.nii.gz_.nii.gz', 'data/training/173a.nii.gz_079k-breast.nii.gz_.nii.gz', 'data/training/173a.nii.gz_080k-breast.nii.gz_.nii.gz', 'data/training/173a.nii.gz_082k-breast.nii.gz_.nii.gz', 'data/training/173a.nii.gz_083a-breast.nii.gz_.nii.gz', 'data/training/173a.nii.gz_083k-breast.nii.gz_.nii.gz', 'data/training/173a.nii.gz_084a-breast.nii.gz_.nii.gz', 'data/training/173a.nii.gz_087f-breast.nii.gz_.nii.gz', 'data/training/173a.nii.gz_088f-breast.nii.gz_.nii.gz', 'data/training/173a.nii.gz_088k-breast.nii.gz_.nii.gz', 'data/training/173a.nii.gz_090a-breast.nii.gz_.nii.gz', 'data/training/173a.nii.gz_091f-breast.nii.gz_.nii.gz', 'data/training/173a.nii.gz_092k-breast.nii.gz_.nii.gz']\n"
     ]
    },
    {
     "name": "stderr",
     "output_type": "stream",
     "text": [
      " 80%|██████████████████████████████████████████████████████████████████████████████████████████████████████████████████████████████████████████████████████████████████████████████████████████████████████████████████████████████▍                                                       | 48/60 [04:24<00:57,  4.81s/it]"
     ]
    },
    {
     "name": "stdout",
     "output_type": "stream",
     "text": [
      "['074k-breast.nii.gz', '075a-breast.nii.gz', '075k-breast.nii.gz', '077k-breast.nii.gz', '079k-breast.nii.gz', '080k-breast.nii.gz', '082k-breast.nii.gz', '083a-breast.nii.gz', '083k-breast.nii.gz', '084a-breast.nii.gz', '087f-breast.nii.gz', '088f-breast.nii.gz', '088k-breast.nii.gz', '090a-breast.nii.gz', '091f-breast.nii.gz', '092k-breast.nii.gz']\n",
      "['data/training/173f.nii.gz_074k-breast.nii.gz_.nii.gz', 'data/training/173f.nii.gz_075a-breast.nii.gz_.nii.gz', 'data/training/173f.nii.gz_075k-breast.nii.gz_.nii.gz', 'data/training/173f.nii.gz_077k-breast.nii.gz_.nii.gz', 'data/training/173f.nii.gz_079k-breast.nii.gz_.nii.gz', 'data/training/173f.nii.gz_080k-breast.nii.gz_.nii.gz', 'data/training/173f.nii.gz_082k-breast.nii.gz_.nii.gz', 'data/training/173f.nii.gz_083a-breast.nii.gz_.nii.gz', 'data/training/173f.nii.gz_083k-breast.nii.gz_.nii.gz', 'data/training/173f.nii.gz_084a-breast.nii.gz_.nii.gz', 'data/training/173f.nii.gz_087f-breast.nii.gz_.nii.gz', 'data/training/173f.nii.gz_088f-breast.nii.gz_.nii.gz', 'data/training/173f.nii.gz_088k-breast.nii.gz_.nii.gz', 'data/training/173f.nii.gz_090a-breast.nii.gz_.nii.gz', 'data/training/173f.nii.gz_091f-breast.nii.gz_.nii.gz', 'data/training/173f.nii.gz_092k-breast.nii.gz_.nii.gz']\n"
     ]
    },
    {
     "name": "stderr",
     "output_type": "stream",
     "text": [
      " 82%|███████████████████████████████████████████████████████████████████████████████████████████████████████████████████████████████████████████████████████████████████████████████████████████████████████████████████████████████████                                                   | 49/60 [04:29<00:52,  4.78s/it]"
     ]
    },
    {
     "name": "stdout",
     "output_type": "stream",
     "text": [
      "['074k-breast.nii.gz', '075a-breast.nii.gz', '075k-breast.nii.gz', '077k-breast.nii.gz', '079k-breast.nii.gz', '080k-breast.nii.gz', '082k-breast.nii.gz', '083a-breast.nii.gz', '083k-breast.nii.gz', '084a-breast.nii.gz', '087f-breast.nii.gz', '088f-breast.nii.gz', '088k-breast.nii.gz', '090a-breast.nii.gz', '091f-breast.nii.gz', '092k-breast.nii.gz']\n",
      "['data/training/173k.nii.gz_074k-breast.nii.gz_.nii.gz', 'data/training/173k.nii.gz_075a-breast.nii.gz_.nii.gz', 'data/training/173k.nii.gz_075k-breast.nii.gz_.nii.gz', 'data/training/173k.nii.gz_077k-breast.nii.gz_.nii.gz', 'data/training/173k.nii.gz_079k-breast.nii.gz_.nii.gz', 'data/training/173k.nii.gz_080k-breast.nii.gz_.nii.gz', 'data/training/173k.nii.gz_082k-breast.nii.gz_.nii.gz', 'data/training/173k.nii.gz_083a-breast.nii.gz_.nii.gz', 'data/training/173k.nii.gz_083k-breast.nii.gz_.nii.gz', 'data/training/173k.nii.gz_084a-breast.nii.gz_.nii.gz', 'data/training/173k.nii.gz_087f-breast.nii.gz_.nii.gz', 'data/training/173k.nii.gz_088f-breast.nii.gz_.nii.gz', 'data/training/173k.nii.gz_088k-breast.nii.gz_.nii.gz', 'data/training/173k.nii.gz_090a-breast.nii.gz_.nii.gz', 'data/training/173k.nii.gz_091f-breast.nii.gz_.nii.gz', 'data/training/173k.nii.gz_092k-breast.nii.gz_.nii.gz']\n"
     ]
    },
    {
     "name": "stderr",
     "output_type": "stream",
     "text": [
      " 83%|███████████████████████████████████████████████████████████████████████████████████████████████████████████████████████████████████████████████████████████████████████████████████████████████████████████████████████████████████████▋                                              | 50/60 [04:33<00:48,  4.81s/it]"
     ]
    },
    {
     "name": "stdout",
     "output_type": "stream",
     "text": [
      "['074k-breast.nii.gz', '075a-breast.nii.gz', '075k-breast.nii.gz', '077k-breast.nii.gz', '079k-breast.nii.gz', '080k-breast.nii.gz', '082k-breast.nii.gz', '083a-breast.nii.gz', '083k-breast.nii.gz', '084a-breast.nii.gz', '087f-breast.nii.gz', '088f-breast.nii.gz', '088k-breast.nii.gz', '090a-breast.nii.gz', '091f-breast.nii.gz', '092k-breast.nii.gz']\n",
      "['data/training/174k.nii.gz_074k-breast.nii.gz_.nii.gz', 'data/training/174k.nii.gz_075a-breast.nii.gz_.nii.gz', 'data/training/174k.nii.gz_075k-breast.nii.gz_.nii.gz', 'data/training/174k.nii.gz_077k-breast.nii.gz_.nii.gz', 'data/training/174k.nii.gz_079k-breast.nii.gz_.nii.gz', 'data/training/174k.nii.gz_080k-breast.nii.gz_.nii.gz', 'data/training/174k.nii.gz_082k-breast.nii.gz_.nii.gz', 'data/training/174k.nii.gz_083a-breast.nii.gz_.nii.gz', 'data/training/174k.nii.gz_083k-breast.nii.gz_.nii.gz', 'data/training/174k.nii.gz_084a-breast.nii.gz_.nii.gz', 'data/training/174k.nii.gz_087f-breast.nii.gz_.nii.gz', 'data/training/174k.nii.gz_088f-breast.nii.gz_.nii.gz', 'data/training/174k.nii.gz_088k-breast.nii.gz_.nii.gz', 'data/training/174k.nii.gz_090a-breast.nii.gz_.nii.gz', 'data/training/174k.nii.gz_091f-breast.nii.gz_.nii.gz', 'data/training/174k.nii.gz_092k-breast.nii.gz_.nii.gz']\n"
     ]
    },
    {
     "name": "stderr",
     "output_type": "stream",
     "text": [
      " 85%|████████████████████████████████████████████████████████████████████████████████████████████████████████████████████████████████████████████████████████████████████████████████████████████████████████████████████████████████████████████▎                                         | 51/60 [04:39<00:45,  5.00s/it]"
     ]
    },
    {
     "name": "stdout",
     "output_type": "stream",
     "text": [
      "['074k-breast.nii.gz', '075a-breast.nii.gz', '075k-breast.nii.gz', '077k-breast.nii.gz', '079k-breast.nii.gz', '080k-breast.nii.gz', '082k-breast.nii.gz', '083a-breast.nii.gz', '083k-breast.nii.gz', '084a-breast.nii.gz', '087f-breast.nii.gz', '088f-breast.nii.gz', '088k-breast.nii.gz', '090a-breast.nii.gz', '091f-breast.nii.gz', '092k-breast.nii.gz']\n",
      "['data/training/175k.nii.gz_074k-breast.nii.gz_.nii.gz', 'data/training/175k.nii.gz_075a-breast.nii.gz_.nii.gz', 'data/training/175k.nii.gz_075k-breast.nii.gz_.nii.gz', 'data/training/175k.nii.gz_077k-breast.nii.gz_.nii.gz', 'data/training/175k.nii.gz_079k-breast.nii.gz_.nii.gz', 'data/training/175k.nii.gz_080k-breast.nii.gz_.nii.gz', 'data/training/175k.nii.gz_082k-breast.nii.gz_.nii.gz', 'data/training/175k.nii.gz_083a-breast.nii.gz_.nii.gz', 'data/training/175k.nii.gz_083k-breast.nii.gz_.nii.gz', 'data/training/175k.nii.gz_084a-breast.nii.gz_.nii.gz', 'data/training/175k.nii.gz_087f-breast.nii.gz_.nii.gz', 'data/training/175k.nii.gz_088f-breast.nii.gz_.nii.gz', 'data/training/175k.nii.gz_088k-breast.nii.gz_.nii.gz', 'data/training/175k.nii.gz_090a-breast.nii.gz_.nii.gz', 'data/training/175k.nii.gz_091f-breast.nii.gz_.nii.gz', 'data/training/175k.nii.gz_092k-breast.nii.gz_.nii.gz']\n"
     ]
    },
    {
     "name": "stderr",
     "output_type": "stream",
     "text": [
      " 87%|████████████████████████████████████████████████████████████████████████████████████████████████████████████████████████████████████████████████████████████████████████████████████████████████████████████████████████████████████████████████▉                                     | 52/60 [04:45<00:41,  5.23s/it]"
     ]
    },
    {
     "name": "stdout",
     "output_type": "stream",
     "text": [
      "['074k-breast.nii.gz', '075a-breast.nii.gz', '075k-breast.nii.gz', '077k-breast.nii.gz', '079k-breast.nii.gz', '080k-breast.nii.gz', '082k-breast.nii.gz', '083a-breast.nii.gz', '083k-breast.nii.gz', '084a-breast.nii.gz', '087f-breast.nii.gz', '088f-breast.nii.gz', '088k-breast.nii.gz', '090a-breast.nii.gz', '091f-breast.nii.gz', '092k-breast.nii.gz']\n",
      "['data/training/177a.nii.gz_074k-breast.nii.gz_.nii.gz', 'data/training/177a.nii.gz_075a-breast.nii.gz_.nii.gz', 'data/training/177a.nii.gz_075k-breast.nii.gz_.nii.gz', 'data/training/177a.nii.gz_077k-breast.nii.gz_.nii.gz', 'data/training/177a.nii.gz_079k-breast.nii.gz_.nii.gz', 'data/training/177a.nii.gz_080k-breast.nii.gz_.nii.gz', 'data/training/177a.nii.gz_082k-breast.nii.gz_.nii.gz', 'data/training/177a.nii.gz_083a-breast.nii.gz_.nii.gz', 'data/training/177a.nii.gz_083k-breast.nii.gz_.nii.gz', 'data/training/177a.nii.gz_084a-breast.nii.gz_.nii.gz', 'data/training/177a.nii.gz_087f-breast.nii.gz_.nii.gz', 'data/training/177a.nii.gz_088f-breast.nii.gz_.nii.gz', 'data/training/177a.nii.gz_088k-breast.nii.gz_.nii.gz', 'data/training/177a.nii.gz_090a-breast.nii.gz_.nii.gz', 'data/training/177a.nii.gz_091f-breast.nii.gz_.nii.gz', 'data/training/177a.nii.gz_092k-breast.nii.gz_.nii.gz']\n"
     ]
    },
    {
     "name": "stderr",
     "output_type": "stream",
     "text": [
      " 88%|█████████████████████████████████████████████████████████████████████████████████████████████████████████████████████████████████████████████████████████████████████████████████████████████████████████████████████████████████████████████████████▌                                | 53/60 [04:50<00:37,  5.42s/it]"
     ]
    },
    {
     "name": "stdout",
     "output_type": "stream",
     "text": [
      "['074k-breast.nii.gz', '075a-breast.nii.gz', '075k-breast.nii.gz', '077k-breast.nii.gz', '079k-breast.nii.gz', '080k-breast.nii.gz', '082k-breast.nii.gz', '083a-breast.nii.gz', '083k-breast.nii.gz', '084a-breast.nii.gz', '087f-breast.nii.gz', '088f-breast.nii.gz', '088k-breast.nii.gz', '090a-breast.nii.gz', '091f-breast.nii.gz', '092k-breast.nii.gz']\n",
      "['data/training/177f.nii.gz_074k-breast.nii.gz_.nii.gz', 'data/training/177f.nii.gz_075a-breast.nii.gz_.nii.gz', 'data/training/177f.nii.gz_075k-breast.nii.gz_.nii.gz', 'data/training/177f.nii.gz_077k-breast.nii.gz_.nii.gz', 'data/training/177f.nii.gz_079k-breast.nii.gz_.nii.gz', 'data/training/177f.nii.gz_080k-breast.nii.gz_.nii.gz', 'data/training/177f.nii.gz_082k-breast.nii.gz_.nii.gz', 'data/training/177f.nii.gz_083a-breast.nii.gz_.nii.gz', 'data/training/177f.nii.gz_083k-breast.nii.gz_.nii.gz', 'data/training/177f.nii.gz_084a-breast.nii.gz_.nii.gz', 'data/training/177f.nii.gz_087f-breast.nii.gz_.nii.gz', 'data/training/177f.nii.gz_088f-breast.nii.gz_.nii.gz', 'data/training/177f.nii.gz_088k-breast.nii.gz_.nii.gz', 'data/training/177f.nii.gz_090a-breast.nii.gz_.nii.gz', 'data/training/177f.nii.gz_091f-breast.nii.gz_.nii.gz', 'data/training/177f.nii.gz_092k-breast.nii.gz_.nii.gz']\n"
     ]
    },
    {
     "name": "stderr",
     "output_type": "stream",
     "text": [
      " 90%|██████████████████████████████████████████████████████████████████████████████████████████████████████████████████████████████████████████████████████████████████████████████████████████████████████████████████████████████████████████████████████████▏                           | 54/60 [04:56<00:32,  5.49s/it]"
     ]
    },
    {
     "name": "stdout",
     "output_type": "stream",
     "text": [
      "['074k-breast.nii.gz', '075a-breast.nii.gz', '075k-breast.nii.gz', '077k-breast.nii.gz', '079k-breast.nii.gz', '080k-breast.nii.gz', '082k-breast.nii.gz', '083a-breast.nii.gz', '083k-breast.nii.gz', '084a-breast.nii.gz', '087f-breast.nii.gz', '088f-breast.nii.gz', '088k-breast.nii.gz', '090a-breast.nii.gz', '091f-breast.nii.gz', '092k-breast.nii.gz']\n",
      "['data/training/177k.nii.gz_074k-breast.nii.gz_.nii.gz', 'data/training/177k.nii.gz_075a-breast.nii.gz_.nii.gz', 'data/training/177k.nii.gz_075k-breast.nii.gz_.nii.gz', 'data/training/177k.nii.gz_077k-breast.nii.gz_.nii.gz', 'data/training/177k.nii.gz_079k-breast.nii.gz_.nii.gz', 'data/training/177k.nii.gz_080k-breast.nii.gz_.nii.gz', 'data/training/177k.nii.gz_082k-breast.nii.gz_.nii.gz', 'data/training/177k.nii.gz_083a-breast.nii.gz_.nii.gz', 'data/training/177k.nii.gz_083k-breast.nii.gz_.nii.gz', 'data/training/177k.nii.gz_084a-breast.nii.gz_.nii.gz', 'data/training/177k.nii.gz_087f-breast.nii.gz_.nii.gz', 'data/training/177k.nii.gz_088f-breast.nii.gz_.nii.gz', 'data/training/177k.nii.gz_088k-breast.nii.gz_.nii.gz', 'data/training/177k.nii.gz_090a-breast.nii.gz_.nii.gz', 'data/training/177k.nii.gz_091f-breast.nii.gz_.nii.gz', 'data/training/177k.nii.gz_092k-breast.nii.gz_.nii.gz']\n"
     ]
    },
    {
     "name": "stderr",
     "output_type": "stream",
     "text": [
      " 92%|██████████████████████████████████████████████████████████████████████████████████████████████████████████████████████████████████████████████████████████████████████████████████████████████████████████████████████████████████████████████████████████████▊                       | 55/60 [05:02<00:27,  5.54s/it]"
     ]
    },
    {
     "name": "stdout",
     "output_type": "stream",
     "text": [
      "['074k-breast.nii.gz', '075a-breast.nii.gz', '075k-breast.nii.gz', '077k-breast.nii.gz', '079k-breast.nii.gz', '080k-breast.nii.gz', '082k-breast.nii.gz', '083a-breast.nii.gz', '083k-breast.nii.gz', '084a-breast.nii.gz', '087f-breast.nii.gz', '088f-breast.nii.gz', '088k-breast.nii.gz', '090a-breast.nii.gz', '091f-breast.nii.gz', '092k-breast.nii.gz']\n",
      "['data/training/178a.nii.gz_074k-breast.nii.gz_.nii.gz', 'data/training/178a.nii.gz_075a-breast.nii.gz_.nii.gz', 'data/training/178a.nii.gz_075k-breast.nii.gz_.nii.gz', 'data/training/178a.nii.gz_077k-breast.nii.gz_.nii.gz', 'data/training/178a.nii.gz_079k-breast.nii.gz_.nii.gz', 'data/training/178a.nii.gz_080k-breast.nii.gz_.nii.gz', 'data/training/178a.nii.gz_082k-breast.nii.gz_.nii.gz', 'data/training/178a.nii.gz_083a-breast.nii.gz_.nii.gz', 'data/training/178a.nii.gz_083k-breast.nii.gz_.nii.gz', 'data/training/178a.nii.gz_084a-breast.nii.gz_.nii.gz', 'data/training/178a.nii.gz_087f-breast.nii.gz_.nii.gz', 'data/training/178a.nii.gz_088f-breast.nii.gz_.nii.gz', 'data/training/178a.nii.gz_088k-breast.nii.gz_.nii.gz', 'data/training/178a.nii.gz_090a-breast.nii.gz_.nii.gz', 'data/training/178a.nii.gz_091f-breast.nii.gz_.nii.gz', 'data/training/178a.nii.gz_092k-breast.nii.gz_.nii.gz']\n"
     ]
    },
    {
     "name": "stderr",
     "output_type": "stream",
     "text": [
      " 93%|███████████████████████████████████████████████████████████████████████████████████████████████████████████████████████████████████████████████████████████████████████████████████████████████████████████████████████████████████████████████████████████████████▍                  | 56/60 [05:07<00:22,  5.58s/it]"
     ]
    },
    {
     "name": "stdout",
     "output_type": "stream",
     "text": [
      "['074k-breast.nii.gz', '075a-breast.nii.gz', '075k-breast.nii.gz', '077k-breast.nii.gz', '079k-breast.nii.gz', '080k-breast.nii.gz', '082k-breast.nii.gz', '083a-breast.nii.gz', '083k-breast.nii.gz', '084a-breast.nii.gz', '087f-breast.nii.gz', '088f-breast.nii.gz', '088k-breast.nii.gz', '090a-breast.nii.gz', '091f-breast.nii.gz', '092k-breast.nii.gz']\n",
      "['data/training/178f.nii.gz_074k-breast.nii.gz_.nii.gz', 'data/training/178f.nii.gz_075a-breast.nii.gz_.nii.gz', 'data/training/178f.nii.gz_075k-breast.nii.gz_.nii.gz', 'data/training/178f.nii.gz_077k-breast.nii.gz_.nii.gz', 'data/training/178f.nii.gz_079k-breast.nii.gz_.nii.gz', 'data/training/178f.nii.gz_080k-breast.nii.gz_.nii.gz', 'data/training/178f.nii.gz_082k-breast.nii.gz_.nii.gz', 'data/training/178f.nii.gz_083a-breast.nii.gz_.nii.gz', 'data/training/178f.nii.gz_083k-breast.nii.gz_.nii.gz', 'data/training/178f.nii.gz_084a-breast.nii.gz_.nii.gz', 'data/training/178f.nii.gz_087f-breast.nii.gz_.nii.gz', 'data/training/178f.nii.gz_088f-breast.nii.gz_.nii.gz', 'data/training/178f.nii.gz_088k-breast.nii.gz_.nii.gz', 'data/training/178f.nii.gz_090a-breast.nii.gz_.nii.gz', 'data/training/178f.nii.gz_091f-breast.nii.gz_.nii.gz', 'data/training/178f.nii.gz_092k-breast.nii.gz_.nii.gz']\n"
     ]
    },
    {
     "name": "stderr",
     "output_type": "stream",
     "text": [
      " 95%|████████████████████████████████████████████████████████████████████████████████████████████████████████████████████████████████████████████████████████████████████████████████████████████████████████████████████████████████████████████████████████████████████████              | 57/60 [05:13<00:16,  5.63s/it]"
     ]
    },
    {
     "name": "stdout",
     "output_type": "stream",
     "text": [
      "['074k-breast.nii.gz', '075a-breast.nii.gz', '075k-breast.nii.gz', '077k-breast.nii.gz', '079k-breast.nii.gz', '080k-breast.nii.gz', '082k-breast.nii.gz', '083a-breast.nii.gz', '083k-breast.nii.gz', '084a-breast.nii.gz', '087f-breast.nii.gz', '088f-breast.nii.gz', '088k-breast.nii.gz', '090a-breast.nii.gz', '091f-breast.nii.gz', '092k-breast.nii.gz']\n",
      "['data/training/178k.nii.gz_074k-breast.nii.gz_.nii.gz', 'data/training/178k.nii.gz_075a-breast.nii.gz_.nii.gz', 'data/training/178k.nii.gz_075k-breast.nii.gz_.nii.gz', 'data/training/178k.nii.gz_077k-breast.nii.gz_.nii.gz', 'data/training/178k.nii.gz_079k-breast.nii.gz_.nii.gz', 'data/training/178k.nii.gz_080k-breast.nii.gz_.nii.gz', 'data/training/178k.nii.gz_082k-breast.nii.gz_.nii.gz', 'data/training/178k.nii.gz_083a-breast.nii.gz_.nii.gz', 'data/training/178k.nii.gz_083k-breast.nii.gz_.nii.gz', 'data/training/178k.nii.gz_084a-breast.nii.gz_.nii.gz', 'data/training/178k.nii.gz_087f-breast.nii.gz_.nii.gz', 'data/training/178k.nii.gz_088f-breast.nii.gz_.nii.gz', 'data/training/178k.nii.gz_088k-breast.nii.gz_.nii.gz', 'data/training/178k.nii.gz_090a-breast.nii.gz_.nii.gz', 'data/training/178k.nii.gz_091f-breast.nii.gz_.nii.gz', 'data/training/178k.nii.gz_092k-breast.nii.gz_.nii.gz']\n"
     ]
    },
    {
     "name": "stderr",
     "output_type": "stream",
     "text": [
      " 97%|████████████████████████████████████████████████████████████████████████████████████████████████████████████████████████████████████████████████████████████████████████████████████████████████████████████████████████████████████████████████████████████████████████████▋         | 58/60 [05:19<00:11,  5.70s/it]"
     ]
    },
    {
     "name": "stdout",
     "output_type": "stream",
     "text": [
      "['074k-breast.nii.gz', '075a-breast.nii.gz', '075k-breast.nii.gz', '077k-breast.nii.gz', '079k-breast.nii.gz', '080k-breast.nii.gz', '082k-breast.nii.gz', '083a-breast.nii.gz', '083k-breast.nii.gz', '084a-breast.nii.gz', '087f-breast.nii.gz', '088f-breast.nii.gz', '088k-breast.nii.gz', '090a-breast.nii.gz', '091f-breast.nii.gz', '092k-breast.nii.gz']\n",
      "['data/training/179a.nii.gz_074k-breast.nii.gz_.nii.gz', 'data/training/179a.nii.gz_075a-breast.nii.gz_.nii.gz', 'data/training/179a.nii.gz_075k-breast.nii.gz_.nii.gz', 'data/training/179a.nii.gz_077k-breast.nii.gz_.nii.gz', 'data/training/179a.nii.gz_079k-breast.nii.gz_.nii.gz', 'data/training/179a.nii.gz_080k-breast.nii.gz_.nii.gz', 'data/training/179a.nii.gz_082k-breast.nii.gz_.nii.gz', 'data/training/179a.nii.gz_083a-breast.nii.gz_.nii.gz', 'data/training/179a.nii.gz_083k-breast.nii.gz_.nii.gz', 'data/training/179a.nii.gz_084a-breast.nii.gz_.nii.gz', 'data/training/179a.nii.gz_087f-breast.nii.gz_.nii.gz', 'data/training/179a.nii.gz_088f-breast.nii.gz_.nii.gz', 'data/training/179a.nii.gz_088k-breast.nii.gz_.nii.gz', 'data/training/179a.nii.gz_090a-breast.nii.gz_.nii.gz', 'data/training/179a.nii.gz_091f-breast.nii.gz_.nii.gz', 'data/training/179a.nii.gz_092k-breast.nii.gz_.nii.gz']\n"
     ]
    },
    {
     "name": "stderr",
     "output_type": "stream",
     "text": [
      " 98%|█████████████████████████████████████████████████████████████████████████████████████████████████████████████████████████████████████████████████████████████████████████████████████████████████████████████████████████████████████████████████████████████████████████████████▎    | 59/60 [05:25<00:05,  5.75s/it]"
     ]
    },
    {
     "name": "stdout",
     "output_type": "stream",
     "text": [
      "['074k-breast.nii.gz', '075a-breast.nii.gz', '075k-breast.nii.gz', '077k-breast.nii.gz', '079k-breast.nii.gz', '080k-breast.nii.gz', '082k-breast.nii.gz', '083a-breast.nii.gz', '083k-breast.nii.gz', '084a-breast.nii.gz', '087f-breast.nii.gz', '088f-breast.nii.gz', '088k-breast.nii.gz', '090a-breast.nii.gz', '091f-breast.nii.gz', '092k-breast.nii.gz']\n",
      "['data/training/179k.nii.gz_074k-breast.nii.gz_.nii.gz', 'data/training/179k.nii.gz_075a-breast.nii.gz_.nii.gz', 'data/training/179k.nii.gz_075k-breast.nii.gz_.nii.gz', 'data/training/179k.nii.gz_077k-breast.nii.gz_.nii.gz', 'data/training/179k.nii.gz_079k-breast.nii.gz_.nii.gz', 'data/training/179k.nii.gz_080k-breast.nii.gz_.nii.gz', 'data/training/179k.nii.gz_082k-breast.nii.gz_.nii.gz', 'data/training/179k.nii.gz_083a-breast.nii.gz_.nii.gz', 'data/training/179k.nii.gz_083k-breast.nii.gz_.nii.gz', 'data/training/179k.nii.gz_084a-breast.nii.gz_.nii.gz', 'data/training/179k.nii.gz_087f-breast.nii.gz_.nii.gz', 'data/training/179k.nii.gz_088f-breast.nii.gz_.nii.gz', 'data/training/179k.nii.gz_088k-breast.nii.gz_.nii.gz', 'data/training/179k.nii.gz_090a-breast.nii.gz_.nii.gz', 'data/training/179k.nii.gz_091f-breast.nii.gz_.nii.gz', 'data/training/179k.nii.gz_092k-breast.nii.gz_.nii.gz']\n"
     ]
    },
    {
     "name": "stderr",
     "output_type": "stream",
     "text": [
      "100%|██████████████████████████████████████████████████████████████████████████████████████████████████████████████████████████████████████████████████████████████████████████████████████████████████████████████████████████████████████████████████████████████████████████████████████| 60/60 [05:31<00:00,  5.53s/it]\n"
     ]
    }
   ],
   "source": [
    "breast_features= extract_features(dissected_images, manually_segmented_breast)\n",
    "breast_features.to_csv(breast_features_path, index=False)"
   ]
  },
  {
   "cell_type": "code",
   "execution_count": 8,
   "metadata": {},
   "outputs": [],
   "source": [
    "thigh_features.to_csv(thigh_features_path, index=False)\n",
    "breast_features.to_csv(breast_features_path, index=False)"
   ]
  },
  {
   "cell_type": "code",
   "execution_count": null,
   "metadata": {},
   "outputs": [],
   "source": []
  },
  {
   "cell_type": "code",
   "execution_count": null,
   "metadata": {},
   "outputs": [],
   "source": []
  },
  {
   "cell_type": "code",
   "execution_count": null,
   "metadata": {},
   "outputs": [],
   "source": []
  }
 ],
 "metadata": {
  "kernelspec": {
   "display_name": "Python 3 (ipykernel)",
   "language": "python",
   "name": "python3"
  },
  "language_info": {
   "codemirror_mode": {
    "name": "ipython",
    "version": 3
   },
   "file_extension": ".py",
   "mimetype": "text/x-python",
   "name": "python",
   "nbconvert_exporter": "python",
   "pygments_lexer": "ipython3",
   "version": "3.10.13"
  }
 },
 "nbformat": 4,
 "nbformat_minor": 4
}
