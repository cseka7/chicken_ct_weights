{
 "cells": [
  {
   "cell_type": "markdown",
   "metadata": {},
   "source": [
    "# Segmentation by registration and feature extraction"
   ]
  },
  {
   "cell_type": "code",
   "execution_count": 1,
   "metadata": {},
   "outputs": [
    {
     "name": "stdout",
     "output_type": "stream",
     "text": [
      "Executables being used: /opt/elastix-5.1.0-linux/bin/elastix /opt/elastix-5.1.0-linux/bin/transformix\n"
     ]
    }
   ],
   "source": [
    "import glob\n",
    "import os\n",
    "import os.path\n",
    "import numpy as np\n",
    "import pandas as pd\n",
    "import maweight\n",
    "import pickle\n",
    "import logging\n",
    "import tqdm\n",
    "\n",
    "from config import manually_segmented_path, dissected_path\n",
    "from config import output_path, thigh_features_path, breast_features_path \n",
    "from config import save_registered_images\n",
    "from config import bin_width, bin_min, bin_max, threshold\n",
    "from config import tmp_path, elastix_params, threads\n",
    "\n",
    "import warnings\n",
    "warnings.filterwarnings('ignore')\n",
    "\n",
    "LIMIT=None\n",
    "\n",
    "# setting the logging format\n",
    "FORMAT = '%(asctime)-15s %(clientip)s %(user)-8s %(message)s'\n",
    "logging.basicConfig(format=FORMAT, level=logging.INFO)"
   ]
  },
  {
   "cell_type": "code",
   "execution_count": 2,
   "metadata": {},
   "outputs": [],
   "source": [
    "#delete all '_' character from filenames\n",
    "def rename_files(files):\n",
    "    new_files = [os.path.join(os.path.dirname(file), os.path.basename(file).replace(\"_\", \"\")) for file in files]\n",
    "    [os.rename(rfiles[0], rfiles[1]) for rfiles in zip(files, new_files)]\n",
    "    return new_files"
   ]
  },
  {
   "cell_type": "markdown",
   "metadata": {},
   "source": [
    "## Discovering files to process"
   ]
  },
  {
   "cell_type": "code",
   "execution_count": 3,
   "metadata": {},
   "outputs": [
    {
     "name": "stdout",
     "output_type": "stream",
     "text": [
      "Number of dissected images: 60\n",
      "Number of manually segmented images: 16\n",
      "Number of thigh masks: 16\n",
      "Number of breast masks: 16\n"
     ]
    }
   ],
   "source": [
    "manually_segmented_files = []\n",
    "manually_segmented_files += sorted(glob.glob(os.path.join(manually_segmented_path, '*.nii')))\n",
    "manually_segmented_files += sorted(glob.glob(os.path.join(manually_segmented_path, '*.nii.gz')))\n",
    "\n",
    "manually_segmented_files = rename_files(manually_segmented_files)\n",
    "\n",
    "manually_segmented_images= [f for f in manually_segmented_files if not 'breast' in \n",
    "                            f.split(os.sep)[-1] and not 'thigh' in f.split(os.sep)[-1]]\n",
    "manually_segmented_breast= [f for f in manually_segmented_files if 'breast' in f]\n",
    "manually_segmented_thighs= [f for f in manually_segmented_files if 'thigh' in f]\n",
    "\n",
    "dissected_images = []\n",
    "dissected_images = glob.glob(os.path.join(dissected_path, '*.nii'))\n",
    "dissected_images += glob.glob(os.path.join(dissected_path, '*.nii.gz'))\n",
    "dissected_images = sorted(dissected_images)\n",
    "\n",
    "if LIMIT:\n",
    "    dissected_images= dissected_images[:LIMIT]\n",
    "\n",
    "dissected_images = rename_files(dissected_images)\n",
    "print(f\"Number of dissected images: {len(dissected_images)}\")\n",
    "print(f\"Number of manually segmented images: {len(manually_segmented_images)}\")\n",
    "print(f\"Number of thigh masks: {len(manually_segmented_thighs)}\")\n",
    "print(f\"Number of breast masks: {len(manually_segmented_breast)}\")"
   ]
  },
  {
   "cell_type": "markdown",
   "metadata": {},
   "source": [
    "## Segmentation by Registration"
   ]
  },
  {
   "cell_type": "code",
   "execution_count": 4,
   "metadata": {},
   "outputs": [
    {
     "name": "stderr",
     "output_type": "stream",
     "text": [
      "100%|████████████████████████████████████████████████████████████████████████████████████████████████████████████████████████████████████████████████████████████████████████████████████████████████████████████████████████████████████████████████████████████████████████████████████| 60/60 [00:00<00:00, 8648.35it/s]\n"
     ]
    }
   ],
   "source": [
    "for d in tqdm.tqdm(dissected_images):\n",
    "    for (i, h, m) in zip(manually_segmented_images, manually_segmented_breast, manually_segmented_thighs):\n",
    "        output_thigh= os.path.join(output_path, d.split(os.sep)[-1] + '_' + m.split(os.sep)[-1])\n",
    "        output_breast= os.path.join(output_path, d.split(os.sep)[-1] + '_' + h.split(os.sep)[-1])\n",
    "        if save_registered_images:\n",
    "            output_registered= os.path.join(output_path, d.split(os.sep)[-1] + '_' + i.split(os.sep)[-1])\n",
    "        else:\n",
    "            output_registered= None\n",
    "        if (not os.path.isfile(output_thigh) or not os.path.isfile(output_breast) or \n",
    "            (save_registered_images and not os.path.isfile(output_registered))):\n",
    "            maweight.register_and_transform(i, d, [m, h], [output_thigh, output_breast], \n",
    "                                            registered_image_path= output_registered, threads= threads, params= elastix_params, work_dir= tmp_path, verbose= 0)"
   ]
  },
  {
   "cell_type": "markdown",
   "metadata": {},
   "source": [
    "## Extracting the features"
   ]
  },
  {
   "cell_type": "code",
   "execution_count": 5,
   "metadata": {},
   "outputs": [],
   "source": [
    "def extract_features(dissected_images, manually_segmented_targets):\n",
    "    dataframes= []\n",
    "    \n",
    "    for d in tqdm.tqdm(dissected_images):\n",
    "        #print('processing: %s' % d)\n",
    "        \n",
    "        fitted_masks= []\n",
    "        \n",
    "        for m in manually_segmented_targets:\n",
    "            output_thigh= os.path.join(output_path, d.split(os.sep)[-1] + '_' + m.split(os.sep)[-1])\n",
    "            fitted_masks.append(output_thigh)\n",
    "        labels= [f.split(os.sep)[-1].split('_')[-1] for f in fitted_masks]\n",
    "\n",
    "        dataframes.append(maweight.extract_features_3d(d, fitted_masks, labels, bins=list(range(bin_min, bin_max+1, bin_width)), thresholds=[threshold]))\n",
    "    dataframes= pd.concat(dataframes, axis=0, ignore_index=True)\n",
    "    dataframes['filename']= dissected_images\n",
    "    \n",
    "    \n",
    "    return dataframes"
   ]
  },
  {
   "cell_type": "code",
   "execution_count": 6,
   "metadata": {},
   "outputs": [
    {
     "name": "stderr",
     "output_type": "stream",
     "text": [
      "100%|██████████████████████████████████████████████████████████████████████████████████████████████████████████████████████████████████████████████████████████████████████████████████████████████████████████████████████████████████████████████████████████████████████████████████████| 60/60 [05:02<00:00,  5.05s/it]\n"
     ]
    }
   ],
   "source": [
    "thigh_features= extract_features(dissected_images, manually_segmented_thighs)\n",
    "thigh_features.to_csv(thigh_features_path, index=False)"
   ]
  },
  {
   "cell_type": "code",
   "execution_count": 7,
   "metadata": {},
   "outputs": [
    {
     "name": "stderr",
     "output_type": "stream",
     "text": [
      "100%|██████████████████████████████████████████████████████████████████████████████████████████████████████████████████████████████████████████████████████████████████████████████████████████████████████████████████████████████████████████████████████████████████████████████████████| 60/60 [05:39<00:00,  5.65s/it]\n"
     ]
    }
   ],
   "source": [
    "breast_features= extract_features(dissected_images, manually_segmented_breast)\n",
    "breast_features.to_csv(breast_features_path, index=False)"
   ]
  },
  {
   "cell_type": "code",
   "execution_count": 8,
   "metadata": {},
   "outputs": [],
   "source": [
    "thigh_features.to_csv(thigh_features_path, index=False)\n",
    "breast_features.to_csv(breast_features_path, index=False)"
   ]
  },
  {
   "cell_type": "code",
   "execution_count": null,
   "metadata": {},
   "outputs": [],
   "source": []
  },
  {
   "cell_type": "code",
   "execution_count": null,
   "metadata": {},
   "outputs": [],
   "source": []
  }
 ],
 "metadata": {
  "kernelspec": {
   "display_name": "Python 3 (ipykernel)",
   "language": "python",
   "name": "python3"
  },
  "language_info": {
   "codemirror_mode": {
    "name": "ipython",
    "version": 3
   },
   "file_extension": ".py",
   "mimetype": "text/x-python",
   "name": "python",
   "nbconvert_exporter": "python",
   "pygments_lexer": "ipython3",
   "version": "3.10.12"
  }
 },
 "nbformat": 4,
 "nbformat_minor": 4
}
