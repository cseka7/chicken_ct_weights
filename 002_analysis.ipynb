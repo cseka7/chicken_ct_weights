{
 "cells": [
  {
   "cell_type": "code",
   "execution_count": 1,
   "metadata": {},
   "outputs": [],
   "source": [
    "import numpy as np\n",
    "import pandas as pd\n",
    "import pickle\n",
    "import xgboost\n",
    "import os\n",
    "from scipy.stats import ttest_1samp, ttest_ind, ttest_rel\n",
    "from config import path_prefix_results\n",
    "import warnings\n",
    "\n",
    "warnings.filterwarnings('ignore')\n"
   ]
  },
  {
   "cell_type": "markdown",
   "metadata": {},
   "source": [
    "## Create latex template for thigh, breast results"
   ]
  },
  {
   "cell_type": "code",
   "execution_count": 2,
   "metadata": {},
   "outputs": [],
   "source": [
    "#latex output setup\n",
    "latex_template = r'''\\documentclass[a4paper]{{article}}\n",
    "\\usepackage{{booktabs}}\n",
    "\\usepackage{{pdflscape}}\n",
    "\\begin{{document}}\n",
    "\\thispagestyle{{empty}}\n",
    "\\begin{{landscape}}\n",
    "{}\n",
    "\\end{{landscape}}\n",
    "\\end{{document}}\n",
    "'''\n",
    "\n",
    "path_breast_latex= os.path.join(path_prefix_results, 'breast_r2.tex')\n",
    "path_thigh_latex= os.path.join(path_prefix_results, 'thigh_r2.tex')\n",
    "path_breast_rmse_latex= os.path.join(path_prefix_results, 'breast_rmse.tex')\n",
    "path_thigh_rmse_latex= os.path.join(path_prefix_results, 'thigh_rmse.tex')"
   ]
  },
  {
   "cell_type": "code",
   "execution_count": 3,
   "metadata": {},
   "outputs": [],
   "source": [
    "def test_diff_cross(df, row='multi-atlas'):\n",
    "    tmp= pd.DataFrame(index=df.columns, columns=df.columns)\n",
    "    for i in df.columns:\n",
    "        for j in df.columns:\n",
    "            tmp.loc[i,j]= ttest_rel(np.abs(df.loc[row, i]), np.abs(df.loc[row, j]))[1]\n",
    "    return tmp\n",
    "\n",
    "def test_diff(df, col='multi-atlas'):\n",
    "    tmp= pd.DataFrame(index=df.index, columns=df.columns)\n",
    "    for i in df.index:\n",
    "        for j in df.columns:\n",
    "            tmp.loc[i,j]= ttest_rel(np.abs(df.loc[i, j]), np.abs(df.loc[col, j]))[1]\n",
    "    tmp= tmp.drop(col, axis='rows')\n",
    "    return tmp\n",
    "\n",
    "def test_compare(df0, df1):\n",
    "    tmp= pd.DataFrame(index=df0.index, columns=df0.columns)\n",
    "    for i in df0.index:\n",
    "        for j in df0.columns:\n",
    "            tmp.loc[i,j]= ttest_rel(np.abs(df0.loc[i, j]), np.abs(df1.loc[i, j]))[1]\n",
    "    return tmp"
   ]
  },
  {
   "cell_type": "markdown",
   "metadata": {},
   "source": [
    "## Load data "
   ]
  },
  {
   "cell_type": "code",
   "execution_count": 4,
   "metadata": {},
   "outputs": [],
   "source": [
    "data_fs= pickle.load(open(os.path.join(path_prefix_results,'results.pickle'), 'rb'))\n",
    "data_no_fs= pickle.load(open(os.path.join(path_prefix_results,'results_no_fs.pickle'), 'rb'))"
   ]
  },
  {
   "cell_type": "code",
   "execution_count": 5,
   "metadata": {},
   "outputs": [],
   "source": [
    "thigh_fs= data_fs[data_fs['dataset'] == 'thigh']\n",
    "breast_fs= data_fs[data_fs['dataset'] == 'breast']\n",
    "\n",
    "thigh_no_fs= data_no_fs[data_no_fs['dataset'] == 'thigh']\n",
    "breast_no_fs= data_no_fs[data_no_fs['dataset'] == 'breast']"
   ]
  },
  {
   "cell_type": "code",
   "execution_count": 6,
   "metadata": {},
   "outputs": [
    {
     "name": "stdout",
     "output_type": "stream",
     "text": [
      "['074k', '075a', '075k', '077k', '079k', '080k', '082k', '083a', '083k', '084a', '087f', '088f', '088k', '090a', '091f', '092k', 'all', 'mean_mask']\n"
     ]
    }
   ],
   "source": [
    "print(sorted(thigh_fs['type'].unique()))"
   ]
  },
  {
   "cell_type": "code",
   "execution_count": 7,
   "metadata": {},
   "outputs": [
    {
     "name": "stdout",
     "output_type": "stream",
     "text": [
      "{'074k': 'atlas 1', '075a': 'atlas 2', '075k': 'atlas 3', '077k': 'atlas 4', '079k': 'atlas 5', '080k': 'atlas 6', '082k': 'atlas 7', '083a': 'atlas 8', '083k': 'atlas 9', '084a': 'atlas 10', '087f': 'atlas 11', '088f': 'atlas 12', '088k': 'atlas 13', '090a': 'atlas 14', '091f': 'atlas 15', '092k': 'atlas 16', 'all': 'multi-atlas', 'mean_mask': 'mean'}\n"
     ]
    }
   ],
   "source": [
    "rename_dict_regr= {'KNNR_Objective': 'kNN', 'LinearRegression_Objective': 'linear', 'PLSRegression_Objective': 'PLS', 'RidgeRegression_Objective': 'ridge', 'LassoRegression_Objective': 'lasso'}\n",
    "#rename_dict_type= {'203a': 'atlas 1', '203k': 'atlas 2', '204f': 'atlas 3', '206k': 'atlas 4', '208f': 'atlas 5', 'all': 'multi-atlas', 'mean_mask': 'mean'}\n",
    "#row_order= ['atlas 1', 'atlas 2', 'atlas 3', 'atlas 4', 'atlas 5', 'mean', 'multi-atlas']\n",
    "rename_dict_type= sorted(thigh_fs['type'].unique())\n",
    "rename_dict_type= dict(map(lambda x, i: (x, f\"atlas {i+1}\"), rename_dict_type,  range(len(rename_dict_type))))\n",
    "rename_dict_type['all']= \"multi-atlas\"\n",
    "rename_dict_type['mean_mask'] = \"mean\"\n",
    "print(rename_dict_type)\n",
    "row_order= list(rename_dict_type.values())\n",
    "col_order= ['linear', 'PLS', 'lasso', 'ridge', 'kNN']"
   ]
  },
  {
   "cell_type": "markdown",
   "metadata": {},
   "source": [
    "## Thigh $r^2$ results"
   ]
  },
  {
   "cell_type": "code",
   "execution_count": 8,
   "metadata": {},
   "outputs": [
    {
     "name": "stdout",
     "output_type": "stream",
     "text": [
      "\\begin{tabular}{lrrrrrrrrrr}\n",
      "\\toprule\n",
      " & \\multicolumn{5}{r}{feature selection} & \\multicolumn{5}{r}{no feature selection} \\\\\n",
      " & linear & PLS & lasso & ridge & kNN & linear & PLS & lasso & ridge & kNN \\\\\n",
      "type &  &  &  &  &  &  &  &  &  &  \\\\\n",
      "\\midrule\n",
      "atlas 1 & 0.577600 & 0.604700 & 0.579800 & 0.592800 & 0.621100 & 0.024000 & 0.493400 & 0.526500 & 0.461400 & 0.371900 \\\\\n",
      "atlas 2 & 0.589300 & 0.588300 & 0.589900 & 0.596400 & 0.659400 & -1.587100 & 0.503400 & 0.456200 & 0.486400 & 0.403900 \\\\\n",
      "atlas 3 & 0.590000 & 0.594700 & 0.589700 & 0.590100 & 0.596900 & 0.057300 & 0.507600 & 0.507800 & 0.489800 & 0.440300 \\\\\n",
      "atlas 4 & 0.576000 & 0.583300 & 0.587500 & 0.576100 & 0.653200 & 0.028200 & 0.476900 & 0.485700 & 0.454100 & 0.382000 \\\\\n",
      "atlas 5 & 0.517000 & 0.532000 & 0.584600 & 0.543700 & 0.599000 & -0.107800 & 0.434200 & 0.362700 & 0.472700 & 0.364900 \\\\\n",
      "atlas 6 & 0.567900 & 0.564000 & 0.557900 & 0.631500 & 0.574000 & 0.211800 & 0.442300 & 0.478800 & 0.521100 & 0.393100 \\\\\n",
      "atlas 7 & 0.542100 & 0.556700 & 0.550200 & 0.542100 & 0.610000 & -0.024200 & 0.432900 & 0.443600 & 0.459800 & 0.355500 \\\\\n",
      "atlas 8 & 0.157300 & 0.281700 & 0.273700 & 0.283700 & 0.350300 & -0.693700 & 0.123500 & 0.112800 & 0.125000 & 0.206300 \\\\\n",
      "atlas 9 & 0.583400 & 0.583000 & 0.662500 & 0.656200 & 0.696200 & -0.155600 & 0.519400 & 0.521700 & 0.537900 & 0.477300 \\\\\n",
      "atlas 10 & 0.545800 & 0.581000 & 0.598400 & 0.557900 & 0.612500 & 0.013200 & 0.441400 & 0.447400 & 0.456300 & 0.373500 \\\\\n",
      "atlas 11 & 0.541700 & 0.563700 & 0.565600 & 0.545000 & 0.523000 & -0.701500 & 0.427800 & 0.404700 & 0.394300 & 0.244800 \\\\\n",
      "atlas 12 & 0.550600 & 0.586900 & 0.588500 & 0.566900 & 0.589800 & 0.055700 & 0.513400 & 0.482800 & 0.500000 & 0.353300 \\\\\n",
      "atlas 13 & 0.537400 & 0.552200 & 0.551300 & 0.557800 & 0.564100 & -0.116600 & 0.441600 & 0.455300 & 0.456100 & 0.362300 \\\\\n",
      "atlas 14 & 0.652600 & 0.634300 & 0.641400 & 0.646900 & 0.590800 & 0.175700 & 0.542700 & 0.523500 & 0.551600 & 0.373500 \\\\\n",
      "atlas 15 & 0.624500 & 0.642300 & 0.654100 & 0.656000 & 0.631400 & -0.022700 & 0.524200 & 0.534300 & 0.501900 & 0.390300 \\\\\n",
      "atlas 16 & 0.597800 & 0.597900 & 0.594600 & 0.589700 & 0.601600 & 0.079700 & 0.506100 & 0.524800 & 0.467300 & 0.321900 \\\\\n",
      "multi-atlas & 0.755200 & 0.900400 & 0.975600 & 0.964700 & 0.654800 & 0.174900 & 0.463000 & 0.385600 & 0.292300 & 0.399400 \\\\\n",
      "mean & 0.595500 & 0.595500 & 0.619200 & 0.618100 & 0.610000 & 0.155100 & 0.511100 & 0.520700 & 0.513700 & 0.342300 \\\\\n",
      "\\bottomrule\n",
      "\\end{tabular}\n",
      "\n"
     ]
    }
   ],
   "source": [
    "thigh_fs_results= thigh_fs.pivot(index='type', columns='model', values='r2_1')\n",
    "thigh_fs_results= thigh_fs_results.rename(rename_dict_regr, axis='columns')\n",
    "thigh_fs_results= thigh_fs_results.rename(rename_dict_type)\n",
    "thigh_fs_results= thigh_fs_results.apply(lambda x: np.round(x, 4))\n",
    "thigh_fs_results= thigh_fs_results.loc[row_order, col_order]\n",
    "\n",
    "thigh_no_fs_results= thigh_no_fs.pivot(index='type', columns='model', values='r2_1')\n",
    "thigh_no_fs_results= thigh_no_fs_results.rename(rename_dict_regr, axis='columns')\n",
    "thigh_no_fs_results= thigh_no_fs_results.rename(rename_dict_type)\n",
    "thigh_no_fs_results= thigh_no_fs_results.apply(lambda x: np.round(x, 4))\n",
    "thigh_no_fs_results= thigh_no_fs_results.loc[row_order, col_order]\n",
    "\n",
    "thigh_all= pd.concat([thigh_fs_results, thigh_no_fs_results], axis='columns')\n",
    "columns= pd.MultiIndex.from_product([['feature selection', 'no feature selection'], col_order])\n",
    "thigh_all.columns= columns\n",
    "\n",
    "print(thigh_all.to_latex())"
   ]
  },
  {
   "cell_type": "code",
   "execution_count": 9,
   "metadata": {},
   "outputs": [],
   "source": [
    "with open(path_thigh_latex, 'w') as f:\n",
    "    f.write(latex_template.format(thigh_all.to_latex()))"
   ]
  },
  {
   "cell_type": "markdown",
   "metadata": {},
   "source": [
    "## Thigh RMSE results"
   ]
  },
  {
   "cell_type": "code",
   "execution_count": 10,
   "metadata": {},
   "outputs": [
    {
     "name": "stdout",
     "output_type": "stream",
     "text": [
      "\\begin{tabular}{lrrrrrrrrrr}\n",
      "\\toprule\n",
      " & \\multicolumn{5}{r}{feature selection} & \\multicolumn{5}{r}{no feature selection} \\\\\n",
      " & linear & PLS & lasso & ridge & kNN & linear & PLS & lasso & ridge & kNN \\\\\n",
      "type &  &  &  &  &  &  &  &  &  &  \\\\\n",
      "\\midrule\n",
      "atlas 1 & 12.227600 & 11.828300 & 12.194800 & 12.005200 & 11.580900 & 18.586800 & 13.390100 & 12.945700 & 13.807300 & 14.909700 \\\\\n",
      "atlas 2 & 12.056500 & 12.071000 & 12.047600 & 11.952200 & 10.979900 & 30.260800 & 13.257500 & 13.874200 & 13.482500 & 14.525400 \\\\\n",
      "atlas 3 & 12.045900 & 11.977100 & 12.050800 & 12.045600 & 11.944700 & 18.266500 & 13.201200 & 13.199100 & 13.438000 & 14.074400 \\\\\n",
      "atlas 4 & 12.249800 & 12.144900 & 12.082500 & 12.249700 & 11.079200 & 18.546600 & 13.606500 & 13.492700 & 13.899900 & 14.790300 \\\\\n",
      "atlas 5 & 13.074600 & 12.870300 & 12.125700 & 12.708000 & 11.914300 & 19.801900 & 14.151800 & 15.019400 & 13.661300 & 14.993100 \\\\\n",
      "atlas 6 & 12.366900 & 12.423200 & 12.509100 & 11.419900 & 12.280000 & 16.703100 & 14.050300 & 13.581900 & 13.018800 & 14.656800 \\\\\n",
      "atlas 7 & 12.731400 & 12.526900 & 12.618100 & 12.730400 & 11.749700 & 19.039800 & 14.167400 & 14.033900 & 13.827000 & 15.103400 \\\\\n",
      "atlas 8 & 17.270300 & 15.944800 & 16.033000 & 15.922400 & 15.164300 & 24.484400 & 17.613700 & 17.721100 & 17.598400 & 16.761000 \\\\\n",
      "atlas 9 & 12.142600 & 12.148900 & 10.929800 & 11.031900 & 10.369400 & 20.224400 & 13.041900 & 13.010900 & 12.789700 & 13.601500 \\\\\n",
      "atlas 10 & 12.679300 & 12.177800 & 11.922800 & 12.508700 & 11.712000 & 18.688900 & 14.060700 & 13.985700 & 13.872000 & 14.890900 \\\\\n",
      "atlas 11 & 12.736600 & 12.427400 & 12.400300 & 12.689800 & 12.993800 & 24.540400 & 14.231300 & 14.515700 & 14.641700 & 16.349500 \\\\\n",
      "atlas 12 & 12.611800 & 12.091700 & 12.069300 & 12.380800 & 12.050100 & 18.281800 & 13.123600 & 13.529900 & 13.303000 & 15.129200 \\\\\n",
      "atlas 13 & 12.795400 & 12.589200 & 12.602000 & 12.511200 & 12.420800 & 19.880300 & 14.058700 & 13.884800 & 13.875400 & 15.023300 \\\\\n",
      "atlas 14 & 11.088900 & 11.377600 & 11.266600 & 11.179200 & 12.034600 & 17.081400 & 12.721800 & 12.986200 & 12.598200 & 14.890900 \\\\\n",
      "atlas 15 & 11.528800 & 11.251600 & 11.065300 & 11.034700 & 11.422900 & 19.025500 & 12.977000 & 12.838300 & 13.278400 & 14.690400 \\\\\n",
      "atlas 16 & 11.931500 & 11.929500 & 11.979300 & 12.050500 & 11.874500 & 18.047900 & 13.221900 & 12.968700 & 13.731800 & 15.492600 \\\\\n",
      "multi-atlas & 9.309200 & 5.936300 & 2.938100 & 3.533000 & 11.053700 & 17.089600 & 13.786200 & 14.747200 & 15.827100 & 14.580600 \\\\\n",
      "mean & 11.965500 & 11.965500 & 11.609900 & 11.626200 & 11.748700 & 17.292900 & 13.154200 & 13.025200 & 13.119900 & 15.258100 \\\\\n",
      "\\bottomrule\n",
      "\\end{tabular}\n",
      "\n"
     ]
    }
   ],
   "source": [
    "thigh_fs_results_rmse= thigh_fs.pivot(index='type', columns='model', values='rmse_1')\n",
    "thigh_fs_results_rmse= thigh_fs_results_rmse.rename(rename_dict_regr, axis='columns')\n",
    "thigh_fs_results_rmse= thigh_fs_results_rmse.rename(rename_dict_type)\n",
    "thigh_fs_results_rmse= thigh_fs_results_rmse.apply(lambda x: np.round(x, 4))\n",
    "thigh_fs_results_rmse= thigh_fs_results_rmse.loc[row_order, col_order]\n",
    "\n",
    "thigh_no_fs_results_rmse= thigh_no_fs.pivot(index='type', columns='model', values='rmse_1')\n",
    "thigh_no_fs_results_rmse= thigh_no_fs_results_rmse.rename(rename_dict_regr, axis='columns')\n",
    "thigh_no_fs_results_rmse= thigh_no_fs_results_rmse.rename(rename_dict_type)\n",
    "thigh_no_fs_results_rmse= thigh_no_fs_results_rmse.apply(lambda x: np.round(x, 4))\n",
    "thigh_no_fs_results_rmse= thigh_no_fs_results_rmse.loc[row_order, col_order]\n",
    "\n",
    "thigh_all_rmse= pd.concat([thigh_fs_results_rmse, thigh_no_fs_results_rmse], axis='columns')\n",
    "columns= pd.MultiIndex.from_product([['feature selection', 'no feature selection'], col_order])\n",
    "thigh_all_rmse.columns= columns\n",
    "\n",
    "print(thigh_all_rmse.to_latex())"
   ]
  },
  {
   "cell_type": "code",
   "execution_count": 11,
   "metadata": {},
   "outputs": [],
   "source": [
    "with open(path_thigh_rmse_latex, 'w') as f:\n",
    "    f.write(latex_template.format(thigh_all_rmse.to_latex()))"
   ]
  },
  {
   "cell_type": "markdown",
   "metadata": {},
   "source": [
    "## t-test thigh"
   ]
  },
  {
   "cell_type": "code",
   "execution_count": 12,
   "metadata": {},
   "outputs": [],
   "source": [
    "thigh_fs['diff']= (thigh_fs['y_pred_1'] - thigh_fs['y_test_1'])**2\n",
    "thigh_fs_test= thigh_fs.pivot(index='type', columns='model', values='diff')\n",
    "thigh_fs_test= thigh_fs_test.rename(rename_dict_regr, axis='columns')\n",
    "thigh_fs_test= thigh_fs_test.rename(rename_dict_type)\n",
    "thigh_fs_test= thigh_fs_test.loc[row_order, col_order]\n",
    "\n",
    "thigh_no_fs['diff']= (thigh_no_fs['y_pred_1'] - thigh_no_fs['y_test_1'])**2\n",
    "thigh_no_fs_test= thigh_no_fs.pivot(index='type', columns='model', values='diff')\n",
    "thigh_no_fs_test= thigh_no_fs_test.rename(rename_dict_regr, axis='columns')\n",
    "thigh_no_fs_test= thigh_no_fs_test.rename(rename_dict_type)\n",
    "thigh_no_fs_test= thigh_no_fs_test.loc[row_order, col_order]"
   ]
  },
  {
   "cell_type": "code",
   "execution_count": 13,
   "metadata": {},
   "outputs": [
    {
     "name": "stdout",
     "output_type": "stream",
     "text": [
      "\\begin{tabular}{llllll}\n",
      "\\toprule\n",
      "model & linear & PLS & lasso & ridge & kNN \\\\\n",
      "type &  &  &  &  &  \\\\\n",
      "\\midrule\n",
      "atlas 1 & 3e-44 & 3e-28 & 3e-13 & 2e-33 & 7e-32 \\\\\n",
      "atlas 2 & 7e-09 & 3e-12 & 2e-20 & 3e-16 & 9e-34 \\\\\n",
      "atlas 3 & 5e-53 & 1e-16 & 1e-14 & 1e-21 & 4e-20 \\\\\n",
      "atlas 4 & 3e-47 & 4e-23 & 5e-34 & 1e-15 & 1e-26 \\\\\n",
      "atlas 5 & 1e-09 & 2e-13 & 3e-18 & 9e-07 & 2e-26 \\\\\n",
      "atlas 6 & 3e-16 & 2e-10 & 9e-05 & 1e-13 & 9e-22 \\\\\n",
      "atlas 7 & 8e-37 & 7e-25 & 4e-13 & 7e-13 & 4e-21 \\\\\n",
      "atlas 8 & 1e-37 & 7e-12 & 7e-14 & 1e-19 & 4e-15 \\\\\n",
      "atlas 9 & 1e-16 & 5e-08 & 2e-17 & 2e-26 & 1e-42 \\\\\n",
      "atlas 10 & 3e-41 & 5e-27 & 4e-25 & 1e-12 & 1e-29 \\\\\n",
      "atlas 11 & 3e-14 & 5e-21 & 1e-10 & 1e-17 & 2e-43 \\\\\n",
      "atlas 12 & 2e-34 & 6e-11 & 5e-18 & 1e-12 & 4e-35 \\\\\n",
      "atlas 13 & 4e-39 & 2e-21 & 7e-11 & 2e-22 & 2e-33 \\\\\n",
      "atlas 14 & 3e-60 & 2e-15 & 6e-19 & 5e-15 & 6e-32 \\\\\n",
      "atlas 15 & 2e-49 & 2e-18 & 4e-22 & 3e-31 & 2e-29 \\\\\n",
      "atlas 16 & 2e-50 & 2e-17 & 2e-18 & 4e-32 & 1e-39 \\\\\n",
      "multi-atlas & 2e-58 & 2e-68 & 3e-95 & 1e-78 & 3e-50 \\\\\n",
      "mean & 7e-22 & 4e-10 & 5e-19 & 7e-17 & 7e-25 \\\\\n",
      "\\bottomrule\n",
      "\\end{tabular}\n",
      "\n"
     ]
    }
   ],
   "source": [
    "print(test_compare(thigh_fs_test, thigh_no_fs_test).applymap(lambda x: '%.0e' % x).to_latex())"
   ]
  },
  {
   "cell_type": "code",
   "execution_count": 14,
   "metadata": {},
   "outputs": [
    {
     "name": "stdout",
     "output_type": "stream",
     "text": [
      "\\begin{tabular}{llllll}\n",
      "\\toprule\n",
      "model & linear & PLS & lasso & ridge & kNN \\\\\n",
      "type &  &  &  &  &  \\\\\n",
      "\\midrule\n",
      "atlas 1 & 2e-35 & 1e-72 & 5e-119 & 3e-111 & 6e-02 \\\\\n",
      "atlas 2 & 7e-32 & 3e-81 & 6e-131 & 9e-96 & 7e-01 \\\\\n",
      "atlas 3 & 9e-37 & 5e-78 & 1e-118 & 3e-111 & 4e-06 \\\\\n",
      "atlas 4 & 3e-41 & 1e-76 & 1e-131 & 1e-103 & 9e-01 \\\\\n",
      "atlas 5 & 1e-58 & 2e-111 & 2e-100 & 3e-137 & 1e-04 \\\\\n",
      "atlas 6 & 3e-44 & 3e-104 & 5e-158 & 3e-104 & 2e-11 \\\\\n",
      "atlas 7 & 1e-49 & 1e-83 & 1e-139 & 4e-108 & 7e-03 \\\\\n",
      "atlas 8 & 2e-56 & 7e-91 & 3e-99 & 2e-91 & 2e-36 \\\\\n",
      "atlas 9 & 8e-37 & 2e-83 & 3e-79 & 4e-88 & 2e-03 \\\\\n",
      "atlas 10 & 8e-36 & 1e-54 & 5e-89 & 5e-77 & 1e-03 \\\\\n",
      "atlas 11 & 9e-46 & 1e-74 & 1e-130 & 3e-103 & 5e-23 \\\\\n",
      "atlas 12 & 9e-46 & 2e-87 & 3e-125 & 2e-126 & 3e-07 \\\\\n",
      "atlas 13 & 2e-53 & 1e-86 & 2e-151 & 2e-117 & 6e-12 \\\\\n",
      "atlas 14 & 4e-16 & 2e-61 & 6e-106 & 2e-98 & 1e-06 \\\\\n",
      "atlas 15 & 2e-22 & 1e-49 & 4e-120 & 1e-113 & 4e-02 \\\\\n",
      "atlas 16 & 5e-35 & 3e-72 & 3e-109 & 3e-110 & 2e-05 \\\\\n",
      "mean & 2e-41 & 3e-69 & 2e-130 & 1e-116 & 5e-03 \\\\\n",
      "\\bottomrule\n",
      "\\end{tabular}\n",
      "\n"
     ]
    }
   ],
   "source": [
    "print(test_diff(thigh_fs_test).applymap(lambda x: '%.0e' % x).to_latex())"
   ]
  },
  {
   "cell_type": "code",
   "execution_count": 15,
   "metadata": {},
   "outputs": [
    {
     "name": "stdout",
     "output_type": "stream",
     "text": [
      "\\begin{tabular}{llllll}\n",
      "\\toprule\n",
      "model & linear & PLS & lasso & ridge & kNN \\\\\n",
      "model &  &  &  &  &  \\\\\n",
      "\\midrule\n",
      "linear & nan & 9e-35 & 3e-73 & 5e-64 & 4e-11 \\\\\n",
      "PLS & 9e-35 & nan & 2e-65 & 1e-47 & 3e-67 \\\\\n",
      "lasso & 3e-73 & 2e-65 & nan & 5e-08 & 4e-103 \\\\\n",
      "ridge & 5e-64 & 1e-47 & 5e-08 & nan & 5e-99 \\\\\n",
      "kNN & 4e-11 & 3e-67 & 4e-103 & 5e-99 & nan \\\\\n",
      "\\bottomrule\n",
      "\\end{tabular}\n",
      "\n"
     ]
    }
   ],
   "source": [
    "print(test_diff_cross(thigh_fs_test.loc[['multi-atlas']]).applymap(lambda x: '%.0e' % x).to_latex())"
   ]
  },
  {
   "cell_type": "markdown",
   "metadata": {},
   "source": [
    "## Breast $r^2$ results"
   ]
  },
  {
   "cell_type": "code",
   "execution_count": 16,
   "metadata": {},
   "outputs": [
    {
     "name": "stdout",
     "output_type": "stream",
     "text": [
      "\\begin{tabular}{lrrrrrrrrrr}\n",
      "\\toprule\n",
      " & \\multicolumn{5}{r}{feature selection} & \\multicolumn{5}{r}{no feature selection} \\\\\n",
      " & linear & PLS & lasso & ridge & kNN & linear & PLS & lasso & ridge & kNN \\\\\n",
      "type &  &  &  &  &  &  &  &  &  &  \\\\\n",
      "\\midrule\n",
      "atlas 1 & 0.885900 & 0.881600 & 0.879000 & 0.894300 & 0.849600 & 0.752000 & 0.862600 & 0.859900 & 0.871800 & 0.652100 \\\\\n",
      "atlas 2 & 0.877900 & 0.882100 & 0.871100 & 0.849900 & 0.831100 & 0.721100 & 0.831400 & 0.821400 & 0.827200 & 0.650000 \\\\\n",
      "atlas 3 & 0.918400 & 0.907000 & 0.918600 & 0.913600 & 0.814100 & 0.615000 & 0.877200 & 0.873500 & 0.877800 & 0.671400 \\\\\n",
      "atlas 4 & 0.883000 & 0.901700 & 0.880200 & 0.911100 & 0.760900 & 0.817700 & 0.860800 & 0.878600 & 0.880500 & 0.635800 \\\\\n",
      "atlas 5 & 0.910000 & 0.901700 & 0.896100 & 0.905900 & 0.826700 & 0.646100 & 0.865700 & 0.858500 & 0.863300 & 0.689700 \\\\\n",
      "atlas 6 & 0.894200 & 0.895800 & 0.893600 & 0.895800 & 0.835000 & 0.779000 & 0.878700 & 0.878500 & 0.879200 & 0.712300 \\\\\n",
      "atlas 7 & 0.910400 & 0.910300 & 0.908300 & 0.910700 & 0.845600 & 0.733300 & 0.861100 & 0.848200 & 0.866700 & 0.680700 \\\\\n",
      "atlas 8 & 0.804400 & 0.798100 & 0.807400 & 0.805000 & 0.676900 & 0.629100 & 0.764300 & 0.729900 & 0.757700 & 0.449400 \\\\\n",
      "atlas 9 & 0.887400 & 0.898900 & 0.907100 & 0.903300 & 0.821600 & 0.748700 & 0.874500 & 0.868300 & 0.875000 & 0.578000 \\\\\n",
      "atlas 10 & 0.884700 & 0.894000 & 0.903100 & 0.902800 & 0.742900 & 0.812600 & 0.849800 & 0.864000 & 0.850700 & 0.570800 \\\\\n",
      "atlas 11 & 0.909000 & 0.908500 & 0.900000 & 0.898700 & 0.849600 & 0.755200 & 0.880600 & 0.883700 & 0.889200 & 0.720300 \\\\\n",
      "atlas 12 & 0.903800 & 0.911700 & 0.898600 & 0.910800 & 0.819000 & 0.600200 & 0.881000 & 0.865900 & 0.870400 & 0.676200 \\\\\n",
      "atlas 13 & 0.894300 & 0.897700 & 0.896300 & 0.896300 & 0.838500 & 0.758000 & 0.886600 & 0.879400 & 0.884100 & 0.676500 \\\\\n",
      "atlas 14 & 0.900300 & 0.888500 & 0.904900 & 0.900800 & 0.817200 & 0.771800 & 0.864400 & 0.851400 & 0.866400 & 0.589600 \\\\\n",
      "atlas 15 & 0.907300 & 0.904800 & 0.905200 & 0.898300 & 0.815200 & 0.721400 & 0.859900 & 0.851100 & 0.863000 & 0.618900 \\\\\n",
      "atlas 16 & 0.897600 & 0.898700 & 0.905300 & 0.906000 & 0.835600 & 0.622800 & 0.850800 & 0.855100 & 0.865600 & 0.558400 \\\\\n",
      "multi-atlas & 0.957800 & 0.959000 & 0.992900 & 0.995100 & 0.856500 & 0.730000 & 0.851000 & 0.865400 & 0.809400 & 0.672400 \\\\\n",
      "mean & 0.907800 & 0.906200 & 0.911500 & 0.914300 & 0.855400 & 0.796100 & 0.883700 & 0.893200 & 0.891000 & 0.727800 \\\\\n",
      "\\bottomrule\n",
      "\\end{tabular}\n",
      "\n"
     ]
    }
   ],
   "source": [
    "breast_fs_results= breast_fs.pivot(index='type', columns='model', values='r2_1')\n",
    "breast_fs_results= breast_fs_results.rename(rename_dict_regr, axis='columns')\n",
    "breast_fs_results= breast_fs_results.rename(rename_dict_type)\n",
    "breast_fs_results= breast_fs_results.apply(lambda x: np.round(x, 4))\n",
    "breast_fs_results= breast_fs_results.loc[row_order, col_order]\n",
    "\n",
    "breast_no_fs_results= breast_no_fs.pivot(index='type', columns='model', values='r2_1')\n",
    "breast_no_fs_results= breast_no_fs_results.rename(rename_dict_regr, axis='columns')\n",
    "breast_no_fs_results= breast_no_fs_results.rename(rename_dict_type)\n",
    "breast_no_fs_results= breast_no_fs_results.apply(lambda x: np.round(x, 4))\n",
    "breast_no_fs_results= breast_no_fs_results.loc[row_order, col_order]\n",
    "\n",
    "breast_all= pd.concat([breast_fs_results, breast_no_fs_results], axis='columns')\n",
    "columns= pd.MultiIndex.from_product([['feature selection', 'no feature selection'], col_order])\n",
    "breast_all.columns= columns\n",
    "\n",
    "print(breast_all.to_latex())"
   ]
  },
  {
   "cell_type": "code",
   "execution_count": 17,
   "metadata": {},
   "outputs": [],
   "source": [
    "with open(path_breast_latex, 'w') as f:\n",
    "    f.write(latex_template.format(breast_all.to_latex()))"
   ]
  },
  {
   "cell_type": "markdown",
   "metadata": {},
   "source": [
    "## Breast RMSE results"
   ]
  },
  {
   "cell_type": "code",
   "execution_count": 18,
   "metadata": {},
   "outputs": [
    {
     "name": "stdout",
     "output_type": "stream",
     "text": [
      "\\begin{tabular}{lrrrrrrrrrr}\n",
      "\\toprule\n",
      " & \\multicolumn{5}{r}{feature selection} & \\multicolumn{5}{r}{no feature selection} \\\\\n",
      " & linear & PLS & lasso & ridge & kNN & linear & PLS & lasso & ridge & kNN \\\\\n",
      "type &  &  &  &  &  &  &  &  &  &  \\\\\n",
      "\\midrule\n",
      "atlas 1 & 19.542400 & 19.907000 & 20.121800 & 18.806800 & 22.431400 & 28.803300 & 21.444500 & 21.654000 & 20.710200 & 34.118400 \\\\\n",
      "atlas 2 & 20.212500 & 19.865800 & 20.763700 & 22.407300 & 23.770300 & 30.546800 & 23.747900 & 24.443500 & 24.045900 & 34.223400 \\\\\n",
      "atlas 3 & 16.519500 & 17.635600 & 16.500900 & 17.002800 & 24.940100 & 35.892600 & 20.267700 & 20.576000 & 20.221200 & 33.159700 \\\\\n",
      "atlas 4 & 19.786000 & 18.139400 & 20.021000 & 17.247800 & 28.281600 & 24.698900 & 21.582300 & 20.153800 & 19.998200 & 34.908300 \\\\\n",
      "atlas 5 & 17.352500 & 18.136100 & 18.647300 & 17.746900 & 24.076800 & 34.411800 & 21.199000 & 21.761900 & 21.383100 & 32.223800 \\\\\n",
      "atlas 6 & 18.818500 & 18.672200 & 18.869500 & 18.669700 & 23.493900 & 27.195000 & 20.142700 & 20.159600 & 20.101700 & 31.028000 \\\\\n",
      "atlas 7 & 17.314400 & 17.326400 & 17.515000 & 17.285500 & 22.730500 & 29.871300 & 21.558500 & 22.539900 & 21.117700 & 32.685500 \\\\\n",
      "atlas 8 & 25.580700 & 25.992400 & 25.383500 & 25.542600 & 32.881100 & 35.227800 & 28.083100 & 30.059700 & 28.473100 & 42.922600 \\\\\n",
      "atlas 9 & 19.409900 & 18.393100 & 17.629000 & 17.989600 & 24.433200 & 28.997400 & 20.495000 & 20.989800 & 20.450100 & 37.575800 \\\\\n",
      "atlas 10 & 19.645300 & 18.836300 & 18.003300 & 18.030800 & 29.331900 & 25.042500 & 22.418500 & 21.335700 & 22.352500 & 37.897300 \\\\\n",
      "atlas 11 & 17.452900 & 17.497800 & 18.289400 & 18.411500 & 22.432800 & 28.619400 & 19.989800 & 19.726900 & 19.250200 & 30.591600 \\\\\n",
      "atlas 12 & 17.939600 & 17.189100 & 18.420800 & 17.278600 & 24.609500 & 36.576500 & 19.952400 & 21.179000 & 20.824300 & 32.915000 \\\\\n",
      "atlas 13 & 18.809600 & 18.504400 & 18.630300 & 18.629700 & 23.243800 & 28.458000 & 19.482700 & 20.085100 & 19.693700 & 32.900500 \\\\\n",
      "atlas 14 & 18.265700 & 19.317000 & 17.839200 & 18.221300 & 24.731300 & 27.634200 & 21.301400 & 22.298700 & 21.141400 & 37.057200 \\\\\n",
      "atlas 15 & 17.607100 & 17.844700 & 17.805800 & 18.451100 & 24.865000 & 30.531000 & 21.647600 & 22.323600 & 21.410300 & 35.707900 \\\\\n",
      "atlas 16 & 18.506000 & 18.409400 & 17.798300 & 17.732900 & 23.455800 & 35.525200 & 22.342600 & 22.017400 & 21.206200 & 38.438200 \\\\\n",
      "multi-atlas & 11.879100 & 11.716400 & 4.867800 & 4.035600 & 21.908400 & 30.058300 & 22.327700 & 21.221700 & 25.255400 & 33.106900 \\\\\n",
      "mean & 17.561000 & 17.719300 & 17.209100 & 16.934700 & 21.998200 & 26.121500 & 19.722800 & 18.904400 & 19.094100 & 30.178000 \\\\\n",
      "\\bottomrule\n",
      "\\end{tabular}\n",
      "\n"
     ]
    }
   ],
   "source": [
    "breast_fs_results_rmse= breast_fs.pivot(index='type', columns='model', values='rmse_1')\n",
    "breast_fs_results_rmse= breast_fs_results_rmse.rename(rename_dict_regr, axis='columns')\n",
    "breast_fs_results_rmse= breast_fs_results_rmse.rename(rename_dict_type)\n",
    "breast_fs_results_rmse= breast_fs_results_rmse.apply(lambda x: np.round(x, 4))\n",
    "breast_fs_results_rmse= breast_fs_results_rmse.loc[row_order, col_order]\n",
    "\n",
    "breast_no_fs_results_rmse= breast_no_fs.pivot(index='type', columns='model', values='rmse_1')\n",
    "breast_no_fs_results_rmse= breast_no_fs_results_rmse.rename(rename_dict_regr, axis='columns')\n",
    "breast_no_fs_results_rmse= breast_no_fs_results_rmse.rename(rename_dict_type)\n",
    "breast_no_fs_results_rmse= breast_no_fs_results_rmse.apply(lambda x: np.round(x, 4))\n",
    "breast_no_fs_results_rmse= breast_no_fs_results_rmse.loc[row_order, col_order]\n",
    "\n",
    "breast_all_rmse= pd.concat([breast_fs_results_rmse, breast_no_fs_results_rmse], axis='columns')\n",
    "columns= pd.MultiIndex.from_product([['feature selection', 'no feature selection'], col_order])\n",
    "breast_all_rmse.columns= columns\n",
    "\n",
    "print(breast_all_rmse.to_latex())"
   ]
  },
  {
   "cell_type": "code",
   "execution_count": 19,
   "metadata": {},
   "outputs": [],
   "source": [
    "with open(path_breast_rmse_latex, 'w') as f:\n",
    "    f.write(latex_template.format(breast_all_rmse.to_latex()))"
   ]
  },
  {
   "cell_type": "markdown",
   "metadata": {},
   "source": [
    "## t-test breast"
   ]
  },
  {
   "cell_type": "code",
   "execution_count": 20,
   "metadata": {},
   "outputs": [],
   "source": [
    "breast_fs['diff']= (breast_fs['y_pred_1'] - breast_fs['y_test_1'])**2\n",
    "breast_fs_test= breast_fs.pivot(index='type', columns='model', values='diff')\n",
    "breast_fs_test= breast_fs_test.rename(rename_dict_regr, axis='columns')\n",
    "breast_fs_test= breast_fs_test.rename(rename_dict_type)\n",
    "breast_fs_test= breast_fs_test.loc[row_order, col_order]\n",
    "\n",
    "breast_no_fs['diff']= (breast_no_fs['y_pred_1'] - breast_no_fs['y_test_1'])**2\n",
    "breast_no_fs_test= breast_no_fs.pivot(index='type', columns='model', values='diff')\n",
    "breast_no_fs_test= breast_no_fs_test.rename(rename_dict_regr, axis='columns')\n",
    "breast_no_fs_test= breast_no_fs_test.rename(rename_dict_type)\n",
    "breast_no_fs_test= breast_no_fs_test.loc[row_order, col_order]"
   ]
  },
  {
   "cell_type": "code",
   "execution_count": 21,
   "metadata": {},
   "outputs": [
    {
     "name": "stdout",
     "output_type": "stream",
     "text": [
      "\\begin{tabular}{llllll}\n",
      "\\toprule\n",
      "model & linear & PLS & lasso & ridge & kNN \\\\\n",
      "type &  &  &  &  &  \\\\\n",
      "\\midrule\n",
      "atlas 1 & 7e-36 & 5e-08 & 4e-08 & 3e-16 & 5e-36 \\\\\n",
      "atlas 2 & 3e-46 & 8e-13 & 1e-10 & 3e-03 & 2e-40 \\\\\n",
      "atlas 3 & 2e-09 & 2e-10 & 8e-26 & 1e-16 & 2e-16 \\\\\n",
      "atlas 4 & 7e-10 & 6e-22 & 7e-01 & 7e-19 & 5e-30 \\\\\n",
      "atlas 5 & 5e-12 & 2e-13 & 2e-10 & 2e-13 & 2e-42 \\\\\n",
      "atlas 6 & 2e-38 & 2e-16 & 2e-09 & 2e-23 & 3e-30 \\\\\n",
      "atlas 7 & 2e-43 & 7e-18 & 3e-24 & 8e-19 & 3e-62 \\\\\n",
      "atlas 8 & 2e-33 & 1e-06 & 2e-18 & 2e-24 & 1e-63 \\\\\n",
      "atlas 9 & 9e-25 & 4e-11 & 6e-16 & 5e-22 & 5e-51 \\\\\n",
      "atlas 10 & 1e-18 & 2e-16 & 2e-30 & 3e-20 & 2e-32 \\\\\n",
      "atlas 11 & 1e-23 & 3e-10 & 2e-11 & 4e-04 & 1e-32 \\\\\n",
      "atlas 12 & 4e-16 & 5e-15 & 5e-08 & 2e-13 & 2e-26 \\\\\n",
      "atlas 13 & 5e-40 & 2e-08 & 3e-11 & 2e-07 & 7e-52 \\\\\n",
      "atlas 14 & 4e-36 & 1e-14 & 8e-24 & 2e-32 & 6e-41 \\\\\n",
      "atlas 15 & 7e-12 & 8e-16 & 3e-29 & 3e-29 & 3e-55 \\\\\n",
      "atlas 16 & 6e-11 & 8e-23 & 6e-32 & 6e-28 & 2e-56 \\\\\n",
      "multi-atlas & 6e-69 & 2e-59 & 8e-69 & 1e-82 & 2e-51 \\\\\n",
      "mean & 3e-23 & 2e-08 & 2e-13 & 7e-26 & 1e-25 \\\\\n",
      "\\bottomrule\n",
      "\\end{tabular}\n",
      "\n"
     ]
    }
   ],
   "source": [
    "print(test_compare(breast_fs_test, breast_no_fs_test).applymap(lambda x: '%.0e' % x).to_latex())"
   ]
  },
  {
   "cell_type": "code",
   "execution_count": 22,
   "metadata": {},
   "outputs": [
    {
     "name": "stdout",
     "output_type": "stream",
     "text": [
      "\\begin{tabular}{llllll}\n",
      "\\toprule\n",
      "model & linear & PLS & lasso & ridge & kNN \\\\\n",
      "type &  &  &  &  &  \\\\\n",
      "\\midrule\n",
      "atlas 1 & 1e-57 & 1e-58 & 2e-115 & 1e-108 & 7e-02 \\\\\n",
      "atlas 2 & 1e-55 & 4e-56 & 2e-99 & 9e-88 & 3e-08 \\\\\n",
      "atlas 3 & 4e-32 & 5e-62 & 4e-112 & 6e-96 & 6e-12 \\\\\n",
      "atlas 4 & 9e-66 & 1e-58 & 3e-78 & 1e-128 & 2e-35 \\\\\n",
      "atlas 5 & 3e-43 & 3e-55 & 1e-91 & 1e-135 & 6e-16 \\\\\n",
      "atlas 6 & 1e-56 & 3e-56 & 9e-118 & 3e-112 & 2e-05 \\\\\n",
      "atlas 7 & 4e-40 & 5e-59 & 1e-92 & 1e-101 & 1e-01 \\\\\n",
      "atlas 8 & 6e-97 & 1e-76 & 7e-124 & 3e-99 & 5e-30 \\\\\n",
      "atlas 9 & 2e-59 & 1e-58 & 4e-98 & 2e-116 & 4e-10 \\\\\n",
      "atlas 10 & 1e-31 & 2e-42 & 6e-81 & 3e-84 & 2e-24 \\\\\n",
      "atlas 11 & 2e-45 & 1e-54 & 6e-116 & 2e-103 & 2e-01 \\\\\n",
      "atlas 12 & 2e-48 & 2e-46 & 4e-76 & 6e-101 & 3e-14 \\\\\n",
      "atlas 13 & 1e-50 & 1e-52 & 5e-80 & 1e-84 & 4e-04 \\\\\n",
      "atlas 14 & 6e-38 & 8e-63 & 7e-98 & 3e-94 & 2e-14 \\\\\n",
      "atlas 15 & 9e-34 & 1e-53 & 3e-84 & 2e-98 & 2e-16 \\\\\n",
      "atlas 16 & 3e-48 & 5e-55 & 1e-101 & 9e-103 & 9e-03 \\\\\n",
      "mean & 1e-41 & 7e-51 & 3e-94 & 8e-108 & 8e-01 \\\\\n",
      "\\bottomrule\n",
      "\\end{tabular}\n",
      "\n"
     ]
    }
   ],
   "source": [
    "print(test_diff(breast_fs_test).applymap(lambda x: '%.0e' % x).to_latex())"
   ]
  },
  {
   "cell_type": "code",
   "execution_count": 23,
   "metadata": {},
   "outputs": [
    {
     "name": "stdout",
     "output_type": "stream",
     "text": [
      "\\begin{tabular}{llllll}\n",
      "\\toprule\n",
      "model & linear & PLS & lasso & ridge & kNN \\\\\n",
      "model &  &  &  &  &  \\\\\n",
      "\\midrule\n",
      "linear & nan & 6e-01 & 5e-40 & 2e-44 & 3e-77 \\\\\n",
      "PLS & 6e-01 & nan & 1e-67 & 2e-77 & 2e-83 \\\\\n",
      "lasso & 5e-40 & 1e-67 & nan & 7e-12 & 2e-117 \\\\\n",
      "ridge & 2e-44 & 2e-77 & 7e-12 & nan & 3e-119 \\\\\n",
      "kNN & 3e-77 & 2e-83 & 2e-117 & 3e-119 & nan \\\\\n",
      "\\bottomrule\n",
      "\\end{tabular}\n",
      "\n"
     ]
    }
   ],
   "source": [
    "print(test_diff_cross(breast_fs_test.loc[['multi-atlas']]).applymap(lambda x: '%.0e' % x).to_latex())"
   ]
  },
  {
   "cell_type": "code",
   "execution_count": null,
   "metadata": {},
   "outputs": [],
   "source": []
  }
 ],
 "metadata": {
  "kernelspec": {
   "display_name": "Python 3 (ipykernel)",
   "language": "python",
   "name": "python3"
  },
  "language_info": {
   "codemirror_mode": {
    "name": "ipython",
    "version": 3
   },
   "file_extension": ".py",
   "mimetype": "text/x-python",
   "name": "python",
   "nbconvert_exporter": "python",
   "pygments_lexer": "ipython3",
   "version": "3.10.13"
  }
 },
 "nbformat": 4,
 "nbformat_minor": 4
}
