{
 "cells": [
  {
   "cell_type": "code",
   "execution_count": 1,
   "metadata": {},
   "outputs": [],
   "source": [
    "import numpy as np\n",
    "import pandas as pd\n",
    "import pickle\n",
    "import xgboost\n",
    "import os\n",
    "from scipy.stats import ttest_1samp, ttest_ind, ttest_rel\n",
    "from config import path_prefix_results\n",
    "import warnings\n",
    "\n",
    "warnings.filterwarnings('ignore')\n"
   ]
  },
  {
   "cell_type": "code",
   "execution_count": 2,
   "metadata": {},
   "outputs": [],
   "source": [
    "#latex output setup\n",
    "latex_template = r'''\\documentclass[a4paper]{{article}}\n",
    "\\usepackage{{booktabs}}\n",
    "\\usepackage{{pdflscape}}\n",
    "\\begin{{document}}\n",
    "\\thispagestyle{{empty}}\n",
    "\\begin{{landscape}}\n",
    "{}\n",
    "\\end{{landscape}}\n",
    "\\end{{document}}\n",
    "'''\n",
    "\n",
    "path_breast_latex= os.path.join(path_prefix_results, 'breast.tex')\n",
    "path_thigh_latex= os.path.join(path_prefix_results, 'thigh.tex')"
   ]
  },
  {
   "cell_type": "code",
   "execution_count": 3,
   "metadata": {},
   "outputs": [],
   "source": [
    "def test_diff_cross(df, row='multi-atlas'):\n",
    "    tmp= pd.DataFrame(index=df.columns, columns=df.columns)\n",
    "    for i in df.columns:\n",
    "        for j in df.columns:\n",
    "            tmp.loc[i,j]= ttest_rel(np.abs(df.loc[row, i]), np.abs(df.loc[row, j]))[1]\n",
    "    return tmp\n",
    "\n",
    "def test_diff(df, col='multi-atlas'):\n",
    "    tmp= pd.DataFrame(index=df.index, columns=df.columns)\n",
    "    for i in df.index:\n",
    "        for j in df.columns:\n",
    "            tmp.loc[i,j]= ttest_rel(np.abs(df.loc[i, j]), np.abs(df.loc[col, j]))[1]\n",
    "    tmp= tmp.drop(col, axis='rows')\n",
    "    return tmp\n",
    "\n",
    "def test_compare(df0, df1):\n",
    "    tmp= pd.DataFrame(index=df0.index, columns=df0.columns)\n",
    "    for i in df0.index:\n",
    "        for j in df0.columns:\n",
    "            tmp.loc[i,j]= ttest_rel(np.abs(df0.loc[i, j]), np.abs(df1.loc[i, j]))[1]\n",
    "    return tmp"
   ]
  },
  {
   "cell_type": "code",
   "execution_count": 4,
   "metadata": {},
   "outputs": [],
   "source": [
    "data_fs= pickle.load(open(os.path.join(path_prefix_results,'results.pickle'), 'rb'))\n",
    "data_no_fs= pickle.load(open(os.path.join(path_prefix_results,'results_no_fs.pickle'), 'rb'))"
   ]
  },
  {
   "cell_type": "code",
   "execution_count": 5,
   "metadata": {},
   "outputs": [],
   "source": [
    "thigh_fs= data_fs[data_fs['dataset'] == 'thigh']\n",
    "breast_fs= data_fs[data_fs['dataset'] == 'breast']\n",
    "\n",
    "thigh_no_fs= data_no_fs[data_no_fs['dataset'] == 'thigh']\n",
    "breast_no_fs= data_no_fs[data_no_fs['dataset'] == 'breast']"
   ]
  },
  {
   "cell_type": "code",
   "execution_count": 6,
   "metadata": {},
   "outputs": [
    {
     "name": "stdout",
     "output_type": "stream",
     "text": [
      "['074k', '075a', '075k', '077k', '079k', '080k', '082k', '083a', '083k', '084a', '087f', '088f', '088k', '090a', '091f', '092k', 'all', 'mean_mask']\n"
     ]
    }
   ],
   "source": [
    "print(sorted(thigh_fs['type'].unique()))"
   ]
  },
  {
   "cell_type": "code",
   "execution_count": 7,
   "metadata": {},
   "outputs": [
    {
     "name": "stdout",
     "output_type": "stream",
     "text": [
      "{'074k': 'atlas 1', '075a': 'atlas 2', '075k': 'atlas 3', '077k': 'atlas 4', '079k': 'atlas 5', '080k': 'atlas 6', '082k': 'atlas 7', '083a': 'atlas 8', '083k': 'atlas 9', '084a': 'atlas 10', '087f': 'atlas 11', '088f': 'atlas 12', '088k': 'atlas 13', '090a': 'atlas 14', '091f': 'atlas 15', '092k': 'atlas 16', 'all': 'multi-atlas', 'mean_mask': 'mean'}\n",
      "\\begin{tabular}{lrrrrrrrrrr}\n",
      "\\toprule\n",
      " & \\multicolumn{5}{r}{feature selection} & \\multicolumn{5}{r}{no feature selection} \\\\\n",
      " & linear & PLS & lasso & ridge & kNN & linear & PLS & lasso & ridge & kNN \\\\\n",
      "type &  &  &  &  &  &  &  &  &  &  \\\\\n",
      "\\midrule\n",
      "atlas 1 & 0.518700 & 0.566200 & 0.556100 & 0.568600 & 0.572500 & 0.042900 & 0.472300 & 0.484900 & 0.477300 & 0.354800 \\\\\n",
      "atlas 2 & 0.484500 & 0.510400 & 0.501000 & 0.518800 & 0.442600 & -0.174600 & 0.446000 & 0.434300 & 0.399700 & 0.360000 \\\\\n",
      "atlas 3 & 0.329100 & 0.332600 & 0.328600 & 0.340400 & 0.323400 & -1.876700 & 0.223700 & 0.273400 & 0.233900 & 0.257900 \\\\\n",
      "atlas 4 & 0.576000 & 0.583300 & 0.587500 & 0.576100 & 0.653200 & 0.028200 & 0.476900 & 0.485700 & 0.454100 & 0.382000 \\\\\n",
      "atlas 5 & 0.543500 & 0.650400 & 0.627600 & 0.543500 & 0.537600 & 0.321700 & 0.523900 & 0.462700 & 0.544900 & 0.346700 \\\\\n",
      "atlas 6 & 0.567900 & 0.564000 & 0.557900 & 0.631500 & 0.574000 & 0.211800 & 0.442300 & 0.478800 & 0.521100 & 0.393100 \\\\\n",
      "atlas 7 & 0.542100 & 0.556700 & 0.550200 & 0.542100 & 0.610000 & -0.024200 & 0.432900 & 0.443600 & 0.459800 & 0.355500 \\\\\n",
      "atlas 8 & 0.157300 & 0.281700 & 0.273700 & 0.283700 & 0.350300 & -0.693700 & 0.123500 & 0.112800 & 0.125000 & 0.206300 \\\\\n",
      "atlas 9 & 0.221700 & 0.161000 & 0.224800 & 0.226600 & 0.338200 & -7.911200 & -0.525600 & -0.037100 & -0.548700 & 0.183300 \\\\\n",
      "atlas 10 & 0.545800 & 0.581000 & 0.598400 & 0.557900 & 0.612500 & 0.013200 & 0.441400 & 0.447400 & 0.456300 & 0.373500 \\\\\n",
      "atlas 11 & 0.456700 & 0.530600 & 0.519000 & 0.457800 & 0.543100 & -0.369300 & 0.400700 & 0.395600 & 0.393700 & 0.272100 \\\\\n",
      "atlas 12 & 0.550600 & 0.586900 & 0.588500 & 0.566900 & 0.589800 & 0.055700 & 0.513400 & 0.482800 & 0.500000 & 0.353300 \\\\\n",
      "atlas 13 & 0.466400 & 0.476800 & 0.466100 & 0.483100 & 0.559100 & -0.452300 & 0.392000 & 0.366400 & 0.358400 & 0.337900 \\\\\n",
      "atlas 14 & 0.652600 & 0.634300 & 0.641400 & 0.646900 & 0.590800 & 0.175700 & 0.542700 & 0.523500 & 0.551600 & 0.373500 \\\\\n",
      "atlas 15 & 0.624500 & 0.642300 & 0.654100 & 0.656000 & 0.631400 & -0.022700 & 0.524200 & 0.534300 & 0.501900 & 0.390300 \\\\\n",
      "atlas 16 & 0.218100 & 0.276100 & 0.356400 & 0.401100 & 0.341000 & -0.478300 & 0.060300 & 0.106100 & 0.096700 & 0.234600 \\\\\n",
      "multi-atlas & 0.976300 & 0.757000 & 0.977700 & 0.993300 & 0.708600 & 0.099300 & 0.448700 & 0.433200 & 0.287700 & 0.439100 \\\\\n",
      "mean & 0.570900 & 0.584700 & 0.635500 & 0.573400 & 0.623400 & 0.265200 & 0.465000 & 0.494000 & 0.499600 & 0.381400 \\\\\n",
      "\\bottomrule\n",
      "\\end{tabular}\n",
      "\n"
     ]
    }
   ],
   "source": [
    "rename_dict_regr= {'KNNR_Objective': 'kNN', 'LinearRegression_Objective': 'linear', 'PLSRegression_Objective': 'PLS', 'RidgeRegression_Objective': 'ridge', 'LassoRegression_Objective': 'lasso'}\n",
    "#rename_dict_type= {'203a': 'atlas 1', '203k': 'atlas 2', '204f': 'atlas 3', '206k': 'atlas 4', '208f': 'atlas 5', 'all': 'multi-atlas', 'mean_mask': 'mean'}\n",
    "#row_order= ['atlas 1', 'atlas 2', 'atlas 3', 'atlas 4', 'atlas 5', 'mean', 'multi-atlas']\n",
    "rename_dict_type= sorted(thigh_fs['type'].unique())\n",
    "rename_dict_type= dict(map(lambda x, i: (x, f\"atlas {i+1}\"), rename_dict_type,  range(len(rename_dict_type))))\n",
    "rename_dict_type['all']= \"multi-atlas\"\n",
    "rename_dict_type['mean_mask'] = \"mean\"\n",
    "print(rename_dict_type)\n",
    "row_order= list(rename_dict_type.values())\n",
    "col_order= ['linear', 'PLS', 'lasso', 'ridge', 'kNN']\n",
    "\n",
    "thigh_fs_results= thigh_fs.pivot(index='type', columns='model', values='r2_1')\n",
    "thigh_fs_results= thigh_fs_results.rename(rename_dict_regr, axis='columns')\n",
    "thigh_fs_results= thigh_fs_results.rename(rename_dict_type)\n",
    "thigh_fs_results= thigh_fs_results.apply(lambda x: np.round(x, 4))\n",
    "thigh_fs_results= thigh_fs_results.loc[row_order, col_order]\n",
    "\n",
    "thigh_no_fs_results= thigh_no_fs.pivot(index='type', columns='model', values='r2_1')\n",
    "thigh_no_fs_results= thigh_no_fs_results.rename(rename_dict_regr, axis='columns')\n",
    "thigh_no_fs_results= thigh_no_fs_results.rename(rename_dict_type)\n",
    "thigh_no_fs_results= thigh_no_fs_results.apply(lambda x: np.round(x, 4))\n",
    "thigh_no_fs_results= thigh_no_fs_results.loc[row_order, col_order]\n",
    "\n",
    "thigh_all= pd.concat([thigh_fs_results, thigh_no_fs_results], axis='columns')\n",
    "columns= pd.MultiIndex.from_product([['feature selection', 'no feature selection'], col_order])\n",
    "thigh_all.columns= columns\n",
    "\n",
    "print(thigh_all.to_latex())"
   ]
  },
  {
   "cell_type": "code",
   "execution_count": 8,
   "metadata": {},
   "outputs": [],
   "source": [
    "with open(path_thigh_latex, 'w') as f:\n",
    "    f.write(latex_template.format(thigh_all.to_latex()))"
   ]
  },
  {
   "cell_type": "code",
   "execution_count": 9,
   "metadata": {},
   "outputs": [],
   "source": [
    "thigh_fs['diff']= (thigh_fs['y_pred_1'] - thigh_fs['y_test_1'])**2\n",
    "thigh_fs_test= thigh_fs.pivot(index='type', columns='model', values='diff')\n",
    "thigh_fs_test= thigh_fs_test.rename(rename_dict_regr, axis='columns')\n",
    "thigh_fs_test= thigh_fs_test.rename(rename_dict_type)\n",
    "thigh_fs_test= thigh_fs_test.loc[row_order, col_order]\n",
    "\n",
    "thigh_no_fs['diff']= (thigh_no_fs['y_pred_1'] - thigh_no_fs['y_test_1'])**2\n",
    "thigh_no_fs_test= thigh_no_fs.pivot(index='type', columns='model', values='diff')\n",
    "thigh_no_fs_test= thigh_no_fs_test.rename(rename_dict_regr, axis='columns')\n",
    "thigh_no_fs_test= thigh_no_fs_test.rename(rename_dict_type)\n",
    "thigh_no_fs_test= thigh_no_fs_test.loc[row_order, col_order]"
   ]
  },
  {
   "cell_type": "code",
   "execution_count": 10,
   "metadata": {},
   "outputs": [
    {
     "name": "stdout",
     "output_type": "stream",
     "text": [
      "\\begin{tabular}{llllll}\n",
      "\\toprule\n",
      "model & linear & PLS & lasso & ridge & kNN \\\\\n",
      "type &  &  &  &  &  \\\\\n",
      "\\midrule\n",
      "atlas 1 & 7e-28 & 4e-14 & 7e-21 & 8e-23 & 2e-25 \\\\\n",
      "atlas 2 & 4e-29 & 8e-22 & 9e-14 & 9e-19 & 9e-14 \\\\\n",
      "atlas 3 & 9e-08 & 3e-30 & 6e-15 & 5e-31 & 2e-14 \\\\\n",
      "atlas 4 & 3e-47 & 4e-23 & 5e-34 & 1e-15 & 1e-26 \\\\\n",
      "atlas 5 & 2e-14 & 2e-16 & 1e-27 & 9e-01 & 1e-33 \\\\\n",
      "atlas 6 & 3e-16 & 2e-10 & 9e-05 & 1e-13 & 9e-22 \\\\\n",
      "atlas 7 & 8e-37 & 7e-25 & 4e-13 & 7e-13 & 4e-21 \\\\\n",
      "atlas 8 & 1e-37 & 7e-12 & 7e-14 & 1e-19 & 4e-15 \\\\\n",
      "atlas 9 & 1e-01 & 2e-12 & 7e-13 & 1e-15 & 2e-21 \\\\\n",
      "atlas 10 & 3e-41 & 5e-27 & 4e-25 & 1e-12 & 1e-29 \\\\\n",
      "atlas 11 & 6e-33 & 1e-13 & 6e-12 & 3e-06 & 2e-31 \\\\\n",
      "atlas 12 & 2e-34 & 6e-11 & 5e-18 & 1e-12 & 4e-35 \\\\\n",
      "atlas 13 & 1e-37 & 2e-15 & 1e-21 & 6e-32 & 1e-29 \\\\\n",
      "atlas 14 & 3e-60 & 2e-15 & 6e-19 & 5e-15 & 6e-32 \\\\\n",
      "atlas 15 & 2e-49 & 2e-18 & 4e-22 & 3e-31 & 2e-29 \\\\\n",
      "atlas 16 & 8e-30 & 5e-19 & 2e-14 & 4e-19 & 2e-19 \\\\\n",
      "multi-atlas & 5e-64 & 9e-57 & 6e-99 & 8e-82 & 2e-53 \\\\\n",
      "mean & 4e-26 & 3e-23 & 1e-25 & 9e-09 & 5e-22 \\\\\n",
      "\\bottomrule\n",
      "\\end{tabular}\n",
      "\n"
     ]
    }
   ],
   "source": [
    "print(test_compare(thigh_fs_test, thigh_no_fs_test).applymap(lambda x: '%.0e' % x).to_latex())"
   ]
  },
  {
   "cell_type": "code",
   "execution_count": 11,
   "metadata": {},
   "outputs": [
    {
     "name": "stdout",
     "output_type": "stream",
     "text": [
      "\\begin{tabular}{llllll}\n",
      "\\toprule\n",
      "model & linear & PLS & lasso & ridge & kNN \\\\\n",
      "type &  &  &  &  &  \\\\\n",
      "\\midrule\n",
      "atlas 1 & 3e-76 & 8e-18 & 1e-64 & 5e-67 & 3e-16 \\\\\n",
      "atlas 2 & 6e-143 & 2e-58 & 8e-147 & 2e-156 & 2e-47 \\\\\n",
      "atlas 3 & 6e-99 & 3e-52 & 5e-100 & 4e-105 & 8e-48 \\\\\n",
      "atlas 4 & 3e-108 & 2e-47 & 2e-135 & 4e-117 & 1e-04 \\\\\n",
      "atlas 5 & 1e-105 & 5e-23 & 2e-125 & 6e-113 & 5e-34 \\\\\n",
      "atlas 6 & 2e-129 & 4e-55 & 2e-160 & 9e-121 & 3e-24 \\\\\n",
      "atlas 7 & 4e-112 & 1e-55 & 1e-142 & 1e-120 & 7e-10 \\\\\n",
      "atlas 8 & 7e-92 & 3e-62 & 1e-100 & 5e-99 & 8e-48 \\\\\n",
      "atlas 9 & 1e-73 & 1e-42 & 7e-77 & 6e-94 & 5e-37 \\\\\n",
      "atlas 10 & 1e-98 & 3e-28 & 3e-91 & 2e-86 & 7e-12 \\\\\n",
      "atlas 11 & 6e-131 & 1e-55 & 2e-129 & 3e-138 & 6e-20 \\\\\n",
      "atlas 12 & 3e-113 & 4e-50 & 2e-128 & 5e-143 & 5e-17 \\\\\n",
      "atlas 13 & 6e-126 & 3e-48 & 4e-127 & 5e-128 & 7e-20 \\\\\n",
      "atlas 14 & 9e-104 & 5e-28 & 2e-107 & 2e-115 & 3e-15 \\\\\n",
      "atlas 15 & 8e-76 & 3e-19 & 2e-122 & 8e-133 & 3e-08 \\\\\n",
      "atlas 16 & 2e-128 & 3e-76 & 1e-121 & 7e-141 & 2e-58 \\\\\n",
      "mean & 1e-98 & 8e-45 & 1e-85 & 2e-116 & 2e-08 \\\\\n",
      "\\bottomrule\n",
      "\\end{tabular}\n",
      "\n"
     ]
    }
   ],
   "source": [
    "print(test_diff(thigh_fs_test).applymap(lambda x: '%.0e' % x).to_latex())"
   ]
  },
  {
   "cell_type": "code",
   "execution_count": 12,
   "metadata": {},
   "outputs": [
    {
     "name": "stdout",
     "output_type": "stream",
     "text": [
      "\\begin{tabular}{llllll}\n",
      "\\toprule\n",
      "model & linear & PLS & lasso & ridge & kNN \\\\\n",
      "model &  &  &  &  &  \\\\\n",
      "\\midrule\n",
      "linear & nan & 1e-86 & 4e-01 & 3e-43 & 3e-111 \\\\\n",
      "PLS & 1e-86 & nan & 7e-90 & 3e-100 & 4e-05 \\\\\n",
      "lasso & 4e-01 & 7e-90 & nan & 2e-39 & 1e-113 \\\\\n",
      "ridge & 3e-43 & 3e-100 & 2e-39 & nan & 2e-123 \\\\\n",
      "kNN & 3e-111 & 4e-05 & 1e-113 & 2e-123 & nan \\\\\n",
      "\\bottomrule\n",
      "\\end{tabular}\n",
      "\n"
     ]
    }
   ],
   "source": [
    "print(test_diff_cross(thigh_fs_test.loc[['multi-atlas']]).applymap(lambda x: '%.0e' % x).to_latex())"
   ]
  },
  {
   "cell_type": "code",
   "execution_count": 13,
   "metadata": {},
   "outputs": [
    {
     "name": "stdout",
     "output_type": "stream",
     "text": [
      "\\begin{tabular}{lrrrrrrrrrr}\n",
      "\\toprule\n",
      " & \\multicolumn{5}{r}{feature selection} & \\multicolumn{5}{r}{no feature selection} \\\\\n",
      " & linear & PLS & lasso & ridge & kNN & linear & PLS & lasso & ridge & kNN \\\\\n",
      "type &  &  &  &  &  &  &  &  &  &  \\\\\n",
      "\\midrule\n",
      "atlas 1 & 0.830500 & 0.837100 & 0.838500 & 0.844100 & 0.768900 & 0.566500 & 0.789500 & 0.801800 & 0.790500 & 0.695600 \\\\\n",
      "atlas 2 & 0.564300 & 0.564700 & 0.547600 & 0.569600 & 0.540900 & 0.084600 & 0.403300 & 0.375200 & 0.409600 & 0.369500 \\\\\n",
      "atlas 3 & 0.754100 & 0.706600 & 0.743400 & 0.755400 & 0.504000 & 0.417300 & 0.648200 & 0.652200 & 0.650000 & 0.286100 \\\\\n",
      "atlas 4 & 0.883000 & 0.901700 & 0.880200 & 0.911100 & 0.760900 & 0.817700 & 0.860800 & 0.878600 & 0.880500 & 0.635800 \\\\\n",
      "atlas 5 & 0.916400 & 0.916000 & 0.904100 & 0.916900 & 0.828300 & 0.850200 & 0.875600 & 0.878600 & 0.882900 & 0.643600 \\\\\n",
      "atlas 6 & 0.894200 & 0.895800 & 0.893600 & 0.895800 & 0.835000 & 0.779000 & 0.878700 & 0.878500 & 0.879200 & 0.712300 \\\\\n",
      "atlas 7 & 0.910400 & 0.910300 & 0.908300 & 0.910700 & 0.845600 & 0.733300 & 0.861100 & 0.848200 & 0.866700 & 0.680700 \\\\\n",
      "atlas 8 & 0.804400 & 0.798100 & 0.807400 & 0.805000 & 0.676900 & 0.629100 & 0.764300 & 0.729900 & 0.757700 & 0.449400 \\\\\n",
      "atlas 9 & 0.781200 & 0.801000 & 0.798700 & 0.798600 & 0.683900 & 0.454400 & 0.772800 & 0.761100 & 0.752300 & 0.492700 \\\\\n",
      "atlas 10 & 0.884700 & 0.894000 & 0.903100 & 0.902800 & 0.742900 & 0.812600 & 0.849800 & 0.864000 & 0.850700 & 0.570800 \\\\\n",
      "atlas 11 & 0.835700 & 0.853000 & 0.835600 & 0.860100 & 0.771100 & 0.730500 & 0.815900 & 0.781900 & 0.804700 & 0.589500 \\\\\n",
      "atlas 12 & 0.903800 & 0.911700 & 0.898600 & 0.910800 & 0.819000 & 0.600200 & 0.881000 & 0.865900 & 0.870400 & 0.676200 \\\\\n",
      "atlas 13 & 0.849500 & 0.850700 & 0.853000 & 0.849000 & 0.735500 & 0.684900 & 0.796300 & 0.813500 & 0.793900 & 0.483600 \\\\\n",
      "atlas 14 & 0.900300 & 0.888500 & 0.904900 & 0.900800 & 0.817200 & 0.771800 & 0.864400 & 0.851400 & 0.866400 & 0.589600 \\\\\n",
      "atlas 15 & 0.907300 & 0.904800 & 0.905200 & 0.898300 & 0.815200 & 0.721400 & 0.859900 & 0.851100 & 0.863000 & 0.618900 \\\\\n",
      "atlas 16 & 0.772700 & 0.735500 & 0.771000 & 0.778900 & 0.622400 & 0.480700 & 0.703000 & 0.721000 & 0.710600 & 0.506900 \\\\\n",
      "multi-atlas & 0.991300 & 0.954000 & 0.990200 & 0.995300 & 0.843400 & 0.799800 & 0.850500 & 0.856100 & 0.845000 & 0.648000 \\\\\n",
      "mean & 0.895400 & 0.893900 & 0.894100 & 0.892700 & 0.846600 & 0.769300 & 0.867000 & 0.859500 & 0.870600 & 0.696800 \\\\\n",
      "\\bottomrule\n",
      "\\end{tabular}\n",
      "\n"
     ]
    }
   ],
   "source": [
    "breast_fs_results= breast_fs.pivot(index='type', columns='model', values='r2_1')\n",
    "breast_fs_results= breast_fs_results.rename(rename_dict_regr, axis='columns')\n",
    "breast_fs_results= breast_fs_results.rename(rename_dict_type)\n",
    "breast_fs_results= breast_fs_results.apply(lambda x: np.round(x, 4))\n",
    "breast_fs_results= breast_fs_results.loc[row_order, col_order]\n",
    "\n",
    "breast_no_fs_results= breast_no_fs.pivot(index='type', columns='model', values='r2_1')\n",
    "breast_no_fs_results= breast_no_fs_results.rename(rename_dict_regr, axis='columns')\n",
    "breast_no_fs_results= breast_no_fs_results.rename(rename_dict_type)\n",
    "breast_no_fs_results= breast_no_fs_results.apply(lambda x: np.round(x, 4))\n",
    "breast_no_fs_results= breast_no_fs_results.loc[row_order, col_order]\n",
    "\n",
    "breast_all= pd.concat([breast_fs_results, breast_no_fs_results], axis='columns')\n",
    "columns= pd.MultiIndex.from_product([['feature selection', 'no feature selection'], col_order])\n",
    "breast_all.columns= columns\n",
    "\n",
    "print(breast_all.to_latex())"
   ]
  },
  {
   "cell_type": "code",
   "execution_count": 14,
   "metadata": {},
   "outputs": [],
   "source": [
    "with open(path_breast_latex, 'w') as f:\n",
    "    f.write(latex_template.format(breast_all.to_latex()))"
   ]
  },
  {
   "cell_type": "code",
   "execution_count": 15,
   "metadata": {},
   "outputs": [],
   "source": [
    "breast_fs['diff']= (breast_fs['y_pred_1'] - breast_fs['y_test_1'])**2\n",
    "breast_fs_test= breast_fs.pivot(index='type', columns='model', values='diff')\n",
    "breast_fs_test= breast_fs_test.rename(rename_dict_regr, axis='columns')\n",
    "breast_fs_test= breast_fs_test.rename(rename_dict_type)\n",
    "breast_fs_test= breast_fs_test.loc[row_order, col_order]\n",
    "\n",
    "breast_no_fs['diff']= (breast_no_fs['y_pred_1'] - breast_no_fs['y_test_1'])**2\n",
    "breast_no_fs_test= breast_no_fs.pivot(index='type', columns='model', values='diff')\n",
    "breast_no_fs_test= breast_no_fs_test.rename(rename_dict_regr, axis='columns')\n",
    "breast_no_fs_test= breast_no_fs_test.rename(rename_dict_type)\n",
    "breast_no_fs_test= breast_no_fs_test.loc[row_order, col_order]"
   ]
  },
  {
   "cell_type": "code",
   "execution_count": 16,
   "metadata": {},
   "outputs": [
    {
     "name": "stdout",
     "output_type": "stream",
     "text": [
      "\\begin{tabular}{llllll}\n",
      "\\toprule\n",
      "model & linear & PLS & lasso & ridge & kNN \\\\\n",
      "type &  &  &  &  &  \\\\\n",
      "\\midrule\n",
      "atlas 1 & 8e-20 & 2e-25 & 1e-15 & 2e-23 & 6e-22 \\\\\n",
      "atlas 2 & 6e-19 & 7e-19 & 9e-15 & 6e-31 & 4e-17 \\\\\n",
      "atlas 3 & 1e-23 & 9e-25 & 5e-23 & 3e-24 & 2e-43 \\\\\n",
      "atlas 4 & 7e-10 & 6e-22 & 7e-01 & 7e-19 & 5e-30 \\\\\n",
      "atlas 5 & 5e-24 & 2e-20 & 5e-12 & 1e-18 & 9e-41 \\\\\n",
      "atlas 6 & 2e-38 & 2e-16 & 2e-09 & 2e-23 & 3e-30 \\\\\n",
      "atlas 7 & 2e-43 & 7e-18 & 3e-24 & 8e-19 & 3e-62 \\\\\n",
      "atlas 8 & 2e-33 & 1e-06 & 2e-18 & 2e-24 & 1e-63 \\\\\n",
      "atlas 9 & 1e-31 & 4e-11 & 3e-22 & 8e-17 & 2e-35 \\\\\n",
      "atlas 10 & 1e-18 & 2e-16 & 2e-30 & 3e-20 & 2e-32 \\\\\n",
      "atlas 11 & 5e-16 & 6e-12 & 5e-10 & 2e-23 & 5e-43 \\\\\n",
      "atlas 12 & 4e-16 & 5e-15 & 5e-08 & 2e-13 & 2e-26 \\\\\n",
      "atlas 13 & 5e-34 & 2e-19 & 2e-12 & 2e-24 & 3e-45 \\\\\n",
      "atlas 14 & 4e-36 & 1e-14 & 8e-24 & 2e-32 & 6e-41 \\\\\n",
      "atlas 15 & 7e-12 & 8e-16 & 3e-29 & 3e-29 & 3e-55 \\\\\n",
      "atlas 16 & 1e-56 & 7e-04 & 7e-13 & 4e-46 & 2e-17 \\\\\n",
      "multi-atlas & 3e-93 & 6e-63 & 1e-80 & 1e-104 & 6e-73 \\\\\n",
      "mean & 6e-34 & 2e-14 & 3e-18 & 1e-20 & 3e-36 \\\\\n",
      "\\bottomrule\n",
      "\\end{tabular}\n",
      "\n"
     ]
    }
   ],
   "source": [
    "print(test_compare(breast_fs_test, breast_no_fs_test).applymap(lambda x: '%.0e' % x).to_latex())"
   ]
  },
  {
   "cell_type": "code",
   "execution_count": 17,
   "metadata": {},
   "outputs": [
    {
     "name": "stdout",
     "output_type": "stream",
     "text": [
      "\\begin{tabular}{llllll}\n",
      "\\toprule\n",
      "model & linear & PLS & lasso & ridge & kNN \\\\\n",
      "type &  &  &  &  &  \\\\\n",
      "\\midrule\n",
      "atlas 1 & 2e-99 & 6e-63 & 3e-80 & 2e-95 & 6e-16 \\\\\n",
      "atlas 2 & 2e-128 & 1e-89 & 2e-100 & 2e-111 & 4e-65 \\\\\n",
      "atlas 3 & 2e-116 & 4e-127 & 1e-139 & 4e-130 & 3e-90 \\\\\n",
      "atlas 4 & 2e-115 & 2e-57 & 4e-77 & 3e-132 & 7e-29 \\\\\n",
      "atlas 5 & 2e-110 & 1e-48 & 8e-125 & 2e-153 & 5e-02 \\\\\n",
      "atlas 6 & 6e-108 & 2e-54 & 6e-115 & 5e-112 & 8e-02 \\\\\n",
      "atlas 7 & 3e-105 & 1e-51 & 2e-91 & 4e-102 & 7e-01 \\\\\n",
      "atlas 8 & 5e-122 & 5e-70 & 1e-120 & 5e-99 & 3e-25 \\\\\n",
      "atlas 9 & 6e-108 & 4e-76 & 1e-102 & 6e-117 & 6e-33 \\\\\n",
      "atlas 10 & 1e-62 & 2e-40 & 2e-76 & 5e-86 & 7e-22 \\\\\n",
      "atlas 11 & 1e-119 & 6e-65 & 1e-116 & 1e-113 & 7e-23 \\\\\n",
      "atlas 12 & 3e-85 & 2e-37 & 6e-73 & 6e-103 & 2e-05 \\\\\n",
      "atlas 13 & 2e-94 & 1e-64 & 4e-125 & 2e-100 & 1e-22 \\\\\n",
      "atlas 14 & 7e-89 & 5e-52 & 4e-96 & 5e-96 & 7e-05 \\\\\n",
      "atlas 15 & 6e-90 & 4e-41 & 4e-81 & 2e-99 & 9e-06 \\\\\n",
      "atlas 16 & 6e-121 & 4e-144 & 4e-118 & 5e-116 & 2e-49 \\\\\n",
      "mean & 2e-104 & 3e-55 & 7e-108 & 9e-117 & 5e-01 \\\\\n",
      "\\bottomrule\n",
      "\\end{tabular}\n",
      "\n"
     ]
    }
   ],
   "source": [
    "print(test_diff(breast_fs_test).applymap(lambda x: '%.0e' % x).to_latex())"
   ]
  },
  {
   "cell_type": "code",
   "execution_count": 18,
   "metadata": {},
   "outputs": [
    {
     "name": "stdout",
     "output_type": "stream",
     "text": [
      "\\begin{tabular}{llllll}\n",
      "\\toprule\n",
      "model & linear & PLS & lasso & ridge & kNN \\\\\n",
      "model &  &  &  &  &  \\\\\n",
      "\\midrule\n",
      "linear & nan & 7e-80 & 1e-01 & 2e-19 & 4e-133 \\\\\n",
      "PLS & 7e-80 & nan & 2e-80 & 4e-99 & 6e-90 \\\\\n",
      "lasso & 1e-01 & 2e-80 & nan & 4e-19 & 1e-129 \\\\\n",
      "ridge & 2e-19 & 4e-99 & 4e-19 & nan & 4e-137 \\\\\n",
      "kNN & 4e-133 & 6e-90 & 1e-129 & 4e-137 & nan \\\\\n",
      "\\bottomrule\n",
      "\\end{tabular}\n",
      "\n"
     ]
    }
   ],
   "source": [
    "print(test_diff_cross(breast_fs_test.loc[['multi-atlas']]).applymap(lambda x: '%.0e' % x).to_latex())"
   ]
  },
  {
   "cell_type": "code",
   "execution_count": null,
   "metadata": {},
   "outputs": [],
   "source": []
  }
 ],
 "metadata": {
  "kernelspec": {
   "display_name": "Python 3 (ipykernel)",
   "language": "python",
   "name": "python3"
  },
  "language_info": {
   "codemirror_mode": {
    "name": "ipython",
    "version": 3
   },
   "file_extension": ".py",
   "mimetype": "text/x-python",
   "name": "python",
   "nbconvert_exporter": "python",
   "pygments_lexer": "ipython3",
   "version": "3.10.13"
  }
 },
 "nbformat": 4,
 "nbformat_minor": 2
}
